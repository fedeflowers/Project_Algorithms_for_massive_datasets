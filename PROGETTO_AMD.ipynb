{
  "cells": [
    {
      "cell_type": "markdown",
      "metadata": {
        "id": "I75tB61RaDHK"
      },
      "source": [
        "## Spark setting"
      ]
    },
    {
      "cell_type": "code",
      "execution_count": 2,
      "metadata": {
        "id": "ocBQFMViafoF"
      },
      "outputs": [],
      "source": [
        "!apt-get install openjdk-8-jdk-headless -qq > /dev/null\n",
        "!wget -q http://www-eu.apache.org/dist/spark/spark-3.0.3/spark-3.0.3-bin-hadoop2.7.tgz\n",
        "!tar xf spark-3.0.3-bin-hadoop2.7.tgz\n",
        "!pip install -q findspark"
      ]
    },
    {
      "cell_type": "code",
      "execution_count": 3,
      "metadata": {
        "id": "wg_tN5RmkCq3"
      },
      "outputs": [],
      "source": [
        "import os\n",
        "os.environ[\"JAVA_HOME\"] = \"/usr/lib/jvm/java-8-openjdk-amd64\"\n",
        "os.environ[\"SPARK_HOME\"] = \"/content/spark-3.0.3-bin-hadoop2.7\""
      ]
    },
    {
      "cell_type": "code",
      "execution_count": 4,
      "metadata": {
        "id": "ehkhKsLqafrV"
      },
      "outputs": [],
      "source": [
        "import findspark\n",
        "findspark.init(\"spark-3.0.3-bin-hadoop2.7\")# SPARK_HOME\n",
        "from pyspark.sql import SparkSession\n",
        "spark = SparkSession.builder.master(\"local[*]\").getOrCreate()"
      ]
    },
    {
      "cell_type": "code",
      "execution_count": 5,
      "metadata": {
        "id": "AMVtczB1kLun",
        "colab": {
          "base_uri": "https://localhost:8080/"
        },
        "outputId": "866fc9c3-417c-41ef-a816-8788f75562d9"
      },
      "outputs": [
        {
          "output_type": "execute_result",
          "data": {
            "text/plain": [
              "pyspark.sql.session.SparkSession"
            ]
          },
          "metadata": {},
          "execution_count": 5
        }
      ],
      "source": [
        "import pyspark\n",
        "type(spark)"
      ]
    },
    {
      "cell_type": "markdown",
      "metadata": {
        "id": "n8WiLqFNaAbz"
      },
      "source": [
        "## Kaggle APIs"
      ]
    },
    {
      "cell_type": "markdown",
      "metadata": {
        "id": "5DCmGBC2ZoBi"
      },
      "source": [
        "________________________________________________________________________"
      ]
    },
    {
      "cell_type": "code",
      "execution_count": 6,
      "metadata": {
        "colab": {
          "base_uri": "https://localhost:8080/",
          "height": 90,
          "resources": {
            "http://localhost:8080/nbextensions/google.colab/files.js": {
              "data": "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",
              "headers": [
                [
                  "content-type",
                  "application/javascript"
                ]
              ],
              "ok": true,
              "status": 200,
              "status_text": ""
            }
          }
        },
        "id": "wvJrKVr00SxV",
        "outputId": "3ae3e003-e9ab-42cb-d6e7-c3c208375657"
      },
      "outputs": [
        {
          "output_type": "display_data",
          "data": {
            "text/plain": [
              "<IPython.core.display.HTML object>"
            ],
            "text/html": [
              "\n",
              "     <input type=\"file\" id=\"files-338949be-eab2-4ed8-bb3d-1a9907419e6e\" name=\"files[]\" multiple disabled\n",
              "        style=\"border:none\" />\n",
              "     <output id=\"result-338949be-eab2-4ed8-bb3d-1a9907419e6e\">\n",
              "      Upload widget is only available when the cell has been executed in the\n",
              "      current browser session. Please rerun this cell to enable.\n",
              "      </output>\n",
              "      <script src=\"/nbextensions/google.colab/files.js\"></script> "
            ]
          },
          "metadata": {}
        },
        {
          "output_type": "stream",
          "name": "stdout",
          "text": [
            "Saving kaggle.json to kaggle.json\n"
          ]
        },
        {
          "output_type": "execute_result",
          "data": {
            "text/plain": [
              "{'kaggle.json': b'{\"username\":\"federicofiorio\",\"key\":\"3c9fda0dd26cc20d5f652a577743142c\"} \\r\\n'}"
            ]
          },
          "metadata": {},
          "execution_count": 6
        }
      ],
      "source": [
        "from google.colab import files\n",
        "files.upload() #upload kaggle.json"
      ]
    },
    {
      "cell_type": "code",
      "execution_count": 7,
      "metadata": {
        "colab": {
          "base_uri": "https://localhost:8080/"
        },
        "id": "9cD_HErCy5VX",
        "outputId": "b9b6f7a9-f6ca-472c-babc-83f15f279350"
      },
      "outputs": [
        {
          "output_type": "stream",
          "name": "stdout",
          "text": [
            "Requirement already satisfied: kaggle in /usr/local/lib/python3.7/dist-packages (1.5.12)\n",
            "Requirement already satisfied: urllib3 in /usr/local/lib/python3.7/dist-packages (from kaggle) (1.24.3)\n",
            "Requirement already satisfied: requests in /usr/local/lib/python3.7/dist-packages (from kaggle) (2.23.0)\n",
            "Requirement already satisfied: tqdm in /usr/local/lib/python3.7/dist-packages (from kaggle) (4.64.0)\n",
            "Requirement already satisfied: six>=1.10 in /usr/local/lib/python3.7/dist-packages (from kaggle) (1.15.0)\n",
            "Requirement already satisfied: certifi in /usr/local/lib/python3.7/dist-packages (from kaggle) (2021.10.8)\n",
            "Requirement already satisfied: python-dateutil in /usr/local/lib/python3.7/dist-packages (from kaggle) (2.8.2)\n",
            "Requirement already satisfied: python-slugify in /usr/local/lib/python3.7/dist-packages (from kaggle) (6.1.2)\n",
            "Requirement already satisfied: text-unidecode>=1.3 in /usr/local/lib/python3.7/dist-packages (from python-slugify->kaggle) (1.3)\n",
            "Requirement already satisfied: idna<3,>=2.5 in /usr/local/lib/python3.7/dist-packages (from requests->kaggle) (2.10)\n",
            "Requirement already satisfied: chardet<4,>=3.0.2 in /usr/local/lib/python3.7/dist-packages (from requests->kaggle) (3.0.4)\n"
          ]
        }
      ],
      "source": [
        "! pip install kaggle"
      ]
    },
    {
      "cell_type": "code",
      "execution_count": 8,
      "metadata": {
        "id": "BCLkDT1D09a5"
      },
      "outputs": [],
      "source": [
        "! mkdir ~/.kaggle"
      ]
    },
    {
      "cell_type": "code",
      "execution_count": 9,
      "metadata": {
        "id": "hAqh9chf0_0N"
      },
      "outputs": [],
      "source": [
        "!cp kaggle.json ~/.kaggle/"
      ]
    },
    {
      "cell_type": "code",
      "execution_count": 10,
      "metadata": {
        "colab": {
          "base_uri": "https://localhost:8080/"
        },
        "id": "t6hitlea7e1f",
        "outputId": "3c4a4b11-45ae-4693-dd66-659f27632d17"
      },
      "outputs": [
        {
          "output_type": "stream",
          "name": "stdout",
          "text": [
            "kaggle.json\n"
          ]
        }
      ],
      "source": [
        "!ls ~/.kaggle"
      ]
    },
    {
      "cell_type": "code",
      "execution_count": 11,
      "metadata": {
        "id": "GSkmf6Zc4dNv"
      },
      "outputs": [],
      "source": [
        "!chmod 600 /root/.kaggle/kaggle.json"
      ]
    },
    {
      "cell_type": "code",
      "execution_count": 12,
      "metadata": {
        "colab": {
          "base_uri": "https://localhost:8080/"
        },
        "id": "Dv7QkLHU4nI2",
        "outputId": "30ee050a-fbe7-4f6a-9d37-53333cc9f29c"
      },
      "outputs": [
        {
          "output_type": "stream",
          "name": "stdout",
          "text": [
            "Downloading ukraine-russian-crisis-twitter-dataset-1-2-m-rows.zip to /content\n",
            "100% 7.22G/7.24G [01:09<00:00, 155MB/s]\n",
            "100% 7.24G/7.24G [01:09<00:00, 112MB/s]\n"
          ]
        }
      ],
      "source": [
        "!kaggle datasets download -d bwandowando/ukraine-russian-crisis-twitter-dataset-1-2-m-rows"
      ]
    },
    {
      "cell_type": "code",
      "execution_count": 13,
      "metadata": {
        "colab": {
          "base_uri": "https://localhost:8080/"
        },
        "id": "lBspS-4-9Xgp",
        "outputId": "2c8ce453-73db-46a2-a10a-8eefce871f6f"
      },
      "outputs": [
        {
          "output_type": "stream",
          "name": "stdout",
          "text": [
            "kaggle.json\n",
            "sample_data\n",
            "spark-3.0.3-bin-hadoop2.7\n",
            "spark-3.0.3-bin-hadoop2.7.tgz\n",
            "ukraine-russian-crisis-twitter-dataset-1-2-m-rows.zip\n"
          ]
        }
      ],
      "source": [
        "!ls"
      ]
    },
    {
      "cell_type": "code",
      "execution_count": 14,
      "metadata": {
        "colab": {
          "base_uri": "https://localhost:8080/"
        },
        "id": "JOCKUrFx22Sp",
        "outputId": "60bbd972-c9dd-44a8-9774-4d7ee72609ca"
      },
      "outputs": [
        {
          "output_type": "stream",
          "name": "stdout",
          "text": [
            "Archive:  ukraine-russian-crisis-twitter-dataset-1-2-m-rows.zip\n",
            "  inflating: 0401_UkraineCombinedTweetsDeduped.csv.gzip  \n",
            "  inflating: 0402_UkraineCombinedTweetsDeduped.csv.gzip  \n",
            "  inflating: 0403_UkraineCombinedTweetsDeduped.csv.gzip  \n",
            "  inflating: 0404_UkraineCombinedTweetsDeduped.csv.gzip  \n",
            "  inflating: 0405_UkraineCombinedTweetsDeduped.csv.gzip  \n",
            "  inflating: 0406_UkraineCombinedTweetsDeduped.csv.gzip  \n",
            "  inflating: 0407_UkraineCombinedTweetsDeduped.csv.gzip  \n",
            "  inflating: 0408_UkraineCombinedTweetsDeduped.csv.gzip  \n",
            "  inflating: 0409_UkraineCombinedTweetsDeduped.csv.gzip  \n",
            "  inflating: 0410_UkraineCombinedTweetsDeduped.csv.gzip  \n",
            "  inflating: 0411_UkraineCombinedTweetsDeduped.csv.gzip  \n",
            "  inflating: 0412_UkraineCombinedTweetsDeduped.csv.gzip  \n",
            "  inflating: 0413_UkraineCombinedTweetsDeduped.csv.gzip  \n",
            "  inflating: 0414_UkraineCombinedTweetsDeduped.csv.gzip  \n",
            "  inflating: 0415_UkraineCombinedTweetsDeduped.csv.gzip  \n",
            "  inflating: 0416_UkraineCombinedTweetsDeduped.csv.gzip  \n",
            "  inflating: 0417_UkraineCombinedTweetsDeduped.csv.gzip  \n",
            "  inflating: 0418_UkraineCombinedTweetsDeduped.csv.gzip  \n",
            "  inflating: 0419_UkraineCombinedTweetsDeduped.csv.gzip  \n",
            "  inflating: 0420_UkraineCombinedTweetsDeduped.csv.gzip  \n",
            "  inflating: 0421_UkraineCombinedTweetsDeduped.csv.gzip  \n",
            "  inflating: 0422_UkraineCombinedTweetsDeduped.csv.gzip  \n",
            "  inflating: 0423_UkraineCombinedTweetsDeduped.csv.gzip  \n",
            "  inflating: 0424_UkraineCombinedTweetsDeduped.csv.gzip  \n",
            "  inflating: 0425_UkraineCombinedTweetsDeduped.csv.gzip  \n",
            "  inflating: 0426_UkraineCombinedTweetsDeduped.csv.gzip  \n",
            "  inflating: 0427_UkraineCombinedTweetsDeduped.csv.gzip  \n",
            "  inflating: 0428_UkraineCombinedTweetsDeduped.csv.gzip  \n",
            "  inflating: 0429_UkraineCombinedTweetsDeduped.csv.gzip  \n",
            "  inflating: 0430_UkraineCombinedTweetsDeduped.csv.gzip  \n",
            "  inflating: 0501_UkraineCombinedTweetsDeduped.csv.gzip  \n",
            "  inflating: 0502_UkraineCombinedTweetsDeduped.csv.gzip  \n",
            "  inflating: 0503_UkraineCombinedTweetsDeduped.csv.gzip  \n",
            "  inflating: 0504_UkraineCombinedTweetsDeduped.csv.gzip  \n",
            "  inflating: 0505_to_0507_UkraineCombinedTweetsDeduped.csv.gzip  \n",
            "  inflating: 0508_UkraineCombinedTweetsDeduped.csv.gzip  \n",
            "  inflating: 0509_UkraineCombinedTweetsDeduped.csv.gzip  \n",
            "  inflating: 0510_UkraineCombinedTweetsDeduped.csv.gzip  \n",
            "  inflating: 0511_UkraineCombinedTweetsDeduped.csv.gzip  \n",
            "  inflating: 0512_UkraineCombinedTweetsDeduped.csv.gzip  \n",
            "  inflating: 0513_UkraineCombinedTweetsDeduped.csv.gzip  \n",
            "  inflating: 0514_UkraineCombinedTweetsDeduped.csv.gzip  \n",
            "  inflating: 0515_UkraineCombinedTweetsDeduped.csv.gzip  \n",
            "  inflating: 0516_UkraineCombinedTweetsDeduped.csv.gzip  \n",
            "  inflating: 0517_UkraineCombinedTweetsDeduped.csv.gzip  \n",
            "  inflating: UkraineCombinedTweetsDeduped20220227-131611.csv.gzip  \n",
            "  inflating: UkraineCombinedTweetsDeduped_FEB27.csv.gzip  \n",
            "  inflating: UkraineCombinedTweetsDeduped_FEB28_part1.csv.gzip  \n",
            "  inflating: UkraineCombinedTweetsDeduped_FEB28_part2.csv.gzip  \n",
            "  inflating: UkraineCombinedTweetsDeduped_MAR01.csv.gzip  \n",
            "  inflating: UkraineCombinedTweetsDeduped_MAR02.csv.gzip  \n",
            "  inflating: UkraineCombinedTweetsDeduped_MAR03.csv.gzip  \n",
            "  inflating: UkraineCombinedTweetsDeduped_MAR04.csv.gzip  \n",
            "  inflating: UkraineCombinedTweetsDeduped_MAR05.csv.gzip  \n",
            "  inflating: UkraineCombinedTweetsDeduped_MAR06.csv.gzip  \n",
            "  inflating: UkraineCombinedTweetsDeduped_MAR07.csv.gzip  \n",
            "  inflating: UkraineCombinedTweetsDeduped_MAR08.csv.gzip  \n",
            "  inflating: UkraineCombinedTweetsDeduped_MAR09.csv.gzip  \n",
            "  inflating: UkraineCombinedTweetsDeduped_MAR10.csv.gzip  \n",
            "  inflating: UkraineCombinedTweetsDeduped_MAR11.csv.gzip  \n",
            "  inflating: UkraineCombinedTweetsDeduped_MAR12.csv.gzip  \n",
            "  inflating: UkraineCombinedTweetsDeduped_MAR13.csv.gzip  \n",
            "  inflating: UkraineCombinedTweetsDeduped_MAR14.csv.gzip  \n",
            "  inflating: UkraineCombinedTweetsDeduped_MAR15.csv.gzip  \n",
            "  inflating: UkraineCombinedTweetsDeduped_MAR16.csv.gzip  \n",
            "  inflating: UkraineCombinedTweetsDeduped_MAR17.csv.gzip  \n",
            "  inflating: UkraineCombinedTweetsDeduped_MAR18.csv.gzip  \n",
            "  inflating: UkraineCombinedTweetsDeduped_MAR19.csv.gzip  \n",
            "  inflating: UkraineCombinedTweetsDeduped_MAR20.csv.gzip  \n",
            "  inflating: UkraineCombinedTweetsDeduped_MAR21.csv.gzip  \n",
            "  inflating: UkraineCombinedTweetsDeduped_MAR22.csv.gzip  \n",
            "  inflating: UkraineCombinedTweetsDeduped_MAR23.csv.gzip  \n",
            "  inflating: UkraineCombinedTweetsDeduped_MAR24.csv.gzip  \n",
            "  inflating: UkraineCombinedTweetsDeduped_MAR25.csv.gzip  \n",
            "  inflating: UkraineCombinedTweetsDeduped_MAR26.csv.gzip  \n",
            "  inflating: UkraineCombinedTweetsDeduped_MAR27_to_28.csv.gzip  \n",
            "  inflating: UkraineCombinedTweetsDeduped_MAR29.csv.gzip  \n",
            "  inflating: UkraineCombinedTweetsDeduped_MAR30_REAL.csv.gzip  \n",
            "  inflating: UkraineCombinedTweetsDeduped_MAR31.csv.gzip  \n"
          ]
        }
      ],
      "source": [
        "!unzip ukraine-russian-crisis-twitter-dataset-1-2-m-rows.zip"
      ]
    },
    {
      "cell_type": "markdown",
      "metadata": {
        "id": "r9XHPiaqZ0zz"
      },
      "source": [
        "## Use the data"
      ]
    },
    {
      "cell_type": "markdown",
      "metadata": {
        "id": "Q2RBBWPHZx4r"
      },
      "source": [
        "________________________________________________________________________"
      ]
    },
    {
      "cell_type": "code",
      "execution_count": 15,
      "metadata": {
        "id": "bNY3XvoLw3md"
      },
      "outputs": [],
      "source": [
        "import numpy as np\n",
        "import pandas as pd\n",
        "import csv\n",
        "import os\n",
        "import warnings"
      ]
    },
    {
      "cell_type": "code",
      "execution_count": 16,
      "metadata": {
        "colab": {
          "base_uri": "https://localhost:8080/"
        },
        "id": "Hh2IS9SM9pYh",
        "outputId": "dbd6e8f0-1126-4750-e6bd-91165aa5f711"
      },
      "outputs": [
        {
          "output_type": "stream",
          "name": "stderr",
          "text": [
            "/usr/local/lib/python3.7/dist-packages/IPython/core/interactiveshell.py:2882: DtypeWarning: Columns (15) have mixed types.Specify dtype option on import or set low_memory=False.\n",
            "  exec(code_obj, self.user_global_ns, self.user_ns)\n"
          ]
        }
      ],
      "source": [
        "filename = r\"0401_UkraineCombinedTweetsDeduped.csv.gzip\"\n",
        "df = pd.read_csv(filename, compression='gzip', index_col=0,encoding='utf-8', quoting=csv.QUOTE_ALL)"
      ]
    },
    {
      "cell_type": "code",
      "execution_count": 17,
      "metadata": {
        "colab": {
          "base_uri": "https://localhost:8080/",
          "height": 582
        },
        "id": "JCM3URp35liu",
        "outputId": "9e3f2540-87ef-4b5a-9fd8-2a5770bfae22"
      },
      "outputs": [
        {
          "output_type": "execute_result",
          "data": {
            "text/plain": [
              "                                                                0  \\\n",
              "userid                                                   16882774   \n",
              "username                                                  Yaniela   \n",
              "acctdesc        Animal lover, supports those who fight injusti...   \n",
              "location                                                   Hawaii   \n",
              "following                                                    1158   \n",
              "followers                                                     392   \n",
              "totaltweets                                                 88366   \n",
              "usercreatedts                          2008-10-21 07:34:04.000000   \n",
              "tweetid                                       1509681950042198030   \n",
              "tweetcreatedts                         2022-04-01 00:00:00.000000   \n",
              "retweetcount                                                 3412   \n",
              "text            ⚡The Ukrainian Air Force would like to address...   \n",
              "hashtags                                                       []   \n",
              "language                                                       en   \n",
              "coordinates                                                   NaN   \n",
              "favorite_count                                                  0   \n",
              "extractedts                            2022-04-01 00:44:20.097867   \n",
              "\n",
              "                                                                1  \n",
              "userid                                                 3205296069  \n",
              "username                                                 gregffff  \n",
              "acctdesc                                                      NaN  \n",
              "location                                                      NaN  \n",
              "following                                                     122  \n",
              "followers                                                     881  \n",
              "totaltweets                                                 99853  \n",
              "usercreatedts                          2015-04-25 11:24:34.000000  \n",
              "tweetid                                       1509681950151348229  \n",
              "tweetcreatedts                         2022-04-01 00:00:00.000000  \n",
              "retweetcount                                                  100  \n",
              "text            Chernihiv oblast. Ukrainians welcome their lib...  \n",
              "hashtags        [{'text': 'russianinvasion', 'indices': [77, 9...  \n",
              "language                                                       en  \n",
              "coordinates                                                   NaN  \n",
              "favorite_count                                                  0  \n",
              "extractedts                            2022-04-01 00:09:37.148770  "
            ],
            "text/html": [
              "\n",
              "  <div id=\"df-a9ae2831-435f-4806-bc6a-c1564d3db4e0\">\n",
              "    <div class=\"colab-df-container\">\n",
              "      <div>\n",
              "<style scoped>\n",
              "    .dataframe tbody tr th:only-of-type {\n",
              "        vertical-align: middle;\n",
              "    }\n",
              "\n",
              "    .dataframe tbody tr th {\n",
              "        vertical-align: top;\n",
              "    }\n",
              "\n",
              "    .dataframe thead th {\n",
              "        text-align: right;\n",
              "    }\n",
              "</style>\n",
              "<table border=\"1\" class=\"dataframe\">\n",
              "  <thead>\n",
              "    <tr style=\"text-align: right;\">\n",
              "      <th></th>\n",
              "      <th>0</th>\n",
              "      <th>1</th>\n",
              "    </tr>\n",
              "  </thead>\n",
              "  <tbody>\n",
              "    <tr>\n",
              "      <th>userid</th>\n",
              "      <td>16882774</td>\n",
              "      <td>3205296069</td>\n",
              "    </tr>\n",
              "    <tr>\n",
              "      <th>username</th>\n",
              "      <td>Yaniela</td>\n",
              "      <td>gregffff</td>\n",
              "    </tr>\n",
              "    <tr>\n",
              "      <th>acctdesc</th>\n",
              "      <td>Animal lover, supports those who fight injusti...</td>\n",
              "      <td>NaN</td>\n",
              "    </tr>\n",
              "    <tr>\n",
              "      <th>location</th>\n",
              "      <td>Hawaii</td>\n",
              "      <td>NaN</td>\n",
              "    </tr>\n",
              "    <tr>\n",
              "      <th>following</th>\n",
              "      <td>1158</td>\n",
              "      <td>122</td>\n",
              "    </tr>\n",
              "    <tr>\n",
              "      <th>followers</th>\n",
              "      <td>392</td>\n",
              "      <td>881</td>\n",
              "    </tr>\n",
              "    <tr>\n",
              "      <th>totaltweets</th>\n",
              "      <td>88366</td>\n",
              "      <td>99853</td>\n",
              "    </tr>\n",
              "    <tr>\n",
              "      <th>usercreatedts</th>\n",
              "      <td>2008-10-21 07:34:04.000000</td>\n",
              "      <td>2015-04-25 11:24:34.000000</td>\n",
              "    </tr>\n",
              "    <tr>\n",
              "      <th>tweetid</th>\n",
              "      <td>1509681950042198030</td>\n",
              "      <td>1509681950151348229</td>\n",
              "    </tr>\n",
              "    <tr>\n",
              "      <th>tweetcreatedts</th>\n",
              "      <td>2022-04-01 00:00:00.000000</td>\n",
              "      <td>2022-04-01 00:00:00.000000</td>\n",
              "    </tr>\n",
              "    <tr>\n",
              "      <th>retweetcount</th>\n",
              "      <td>3412</td>\n",
              "      <td>100</td>\n",
              "    </tr>\n",
              "    <tr>\n",
              "      <th>text</th>\n",
              "      <td>⚡The Ukrainian Air Force would like to address...</td>\n",
              "      <td>Chernihiv oblast. Ukrainians welcome their lib...</td>\n",
              "    </tr>\n",
              "    <tr>\n",
              "      <th>hashtags</th>\n",
              "      <td>[]</td>\n",
              "      <td>[{'text': 'russianinvasion', 'indices': [77, 9...</td>\n",
              "    </tr>\n",
              "    <tr>\n",
              "      <th>language</th>\n",
              "      <td>en</td>\n",
              "      <td>en</td>\n",
              "    </tr>\n",
              "    <tr>\n",
              "      <th>coordinates</th>\n",
              "      <td>NaN</td>\n",
              "      <td>NaN</td>\n",
              "    </tr>\n",
              "    <tr>\n",
              "      <th>favorite_count</th>\n",
              "      <td>0</td>\n",
              "      <td>0</td>\n",
              "    </tr>\n",
              "    <tr>\n",
              "      <th>extractedts</th>\n",
              "      <td>2022-04-01 00:44:20.097867</td>\n",
              "      <td>2022-04-01 00:09:37.148770</td>\n",
              "    </tr>\n",
              "  </tbody>\n",
              "</table>\n",
              "</div>\n",
              "      <button class=\"colab-df-convert\" onclick=\"convertToInteractive('df-a9ae2831-435f-4806-bc6a-c1564d3db4e0')\"\n",
              "              title=\"Convert this dataframe to an interactive table.\"\n",
              "              style=\"display:none;\">\n",
              "        \n",
              "  <svg xmlns=\"http://www.w3.org/2000/svg\" height=\"24px\"viewBox=\"0 0 24 24\"\n",
              "       width=\"24px\">\n",
              "    <path d=\"M0 0h24v24H0V0z\" fill=\"none\"/>\n",
              "    <path d=\"M18.56 5.44l.94 2.06.94-2.06 2.06-.94-2.06-.94-.94-2.06-.94 2.06-2.06.94zm-11 1L8.5 8.5l.94-2.06 2.06-.94-2.06-.94L8.5 2.5l-.94 2.06-2.06.94zm10 10l.94 2.06.94-2.06 2.06-.94-2.06-.94-.94-2.06-.94 2.06-2.06.94z\"/><path d=\"M17.41 7.96l-1.37-1.37c-.4-.4-.92-.59-1.43-.59-.52 0-1.04.2-1.43.59L10.3 9.45l-7.72 7.72c-.78.78-.78 2.05 0 2.83L4 21.41c.39.39.9.59 1.41.59.51 0 1.02-.2 1.41-.59l7.78-7.78 2.81-2.81c.8-.78.8-2.07 0-2.86zM5.41 20L4 18.59l7.72-7.72 1.47 1.35L5.41 20z\"/>\n",
              "  </svg>\n",
              "      </button>\n",
              "      \n",
              "  <style>\n",
              "    .colab-df-container {\n",
              "      display:flex;\n",
              "      flex-wrap:wrap;\n",
              "      gap: 12px;\n",
              "    }\n",
              "\n",
              "    .colab-df-convert {\n",
              "      background-color: #E8F0FE;\n",
              "      border: none;\n",
              "      border-radius: 50%;\n",
              "      cursor: pointer;\n",
              "      display: none;\n",
              "      fill: #1967D2;\n",
              "      height: 32px;\n",
              "      padding: 0 0 0 0;\n",
              "      width: 32px;\n",
              "    }\n",
              "\n",
              "    .colab-df-convert:hover {\n",
              "      background-color: #E2EBFA;\n",
              "      box-shadow: 0px 1px 2px rgba(60, 64, 67, 0.3), 0px 1px 3px 1px rgba(60, 64, 67, 0.15);\n",
              "      fill: #174EA6;\n",
              "    }\n",
              "\n",
              "    [theme=dark] .colab-df-convert {\n",
              "      background-color: #3B4455;\n",
              "      fill: #D2E3FC;\n",
              "    }\n",
              "\n",
              "    [theme=dark] .colab-df-convert:hover {\n",
              "      background-color: #434B5C;\n",
              "      box-shadow: 0px 1px 3px 1px rgba(0, 0, 0, 0.15);\n",
              "      filter: drop-shadow(0px 1px 2px rgba(0, 0, 0, 0.3));\n",
              "      fill: #FFFFFF;\n",
              "    }\n",
              "  </style>\n",
              "\n",
              "      <script>\n",
              "        const buttonEl =\n",
              "          document.querySelector('#df-a9ae2831-435f-4806-bc6a-c1564d3db4e0 button.colab-df-convert');\n",
              "        buttonEl.style.display =\n",
              "          google.colab.kernel.accessAllowed ? 'block' : 'none';\n",
              "\n",
              "        async function convertToInteractive(key) {\n",
              "          const element = document.querySelector('#df-a9ae2831-435f-4806-bc6a-c1564d3db4e0');\n",
              "          const dataTable =\n",
              "            await google.colab.kernel.invokeFunction('convertToInteractive',\n",
              "                                                     [key], {});\n",
              "          if (!dataTable) return;\n",
              "\n",
              "          const docLinkHtml = 'Like what you see? Visit the ' +\n",
              "            '<a target=\"_blank\" href=https://colab.research.google.com/notebooks/data_table.ipynb>data table notebook</a>'\n",
              "            + ' to learn more about interactive tables.';\n",
              "          element.innerHTML = '';\n",
              "          dataTable['output_type'] = 'display_data';\n",
              "          await google.colab.output.renderOutput(dataTable, element);\n",
              "          const docLink = document.createElement('div');\n",
              "          docLink.innerHTML = docLinkHtml;\n",
              "          element.appendChild(docLink);\n",
              "        }\n",
              "      </script>\n",
              "    </div>\n",
              "  </div>\n",
              "  "
            ]
          },
          "metadata": {},
          "execution_count": 17
        }
      ],
      "source": [
        "df[0:2].T"
      ]
    },
    {
      "cell_type": "code",
      "execution_count": 18,
      "metadata": {
        "colab": {
          "base_uri": "https://localhost:8080/"
        },
        "id": "288E8M1aAbqJ",
        "outputId": "0c69b326-f4e1-4d31-dcd4-aac3d8019e0d"
      },
      "outputs": [
        {
          "output_type": "execute_result",
          "data": {
            "text/plain": [
              "pandas.core.frame.DataFrame"
            ]
          },
          "metadata": {},
          "execution_count": 18
        }
      ],
      "source": [
        "type(df)"
      ]
    },
    {
      "cell_type": "code",
      "source": [
        "df = df[['tweetid', 'text', 'hashtags','language']] #keep only 3 columns\n",
        "df.head()"
      ],
      "metadata": {
        "id": "YBpT85eV1DUc",
        "colab": {
          "base_uri": "https://localhost:8080/",
          "height": 206
        },
        "outputId": "32c2420b-6378-49b0-d185-a428ca3b460f"
      },
      "execution_count": 19,
      "outputs": [
        {
          "output_type": "execute_result",
          "data": {
            "text/plain": [
              "               tweetid                                               text  \\\n",
              "0  1509681950042198030  ⚡The Ukrainian Air Force would like to address...   \n",
              "1  1509681950151348229  Chernihiv oblast. Ukrainians welcome their lib...   \n",
              "2  1509681950683926556  America 🇺🇸 is preparing for something worse th...   \n",
              "3  1509681951116046336  JUST IN: #Anonymous has hacked &amp; released ...   \n",
              "4  1509681951304990720  ***PUBLIC MINT NOW LIVE***\\n\\nFor \\n@billionai...   \n",
              "\n",
              "                                            hashtags language  \n",
              "0                                                 []       en  \n",
              "1  [{'text': 'russianinvasion', 'indices': [77, 9...       en  \n",
              "2  [{'text': 'RussianUkrainianWar', 'indices': [7...       en  \n",
              "3       [{'text': 'Anonymous', 'indices': [25, 35]}]       en  \n",
              "4                                                 []       en  "
            ],
            "text/html": [
              "\n",
              "  <div id=\"df-9d074051-9ed6-44ad-997d-7ddae7d2c18d\">\n",
              "    <div class=\"colab-df-container\">\n",
              "      <div>\n",
              "<style scoped>\n",
              "    .dataframe tbody tr th:only-of-type {\n",
              "        vertical-align: middle;\n",
              "    }\n",
              "\n",
              "    .dataframe tbody tr th {\n",
              "        vertical-align: top;\n",
              "    }\n",
              "\n",
              "    .dataframe thead th {\n",
              "        text-align: right;\n",
              "    }\n",
              "</style>\n",
              "<table border=\"1\" class=\"dataframe\">\n",
              "  <thead>\n",
              "    <tr style=\"text-align: right;\">\n",
              "      <th></th>\n",
              "      <th>tweetid</th>\n",
              "      <th>text</th>\n",
              "      <th>hashtags</th>\n",
              "      <th>language</th>\n",
              "    </tr>\n",
              "  </thead>\n",
              "  <tbody>\n",
              "    <tr>\n",
              "      <th>0</th>\n",
              "      <td>1509681950042198030</td>\n",
              "      <td>⚡The Ukrainian Air Force would like to address...</td>\n",
              "      <td>[]</td>\n",
              "      <td>en</td>\n",
              "    </tr>\n",
              "    <tr>\n",
              "      <th>1</th>\n",
              "      <td>1509681950151348229</td>\n",
              "      <td>Chernihiv oblast. Ukrainians welcome their lib...</td>\n",
              "      <td>[{'text': 'russianinvasion', 'indices': [77, 9...</td>\n",
              "      <td>en</td>\n",
              "    </tr>\n",
              "    <tr>\n",
              "      <th>2</th>\n",
              "      <td>1509681950683926556</td>\n",
              "      <td>America 🇺🇸 is preparing for something worse th...</td>\n",
              "      <td>[{'text': 'RussianUkrainianWar', 'indices': [7...</td>\n",
              "      <td>en</td>\n",
              "    </tr>\n",
              "    <tr>\n",
              "      <th>3</th>\n",
              "      <td>1509681951116046336</td>\n",
              "      <td>JUST IN: #Anonymous has hacked &amp;amp; released ...</td>\n",
              "      <td>[{'text': 'Anonymous', 'indices': [25, 35]}]</td>\n",
              "      <td>en</td>\n",
              "    </tr>\n",
              "    <tr>\n",
              "      <th>4</th>\n",
              "      <td>1509681951304990720</td>\n",
              "      <td>***PUBLIC MINT NOW LIVE***\\n\\nFor \\n@billionai...</td>\n",
              "      <td>[]</td>\n",
              "      <td>en</td>\n",
              "    </tr>\n",
              "  </tbody>\n",
              "</table>\n",
              "</div>\n",
              "      <button class=\"colab-df-convert\" onclick=\"convertToInteractive('df-9d074051-9ed6-44ad-997d-7ddae7d2c18d')\"\n",
              "              title=\"Convert this dataframe to an interactive table.\"\n",
              "              style=\"display:none;\">\n",
              "        \n",
              "  <svg xmlns=\"http://www.w3.org/2000/svg\" height=\"24px\"viewBox=\"0 0 24 24\"\n",
              "       width=\"24px\">\n",
              "    <path d=\"M0 0h24v24H0V0z\" fill=\"none\"/>\n",
              "    <path d=\"M18.56 5.44l.94 2.06.94-2.06 2.06-.94-2.06-.94-.94-2.06-.94 2.06-2.06.94zm-11 1L8.5 8.5l.94-2.06 2.06-.94-2.06-.94L8.5 2.5l-.94 2.06-2.06.94zm10 10l.94 2.06.94-2.06 2.06-.94-2.06-.94-.94-2.06-.94 2.06-2.06.94z\"/><path d=\"M17.41 7.96l-1.37-1.37c-.4-.4-.92-.59-1.43-.59-.52 0-1.04.2-1.43.59L10.3 9.45l-7.72 7.72c-.78.78-.78 2.05 0 2.83L4 21.41c.39.39.9.59 1.41.59.51 0 1.02-.2 1.41-.59l7.78-7.78 2.81-2.81c.8-.78.8-2.07 0-2.86zM5.41 20L4 18.59l7.72-7.72 1.47 1.35L5.41 20z\"/>\n",
              "  </svg>\n",
              "      </button>\n",
              "      \n",
              "  <style>\n",
              "    .colab-df-container {\n",
              "      display:flex;\n",
              "      flex-wrap:wrap;\n",
              "      gap: 12px;\n",
              "    }\n",
              "\n",
              "    .colab-df-convert {\n",
              "      background-color: #E8F0FE;\n",
              "      border: none;\n",
              "      border-radius: 50%;\n",
              "      cursor: pointer;\n",
              "      display: none;\n",
              "      fill: #1967D2;\n",
              "      height: 32px;\n",
              "      padding: 0 0 0 0;\n",
              "      width: 32px;\n",
              "    }\n",
              "\n",
              "    .colab-df-convert:hover {\n",
              "      background-color: #E2EBFA;\n",
              "      box-shadow: 0px 1px 2px rgba(60, 64, 67, 0.3), 0px 1px 3px 1px rgba(60, 64, 67, 0.15);\n",
              "      fill: #174EA6;\n",
              "    }\n",
              "\n",
              "    [theme=dark] .colab-df-convert {\n",
              "      background-color: #3B4455;\n",
              "      fill: #D2E3FC;\n",
              "    }\n",
              "\n",
              "    [theme=dark] .colab-df-convert:hover {\n",
              "      background-color: #434B5C;\n",
              "      box-shadow: 0px 1px 3px 1px rgba(0, 0, 0, 0.15);\n",
              "      filter: drop-shadow(0px 1px 2px rgba(0, 0, 0, 0.3));\n",
              "      fill: #FFFFFF;\n",
              "    }\n",
              "  </style>\n",
              "\n",
              "      <script>\n",
              "        const buttonEl =\n",
              "          document.querySelector('#df-9d074051-9ed6-44ad-997d-7ddae7d2c18d button.colab-df-convert');\n",
              "        buttonEl.style.display =\n",
              "          google.colab.kernel.accessAllowed ? 'block' : 'none';\n",
              "\n",
              "        async function convertToInteractive(key) {\n",
              "          const element = document.querySelector('#df-9d074051-9ed6-44ad-997d-7ddae7d2c18d');\n",
              "          const dataTable =\n",
              "            await google.colab.kernel.invokeFunction('convertToInteractive',\n",
              "                                                     [key], {});\n",
              "          if (!dataTable) return;\n",
              "\n",
              "          const docLinkHtml = 'Like what you see? Visit the ' +\n",
              "            '<a target=\"_blank\" href=https://colab.research.google.com/notebooks/data_table.ipynb>data table notebook</a>'\n",
              "            + ' to learn more about interactive tables.';\n",
              "          element.innerHTML = '';\n",
              "          dataTable['output_type'] = 'display_data';\n",
              "          await google.colab.output.renderOutput(dataTable, element);\n",
              "          const docLink = document.createElement('div');\n",
              "          docLink.innerHTML = docLinkHtml;\n",
              "          element.appendChild(docLink);\n",
              "        }\n",
              "      </script>\n",
              "    </div>\n",
              "  </div>\n",
              "  "
            ]
          },
          "metadata": {},
          "execution_count": 19
        }
      ]
    },
    {
      "cell_type": "code",
      "source": [
        "pd.options.display.max_colwidth = 1200\n",
        "print(df[df['tweetid']==\t1509681950042198030][\"text\"],df[df['tweetid']==\t1509681950042198030][\"hashtags\"])"
      ],
      "metadata": {
        "colab": {
          "base_uri": "https://localhost:8080/"
        },
        "id": "g0vF6KiT8YAY",
        "outputId": "831c9e95-3924-425e-a96c-f79f62637190"
      },
      "execution_count": 20,
      "outputs": [
        {
          "output_type": "stream",
          "name": "stdout",
          "text": [
            "0    ⚡The Ukrainian Air Force would like to address misinformation published in multiple Western media outlets regarding the situation in the 🇺🇦 sky and support from our @NATO allies. \\nMore in 🧵(1/16)\\n#ProtectUАSky #StopRussia #UkraineUnderAttaсk\n",
            "Name: text, dtype: object 0    []\n",
            "Name: hashtags, dtype: object\n"
          ]
        }
      ]
    },
    {
      "cell_type": "markdown",
      "source": [
        "As we can see in the previous cell, the tweet has the hashtag #StopRussia #UkraineUnderAttaсk BUT the dataframe (1st tuple) sais there are no hashtag in the tweet. We will try to recover form this."
      ],
      "metadata": {
        "id": "HEfNBiN--8NF"
      }
    },
    {
      "cell_type": "code",
      "execution_count": 21,
      "metadata": {
        "id": "N1KxUUGAlv_X"
      },
      "outputs": [],
      "source": [
        "from pyspark.sql.types import *\n",
        "\n",
        "schema = StructType([StructField(\"tweetid\", StringType(), True)\\\n",
        "                   ,StructField(\"text\", StringType(), True)\\\n",
        "                   ,StructField(\"hashtags\", StringType(), True)\\\n",
        "                   ,StructField(\"language\", StringType(), True)])\n",
        "\n",
        "#create spark dataframe using schema\n",
        "df_spark = spark.createDataFrame(df,schema=schema)"
      ]
    },
    {
      "cell_type": "code",
      "execution_count": 22,
      "metadata": {
        "id": "5mt_1Vi9lwB1",
        "colab": {
          "base_uri": "https://localhost:8080/"
        },
        "outputId": "d21e2ea9-91b0-4236-b871-89949e72aac5"
      },
      "outputs": [
        {
          "output_type": "execute_result",
          "data": {
            "text/plain": [
              "pyspark.sql.dataframe.DataFrame"
            ]
          },
          "metadata": {},
          "execution_count": 22
        }
      ],
      "source": [
        "type(df_spark)"
      ]
    },
    {
      "cell_type": "code",
      "execution_count": 23,
      "metadata": {
        "id": "Tv5GCx1alwD3",
        "colab": {
          "base_uri": "https://localhost:8080/"
        },
        "outputId": "6b8f97ac-00ad-42e7-ad79-32001952231a"
      },
      "outputs": [
        {
          "output_type": "stream",
          "name": "stdout",
          "text": [
            "+-------------------+--------------------+--------------------+--------+\n",
            "|            tweetid|                text|            hashtags|language|\n",
            "+-------------------+--------------------+--------------------+--------+\n",
            "|1509681950042198030|⚡The Ukrainian Ai...|                  []|      en|\n",
            "|1509681950151348229|Chernihiv oblast....|[{'text': 'russia...|      en|\n",
            "|1509681950683926556|America 🇺🇸 is p...|[{'text': 'Russia...|      en|\n",
            "|1509681951116046336|JUST IN: #Anonymo...|[{'text': 'Anonym...|      en|\n",
            "|1509681951304990720|***PUBLIC MINT NO...|                  []|      en|\n",
            "|1509681952000937999|The Amazing story...|[{'text': 'Russia...|      en|\n",
            "|1509681952978210849|&amp;quot;How we ...|                  []|      en|\n",
            "|1509681953053843466|India's purchase ...|[{'text': 'Russia...|      en|\n",
            "|1509681953091457035|The most basic te...|[{'text': 'Ukrain...|      en|\n",
            "|1509681953418711050|\"The image that R...|[{'text': 'Putin'...|      en|\n",
            "|1509681953418752008|#Russia’s Preside...|[{'text': 'Russia...|      en|\n",
            "|1509681953636700160|Sad to read of th...|[{'text': 'Russia...|      en|\n",
            "|1509681953947074560|الرئيس الروسي يصع...|[{'text': 'عينك_ع...|      ar|\n",
            "|1509681954488303623|Tank T-34 at the ...|[{'text': 'Soviet...|      en|\n",
            "|1509681954647543824|The #Anonymous co...|[{'text': 'Anonym...|      en|\n",
            "|1509681955519938561|#Internacional 🇷...|[{'text': 'Intern...|      es|\n",
            "|1509681955603845120|***PUBLIC MINT NO...|                  []|      en|\n",
            "|1509681956149104652|#UkraineWar \n",
            "#Rus...|[{'text': 'Ukrain...|      en|\n",
            "|1509681956224602150|#Putin: Rubleyle ...|[{'text': 'Putin'...|      tr|\n",
            "|1509681957524979718|Read: https://t.c...|[{'text': 'Peace'...|      en|\n",
            "+-------------------+--------------------+--------------------+--------+\n",
            "only showing top 20 rows\n",
            "\n"
          ]
        }
      ],
      "source": [
        "df_spark.show()"
      ]
    },
    {
      "cell_type": "markdown",
      "source": [
        "## RDD TEXT SERVE PER PRENDERE GLI HASHTAG DAL TWEET IN QUANTO LA COLONNA HASHTAG DEL DATASET NON è ACCURATA"
      ],
      "metadata": {
        "id": "UABfyrnmWyLr"
      }
    },
    {
      "cell_type": "code",
      "source": [
        "import nltk\n",
        "from nltk import word_tokenize\n",
        "import re\n",
        "nltk.download('punkt') #to make it work\n",
        "\n",
        "rdd = df_spark.rdd #to get the rdd from dataframe\n",
        "\n",
        "rdd.take(10)\n",
        "rdd=rdd.filter(lambda x: x[3] == \"en\") #filter out non english tweets\n",
        "\n",
        "\n",
        "rdd_text = rdd.map(lambda x : (x[0], x[1])).map(lambda x:(x[0], word_tokenize(x[1]))) #id, word_tokenized"
      ],
      "metadata": {
        "colab": {
          "base_uri": "https://localhost:8080/"
        },
        "id": "-Om2zbCe9yHH",
        "outputId": "3100a23e-beb2-4e23-9af3-cfed754aed49"
      },
      "execution_count": 24,
      "outputs": [
        {
          "output_type": "stream",
          "name": "stdout",
          "text": [
            "[nltk_data] Downloading package punkt to /root/nltk_data...\n",
            "[nltk_data]   Unzipping tokenizers/punkt.zip.\n"
          ]
        }
      ]
    },
    {
      "cell_type": "markdown",
      "source": [
        "## ESTRAGGO SOLO GLI HASHTAGS"
      ],
      "metadata": {
        "id": "gbMQPHYuQ0zM"
      }
    },
    {
      "cell_type": "code",
      "source": [
        "def processHashtags(tweet):\n",
        "  hashtags = []\n",
        "  for i,word in enumerate(tweet):\n",
        "    if word == '#':\n",
        "      try:\n",
        "        hashtags.append(re.sub(r'[^\\w\\s]','',tweet[i+1]).lower()) #remove punctuation with regexp and put them lowercase\n",
        "      except:\n",
        "        pass\n",
        "  return hashtags\n",
        "\n",
        "hashtags_per_tweet = rdd_text.map(lambda x: (x[0], processHashtags(x[1])))\n",
        "hashtags_per_tweet.first()"
      ],
      "metadata": {
        "id": "NdcDV2lJ_p-2",
        "colab": {
          "base_uri": "https://localhost:8080/"
        },
        "outputId": "d00a030b-9a6d-4009-e3dc-cace10bbd392"
      },
      "execution_count": 28,
      "outputs": [
        {
          "output_type": "execute_result",
          "data": {
            "text/plain": [
              "('1509681950042198030', ['protectuаsky', 'stoprussia', 'ukraineunderattaсk'])"
            ]
          },
          "metadata": {},
          "execution_count": 28
        }
      ]
    },
    {
      "cell_type": "code",
      "source": [
        "#reconvert the rdd to spark dataframe\n",
        "deptColumns = [\"tweet\",\"hashtag\"]\n",
        "new_df_spark = hashtags_per_tweet.toDF(deptColumns)\n",
        "new_df_spark.printSchema()\n",
        "new_df_spark.show(truncate=False)"
      ],
      "metadata": {
        "id": "1iEJQjdwUkE9",
        "colab": {
          "base_uri": "https://localhost:8080/"
        },
        "outputId": "29b81e3d-0a67-4245-c5f7-2d8534929f2f"
      },
      "execution_count": 29,
      "outputs": [
        {
          "output_type": "stream",
          "name": "stdout",
          "text": [
            "root\n",
            " |-- tweet: string (nullable = true)\n",
            " |-- hashtag: array (nullable = true)\n",
            " |    |-- element: string (containsNull = true)\n",
            "\n",
            "+-------------------+--------------------------------------------------------------------------------------------------------------------------------------------------------------------------+\n",
            "|tweet              |hashtag                                                                                                                                                                   |\n",
            "+-------------------+--------------------------------------------------------------------------------------------------------------------------------------------------------------------------+\n",
            "|1509681950042198030|[protectuаsky, stoprussia, ukraineunderattaсk]                                                                                                                            |\n",
            "|1509681950151348229|[russianinvasion, standwithukraine, ukraineunderattack, ukrainewillwin, putinisawarcriminal, stopputin, russianukrainianwar, russiagohome, россиясмотри, нетвойне]        |\n",
            "|1509681950683926556|[russianukrainianwar, china, taiwan]                                                                                                                                      |\n",
            "|1509681951116046336|[anonymous, oprussia, ddosecrets]                                                                                                                                         |\n",
            "|1509681951304990720|[nft, mint]                                                                                                                                                               |\n",
            "|1509681952000937999|[russia, ukraine, motivation, netde, edude, delaware, government, usa]                                                                                                    |\n",
            "|1509681952978210849|[ukraine, ukrainewar, russia, ukraineinvasion]                                                                                                                            |\n",
            "|1509681953053843466|[russian, moscow]                                                                                                                                                         |\n",
            "|1509681953091457035|[ukraine]                                                                                                                                                                 |\n",
            "|1509681953418711050|[putin, medvedev, russia, ukraine]                                                                                                                                        |\n",
            "|1509681953418752008|[russia, putin]                                                                                                                                                           |\n",
            "|1509681953636700160|[russianarmy, chernobyl, russianukrainianwar]                                                                                                                             |\n",
            "|1509681954488303623|[soviet, berlin, ukrainian, russian, kharkiv]                                                                                                                             |\n",
            "|1509681954647543824|[anonymous, ukraine]                                                                                                                                                      |\n",
            "|1509681955603845120|[nft, mint]                                                                                                                                                               |\n",
            "|1509681956149104652|[ukrainewar, russia, ukraine, 30march, russianukrainianwar]                                                                                                               |\n",
            "|1509681957524979718|[peace, ukraine, democracy, war, putin, zelensky, russia, blackmedia, localnews, community, scoop, news, africanamericans, philadelphia, scoopusamedia, philly, subscribe]|\n",
            "|1509681958288338945|[ukraine]                                                                                                                                                                 |\n",
            "|1509681959965966345|[exclusive, itvideo, russiaukrainewar, re]                                                                                                                                |\n",
            "|1509681960066584593|[putin, ruble, currency, sanctions, oil, economy, negotiations, diplomacy, geopolitics, leadership, government, russia, warinukraine, war, russiaukrainewar]              |\n",
            "+-------------------+--------------------------------------------------------------------------------------------------------------------------------------------------------------------------+\n",
            "only showing top 20 rows\n",
            "\n"
          ]
        }
      ]
    },
    {
      "cell_type": "markdown",
      "source": [
        "APRIORI"
      ],
      "metadata": {
        "id": "5UBV7OukQr3h"
      }
    },
    {
      "cell_type": "code",
      "source": [
        "hashtag=new_df_spark.select('hashtag')"
      ],
      "metadata": {
        "id": "LYKRfbHh9ySU"
      },
      "execution_count": 30,
      "outputs": []
    },
    {
      "cell_type": "code",
      "source": [
        "basket_file = hashtag.rdd.flatMap(list)"
      ],
      "metadata": {
        "id": "6xD_xQSeRorv"
      },
      "execution_count": 31,
      "outputs": []
    },
    {
      "cell_type": "code",
      "source": [
        " basket_file.take(5)"
      ],
      "metadata": {
        "id": "Aa2HohPTyv_p",
        "colab": {
          "base_uri": "https://localhost:8080/"
        },
        "outputId": "d9727da0-0901-4e81-843f-57676c116e50"
      },
      "execution_count": 32,
      "outputs": [
        {
          "output_type": "execute_result",
          "data": {
            "text/plain": [
              "[['protectuаsky', 'stoprussia', 'ukraineunderattaсk'],\n",
              " ['russianinvasion',\n",
              "  'standwithukraine',\n",
              "  'ukraineunderattack',\n",
              "  'ukrainewillwin',\n",
              "  'putinisawarcriminal',\n",
              "  'stopputin',\n",
              "  'russianukrainianwar',\n",
              "  'russiagohome',\n",
              "  'россиясмотри',\n",
              "  'нетвойне'],\n",
              " ['russianukrainianwar', 'china', 'taiwan'],\n",
              " ['anonymous', 'oprussia', 'ddosecrets'],\n",
              " ['nft', 'mint']]"
            ]
          },
          "metadata": {},
          "execution_count": 32
        }
      ]
    },
    {
      "cell_type": "code",
      "source": [
        "#DA RIVEDERE\n",
        "count = 250000 #obtaine doing count=basket_file.count() (too much time to repeat this all the time)\n",
        "threshold = count*0.0003\n",
        "print(count, threshold)"
      ],
      "metadata": {
        "id": "4Jx_mBOQBScX",
        "colab": {
          "base_uri": "https://localhost:8080/"
        },
        "outputId": "13da6ddf-a6eb-409c-b2a3-e2bb72ff1380"
      },
      "execution_count": 33,
      "outputs": [
        {
          "output_type": "stream",
          "name": "stdout",
          "text": [
            "250000 75.0\n"
          ]
        }
      ]
    },
    {
      "cell_type": "markdown",
      "source": [
        "Start apriori"
      ],
      "metadata": {
        "id": "pWvt7ZNkThUI"
      }
    },
    {
      "cell_type": "code",
      "source": [
        "#setp 1 calculate the freq of each item in the basket file\n",
        "singleton=basket_file.flatMap(list).map(lambda item: (item,1)).reduceByKey(lambda a,b: a+b)\n",
        "\n",
        "singleton.take(20)"
      ],
      "metadata": {
        "id": "bfa40RztBSiX",
        "colab": {
          "base_uri": "https://localhost:8080/"
        },
        "outputId": "80628c69-a9b9-48df-84a0-80f114131c0d"
      },
      "execution_count": 34,
      "outputs": [
        {
          "output_type": "execute_result",
          "data": {
            "text/plain": [
              "[('ukraineunderattaсk', 9681),\n",
              " ('russianinvasion', 1114),\n",
              " ('standwithukraine', 34663),\n",
              " ('ukrainewillwin', 2640),\n",
              " ('stopputin', 5243),\n",
              " ('russianukrainianwar', 6092),\n",
              " ('russiagohome', 2795),\n",
              " ('нетвойне', 2462),\n",
              " ('taiwan', 349),\n",
              " ('anonymous', 5565),\n",
              " ('ddosecrets', 1165),\n",
              " ('netde', 11),\n",
              " ('delaware', 4),\n",
              " ('usa', 2619),\n",
              " ('ukraineinvasion', 1712),\n",
              " ('moscow', 1255),\n",
              " ('putin', 15272),\n",
              " ('medvedev', 27),\n",
              " ('russianarmy', 2860),\n",
              " ('soviet', 60)]"
            ]
          },
          "metadata": {},
          "execution_count": 34
        }
      ]
    },
    {
      "cell_type": "code",
      "source": [
        "#step 2: filter out all the non frequent singleton\n",
        "freq_singleton=singleton.filter(lambda x: x[1]>=threshold)\n",
        "\n",
        "freq_singleton.take(20)"
      ],
      "metadata": {
        "id": "7DPrIUNDBSjg",
        "colab": {
          "base_uri": "https://localhost:8080/"
        },
        "outputId": "8cd465e8-5d1e-4e3d-ef6a-28126b1a94e7"
      },
      "execution_count": 35,
      "outputs": [
        {
          "output_type": "execute_result",
          "data": {
            "text/plain": [
              "[('ukraineunderattaсk', 9681),\n",
              " ('russianinvasion', 1114),\n",
              " ('standwithukraine', 34663),\n",
              " ('ukrainewillwin', 2640),\n",
              " ('stopputin', 5243),\n",
              " ('russianukrainianwar', 6092),\n",
              " ('russiagohome', 2795),\n",
              " ('нетвойне', 2462),\n",
              " ('taiwan', 349),\n",
              " ('anonymous', 5565),\n",
              " ('ddosecrets', 1165),\n",
              " ('usa', 2619),\n",
              " ('ukraineinvasion', 1712),\n",
              " ('moscow', 1255),\n",
              " ('putin', 15272),\n",
              " ('russianarmy', 2860),\n",
              " ('ukrainian', 8660),\n",
              " ('kharkiv', 3345),\n",
              " ('peace', 901),\n",
              " ('zelensky', 1105)]"
            ]
          },
          "metadata": {},
          "execution_count": 35
        }
      ]
    },
    {
      "cell_type": "code",
      "source": [
        "#step 3: now create all the possible pairs made up by frequen singletons\n",
        "\n",
        "from itertools import combinations\n",
        "pairs=list(combinations(freq_singleton.map(lambda x: x[0]).toLocalIterator(),2)) #without toLocalIterator error (reference https://stackoverflow.com/questions/32771737/convert-an-rdd-to-iterable-pyspark)\n",
        "\n",
        "sc = spark.sparkContext #convert pairs in an RDD\n",
        "rdd_pairs=sc.parallelize(pairs)\n",
        "rdd_pairs.take(10)"
      ],
      "metadata": {
        "colab": {
          "base_uri": "https://localhost:8080/"
        },
        "id": "6KAdkZPKXHeI",
        "outputId": "892be2c6-3a31-4b9c-b756-93b66c5808c8"
      },
      "execution_count": 36,
      "outputs": [
        {
          "output_type": "execute_result",
          "data": {
            "text/plain": [
              "[('ukraineunderattaсk', 'russianinvasion'),\n",
              " ('ukraineunderattaсk', 'standwithukraine'),\n",
              " ('ukraineunderattaсk', 'ukrainewillwin'),\n",
              " ('ukraineunderattaсk', 'stopputin'),\n",
              " ('ukraineunderattaсk', 'russianukrainianwar'),\n",
              " ('ukraineunderattaсk', 'russiagohome'),\n",
              " ('ukraineunderattaсk', 'нетвойне'),\n",
              " ('ukraineunderattaсk', 'taiwan'),\n",
              " ('ukraineunderattaсk', 'anonymous'),\n",
              " ('ukraineunderattaсk', 'ddosecrets')]"
            ]
          },
          "metadata": {},
          "execution_count": 36
        }
      ]
    },
    {
      "cell_type": "code",
      "source": [
        "#step 4 : filter out the non frequent pairs\n",
        "pairs_freq_sing=basket_file.map(lambda x: list(combinations(x,2)))  #per ogni basket, creo ogni possiblie coppia\n",
        "\n",
        "#flat and count and reduce\n",
        "flat_pairs=singleton=pairs_freq_sing.flatMap(list).map(lambda item: (item,1)).reduceByKey(lambda a,b: a+b)\n",
        "flat_pairs.take(5)"
      ],
      "metadata": {
        "id": "dFGyOP-Qc-1B",
        "colab": {
          "base_uri": "https://localhost:8080/"
        },
        "outputId": "f8268dca-666c-425d-ed42-4139bcc6574f"
      },
      "execution_count": 77,
      "outputs": [
        {
          "output_type": "execute_result",
          "data": {
            "text/plain": [
              "[(('protectuаsky', 'stoprussia'), 7344),\n",
              " (('russianinvasion', 'standwithukraine'), 678),\n",
              " (('russianinvasion', 'ukrainewillwin'), 631),\n",
              " (('russianinvasion', 'stopputin'), 654),\n",
              " (('russianinvasion', 'russianukrainianwar'), 648)]"
            ]
          },
          "metadata": {},
          "execution_count": 77
        }
      ]
    },
    {
      "cell_type": "code",
      "source": [
        "#step 5: finally filetr out the pairs < thresold\n",
        "freq_pairs=flat_pairs.filter(lambda x: x[1]>=threshold)\n",
        "\n",
        "freq_pairs.take(10)"
      ],
      "metadata": {
        "colab": {
          "base_uri": "https://localhost:8080/"
        },
        "id": "eTzbS55W3O32",
        "outputId": "574a7ab1-55fd-4758-ac46-5212ac161cd8"
      },
      "execution_count": 82,
      "outputs": [
        {
          "output_type": "execute_result",
          "data": {
            "text/plain": [
              "[(('protectuаsky', 'stoprussia'), 7344),\n",
              " (('russianinvasion', 'standwithukraine'), 678),\n",
              " (('russianinvasion', 'ukrainewillwin'), 631),\n",
              " (('russianinvasion', 'stopputin'), 654),\n",
              " (('russianinvasion', 'russianukrainianwar'), 648),\n",
              " (('russianinvasion', 'russiagohome'), 556),\n",
              " (('russianinvasion', 'нетвойне'), 631),\n",
              " (('standwithukraine', 'ukrainewillwin'), 2308),\n",
              " (('standwithukraine', 'stopputin'), 3301),\n",
              " (('standwithukraine', 'russianukrainianwar'), 2561)]"
            ]
          },
          "metadata": {},
          "execution_count": 82
        }
      ]
    },
    {
      "cell_type": "code",
      "source": [
        ""
      ],
      "metadata": {
        "id": "1PTbRkA64QT5"
      },
      "execution_count": null,
      "outputs": []
    }
  ],
  "metadata": {
    "colab": {
      "collapsed_sections": [],
      "name": "PROGETTO_AMD.ipynb",
      "provenance": []
    },
    "kernelspec": {
      "display_name": "Python 3",
      "name": "python3"
    },
    "language_info": {
      "name": "python"
    }
  },
  "nbformat": 4,
  "nbformat_minor": 0
}