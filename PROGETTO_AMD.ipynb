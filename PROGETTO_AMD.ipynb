{
  "cells": [
    {
      "cell_type": "markdown",
      "metadata": {
        "id": "I75tB61RaDHK"
      },
      "source": [
        "## Spark setting"
      ]
    },
    {
      "cell_type": "code",
      "execution_count": 2,
      "metadata": {
        "id": "ocBQFMViafoF"
      },
      "outputs": [],
      "source": [
        "!apt-get install openjdk-8-jdk-headless -qq > /dev/null\n",
        "!wget -q http://www-eu.apache.org/dist/spark/spark-3.0.3/spark-3.0.3-bin-hadoop2.7.tgz\n",
        "!tar xf spark-3.0.3-bin-hadoop2.7.tgz\n",
        "!pip install -q findspark"
      ]
    },
    {
      "cell_type": "code",
<<<<<<< HEAD
      "execution_count": 2,
=======
      "execution_count": 3,
>>>>>>> aab33757ca19b45281cc748e74a14c445018197c
      "metadata": {
        "id": "wg_tN5RmkCq3"
      },
      "outputs": [],
      "source": [
        "import os\n",
        "os.environ[\"JAVA_HOME\"] = \"/usr/lib/jvm/java-8-openjdk-amd64\"\n",
        "os.environ[\"SPARK_HOME\"] = \"/content/spark-3.0.3-bin-hadoop2.7\""
      ]
    },
    {
      "cell_type": "code",
      "execution_count": 3,
      "metadata": {
        "id": "ehkhKsLqafrV"
      },
      "outputs": [],
      "source": [
        "import findspark\n",
        "findspark.init(\"spark-3.0.3-bin-hadoop2.7\")# SPARK_HOME\n",
        "from pyspark.sql import SparkSession\n",
        "spark = SparkSession.builder.master(\"local[*]\").getOrCreate()"
      ]
    },
    {
      "cell_type": "code",
      "execution_count": 4,
      "metadata": {
        "id": "AMVtczB1kLun",
        "colab": {
          "base_uri": "https://localhost:8080/"
        },
<<<<<<< HEAD
        "outputId": "73df8a80-c915-4533-8d84-13abfbb3b445"
=======
        "outputId": "866fc9c3-417c-41ef-a816-8788f75562d9"
>>>>>>> aab33757ca19b45281cc748e74a14c445018197c
      },
      "outputs": [
        {
          "output_type": "execute_result",
          "data": {
            "text/plain": [
              "pyspark.sql.session.SparkSession"
            ]
          },
          "metadata": {},
          "execution_count": 4
        }
      ],
      "source": [
        "import pyspark\n",
        "type(spark)"
      ]
    },
    {
      "cell_type": "markdown",
      "metadata": {
        "id": "n8WiLqFNaAbz"
      },
      "source": [
        "## Kaggle APIs"
      ]
    },
    {
      "cell_type": "markdown",
      "metadata": {
        "id": "5DCmGBC2ZoBi"
      },
      "source": [
        "________________________________________________________________________"
      ]
    },
    {
      "cell_type": "code",
      "execution_count": 5,
      "metadata": {
        "id": "wvJrKVr00SxV",
        "colab": {
<<<<<<< HEAD
=======
          "base_uri": "https://localhost:8080/",
          "height": 90,
>>>>>>> aab33757ca19b45281cc748e74a14c445018197c
          "resources": {
            "http://localhost:8080/nbextensions/google.colab/files.js": {
              "data": "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",
              "ok": true,
              "headers": [
                [
                  "content-type",
                  "application/javascript"
                ]
              ],
              "status": 200,
              "status_text": ""
            }
          },
          "base_uri": "https://localhost:8080/",
          "height": 91
        },
<<<<<<< HEAD
        "outputId": "35424ecb-86af-4067-aae4-6d2b8e84a973"
=======
        "id": "wvJrKVr00SxV",
        "outputId": "3ae3e003-e9ab-42cb-d6e7-c3c208375657"
>>>>>>> aab33757ca19b45281cc748e74a14c445018197c
      },
      "outputs": [
        {
          "output_type": "display_data",
          "data": {
            "text/plain": [
              "<IPython.core.display.HTML object>"
            ],
            "text/html": [
              "\n",
<<<<<<< HEAD
              "     <input type=\"file\" id=\"files-4761da6f-5c80-49b9-bfa3-62e9141092f4\" name=\"files[]\" multiple disabled\n",
              "        style=\"border:none\" />\n",
              "     <output id=\"result-4761da6f-5c80-49b9-bfa3-62e9141092f4\">\n",
=======
              "     <input type=\"file\" id=\"files-338949be-eab2-4ed8-bb3d-1a9907419e6e\" name=\"files[]\" multiple disabled\n",
              "        style=\"border:none\" />\n",
              "     <output id=\"result-338949be-eab2-4ed8-bb3d-1a9907419e6e\">\n",
>>>>>>> aab33757ca19b45281cc748e74a14c445018197c
              "      Upload widget is only available when the cell has been executed in the\n",
              "      current browser session. Please rerun this cell to enable.\n",
              "      </output>\n",
              "      <script src=\"/nbextensions/google.colab/files.js\"></script> "
            ]
          },
          "metadata": {}
        },
        {
          "output_type": "stream",
          "name": "stdout",
          "text": [
            "Saving kaggle.json to kaggle (1).json\n"
          ]
        },
        {
          "output_type": "execute_result",
          "data": {
            "text/plain": [
              "{'kaggle.json': b'{\"username\":\"federicofiorio\",\"key\":\"3c9fda0dd26cc20d5f652a577743142c\"} \\r\\n'}"
            ]
          },
          "metadata": {},
          "execution_count": 5
        }
      ],
      "source": [
        "from google.colab import files\n",
        "files.upload() #upload kaggle.json"
      ]
    },
    {
      "cell_type": "code",
      "execution_count": 6,
      "metadata": {
        "id": "9cD_HErCy5VX",
        "colab": {
          "base_uri": "https://localhost:8080/"
        },
<<<<<<< HEAD
        "outputId": "e7f4a047-a294-4626-d4c4-b523c3b9f567"
=======
        "id": "9cD_HErCy5VX",
        "outputId": "b9b6f7a9-f6ca-472c-babc-83f15f279350"
>>>>>>> aab33757ca19b45281cc748e74a14c445018197c
      },
      "outputs": [
        {
          "output_type": "stream",
          "name": "stdout",
          "text": [
            "Requirement already satisfied: kaggle in /usr/local/lib/python3.7/dist-packages (1.5.12)\n",
            "Requirement already satisfied: urllib3 in /usr/local/lib/python3.7/dist-packages (from kaggle) (1.24.3)\n",
            "Requirement already satisfied: python-slugify in /usr/local/lib/python3.7/dist-packages (from kaggle) (6.1.2)\n",
            "Requirement already satisfied: six>=1.10 in /usr/local/lib/python3.7/dist-packages (from kaggle) (1.15.0)\n",
            "Requirement already satisfied: requests in /usr/local/lib/python3.7/dist-packages (from kaggle) (2.23.0)\n",
            "Requirement already satisfied: certifi in /usr/local/lib/python3.7/dist-packages (from kaggle) (2021.10.8)\n",
<<<<<<< HEAD
            "Requirement already satisfied: tqdm in /usr/local/lib/python3.7/dist-packages (from kaggle) (4.64.0)\n",
            "Requirement already satisfied: python-dateutil in /usr/local/lib/python3.7/dist-packages (from kaggle) (2.8.2)\n",
=======
            "Requirement already satisfied: python-dateutil in /usr/local/lib/python3.7/dist-packages (from kaggle) (2.8.2)\n",
            "Requirement already satisfied: python-slugify in /usr/local/lib/python3.7/dist-packages (from kaggle) (6.1.2)\n",
>>>>>>> aab33757ca19b45281cc748e74a14c445018197c
            "Requirement already satisfied: text-unidecode>=1.3 in /usr/local/lib/python3.7/dist-packages (from python-slugify->kaggle) (1.3)\n",
            "Requirement already satisfied: idna<3,>=2.5 in /usr/local/lib/python3.7/dist-packages (from requests->kaggle) (2.10)\n",
            "Requirement already satisfied: chardet<4,>=3.0.2 in /usr/local/lib/python3.7/dist-packages (from requests->kaggle) (3.0.4)\n"
          ]
        }
      ],
      "source": [
        "! pip install kaggle"
      ]
    },
    {
      "cell_type": "code",
      "execution_count": 7,
      "metadata": {
        "id": "BCLkDT1D09a5",
        "colab": {
          "base_uri": "https://localhost:8080/"
        },
        "outputId": "84224212-0fb1-4b57-c3ee-07d0b9c298d7"
      },
      "outputs": [
        {
          "output_type": "stream",
          "name": "stdout",
          "text": [
            "mkdir: cannot create directory ‘/root/.kaggle’: File exists\n"
          ]
        }
      ],
      "source": [
        "! mkdir ~/.kaggle"
      ]
    },
    {
      "cell_type": "code",
      "execution_count": 8,
      "metadata": {
        "id": "hAqh9chf0_0N"
      },
      "outputs": [],
      "source": [
        "!cp kaggle.json ~/.kaggle/"
      ]
    },
    {
      "cell_type": "code",
      "execution_count": 9,
      "metadata": {
        "id": "t6hitlea7e1f",
        "colab": {
          "base_uri": "https://localhost:8080/"
        },
<<<<<<< HEAD
        "outputId": "3c29690f-1838-4b2f-c7f0-a265b1508217"
=======
        "id": "t6hitlea7e1f",
        "outputId": "3c4a4b11-45ae-4693-dd66-659f27632d17"
>>>>>>> aab33757ca19b45281cc748e74a14c445018197c
      },
      "outputs": [
        {
          "output_type": "stream",
          "name": "stdout",
          "text": [
            "kaggle.json\n"
          ]
        }
      ],
      "source": [
        "!ls ~/.kaggle"
      ]
    },
    {
      "cell_type": "code",
      "execution_count": 10,
      "metadata": {
        "id": "GSkmf6Zc4dNv"
      },
      "outputs": [],
      "source": [
        "!chmod 600 /root/.kaggle/kaggle.json"
      ]
    },
    {
      "cell_type": "code",
      "execution_count": 11,
      "metadata": {
        "id": "Dv7QkLHU4nI2",
        "colab": {
          "base_uri": "https://localhost:8080/"
        },
<<<<<<< HEAD
        "outputId": "fee253a1-6d2b-4c9e-c168-77586c2d680d"
=======
        "id": "Dv7QkLHU4nI2",
        "outputId": "30ee050a-fbe7-4f6a-9d37-53333cc9f29c"
>>>>>>> aab33757ca19b45281cc748e74a14c445018197c
      },
      "outputs": [
        {
          "output_type": "stream",
          "name": "stdout",
          "text": [
<<<<<<< HEAD
            "ukraine-russian-crisis-twitter-dataset-1-2-m-rows.zip: Skipping, found more recently modified local copy (use --force to force download)\n"
=======
            "Downloading ukraine-russian-crisis-twitter-dataset-1-2-m-rows.zip to /content\n",
            "100% 7.22G/7.24G [01:09<00:00, 155MB/s]\n",
            "100% 7.24G/7.24G [01:09<00:00, 112MB/s]\n"
>>>>>>> aab33757ca19b45281cc748e74a14c445018197c
          ]
        }
      ],
      "source": [
        "!kaggle datasets download -d bwandowando/ukraine-russian-crisis-twitter-dataset-1-2-m-rows"
      ]
    },
    {
      "cell_type": "code",
      "execution_count": 12,
      "metadata": {
        "id": "lBspS-4-9Xgp",
        "colab": {
          "base_uri": "https://localhost:8080/"
        },
<<<<<<< HEAD
        "outputId": "a3f0eadd-e731-4b6c-bcef-faae96bc2add"
=======
        "id": "lBspS-4-9Xgp",
        "outputId": "2c8ce453-73db-46a2-a10a-8eefce871f6f"
>>>>>>> aab33757ca19b45281cc748e74a14c445018197c
      },
      "outputs": [
        {
          "output_type": "stream",
          "name": "stdout",
          "text": [
            " 0401_UkraineCombinedTweetsDeduped.csv.gzip\n",
            " 0402_UkraineCombinedTweetsDeduped.csv.gzip\n",
            " 0403_UkraineCombinedTweetsDeduped.csv.gzip\n",
            " 0404_UkraineCombinedTweetsDeduped.csv.gzip\n",
            " 0405_UkraineCombinedTweetsDeduped.csv.gzip\n",
            " 0406_UkraineCombinedTweetsDeduped.csv.gzip\n",
            " 0407_UkraineCombinedTweetsDeduped.csv.gzip\n",
            " 0408_UkraineCombinedTweetsDeduped.csv.gzip\n",
            " 0409_UkraineCombinedTweetsDeduped.csv.gzip\n",
            " 0410_UkraineCombinedTweetsDeduped.csv.gzip\n",
            " 0411_UkraineCombinedTweetsDeduped.csv.gzip\n",
            " 0412_UkraineCombinedTweetsDeduped.csv.gzip\n",
            " 0413_UkraineCombinedTweetsDeduped.csv.gzip\n",
            " 0414_UkraineCombinedTweetsDeduped.csv.gzip\n",
            " 0415_UkraineCombinedTweetsDeduped.csv.gzip\n",
            " 0416_UkraineCombinedTweetsDeduped.csv.gzip\n",
            " 0417_UkraineCombinedTweetsDeduped.csv.gzip\n",
            " 0418_UkraineCombinedTweetsDeduped.csv.gzip\n",
            " 0419_UkraineCombinedTweetsDeduped.csv.gzip\n",
            " 0420_UkraineCombinedTweetsDeduped.csv.gzip\n",
            " 0421_UkraineCombinedTweetsDeduped.csv.gzip\n",
            " 0422_UkraineCombinedTweetsDeduped.csv.gzip\n",
            " 0423_UkraineCombinedTweetsDeduped.csv.gzip\n",
            " 0424_UkraineCombinedTweetsDeduped.csv.gzip\n",
            " 0425_UkraineCombinedTweetsDeduped.csv.gzip\n",
            " 0426_UkraineCombinedTweetsDeduped.csv.gzip\n",
            " 0427_UkraineCombinedTweetsDeduped.csv.gzip\n",
            " 0428_UkraineCombinedTweetsDeduped.csv.gzip\n",
            " 0429_UkraineCombinedTweetsDeduped.csv.gzip\n",
            " 0430_UkraineCombinedTweetsDeduped.csv.gzip\n",
            " 0501_UkraineCombinedTweetsDeduped.csv.gzip\n",
            " 0502_UkraineCombinedTweetsDeduped.csv.gzip\n",
            " 0503_UkraineCombinedTweetsDeduped.csv.gzip\n",
            " 0504_UkraineCombinedTweetsDeduped.csv.gzip\n",
            " 0505_to_0507_UkraineCombinedTweetsDeduped.csv.gzip\n",
            " 0508_UkraineCombinedTweetsDeduped.csv.gzip\n",
            " 0509_UkraineCombinedTweetsDeduped.csv.gzip\n",
            " 0510_UkraineCombinedTweetsDeduped.csv.gzip\n",
            " 0511_UkraineCombinedTweetsDeduped.csv.gzip\n",
            " 0512_UkraineCombinedTweetsDeduped.csv.gzip\n",
            " 0513_UkraineCombinedTweetsDeduped.csv.gzip\n",
            " 0514_UkraineCombinedTweetsDeduped.csv.gzip\n",
            " 0515_UkraineCombinedTweetsDeduped.csv.gzip\n",
            " 0516_UkraineCombinedTweetsDeduped.csv.gzip\n",
            " 0517_UkraineCombinedTweetsDeduped.csv.gzip\n",
            "'kaggle (1).json'\n",
            " kaggle.json\n",
            " sample_data\n",
            " spark-3.0.3-bin-hadoop2.7\n",
            " spark-3.0.3-bin-hadoop2.7.tgz\n",
            " spark-3.0.3-bin-hadoop2.7.tgz.1\n",
            " UkraineCombinedTweetsDeduped20220227-131611.csv.gzip\n",
            " UkraineCombinedTweetsDeduped_FEB27.csv.gzip\n",
            " UkraineCombinedTweetsDeduped_FEB28_part1.csv.gzip\n",
            " UkraineCombinedTweetsDeduped_FEB28_part2.csv.gzip\n",
            " UkraineCombinedTweetsDeduped_MAR01.csv.gzip\n",
            " UkraineCombinedTweetsDeduped_MAR02.csv.gzip\n",
            " UkraineCombinedTweetsDeduped_MAR03.csv.gzip\n",
            " UkraineCombinedTweetsDeduped_MAR04.csv.gzip\n",
            " UkraineCombinedTweetsDeduped_MAR05.csv.gzip\n",
            " UkraineCombinedTweetsDeduped_MAR06.csv.gzip\n",
            " UkraineCombinedTweetsDeduped_MAR07.csv.gzip\n",
            " UkraineCombinedTweetsDeduped_MAR08.csv.gzip\n",
            " UkraineCombinedTweetsDeduped_MAR09.csv.gzip\n",
            " UkraineCombinedTweetsDeduped_MAR10.csv.gzip\n",
            " UkraineCombinedTweetsDeduped_MAR11.csv.gzip\n",
            " UkraineCombinedTweetsDeduped_MAR12.csv.gzip\n",
            " UkraineCombinedTweetsDeduped_MAR13.csv.gzip\n",
            " UkraineCombinedTweetsDeduped_MAR14.csv.gzip\n",
            " UkraineCombinedTweetsDeduped_MAR15.csv.gzip\n",
            " UkraineCombinedTweetsDeduped_MAR16.csv.gzip\n",
            " UkraineCombinedTweetsDeduped_MAR17.csv.gzip\n",
            " UkraineCombinedTweetsDeduped_MAR18.csv.gzip\n",
            " UkraineCombinedTweetsDeduped_MAR19.csv.gzip\n",
            " UkraineCombinedTweetsDeduped_MAR20.csv.gzip\n",
            " UkraineCombinedTweetsDeduped_MAR21.csv.gzip\n",
            " UkraineCombinedTweetsDeduped_MAR22.csv.gzip\n",
            " UkraineCombinedTweetsDeduped_MAR23.csv.gzip\n",
            " UkraineCombinedTweetsDeduped_MAR24.csv.gzip\n",
            " UkraineCombinedTweetsDeduped_MAR25.csv.gzip\n",
            " UkraineCombinedTweetsDeduped_MAR26.csv.gzip\n",
            " UkraineCombinedTweetsDeduped_MAR27_to_28.csv.gzip\n",
            " UkraineCombinedTweetsDeduped_MAR29.csv.gzip\n",
            " UkraineCombinedTweetsDeduped_MAR30_REAL.csv.gzip\n",
            " UkraineCombinedTweetsDeduped_MAR31.csv.gzip\n",
            " ukraine-russian-crisis-twitter-dataset-1-2-m-rows.zip\n"
          ]
        }
      ],
      "source": [
        "!ls"
      ]
    },
    {
      "cell_type": "code",
      "execution_count": 13,
      "metadata": {
        "id": "JOCKUrFx22Sp",
        "colab": {
          "base_uri": "https://localhost:8080/"
        },
<<<<<<< HEAD
        "outputId": "bf8f2e95-5049-4b0f-ce99-8f5433c3047a"
=======
        "id": "JOCKUrFx22Sp",
        "outputId": "60bbd972-c9dd-44a8-9774-4d7ee72609ca"
>>>>>>> aab33757ca19b45281cc748e74a14c445018197c
      },
      "outputs": [
        {
          "output_type": "stream",
          "name": "stdout",
          "text": [
            "Archive:  ukraine-russian-crisis-twitter-dataset-1-2-m-rows.zip\n",
<<<<<<< HEAD
            "replace 0401_UkraineCombinedTweetsDeduped.csv.gzip? [y]es, [n]o, [A]ll, [N]one, [r]ename: "
=======
            "  inflating: 0401_UkraineCombinedTweetsDeduped.csv.gzip  \n",
            "  inflating: 0402_UkraineCombinedTweetsDeduped.csv.gzip  \n",
            "  inflating: 0403_UkraineCombinedTweetsDeduped.csv.gzip  \n",
            "  inflating: 0404_UkraineCombinedTweetsDeduped.csv.gzip  \n",
            "  inflating: 0405_UkraineCombinedTweetsDeduped.csv.gzip  \n",
            "  inflating: 0406_UkraineCombinedTweetsDeduped.csv.gzip  \n",
            "  inflating: 0407_UkraineCombinedTweetsDeduped.csv.gzip  \n",
            "  inflating: 0408_UkraineCombinedTweetsDeduped.csv.gzip  \n",
            "  inflating: 0409_UkraineCombinedTweetsDeduped.csv.gzip  \n",
            "  inflating: 0410_UkraineCombinedTweetsDeduped.csv.gzip  \n",
            "  inflating: 0411_UkraineCombinedTweetsDeduped.csv.gzip  \n",
            "  inflating: 0412_UkraineCombinedTweetsDeduped.csv.gzip  \n",
            "  inflating: 0413_UkraineCombinedTweetsDeduped.csv.gzip  \n",
            "  inflating: 0414_UkraineCombinedTweetsDeduped.csv.gzip  \n",
            "  inflating: 0415_UkraineCombinedTweetsDeduped.csv.gzip  \n",
            "  inflating: 0416_UkraineCombinedTweetsDeduped.csv.gzip  \n",
            "  inflating: 0417_UkraineCombinedTweetsDeduped.csv.gzip  \n",
            "  inflating: 0418_UkraineCombinedTweetsDeduped.csv.gzip  \n",
            "  inflating: 0419_UkraineCombinedTweetsDeduped.csv.gzip  \n",
            "  inflating: 0420_UkraineCombinedTweetsDeduped.csv.gzip  \n",
            "  inflating: 0421_UkraineCombinedTweetsDeduped.csv.gzip  \n",
            "  inflating: 0422_UkraineCombinedTweetsDeduped.csv.gzip  \n",
            "  inflating: 0423_UkraineCombinedTweetsDeduped.csv.gzip  \n",
            "  inflating: 0424_UkraineCombinedTweetsDeduped.csv.gzip  \n",
            "  inflating: 0425_UkraineCombinedTweetsDeduped.csv.gzip  \n",
            "  inflating: 0426_UkraineCombinedTweetsDeduped.csv.gzip  \n",
            "  inflating: 0427_UkraineCombinedTweetsDeduped.csv.gzip  \n",
            "  inflating: 0428_UkraineCombinedTweetsDeduped.csv.gzip  \n",
            "  inflating: 0429_UkraineCombinedTweetsDeduped.csv.gzip  \n",
            "  inflating: 0430_UkraineCombinedTweetsDeduped.csv.gzip  \n",
            "  inflating: 0501_UkraineCombinedTweetsDeduped.csv.gzip  \n",
            "  inflating: 0502_UkraineCombinedTweetsDeduped.csv.gzip  \n",
            "  inflating: 0503_UkraineCombinedTweetsDeduped.csv.gzip  \n",
            "  inflating: 0504_UkraineCombinedTweetsDeduped.csv.gzip  \n",
            "  inflating: 0505_to_0507_UkraineCombinedTweetsDeduped.csv.gzip  \n",
            "  inflating: 0508_UkraineCombinedTweetsDeduped.csv.gzip  \n",
            "  inflating: 0509_UkraineCombinedTweetsDeduped.csv.gzip  \n",
            "  inflating: 0510_UkraineCombinedTweetsDeduped.csv.gzip  \n",
            "  inflating: 0511_UkraineCombinedTweetsDeduped.csv.gzip  \n",
            "  inflating: 0512_UkraineCombinedTweetsDeduped.csv.gzip  \n",
            "  inflating: 0513_UkraineCombinedTweetsDeduped.csv.gzip  \n",
            "  inflating: 0514_UkraineCombinedTweetsDeduped.csv.gzip  \n",
            "  inflating: 0515_UkraineCombinedTweetsDeduped.csv.gzip  \n",
            "  inflating: 0516_UkraineCombinedTweetsDeduped.csv.gzip  \n",
            "  inflating: 0517_UkraineCombinedTweetsDeduped.csv.gzip  \n",
            "  inflating: UkraineCombinedTweetsDeduped20220227-131611.csv.gzip  \n",
            "  inflating: UkraineCombinedTweetsDeduped_FEB27.csv.gzip  \n",
            "  inflating: UkraineCombinedTweetsDeduped_FEB28_part1.csv.gzip  \n",
            "  inflating: UkraineCombinedTweetsDeduped_FEB28_part2.csv.gzip  \n",
            "  inflating: UkraineCombinedTweetsDeduped_MAR01.csv.gzip  \n",
            "  inflating: UkraineCombinedTweetsDeduped_MAR02.csv.gzip  \n",
            "  inflating: UkraineCombinedTweetsDeduped_MAR03.csv.gzip  \n",
            "  inflating: UkraineCombinedTweetsDeduped_MAR04.csv.gzip  \n",
            "  inflating: UkraineCombinedTweetsDeduped_MAR05.csv.gzip  \n",
            "  inflating: UkraineCombinedTweetsDeduped_MAR06.csv.gzip  \n",
            "  inflating: UkraineCombinedTweetsDeduped_MAR07.csv.gzip  \n",
            "  inflating: UkraineCombinedTweetsDeduped_MAR08.csv.gzip  \n",
            "  inflating: UkraineCombinedTweetsDeduped_MAR09.csv.gzip  \n",
            "  inflating: UkraineCombinedTweetsDeduped_MAR10.csv.gzip  \n",
            "  inflating: UkraineCombinedTweetsDeduped_MAR11.csv.gzip  \n",
            "  inflating: UkraineCombinedTweetsDeduped_MAR12.csv.gzip  \n",
            "  inflating: UkraineCombinedTweetsDeduped_MAR13.csv.gzip  \n",
            "  inflating: UkraineCombinedTweetsDeduped_MAR14.csv.gzip  \n",
            "  inflating: UkraineCombinedTweetsDeduped_MAR15.csv.gzip  \n",
            "  inflating: UkraineCombinedTweetsDeduped_MAR16.csv.gzip  \n",
            "  inflating: UkraineCombinedTweetsDeduped_MAR17.csv.gzip  \n",
            "  inflating: UkraineCombinedTweetsDeduped_MAR18.csv.gzip  \n",
            "  inflating: UkraineCombinedTweetsDeduped_MAR19.csv.gzip  \n",
            "  inflating: UkraineCombinedTweetsDeduped_MAR20.csv.gzip  \n",
            "  inflating: UkraineCombinedTweetsDeduped_MAR21.csv.gzip  \n",
            "  inflating: UkraineCombinedTweetsDeduped_MAR22.csv.gzip  \n",
            "  inflating: UkraineCombinedTweetsDeduped_MAR23.csv.gzip  \n",
            "  inflating: UkraineCombinedTweetsDeduped_MAR24.csv.gzip  \n",
            "  inflating: UkraineCombinedTweetsDeduped_MAR25.csv.gzip  \n",
            "  inflating: UkraineCombinedTweetsDeduped_MAR26.csv.gzip  \n",
            "  inflating: UkraineCombinedTweetsDeduped_MAR27_to_28.csv.gzip  \n",
            "  inflating: UkraineCombinedTweetsDeduped_MAR29.csv.gzip  \n",
            "  inflating: UkraineCombinedTweetsDeduped_MAR30_REAL.csv.gzip  \n",
            "  inflating: UkraineCombinedTweetsDeduped_MAR31.csv.gzip  \n"
>>>>>>> aab33757ca19b45281cc748e74a14c445018197c
          ]
        }
      ],
      "source": [
        "!unzip ukraine-russian-crisis-twitter-dataset-1-2-m-rows.zip"
      ]
    },
    {
      "cell_type": "markdown",
      "metadata": {
        "id": "r9XHPiaqZ0zz"
      },
      "source": [
        "## Use the data"
      ]
    },
    {
      "cell_type": "markdown",
      "metadata": {
        "id": "Q2RBBWPHZx4r"
      },
      "source": [
        "________________________________________________________________________"
      ]
    },
    {
      "cell_type": "code",
      "execution_count": 14,
      "metadata": {
        "id": "bNY3XvoLw3md"
      },
      "outputs": [],
      "source": [
        "import numpy as np\n",
        "import pandas as pd\n",
        "import csv\n",
        "import os\n",
        "import warnings"
      ]
    },
    {
      "cell_type": "code",
      "execution_count": 15,
      "metadata": {
        "id": "Hh2IS9SM9pYh",
        "colab": {
          "base_uri": "https://localhost:8080/"
        },
<<<<<<< HEAD
        "outputId": "afdd9d37-a64b-4b68-d512-626890bf4cbd"
=======
        "id": "Hh2IS9SM9pYh",
        "outputId": "dbd6e8f0-1126-4750-e6bd-91165aa5f711"
>>>>>>> aab33757ca19b45281cc748e74a14c445018197c
      },
      "outputs": [
        {
          "output_type": "stream",
          "name": "stderr",
          "text": [
            "/usr/local/lib/python3.7/dist-packages/IPython/core/interactiveshell.py:2882: DtypeWarning: Columns (15) have mixed types.Specify dtype option on import or set low_memory=False.\n",
            "  exec(code_obj, self.user_global_ns, self.user_ns)\n"
          ]
        }
      ],
      "source": [
        "filename = r\"0401_UkraineCombinedTweetsDeduped.csv.gzip\"\n",
        "df = pd.read_csv(filename, compression='gzip', index_col=0,encoding='utf-8', quoting=csv.QUOTE_ALL)"
      ]
    },
    {
      "cell_type": "code",
      "execution_count": 16,
      "metadata": {
        "id": "JCM3URp35liu",
        "colab": {
          "base_uri": "https://localhost:8080/",
          "height": 582
        },
<<<<<<< HEAD
        "outputId": "339fad6c-fb72-445e-c919-eb5e21b16c54"
=======
        "id": "JCM3URp35liu",
        "outputId": "9e3f2540-87ef-4b5a-9fd8-2a5770bfae22"
>>>>>>> aab33757ca19b45281cc748e74a14c445018197c
      },
      "outputs": [
        {
          "output_type": "execute_result",
          "data": {
            "text/plain": [
              "                                                                0  \\\n",
              "userid                                                   16882774   \n",
              "username                                                  Yaniela   \n",
              "acctdesc        Animal lover, supports those who fight injusti...   \n",
              "location                                                   Hawaii   \n",
              "following                                                    1158   \n",
              "followers                                                     392   \n",
              "totaltweets                                                 88366   \n",
              "usercreatedts                          2008-10-21 07:34:04.000000   \n",
              "tweetid                                       1509681950042198030   \n",
              "tweetcreatedts                         2022-04-01 00:00:00.000000   \n",
              "retweetcount                                                 3412   \n",
              "text            ⚡The Ukrainian Air Force would like to address...   \n",
              "hashtags                                                       []   \n",
              "language                                                       en   \n",
              "coordinates                                                   NaN   \n",
              "favorite_count                                                  0   \n",
              "extractedts                            2022-04-01 00:44:20.097867   \n",
              "\n",
              "                                                                1  \n",
              "userid                                                 3205296069  \n",
              "username                                                 gregffff  \n",
              "acctdesc                                                      NaN  \n",
              "location                                                      NaN  \n",
              "following                                                     122  \n",
              "followers                                                     881  \n",
              "totaltweets                                                 99853  \n",
              "usercreatedts                          2015-04-25 11:24:34.000000  \n",
              "tweetid                                       1509681950151348229  \n",
              "tweetcreatedts                         2022-04-01 00:00:00.000000  \n",
              "retweetcount                                                  100  \n",
              "text            Chernihiv oblast. Ukrainians welcome their lib...  \n",
              "hashtags        [{'text': 'russianinvasion', 'indices': [77, 9...  \n",
              "language                                                       en  \n",
              "coordinates                                                   NaN  \n",
              "favorite_count                                                  0  \n",
              "extractedts                            2022-04-01 00:09:37.148770  "
            ],
            "text/html": [
              "\n",
<<<<<<< HEAD
              "  <div id=\"df-bd80dcd4-770e-45ab-a8b5-7968be3cf32c\">\n",
=======
              "  <div id=\"df-a9ae2831-435f-4806-bc6a-c1564d3db4e0\">\n",
>>>>>>> aab33757ca19b45281cc748e74a14c445018197c
              "    <div class=\"colab-df-container\">\n",
              "      <div>\n",
              "<style scoped>\n",
              "    .dataframe tbody tr th:only-of-type {\n",
              "        vertical-align: middle;\n",
              "    }\n",
              "\n",
              "    .dataframe tbody tr th {\n",
              "        vertical-align: top;\n",
              "    }\n",
              "\n",
              "    .dataframe thead th {\n",
              "        text-align: right;\n",
              "    }\n",
              "</style>\n",
              "<table border=\"1\" class=\"dataframe\">\n",
              "  <thead>\n",
              "    <tr style=\"text-align: right;\">\n",
              "      <th></th>\n",
              "      <th>0</th>\n",
              "      <th>1</th>\n",
              "    </tr>\n",
              "  </thead>\n",
              "  <tbody>\n",
              "    <tr>\n",
              "      <th>userid</th>\n",
              "      <td>16882774</td>\n",
              "      <td>3205296069</td>\n",
              "    </tr>\n",
              "    <tr>\n",
              "      <th>username</th>\n",
              "      <td>Yaniela</td>\n",
              "      <td>gregffff</td>\n",
              "    </tr>\n",
              "    <tr>\n",
              "      <th>acctdesc</th>\n",
              "      <td>Animal lover, supports those who fight injusti...</td>\n",
              "      <td>NaN</td>\n",
              "    </tr>\n",
              "    <tr>\n",
              "      <th>location</th>\n",
              "      <td>Hawaii</td>\n",
              "      <td>NaN</td>\n",
              "    </tr>\n",
              "    <tr>\n",
              "      <th>following</th>\n",
              "      <td>1158</td>\n",
              "      <td>122</td>\n",
              "    </tr>\n",
              "    <tr>\n",
              "      <th>followers</th>\n",
              "      <td>392</td>\n",
              "      <td>881</td>\n",
              "    </tr>\n",
              "    <tr>\n",
              "      <th>totaltweets</th>\n",
              "      <td>88366</td>\n",
              "      <td>99853</td>\n",
              "    </tr>\n",
              "    <tr>\n",
              "      <th>usercreatedts</th>\n",
              "      <td>2008-10-21 07:34:04.000000</td>\n",
              "      <td>2015-04-25 11:24:34.000000</td>\n",
              "    </tr>\n",
              "    <tr>\n",
              "      <th>tweetid</th>\n",
              "      <td>1509681950042198030</td>\n",
              "      <td>1509681950151348229</td>\n",
              "    </tr>\n",
              "    <tr>\n",
              "      <th>tweetcreatedts</th>\n",
              "      <td>2022-04-01 00:00:00.000000</td>\n",
              "      <td>2022-04-01 00:00:00.000000</td>\n",
              "    </tr>\n",
              "    <tr>\n",
              "      <th>retweetcount</th>\n",
              "      <td>3412</td>\n",
              "      <td>100</td>\n",
              "    </tr>\n",
              "    <tr>\n",
              "      <th>text</th>\n",
              "      <td>⚡The Ukrainian Air Force would like to address...</td>\n",
              "      <td>Chernihiv oblast. Ukrainians welcome their lib...</td>\n",
              "    </tr>\n",
              "    <tr>\n",
              "      <th>hashtags</th>\n",
              "      <td>[]</td>\n",
              "      <td>[{'text': 'russianinvasion', 'indices': [77, 9...</td>\n",
              "    </tr>\n",
              "    <tr>\n",
              "      <th>language</th>\n",
              "      <td>en</td>\n",
              "      <td>en</td>\n",
              "    </tr>\n",
              "    <tr>\n",
              "      <th>coordinates</th>\n",
              "      <td>NaN</td>\n",
              "      <td>NaN</td>\n",
              "    </tr>\n",
              "    <tr>\n",
              "      <th>favorite_count</th>\n",
              "      <td>0</td>\n",
              "      <td>0</td>\n",
              "    </tr>\n",
              "    <tr>\n",
              "      <th>extractedts</th>\n",
              "      <td>2022-04-01 00:44:20.097867</td>\n",
              "      <td>2022-04-01 00:09:37.148770</td>\n",
              "    </tr>\n",
              "  </tbody>\n",
              "</table>\n",
              "</div>\n",
<<<<<<< HEAD
              "      <button class=\"colab-df-convert\" onclick=\"convertToInteractive('df-bd80dcd4-770e-45ab-a8b5-7968be3cf32c')\"\n",
=======
              "      <button class=\"colab-df-convert\" onclick=\"convertToInteractive('df-a9ae2831-435f-4806-bc6a-c1564d3db4e0')\"\n",
>>>>>>> aab33757ca19b45281cc748e74a14c445018197c
              "              title=\"Convert this dataframe to an interactive table.\"\n",
              "              style=\"display:none;\">\n",
              "        \n",
              "  <svg xmlns=\"http://www.w3.org/2000/svg\" height=\"24px\"viewBox=\"0 0 24 24\"\n",
              "       width=\"24px\">\n",
              "    <path d=\"M0 0h24v24H0V0z\" fill=\"none\"/>\n",
              "    <path d=\"M18.56 5.44l.94 2.06.94-2.06 2.06-.94-2.06-.94-.94-2.06-.94 2.06-2.06.94zm-11 1L8.5 8.5l.94-2.06 2.06-.94-2.06-.94L8.5 2.5l-.94 2.06-2.06.94zm10 10l.94 2.06.94-2.06 2.06-.94-2.06-.94-.94-2.06-.94 2.06-2.06.94z\"/><path d=\"M17.41 7.96l-1.37-1.37c-.4-.4-.92-.59-1.43-.59-.52 0-1.04.2-1.43.59L10.3 9.45l-7.72 7.72c-.78.78-.78 2.05 0 2.83L4 21.41c.39.39.9.59 1.41.59.51 0 1.02-.2 1.41-.59l7.78-7.78 2.81-2.81c.8-.78.8-2.07 0-2.86zM5.41 20L4 18.59l7.72-7.72 1.47 1.35L5.41 20z\"/>\n",
              "  </svg>\n",
              "      </button>\n",
              "      \n",
              "  <style>\n",
              "    .colab-df-container {\n",
              "      display:flex;\n",
              "      flex-wrap:wrap;\n",
              "      gap: 12px;\n",
              "    }\n",
              "\n",
              "    .colab-df-convert {\n",
              "      background-color: #E8F0FE;\n",
              "      border: none;\n",
              "      border-radius: 50%;\n",
              "      cursor: pointer;\n",
              "      display: none;\n",
              "      fill: #1967D2;\n",
              "      height: 32px;\n",
              "      padding: 0 0 0 0;\n",
              "      width: 32px;\n",
              "    }\n",
              "\n",
              "    .colab-df-convert:hover {\n",
              "      background-color: #E2EBFA;\n",
              "      box-shadow: 0px 1px 2px rgba(60, 64, 67, 0.3), 0px 1px 3px 1px rgba(60, 64, 67, 0.15);\n",
              "      fill: #174EA6;\n",
              "    }\n",
              "\n",
              "    [theme=dark] .colab-df-convert {\n",
              "      background-color: #3B4455;\n",
              "      fill: #D2E3FC;\n",
              "    }\n",
              "\n",
              "    [theme=dark] .colab-df-convert:hover {\n",
              "      background-color: #434B5C;\n",
              "      box-shadow: 0px 1px 3px 1px rgba(0, 0, 0, 0.15);\n",
              "      filter: drop-shadow(0px 1px 2px rgba(0, 0, 0, 0.3));\n",
              "      fill: #FFFFFF;\n",
              "    }\n",
              "  </style>\n",
              "\n",
              "      <script>\n",
              "        const buttonEl =\n",
<<<<<<< HEAD
              "          document.querySelector('#df-bd80dcd4-770e-45ab-a8b5-7968be3cf32c button.colab-df-convert');\n",
=======
              "          document.querySelector('#df-a9ae2831-435f-4806-bc6a-c1564d3db4e0 button.colab-df-convert');\n",
>>>>>>> aab33757ca19b45281cc748e74a14c445018197c
              "        buttonEl.style.display =\n",
              "          google.colab.kernel.accessAllowed ? 'block' : 'none';\n",
              "\n",
              "        async function convertToInteractive(key) {\n",
<<<<<<< HEAD
              "          const element = document.querySelector('#df-bd80dcd4-770e-45ab-a8b5-7968be3cf32c');\n",
=======
              "          const element = document.querySelector('#df-a9ae2831-435f-4806-bc6a-c1564d3db4e0');\n",
>>>>>>> aab33757ca19b45281cc748e74a14c445018197c
              "          const dataTable =\n",
              "            await google.colab.kernel.invokeFunction('convertToInteractive',\n",
              "                                                     [key], {});\n",
              "          if (!dataTable) return;\n",
              "\n",
              "          const docLinkHtml = 'Like what you see? Visit the ' +\n",
              "            '<a target=\"_blank\" href=https://colab.research.google.com/notebooks/data_table.ipynb>data table notebook</a>'\n",
              "            + ' to learn more about interactive tables.';\n",
              "          element.innerHTML = '';\n",
              "          dataTable['output_type'] = 'display_data';\n",
              "          await google.colab.output.renderOutput(dataTable, element);\n",
              "          const docLink = document.createElement('div');\n",
              "          docLink.innerHTML = docLinkHtml;\n",
              "          element.appendChild(docLink);\n",
              "        }\n",
              "      </script>\n",
              "    </div>\n",
              "  </div>\n",
              "  "
            ]
          },
          "metadata": {},
          "execution_count": 16
        }
      ],
      "source": [
        "df[0:2].T"
      ]
    },
    {
      "cell_type": "code",
      "execution_count": 17,
      "metadata": {
        "id": "288E8M1aAbqJ",
        "colab": {
          "base_uri": "https://localhost:8080/"
        },
<<<<<<< HEAD
        "outputId": "fbb08154-5354-4628-e910-63d5205fa4d6"
=======
        "id": "288E8M1aAbqJ",
        "outputId": "0c69b326-f4e1-4d31-dcd4-aac3d8019e0d"
>>>>>>> aab33757ca19b45281cc748e74a14c445018197c
      },
      "outputs": [
        {
          "output_type": "execute_result",
          "data": {
            "text/plain": [
              "pandas.core.frame.DataFrame"
            ]
          },
          "metadata": {},
          "execution_count": 17
        }
      ],
      "source": [
        "type(df)"
      ]
    },
    {
      "cell_type": "code",
      "source": [
        "df = df[['tweetid', 'text', 'hashtags','language']] #keep only 3 columns\n",
        "df.head()"
      ],
      "metadata": {
        "id": "YBpT85eV1DUc",
        "colab": {
          "base_uri": "https://localhost:8080/",
          "height": 206
        },
<<<<<<< HEAD
        "outputId": "8df32e1f-cabd-4af2-db45-27cfe5e05bff"
=======
        "outputId": "32c2420b-6378-49b0-d185-a428ca3b460f"
>>>>>>> aab33757ca19b45281cc748e74a14c445018197c
      },
      "execution_count": 18,
      "outputs": [
        {
          "output_type": "execute_result",
          "data": {
            "text/plain": [
              "               tweetid                                               text  \\\n",
              "0  1509681950042198030  ⚡The Ukrainian Air Force would like to address...   \n",
              "1  1509681950151348229  Chernihiv oblast. Ukrainians welcome their lib...   \n",
              "2  1509681950683926556  America 🇺🇸 is preparing for something worse th...   \n",
              "3  1509681951116046336  JUST IN: #Anonymous has hacked &amp; released ...   \n",
              "4  1509681951304990720  ***PUBLIC MINT NOW LIVE***\\n\\nFor \\n@billionai...   \n",
              "\n",
              "                                            hashtags language  \n",
              "0                                                 []       en  \n",
              "1  [{'text': 'russianinvasion', 'indices': [77, 9...       en  \n",
              "2  [{'text': 'RussianUkrainianWar', 'indices': [7...       en  \n",
              "3       [{'text': 'Anonymous', 'indices': [25, 35]}]       en  \n",
              "4                                                 []       en  "
            ],
            "text/html": [
              "\n",
<<<<<<< HEAD
              "  <div id=\"df-332995d4-c166-43f5-af42-fceae966cacc\">\n",
=======
              "  <div id=\"df-9d074051-9ed6-44ad-997d-7ddae7d2c18d\">\n",
>>>>>>> aab33757ca19b45281cc748e74a14c445018197c
              "    <div class=\"colab-df-container\">\n",
              "      <div>\n",
              "<style scoped>\n",
              "    .dataframe tbody tr th:only-of-type {\n",
              "        vertical-align: middle;\n",
              "    }\n",
              "\n",
              "    .dataframe tbody tr th {\n",
              "        vertical-align: top;\n",
              "    }\n",
              "\n",
              "    .dataframe thead th {\n",
              "        text-align: right;\n",
              "    }\n",
              "</style>\n",
              "<table border=\"1\" class=\"dataframe\">\n",
              "  <thead>\n",
              "    <tr style=\"text-align: right;\">\n",
              "      <th></th>\n",
              "      <th>tweetid</th>\n",
              "      <th>text</th>\n",
              "      <th>hashtags</th>\n",
              "      <th>language</th>\n",
              "    </tr>\n",
              "  </thead>\n",
              "  <tbody>\n",
              "    <tr>\n",
              "      <th>0</th>\n",
              "      <td>1509681950042198030</td>\n",
              "      <td>⚡The Ukrainian Air Force would like to address...</td>\n",
              "      <td>[]</td>\n",
              "      <td>en</td>\n",
              "    </tr>\n",
              "    <tr>\n",
              "      <th>1</th>\n",
              "      <td>1509681950151348229</td>\n",
              "      <td>Chernihiv oblast. Ukrainians welcome their lib...</td>\n",
              "      <td>[{'text': 'russianinvasion', 'indices': [77, 9...</td>\n",
              "      <td>en</td>\n",
              "    </tr>\n",
              "    <tr>\n",
              "      <th>2</th>\n",
              "      <td>1509681950683926556</td>\n",
              "      <td>America 🇺🇸 is preparing for something worse th...</td>\n",
              "      <td>[{'text': 'RussianUkrainianWar', 'indices': [7...</td>\n",
              "      <td>en</td>\n",
              "    </tr>\n",
              "    <tr>\n",
              "      <th>3</th>\n",
              "      <td>1509681951116046336</td>\n",
              "      <td>JUST IN: #Anonymous has hacked &amp;amp; released ...</td>\n",
              "      <td>[{'text': 'Anonymous', 'indices': [25, 35]}]</td>\n",
              "      <td>en</td>\n",
              "    </tr>\n",
              "    <tr>\n",
              "      <th>4</th>\n",
              "      <td>1509681951304990720</td>\n",
              "      <td>***PUBLIC MINT NOW LIVE***\\n\\nFor \\n@billionai...</td>\n",
              "      <td>[]</td>\n",
              "      <td>en</td>\n",
              "    </tr>\n",
              "  </tbody>\n",
              "</table>\n",
              "</div>\n",
<<<<<<< HEAD
              "      <button class=\"colab-df-convert\" onclick=\"convertToInteractive('df-332995d4-c166-43f5-af42-fceae966cacc')\"\n",
=======
              "      <button class=\"colab-df-convert\" onclick=\"convertToInteractive('df-9d074051-9ed6-44ad-997d-7ddae7d2c18d')\"\n",
>>>>>>> aab33757ca19b45281cc748e74a14c445018197c
              "              title=\"Convert this dataframe to an interactive table.\"\n",
              "              style=\"display:none;\">\n",
              "        \n",
              "  <svg xmlns=\"http://www.w3.org/2000/svg\" height=\"24px\"viewBox=\"0 0 24 24\"\n",
              "       width=\"24px\">\n",
              "    <path d=\"M0 0h24v24H0V0z\" fill=\"none\"/>\n",
              "    <path d=\"M18.56 5.44l.94 2.06.94-2.06 2.06-.94-2.06-.94-.94-2.06-.94 2.06-2.06.94zm-11 1L8.5 8.5l.94-2.06 2.06-.94-2.06-.94L8.5 2.5l-.94 2.06-2.06.94zm10 10l.94 2.06.94-2.06 2.06-.94-2.06-.94-.94-2.06-.94 2.06-2.06.94z\"/><path d=\"M17.41 7.96l-1.37-1.37c-.4-.4-.92-.59-1.43-.59-.52 0-1.04.2-1.43.59L10.3 9.45l-7.72 7.72c-.78.78-.78 2.05 0 2.83L4 21.41c.39.39.9.59 1.41.59.51 0 1.02-.2 1.41-.59l7.78-7.78 2.81-2.81c.8-.78.8-2.07 0-2.86zM5.41 20L4 18.59l7.72-7.72 1.47 1.35L5.41 20z\"/>\n",
              "  </svg>\n",
              "      </button>\n",
              "      \n",
              "  <style>\n",
              "    .colab-df-container {\n",
              "      display:flex;\n",
              "      flex-wrap:wrap;\n",
              "      gap: 12px;\n",
              "    }\n",
              "\n",
              "    .colab-df-convert {\n",
              "      background-color: #E8F0FE;\n",
              "      border: none;\n",
              "      border-radius: 50%;\n",
              "      cursor: pointer;\n",
              "      display: none;\n",
              "      fill: #1967D2;\n",
              "      height: 32px;\n",
              "      padding: 0 0 0 0;\n",
              "      width: 32px;\n",
              "    }\n",
              "\n",
              "    .colab-df-convert:hover {\n",
              "      background-color: #E2EBFA;\n",
              "      box-shadow: 0px 1px 2px rgba(60, 64, 67, 0.3), 0px 1px 3px 1px rgba(60, 64, 67, 0.15);\n",
              "      fill: #174EA6;\n",
              "    }\n",
              "\n",
              "    [theme=dark] .colab-df-convert {\n",
              "      background-color: #3B4455;\n",
              "      fill: #D2E3FC;\n",
              "    }\n",
              "\n",
              "    [theme=dark] .colab-df-convert:hover {\n",
              "      background-color: #434B5C;\n",
              "      box-shadow: 0px 1px 3px 1px rgba(0, 0, 0, 0.15);\n",
              "      filter: drop-shadow(0px 1px 2px rgba(0, 0, 0, 0.3));\n",
              "      fill: #FFFFFF;\n",
              "    }\n",
              "  </style>\n",
              "\n",
              "      <script>\n",
              "        const buttonEl =\n",
<<<<<<< HEAD
              "          document.querySelector('#df-332995d4-c166-43f5-af42-fceae966cacc button.colab-df-convert');\n",
=======
              "          document.querySelector('#df-9d074051-9ed6-44ad-997d-7ddae7d2c18d button.colab-df-convert');\n",
>>>>>>> aab33757ca19b45281cc748e74a14c445018197c
              "        buttonEl.style.display =\n",
              "          google.colab.kernel.accessAllowed ? 'block' : 'none';\n",
              "\n",
              "        async function convertToInteractive(key) {\n",
<<<<<<< HEAD
              "          const element = document.querySelector('#df-332995d4-c166-43f5-af42-fceae966cacc');\n",
=======
              "          const element = document.querySelector('#df-9d074051-9ed6-44ad-997d-7ddae7d2c18d');\n",
>>>>>>> aab33757ca19b45281cc748e74a14c445018197c
              "          const dataTable =\n",
              "            await google.colab.kernel.invokeFunction('convertToInteractive',\n",
              "                                                     [key], {});\n",
              "          if (!dataTable) return;\n",
              "\n",
              "          const docLinkHtml = 'Like what you see? Visit the ' +\n",
              "            '<a target=\"_blank\" href=https://colab.research.google.com/notebooks/data_table.ipynb>data table notebook</a>'\n",
              "            + ' to learn more about interactive tables.';\n",
              "          element.innerHTML = '';\n",
              "          dataTable['output_type'] = 'display_data';\n",
              "          await google.colab.output.renderOutput(dataTable, element);\n",
              "          const docLink = document.createElement('div');\n",
              "          docLink.innerHTML = docLinkHtml;\n",
              "          element.appendChild(docLink);\n",
              "        }\n",
              "      </script>\n",
              "    </div>\n",
              "  </div>\n",
              "  "
            ]
          },
          "metadata": {},
          "execution_count": 18
        }
      ]
    },
    {
      "cell_type": "code",
      "source": [
        "pd.options.display.max_colwidth = 1200\n",
        "print(df[df['tweetid']==\t1509681950042198030][\"text\"],df[df['tweetid']==\t1509681950042198030][\"hashtags\"])"
      ],
      "metadata": {
        "id": "g0vF6KiT8YAY",
        "colab": {
          "base_uri": "https://localhost:8080/"
        },
<<<<<<< HEAD
        "outputId": "bb23c1ab-03e0-458a-d88c-7aa86ec40e6f"
=======
        "id": "g0vF6KiT8YAY",
        "outputId": "831c9e95-3924-425e-a96c-f79f62637190"
>>>>>>> aab33757ca19b45281cc748e74a14c445018197c
      },
      "execution_count": 19,
      "outputs": [
        {
          "output_type": "stream",
          "name": "stdout",
          "text": [
            "0    ⚡The Ukrainian Air Force would like to address misinformation published in multiple Western media outlets regarding the situation in the 🇺🇦 sky and support from our @NATO allies. \\nMore in 🧵(1/16)\\n#ProtectUАSky #StopRussia #UkraineUnderAttaсk\n",
            "Name: text, dtype: object 0    []\n",
            "Name: hashtags, dtype: object\n"
          ]
        }
      ]
    },
    {
      "cell_type": "markdown",
      "source": [
        "As we can see in the previous cell, the tweet has the hashtag #StopRussia #UkraineUnderAttaсk BUT the dataframe (1st tuple) sais there are no hashtag in the tweet. We will try to recover form this."
      ],
      "metadata": {
        "id": "HEfNBiN--8NF"
      }
    },
    {
      "cell_type": "code",
<<<<<<< HEAD
      "execution_count": 20,
=======
      "execution_count": 21,
>>>>>>> aab33757ca19b45281cc748e74a14c445018197c
      "metadata": {
        "id": "N1KxUUGAlv_X"
      },
      "outputs": [],
      "source": [
        "from pyspark.sql.types import *\n",
        "\n",
        "schema = StructType([StructField(\"tweetid\", StringType(), True)\\\n",
        "                   ,StructField(\"text\", StringType(), True)\\\n",
        "                   ,StructField(\"hashtags\", StringType(), True)\\\n",
        "                   ,StructField(\"language\", StringType(), True)])\n",
        "\n",
        "#create spark dataframe using schema\n",
        "df_spark = spark.createDataFrame(df,schema=schema)"
      ]
    },
    {
      "cell_type": "code",
<<<<<<< HEAD
      "execution_count": 21,
=======
      "execution_count": 22,
>>>>>>> aab33757ca19b45281cc748e74a14c445018197c
      "metadata": {
        "id": "5mt_1Vi9lwB1",
        "colab": {
          "base_uri": "https://localhost:8080/"
        },
<<<<<<< HEAD
        "outputId": "cc93c697-a88d-426e-cebc-c1db5405194d"
=======
        "outputId": "d21e2ea9-91b0-4236-b871-89949e72aac5"
>>>>>>> aab33757ca19b45281cc748e74a14c445018197c
      },
      "outputs": [
        {
          "output_type": "execute_result",
          "data": {
            "text/plain": [
              "pyspark.sql.dataframe.DataFrame"
            ]
          },
          "metadata": {},
<<<<<<< HEAD
          "execution_count": 21
=======
          "execution_count": 22
>>>>>>> aab33757ca19b45281cc748e74a14c445018197c
        }
      ],
      "source": [
        "type(df_spark)"
      ]
    },
    {
      "cell_type": "code",
<<<<<<< HEAD
      "execution_count": 22,
=======
      "execution_count": 23,
>>>>>>> aab33757ca19b45281cc748e74a14c445018197c
      "metadata": {
        "id": "Tv5GCx1alwD3",
        "colab": {
          "base_uri": "https://localhost:8080/"
        },
<<<<<<< HEAD
        "outputId": "e3afc923-e12e-4d90-ab69-4a7c5a933523"
=======
        "outputId": "6b8f97ac-00ad-42e7-ad79-32001952231a"
>>>>>>> aab33757ca19b45281cc748e74a14c445018197c
      },
      "outputs": [
        {
          "output_type": "stream",
          "name": "stdout",
          "text": [
            "+-------------------+--------------------+--------------------+--------+\n",
            "|            tweetid|                text|            hashtags|language|\n",
            "+-------------------+--------------------+--------------------+--------+\n",
            "|1509681950042198030|⚡The Ukrainian Ai...|                  []|      en|\n",
            "|1509681950151348229|Chernihiv oblast....|[{'text': 'russia...|      en|\n",
            "|1509681950683926556|America 🇺🇸 is p...|[{'text': 'Russia...|      en|\n",
            "|1509681951116046336|JUST IN: #Anonymo...|[{'text': 'Anonym...|      en|\n",
            "|1509681951304990720|***PUBLIC MINT NO...|                  []|      en|\n",
            "|1509681952000937999|The Amazing story...|[{'text': 'Russia...|      en|\n",
            "|1509681952978210849|&amp;quot;How we ...|                  []|      en|\n",
            "|1509681953053843466|India's purchase ...|[{'text': 'Russia...|      en|\n",
            "|1509681953091457035|The most basic te...|[{'text': 'Ukrain...|      en|\n",
            "|1509681953418711050|\"The image that R...|[{'text': 'Putin'...|      en|\n",
            "|1509681953418752008|#Russia’s Preside...|[{'text': 'Russia...|      en|\n",
            "|1509681953636700160|Sad to read of th...|[{'text': 'Russia...|      en|\n",
            "|1509681953947074560|الرئيس الروسي يصع...|[{'text': 'عينك_ع...|      ar|\n",
            "|1509681954488303623|Tank T-34 at the ...|[{'text': 'Soviet...|      en|\n",
            "|1509681954647543824|The #Anonymous co...|[{'text': 'Anonym...|      en|\n",
            "|1509681955519938561|#Internacional 🇷...|[{'text': 'Intern...|      es|\n",
            "|1509681955603845120|***PUBLIC MINT NO...|                  []|      en|\n",
            "|1509681956149104652|#UkraineWar \n",
            "#Rus...|[{'text': 'Ukrain...|      en|\n",
            "|1509681956224602150|#Putin: Rubleyle ...|[{'text': 'Putin'...|      tr|\n",
            "|1509681957524979718|Read: https://t.c...|[{'text': 'Peace'...|      en|\n",
            "+-------------------+--------------------+--------------------+--------+\n",
            "only showing top 20 rows\n",
            "\n"
          ]
        }
      ],
      "source": [
        "df_spark.show()"
      ]
    },
    {
      "cell_type": "markdown",
      "source": [
        "## RDD TEXT SERVE PER PRENDERE GLI HASHTAG DAL TWEET IN QUANTO LA COLONNA HASHTAG DEL DATASET NON è ACCURATA"
      ],
      "metadata": {
        "id": "UABfyrnmWyLr"
      }
    },
    {
      "cell_type": "code",
      "source": [
        "import nltk\n",
        "from nltk import word_tokenize\n",
        "import re\n",
        "nltk.download('punkt') #to make it work\n",
        "\n",
        "rdd = df_spark.rdd #to get the rdd from dataframe\n",
        "\n",
        "rdd.take(10)\n",
        "rdd=rdd.filter(lambda x: x[3] == \"en\") #filter out non english tweets\n",
        "\n",
        "\n",
        "rdd_text = rdd.map(lambda x : (x[0], x[1])).map(lambda x:(x[0], word_tokenize(x[1]))) #id, word_tokenized"
      ],
      "metadata": {
        "id": "-Om2zbCe9yHH",
        "colab": {
          "base_uri": "https://localhost:8080/"
        },
<<<<<<< HEAD
        "outputId": "751163c2-3445-4401-d6c9-9c222c7e20ae"
      },
      "execution_count": 23,
=======
        "id": "-Om2zbCe9yHH",
        "outputId": "3100a23e-beb2-4e23-9af3-cfed754aed49"
      },
      "execution_count": 24,
>>>>>>> aab33757ca19b45281cc748e74a14c445018197c
      "outputs": [
        {
          "output_type": "stream",
          "name": "stdout",
          "text": [
            "[nltk_data] Downloading package punkt to /root/nltk_data...\n",
            "[nltk_data]   Unzipping tokenizers/punkt.zip.\n"
          ]
        }
      ]
    },
    {
      "cell_type": "markdown",
      "source": [
        "## ESTRAGGO SOLO GLI HASHTAGS"
      ],
      "metadata": {
        "id": "gbMQPHYuQ0zM"
      }
    },
    {
      "cell_type": "code",
      "source": [
        "def processHashtags(tweet):\n",
        "  hashtags = []\n",
        "  for i,word in enumerate(tweet):\n",
        "    if word == '#':\n",
        "      try:\n",
        "        hashtags.append(re.sub(r'[^\\w\\s]','',tweet[i+1]).lower()) #remove punctuation with regexp and put them lowercase\n",
        "      except:\n",
        "        pass\n",
        "  return hashtags\n",
        "\n",
        "hashtags_per_tweet = rdd_text.map(lambda x: (x[0], processHashtags(x[1])))\n",
        "hashtags_per_tweet.first()"
      ],
      "metadata": {
        "id": "NdcDV2lJ_p-2",
        "colab": {
          "base_uri": "https://localhost:8080/"
        },
<<<<<<< HEAD
        "outputId": "127a1f86-a14f-40ee-996d-613590e0c198"
      },
      "execution_count": 24,
=======
        "outputId": "d00a030b-9a6d-4009-e3dc-cace10bbd392"
      },
      "execution_count": 28,
>>>>>>> aab33757ca19b45281cc748e74a14c445018197c
      "outputs": [
        {
          "output_type": "execute_result",
          "data": {
            "text/plain": [
              "('1509681950042198030', ['protectuаsky', 'stoprussia', 'ukraineunderattaсk'])"
            ]
          },
          "metadata": {},
<<<<<<< HEAD
          "execution_count": 24
=======
          "execution_count": 28
>>>>>>> aab33757ca19b45281cc748e74a14c445018197c
        }
      ]
    },
    {
      "cell_type": "code",
      "source": [
        "#reconvert the rdd to spark dataframe\n",
        "deptColumns = [\"tweet\",\"hashtag\"]\n",
        "new_df_spark = hashtags_per_tweet.toDF(deptColumns)\n",
        "new_df_spark.printSchema()\n",
        "new_df_spark.show(truncate=False)"
      ],
      "metadata": {
        "id": "1iEJQjdwUkE9",
        "colab": {
          "base_uri": "https://localhost:8080/"
        },
<<<<<<< HEAD
        "outputId": "e575423f-b0c1-46ec-dfa6-5185e0ceac51"
      },
      "execution_count": 25,
      "outputs": [
        {
          "output_type": "stream",
          "name": "stdout",
          "text": [
            "root\n",
            " |-- tweet: string (nullable = true)\n",
            " |-- hashtag: array (nullable = true)\n",
            " |    |-- element: string (containsNull = true)\n",
            "\n",
            "+-------------------+--------------------------------------------------------------------------------------------------------------------------------------------------------------------------+\n",
            "|tweet              |hashtag                                                                                                                                                                   |\n",
            "+-------------------+--------------------------------------------------------------------------------------------------------------------------------------------------------------------------+\n",
            "|1509681950042198030|[protectuаsky, stoprussia, ukraineunderattaсk]                                                                                                                            |\n",
            "|1509681950151348229|[russianinvasion, standwithukraine, ukraineunderattack, ukrainewillwin, putinisawarcriminal, stopputin, russianukrainianwar, russiagohome, россиясмотри, нетвойне]        |\n",
            "|1509681950683926556|[russianukrainianwar, china, taiwan]                                                                                                                                      |\n",
            "|1509681951116046336|[anonymous, oprussia, ddosecrets]                                                                                                                                         |\n",
            "|1509681951304990720|[nft, mint]                                                                                                                                                               |\n",
            "|1509681952000937999|[russia, ukraine, motivation, netde, edude, delaware, government, usa]                                                                                                    |\n",
            "|1509681952978210849|[ukraine, ukrainewar, russia, ukraineinvasion]                                                                                                                            |\n",
            "|1509681953053843466|[russian, moscow]                                                                                                                                                         |\n",
            "|1509681953091457035|[ukraine]                                                                                                                                                                 |\n",
            "|1509681953418711050|[putin, medvedev, russia, ukraine]                                                                                                                                        |\n",
            "|1509681953418752008|[russia, putin]                                                                                                                                                           |\n",
            "|1509681953636700160|[russianarmy, chernobyl, russianukrainianwar]                                                                                                                             |\n",
            "|1509681954488303623|[soviet, berlin, ukrainian, russian, kharkiv]                                                                                                                             |\n",
            "|1509681954647543824|[anonymous, ukraine]                                                                                                                                                      |\n",
            "|1509681955603845120|[nft, mint]                                                                                                                                                               |\n",
            "|1509681956149104652|[ukrainewar, russia, ukraine, 30march, russianukrainianwar]                                                                                                               |\n",
            "|1509681957524979718|[peace, ukraine, democracy, war, putin, zelensky, russia, blackmedia, localnews, community, scoop, news, africanamericans, philadelphia, scoopusamedia, philly, subscribe]|\n",
            "|1509681958288338945|[ukraine]                                                                                                                                                                 |\n",
            "|1509681959965966345|[exclusive, itvideo, russiaukrainewar, re]                                                                                                                                |\n",
            "|1509681960066584593|[putin, ruble, currency, sanctions, oil, economy, negotiations, diplomacy, geopolitics, leadership, government, russia, warinukraine, war, russiaukrainewar]              |\n",
            "+-------------------+--------------------------------------------------------------------------------------------------------------------------------------------------------------------------+\n",
            "only showing top 20 rows\n",
            "\n"
          ]
        }
      ]
    },
    {
      "cell_type": "markdown",
      "source": [
        "APRIORI"
      ],
      "metadata": {
        "id": "5UBV7OukQr3h"
      }
    },
    {
      "cell_type": "code",
      "source": [
        "hashtag=new_df_spark.select('hashtag')"
      ],
      "metadata": {
        "id": "LYKRfbHh9ySU"
      },
      "execution_count": 26,
      "outputs": []
    },
    {
      "cell_type": "code",
      "source": [
        "basket_file = hashtag.rdd.flatMap(list)"
      ],
      "metadata": {
        "id": "6xD_xQSeRorv"
      },
      "execution_count": 27,
      "outputs": []
    },
    {
      "cell_type": "code",
      "source": [
        "basket_file.take(5)"
      ],
      "metadata": {
        "id": "Aa2HohPTyv_p",
        "colab": {
          "base_uri": "https://localhost:8080/"
        },
        "outputId": "3112843e-fe6d-47f9-f309-b795fadf04ac"
      },
      "execution_count": 28,
      "outputs": [
        {
          "output_type": "execute_result",
          "data": {
            "text/plain": [
              "[['protectuаsky', 'stoprussia', 'ukraineunderattaсk'],\n",
              " ['russianinvasion',\n",
              "  'standwithukraine',\n",
              "  'ukraineunderattack',\n",
              "  'ukrainewillwin',\n",
              "  'putinisawarcriminal',\n",
              "  'stopputin',\n",
              "  'russianukrainianwar',\n",
              "  'russiagohome',\n",
              "  'россиясмотри',\n",
              "  'нетвойне'],\n",
              " ['russianukrainianwar', 'china', 'taiwan'],\n",
              " ['anonymous', 'oprussia', 'ddosecrets'],\n",
              " ['nft', 'mint']]"
            ]
          },
          "metadata": {},
          "execution_count": 28
        }
      ]
    },
    {
      "cell_type": "markdown",
      "source": [
        "## Riduco dimensioni baskets per essere veloci"
      ],
      "metadata": {
        "id": "CV2FFWqn7fou"
      }
    },
    {
      "cell_type": "code",
      "source": [
        "basket_file = basket_file.take(5000)"
      ],
      "metadata": {
        "id": "5wxe9MKB7fQQ"
      },
      "execution_count": 29,
      "outputs": []
    },
    {
      "cell_type": "code",
      "source": [
        "basket_file = spark.sparkContext.parallelize(basket_file)"
      ],
      "metadata": {
        "id": "vUlj9lOI7_1N"
      },
      "execution_count": 30,
      "outputs": []
    },
    {
      "cell_type": "code",
      "source": [
        "type(basket_file)"
      ],
      "metadata": {
        "id": "S9sorRqZ8Ocu",
        "colab": {
          "base_uri": "https://localhost:8080/"
        },
        "outputId": "0d168ae1-9eba-4e2c-fa34-5059e42d8687"
      },
      "execution_count": 31,
      "outputs": [
        {
          "output_type": "execute_result",
          "data": {
            "text/plain": [
              "pyspark.rdd.RDD"
            ]
          },
          "metadata": {},
          "execution_count": 31
=======
        "outputId": "29b81e3d-0a67-4245-c5f7-2d8534929f2f"
      },
      "execution_count": 29,
      "outputs": [
        {
          "output_type": "stream",
          "name": "stdout",
          "text": [
            "root\n",
            " |-- tweet: string (nullable = true)\n",
            " |-- hashtag: array (nullable = true)\n",
            " |    |-- element: string (containsNull = true)\n",
            "\n",
            "+-------------------+--------------------------------------------------------------------------------------------------------------------------------------------------------------------------+\n",
            "|tweet              |hashtag                                                                                                                                                                   |\n",
            "+-------------------+--------------------------------------------------------------------------------------------------------------------------------------------------------------------------+\n",
            "|1509681950042198030|[protectuаsky, stoprussia, ukraineunderattaсk]                                                                                                                            |\n",
            "|1509681950151348229|[russianinvasion, standwithukraine, ukraineunderattack, ukrainewillwin, putinisawarcriminal, stopputin, russianukrainianwar, russiagohome, россиясмотри, нетвойне]        |\n",
            "|1509681950683926556|[russianukrainianwar, china, taiwan]                                                                                                                                      |\n",
            "|1509681951116046336|[anonymous, oprussia, ddosecrets]                                                                                                                                         |\n",
            "|1509681951304990720|[nft, mint]                                                                                                                                                               |\n",
            "|1509681952000937999|[russia, ukraine, motivation, netde, edude, delaware, government, usa]                                                                                                    |\n",
            "|1509681952978210849|[ukraine, ukrainewar, russia, ukraineinvasion]                                                                                                                            |\n",
            "|1509681953053843466|[russian, moscow]                                                                                                                                                         |\n",
            "|1509681953091457035|[ukraine]                                                                                                                                                                 |\n",
            "|1509681953418711050|[putin, medvedev, russia, ukraine]                                                                                                                                        |\n",
            "|1509681953418752008|[russia, putin]                                                                                                                                                           |\n",
            "|1509681953636700160|[russianarmy, chernobyl, russianukrainianwar]                                                                                                                             |\n",
            "|1509681954488303623|[soviet, berlin, ukrainian, russian, kharkiv]                                                                                                                             |\n",
            "|1509681954647543824|[anonymous, ukraine]                                                                                                                                                      |\n",
            "|1509681955603845120|[nft, mint]                                                                                                                                                               |\n",
            "|1509681956149104652|[ukrainewar, russia, ukraine, 30march, russianukrainianwar]                                                                                                               |\n",
            "|1509681957524979718|[peace, ukraine, democracy, war, putin, zelensky, russia, blackmedia, localnews, community, scoop, news, africanamericans, philadelphia, scoopusamedia, philly, subscribe]|\n",
            "|1509681958288338945|[ukraine]                                                                                                                                                                 |\n",
            "|1509681959965966345|[exclusive, itvideo, russiaukrainewar, re]                                                                                                                                |\n",
            "|1509681960066584593|[putin, ruble, currency, sanctions, oil, economy, negotiations, diplomacy, geopolitics, leadership, government, russia, warinukraine, war, russiaukrainewar]              |\n",
            "+-------------------+--------------------------------------------------------------------------------------------------------------------------------------------------------------------------+\n",
            "only showing top 20 rows\n",
            "\n"
          ]
>>>>>>> aab33757ca19b45281cc748e74a14c445018197c
        }
      ]
    },
    {
      "cell_type": "markdown",
      "source": [
<<<<<<< HEAD
        "basket_file.take(10)"
      ],
      "metadata": {
        "id": "nRkOzoaOAyrP",
        "colab": {
          "base_uri": "https://localhost:8080/"
        },
        "outputId": "41bdb21e-5226-4202-9588-97b54fb9c335"
=======
        "APRIORI"
      ],
      "metadata": {
        "id": "5UBV7OukQr3h"
      }
    },
    {
      "cell_type": "code",
      "source": [
        "hashtag=new_df_spark.select('hashtag')"
      ],
      "metadata": {
        "id": "LYKRfbHh9ySU"
      },
      "execution_count": 30,
      "outputs": []
    },
    {
      "cell_type": "code",
      "source": [
        "basket_file = hashtag.rdd.flatMap(list)"
      ],
      "metadata": {
        "id": "6xD_xQSeRorv"
      },
      "execution_count": 31,
      "outputs": []
    },
    {
      "cell_type": "code",
      "source": [
        " basket_file.take(5)"
      ],
      "metadata": {
        "id": "Aa2HohPTyv_p",
        "colab": {
          "base_uri": "https://localhost:8080/"
        },
        "outputId": "d9727da0-0901-4e81-843f-57676c116e50"
>>>>>>> aab33757ca19b45281cc748e74a14c445018197c
      },
      "execution_count": 32,
      "outputs": [
        {
          "output_type": "execute_result",
          "data": {
            "text/plain": [
              "[['protectuаsky', 'stoprussia', 'ukraineunderattaсk'],\n",
              " ['russianinvasion',\n",
              "  'standwithukraine',\n",
              "  'ukraineunderattack',\n",
              "  'ukrainewillwin',\n",
              "  'putinisawarcriminal',\n",
              "  'stopputin',\n",
              "  'russianukrainianwar',\n",
              "  'russiagohome',\n",
              "  'россиясмотри',\n",
              "  'нетвойне'],\n",
              " ['russianukrainianwar', 'china', 'taiwan'],\n",
              " ['anonymous', 'oprussia', 'ddosecrets'],\n",
<<<<<<< HEAD
              " ['nft', 'mint'],\n",
              " ['russia',\n",
              "  'ukraine',\n",
              "  'motivation',\n",
              "  'netde',\n",
              "  'edude',\n",
              "  'delaware',\n",
              "  'government',\n",
              "  'usa'],\n",
              " ['ukraine', 'ukrainewar', 'russia', 'ukraineinvasion'],\n",
              " ['russian', 'moscow'],\n",
              " ['ukraine'],\n",
              " ['putin', 'medvedev', 'russia', 'ukraine']]"
=======
              " ['nft', 'mint']]"
>>>>>>> aab33757ca19b45281cc748e74a14c445018197c
            ]
          },
          "metadata": {},
          "execution_count": 32
        }
      ]
    },
    {
<<<<<<< HEAD
      "cell_type": "markdown",
      "source": [
        "_______________________________________________________________________________"
      ],
      "metadata": {
        "id": "_v6RyYAH8A59"
      }
    },
    {
=======
>>>>>>> aab33757ca19b45281cc748e74a14c445018197c
      "cell_type": "code",
      "source": [
        "#DA RIVEDERE\n",
        "count = 250000 #obtaine doing count=basket_file.count() (too much time to repeat this all the time)\n",
<<<<<<< HEAD
        "threshold = 1\n",
=======
        "threshold = count*0.0003\n",
>>>>>>> aab33757ca19b45281cc748e74a14c445018197c
        "print(count, threshold)"
      ],
      "metadata": {
        "id": "4Jx_mBOQBScX",
        "colab": {
          "base_uri": "https://localhost:8080/"
        },
<<<<<<< HEAD
        "outputId": "cd83c8e8-167f-4d9a-ba8a-7b9f39cae018"
      },
      "execution_count": 47,
      "outputs": [
        {
          "output_type": "stream",
          "name": "stdout",
          "text": [
            "250000 1\n"
          ]
        }
      ]
    },
    {
      "cell_type": "markdown",
      "source": [
        "Start apriori"
      ],
      "metadata": {
        "id": "pWvt7ZNkThUI"
      }
    },
    {
      "cell_type": "code",
      "source": [
        "#setp 1 calculate the freq of each item in the basket file\n",
        "singleton=basket_file.flatMap(list).map(lambda item: (item,1)).reduceByKey(lambda a,b: a+b)\n",
        "\n",
        "singleton.take(20)"
      ],
      "metadata": {
        "id": "bfa40RztBSiX",
        "colab": {
          "base_uri": "https://localhost:8080/"
        },
        "outputId": "3002a641-1910-47fd-80c7-84bfbd59dd53"
      },
      "execution_count": 48,
      "outputs": [
        {
          "output_type": "execute_result",
          "data": {
            "text/plain": [
              "[('ukraineunderattaсk', 371),\n",
              " ('russianinvasion', 106),\n",
              " ('standwithukraine', 494),\n",
              " ('ukrainewillwin', 142),\n",
              " ('stopputin', 157),\n",
              " ('russianukrainianwar', 196),\n",
              " ('russiagohome', 117),\n",
              " ('нетвойне', 125),\n",
              " ('taiwan', 8),\n",
              " ('anonymous', 132),\n",
              " ('ddosecrets', 20),\n",
              " ('netde', 1),\n",
              " ('delaware', 1),\n",
              " ('usa', 63),\n",
              " ('ukraineinvasion', 18),\n",
              " ('moscow', 12),\n",
              " ('putin', 439),\n",
              " ('medvedev', 1),\n",
              " ('russianarmy', 40),\n",
              " ('soviet', 15)]"
            ]
          },
          "metadata": {},
          "execution_count": 48
        }
      ]
    },
    {
      "cell_type": "code",
      "source": [
        "#step 2: filter out all the non frequent singleton\n",
        "freq_singleton=singleton.filter(lambda x: x[1]>=threshold)\n",
        "\n",
        "freq_singleton.take(20)"
      ],
      "metadata": {
        "id": "7DPrIUNDBSjg",
        "colab": {
          "base_uri": "https://localhost:8080/"
        },
        "outputId": "88dfd457-c613-4600-ff6b-e10dafe1ab08"
      },
      "execution_count": 49,
      "outputs": [
        {
          "output_type": "execute_result",
          "data": {
            "text/plain": [
              "[('ukraineunderattaсk', 371),\n",
              " ('russianinvasion', 106),\n",
              " ('standwithukraine', 494),\n",
              " ('ukrainewillwin', 142),\n",
              " ('stopputin', 157),\n",
              " ('russianukrainianwar', 196),\n",
              " ('russiagohome', 117),\n",
              " ('нетвойне', 125),\n",
              " ('taiwan', 8),\n",
              " ('anonymous', 132),\n",
              " ('ddosecrets', 20),\n",
              " ('netde', 1),\n",
              " ('delaware', 1),\n",
              " ('usa', 63),\n",
              " ('ukraineinvasion', 18),\n",
              " ('moscow', 12),\n",
              " ('putin', 439),\n",
              " ('medvedev', 1),\n",
              " ('russianarmy', 40),\n",
              " ('soviet', 15)]"
            ]
          },
          "metadata": {},
          "execution_count": 49
        }
      ]
    },
    {
      "cell_type": "code",
      "source": [
        "#step 3: now create all the possible pairs made up by frequen singletons\n",
        "\n",
        "from itertools import combinations\n",
        "pairs=list(combinations(freq_singleton.map(lambda x: x[0]).toLocalIterator(),2)) #without toLocalIterator error (reference https://stackoverflow.com/questions/32771737/convert-an-rdd-to-iterable-pyspark)\n",
        "\n",
        "pairs[:10]"
      ],
      "metadata": {
        "id": "6KAdkZPKXHeI",
        "colab": {
          "base_uri": "https://localhost:8080/"
        },
        "outputId": "f968d803-e426-4bcc-c7af-ed5b6d520ead"
      },
      "execution_count": 50,
      "outputs": [
        {
          "output_type": "execute_result",
          "data": {
            "text/plain": [
              "[('ukraineunderattaсk', 'russianinvasion'),\n",
              " ('ukraineunderattaсk', 'standwithukraine'),\n",
              " ('ukraineunderattaсk', 'ukrainewillwin'),\n",
              " ('ukraineunderattaсk', 'stopputin'),\n",
              " ('ukraineunderattaсk', 'russianukrainianwar'),\n",
              " ('ukraineunderattaсk', 'russiagohome'),\n",
              " ('ukraineunderattaсk', 'нетвойне'),\n",
              " ('ukraineunderattaсk', 'taiwan'),\n",
              " ('ukraineunderattaсk', 'anonymous'),\n",
              " ('ukraineunderattaсk', 'ddosecrets')]"
            ]
          },
          "metadata": {},
          "execution_count": 50
        }
      ]
    },
    {
      "cell_type": "code",
      "source": [
        "pairs"
      ],
      "metadata": {
        "colab": {
          "base_uri": "https://localhost:8080/"
        },
        "id": "um2dezbMaw70",
        "outputId": "992e35f0-0d75-4f47-ed6d-7978374a90ff"
      },
      "execution_count": 51,
      "outputs": [
        {
          "output_type": "execute_result",
          "data": {
            "text/plain": [
              "[('ukraineunderattaсk', 'russianinvasion'),\n",
              " ('ukraineunderattaсk', 'standwithukraine'),\n",
              " ('ukraineunderattaсk', 'ukrainewillwin'),\n",
              " ('ukraineunderattaсk', 'stopputin'),\n",
              " ('ukraineunderattaсk', 'russianukrainianwar'),\n",
              " ('ukraineunderattaсk', 'russiagohome'),\n",
              " ('ukraineunderattaсk', 'нетвойне'),\n",
              " ('ukraineunderattaсk', 'taiwan'),\n",
              " ('ukraineunderattaсk', 'anonymous'),\n",
              " ('ukraineunderattaсk', 'ddosecrets'),\n",
              " ('ukraineunderattaсk', 'netde'),\n",
              " ('ukraineunderattaсk', 'delaware'),\n",
              " ('ukraineunderattaсk', 'usa'),\n",
              " ('ukraineunderattaсk', 'ukraineinvasion'),\n",
              " ('ukraineunderattaсk', 'moscow'),\n",
              " ('ukraineunderattaсk', 'putin'),\n",
              " ('ukraineunderattaсk', 'medvedev'),\n",
              " ('ukraineunderattaсk', 'russianarmy'),\n",
              " ('ukraineunderattaсk', 'soviet'),\n",
              " ('ukraineunderattaсk', 'ukrainian'),\n",
              " ('ukraineunderattaсk', 'kharkiv'),\n",
              " ('ukraineunderattaсk', '30march'),\n",
              " ('ukraineunderattaсk', 'peace'),\n",
              " ('ukraineunderattaсk', 'zelensky'),\n",
              " ('ukraineunderattaсk', 'community'),\n",
              " ('ukraineunderattaсk', 'news'),\n",
              " ('ukraineunderattaсk', 'philadelphia'),\n",
              " ('ukraineunderattaсk', 'scoopusamedia'),\n",
              " ('ukraineunderattaсk', 'subscribe'),\n",
              " ('ukraineunderattaсk', 'exclusive'),\n",
              " ('ukraineunderattaсk', 'russiaukrainewar'),\n",
              " ('ukraineunderattaсk', 'ruble'),\n",
              " ('ukraineunderattaсk', 'economy'),\n",
              " ('ukraineunderattaсk', 'negotiations'),\n",
              " ('ukraineunderattaсk', 'diplomacy'),\n",
              " ('ukraineunderattaсk', 'geopolitics'),\n",
              " ('ukraineunderattaсk', 'leadership'),\n",
              " ('ukraineunderattaсk', 'mariupol'),\n",
              " ('ukraineunderattaсk', 'ukrainerussianwar'),\n",
              " ('ukraineunderattaсk', 'covid'),\n",
              " ('ukraineunderattaсk', 'politics'),\n",
              " ('ukraineunderattaсk', 'vote'),\n",
              " ('ukraineunderattaсk', 'vladimirputin'),\n",
              " ('ukraineunderattaсk', 'chainreaction'),\n",
              " ('ukraineunderattaсk', 'airwar'),\n",
              " ('ukraineunderattaсk', 'ukrainerussiawar'),\n",
              " ('ukraineunderattaсk', 'ukrainianarmy'),\n",
              " ('ukraineunderattaсk', 'sendinthetroops'),\n",
              " ('ukraineunderattaсk', 'blackexcellence'),\n",
              " ('ukraineunderattaсk', 'blackhistory'),\n",
              " ('ukraineunderattaсk', 'blacklove'),\n",
              " ('ukraineunderattaсk', 'blackpower'),\n",
              " ('ukraineunderattaсk', 'chrispaul'),\n",
              " ('ukraineunderattaсk', 'conservative'),\n",
              " ('ukraineunderattaсk', 'joebiden'),\n",
              " ('ukraineunderattaсk', 'lakers'),\n",
              " ('ukraineunderattaсk', 'nbabasketball'),\n",
              " ('ukraineunderattaсk', 'purpleroompolitics'),\n",
              " ('ukraineunderattaсk', 'freeukraine'),\n",
              " ('ukraineunderattaсk', 'weareallukrainians'),\n",
              " ('ukraineunderattaсk', 'stopthewar'),\n",
              " ('ukraineunderattaсk', 'united'),\n",
              " ('ukraineunderattaсk', 'stopwar'),\n",
              " ('ukraineunderattaсk', 'settodraw'),\n",
              " ('ukraineunderattaсk', 'tanzaniaproject'),\n",
              " ('ukraineunderattaсk', 'africa'),\n",
              " ('ukraineunderattaсk', 'mining'),\n",
              " ('ukraineunderattaсk', 'tlav'),\n",
              " ('ukraineunderattaсk', 'nato'),\n",
              " ('ukraineunderattaсk', 'ukraineenvy'),\n",
              " ('ukraineunderattaсk', 'rokfin'),\n",
              " ('ukraineunderattaсk', 'sendkgblordtosiberia'),\n",
              " ('ukraineunderattaсk', 'flash'),\n",
              " ('ukraineunderattaсk', 'ucrania'),\n",
              " ('ukraineunderattaсk', 'guerra'),\n",
              " ('ukraineunderattaсk', 'catsoftwitter'),\n",
              " ('ukraineunderattaсk', 'cats'),\n",
              " ('ukraineunderattaсk', 'nftcommunity'),\n",
              " ('ukraineunderattaсk', 'nftdrop'),\n",
              " ('ukraineunderattaсk', 'freeiran2022'),\n",
              " ('ukraineunderattaсk', 'opensea'),\n",
              " ('ukraineunderattaсk', 'blockchain'),\n",
              " ('ukraineunderattaсk', 'ebay'),\n",
              " ('ukraineunderattaсk', 'wearables'),\n",
              " ('ukraineunderattaсk', 'embroidery'),\n",
              " ('ukraineunderattaсk', 'fiberart'),\n",
              " ('ukraineunderattaсk', 'us'),\n",
              " ('ukraineunderattaсk', 'newsupdate'),\n",
              " ('ukraineunderattaсk', 'propaganda'),\n",
              " ('ukraineunderattaсk', 'crypto'),\n",
              " ('ukraineunderattaсk', 'airdrop'),\n",
              " ('ukraineunderattaсk', 'nftcollectible'),\n",
              " ('ukraineunderattaсk', 'bayc'),\n",
              " ('ukraineunderattaсk', 'markets'),\n",
              " ('ukraineunderattaсk', 'sumy'),\n",
              " ('ukraineunderattaсk', 'kherson'),\n",
              " ('ukraineunderattaсk', 'voteno'),\n",
              " ('ukraineunderattaсk', 'tigraycantwait'),\n",
              " ('ukraineunderattaсk', 'savemariupol'),\n",
              " ('ukraineunderattaсk', 'chernihiv'),\n",
              " ('ukraineunderattaсk', 'warcrime'),\n",
              " ('ukraineunderattaсk', 'tory'),\n",
              " ('ukraineunderattaсk', 'torycriminals'),\n",
              " ('ukraineunderattaсk', 'zagradivka'),\n",
              " ('ukraineunderattaсk', 'kochubeyevka'),\n",
              " ('ukraineunderattaсk', 'stoprussianaggression'),\n",
              " ('ukraineunderattaсk', 'tigraygenocide'),\n",
              " ('ukraineunderattaсk', 'turkey'),\n",
              " ('ukraineunderattaсk', 'haitiantranslator'),\n",
              " ('ukraineunderattaсk', 'bidencrimefamilly'),\n",
              " ('ukraineunderattaсk', 'luhansk'),\n",
              " ('ukraineunderattaсk', 'ukrinerussiawar'),\n",
              " ('ukraineunderattaсk', 'neveragain'),\n",
              " ('ukraineunderattaсk', '大翻译运动'),\n",
              " ('ukraineunderattaсk', 'slavaukraine'),\n",
              " ('ukraineunderattaсk', 'ncsc'),\n",
              " ('ukraineunderattaсk', 'businesses'),\n",
              " ('ukraineunderattaсk', 'cyberthreats'),\n",
              " ('ukraineunderattaсk', 'security'),\n",
              " ('ukraineunderattaсk', 'cyberwarfare'),\n",
              " ('ukraineunderattaсk', 'ccp'),\n",
              " ('ukraineunderattaсk', 'americans'),\n",
              " ('ukraineunderattaсk', 'fentanyl'),\n",
              " ('ukraineunderattaсk', 'warcrimes'),\n",
              " ('ukraineunderattaсk', 'imrankhan'),\n",
              " ('ukraineunderattaсk', 'ww3'),\n",
              " ('ukraineunderattaсk', 'politicians'),\n",
              " ('ukraineunderattaсk', 'russians'),\n",
              " ('ukraineunderattaсk', 'terror'),\n",
              " ('ukraineunderattaсk', 'zelenskyy'),\n",
              " ('ukraineunderattaсk', 'slavaukraïni'),\n",
              " ('ukraineunderattaсk', 'armenia'),\n",
              " ('ukraineunderattaсk', 'businessnews'),\n",
              " ('ukraineunderattaсk', 'stalin'),\n",
              " ('ukraineunderattaсk', 'planesforukraine'),\n",
              " ('ukraineunderattaсk', 'hunterbidenlaptop'),\n",
              " ('ukraineunderattaсk', 'ilo'),\n",
              " ('ukraineunderattaсk', 'brics'),\n",
              " ('ukraineunderattaсk', 'geneva'),\n",
              " ('ukraineunderattaсk', 'ottawa'),\n",
              " ('ukraineunderattaсk', 'donbass'),\n",
              " ('ukraineunderattaсk', 'donbassgenocide'),\n",
              " ('ukraineunderattaсk', 'dogs'),\n",
              " ('ukraineunderattaсk', 'dogsoftwittter'),\n",
              " ('ukraineunderattaсk', 'istanbulphotoawards'),\n",
              " ('ukraineunderattaсk', 'photographers'),\n",
              " ('ukraineunderattaсk', 'brazil'),\n",
              " ('ukraineunderattaсk', 'discrimination'),\n",
              " ('ukraineunderattaсk', 'newdelhi'),\n",
              " ('ukraineunderattaсk', 'irpin'),\n",
              " ('ukraineunderattaсk', 'putinwarcrimes'),\n",
              " ('ukraineunderattaсk', 'putinwarcriminal'),\n",
              " ('ukraineunderattaсk', 'brovary'),\n",
              " ('ukraineunderattaсk', 'odessa'),\n",
              " ('ukraineunderattaсk', 'одесса'),\n",
              " ('ukraineunderattaсk', 'bitcoin'),\n",
              " ('ukraineunderattaсk', 'transactions'),\n",
              " ('ukraineunderattaсk', 'fcptn'),\n",
              " ('ukraineunderattaсk', 'fckputin'),\n",
              " ('ukraineunderattaсk', 'boycottmondelez'),\n",
              " ('ukraineunderattaсk', 'boycottmilka'),\n",
              " ('ukraineunderattaсk', 'boycottrussia'),\n",
              " ('ukraineunderattaсk', 'ukrainewillprevail'),\n",
              " ('ukraineunderattaсk', 'gop'),\n",
              " ('ukraineunderattaсk', 'prayforukraine'),\n",
              " ('ukraineunderattaсk', 'chechnya'),\n",
              " ('ukraineunderattaсk', 'tiktok'),\n",
              " ('ukraineunderattaсk', 'nazis'),\n",
              " ('ukraineunderattaсk', 'insurrection'),\n",
              " ('ukraineunderattaсk', 'oilandgas'),\n",
              " ('ukraineunderattaсk', 'climatecrisis'),\n",
              " ('ukraineunderattaсk', 'gqp'),\n",
              " ('ukraineunderattaсk', 'goptherussianparty'),\n",
              " ('ukraineunderattaсk', 'refugee'),\n",
              " ('ukraineunderattaсk', 'nazism'),\n",
              " ('ukraineunderattaсk', 'cashappfriday'),\n",
              " ('ukraineunderattaсk', 'venmo'),\n",
              " ('ukraineunderattaсk', 'influencer'),\n",
              " ('ukraineunderattaсk', 'willandchris'),\n",
              " ('ukraineunderattaсk', 'catchusallxbts'),\n",
              " ('ukraineunderattaсk', 'morbius'),\n",
              " ('ukraineunderattaсk', '1'),\n",
              " ('ukraineunderattaсk', 'profit'),\n",
              " ('ukraineunderattaсk', 'gamefi'),\n",
              " ('ukraineunderattaсk', 'kcc'),\n",
              " ('ukraineunderattaсk', 'warukraine'),\n",
              " ('ukraineunderattaсk', 'dnipro'),\n",
              " ('ukraineunderattaсk', 'parliament'),\n",
              " ('ukraineunderattaсk', 'intimidation'),\n",
              " ('ukraineunderattaсk', 'nazi'),\n",
              " ('ukraineunderattaсk', 'wef'),\n",
              " ('ukraineunderattaсk', 'see4yourself'),\n",
              " ('ukraineunderattaсk', 'otancriminal'),\n",
              " ('ukraineunderattaсk', 'newworldorder'),\n",
              " ('ukraineunderattaсk', 'iraq'),\n",
              " ('ukraineunderattaсk', 'yemen'),\n",
              " ('ukraineunderattaсk', 'afghanistan'),\n",
              " ('ukraineunderattaсk', 'trumpisarussianasset'),\n",
              " ('ukraineunderattaсk', 'republicansaretraitors'),\n",
              " ('ukraineunderattaсk', 'mostliked'),\n",
              " ('ukraineunderattaсk', 'endtigraysiege'),\n",
              " ('ukraineunderattaсk', 'irish'),\n",
              " ('ukraineunderattaсk', 'foreignfighters'),\n",
              " ('ukraineunderattaсk', 'poland'),\n",
              " ('ukraineunderattaсk', 'allowaccesstotigray'),\n",
              " ('ukraineunderattaсk', 'ukrainerussiaconflict'),\n",
              " ('ukraineunderattaсk', 'redcross'),\n",
              " ('ukraineunderattaсk', 'icrc'),\n",
              " ('ukraineunderattaсk', 'theta'),\n",
              " ('ukraineunderattaсk', 'xem'),\n",
              " ('ukraineunderattaсk', 'mtl'),\n",
              " ('ukraineunderattaсk', 'music'),\n",
              " ('ukraineunderattaсk', 'marvingaye'),\n",
              " ('ukraineunderattaсk', 'blues'),\n",
              " ('ukraineunderattaсk', 'palestine'),\n",
              " ('ukraineunderattaсk', 'megalomanic'),\n",
              " ('ukraineunderattaсk', 'pentagon'),\n",
              " ('ukraineunderattaсk', 'standforukraine'),\n",
              " ('ukraineunderattaсk', 'lalate'),\n",
              " ('ukraineunderattaсk', 'istandwithukraine'),\n",
              " ('ukraineunderattaсk', 'fckptn'),\n",
              " ('ukraineunderattaсk', 'dystopian'),\n",
              " ('ukraineunderattaсk', 'asitwas'),\n",
              " ('ukraineunderattaсk', 'maps'),\n",
              " ('ukraineunderattaсk', 'iran'),\n",
              " ('ukraineunderattaсk', 'bidenisalaughingstock'),\n",
              " ('ukraineunderattaсk', 'putinfails'),\n",
              " ('ukraineunderattaсk', 'glorytoukraine'),\n",
              " ('ukraineunderattaсk', 'ukrainestrong'),\n",
              " ('ukraineunderattaсk', 'standingwithukraine'),\n",
              " ('ukraineunderattaсk', 'opisrael'),\n",
              " ('ukraineunderattaсk', 'abiyahmedali'),\n",
              " ('ukraineunderattaсk', 'ukrainecrisis'),\n",
              " ('ukraineunderattaсk', 'bucha'),\n",
              " ('ukraineunderattaсk', 'wincity'),\n",
              " ('ukraineunderattaсk', 'invest'),\n",
              " ('ukraineunderattaсk', 'realestate'),\n",
              " ('ukraineunderattaсk', 'soros'),\n",
              " ('ukraineunderattaсk', 'freedomforukraine'),\n",
              " ('ukraineunderattaсk', 'democracynotautocracy'),\n",
              " ('ukraineunderattaсk', 'nftdrops'),\n",
              " ('ukraineunderattaсk', 'nftartist'),\n",
              " ('ukraineunderattaсk', 'mariupolas'),\n",
              " ('ukraineunderattaсk', 'carfuelfinance'),\n",
              " ('ukraineunderattaсk', 'airdrops'),\n",
              " ('ukraineunderattaсk', 'etherum'),\n",
              " ('ukraineunderattaсk', 'giveaway'),\n",
              " ('ukraineunderattaсk', 'fuel'),\n",
              " ('ukraineunderattaсk', 'new'),\n",
              " ('ukraineunderattaсk', '256'),\n",
              " ('ukraineunderattaсk', 'imf'),\n",
              " ('ukraineunderattaсk', 'clinton'),\n",
              " ('ukraineunderattaсk', 'presidential'),\n",
              " ('ukraineunderattaсk', 'mariupolsources'),\n",
              " ('ukraineunderattaсk', 'soldier'),\n",
              " ('ukraineunderattaсk', 'fiverr'),\n",
              " ('ukraineunderattaсk', 'charity'),\n",
              " ('ukraineunderattaсk', 'dosomegood'),\n",
              " ('ukraineunderattaсk', 'demvoice1'),\n",
              " ('ukraineunderattaсk', '800738'),\n",
              " ('ukraineunderattaсk', 'aic134'),\n",
              " ('ukraineunderattaсk', 'staking'),\n",
              " ('ukraineunderattaсk', 'live'),\n",
              " ('ukraineunderattaсk', 'sandbox'),\n",
              " ('ukraineunderattaсk', 'miniz'),\n",
              " ('ukraineunderattaсk', 'p2egame'),\n",
              " ('ukraineunderattaсk', 'fed'),\n",
              " ('ukraineunderattaсk', 'ecb'),\n",
              " ('ukraineunderattaсk', 'houses'),\n",
              " ('ukraineunderattaсk', 'immigration'),\n",
              " ('ukraineunderattaсk', 'poch'),\n",
              " ('ukraineunderattaсk', 'cyprus'),\n",
              " ('ukraineunderattaсk', 'europe'),\n",
              " ('ukraineunderattaсk', 'presale'),\n",
              " ('ukraineunderattaсk', 'selenskyi'),\n",
              " ('ukraineunderattaсk', 'gold'),\n",
              " ('ukraineunderattaсk', 'reserve'),\n",
              " ('ukraineunderattaсk', 'vyshgorod'),\n",
              " ('ukraineunderattaсk', 'odesadefiesrussia'),\n",
              " ('ukraineunderattaсk', 'bambamtousa2022'),\n",
              " ('ukraineunderattaсk', 'b'),\n",
              " ('ukraineunderattaсk', 'day36'),\n",
              " ('ukraineunderattaсk', 'russianinvasionofukraine'),\n",
              " ('ukraineunderattaсk', 'vaccine'),\n",
              " ('ukraineunderattaсk', 'vaccination'),\n",
              " ('ukraineunderattaсk', 'unvaccinated'),\n",
              " ('ukraineunderattaсk', 'zelenskiy'),\n",
              " ('ukraineunderattaсk', 'standagainstforiegninvasion'),\n",
              " ('ukraineunderattaсk', 'tbt'),\n",
              " ('ukraineunderattaсk', 'nemiroff'),\n",
              " ('ukraineunderattaсk', 'ukrainerussiacrisis'),\n",
              " ('ukraineunderattaсk', 'ukrainians'),\n",
              " ('ukraineunderattaсk', 'safeukraine'),\n",
              " ('ukraineunderattaсk', 'chinese'),\n",
              " ('ukraineunderattaсk', 'ukraineians'),\n",
              " ('ukraineunderattaсk', 'presaletoken'),\n",
              " ('ukraineunderattaсk', 'invasion'),\n",
              " ('ukraineunderattaсk', 'photojournalism'),\n",
              " ('ukraineunderattaсk', 'izyum'),\n",
              " ('ukraineunderattaсk', 'european'),\n",
              " ('ukraineunderattaсk', 'tesla'),\n",
              " ('ukraineunderattaсk', 'model'),\n",
              " ('ukraineunderattaсk', 'world'),\n",
              " ('ukraineunderattaсk', 'tourists'),\n",
              " ('ukraineunderattaсk', 'nation'),\n",
              " ('ukraineunderattaсk', 'miracle'),\n",
              " ('ukraineunderattaсk', 'unitednations'),\n",
              " ('ukraineunderattaсk', 'freshresists'),\n",
              " ('ukraineunderattaсk', 'wagnergroup'),\n",
              " ('ukraineunderattaсk', 'trumpsexoffender'),\n",
              " ('ukraineunderattaсk', 'justice4cameronherrin'),\n",
              " ('ukraineunderattaсk', 'cameronwasnotracing'),\n",
              " ('ukraineunderattaсk', 'lavrov'),\n",
              " ('ukraineunderattaсk', 'russan'),\n",
              " ('ukraineunderattaсk', 'slovyansk'),\n",
              " ('ukraineunderattaсk', 'sports'),\n",
              " ('ukraineunderattaсk', 'soccerfan'),\n",
              " ('ukraineunderattaсk', 'thursday'),\n",
              " ('ukraineunderattaсk', 'belgium'),\n",
              " ('ukraineunderattaсk', 'ucrainarussia'),\n",
              " ('ukraineunderattaсk', 'vdv'),\n",
              " ('ukraineunderattaсk', 'kgb'),\n",
              " ('ukraineunderattaсk', 'روسيا'),\n",
              " ('ukraineunderattaсk', 'europeanparliament'),\n",
              " ('ukraineunderattaсk', 'dnipropetrovsk'),\n",
              " ('ukraineunderattaсk', 'protection'),\n",
              " ('ukraineunderattaсk', 'hospital'),\n",
              " ('ukraineunderattaсk', 'radiation'),\n",
              " ('ukraineunderattaсk', 'poisening'),\n",
              " ('ukraineunderattaсk', 'bayraktar'),\n",
              " ('ukraineunderattaсk', 'uav'),\n",
              " ('ukraineunderattaсk', 'bookofmimi'),\n",
              " ('ukraineunderattaсk', 'noflyzone'),\n",
              " ('ukraineunderattaсk', 'standupwithukraine'),\n",
              " ('ukraineunderattaсk', 'stoprussianagression'),\n",
              " ('ukraineunderattaсk', 'scotland'),\n",
              " ('ukraineunderattaсk', 'highschool'),\n",
              " ('ukraineunderattaсk', 'canada'),\n",
              " ('ukraineunderattaсk', 'football'),\n",
              " ('ukraineunderattaсk', 'dpr'),\n",
              " ('ukraineunderattaсk', 'rubles'),\n",
              " ('ukraineunderattaсk', 'depreciating'),\n",
              " ('ukraineunderattaсk', 'plummeted'),\n",
              " ('ukraineunderattaсk', 'beware'),\n",
              " ('ukraineunderattaсk', 'springforart'),\n",
              " ('ukraineunderattaсk', 'burning'),\n",
              " ('ukraineunderattaсk', 'sky'),\n",
              " ('ukraineunderattaсk', 'yellow'),\n",
              " ('ukraineunderattaсk', 'kremlin'),\n",
              " ('ukraineunderattaсk', 'squad3o3'),\n",
              " ('ukraineunderattaсk', 'standwithukriane'),\n",
              " ('ukraineunderattaсk', 'ethiopia'),\n",
              " ('ukraineunderattaсk', 'france'),\n",
              " ('ukraineunderattaсk', 'dgse'),\n",
              " ('ukraineunderattaсk', 'macron'),\n",
              " ('ukraineunderattaсk', 'afghanishtan'),\n",
              " ('ukraineunderattaсk', 'taliban'),\n",
              " ('ukraineunderattaсk', 'afganistan'),\n",
              " ('ukraineunderattaсk', 'women'),\n",
              " ('ukraineunderattaсk', 'kobiety'),\n",
              " ('ukraineunderattaсk', 'covidmutant'),\n",
              " ('ukraineunderattaсk', 'presales'),\n",
              " ('ukraineunderattaсk', 'malaysianow'),\n",
              " ('ukraineunderattaсk', 'nuclear'),\n",
              " ('ukraineunderattaсk', 'ncaa'),\n",
              " ('ukraineunderattaсk', 'basketball'),\n",
              " ('ukraineunderattaсk', 'corbyn'),\n",
              " ('ukraineunderattaсk', 'alxcltd'),\n",
              " ('ukraineunderattaсk', 'humanitarian'),\n",
              " ('ukraineunderattaсk', 'unhoused'),\n",
              " ('ukraineunderattaсk', 'transit'),\n",
              " ('ukraineunderattaсk', 'power'),\n",
              " ('ukraineunderattaсk', 'putinswarcrimes'),\n",
              " ('ukraineunderattaсk', 'volodymyrzelenskiy'),\n",
              " ('ukraineunderattaсk', 'samaritanspurse'),\n",
              " ('ukraineunderattaсk', 'panjshir'),\n",
              " ('ukraineunderattaсk', 'parwan'),\n",
              " ('ukraineunderattaсk', 'nrf'),\n",
              " ('ukraineunderattaсk', 'kyivnotkiev'),\n",
              " ('ukraineunderattaсk', 'biolabsinukraine'),\n",
              " ('ukraineunderattaсk', 'terrorussia'),\n",
              " ('ukraineunderattaсk', 'austria'),\n",
              " ('ukraineunderattaсk', 'wardiary'),\n",
              " ('ukraineunderattaсk', 'lviv'),\n",
              " ('ukraineunderattaсk', 'oblast'),\n",
              " ('ukraineunderattaсk', 'vanessabeeley'),\n",
              " ('ukraineunderattaсk', 'evabartlett'),\n",
              " ('ukraineunderattaсk', 'roundtable'),\n",
              " ('ukraineunderattaсk', 'damascus'),\n",
              " ('ukraineunderattaсk', 'bbc'),\n",
              " ('ukraineunderattaсk', 'benswann'),\n",
              " ('ukraineunderattaсk', 'volodymyrzelenskyy'),\n",
              " ('ukraineunderattaсk', 'moviestvtj'),\n",
              " ('ukraineunderattaсk', 'nftminting'),\n",
              " ('ukraineunderattaсk', 'openseanft'),\n",
              " ('ukraineunderattaсk', 'thedailywrapup'),\n",
              " ('ukraineunderattaсk', 'cia'),\n",
              " ('ukraineunderattaсk', 'zpuhvr'),\n",
              " ('ukraineunderattaсk', 'planesforua'),\n",
              " ('ukraineunderattaсk', 'nftartists'),\n",
              " ('ukraineunderattaсk', 'millionaires'),\n",
              " ('ukraineunderattaсk', 'epic'),\n",
              " ('ukraineunderattaсk', 'team'),\n",
              " ('ukraineunderattaсk', 'best'),\n",
              " ('ukraineunderattaсk', 'lfg'),\n",
              " ('ukraineunderattaсk', 'denazification'),\n",
              " ('ukraineunderattaсk', 'anglo'),\n",
              " ('ukraineunderattaсk', 'pixelart'),\n",
              " ('ukraineunderattaсk', 'lovefighters'),\n",
              " ('ukraineunderattaсk', 'doge'),\n",
              " ('ukraineunderattaсk', 'doglovers'),\n",
              " ('ukraineunderattaсk', 'animalcrossing'),\n",
              " ('ukraineunderattaсk', 'melitopil'),\n",
              " ('ukraineunderattaсk', 'ivanfedorov'),\n",
              " ('ukraineunderattaсk', 'kenya'),\n",
              " ('ukraineunderattaсk', 'mia'),\n",
              " ('ukraineunderattaсk', 'climate'),\n",
              " ('ukraineunderattaсk', 'koch'),\n",
              " ('ukraineunderattaсk', 'murdoch'),\n",
              " ('ukraineunderattaсk', 'manchin'),\n",
              " ('ukraineunderattaсk', 'auspol'),\n",
              " ('ukraineunderattaсk', 'georgia'),\n",
              " ('ukraineunderattaсk', 'binna'),\n",
              " ('ukraineunderattaсk', 'antonov225'),\n",
              " ('ukraineunderattaсk', 'gme'),\n",
              " ('ukraineunderattaсk', 'stocks'),\n",
              " ('ukraineunderattaсk', 'stockmarket'),\n",
              " ('ukraineunderattaсk', 'trending'),\n",
              " ('ukraineunderattaсk', 'gamestop'),\n",
              " ('ukraineunderattaсk', 'amctothemoon'),\n",
              " ('ukraineunderattaсk', 'goptraitorstodemocracy'),\n",
              " ('ukraineunderattaсk', 'internet'),\n",
              " ('ukraineunderattaсk', 'challenge'),\n",
              " ('ukraineunderattaсk', 'uafreedom'),\n",
              " ('ukraineunderattaсk', 'denmark'),\n",
              " ('ukraineunderattaсk', 'latvia'),\n",
              " ('ukraineunderattaсk', 'norilsk'),\n",
              " ('ukraineunderattaсk', 'wisconsin'),\n",
              " ('ukraineunderattaсk', 'transgenders'),\n",
              " ('ukraineunderattaсk', 'chinadailycartoon'),\n",
              " ('ukraineunderattaсk', 'modi'),\n",
              " ('ukraineunderattaсk', 'japan'),\n",
              " ('ukraineunderattaсk', 'kurils'),\n",
              " ('ukraineunderattaсk', 'apanese'),\n",
              " ('ukraineunderattaсk', 'cnn'),\n",
              " ('ukraineunderattaсk', ''),\n",
              " ('ukraineunderattaсk', 'sdgs2'),\n",
              " ('ukraineunderattaсk', 'friday'),\n",
              " ('ukraineunderattaсk', 'novichok'),\n",
              " ('ukraineunderattaсk', 'fitnes'),\n",
              " ('ukraineunderattaсk', 'socialism'),\n",
              " ('ukraineunderattaсk', 'decadesbloodyviolent'),\n",
              " ('ukraineunderattaсk', 'fascist'),\n",
              " ('ukraineunderattaсk', 'polish'),\n",
              " ('ukraineunderattaсk', 'warontigray'),\n",
              " ('ukraineunderattaсk', 'wwiii'),\n",
              " ('ukraineunderattaсk', 'closetheskyoverukraine'),\n",
              " ('ukraineunderattaсk', 'america'),\n",
              " ('ukraineunderattaсk', 'republicans'),\n",
              " ('ukraineunderattaсk', 'conservatives'),\n",
              " ('ukraineunderattaсk', 'democrats'),\n",
              " ('ukraineunderattaсk', 'callitagenocide'),\n",
              " ('ukraineunderattaсk', 'presidentzelenskyy'),\n",
              " ('ukraineunderattaсk', 'soldiers'),\n",
              " ('ukraineunderattaсk', 'militaryhospital'),\n",
              " ('ukraineunderattaсk', 'ripple'),\n",
              " ('ukraineunderattaсk', 'loveislove'),\n",
              " ('ukraineunderattaсk', 'midterms2022'),\n",
              " ('ukraineunderattaсk', 'belgique'),\n",
              " ('ukraineunderattaсk', 'bruxelles'),\n",
              " ('ukraineunderattaсk', 'arctic'),\n",
              " ('ukraineunderattaсk', 'putinisabutcher'),\n",
              " ('ukraineunderattaсk', 'ukrainehow'),\n",
              " ('ukraineunderattaсk', 'chernivtsi'),\n",
              " ('ukraineunderattaсk', 'budapest'),\n",
              " ('ukraineunderattaсk', 'lodz'),\n",
              " ('ukraineunderattaсk', 'hamburg'),\n",
              " ('ukraineunderattaсk', 'barryisland'),\n",
              " ('ukraineunderattaсk', 'sanctionindia'),\n",
              " ('ukraineunderattaсk', 'bytedex'),\n",
              " ('ukraineunderattaсk', 'byteexchange'),\n",
              " ('ukraineunderattaсk', 'usdtether'),\n",
              " ('ukraineunderattaсk', 'shibainu'),\n",
              " ('ukraineunderattaсk', 'sol'),\n",
              " ('ukraineunderattaсk', 'usdt'),\n",
              " ('ukraineunderattaсk', 'tron'),\n",
              " ('ukraineunderattaсk', 'btt'),\n",
              " ('ukraineunderattaсk', 'shib'),\n",
              " ('ukraineunderattaсk', 'kucoin'),\n",
              " ('ukraineunderattaсk', 'nikolaev'),\n",
              " ('ukraineunderattaсk', 'usmnt'),\n",
              " ('ukraineunderattaсk', 'airtel'),\n",
              " ('ukraineunderattaсk', 'sharks'),\n",
              " ('ukraineunderattaсk', 'professional'),\n",
              " ('ukraineunderattaсk', 'banking'),\n",
              " ('ukraineunderattaсk', 'nfsc新中国联邦'),\n",
              " ('ukraineunderattaсk', 'edsheeran'),\n",
              " ('ukraineunderattaсk', 'worldwideitunessongchart'),\n",
              " ('ukraineunderattaсk', 'pow'),\n",
              " ('ukraineunderattaсk', 'merrickgarland'),\n",
              " ('ukraineunderattaсk', 'economicwarfare'),\n",
              " ('ukraineunderattaсk', 'specialmilitaryoperation'),\n",
              " ('ukraineunderattaсk', 'natosummit'),\n",
              " ('ukraineunderattaсk', 'refugees'),\n",
              " ('ukraineunderattaсk', 'supportrefugees'),\n",
              " ('ukraineunderattaсk', 'bidenworstpresidentever'),\n",
              " ('ukraineunderattaсk', 'gtcartoon'),\n",
              " ('ukraineunderattaсk', 'rupias'),\n",
              " ('ukraineunderattaсk', 'putinwar'),\n",
              " ('ukraineunderattaсk', 'украина'),\n",
              " ('ukraineunderattaсk', 'донбасс'),\n",
              " ('ukraineunderattaсk', 'uspoli'),\n",
              " ('ukraineunderattaсk', 'australia'),\n",
              " ('ukraineunderattaсk', 'marchtoaccountability'),\n",
              " ('ukraineunderattaсk', 'assad'),\n",
              " ('ukraineunderattaсk', 'schroeder'),\n",
              " ('ukraineunderattaсk', 'electricity'),\n",
              " ('ukraineunderattaсk', 'kuril'),\n",
              " ('ukraineunderattaсk', 'motorsich'),\n",
              " ('ukraineunderattaсk', 'istandwithrussia'),\n",
              " ('ukraineunderattaсk', 'tchaikovsky'),\n",
              " ('ukraineunderattaсk', 'gousa'),\n",
              " ('ukraineunderattaсk', 'bidenboom'),\n",
              " ('ukraineunderattaсk', 'energydoublecrisis'),\n",
              " ('ukraineunderattaсk', 'estss'),\n",
              " ('ukraineunderattaсk', 'palestinian'),\n",
              " ('ukraineunderattaсk', 'paypal'),\n",
              " ('ukraineunderattaсk', 'money'),\n",
              " ('ukraineunderattaсk', 'elonmusk'),\n",
              " ('ukraineunderattaсk', 'bestfanarmy'),\n",
              " ('ukraineunderattaсk', 'google'),\n",
              " ('ukraineunderattaсk', 'covid_19'),\n",
              " ('ukraineunderattaсk', 'eurusd'),\n",
              " ('ukraineunderattaсk', '134'),\n",
              " ('ukraineunderattaсk', 'zaporoze'),\n",
              " ('ukraineunderattaсk', 'osint'),\n",
              " ('ukraineunderattaсk', 'hackers'),\n",
              " ('ukraineunderattaсk', 'cyber'),\n",
              " ('ukraineunderattaсk', 'itarmyofukraine'),\n",
              " ('ukraineunderattaсk', 'globalsupplychains'),\n",
              " ('ukraineunderattaсk', 'support'),\n",
              " ('ukraineunderattaсk', 'help'),\n",
              " ('ukraineunderattaсk', 'volunteers'),\n",
              " ('ukraineunderattaсk', 'putinsbloodbath'),\n",
              " ('ukraineunderattaсk', 'goptraitors'),\n",
              " ('ukraineunderattaсk', '2ndamendment'),\n",
              " ('ukraineunderattaсk', 'algcam'),\n",
              " ('ukraineunderattaсk', 'viqeo'),\n",
              " ('ukraineunderattaсk', 'youtube'),\n",
              " ('ukraineunderattaсk', 'facebook'),\n",
              " ('ukraineunderattaсk', 'twitch'),\n",
              " ('ukraineunderattaсk', 'youtubeshorts'),\n",
              " ('ukraineunderattaсk', 'business'),\n",
              " ('ukraineunderattaсk', 'lostoffer'),\n",
              " ('ukraineunderattaсk', 'success'),\n",
              " ('ukraineunderattaсk', 'onlinebusiness'),\n",
              " ('ukraineunderattaсk', 'stoli'),\n",
              " ('ukraineunderattaсk', 'republicantraitors'),\n",
              " ('ukraineunderattaсk', 'usefulidiots'),\n",
              " ('ukraineunderattaсk', 'avalanche'),\n",
              " ('ukraineunderattaсk', 'avalanchespace'),\n",
              " ('ukraineunderattaсk', 'relevante'),\n",
              " ('ukraineunderattaсk', 'thursdaythought'),\n",
              " ('ukraineunderattaсk', 'foxnews'),\n",
              " ('ukraineunderattaсk', 'mi8'),\n",
              " ('ukraineunderattaсk', 'russoukrainianwar'),\n",
              " ('ukraineunderattaсk', 'helicopter'),\n",
              " ('ukraineunderattaсk', 'dedollarization'),\n",
              " ('ukraineunderattaсk', 'redbubble'),\n",
              " ('ukraineunderattaсk', 'stickers'),\n",
              " ('ukraineunderattaсk', 'mugs'),\n",
              " ('ukraineunderattaсk', 'masks'),\n",
              " ('ukraineunderattaсk', 'magnets'),\n",
              " ('ukraineunderattaсk', 'free'),\n",
              " ('ukraineunderattaсk', 'graphicdesign'),\n",
              " ('ukraineunderattaсk', 'design'),\n",
              " ('ukraineunderattaсk', 'artist'),\n",
              " ('ukraineunderattaсk', 'drawing'),\n",
              " ('ukraineunderattaсk', 'graphicdesigner'),\n",
              " ('ukraineunderattaсk', 'designer'),\n",
              " ('ukraineunderattaсk', 'photoshop'),\n",
              " ('ukraineunderattaсk', 'love'),\n",
              " ('ukraineunderattaсk', 'printondemand'),\n",
              " ('ukraineunderattaсk', 'tshirt'),\n",
              " ('ukraineunderattaсk', 'salvini'),\n",
              " ('ukraineunderattaсk', 'beto'),\n",
              " ('ukraineunderattaсk', 'groomer'),\n",
              " ('ukraineunderattaсk', 'betofortexas'),\n",
              " ('ukraineunderattaсk', 'abbott'),\n",
              " ('ukraineunderattaсk', 'chrisrock'),\n",
              " ('ukraineunderattaсk', 'makemoney'),\n",
              " ('ukraineunderattaсk', 'iranians'),\n",
              " ('ukraineunderattaсk', 'saddam'),\n",
              " ('ukraineunderattaсk', 'newmexico'),\n",
              " ('ukraineunderattaсk', 'wwi'),\n",
              " ('ukraineunderattaсk', 'lukashivka'),\n",
              " ('ukraineunderattaсk', 'g7'),\n",
              " ('ukraineunderattaсk', 'omicron'),\n",
              " ('ukraineunderattaсk', 'weareukraine'),\n",
              " ('ukraineunderattaсk', 'artforukraine'),\n",
              " ('ukraineunderattaсk', 'stagflation'),\n",
              " ('ukraineunderattaсk', 'icc'),\n",
              " ('ukraineunderattaсk', 'sexism'),\n",
              " ('ukraineunderattaсk', 'nowars'),\n",
              " ('ukraineunderattaсk', 'paris'),\n",
              " ('ukraineunderattaсk', 'славагероямукраїни'),\n",
              " ('ukraineunderattaсk', 'buddhism'),\n",
              " ('ukraineunderattaсk', 'equities'),\n",
              " ('ukraineunderattaсk', 'nyse'),\n",
              " ('ukraineunderattaсk', 'savings'),\n",
              " ('ukraineunderattaсk', 'startupspace'),\n",
              " ('ukraineunderattaсk', 'startup'),\n",
              " ('ukraineunderattaсk', 'slavaukraina'),\n",
              " ('ukraineunderattaсk', 'artwork'),\n",
              " ('ukraineunderattaсk', 'cbdc'),\n",
              " ('ukraineunderattaсk', 'denazified'),\n",
              " ('ukraineunderattaсk', 'olenazelenska'),\n",
              " ('ukraineunderattaсk', 'chechen'),\n",
              " ('ukraineunderattaсk', 'transnistria'),\n",
              " ('ukraineunderattaсk', 'moldova'),\n",
              " ('ukraineunderattaсk', 'ukrainianatheart'),\n",
              " ('ukraineunderattaсk', 'spellingitright'),\n",
              " ('ukraineunderattaсk', 'onz'),\n",
              " ('ukraineunderattaсk', 'continuecfrp'),\n",
              " ('ukraineunderattaсk', 'streetart'),\n",
              " ('ukraineunderattaсk', 'dump'),\n",
              " ('ukraineunderattaсk', 'biolab'),\n",
              " ('ukraineunderattaсk', 'songsforukraine'),\n",
              " ('ukraineunderattaсk', 'mtgarena'),\n",
              " ('ukraineunderattaсk', 'нетвойнесукраиной'),\n",
              " ('ukraineunderattaсk', 'warcriminal'),\n",
              " ('ukraineunderattaсk', 'easter'),\n",
              " ('ukraineunderattaсk', 'beautifulukraine'),\n",
              " ('ukraineunderattaсk', 'aids'),\n",
              " ('ukraineunderattaсk', 'african'),\n",
              " ('ukraineunderattaсk', 'xmr'),\n",
              " ('ukraineunderattaсk', 'refined'),\n",
              " ('ukraineunderattaсk', 'melting'),\n",
              " ('ukraineunderattaсk', 'paraffin'),\n",
              " ('ukraineunderattaсk', 'wax'),\n",
              " ('ukraineunderattaсk', 'venuscorporation'),\n",
              " ('ukraineunderattaсk', 'petrochemicals'),\n",
              " ('ukraineunderattaсk', 'chemicals'),\n",
              " ('ukraineunderattaсk', 'phenol'),\n",
              " ('ukraineunderattaсk', 'ethylene'),\n",
              " ('ukraineunderattaсk', 'propylene'),\n",
              " ('ukraineunderattaсk', 'resin'),\n",
              " ('ukraineunderattaсk', 'polyamide'),\n",
              " ('ukraineunderattaсk', 'pva'),\n",
              " ('ukraineunderattaсk', 'oott'),\n",
              " ('ukraineunderattaсk', 'wti'),\n",
              " ('ukraineunderattaсk', 'crudenews'),\n",
              " ('ukraineunderattaсk', 'breakingnews'),\n",
              " ('ukraineunderattaсk', 'grermany'),\n",
              " ('ukraineunderattaсk', 'haitian'),\n",
              " ('ukraineunderattaсk', 'ukrania'),\n",
              " ('ukraineunderattaсk', 'coinbase'),\n",
              " ('ukraineunderattaсk', 'beauty'),\n",
              " ('ukraineunderattaсk', 'necklace'),\n",
              " ('ukraineunderattaсk', 'insulin'),\n",
              " ('ukraineunderattaсk', 'kharkov'),\n",
              " ('ukraineunderattaсk', 'humanitarianaid'),\n",
              " ('ukraineunderattaсk', 'gb'),\n",
              " ('ukraineunderattaсk', 'symbol'),\n",
              " ('ukraineunderattaсk', 'heart'),\n",
              " ('ukraineunderattaсk', 'event'),\n",
              " ('ukraineunderattaсk', 'fashionaccessory'),\n",
              " ('ukraineunderattaсk', 'pattern'),\n",
              " ('ukraineunderattaсk', 'carmine'),\n",
              " ('ukraineunderattaсk', 'polska'),\n",
              " ('ukraineunderattaсk', 'supplychain'),\n",
              " ('ukraineunderattaсk', 'lng'),\n",
              " ('ukraineunderattaсk', 'азов'),\n",
              " ('ukraineunderattaсk', 'hoe'),\n",
              " ('ukraineunderattaсk', 'ukraineundersiege'),\n",
              " ('ukraineunderattaсk', 'fyp'),\n",
              " ('ukraineunderattaсk', 'energycrisis'),\n",
              " ('ukraineunderattaсk', 'holodomor'),\n",
              " ('ukraineunderattaсk', 'york'),\n",
              " ('ukraineunderattaсk', 'ag'),\n",
              " ('ukraineunderattaсk', 'enforce'),\n",
              " ('ukraineunderattaсk', 'genius'),\n",
              " ('ukraineunderattaсk', 'hunter'),\n",
              " ('ukraineunderattaсk', 'hunterbider'),\n",
              " ('ukraineunderattaсk', 'hbiden'),\n",
              " ('ukraineunderattaсk', 'nowar'),\n",
              " ('ukraineunderattaсk', 'newnft'),\n",
              " ('ukraineunderattaсk', 'nftcoinching'),\n",
              " ('ukraineunderattaсk', 'idiots'),\n",
              " ('ukraineunderattaсk', 'unamerican'),\n",
              " ('ukraineunderattaсk', 'lost'),\n",
              " ('ukraineunderattaсk', 'mikhail'),\n",
              " ('ukraineunderattaсk', 'khodorkovsky'),\n",
              " ('ukraineunderattaсk', 'sanctionturkey'),\n",
              " ('ukraineunderattaсk', 'uaw'),\n",
              " ('ukraineunderattaсk', 'arestovych'),\n",
              " ('ukraineunderattaсk', 'fedorov'),\n",
              " ('ukraineunderattaсk', 'славаукраїнi'),\n",
              " ('ukraineunderattaсk', 'unitedkingdom'),\n",
              " ('ukraineunderattaсk', 'migs'),\n",
              " ('ukraineunderattaсk', 'fundraising'),\n",
              " ('ukraineunderattaсk', 'vancouver'),\n",
              " ('ukraineunderattaсk', 'ukrainianfarmers'),\n",
              " ('ukraineunderattaсk', 'afp'),\n",
              " ('ukraineunderattaсk', 'alexjones'),\n",
              " ('ukraineunderattaсk', 'whiteprivilege'),\n",
              " ('ukraineunderattaсk', 'trump2024tosaveamerica'),\n",
              " ('ukraineunderattaсk', 'rittersportboykott'),\n",
              " ('ukraineunderattaсk', 'roubles'),\n",
              " ('ukraineunderattaсk', 'zoos'),\n",
              " ('ukraineunderattaсk', 'noflyzoneoverukraine'),\n",
              " ('ukraineunderattaсk', 'foodsafety'),\n",
              " ('ukraineunderattaсk', 'wearenato'),\n",
              " ('ukraineunderattaсk', 'standwithukrainenft'),\n",
              " ('ukraineunderattaсk', 'russiaretreat'),\n",
              " ('ukraineunderattaсk', 'uspolitics'),\n",
              " ('ukraineunderattaсk', 'nagornokarabakh'),\n",
              " ('ukraineunderattaсk', 'stopazerbaijaniaggression'),\n",
              " ('ukraineunderattaсk', 'corona'),\n",
              " ('ukraineunderattaсk', 'hillary'),\n",
              " ('ukraineunderattaсk', 'clintons'),\n",
              " ('ukraineunderattaсk', 'internationallaw'),\n",
              " ('ukraineunderattaсk', 'tyranny'),\n",
              " ('ukraineunderattaсk', 'cancelstudentdebt'),\n",
              " ('ukraineunderattaсk', 'kleptocracy'),\n",
              " ('ukraineunderattaсk', 'trade'),\n",
              " ('ukraineunderattaсk', 'fake'),\n",
              " ('ukraineunderattaсk', 'egypt'),\n",
              " ('ukraineunderattaсk', 'jesuisukraine'),\n",
              " ('ukraineunderattaсk', 'dempriorities'),\n",
              " ('ukraineunderattaсk', 'heroiamslava'),\n",
              " ('ukraineunderattaсk', 'zaporizhzhia'),\n",
              " ('ukraineunderattaсk', 'braindrain'),\n",
              " ('ukraineunderattaсk', 'istandwithputin'),\n",
              " ('ukraineunderattaсk', 'southafrica'),\n",
              " ('ukraineunderattaсk', 'rubel'),\n",
              " ('ukraineunderattaсk', 'sendthemigs'),\n",
              " ('ukraineunderattaсk', 'removeputin'),\n",
              " ('ukraineunderattaсk', 'noappeasement'),\n",
              " ('ukraineunderattaсk', 'lendlease'),\n",
              " ('ukraineunderattaсk', 'mariupole'),\n",
              " ('ukraineunderattaсk', 'opnewblood'),\n",
              " ('ukraineunderattaсk', 'freespeech'),\n",
              " ('ukraineunderattaсk', 'beralus'),\n",
              " ('ukraineunderattaсk', 'fancybear'),\n",
              " ('ukraineunderattaсk', 'socialhousing'),\n",
              " ('ukraineunderattaсk', 'loveisland'),\n",
              " ('ukraineunderattaсk', 'supermodel'),\n",
              " ('ukraineunderattaсk', 'helpaninimalsinukraine'),\n",
              " ('ukraineunderattaсk', 'realfacts'),\n",
              " ('ukraineunderattaсk', 'win'),\n",
              " ('ukraineunderattaсk', 'saudiarabia'),\n",
              " ('ukraineunderattaсk', 'math'),\n",
              " ('ukraineunderattaсk', 'houseofcards'),\n",
              " ('ukraineunderattaсk', 'sarkodie'),\n",
              " ('ukraineunderattaсk', 'blacko'),\n",
              " ('ukraineunderattaсk', 'burna'),\n",
              " ('ukraineunderattaсk', 'fightwithukraine'),\n",
              " ('ukraineunderattaсk', 'east'),\n",
              " ('ukraineunderattaсk', 'russiaukrainecrisis'),\n",
              " ('ukraineunderattaсk', 'polls'),\n",
              " ('ukraineunderattaсk', 'nickel'),\n",
              " ('ukraineunderattaсk', 'energytransition'),\n",
              " ('ukraineunderattaсk', 'ev'),\n",
              " ('ukraineunderattaсk', 'battery'),\n",
              " ('ukraineunderattaсk', 'beatlesfriends'),\n",
              " ('ukraineunderattaсk', 'emergency'),\n",
              " ('ukraineunderattaсk', 'poll'),\n",
              " ('ukraineunderattaсk', 'britain'),\n",
              " ('ukraineunderattaсk', 'internationalstudents'),\n",
              " ('ukraineunderattaсk', 'peaceforukraine'),\n",
              " ('ukraineunderattaсk', 'warcriminalputin'),\n",
              " ('ukraineunderattaсk', 'putinsrage'),\n",
              " ('ukraineunderattaсk', 'trumprage'),\n",
              " ('ukraineunderattaсk', 'pigeonrage'),\n",
              " ('ukraineunderattaсk', 'dogbus'),\n",
              " ('ukraineunderattaсk', 'communist'),\n",
              " ('ukraineunderattaсk', 'usrussiawar'),\n",
              " ('ukraineunderattaсk', 'pray'),\n",
              " ('ukraineunderattaсk', 'putler'),\n",
              " ('ukraineunderattaсk', 'standwithcubans'),\n",
              " ('ukraineunderattaсk', 'soscuba'),\n",
              " ('ukraineunderattaсk', 'oilpainting'),\n",
              " ('ukraineunderattaсk', 'decor'),\n",
              " ('ukraineunderattaсk', 'lilacs'),\n",
              " ('ukraineunderattaсk', 'stilllife'),\n",
              " ('ukraineunderattaсk', 'putinisacoward'),\n",
              " ('ukraineunderattaсk', 'defenddemocracy'),\n",
              " ('ukraineunderattaсk', 'nuclear_power_plant'),\n",
              " ('ukraineunderattaсk', 'computers'),\n",
              " ('ukraineunderattaсk', 'ukranianartist'),\n",
              " ('ukraineunderattaсk', 'pc'),\n",
              " ('ukraineunderattaсk', 'hp'),\n",
              " ('ukraineunderattaсk', 'dell'),\n",
              " ('ukraineunderattaсk', 'asus'),\n",
              " ('ukraineunderattaсk', 'caricature'),\n",
              " ('ukraineunderattaсk', 'warcriminals'),\n",
              " ('ukraineunderattaсk', 'rublesforgas'),\n",
              " ('ukraineunderattaсk', 'trumpcrimefamily'),\n",
              " ('ukraineunderattaсk', 'ripelabs'),\n",
              " ('ukraineunderattaсk', 'dogsoftwitter'),\n",
              " ('ukraineunderattaсk', 'antiquejewllery'),\n",
              " ('ukraineunderattaсk', 'masterchefuk'),\n",
              " ('ukraineunderattaсk', 'chernigiv'),\n",
              " ('ukraineunderattaсk', 'tanks'),\n",
              " ('ukraineunderattaсk', 'gothere'),\n",
              " ('ukraineunderattaсk', 'invasionofukraine'),\n",
              " ('ukraineunderattaсk', 'tuckercarlson'),\n",
              " ('ukraineunderattaсk', 'cnnphpresidentialdebate'),\n",
              " ('ukraineunderattaсk', 'wuhan'),\n",
              " ('ukraineunderattaсk', 'existed'),\n",
              " ('ukraineunderattaсk', 'ukrayna'),\n",
              " ('ukraineunderattaсk', 'київ'),\n",
              " ('ukraineunderattaсk', 'мыедины'),\n",
              " ('ukraineunderattaсk', 'callofduty'),\n",
              " ('ukraineunderattaсk', 'montage'),\n",
              " ('ukraineunderattaсk', 'stinger'),\n",
              " ('ukraineunderattaсk', 'strongertogether'),\n",
              " ('ukraineunderattaсk', 'mrpresident'),\n",
              " ('ukraineunderattaсk', 'votebluein2022'),\n",
              " ('ukraineunderattaсk', 'contamination'),\n",
              " ('ukraineunderattaсk', 'officials'),\n",
              " ('ukraineunderattaсk', 'save'),\n",
              " ('ukraineunderattaсk', 'possible'),\n",
              " ('ukraineunderattaсk', 'nuclearpower'),\n",
              " ('ukraineunderattaсk', 'ukraineanimals'),\n",
              " ('ukraineunderattaсk', 'moscowbased'),\n",
              " ('ukraineunderattaсk', 'petrol'),\n",
              " ('ukraineunderattaсk', 'poetry'),\n",
              " ('ukraineunderattaсk', 'sachabaroncohen'),\n",
              " ('ukraineunderattaсk', 'berlusconi'),\n",
              " ('ukraineunderattaсk', 'leozagami'),\n",
              " ('ukraineunderattaсk', 'naturalimmunity'),\n",
              " ('ukraineunderattaсk', 'afghanistancrisis'),\n",
              " ('ukraineunderattaсk', 'erdogan'),\n",
              " ('ukraineunderattaсk', 'cuba'),\n",
              " ('ukraineunderattaсk', 'audusd'),\n",
              " ('ukraineunderattaсk', 'narrated'),\n",
              " ('ukraineunderattaсk', 'destroyed'),\n",
              " ('ukraineunderattaсk', 'risk'),\n",
              " ('ukraineunderattaсk', 'rarible'),\n",
              " ('ukraineunderattaсk', 'augmentedreality'),\n",
              " ('ukraineunderattaсk', 'kanyesfault'),\n",
              " ('ukraineunderattaсk', 'punksnotdeaditjustlooksdifferent'),\n",
              " ('ukraineunderattaсk', 'airforceone'),\n",
              " ('ukraineunderattaсk', 'nurembergprinciples'),\n",
              " ('ukraineunderattaсk', 'militaryindustrialcomplex'),\n",
              " ('ukraineunderattaсk', 'formin'),\n",
              " ('ukraineunderattaсk', 'southernkaduna'),\n",
              " ('ukraineunderattaсk', 'letsgobrandon'),\n",
              " ('ukraineunderattaсk', 'disinfo'),\n",
              " ('ukraineunderattaсk', 'flowersforpeace'),\n",
              " ('ukraineunderattaсk', '36daysoftype'),\n",
              " ('ukraineunderattaсk', '36days_z'),\n",
              " ('ukraineunderattaсk', 'typedesign'),\n",
              " ('ukraineunderattaсk', '36daysoftype2022'),\n",
              " ('ukraineunderattaсk', 'rtadax'),\n",
              " ('ukraineunderattaсk', 'beyonce'),\n",
              " ('ukraineunderattaсk', 'itunes'),\n",
              " ('ukraineunderattaсk', 'dreamville'),\n",
              " ('ukraineunderattaсk', 'tyga'),\n",
              " ('ukraineunderattaсk', 'jcole'),\n",
              " ('ukraineunderattaсk', 'aprilfoolday'),\n",
              " ('ukraineunderattaсk', 'jayz'),\n",
              " ('ukraineunderattaсk', 'eminem'),\n",
              " ('ukraineunderattaсk', 'thebridge'),\n",
              " ('ukraineunderattaсk', 'saratov'),\n",
              " ('ukraineunderattaсk', 'reddit'),\n",
              " ('ukraineunderattaсk', 'april'),\n",
              " ('ukraineunderattaсk', 'mara'),\n",
              " ('ukraineunderattaсk', 'istandwithukriane'),\n",
              " ('ukraineunderattaсk', 'slavicfolklore'),\n",
              " ('ukraineunderattaсk', 'folklore'),\n",
              " ('ukraineunderattaсk', 'toryrussianmoney'),\n",
              " ('ukraineunderattaсk', 'cow'),\n",
              " ('ukraineunderattaсk', 'trumpcrimefamilyforprison'),\n",
              " ('ukraineunderattaсk', 'deutschland'),\n",
              " ('ukraineunderattaсk', 'mikhailkhodorkovsky'),\n",
              " ('ukraineunderattaсk', 'green'),\n",
              " ('ukraineunderattaсk', 'assange'),\n",
              " ('ukraineunderattaсk', 'ارژنگ_داوودی'),\n",
              " ('ukraineunderattaсk', 'گوهر_عشقی'),\n",
              " ('ukraineunderattaсk', 'مهرداد_محمدنژاد'),\n",
              " ('ukraineunderattaсk', 'austrohungarian'),\n",
              " ('ukraineunderattaсk', 'zboriv'),\n",
              " ('ukraineunderattaсk', 'theroadtounfreedom'),\n",
              " ('ukraineunderattaсk', 'liartrump'),\n",
              " ('ukraineunderattaсk', 'mariupolhospital'),\n",
              " ('ukraineunderattaсk', 'k9'),\n",
              " ('ukraineunderattaсk', 'guilt'),\n",
              " ('ukraineunderattaсk', 'woof'),\n",
              " ('ukraineunderattaсk', 'pets'),\n",
              " ('ukraineunderattaсk', 'vladimirmanzhos'),\n",
              " ('ukraineunderattaсk', 'cyberattacks'),\n",
              " ('ukraineunderattaсk', 'cybersec'),\n",
              " ('ukraineunderattaсk', 'journalists'),\n",
              " ('ukraineunderattaсk', 'venezuela'),\n",
              " ('ukraineunderattaсk', 'morocco'),\n",
              " ('ukraineunderattaсk', 'opchina'),\n",
              " ('ukraineunderattaсk', 'nftforsale'),\n",
              " ('ukraineunderattaсk', 'repost'),\n",
              " ('ukraineunderattaсk', 'like'),\n",
              " ('ukraineunderattaсk', 'bordercrisis'),\n",
              " ('ukraineunderattaсk', 'corruption'),\n",
              " ('ukraineunderattaсk', 'славаuкраїні'),\n",
              " ('ukraineunderattaсk', 'abiyahmeds'),\n",
              " ('ukraineunderattaсk', 'asx'),\n",
              " ('ukraineunderattaсk', 'tucker'),\n",
              " ('ukraineunderattaсk', 'weekendvibes'),\n",
              " ('ukraineunderattaсk', 'chile'),\n",
              " ('ukraineunderattaсk', 'indonesia'),\n",
              " ('ukraineunderattaсk', 'tajikistan'),\n",
              " ('ukraineunderattaсk', 'opsec'),\n",
              " ('ukraineunderattaсk', 'rightsector'),\n",
              " ('ukraineunderattaсk', 'fascists'),\n",
              " ('ukraineunderattaсk', 'dnepropetrovskfor'),\n",
              " ('ukraineunderattaсk', 'realonespodcast'),\n",
              " ('ukraineunderattaсk', 'makebeernotwar'),\n",
              " ('ukraineunderattaсk', 'diesel'),\n",
              " ('ukraineunderattaсk', 'pricehike'),\n",
              " ('ukraineunderattaсk', 'wezenaar'),\n",
              " ('ukraineunderattaсk', 'protectuаsky'),\n",
              " ('ukraineunderattaсk', 'stoprussia'),\n",
              " ('ukraineunderattaсk', 'ukraineunderattack'),\n",
              " ('ukraineunderattaсk', 'putinisawarcriminal'),\n",
              " ('ukraineunderattaсk', 'россиясмотри'),\n",
              " ('ukraineunderattaсk', 'china'),\n",
              " ('ukraineunderattaсk', 'oprussia'),\n",
              " ('ukraineunderattaсk', 'nft'),\n",
              " ('ukraineunderattaсk', 'mint'),\n",
              " ('ukraineunderattaсk', 'russia'),\n",
              " ('ukraineunderattaсk', 'ukraine'),\n",
              " ('ukraineunderattaсk', 'motivation'),\n",
              " ('ukraineunderattaсk', 'edude'),\n",
              " ('ukraineunderattaсk', 'government'),\n",
              " ('ukraineunderattaсk', 'ukrainewar'),\n",
              " ('ukraineunderattaсk', 'russian'),\n",
              " ('ukraineunderattaсk', 'chernobyl'),\n",
              " ('ukraineunderattaсk', 'berlin'),\n",
              " ('ukraineunderattaсk', 'democracy'),\n",
              " ('ukraineunderattaсk', 'war'),\n",
              " ('ukraineunderattaсk', 'blackmedia'),\n",
              " ('ukraineunderattaсk', 'localnews'),\n",
              " ('ukraineunderattaсk', 'scoop'),\n",
              " ('ukraineunderattaсk', 'africanamericans'),\n",
              " ('ukraineunderattaсk', 'philly'),\n",
              " ('ukraineunderattaсk', 'itvideo'),\n",
              " ('ukraineunderattaсk', 're'),\n",
              " ('ukraineunderattaсk', 'currency'),\n",
              " ('ukraineunderattaсk', 'sanctions'),\n",
              " ('ukraineunderattaсk', 'oil'),\n",
              " ('ukraineunderattaсk', 'warinukraine'),\n",
              " ('ukraineunderattaсk', 'kyiv'),\n",
              " ('ukraineunderattaсk', 'gas'),\n",
              " ('ukraineunderattaсk', 'biden'),\n",
              " ('ukraineunderattaсk', 'tigray'),\n",
              " ('ukraineunderattaсk', '500daysoftigraygenocide'),\n",
              " ('ukraineunderattaсk', 'slavaukraini'),\n",
              " ('ukraineunderattaсk', 'ukrainiancats'),\n",
              " ('ukraineunderattaсk', 'sjaishankar'),\n",
              " ('ukraineunderattaсk', 'blackgirlmagic'),\n",
              " ('ukraineunderattaсk', 'blackwomen'),\n",
              " ('ukraineunderattaсk', 'election'),\n",
              " ('ukraineunderattaсk', 'empire'),\n",
              " ('ukraineunderattaсk', 'hbcu'),\n",
              " ('ukraineunderattaсk', 'nba'),\n",
              " ('ukraineunderattaсk', 'republican'),\n",
              " ('ukraineunderattaсk', 'tarajiphenson'),\n",
              " ('ukraineunderattaсk', 'trump'),\n",
              " ('ukraineunderattaсk', 'standtogether'),\n",
              " ('ukraineunderattaсk', 'energy'),\n",
              " ('ukraineunderattaсk', 'coal'),\n",
              " ('ukraineunderattaсk', 'ukraineian'),\n",
              " ('ukraineunderattaсk', 'nypost'),\n",
              " ('ukraineunderattaсk', 'thinktank'),\n",
              " ('ukraineunderattaсk', 'russianvodka'),\n",
              " ('ukraineunderattaсk', 'johnsonout67'),\n",
              " ('ukraineunderattaсk', 'putinsbrexit'),\n",
              " ('ukraineunderattaсk', 'carolecadwalladrforhouseoflords'),\n",
              " ('ukraineunderattaсk', 'breaking'),\n",
              " ('ukraineunderattaсk', 'ukrainerussia'),\n",
              " ('ukraineunderattaсk', 'ucraina'),\n",
              " ('ukraineunderattaсk', 'guerre'),\n",
              " ('ukraineunderattaсk', 'nftgiveaway'),\n",
              " ('ukraineunderattaсk', 'bidenisafailure'),\n",
              " ('ukraineunderattaсk', 'transdayofvisibility'),\n",
              " ('ukraineunderattaсk', 'thebinjinwedding'),\n",
              " ('ukraineunderattaсk', 'solana'),\n",
              " ('ukraineunderattaсk', 'saitama'),\n",
              " ('ukraineunderattaсk', 'btc'),\n",
              " ('ukraineunderattaсk', 'binance'),\n",
              " ('ukraineunderattaсk', 'art'),\n",
              " ('ukraineunderattaсk', 'fashion'),\n",
              " ('ukraineunderattaсk', 'politicslive'),\n",
              " ('ukraineunderattaсk', 'transrightsarehumanrights'),\n",
              " ('ukraineunderattaсk', 'union'),\n",
              " ('ukraineunderattaсk', 'russiainvadedukraine'),\n",
              " ('ukraineunderattaсk', 'ukraina'),\n",
              " ('ukraineunderattaсk', 'eth'),\n",
              " ('ukraineunderattaсk', '0xbaec'),\n",
              " ...]"
            ]
          },
          "metadata": {},
          "execution_count": 51
        }
      ]
    },
    {
      "cell_type": "code",
      "source": [
        "possible_pairs=basket_file.map(lambda x: list(combinations(x,2)))  #per ogni basket, creo ogni possiblie coppia\n",
        "pairs_freq_sing=possible_pairs.filter(lambda x: x in pairs)\n",
        "#ERRORE: QUA CREO TUTTE LE COPPIE POSSIBILI, MA è SBAGLIAT\n",
        "\n",
        "#flat and count and reduce\n",
        "flat_pairs=pairs_freq_sing.flatMap(list).map(lambda item: (item,1)).reduceByKey(lambda a,b: a+b)"
      ],
      "metadata": {
        "id": "24q2UuXg1NwH"
      },
      "execution_count": 52,
      "outputs": []
    },
    {
      "cell_type": "code",
      "source": [
        "#step 5: finally filetr out the pairs < thresold\n",
        "freq_pairs=flat_pairs.filter(lambda x: x[1]>=threshold)"
      ],
      "metadata": {
        "id": "eTzbS55W3O32"
      },
      "execution_count": 54,
      "outputs": []
    },
    {
      "cell_type": "code",
      "source": [
        "freq_pairs.take(10)"
      ],
      "metadata": {
        "id": "Fnlu6Df06nS8"
      },
      "execution_count": null,
      "outputs": []
    },
    {
      "cell_type": "code",
      "source": [
        "#step 4 : filter out the non frequent pairs\n",
        "\n",
        "#flatmap so I'm able to compute reducebyKey, because otherwise I will have different tuples in a list (basket)\n",
        "\n",
        "#secondo me può  essere ottimizzato perchè il subset è computato su tutto i possibili basket del dataset, quindi subset non serve a niente visto che è perforza un subset di tutti i baskets?\n",
        "'''count_pairs = basket_file.flatMap(lambda x: ([(tuple(pair), 1) for pair in pairs if set(list(pair)).issubset(set(x))])) \\\n",
        "                              .reduceByKey(lambda a, b: a+b) \\\n",
        "                              .filter(lambda value: value >= threshold)\n",
        "\n",
        "count_pairs.take(10)'''\n",
        "count_pairs = basket_file.flatMap(lambda x: ([(pair, 1) for pair in pairs if set(list(pair))]))\n",
        "count_pairs.take(5)\n",
        "#count_pairs.take(5)"
      ],
      "metadata": {
        "id": "dFGyOP-Qc-1B",
        "colab": {
          "base_uri": "https://localhost:8080/"
        },
        "outputId": "a3c03180-04e8-4f1d-a973-339609c34111"
      },
      "execution_count": 41,
      "outputs": [
        {
          "output_type": "execute_result",
          "data": {
            "text/plain": [
              "[(('ukraineunderattaсk', 'russianinvasion'), 1),\n",
              " (('ukraineunderattaсk', 'standwithukraine'), 1),\n",
              " (('ukraineunderattaсk', 'ukrainewillwin'), 1),\n",
              " (('ukraineunderattaсk', 'stopputin'), 1),\n",
              " (('ukraineunderattaсk', 'russianukrainianwar'), 1)]"
            ]
          },
          "metadata": {},
          "execution_count": 41
        }
      ]
    },
    {
      "cell_type": "code",
      "source": [
        "[(('ukraineunderattaсk', 'protectuаsky'), 1),\n",
        " (('ukraineunderattaсk', 'stoprussia'), 1),\n",
        " (('protectuаsky', 'stoprussia'), 1),\n",
        " (('russianinvasion', 'standwithukraine'), 1),\n",
        " (('russianinvasion', 'ukrainewillwin'), 1)]"
      ],
      "metadata": {
        "id": "lEFRakF5Uz19",
        "colab": {
          "base_uri": "https://localhost:8080/"
        },
        "outputId": "19c46816-85aa-42ac-d734-8a5297044bdd"
      },
      "execution_count": 42,
      "outputs": [
        {
          "output_type": "execute_result",
          "data": {
            "text/plain": [
              "[(('ukraineunderattaсk', 'protectuаsky'), 1),\n",
              " (('ukraineunderattaсk', 'stoprussia'), 1),\n",
              " (('protectuаsky', 'stoprussia'), 1),\n",
              " (('russianinvasion', 'standwithukraine'), 1),\n",
              " (('russianinvasion', 'ukrainewillwin'), 1)]"
            ]
          },
          "metadata": {},
          "execution_count": 42
        }
      ]
    },
    {
      "cell_type": "code",
      "source": [
        "#collect the result\n",
        "import time\n",
        "startTime = time.time()\n",
        "freq_pairs.collect()\n",
        "print(time.time()-startTime)"
      ],
      "metadata": {
        "id": "1PTbRkA64QT5",
        "colab": {
          "base_uri": "https://localhost:8080/"
        },
        "outputId": "eea1603f-40f8-46dc-e3d6-66383fd667be"
      },
      "execution_count": 43,
      "outputs": [
        {
          "output_type": "stream",
          "name": "stdout",
          "text": [
            "0.15861272811889648\n"
          ]
        }
      ]
    },
    {
      "cell_type": "code",
      "source": [
        ""
      ],
      "metadata": {
        "id": "3bQmjzpPUzv7"
      },
      "execution_count": 43,
      "outputs": []
    },
    {
      "cell_type": "code",
      "source": [
        ""
      ],
      "metadata": {
        "id": "344VVqAhUzyy"
      },
      "execution_count": 43,
      "outputs": []
    },
    {
      "cell_type": "code",
      "source": [
        ""
      ],
      "metadata": {
        "id": "fhrFCh626nUv"
      },
      "execution_count": 43,
      "outputs": []
    },
    {
      "cell_type": "code",
      "source": [
        ""
      ],
      "metadata": {
        "id": "4UZ5i-p16nWi"
      },
      "execution_count": 43,
      "outputs": []
    },
    {
      "cell_type": "code",
      "source": [
        "pairs_freq_sing=basket_file.map(lambda x: list(combinations(x,2)))\n",
        "pairs_freq_sing.take(1)"
      ],
      "metadata": {
        "id": "O3Nrh3x56nyQ",
        "colab": {
          "base_uri": "https://localhost:8080/"
        },
        "outputId": "a73cdd51-61d3-4ed7-a048-9004c629aa23"
      },
      "execution_count": 44,
      "outputs": [
        {
          "output_type": "execute_result",
          "data": {
            "text/plain": [
              "[[('protectuаsky', 'stoprussia'),\n",
              "  ('protectuаsky', 'ukraineunderattaсk'),\n",
              "  ('stoprussia', 'ukraineunderattaсk')]]"
            ]
          },
          "metadata": {},
          "execution_count": 44
        }
      ]
    },
    {
      "cell_type": "code",
      "source": [
        "#filter out the pairs non made by freq singletons\n",
        "new=pairs_freq_sing.filter(lambda x: x in pairs)\n",
        "new.first()"
      ],
      "metadata": {
        "id": "XwV_VGDz8YV5",
        "colab": {
          "base_uri": "https://localhost:8080/",
          "height": 321
        },
        "outputId": "2faac517-4641-4866-9700-513a3d5fac5b"
      },
      "execution_count": 45,
      "outputs": [
        {
          "output_type": "error",
          "ename": "ValueError",
          "evalue": "ignored",
          "traceback": [
            "\u001b[0;31m---------------------------------------------------------------------------\u001b[0m",
            "\u001b[0;31mValueError\u001b[0m                                Traceback (most recent call last)",
            "\u001b[0;32m<ipython-input-45-3d79b388db53>\u001b[0m in \u001b[0;36m<module>\u001b[0;34m()\u001b[0m\n\u001b[1;32m      1\u001b[0m \u001b[0;31m#filter out the pairs non made by freq singletons\u001b[0m\u001b[0;34m\u001b[0m\u001b[0;34m\u001b[0m\u001b[0;34m\u001b[0m\u001b[0m\n\u001b[1;32m      2\u001b[0m \u001b[0mnew\u001b[0m\u001b[0;34m=\u001b[0m\u001b[0mpairs_freq_sing\u001b[0m\u001b[0;34m.\u001b[0m\u001b[0mfilter\u001b[0m\u001b[0;34m(\u001b[0m\u001b[0;32mlambda\u001b[0m \u001b[0mx\u001b[0m\u001b[0;34m:\u001b[0m \u001b[0mx\u001b[0m \u001b[0;32min\u001b[0m \u001b[0mpairs\u001b[0m\u001b[0;34m)\u001b[0m\u001b[0;34m\u001b[0m\u001b[0;34m\u001b[0m\u001b[0m\n\u001b[0;32m----> 3\u001b[0;31m \u001b[0mnew\u001b[0m\u001b[0;34m.\u001b[0m\u001b[0mfirst\u001b[0m\u001b[0;34m(\u001b[0m\u001b[0;34m)\u001b[0m\u001b[0;34m\u001b[0m\u001b[0;34m\u001b[0m\u001b[0m\n\u001b[0m",
            "\u001b[0;32m/content/spark-3.0.3-bin-hadoop2.7/python/pyspark/rdd.py\u001b[0m in \u001b[0;36mfirst\u001b[0;34m(self)\u001b[0m\n\u001b[1;32m   1465\u001b[0m         \u001b[0;32mif\u001b[0m \u001b[0mrs\u001b[0m\u001b[0;34m:\u001b[0m\u001b[0;34m\u001b[0m\u001b[0;34m\u001b[0m\u001b[0m\n\u001b[1;32m   1466\u001b[0m             \u001b[0;32mreturn\u001b[0m \u001b[0mrs\u001b[0m\u001b[0;34m[\u001b[0m\u001b[0;36m0\u001b[0m\u001b[0;34m]\u001b[0m\u001b[0;34m\u001b[0m\u001b[0;34m\u001b[0m\u001b[0m\n\u001b[0;32m-> 1467\u001b[0;31m         \u001b[0;32mraise\u001b[0m \u001b[0mValueError\u001b[0m\u001b[0;34m(\u001b[0m\u001b[0;34m\"RDD is empty\"\u001b[0m\u001b[0;34m)\u001b[0m\u001b[0;34m\u001b[0m\u001b[0;34m\u001b[0m\u001b[0m\n\u001b[0m\u001b[1;32m   1468\u001b[0m \u001b[0;34m\u001b[0m\u001b[0m\n\u001b[1;32m   1469\u001b[0m     \u001b[0;32mdef\u001b[0m \u001b[0misEmpty\u001b[0m\u001b[0;34m(\u001b[0m\u001b[0mself\u001b[0m\u001b[0;34m)\u001b[0m\u001b[0;34m:\u001b[0m\u001b[0;34m\u001b[0m\u001b[0;34m\u001b[0m\u001b[0m\n",
            "\u001b[0;31mValueError\u001b[0m: RDD is empty"
          ]
=======
        "outputId": "13da6ddf-a6eb-409c-b2a3-e2bb72ff1380"
      },
      "execution_count": 33,
      "outputs": [
        {
          "output_type": "stream",
          "name": "stdout",
          "text": [
            "250000 75.0\n"
          ]
        }
      ]
    },
    {
      "cell_type": "markdown",
      "source": [
        "Start apriori"
      ],
      "metadata": {
        "id": "pWvt7ZNkThUI"
      }
    },
    {
      "cell_type": "code",
      "source": [
        "#setp 1 calculate the freq of each item in the basket file\n",
        "singleton=basket_file.flatMap(list).map(lambda item: (item,1)).reduceByKey(lambda a,b: a+b)\n",
        "\n",
        "singleton.take(20)"
      ],
      "metadata": {
        "id": "bfa40RztBSiX",
        "colab": {
          "base_uri": "https://localhost:8080/"
        },
        "outputId": "80628c69-a9b9-48df-84a0-80f114131c0d"
      },
      "execution_count": 34,
      "outputs": [
        {
          "output_type": "execute_result",
          "data": {
            "text/plain": [
              "[('ukraineunderattaсk', 9681),\n",
              " ('russianinvasion', 1114),\n",
              " ('standwithukraine', 34663),\n",
              " ('ukrainewillwin', 2640),\n",
              " ('stopputin', 5243),\n",
              " ('russianukrainianwar', 6092),\n",
              " ('russiagohome', 2795),\n",
              " ('нетвойне', 2462),\n",
              " ('taiwan', 349),\n",
              " ('anonymous', 5565),\n",
              " ('ddosecrets', 1165),\n",
              " ('netde', 11),\n",
              " ('delaware', 4),\n",
              " ('usa', 2619),\n",
              " ('ukraineinvasion', 1712),\n",
              " ('moscow', 1255),\n",
              " ('putin', 15272),\n",
              " ('medvedev', 27),\n",
              " ('russianarmy', 2860),\n",
              " ('soviet', 60)]"
            ]
          },
          "metadata": {},
          "execution_count": 34
>>>>>>> aab33757ca19b45281cc748e74a14c445018197c
        }
      ]
    },
    {
      "cell_type": "code",
      "source": [
<<<<<<< HEAD
        ""
      ],
      "metadata": {
        "id": "wllkH3j182I7"
      },
      "execution_count": null,
      "outputs": []
=======
        "#step 2: filter out all the non frequent singleton\n",
        "freq_singleton=singleton.filter(lambda x: x[1]>=threshold)\n",
        "\n",
        "freq_singleton.take(20)"
      ],
      "metadata": {
        "id": "7DPrIUNDBSjg",
        "colab": {
          "base_uri": "https://localhost:8080/"
        },
        "outputId": "8cd465e8-5d1e-4e3d-ef6a-28126b1a94e7"
      },
      "execution_count": 35,
      "outputs": [
        {
          "output_type": "execute_result",
          "data": {
            "text/plain": [
              "[('ukraineunderattaсk', 9681),\n",
              " ('russianinvasion', 1114),\n",
              " ('standwithukraine', 34663),\n",
              " ('ukrainewillwin', 2640),\n",
              " ('stopputin', 5243),\n",
              " ('russianukrainianwar', 6092),\n",
              " ('russiagohome', 2795),\n",
              " ('нетвойне', 2462),\n",
              " ('taiwan', 349),\n",
              " ('anonymous', 5565),\n",
              " ('ddosecrets', 1165),\n",
              " ('usa', 2619),\n",
              " ('ukraineinvasion', 1712),\n",
              " ('moscow', 1255),\n",
              " ('putin', 15272),\n",
              " ('russianarmy', 2860),\n",
              " ('ukrainian', 8660),\n",
              " ('kharkiv', 3345),\n",
              " ('peace', 901),\n",
              " ('zelensky', 1105)]"
            ]
          },
          "metadata": {},
          "execution_count": 35
        }
      ]
    },
    {
      "cell_type": "code",
      "source": [
        "#step 3: now create all the possible pairs made up by frequen singletons\n",
        "\n",
        "from itertools import combinations\n",
        "pairs=list(combinations(freq_singleton.map(lambda x: x[0]).toLocalIterator(),2)) #without toLocalIterator error (reference https://stackoverflow.com/questions/32771737/convert-an-rdd-to-iterable-pyspark)\n",
        "\n",
        "sc = spark.sparkContext #convert pairs in an RDD\n",
        "rdd_pairs=sc.parallelize(pairs)\n",
        "rdd_pairs.take(10)"
      ],
      "metadata": {
        "colab": {
          "base_uri": "https://localhost:8080/"
        },
        "id": "6KAdkZPKXHeI",
        "outputId": "892be2c6-3a31-4b9c-b756-93b66c5808c8"
      },
      "execution_count": 36,
      "outputs": [
        {
          "output_type": "execute_result",
          "data": {
            "text/plain": [
              "[('ukraineunderattaсk', 'russianinvasion'),\n",
              " ('ukraineunderattaсk', 'standwithukraine'),\n",
              " ('ukraineunderattaсk', 'ukrainewillwin'),\n",
              " ('ukraineunderattaсk', 'stopputin'),\n",
              " ('ukraineunderattaсk', 'russianukrainianwar'),\n",
              " ('ukraineunderattaсk', 'russiagohome'),\n",
              " ('ukraineunderattaсk', 'нетвойне'),\n",
              " ('ukraineunderattaсk', 'taiwan'),\n",
              " ('ukraineunderattaсk', 'anonymous'),\n",
              " ('ukraineunderattaсk', 'ddosecrets')]"
            ]
          },
          "metadata": {},
          "execution_count": 36
        }
      ]
    },
    {
      "cell_type": "code",
      "source": [
        "#step 4 : filter out the non frequent pairs\n",
        "pairs_freq_sing=basket_file.map(lambda x: list(combinations(x,2)))  #per ogni basket, creo ogni possiblie coppia\n",
        "\n",
        "#flat and count and reduce\n",
        "flat_pairs=singleton=pairs_freq_sing.flatMap(list).map(lambda item: (item,1)).reduceByKey(lambda a,b: a+b)\n",
        "flat_pairs.take(5)"
      ],
      "metadata": {
        "id": "dFGyOP-Qc-1B",
        "colab": {
          "base_uri": "https://localhost:8080/"
        },
        "outputId": "f8268dca-666c-425d-ed42-4139bcc6574f"
      },
      "execution_count": 77,
      "outputs": [
        {
          "output_type": "execute_result",
          "data": {
            "text/plain": [
              "[(('protectuаsky', 'stoprussia'), 7344),\n",
              " (('russianinvasion', 'standwithukraine'), 678),\n",
              " (('russianinvasion', 'ukrainewillwin'), 631),\n",
              " (('russianinvasion', 'stopputin'), 654),\n",
              " (('russianinvasion', 'russianukrainianwar'), 648)]"
            ]
          },
          "metadata": {},
          "execution_count": 77
        }
      ]
    },
    {
      "cell_type": "code",
      "source": [
        "#step 5: finally filetr out the pairs < thresold\n",
        "freq_pairs=flat_pairs.filter(lambda x: x[1]>=threshold)\n",
        "\n",
        "freq_pairs.take(10)"
      ],
      "metadata": {
        "colab": {
          "base_uri": "https://localhost:8080/"
        },
        "id": "eTzbS55W3O32",
        "outputId": "574a7ab1-55fd-4758-ac46-5212ac161cd8"
      },
      "execution_count": 82,
      "outputs": [
        {
          "output_type": "execute_result",
          "data": {
            "text/plain": [
              "[(('protectuаsky', 'stoprussia'), 7344),\n",
              " (('russianinvasion', 'standwithukraine'), 678),\n",
              " (('russianinvasion', 'ukrainewillwin'), 631),\n",
              " (('russianinvasion', 'stopputin'), 654),\n",
              " (('russianinvasion', 'russianukrainianwar'), 648),\n",
              " (('russianinvasion', 'russiagohome'), 556),\n",
              " (('russianinvasion', 'нетвойне'), 631),\n",
              " (('standwithukraine', 'ukrainewillwin'), 2308),\n",
              " (('standwithukraine', 'stopputin'), 3301),\n",
              " (('standwithukraine', 'russianukrainianwar'), 2561)]"
            ]
          },
          "metadata": {},
          "execution_count": 82
        }
      ]
>>>>>>> aab33757ca19b45281cc748e74a14c445018197c
    },
    {
      "cell_type": "code",
      "source": [
        ""
      ],
      "metadata": {
<<<<<<< HEAD
        "id": "WsUtwinXG3Oo"
      },
      "execution_count": null,
      "outputs": []
    },
    {
      "cell_type": "code",
      "source": [
        "singleton.first()"
      ],
      "metadata": {
        "id": "XktVehh0G3RC"
      },
      "execution_count": null,
      "outputs": []
    },
    {
      "cell_type": "code",
      "source": [
        "while True:\n",
        "  pass"
      ],
      "metadata": {
        "id": "iazZGUoljLA7"
      },
      "execution_count": null,
      "outputs": []
    },
    {
      "cell_type": "code",
      "source": [
        ""
      ],
      "metadata": {
        "id": "WLwi2myJM8lJ"
=======
        "id": "1PTbRkA64QT5"
>>>>>>> aab33757ca19b45281cc748e74a14c445018197c
      },
      "execution_count": null,
      "outputs": []
    }
  ],
  "metadata": {
    "colab": {
      "collapsed_sections": [],
      "name": "PROGETTO_AMD.ipynb",
      "provenance": []
    },
    "kernelspec": {
      "display_name": "Python 3",
      "name": "python3"
    },
    "language_info": {
      "name": "python"
    }
  },
  "nbformat": 4,
  "nbformat_minor": 0
}