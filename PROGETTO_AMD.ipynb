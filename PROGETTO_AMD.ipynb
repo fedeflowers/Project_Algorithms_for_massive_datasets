{
  "cells": [
    {
      "cell_type": "markdown",
      "metadata": {
        "id": "I75tB61RaDHK"
      },
      "source": [
        "## Spark setting"
      ]
    },
    {
      "cell_type": "code",
      "execution_count": 1,
      "metadata": {
        "id": "ocBQFMViafoF"
      },
      "outputs": [],
      "source": [
        "!apt-get install openjdk-8-jdk-headless -qq > /dev/null\n",
        "!wget -q http://www-eu.apache.org/dist/spark/spark-3.0.3/spark-3.0.3-bin-hadoop2.7.tgz\n",
        "!tar xf spark-3.0.3-bin-hadoop2.7.tgz\n",
        "!pip install -q findspark"
      ]
    },
    {
      "cell_type": "code",
      "execution_count": 2,
      "metadata": {
        "id": "wg_tN5RmkCq3"
      },
      "outputs": [],
      "source": [
        "import os\n",
        "os.environ[\"JAVA_HOME\"] = \"/usr/lib/jvm/java-8-openjdk-amd64\"\n",
        "os.environ[\"SPARK_HOME\"] = \"/content/spark-3.0.3-bin-hadoop2.7\""
      ]
    },
    {
      "cell_type": "code",
      "execution_count": 3,
      "metadata": {
        "id": "ehkhKsLqafrV"
      },
      "outputs": [],
      "source": [
        "import findspark\n",
        "findspark.init(\"spark-3.0.3-bin-hadoop2.7\")# SPARK_HOME\n",
        "from pyspark.sql import SparkSession\n",
        "spark = SparkSession.builder.master(\"local[*]\").getOrCreate()"
      ]
    },
    {
      "cell_type": "code",
      "execution_count": 4,
      "metadata": {
        "id": "AMVtczB1kLun",
        "colab": {
          "base_uri": "https://localhost:8080/"
        },
        "outputId": "f3140377-144d-4622-cce1-32218de9b773"
      },
      "outputs": [
        {
          "output_type": "execute_result",
          "data": {
            "text/plain": [
              "pyspark.sql.session.SparkSession"
            ]
          },
          "metadata": {},
          "execution_count": 4
        }
      ],
      "source": [
        "import pyspark\n",
        "type(spark)"
      ]
    },
    {
      "cell_type": "markdown",
      "metadata": {
        "id": "n8WiLqFNaAbz"
      },
      "source": [
        "## Kaggle APIs"
      ]
    },
    {
      "cell_type": "markdown",
      "metadata": {
        "id": "5DCmGBC2ZoBi"
      },
      "source": [
        "________________________________________________________________________"
      ]
    },
    {
      "cell_type": "code",
      "execution_count": 5,
      "metadata": {
        "id": "wvJrKVr00SxV",
        "colab": {
          "resources": {
            "http://localhost:8080/nbextensions/google.colab/files.js": {
              "data": "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",
              "ok": true,
              "headers": [
                [
                  "content-type",
                  "application/javascript"
                ]
              ],
              "status": 200,
              "status_text": ""
            }
          },
          "base_uri": "https://localhost:8080/",
          "height": 90
        },
        "outputId": "c85070f7-d907-42f0-e5db-cc840e3ba6a2"
      },
      "outputs": [
        {
          "output_type": "display_data",
          "data": {
            "text/plain": [
              "<IPython.core.display.HTML object>"
            ],
            "text/html": [
              "\n",
              "     <input type=\"file\" id=\"files-bb7f63ac-4b44-4bae-a4b8-e247599f88f5\" name=\"files[]\" multiple disabled\n",
              "        style=\"border:none\" />\n",
              "     <output id=\"result-bb7f63ac-4b44-4bae-a4b8-e247599f88f5\">\n",
              "      Upload widget is only available when the cell has been executed in the\n",
              "      current browser session. Please rerun this cell to enable.\n",
              "      </output>\n",
              "      <script src=\"/nbextensions/google.colab/files.js\"></script> "
            ]
          },
          "metadata": {}
        },
        {
          "output_type": "stream",
          "name": "stdout",
          "text": [
            "Saving kaggle.json to kaggle.json\n"
          ]
        },
        {
          "output_type": "execute_result",
          "data": {
            "text/plain": [
              "{'kaggle.json': b'{\"username\":\"federicofiorio\",\"key\":\"3c9fda0dd26cc20d5f652a577743142c\"} \\r\\n'}"
            ]
          },
          "metadata": {},
          "execution_count": 5
        }
      ],
      "source": [
        "from google.colab import files\n",
        "files.upload() #upload kaggle.json"
      ]
    },
    {
      "cell_type": "code",
      "execution_count": 6,
      "metadata": {
        "id": "9cD_HErCy5VX",
        "colab": {
          "base_uri": "https://localhost:8080/"
        },
        "outputId": "1df7ff44-338a-449b-8586-017ba5dcdf69"
      },
      "outputs": [
        {
          "output_type": "stream",
          "name": "stdout",
          "text": [
            "Requirement already satisfied: kaggle in /usr/local/lib/python3.7/dist-packages (1.5.12)\n",
            "Requirement already satisfied: six>=1.10 in /usr/local/lib/python3.7/dist-packages (from kaggle) (1.15.0)\n",
            "Requirement already satisfied: python-slugify in /usr/local/lib/python3.7/dist-packages (from kaggle) (6.1.2)\n",
            "Requirement already satisfied: python-dateutil in /usr/local/lib/python3.7/dist-packages (from kaggle) (2.8.2)\n",
            "Requirement already satisfied: urllib3 in /usr/local/lib/python3.7/dist-packages (from kaggle) (1.24.3)\n",
            "Requirement already satisfied: certifi in /usr/local/lib/python3.7/dist-packages (from kaggle) (2021.10.8)\n",
            "Requirement already satisfied: tqdm in /usr/local/lib/python3.7/dist-packages (from kaggle) (4.64.0)\n",
            "Requirement already satisfied: requests in /usr/local/lib/python3.7/dist-packages (from kaggle) (2.23.0)\n",
            "Requirement already satisfied: text-unidecode>=1.3 in /usr/local/lib/python3.7/dist-packages (from python-slugify->kaggle) (1.3)\n",
            "Requirement already satisfied: chardet<4,>=3.0.2 in /usr/local/lib/python3.7/dist-packages (from requests->kaggle) (3.0.4)\n",
            "Requirement already satisfied: idna<3,>=2.5 in /usr/local/lib/python3.7/dist-packages (from requests->kaggle) (2.10)\n"
          ]
        }
      ],
      "source": [
        "! pip install kaggle"
      ]
    },
    {
      "cell_type": "code",
      "execution_count": 7,
      "metadata": {
        "id": "BCLkDT1D09a5"
      },
      "outputs": [],
      "source": [
        "! mkdir ~/.kaggle"
      ]
    },
    {
      "cell_type": "code",
      "execution_count": 8,
      "metadata": {
        "id": "hAqh9chf0_0N"
      },
      "outputs": [],
      "source": [
        "!cp kaggle.json ~/.kaggle/"
      ]
    },
    {
      "cell_type": "code",
      "execution_count": 9,
      "metadata": {
        "id": "t6hitlea7e1f",
        "colab": {
          "base_uri": "https://localhost:8080/"
        },
        "outputId": "d5baeeda-19f4-454d-e152-732dad783a0a"
      },
      "outputs": [
        {
          "output_type": "stream",
          "name": "stdout",
          "text": [
            "kaggle.json\n"
          ]
        }
      ],
      "source": [
        "!ls ~/.kaggle"
      ]
    },
    {
      "cell_type": "code",
      "execution_count": 10,
      "metadata": {
        "id": "GSkmf6Zc4dNv"
      },
      "outputs": [],
      "source": [
        "!chmod 600 /root/.kaggle/kaggle.json"
      ]
    },
    {
      "cell_type": "code",
      "execution_count": 11,
      "metadata": {
        "id": "Dv7QkLHU4nI2",
        "colab": {
          "base_uri": "https://localhost:8080/"
        },
        "outputId": "a5b17bd1-3baa-401b-b01e-dc6fe9ae7ace"
      },
      "outputs": [
        {
          "output_type": "stream",
          "name": "stdout",
          "text": [
            "Downloading ukraine-russian-crisis-twitter-dataset-1-2-m-rows.zip to /content\n",
            "100% 7.30G/7.31G [02:56<00:00, 34.6MB/s]\n",
            "100% 7.31G/7.31G [02:56<00:00, 44.4MB/s]\n"
          ]
        }
      ],
      "source": [
        "!kaggle datasets download -d bwandowando/ukraine-russian-crisis-twitter-dataset-1-2-m-rows"
      ]
    },
    {
      "cell_type": "code",
      "execution_count": 12,
      "metadata": {
        "id": "lBspS-4-9Xgp",
        "colab": {
          "base_uri": "https://localhost:8080/"
        },
        "outputId": "bb495146-e3dc-47a4-f969-01ee31364c31"
      },
      "outputs": [
        {
          "output_type": "stream",
          "name": "stdout",
          "text": [
            "kaggle.json\n",
            "sample_data\n",
            "spark-3.0.3-bin-hadoop2.7\n",
            "spark-3.0.3-bin-hadoop2.7.tgz\n",
            "ukraine-russian-crisis-twitter-dataset-1-2-m-rows.zip\n"
          ]
        }
      ],
      "source": [
        "!ls"
      ]
    },
    {
      "cell_type": "code",
      "execution_count": 13,
      "metadata": {
        "id": "JOCKUrFx22Sp",
        "colab": {
          "base_uri": "https://localhost:8080/"
        },
        "outputId": "b17da075-0080-4b15-8241-4c2e3736e9ce"
      },
      "outputs": [
        {
          "output_type": "stream",
          "name": "stdout",
          "text": [
            "Archive:  ukraine-russian-crisis-twitter-dataset-1-2-m-rows.zip\n",
            "  inflating: 0401_UkraineCombinedTweetsDeduped.csv.gzip  \n",
            "  inflating: 0402_UkraineCombinedTweetsDeduped.csv.gzip  \n",
            "  inflating: 0403_UkraineCombinedTweetsDeduped.csv.gzip  \n",
            "  inflating: 0404_UkraineCombinedTweetsDeduped.csv.gzip  \n",
            "  inflating: 0405_UkraineCombinedTweetsDeduped.csv.gzip  \n",
            "  inflating: 0406_UkraineCombinedTweetsDeduped.csv.gzip  \n",
            "  inflating: 0407_UkraineCombinedTweetsDeduped.csv.gzip  \n",
            "  inflating: 0408_UkraineCombinedTweetsDeduped.csv.gzip  \n",
            "  inflating: 0409_UkraineCombinedTweetsDeduped.csv.gzip  \n",
            "  inflating: 0410_UkraineCombinedTweetsDeduped.csv.gzip  \n",
            "  inflating: 0411_UkraineCombinedTweetsDeduped.csv.gzip  \n",
            "  inflating: 0412_UkraineCombinedTweetsDeduped.csv.gzip  \n",
            "  inflating: 0413_UkraineCombinedTweetsDeduped.csv.gzip  \n",
            "  inflating: 0414_UkraineCombinedTweetsDeduped.csv.gzip  \n",
            "  inflating: 0415_UkraineCombinedTweetsDeduped.csv.gzip  \n",
            "  inflating: 0416_UkraineCombinedTweetsDeduped.csv.gzip  \n",
            "  inflating: 0417_UkraineCombinedTweetsDeduped.csv.gzip  \n",
            "  inflating: 0418_UkraineCombinedTweetsDeduped.csv.gzip  \n",
            "  inflating: 0419_UkraineCombinedTweetsDeduped.csv.gzip  \n",
            "  inflating: 0420_UkraineCombinedTweetsDeduped.csv.gzip  \n",
            "  inflating: 0421_UkraineCombinedTweetsDeduped.csv.gzip  \n",
            "  inflating: 0422_UkraineCombinedTweetsDeduped.csv.gzip  \n",
            "  inflating: 0423_UkraineCombinedTweetsDeduped.csv.gzip  \n",
            "  inflating: 0424_UkraineCombinedTweetsDeduped.csv.gzip  \n",
            "  inflating: 0425_UkraineCombinedTweetsDeduped.csv.gzip  \n",
            "  inflating: 0426_UkraineCombinedTweetsDeduped.csv.gzip  \n",
            "  inflating: 0427_UkraineCombinedTweetsDeduped.csv.gzip  \n",
            "  inflating: 0428_UkraineCombinedTweetsDeduped.csv.gzip  \n",
            "  inflating: 0429_UkraineCombinedTweetsDeduped.csv.gzip  \n",
            "  inflating: 0430_UkraineCombinedTweetsDeduped.csv.gzip  \n",
            "  inflating: 0501_UkraineCombinedTweetsDeduped.csv.gzip  \n",
            "  inflating: 0502_UkraineCombinedTweetsDeduped.csv.gzip  \n",
            "  inflating: 0503_UkraineCombinedTweetsDeduped.csv.gzip  \n",
            "  inflating: 0504_UkraineCombinedTweetsDeduped.csv.gzip  \n",
            "  inflating: 0505_to_0507_UkraineCombinedTweetsDeduped.csv.gzip  \n",
            "  inflating: 0508_UkraineCombinedTweetsDeduped.csv.gzip  \n",
            "  inflating: 0509_UkraineCombinedTweetsDeduped.csv.gzip  \n",
            "  inflating: 0510_UkraineCombinedTweetsDeduped.csv.gzip  \n",
            "  inflating: 0511_UkraineCombinedTweetsDeduped.csv.gzip  \n",
            "  inflating: 0512_UkraineCombinedTweetsDeduped.csv.gzip  \n",
            "  inflating: 0513_UkraineCombinedTweetsDeduped.csv.gzip  \n",
            "  inflating: 0514_UkraineCombinedTweetsDeduped.csv.gzip  \n",
            "  inflating: 0515_UkraineCombinedTweetsDeduped.csv.gzip  \n",
            "  inflating: 0516_UkraineCombinedTweetsDeduped.csv.gzip  \n",
            "  inflating: 0517_UkraineCombinedTweetsDeduped.csv.gzip  \n",
            "  inflating: 0518_UkraineCombinedTweetsDeduped.csv.gzip  \n",
            "  inflating: UkraineCombinedTweetsDeduped20220227-131611.csv.gzip  \n",
            "  inflating: UkraineCombinedTweetsDeduped_FEB27.csv.gzip  \n",
            "  inflating: UkraineCombinedTweetsDeduped_FEB28_part1.csv.gzip  \n",
            "  inflating: UkraineCombinedTweetsDeduped_FEB28_part2.csv.gzip  \n",
            "  inflating: UkraineCombinedTweetsDeduped_MAR01.csv.gzip  \n",
            "  inflating: UkraineCombinedTweetsDeduped_MAR02.csv.gzip  \n",
            "  inflating: UkraineCombinedTweetsDeduped_MAR03.csv.gzip  \n",
            "  inflating: UkraineCombinedTweetsDeduped_MAR04.csv.gzip  \n",
            "  inflating: UkraineCombinedTweetsDeduped_MAR05.csv.gzip  \n",
            "  inflating: UkraineCombinedTweetsDeduped_MAR06.csv.gzip  \n",
            "  inflating: UkraineCombinedTweetsDeduped_MAR07.csv.gzip  \n",
            "  inflating: UkraineCombinedTweetsDeduped_MAR08.csv.gzip  \n",
            "  inflating: UkraineCombinedTweetsDeduped_MAR09.csv.gzip  \n",
            "  inflating: UkraineCombinedTweetsDeduped_MAR10.csv.gzip  \n",
            "  inflating: UkraineCombinedTweetsDeduped_MAR11.csv.gzip  \n",
            "  inflating: UkraineCombinedTweetsDeduped_MAR12.csv.gzip  \n",
            "  inflating: UkraineCombinedTweetsDeduped_MAR13.csv.gzip  \n",
            "  inflating: UkraineCombinedTweetsDeduped_MAR14.csv.gzip  \n",
            "  inflating: UkraineCombinedTweetsDeduped_MAR15.csv.gzip  \n",
            "  inflating: UkraineCombinedTweetsDeduped_MAR16.csv.gzip  \n",
            "  inflating: UkraineCombinedTweetsDeduped_MAR17.csv.gzip  \n",
            "  inflating: UkraineCombinedTweetsDeduped_MAR18.csv.gzip  \n",
            "  inflating: UkraineCombinedTweetsDeduped_MAR19.csv.gzip  \n",
            "  inflating: UkraineCombinedTweetsDeduped_MAR20.csv.gzip  \n",
            "  inflating: UkraineCombinedTweetsDeduped_MAR21.csv.gzip  \n",
            "  inflating: UkraineCombinedTweetsDeduped_MAR22.csv.gzip  \n",
            "  inflating: UkraineCombinedTweetsDeduped_MAR23.csv.gzip  \n",
            "  inflating: UkraineCombinedTweetsDeduped_MAR24.csv.gzip  \n",
            "  inflating: UkraineCombinedTweetsDeduped_MAR25.csv.gzip  \n",
            "  inflating: UkraineCombinedTweetsDeduped_MAR26.csv.gzip  \n",
            "  inflating: UkraineCombinedTweetsDeduped_MAR27_to_28.csv.gzip  \n",
            "  inflating: UkraineCombinedTweetsDeduped_MAR29.csv.gzip  \n",
            "  inflating: UkraineCombinedTweetsDeduped_MAR30_REAL.csv.gzip  \n",
            "  inflating: UkraineCombinedTweetsDeduped_MAR31.csv.gzip  \n"
          ]
        }
      ],
      "source": [
        "!unzip ukraine-russian-crisis-twitter-dataset-1-2-m-rows.zip"
      ]
    },
    {
      "cell_type": "markdown",
      "metadata": {
        "id": "r9XHPiaqZ0zz"
      },
      "source": [
        "## Use the data"
      ]
    },
    {
      "cell_type": "markdown",
      "metadata": {
        "id": "Q2RBBWPHZx4r"
      },
      "source": [
        "________________________________________________________________________"
      ]
    },
    {
      "cell_type": "code",
      "execution_count": 14,
      "metadata": {
        "id": "bNY3XvoLw3md"
      },
      "outputs": [],
      "source": [
        "import numpy as np\n",
        "import pandas as pd\n",
        "import csv\n",
        "import os\n",
        "import warnings"
      ]
    },
    {
      "cell_type": "code",
      "execution_count": 15,
      "metadata": {
        "id": "Hh2IS9SM9pYh",
        "colab": {
          "base_uri": "https://localhost:8080/"
        },
        "outputId": "9a14579d-4aff-4c12-e075-981f696b8a0c"
      },
      "outputs": [
        {
          "output_type": "stream",
          "name": "stderr",
          "text": [
            "/usr/local/lib/python3.7/dist-packages/IPython/core/interactiveshell.py:2882: DtypeWarning: Columns (15) have mixed types.Specify dtype option on import or set low_memory=False.\n",
            "  exec(code_obj, self.user_global_ns, self.user_ns)\n"
          ]
        }
      ],
      "source": [
        "filename = r\"0401_UkraineCombinedTweetsDeduped.csv.gzip\"\n",
        "df = pd.read_csv(filename, compression='gzip', index_col=0,encoding='utf-8', quoting=csv.QUOTE_ALL)"
      ]
    },
    {
      "cell_type": "code",
      "execution_count": 16,
      "metadata": {
        "id": "JCM3URp35liu",
        "colab": {
          "base_uri": "https://localhost:8080/",
          "height": 582
        },
        "outputId": "27f87bee-f942-44f5-cc96-407d50629ec3"
      },
      "outputs": [
        {
          "output_type": "execute_result",
          "data": {
            "text/plain": [
              "                                                                0  \\\n",
              "userid                                                   16882774   \n",
              "username                                                  Yaniela   \n",
              "acctdesc        Animal lover, supports those who fight injusti...   \n",
              "location                                                   Hawaii   \n",
              "following                                                    1158   \n",
              "followers                                                     392   \n",
              "totaltweets                                                 88366   \n",
              "usercreatedts                          2008-10-21 07:34:04.000000   \n",
              "tweetid                                       1509681950042198030   \n",
              "tweetcreatedts                         2022-04-01 00:00:00.000000   \n",
              "retweetcount                                                 3412   \n",
              "text            ⚡The Ukrainian Air Force would like to address...   \n",
              "hashtags                                                       []   \n",
              "language                                                       en   \n",
              "coordinates                                                   NaN   \n",
              "favorite_count                                                  0   \n",
              "extractedts                            2022-04-01 00:44:20.097867   \n",
              "\n",
              "                                                                1  \n",
              "userid                                                 3205296069  \n",
              "username                                                 gregffff  \n",
              "acctdesc                                                      NaN  \n",
              "location                                                      NaN  \n",
              "following                                                     122  \n",
              "followers                                                     881  \n",
              "totaltweets                                                 99853  \n",
              "usercreatedts                          2015-04-25 11:24:34.000000  \n",
              "tweetid                                       1509681950151348229  \n",
              "tweetcreatedts                         2022-04-01 00:00:00.000000  \n",
              "retweetcount                                                  100  \n",
              "text            Chernihiv oblast. Ukrainians welcome their lib...  \n",
              "hashtags        [{'text': 'russianinvasion', 'indices': [77, 9...  \n",
              "language                                                       en  \n",
              "coordinates                                                   NaN  \n",
              "favorite_count                                                  0  \n",
              "extractedts                            2022-04-01 00:09:37.148770  "
            ],
            "text/html": [
              "\n",
              "  <div id=\"df-9e3252d6-95c6-4672-94d4-60f20a162a17\">\n",
              "    <div class=\"colab-df-container\">\n",
              "      <div>\n",
              "<style scoped>\n",
              "    .dataframe tbody tr th:only-of-type {\n",
              "        vertical-align: middle;\n",
              "    }\n",
              "\n",
              "    .dataframe tbody tr th {\n",
              "        vertical-align: top;\n",
              "    }\n",
              "\n",
              "    .dataframe thead th {\n",
              "        text-align: right;\n",
              "    }\n",
              "</style>\n",
              "<table border=\"1\" class=\"dataframe\">\n",
              "  <thead>\n",
              "    <tr style=\"text-align: right;\">\n",
              "      <th></th>\n",
              "      <th>0</th>\n",
              "      <th>1</th>\n",
              "    </tr>\n",
              "  </thead>\n",
              "  <tbody>\n",
              "    <tr>\n",
              "      <th>userid</th>\n",
              "      <td>16882774</td>\n",
              "      <td>3205296069</td>\n",
              "    </tr>\n",
              "    <tr>\n",
              "      <th>username</th>\n",
              "      <td>Yaniela</td>\n",
              "      <td>gregffff</td>\n",
              "    </tr>\n",
              "    <tr>\n",
              "      <th>acctdesc</th>\n",
              "      <td>Animal lover, supports those who fight injusti...</td>\n",
              "      <td>NaN</td>\n",
              "    </tr>\n",
              "    <tr>\n",
              "      <th>location</th>\n",
              "      <td>Hawaii</td>\n",
              "      <td>NaN</td>\n",
              "    </tr>\n",
              "    <tr>\n",
              "      <th>following</th>\n",
              "      <td>1158</td>\n",
              "      <td>122</td>\n",
              "    </tr>\n",
              "    <tr>\n",
              "      <th>followers</th>\n",
              "      <td>392</td>\n",
              "      <td>881</td>\n",
              "    </tr>\n",
              "    <tr>\n",
              "      <th>totaltweets</th>\n",
              "      <td>88366</td>\n",
              "      <td>99853</td>\n",
              "    </tr>\n",
              "    <tr>\n",
              "      <th>usercreatedts</th>\n",
              "      <td>2008-10-21 07:34:04.000000</td>\n",
              "      <td>2015-04-25 11:24:34.000000</td>\n",
              "    </tr>\n",
              "    <tr>\n",
              "      <th>tweetid</th>\n",
              "      <td>1509681950042198030</td>\n",
              "      <td>1509681950151348229</td>\n",
              "    </tr>\n",
              "    <tr>\n",
              "      <th>tweetcreatedts</th>\n",
              "      <td>2022-04-01 00:00:00.000000</td>\n",
              "      <td>2022-04-01 00:00:00.000000</td>\n",
              "    </tr>\n",
              "    <tr>\n",
              "      <th>retweetcount</th>\n",
              "      <td>3412</td>\n",
              "      <td>100</td>\n",
              "    </tr>\n",
              "    <tr>\n",
              "      <th>text</th>\n",
              "      <td>⚡The Ukrainian Air Force would like to address...</td>\n",
              "      <td>Chernihiv oblast. Ukrainians welcome their lib...</td>\n",
              "    </tr>\n",
              "    <tr>\n",
              "      <th>hashtags</th>\n",
              "      <td>[]</td>\n",
              "      <td>[{'text': 'russianinvasion', 'indices': [77, 9...</td>\n",
              "    </tr>\n",
              "    <tr>\n",
              "      <th>language</th>\n",
              "      <td>en</td>\n",
              "      <td>en</td>\n",
              "    </tr>\n",
              "    <tr>\n",
              "      <th>coordinates</th>\n",
              "      <td>NaN</td>\n",
              "      <td>NaN</td>\n",
              "    </tr>\n",
              "    <tr>\n",
              "      <th>favorite_count</th>\n",
              "      <td>0</td>\n",
              "      <td>0</td>\n",
              "    </tr>\n",
              "    <tr>\n",
              "      <th>extractedts</th>\n",
              "      <td>2022-04-01 00:44:20.097867</td>\n",
              "      <td>2022-04-01 00:09:37.148770</td>\n",
              "    </tr>\n",
              "  </tbody>\n",
              "</table>\n",
              "</div>\n",
              "      <button class=\"colab-df-convert\" onclick=\"convertToInteractive('df-9e3252d6-95c6-4672-94d4-60f20a162a17')\"\n",
              "              title=\"Convert this dataframe to an interactive table.\"\n",
              "              style=\"display:none;\">\n",
              "        \n",
              "  <svg xmlns=\"http://www.w3.org/2000/svg\" height=\"24px\"viewBox=\"0 0 24 24\"\n",
              "       width=\"24px\">\n",
              "    <path d=\"M0 0h24v24H0V0z\" fill=\"none\"/>\n",
              "    <path d=\"M18.56 5.44l.94 2.06.94-2.06 2.06-.94-2.06-.94-.94-2.06-.94 2.06-2.06.94zm-11 1L8.5 8.5l.94-2.06 2.06-.94-2.06-.94L8.5 2.5l-.94 2.06-2.06.94zm10 10l.94 2.06.94-2.06 2.06-.94-2.06-.94-.94-2.06-.94 2.06-2.06.94z\"/><path d=\"M17.41 7.96l-1.37-1.37c-.4-.4-.92-.59-1.43-.59-.52 0-1.04.2-1.43.59L10.3 9.45l-7.72 7.72c-.78.78-.78 2.05 0 2.83L4 21.41c.39.39.9.59 1.41.59.51 0 1.02-.2 1.41-.59l7.78-7.78 2.81-2.81c.8-.78.8-2.07 0-2.86zM5.41 20L4 18.59l7.72-7.72 1.47 1.35L5.41 20z\"/>\n",
              "  </svg>\n",
              "      </button>\n",
              "      \n",
              "  <style>\n",
              "    .colab-df-container {\n",
              "      display:flex;\n",
              "      flex-wrap:wrap;\n",
              "      gap: 12px;\n",
              "    }\n",
              "\n",
              "    .colab-df-convert {\n",
              "      background-color: #E8F0FE;\n",
              "      border: none;\n",
              "      border-radius: 50%;\n",
              "      cursor: pointer;\n",
              "      display: none;\n",
              "      fill: #1967D2;\n",
              "      height: 32px;\n",
              "      padding: 0 0 0 0;\n",
              "      width: 32px;\n",
              "    }\n",
              "\n",
              "    .colab-df-convert:hover {\n",
              "      background-color: #E2EBFA;\n",
              "      box-shadow: 0px 1px 2px rgba(60, 64, 67, 0.3), 0px 1px 3px 1px rgba(60, 64, 67, 0.15);\n",
              "      fill: #174EA6;\n",
              "    }\n",
              "\n",
              "    [theme=dark] .colab-df-convert {\n",
              "      background-color: #3B4455;\n",
              "      fill: #D2E3FC;\n",
              "    }\n",
              "\n",
              "    [theme=dark] .colab-df-convert:hover {\n",
              "      background-color: #434B5C;\n",
              "      box-shadow: 0px 1px 3px 1px rgba(0, 0, 0, 0.15);\n",
              "      filter: drop-shadow(0px 1px 2px rgba(0, 0, 0, 0.3));\n",
              "      fill: #FFFFFF;\n",
              "    }\n",
              "  </style>\n",
              "\n",
              "      <script>\n",
              "        const buttonEl =\n",
              "          document.querySelector('#df-9e3252d6-95c6-4672-94d4-60f20a162a17 button.colab-df-convert');\n",
              "        buttonEl.style.display =\n",
              "          google.colab.kernel.accessAllowed ? 'block' : 'none';\n",
              "\n",
              "        async function convertToInteractive(key) {\n",
              "          const element = document.querySelector('#df-9e3252d6-95c6-4672-94d4-60f20a162a17');\n",
              "          const dataTable =\n",
              "            await google.colab.kernel.invokeFunction('convertToInteractive',\n",
              "                                                     [key], {});\n",
              "          if (!dataTable) return;\n",
              "\n",
              "          const docLinkHtml = 'Like what you see? Visit the ' +\n",
              "            '<a target=\"_blank\" href=https://colab.research.google.com/notebooks/data_table.ipynb>data table notebook</a>'\n",
              "            + ' to learn more about interactive tables.';\n",
              "          element.innerHTML = '';\n",
              "          dataTable['output_type'] = 'display_data';\n",
              "          await google.colab.output.renderOutput(dataTable, element);\n",
              "          const docLink = document.createElement('div');\n",
              "          docLink.innerHTML = docLinkHtml;\n",
              "          element.appendChild(docLink);\n",
              "        }\n",
              "      </script>\n",
              "    </div>\n",
              "  </div>\n",
              "  "
            ]
          },
          "metadata": {},
          "execution_count": 16
        }
      ],
      "source": [
        "df[0:2].T"
      ]
    },
    {
      "cell_type": "code",
      "execution_count": 17,
      "metadata": {
        "id": "288E8M1aAbqJ",
        "colab": {
          "base_uri": "https://localhost:8080/"
        },
        "outputId": "fb9ccbfb-8d44-4fe7-ad8c-b676120e9bf7"
      },
      "outputs": [
        {
          "output_type": "execute_result",
          "data": {
            "text/plain": [
              "pandas.core.frame.DataFrame"
            ]
          },
          "metadata": {},
          "execution_count": 17
        }
      ],
      "source": [
        "type(df)"
      ]
    },
    {
      "cell_type": "code",
      "source": [
        "df = df[['tweetid', 'text', 'hashtags','language']] #keep only 3 columns\n",
        "df.head()"
      ],
      "metadata": {
        "id": "YBpT85eV1DUc",
        "colab": {
          "base_uri": "https://localhost:8080/",
          "height": 206
        },
        "outputId": "02475323-b825-4a5e-af7f-661283fe43e8"
      },
      "execution_count": 18,
      "outputs": [
        {
          "output_type": "execute_result",
          "data": {
            "text/plain": [
              "               tweetid                                               text  \\\n",
              "0  1509681950042198030  ⚡The Ukrainian Air Force would like to address...   \n",
              "1  1509681950151348229  Chernihiv oblast. Ukrainians welcome their lib...   \n",
              "2  1509681950683926556  America 🇺🇸 is preparing for something worse th...   \n",
              "3  1509681951116046336  JUST IN: #Anonymous has hacked &amp; released ...   \n",
              "4  1509681951304990720  ***PUBLIC MINT NOW LIVE***\\n\\nFor \\n@billionai...   \n",
              "\n",
              "                                            hashtags language  \n",
              "0                                                 []       en  \n",
              "1  [{'text': 'russianinvasion', 'indices': [77, 9...       en  \n",
              "2  [{'text': 'RussianUkrainianWar', 'indices': [7...       en  \n",
              "3       [{'text': 'Anonymous', 'indices': [25, 35]}]       en  \n",
              "4                                                 []       en  "
            ],
            "text/html": [
              "\n",
              "  <div id=\"df-8623e618-9ed2-495b-b957-6652a0d34085\">\n",
              "    <div class=\"colab-df-container\">\n",
              "      <div>\n",
              "<style scoped>\n",
              "    .dataframe tbody tr th:only-of-type {\n",
              "        vertical-align: middle;\n",
              "    }\n",
              "\n",
              "    .dataframe tbody tr th {\n",
              "        vertical-align: top;\n",
              "    }\n",
              "\n",
              "    .dataframe thead th {\n",
              "        text-align: right;\n",
              "    }\n",
              "</style>\n",
              "<table border=\"1\" class=\"dataframe\">\n",
              "  <thead>\n",
              "    <tr style=\"text-align: right;\">\n",
              "      <th></th>\n",
              "      <th>tweetid</th>\n",
              "      <th>text</th>\n",
              "      <th>hashtags</th>\n",
              "      <th>language</th>\n",
              "    </tr>\n",
              "  </thead>\n",
              "  <tbody>\n",
              "    <tr>\n",
              "      <th>0</th>\n",
              "      <td>1509681950042198030</td>\n",
              "      <td>⚡The Ukrainian Air Force would like to address...</td>\n",
              "      <td>[]</td>\n",
              "      <td>en</td>\n",
              "    </tr>\n",
              "    <tr>\n",
              "      <th>1</th>\n",
              "      <td>1509681950151348229</td>\n",
              "      <td>Chernihiv oblast. Ukrainians welcome their lib...</td>\n",
              "      <td>[{'text': 'russianinvasion', 'indices': [77, 9...</td>\n",
              "      <td>en</td>\n",
              "    </tr>\n",
              "    <tr>\n",
              "      <th>2</th>\n",
              "      <td>1509681950683926556</td>\n",
              "      <td>America 🇺🇸 is preparing for something worse th...</td>\n",
              "      <td>[{'text': 'RussianUkrainianWar', 'indices': [7...</td>\n",
              "      <td>en</td>\n",
              "    </tr>\n",
              "    <tr>\n",
              "      <th>3</th>\n",
              "      <td>1509681951116046336</td>\n",
              "      <td>JUST IN: #Anonymous has hacked &amp;amp; released ...</td>\n",
              "      <td>[{'text': 'Anonymous', 'indices': [25, 35]}]</td>\n",
              "      <td>en</td>\n",
              "    </tr>\n",
              "    <tr>\n",
              "      <th>4</th>\n",
              "      <td>1509681951304990720</td>\n",
              "      <td>***PUBLIC MINT NOW LIVE***\\n\\nFor \\n@billionai...</td>\n",
              "      <td>[]</td>\n",
              "      <td>en</td>\n",
              "    </tr>\n",
              "  </tbody>\n",
              "</table>\n",
              "</div>\n",
              "      <button class=\"colab-df-convert\" onclick=\"convertToInteractive('df-8623e618-9ed2-495b-b957-6652a0d34085')\"\n",
              "              title=\"Convert this dataframe to an interactive table.\"\n",
              "              style=\"display:none;\">\n",
              "        \n",
              "  <svg xmlns=\"http://www.w3.org/2000/svg\" height=\"24px\"viewBox=\"0 0 24 24\"\n",
              "       width=\"24px\">\n",
              "    <path d=\"M0 0h24v24H0V0z\" fill=\"none\"/>\n",
              "    <path d=\"M18.56 5.44l.94 2.06.94-2.06 2.06-.94-2.06-.94-.94-2.06-.94 2.06-2.06.94zm-11 1L8.5 8.5l.94-2.06 2.06-.94-2.06-.94L8.5 2.5l-.94 2.06-2.06.94zm10 10l.94 2.06.94-2.06 2.06-.94-2.06-.94-.94-2.06-.94 2.06-2.06.94z\"/><path d=\"M17.41 7.96l-1.37-1.37c-.4-.4-.92-.59-1.43-.59-.52 0-1.04.2-1.43.59L10.3 9.45l-7.72 7.72c-.78.78-.78 2.05 0 2.83L4 21.41c.39.39.9.59 1.41.59.51 0 1.02-.2 1.41-.59l7.78-7.78 2.81-2.81c.8-.78.8-2.07 0-2.86zM5.41 20L4 18.59l7.72-7.72 1.47 1.35L5.41 20z\"/>\n",
              "  </svg>\n",
              "      </button>\n",
              "      \n",
              "  <style>\n",
              "    .colab-df-container {\n",
              "      display:flex;\n",
              "      flex-wrap:wrap;\n",
              "      gap: 12px;\n",
              "    }\n",
              "\n",
              "    .colab-df-convert {\n",
              "      background-color: #E8F0FE;\n",
              "      border: none;\n",
              "      border-radius: 50%;\n",
              "      cursor: pointer;\n",
              "      display: none;\n",
              "      fill: #1967D2;\n",
              "      height: 32px;\n",
              "      padding: 0 0 0 0;\n",
              "      width: 32px;\n",
              "    }\n",
              "\n",
              "    .colab-df-convert:hover {\n",
              "      background-color: #E2EBFA;\n",
              "      box-shadow: 0px 1px 2px rgba(60, 64, 67, 0.3), 0px 1px 3px 1px rgba(60, 64, 67, 0.15);\n",
              "      fill: #174EA6;\n",
              "    }\n",
              "\n",
              "    [theme=dark] .colab-df-convert {\n",
              "      background-color: #3B4455;\n",
              "      fill: #D2E3FC;\n",
              "    }\n",
              "\n",
              "    [theme=dark] .colab-df-convert:hover {\n",
              "      background-color: #434B5C;\n",
              "      box-shadow: 0px 1px 3px 1px rgba(0, 0, 0, 0.15);\n",
              "      filter: drop-shadow(0px 1px 2px rgba(0, 0, 0, 0.3));\n",
              "      fill: #FFFFFF;\n",
              "    }\n",
              "  </style>\n",
              "\n",
              "      <script>\n",
              "        const buttonEl =\n",
              "          document.querySelector('#df-8623e618-9ed2-495b-b957-6652a0d34085 button.colab-df-convert');\n",
              "        buttonEl.style.display =\n",
              "          google.colab.kernel.accessAllowed ? 'block' : 'none';\n",
              "\n",
              "        async function convertToInteractive(key) {\n",
              "          const element = document.querySelector('#df-8623e618-9ed2-495b-b957-6652a0d34085');\n",
              "          const dataTable =\n",
              "            await google.colab.kernel.invokeFunction('convertToInteractive',\n",
              "                                                     [key], {});\n",
              "          if (!dataTable) return;\n",
              "\n",
              "          const docLinkHtml = 'Like what you see? Visit the ' +\n",
              "            '<a target=\"_blank\" href=https://colab.research.google.com/notebooks/data_table.ipynb>data table notebook</a>'\n",
              "            + ' to learn more about interactive tables.';\n",
              "          element.innerHTML = '';\n",
              "          dataTable['output_type'] = 'display_data';\n",
              "          await google.colab.output.renderOutput(dataTable, element);\n",
              "          const docLink = document.createElement('div');\n",
              "          docLink.innerHTML = docLinkHtml;\n",
              "          element.appendChild(docLink);\n",
              "        }\n",
              "      </script>\n",
              "    </div>\n",
              "  </div>\n",
              "  "
            ]
          },
          "metadata": {},
          "execution_count": 18
        }
      ]
    },
    {
      "cell_type": "code",
      "source": [
        "pd.options.display.max_colwidth = 1200\n",
        "print(df[df['tweetid']==\t1509681950042198030][\"text\"],df[df['tweetid']==\t1509681950042198030][\"hashtags\"])"
      ],
      "metadata": {
        "id": "g0vF6KiT8YAY",
        "colab": {
          "base_uri": "https://localhost:8080/"
        },
        "outputId": "37362fbf-a640-460f-e0a6-9e8aa030db69"
      },
      "execution_count": 19,
      "outputs": [
        {
          "output_type": "stream",
          "name": "stdout",
          "text": [
            "0    ⚡The Ukrainian Air Force would like to address misinformation published in multiple Western media outlets regarding the situation in the 🇺🇦 sky and support from our @NATO allies. \\nMore in 🧵(1/16)\\n#ProtectUАSky #StopRussia #UkraineUnderAttaсk\n",
            "Name: text, dtype: object 0    []\n",
            "Name: hashtags, dtype: object\n"
          ]
        }
      ]
    },
    {
      "cell_type": "markdown",
      "source": [
        "As we can see in the previous cell, the tweet has the hashtag #StopRussia #UkraineUnderAttaсk BUT the dataframe (1st tuple) sais there are no hashtag in the tweet. We will try to recover form this."
      ],
      "metadata": {
        "id": "HEfNBiN--8NF"
      }
    },
    {
      "cell_type": "code",
      "execution_count": 20,
      "metadata": {
        "id": "N1KxUUGAlv_X"
      },
      "outputs": [],
      "source": [
        "from pyspark.sql.types import *\n",
        "\n",
        "schema = StructType([StructField(\"tweetid\", StringType(), True)\\\n",
        "                   ,StructField(\"text\", StringType(), True)\\\n",
        "                   ,StructField(\"hashtags\", StringType(), True)\\\n",
        "                   ,StructField(\"language\", StringType(), True)])\n",
        "\n",
        "#create spark dataframe using schema\n",
        "df_spark = spark.createDataFrame(df,schema=schema)"
      ]
    },
    {
      "cell_type": "code",
      "execution_count": 21,
      "metadata": {
        "id": "5mt_1Vi9lwB1",
        "colab": {
          "base_uri": "https://localhost:8080/"
        },
        "outputId": "20c807bc-c8c9-46a3-9b23-91aa2e822ab6"
      },
      "outputs": [
        {
          "output_type": "execute_result",
          "data": {
            "text/plain": [
              "pyspark.sql.dataframe.DataFrame"
            ]
          },
          "metadata": {},
          "execution_count": 21
        }
      ],
      "source": [
        "type(df_spark)"
      ]
    },
    {
      "cell_type": "code",
      "execution_count": 22,
      "metadata": {
        "id": "Tv5GCx1alwD3",
        "colab": {
          "base_uri": "https://localhost:8080/"
        },
        "outputId": "5dee310c-9808-49e7-aaf8-bae3eacfa999"
      },
      "outputs": [
        {
          "output_type": "stream",
          "name": "stdout",
          "text": [
            "+-------------------+--------------------+--------------------+--------+\n",
            "|            tweetid|                text|            hashtags|language|\n",
            "+-------------------+--------------------+--------------------+--------+\n",
            "|1509681950042198030|⚡The Ukrainian Ai...|                  []|      en|\n",
            "|1509681950151348229|Chernihiv oblast....|[{'text': 'russia...|      en|\n",
            "|1509681950683926556|America 🇺🇸 is p...|[{'text': 'Russia...|      en|\n",
            "|1509681951116046336|JUST IN: #Anonymo...|[{'text': 'Anonym...|      en|\n",
            "|1509681951304990720|***PUBLIC MINT NO...|                  []|      en|\n",
            "|1509681952000937999|The Amazing story...|[{'text': 'Russia...|      en|\n",
            "|1509681952978210849|&amp;quot;How we ...|                  []|      en|\n",
            "|1509681953053843466|India's purchase ...|[{'text': 'Russia...|      en|\n",
            "|1509681953091457035|The most basic te...|[{'text': 'Ukrain...|      en|\n",
            "|1509681953418711050|\"The image that R...|[{'text': 'Putin'...|      en|\n",
            "|1509681953418752008|#Russia’s Preside...|[{'text': 'Russia...|      en|\n",
            "|1509681953636700160|Sad to read of th...|[{'text': 'Russia...|      en|\n",
            "|1509681953947074560|الرئيس الروسي يصع...|[{'text': 'عينك_ع...|      ar|\n",
            "|1509681954488303623|Tank T-34 at the ...|[{'text': 'Soviet...|      en|\n",
            "|1509681954647543824|The #Anonymous co...|[{'text': 'Anonym...|      en|\n",
            "|1509681955519938561|#Internacional 🇷...|[{'text': 'Intern...|      es|\n",
            "|1509681955603845120|***PUBLIC MINT NO...|                  []|      en|\n",
            "|1509681956149104652|#UkraineWar \n",
            "#Rus...|[{'text': 'Ukrain...|      en|\n",
            "|1509681956224602150|#Putin: Rubleyle ...|[{'text': 'Putin'...|      tr|\n",
            "|1509681957524979718|Read: https://t.c...|[{'text': 'Peace'...|      en|\n",
            "+-------------------+--------------------+--------------------+--------+\n",
            "only showing top 20 rows\n",
            "\n"
          ]
        }
      ],
      "source": [
        "df_spark.show()"
      ]
    },
    {
      "cell_type": "markdown",
      "source": [
        "## RDD TEXT SERVE PER PRENDERE GLI HASHTAG DAL TWEET IN QUANTO LA COLONNA HASHTAG DEL DATASET NON è ACCURATA"
      ],
      "metadata": {
        "id": "UABfyrnmWyLr"
      }
    },
    {
      "cell_type": "code",
      "source": [
        "import nltk\n",
        "from nltk import word_tokenize\n",
        "import re\n",
        "nltk.download('punkt') #to make it work\n",
        "\n",
        "rdd = df_spark.rdd #to get the rdd from dataframe\n",
        "\n",
        "rdd.take(10)\n",
        "rdd=rdd.filter(lambda x: x[3] == \"en\") #filter out non english tweets\n",
        "\n",
        "\n",
        "rdd_text = rdd.map(lambda x : (x[0], x[1])).map(lambda x:(x[0], word_tokenize(x[1]))) #id, word_tokenized"
      ],
      "metadata": {
        "id": "-Om2zbCe9yHH",
        "colab": {
          "base_uri": "https://localhost:8080/"
        },
        "outputId": "2bfe450d-5b58-48e9-804e-495be9626453"
      },
      "execution_count": 23,
      "outputs": [
        {
          "output_type": "stream",
          "name": "stdout",
          "text": [
            "[nltk_data] Downloading package punkt to /root/nltk_data...\n",
            "[nltk_data]   Unzipping tokenizers/punkt.zip.\n"
          ]
        }
      ]
    },
    {
      "cell_type": "markdown",
      "source": [
        "## ESTRAGGO SOLO GLI HASHTAGS"
      ],
      "metadata": {
        "id": "gbMQPHYuQ0zM"
      }
    },
    {
      "cell_type": "code",
      "source": [
        "def processHashtags(tweet):\n",
        "  hashtags = []\n",
        "  for i,word in enumerate(tweet):\n",
        "    if word == '#':\n",
        "      try:\n",
        "        hashtags.append(re.sub(r'[^\\w\\s]','',tweet[i+1]).lower()) #remove punctuation with regexp and put them lowercase\n",
        "      except:\n",
        "        pass\n",
        "  return hashtags\n",
        "\n",
        "hashtags_per_tweet = rdd_text.map(lambda x: (x[0], processHashtags(x[1])))\n",
        "hashtags_per_tweet.first()"
      ],
      "metadata": {
        "id": "NdcDV2lJ_p-2",
        "colab": {
          "base_uri": "https://localhost:8080/"
        },
        "outputId": "4ab50f84-6b8d-4bef-b3e4-d257d4d3213a"
      },
      "execution_count": 24,
      "outputs": [
        {
          "output_type": "execute_result",
          "data": {
            "text/plain": [
              "('1509681950042198030', ['protectuаsky', 'stoprussia', 'ukraineunderattaсk'])"
            ]
          },
          "metadata": {},
          "execution_count": 24
        }
      ]
    },
    {
      "cell_type": "code",
      "source": [
        "#reconvert the rdd to spark dataframe\n",
        "deptColumns = [\"tweet\",\"hashtag\"]\n",
        "new_df_spark = hashtags_per_tweet.toDF(deptColumns)\n",
        "new_df_spark.printSchema()\n",
        "new_df_spark.show(truncate=False)"
      ],
      "metadata": {
        "id": "1iEJQjdwUkE9",
        "colab": {
          "base_uri": "https://localhost:8080/"
        },
        "outputId": "116f5aba-f09f-48b8-d9e2-90e60473131c"
      },
      "execution_count": 25,
      "outputs": [
        {
          "output_type": "stream",
          "name": "stdout",
          "text": [
            "root\n",
            " |-- tweet: string (nullable = true)\n",
            " |-- hashtag: array (nullable = true)\n",
            " |    |-- element: string (containsNull = true)\n",
            "\n",
            "+-------------------+--------------------------------------------------------------------------------------------------------------------------------------------------------------------------+\n",
            "|tweet              |hashtag                                                                                                                                                                   |\n",
            "+-------------------+--------------------------------------------------------------------------------------------------------------------------------------------------------------------------+\n",
            "|1509681950042198030|[protectuаsky, stoprussia, ukraineunderattaсk]                                                                                                                            |\n",
            "|1509681950151348229|[russianinvasion, standwithukraine, ukraineunderattack, ukrainewillwin, putinisawarcriminal, stopputin, russianukrainianwar, russiagohome, россиясмотри, нетвойне]        |\n",
            "|1509681950683926556|[russianukrainianwar, china, taiwan]                                                                                                                                      |\n",
            "|1509681951116046336|[anonymous, oprussia, ddosecrets]                                                                                                                                         |\n",
            "|1509681951304990720|[nft, mint]                                                                                                                                                               |\n",
            "|1509681952000937999|[russia, ukraine, motivation, netde, edude, delaware, government, usa]                                                                                                    |\n",
            "|1509681952978210849|[ukraine, ukrainewar, russia, ukraineinvasion]                                                                                                                            |\n",
            "|1509681953053843466|[russian, moscow]                                                                                                                                                         |\n",
            "|1509681953091457035|[ukraine]                                                                                                                                                                 |\n",
            "|1509681953418711050|[putin, medvedev, russia, ukraine]                                                                                                                                        |\n",
            "|1509681953418752008|[russia, putin]                                                                                                                                                           |\n",
            "|1509681953636700160|[russianarmy, chernobyl, russianukrainianwar]                                                                                                                             |\n",
            "|1509681954488303623|[soviet, berlin, ukrainian, russian, kharkiv]                                                                                                                             |\n",
            "|1509681954647543824|[anonymous, ukraine]                                                                                                                                                      |\n",
            "|1509681955603845120|[nft, mint]                                                                                                                                                               |\n",
            "|1509681956149104652|[ukrainewar, russia, ukraine, 30march, russianukrainianwar]                                                                                                               |\n",
            "|1509681957524979718|[peace, ukraine, democracy, war, putin, zelensky, russia, blackmedia, localnews, community, scoop, news, africanamericans, philadelphia, scoopusamedia, philly, subscribe]|\n",
            "|1509681958288338945|[ukraine]                                                                                                                                                                 |\n",
            "|1509681959965966345|[exclusive, itvideo, russiaukrainewar, re]                                                                                                                                |\n",
            "|1509681960066584593|[putin, ruble, currency, sanctions, oil, economy, negotiations, diplomacy, geopolitics, leadership, government, russia, warinukraine, war, russiaukrainewar]              |\n",
            "+-------------------+--------------------------------------------------------------------------------------------------------------------------------------------------------------------------+\n",
            "only showing top 20 rows\n",
            "\n"
          ]
        }
      ]
    },
    {
      "cell_type": "markdown",
      "source": [
        "APRIORI"
      ],
      "metadata": {
        "id": "5UBV7OukQr3h"
      }
    },
    {
      "cell_type": "code",
      "source": [
        "hashtag=new_df_spark.select('hashtag')"
      ],
      "metadata": {
        "id": "LYKRfbHh9ySU"
      },
      "execution_count": 26,
      "outputs": []
    },
    {
      "cell_type": "code",
      "source": [
        "basket_file = hashtag.rdd.flatMap(list)"
      ],
      "metadata": {
        "id": "6xD_xQSeRorv"
      },
      "execution_count": 27,
      "outputs": []
    },
    {
      "cell_type": "code",
      "source": [
        "basket_file.take(10)"
      ],
      "metadata": {
        "id": "Aa2HohPTyv_p",
        "colab": {
          "base_uri": "https://localhost:8080/"
        },
        "outputId": "374f741d-dc24-43b4-8110-b5625505f661"
      },
      "execution_count": 28,
      "outputs": [
        {
          "output_type": "execute_result",
          "data": {
            "text/plain": [
              "[['protectuаsky', 'stoprussia', 'ukraineunderattaсk'],\n",
              " ['russianinvasion',\n",
              "  'standwithukraine',\n",
              "  'ukraineunderattack',\n",
              "  'ukrainewillwin',\n",
              "  'putinisawarcriminal',\n",
              "  'stopputin',\n",
              "  'russianukrainianwar',\n",
              "  'russiagohome',\n",
              "  'россиясмотри',\n",
              "  'нетвойне'],\n",
              " ['russianukrainianwar', 'china', 'taiwan'],\n",
              " ['anonymous', 'oprussia', 'ddosecrets'],\n",
              " ['nft', 'mint'],\n",
              " ['russia',\n",
              "  'ukraine',\n",
              "  'motivation',\n",
              "  'netde',\n",
              "  'edude',\n",
              "  'delaware',\n",
              "  'government',\n",
              "  'usa'],\n",
              " ['ukraine', 'ukrainewar', 'russia', 'ukraineinvasion'],\n",
              " ['russian', 'moscow'],\n",
              " ['ukraine'],\n",
              " ['putin', 'medvedev', 'russia', 'ukraine']]"
            ]
          },
          "metadata": {},
          "execution_count": 28
        }
      ]
    },
    {
      "cell_type": "markdown",
      "source": [
        "## Riduco dimensioni baskets per essere veloci"
      ],
      "metadata": {
        "id": "CV2FFWqn7fou"
      }
    },
    {
      "cell_type": "code",
      "source": [
        "num_baskets = 500\n",
        "basket_file = basket_file.take(num_baskets) "
      ],
      "metadata": {
        "id": "5wxe9MKB7fQQ"
      },
      "execution_count": 29,
      "outputs": []
    },
    {
      "cell_type": "code",
      "source": [
        "basket_file = spark.sparkContext.parallelize(basket_file)"
      ],
      "metadata": {
        "id": "vUlj9lOI7_1N"
      },
      "execution_count": 30,
      "outputs": []
    },
    {
      "cell_type": "code",
      "source": [
        "type(basket_file)"
      ],
      "metadata": {
        "id": "S9sorRqZ8Ocu",
        "colab": {
          "base_uri": "https://localhost:8080/"
        },
        "outputId": "43f3db74-352c-40ce-d412-b6f00f4e7d05"
      },
      "execution_count": 31,
      "outputs": [
        {
          "output_type": "execute_result",
          "data": {
            "text/plain": [
              "pyspark.rdd.RDD"
            ]
          },
          "metadata": {},
          "execution_count": 31
        }
      ]
    },
    {
      "cell_type": "code",
      "source": [
        "basket_file.take(10)"
      ],
      "metadata": {
        "id": "nRkOzoaOAyrP",
        "colab": {
          "base_uri": "https://localhost:8080/"
        },
        "outputId": "7b780baa-b172-4bca-f2ef-2cce34434def"
      },
      "execution_count": 32,
      "outputs": [
        {
          "output_type": "execute_result",
          "data": {
            "text/plain": [
              "[['protectuаsky', 'stoprussia', 'ukraineunderattaсk'],\n",
              " ['russianinvasion',\n",
              "  'standwithukraine',\n",
              "  'ukraineunderattack',\n",
              "  'ukrainewillwin',\n",
              "  'putinisawarcriminal',\n",
              "  'stopputin',\n",
              "  'russianukrainianwar',\n",
              "  'russiagohome',\n",
              "  'россиясмотри',\n",
              "  'нетвойне'],\n",
              " ['russianukrainianwar', 'china', 'taiwan'],\n",
              " ['anonymous', 'oprussia', 'ddosecrets'],\n",
              " ['nft', 'mint'],\n",
              " ['russia',\n",
              "  'ukraine',\n",
              "  'motivation',\n",
              "  'netde',\n",
              "  'edude',\n",
              "  'delaware',\n",
              "  'government',\n",
              "  'usa'],\n",
              " ['ukraine', 'ukrainewar', 'russia', 'ukraineinvasion'],\n",
              " ['russian', 'moscow'],\n",
              " ['ukraine'],\n",
              " ['putin', 'medvedev', 'russia', 'ukraine']]"
            ]
          },
          "metadata": {},
          "execution_count": 32
        }
      ]
    },
    {
      "cell_type": "markdown",
      "source": [
        "_______________________________________________________________________________"
      ],
      "metadata": {
        "id": "_v6RyYAH8A59"
      }
    },
    {
      "cell_type": "code",
      "source": [
        "#DA RIVEDERE\n",
        "count = 250000 #obtaine doing count=basket_file.count() (too much time to repeat this all the time)\n",
        "threshold = 10\n",
        "print(count, threshold)"
      ],
      "metadata": {
        "id": "4Jx_mBOQBScX",
        "colab": {
          "base_uri": "https://localhost:8080/"
        },
        "outputId": "2cf5ef11-aa16-4af2-dadd-3509fda13e98"
      },
      "execution_count": 33,
      "outputs": [
        {
          "output_type": "stream",
          "name": "stdout",
          "text": [
            "250000 10\n"
          ]
        }
      ]
    },
    {
      "cell_type": "markdown",
      "source": [
        "## Start apriori: PHASE 1"
      ],
      "metadata": {
        "id": "pWvt7ZNkThUI"
      }
    },
    {
      "cell_type": "code",
      "source": [
        "#setp 1 calculate the freq of each item in the basket file\n",
        "singleton=basket_file.flatMap(list).map(lambda item: (item,1)).reduceByKey(lambda a,b: a+b)\n",
        "\n",
        "singleton.take(20)"
      ],
      "metadata": {
        "id": "bfa40RztBSiX",
        "colab": {
          "base_uri": "https://localhost:8080/"
        },
        "outputId": "9f093b28-2414-42d8-bef6-724ee2595b5c"
      },
      "execution_count": 34,
      "outputs": [
        {
          "output_type": "execute_result",
          "data": {
            "text/plain": [
              "[('ukraineunderattaсk', 27),\n",
              " ('russianinvasion', 20),\n",
              " ('standwithukraine', 51),\n",
              " ('ukrainewillwin', 22),\n",
              " ('stopputin', 26),\n",
              " ('russianukrainianwar', 29),\n",
              " ('russiagohome', 20),\n",
              " ('нетвойне', 20),\n",
              " ('taiwan', 1),\n",
              " ('anonymous', 11),\n",
              " ('ddosecrets', 2),\n",
              " ('netde', 1),\n",
              " ('delaware', 1),\n",
              " ('usa', 5),\n",
              " ('ukraineinvasion', 2),\n",
              " ('moscow', 4),\n",
              " ('putin', 32),\n",
              " ('medvedev', 1),\n",
              " ('russianarmy', 2),\n",
              " ('soviet', 2)]"
            ]
          },
          "metadata": {},
          "execution_count": 34
        }
      ]
    },
    {
      "cell_type": "markdown",
      "source": [
        "## PHASE 2"
      ],
      "metadata": {
        "id": "zTf4gpkfmdsL"
      }
    },
    {
      "cell_type": "code",
      "source": [
        "#step 2: filter out all the non frequent singleton\n",
        "freq_singleton=singleton.filter(lambda x: x[1]>=threshold)\n",
        "\n",
        "freq_singleton.take(20)"
      ],
      "metadata": {
        "id": "7DPrIUNDBSjg",
        "colab": {
          "base_uri": "https://localhost:8080/"
        },
        "outputId": "f00169ee-fb46-4811-d0b2-939d207f98db"
      },
      "execution_count": 37,
      "outputs": [
        {
          "output_type": "execute_result",
          "data": {
            "text/plain": [
              "[('ukraineunderattaсk', 27),\n",
              " ('russianinvasion', 20),\n",
              " ('standwithukraine', 51),\n",
              " ('ukrainewillwin', 22),\n",
              " ('stopputin', 26),\n",
              " ('russianukrainianwar', 29),\n",
              " ('russiagohome', 20),\n",
              " ('нетвойне', 20),\n",
              " ('anonymous', 11),\n",
              " ('putin', 32),\n",
              " ('ukrainian', 31),\n",
              " ('russiaukrainewar', 13),\n",
              " ('mariupol', 20),\n",
              " ('ukrainerussianwar', 10),\n",
              " ('ukrainerussiawar', 33),\n",
              " ('settodraw', 10),\n",
              " ('tanzaniaproject', 10),\n",
              " ('africa', 10),\n",
              " ('mining', 10),\n",
              " ('kherson', 16)]"
            ]
          },
          "metadata": {},
          "execution_count": 37
        }
      ]
    },
    {
      "cell_type": "code",
      "source": [
        "#step 3: now create all the possible pairs made up by frequen singletons\n",
        "\n",
        "from itertools import combinations\n",
        "pairs=list(combinations(freq_singleton.map(lambda x: x[0]).toLocalIterator(),2)) #without toLocalIterator error (reference https://stackoverflow.com/questions/32771737/convert-an-rdd-to-iterable-pyspark)\n",
        "\n",
        "pairs[:10]"
      ],
      "metadata": {
        "id": "6KAdkZPKXHeI",
        "colab": {
          "base_uri": "https://localhost:8080/"
        },
        "outputId": "306728b9-5bc9-44ae-8cfe-c07c5e9e6ea4"
      },
      "execution_count": 38,
      "outputs": [
        {
          "output_type": "execute_result",
          "data": {
            "text/plain": [
              "[('ukraineunderattaсk', 'russianinvasion'),\n",
              " ('ukraineunderattaсk', 'standwithukraine'),\n",
              " ('ukraineunderattaсk', 'ukrainewillwin'),\n",
              " ('ukraineunderattaсk', 'stopputin'),\n",
              " ('ukraineunderattaсk', 'russianukrainianwar'),\n",
              " ('ukraineunderattaсk', 'russiagohome'),\n",
              " ('ukraineunderattaсk', 'нетвойне'),\n",
              " ('ukraineunderattaсk', 'anonymous'),\n",
              " ('ukraineunderattaсk', 'putin'),\n",
              " ('ukraineunderattaсk', 'ukrainian')]"
            ]
          },
          "metadata": {},
          "execution_count": 38
        }
      ]
    },
    {
      "cell_type": "code",
      "source": [
        "#step 4\n",
        "#flatmap so I get all the prev computed pairs in only 1 list to be able to perform reduceByKey\n",
        "flatted_couples = basket_file.map(lambda x: [(pair,1) for pair in pairs if set(pair).issubset(set(x))]).flatMap(lambda x: x).cache()"
      ],
      "metadata": {
        "id": "6p-YU19T69V4"
      },
      "execution_count": 39,
      "outputs": []
    },
    {
      "cell_type": "code",
      "source": [
        "reduced_elements = flatted_couples.reduceByKey(lambda a, b: a + b)"
      ],
      "metadata": {
        "id": "ch6049fVIQoD"
      },
      "execution_count": 40,
      "outputs": []
    },
    {
      "cell_type": "code",
      "source": [
        "freq_pairs = reduced_elements.filter(lambda x : x[1] >= threshold).cache()"
      ],
      "metadata": {
        "id": "wWse1N1Mr_jd"
      },
      "execution_count": 41,
      "outputs": []
    },
    {
      "cell_type": "code",
      "source": [
        "freq_pairs.collect()"
      ],
      "metadata": {
        "colab": {
          "base_uri": "https://localhost:8080/"
        },
        "id": "yIuSdsWEOhUS",
        "outputId": "b0cd69f0-117c-48c2-d5eb-76b862ac6910"
      },
      "execution_count": 42,
      "outputs": [
        {
          "output_type": "execute_result",
          "data": {
            "text/plain": [
              "[(('protectuаsky', 'stoprussia'), 20),\n",
              " (('russianinvasion', 'standwithukraine'), 20),\n",
              " (('russianinvasion', 'ukrainewillwin'), 20),\n",
              " (('russianinvasion', 'stopputin'), 20),\n",
              " (('russianinvasion', 'russianukrainianwar'), 20),\n",
              " (('russianinvasion', 'russiagohome'), 20),\n",
              " (('russianinvasion', 'нетвойне'), 20),\n",
              " (('standwithukraine', 'ukrainewillwin'), 20),\n",
              " (('standwithukraine', 'stopputin'), 23),\n",
              " (('standwithukraine', 'russianukrainianwar'), 20),\n",
              " (('standwithukraine', 'russiagohome'), 20),\n",
              " (('standwithukraine', 'нетвойне'), 20),\n",
              " (('ukrainewillwin', 'stopputin'), 20),\n",
              " (('ukrainewillwin', 'russianukrainianwar'), 20),\n",
              " (('ukrainewillwin', 'russiagohome'), 20),\n",
              " (('ukrainewillwin', 'нетвойне'), 20),\n",
              " (('stopputin', 'russianukrainianwar'), 20),\n",
              " (('stopputin', 'russiagohome'), 20),\n",
              " (('stopputin', 'нетвойне'), 20),\n",
              " (('russianukrainianwar', 'russiagohome'), 20),\n",
              " (('russianukrainianwar', 'нетвойне'), 20),\n",
              " (('russiagohome', 'нетвойне'), 20),\n",
              " (('ukraineunderattack', 'putinisawarcriminal'), 20),\n",
              " (('ukraineunderattack', 'россиясмотри'), 20),\n",
              " (('putinisawarcriminal', 'россиясмотри'), 20),\n",
              " (('nft', 'mint'), 33),\n",
              " (('russia', 'ukraine'), 29),\n",
              " (('ukraine', 'kyiv'), 22),\n",
              " (('settodraw', 'tanzaniaproject'), 10),\n",
              " (('settodraw', 'africa'), 10),\n",
              " (('settodraw', 'mining'), 10),\n",
              " (('tanzaniaproject', 'africa'), 10),\n",
              " (('tanzaniaproject', 'mining'), 10),\n",
              " (('africa', 'mining'), 10),\n",
              " (('gas', 'energy'), 10),\n",
              " (('gas', 'coal'), 10),\n",
              " (('energy', 'coal'), 10),\n",
              " (('ukraine', 'russian'), 11),\n",
              " (('ukrainian', 'kherson'), 14),\n",
              " (('ukraineunderattaсk', 'protectuаsky'), 20),\n",
              " (('ukraineunderattaсk', 'stoprussia'), 20),\n",
              " (('russianinvasion', 'ukraineunderattack'), 20),\n",
              " (('russianinvasion', 'putinisawarcriminal'), 20),\n",
              " (('russianinvasion', 'россиясмотри'), 20),\n",
              " (('standwithukraine', 'ukraineunderattack'), 20),\n",
              " (('standwithukraine', 'putinisawarcriminal'), 20),\n",
              " (('standwithukraine', 'россиясмотри'), 20),\n",
              " (('ukrainewillwin', 'ukraineunderattack'), 20),\n",
              " (('ukrainewillwin', 'putinisawarcriminal'), 20),\n",
              " (('ukrainewillwin', 'россиясмотри'), 20),\n",
              " (('stopputin', 'ukraineunderattack'), 20),\n",
              " (('stopputin', 'putinisawarcriminal'), 20),\n",
              " (('stopputin', 'россиясмотри'), 20),\n",
              " (('russianukrainianwar', 'ukraineunderattack'), 20),\n",
              " (('russianukrainianwar', 'putinisawarcriminal'), 20),\n",
              " (('russianukrainianwar', 'россиясмотри'), 20),\n",
              " (('russiagohome', 'ukraineunderattack'), 20),\n",
              " (('russiagohome', 'putinisawarcriminal'), 20),\n",
              " (('russiagohome', 'россиясмотри'), 20),\n",
              " (('нетвойне', 'ukraineunderattack'), 20),\n",
              " (('нетвойне', 'putinisawarcriminal'), 20),\n",
              " (('нетвойне', 'россиясмотри'), 20),\n",
              " (('putin', 'ukraine'), 12),\n",
              " (('putin', 'gas'), 11),\n",
              " (('settodraw', 'gas'), 10),\n",
              " (('settodraw', 'energy'), 10),\n",
              " (('settodraw', 'coal'), 10),\n",
              " (('tanzaniaproject', 'gas'), 10),\n",
              " (('tanzaniaproject', 'energy'), 10),\n",
              " (('tanzaniaproject', 'coal'), 10),\n",
              " (('africa', 'gas'), 10),\n",
              " (('africa', 'energy'), 10),\n",
              " (('africa', 'coal'), 10),\n",
              " (('mining', 'gas'), 10),\n",
              " (('mining', 'energy'), 10),\n",
              " (('mining', 'coal'), 10),\n",
              " (('ukrainerussiawar', 'ukraine'), 18)]"
            ]
          },
          "metadata": {},
          "execution_count": 42
        }
      ]
    },
    {
      "cell_type": "markdown",
      "source": [
        "## PCY "
      ],
      "metadata": {
        "id": "k-Jhu8_0QrJU"
      }
    },
    {
      "cell_type": "code",
      "source": [
        "singleton = basket_file.flatMap(list).map(lambda item: (item,1)).reduceByKey(lambda a,b: a+b)\n",
        "singleton.take(20)"
      ],
      "metadata": {
        "id": "OJxDdbFVQunC",
        "colab": {
          "base_uri": "https://localhost:8080/"
        },
        "outputId": "d887448b-96ac-4f44-bd09-68b4e4366d39"
      },
      "execution_count": 125,
      "outputs": [
        {
          "output_type": "execute_result",
          "data": {
            "text/plain": [
              "[('ukraineunderattaсk', 27),\n",
              " ('russianinvasion', 20),\n",
              " ('standwithukraine', 51),\n",
              " ('ukrainewillwin', 22),\n",
              " ('stopputin', 26),\n",
              " ('russianukrainianwar', 29),\n",
              " ('russiagohome', 20),\n",
              " ('нетвойне', 20),\n",
              " ('taiwan', 1),\n",
              " ('anonymous', 11),\n",
              " ('ddosecrets', 2),\n",
              " ('netde', 1),\n",
              " ('delaware', 1),\n",
              " ('usa', 5),\n",
              " ('ukraineinvasion', 2),\n",
              " ('moscow', 4),\n",
              " ('putin', 32),\n",
              " ('medvedev', 1),\n",
              " ('russianarmy', 2),\n",
              " ('soviet', 2)]"
            ]
          },
          "metadata": {},
          "execution_count": 125
        }
      ]
    },
    {
      "cell_type": "code",
      "source": [
        "from sys import hash_info\n",
        "#different step w.r.t. apriori, creating all the pairs (non from freq singleton) and hashing them\n",
        "#creating hashtable, fixed size:\n",
        "\n",
        "HASH_TABLE_SIZE = 50000 #care for this one\n",
        "hash_table = np.zeros(HASH_TABLE_SIZE, dtype=int)\n",
        "\n",
        "def hashing(pair_to_hash):\n",
        "  return int(abs(hash(frozenset(pair_to_hash))) % HASH_TABLE_SIZE)"
      ],
      "metadata": {
        "id": "DmDpxjxjQuqL"
      },
      "execution_count": 126,
      "outputs": []
    },
    {
      "cell_type": "code",
      "source": [
        "#create all possible pairs and hash them\n",
        "from itertools import combinations\n",
        "pairs_first_pass = list(combinations(singleton.map(lambda x: x[0]).toLocalIterator(),2))#creating all pairs with singletons\n",
        "\n",
        "#pairs_first_rdd = spark.sparkContext.parallelize(pairs_first_pass)\n",
        "\n",
        "\n",
        "#per ogni basket, se una pair è presente nel basket, creo (hashing(pair),1)\n",
        "#bisogna contare sul basket file:\n",
        "hashtable_rdd = basket_file.map(lambda x: [(hashing(pair),1) for pair in pairs_first_pass if set(pair).issubset(set(x))]).flatMap(lambda x: x).cache()\\\n",
        "                           .reduceByKey(lambda a,b: a+b)"
      ],
      "metadata": {
        "id": "wAH7rSbfQutF"
      },
      "execution_count": 127,
      "outputs": []
    },
    {
      "cell_type": "code",
      "source": [
        "#meaning of the output: the pair/s hashed to the bucket 3810 are 20\n",
        "hashtable_rdd.take(50)"
      ],
      "metadata": {
        "colab": {
          "base_uri": "https://localhost:8080/"
        },
        "id": "kK73VbCY1Swl",
        "outputId": "44f8fcdc-e885-453a-87c8-5bb53c995860"
      },
      "execution_count": 128,
      "outputs": [
        {
          "output_type": "execute_result",
          "data": {
            "text/plain": [
              "[(3810, 20),\n",
              " (8470, 20),\n",
              " (45826, 20),\n",
              " (48060, 20),\n",
              " (32986, 20),\n",
              " (4722, 20),\n",
              " (44910, 20),\n",
              " (36688, 20),\n",
              " (49450, 20),\n",
              " (26764, 23),\n",
              " (334, 20),\n",
              " (49142, 20),\n",
              " (41194, 20),\n",
              " (6280, 20),\n",
              " (44534, 20),\n",
              " (13390, 20),\n",
              " (16628, 20),\n",
              " (19204, 20),\n",
              " (10434, 20),\n",
              " (14790, 20),\n",
              " (3482, 20),\n",
              " (36290, 20),\n",
              " (15814, 20),\n",
              " (35128, 20),\n",
              " (46578, 20),\n",
              " (37488, 20),\n",
              " (7580, 2),\n",
              " (25056, 7),\n",
              " (11512, 1),\n",
              " (9014, 1),\n",
              " (666, 1),\n",
              " (11242, 1),\n",
              " (19058, 1),\n",
              " (47636, 1),\n",
              " (11402, 1),\n",
              " (32444, 1),\n",
              " (22040, 1),\n",
              " (34716, 1),\n",
              " (36188, 1),\n",
              " (5682, 1),\n",
              " (14412, 1),\n",
              " (44648, 1),\n",
              " (27226, 5),\n",
              " (44714, 7),\n",
              " (15546, 1),\n",
              " (32744, 1),\n",
              " (42858, 1),\n",
              " (13110, 2),\n",
              " (7882, 2),\n",
              " (25340, 9)]"
            ]
          },
          "metadata": {},
          "execution_count": 128
        }
      ]
    },
    {
      "cell_type": "code",
      "source": [
        "hashtable_list = list(hashtable_rdd.map(lambda x: x).toLocalIterator()) #PROVARE A NON USARE LA CONVERSIONE?\n",
        "\n",
        "for pair in hashtable_list:\n",
        "  hash_table[pair[0]] = pair[1]\n",
        "\n",
        "bitmap_freq = [hash_table[i]>=threshold for i in range(HASH_TABLE_SIZE)] #creo bitmap, scarto pairs non freq\n",
        "\n",
        "print(len(hash_table),len(bitmap_freq),len(hashtable_list))"
      ],
      "metadata": {
        "colab": {
          "base_uri": "https://localhost:8080/"
        },
        "id": "CqrRZbUg08QJ",
        "outputId": "9dfad46c-2789-4d51-a585-fb92bac21b39"
      },
      "execution_count": 129,
      "outputs": [
        {
          "output_type": "stream",
          "name": "stdout",
          "text": [
            "50000 50000 2319\n"
          ]
        }
      ]
    },
    {
      "cell_type": "markdown",
      "source": [
        "## secondo pass PCY"
      ],
      "metadata": {
        "id": "7yPlF5cYhNxv"
      }
    },
    {
      "cell_type": "code",
      "source": [
        "#per ogni freq singleton, devo controllare che la sua coppia sia freq nella hashtable e poi contarlo\n",
        "#dopo averli contati tutti riduco in base alla threshold\n",
        "from itertools import combinations\n",
        "\n",
        "freq_singleton = singleton.filter(lambda x: x[1]>=threshold)                           \n",
        "pairs=list(combinations(freq_singleton.map(lambda x: x[0]).toLocalIterator(),2)) #formed from freq singletons"
      ],
      "metadata": {
        "id": "e5tmelSzhNBc"
      },
      "execution_count": 130,
      "outputs": []
    },
    {
      "cell_type": "code",
      "source": [
        "#CONVERT PAIRS INTO RDD\n",
        "pairs_rdd = spark.sparkContext.parallelize(pairs)"
      ],
      "metadata": {
        "id": "-J2IcsEEthg9"
      },
      "execution_count": 131,
      "outputs": []
    },
    {
      "cell_type": "code",
      "source": [
        "#candidate pairs = pairs of freq singleton and the pair is freq in the hash_table\n",
        "candidate_pairs = pairs_rdd.filter(lambda x : bitmap_freq[hashing(x)] == True)\n",
        "candidate_pairs_list = list(candidate_pairs.map(lambda x: x).toLocalIterator()) #prima qua avevo messo pairs_rdd ma è sbagliato, perchè così è uguale ad Apriori\n",
        "candidate_pairs_list[:10]"
      ],
      "metadata": {
        "id": "IBlS8tcIhK1Z",
        "colab": {
          "base_uri": "https://localhost:8080/"
        },
        "outputId": "2f7840a0-aed3-40f1-b928-44243030b729"
      },
      "execution_count": 132,
      "outputs": [
        {
          "output_type": "execute_result",
          "data": {
            "text/plain": [
              "[('ukraineunderattaсk', 'protectuаsky'),\n",
              " ('ukraineunderattaсk', 'stoprussia'),\n",
              " ('russianinvasion', 'standwithukraine'),\n",
              " ('russianinvasion', 'ukrainewillwin'),\n",
              " ('russianinvasion', 'stopputin'),\n",
              " ('russianinvasion', 'russianukrainianwar'),\n",
              " ('russianinvasion', 'russiagohome'),\n",
              " ('russianinvasion', 'нетвойне'),\n",
              " ('russianinvasion', 'ukrainerussiawar'),\n",
              " ('russianinvasion', 'ukraineunderattack')]"
            ]
          },
          "metadata": {},
          "execution_count": 132
        }
      ]
    },
    {
      "cell_type": "code",
      "source": [
        "#check against threshold\n",
        "flatted_couples = basket_file.map(lambda x: [(pair,1) for pair in candidate_pairs_list if set(pair).\\\n",
        "                                             issubset(set(x))]).flatMap(lambda x: x).cache()\n",
        "\n",
        "reduced_elements = flatted_couples.reduceByKey(lambda a, b: a + b)\n",
        "freq_pairs = reduced_elements.filter(lambda x : x[1] >= threshold).cache()\n",
        "result_PCY = list(freq_pairs.map(lambda x: x).toLocalIterator())\n",
        "freq_pairs.collect()"
      ],
      "metadata": {
        "colab": {
          "base_uri": "https://localhost:8080/"
        },
        "id": "iAI9OU4pfsnw",
        "outputId": "5304507c-ed63-4019-b0fc-bfd979211c44"
      },
      "execution_count": 133,
      "outputs": [
        {
          "output_type": "execute_result",
          "data": {
            "text/plain": [
              "[(('protectuаsky', 'stoprussia'), 20),\n",
              " (('russianinvasion', 'standwithukraine'), 20),\n",
              " (('russianinvasion', 'ukrainewillwin'), 20),\n",
              " (('russianinvasion', 'stopputin'), 20),\n",
              " (('russianinvasion', 'russianukrainianwar'), 20),\n",
              " (('russianinvasion', 'russiagohome'), 20),\n",
              " (('russianinvasion', 'нетвойне'), 20),\n",
              " (('standwithukraine', 'ukrainewillwin'), 20),\n",
              " (('standwithukraine', 'stopputin'), 23),\n",
              " (('standwithukraine', 'russianukrainianwar'), 20),\n",
              " (('standwithukraine', 'russiagohome'), 20),\n",
              " (('standwithukraine', 'нетвойне'), 20),\n",
              " (('ukrainewillwin', 'stopputin'), 20),\n",
              " (('ukrainewillwin', 'russianukrainianwar'), 20),\n",
              " (('ukrainewillwin', 'russiagohome'), 20),\n",
              " (('ukrainewillwin', 'нетвойне'), 20),\n",
              " (('stopputin', 'russianukrainianwar'), 20),\n",
              " (('stopputin', 'russiagohome'), 20),\n",
              " (('stopputin', 'нетвойне'), 20),\n",
              " (('russianukrainianwar', 'russiagohome'), 20),\n",
              " (('russianukrainianwar', 'нетвойне'), 20),\n",
              " (('russiagohome', 'нетвойне'), 20),\n",
              " (('ukraineunderattack', 'putinisawarcriminal'), 20),\n",
              " (('ukraineunderattack', 'россиясмотри'), 20),\n",
              " (('putinisawarcriminal', 'россиясмотри'), 20),\n",
              " (('nft', 'mint'), 33),\n",
              " (('russia', 'ukraine'), 29),\n",
              " (('ukraine', 'kyiv'), 22),\n",
              " (('settodraw', 'tanzaniaproject'), 10),\n",
              " (('settodraw', 'africa'), 10),\n",
              " (('settodraw', 'mining'), 10),\n",
              " (('tanzaniaproject', 'africa'), 10),\n",
              " (('tanzaniaproject', 'mining'), 10),\n",
              " (('africa', 'mining'), 10),\n",
              " (('gas', 'energy'), 10),\n",
              " (('gas', 'coal'), 10),\n",
              " (('energy', 'coal'), 10),\n",
              " (('ukraine', 'russian'), 11),\n",
              " (('ukrainian', 'kherson'), 14),\n",
              " (('ukraineunderattaсk', 'protectuаsky'), 20),\n",
              " (('ukraineunderattaсk', 'stoprussia'), 20),\n",
              " (('russianinvasion', 'ukraineunderattack'), 20),\n",
              " (('russianinvasion', 'putinisawarcriminal'), 20),\n",
              " (('russianinvasion', 'россиясмотри'), 20),\n",
              " (('standwithukraine', 'ukraineunderattack'), 20),\n",
              " (('standwithukraine', 'putinisawarcriminal'), 20),\n",
              " (('standwithukraine', 'россиясмотри'), 20),\n",
              " (('ukrainewillwin', 'ukraineunderattack'), 20),\n",
              " (('ukrainewillwin', 'putinisawarcriminal'), 20),\n",
              " (('ukrainewillwin', 'россиясмотри'), 20),\n",
              " (('stopputin', 'ukraineunderattack'), 20),\n",
              " (('stopputin', 'putinisawarcriminal'), 20),\n",
              " (('stopputin', 'россиясмотри'), 20),\n",
              " (('russianukrainianwar', 'ukraineunderattack'), 20),\n",
              " (('russianukrainianwar', 'putinisawarcriminal'), 20),\n",
              " (('russianukrainianwar', 'россиясмотри'), 20),\n",
              " (('russiagohome', 'ukraineunderattack'), 20),\n",
              " (('russiagohome', 'putinisawarcriminal'), 20),\n",
              " (('russiagohome', 'россиясмотри'), 20),\n",
              " (('нетвойне', 'ukraineunderattack'), 20),\n",
              " (('нетвойне', 'putinisawarcriminal'), 20),\n",
              " (('нетвойне', 'россиясмотри'), 20),\n",
              " (('putin', 'ukraine'), 12),\n",
              " (('putin', 'gas'), 11),\n",
              " (('settodraw', 'gas'), 10),\n",
              " (('settodraw', 'energy'), 10),\n",
              " (('settodraw', 'coal'), 10),\n",
              " (('tanzaniaproject', 'gas'), 10),\n",
              " (('tanzaniaproject', 'energy'), 10),\n",
              " (('tanzaniaproject', 'coal'), 10),\n",
              " (('africa', 'gas'), 10),\n",
              " (('africa', 'energy'), 10),\n",
              " (('africa', 'coal'), 10),\n",
              " (('mining', 'gas'), 10),\n",
              " (('mining', 'energy'), 10),\n",
              " (('mining', 'coal'), 10),\n",
              " (('ukrainerussiawar', 'ukraine'), 18)]"
            ]
          },
          "metadata": {},
          "execution_count": 133
        }
      ]
    },
    {
      "cell_type": "markdown",
      "source": [
        "### MULTISTAGE"
      ],
      "metadata": {
        "id": "5t8hb9_AOok2"
      }
    },
    {
      "cell_type": "code",
      "source": [
        "HASH_TABLE_SIZE = 50000\n",
        "hash_table_1 = np.zeros(HASH_TABLE_SIZE, dtype=int)\n",
        "hash_table_2 = np.zeros(HASH_TABLE_SIZE, dtype=int)\n",
        "\n",
        "def hashing_1(pair_to_hash):\n",
        "  return int(abs(hash(frozenset(pair_to_hash))) % HASH_TABLE_SIZE)\n",
        "\n",
        "\n",
        "def hashing_2(pair_to_hash):\n",
        "  return int((abs(hash(frozenset(pair_to_hash)))*3 /5 +9 *2 )% HASH_TABLE_SIZE)  #just create another hash function\n",
        "\n",
        "hashing_1(('russianarmy', 'chernobyl')), hashing_2(('russianarmy', 'chernobyl'))"
      ],
      "metadata": {
        "colab": {
          "base_uri": "https://localhost:8080/"
        },
        "id": "U2VYH68Afss8",
        "outputId": "f5c46d62-2b13-4640-db1b-eb45530541bf"
      },
      "execution_count": 224,
      "outputs": [
        {
          "output_type": "execute_result",
          "data": {
            "text/plain": [
              "(21569, 32928)"
            ]
          },
          "metadata": {},
          "execution_count": 224
        }
      ]
    },
    {
      "cell_type": "code",
      "source": [
        "#1st pass multistage = PCY\n",
        "\n",
        "singleton = basket_file.flatMap(list).map(lambda item: (item,1)).reduceByKey(lambda a,b: a+b)\n",
        "#create all possible pairs and hash them\n",
        "from itertools import combinations\n",
        "pairs_first_pass = list(combinations(singleton.map(lambda x: x[0]).toLocalIterator(),2))#creating all pairs\n",
        "\n",
        "hashtable_rdd = basket_file.map(lambda x: [(hashing_1(pair),1) for pair in pairs_first_pass if set(pair).issubset(set(x))]).flatMap(lambda x: x).cache()\\\n",
        "                           .reduceByKey(lambda a,b: a+b)\n",
        "\n",
        "hashtable_list = list(hashtable_rdd.map(lambda x: x).toLocalIterator()) #PROVARE A NON USARE LA CONVERSIONE?\n",
        "\n",
        "for pair in hashtable_list:\n",
        "  hash_table_1[pair[0]] = pair[1]\n",
        "\n",
        "len(hashtable_list)"
      ],
      "metadata": {
        "id": "fhrFCh626nUv",
        "colab": {
          "base_uri": "https://localhost:8080/"
        },
        "outputId": "c8bdab1f-8d29-4795-ed3c-b97510617cd5"
      },
      "execution_count": 225,
      "outputs": [
        {
          "output_type": "execute_result",
          "data": {
            "text/plain": [
              "2319"
            ]
          },
          "metadata": {},
          "execution_count": 225
        }
      ]
    },
    {
      "cell_type": "markdown",
      "source": [
        "### 2nd Stage"
      ],
      "metadata": {
        "id": "i-LnrYOARbmC"
      }
    },
    {
      "cell_type": "code",
      "source": [
        "from itertools import combinations\n",
        "bitmap_1 = [hash_table_1[i]>=threshold for i in range(HASH_TABLE_SIZE)] #creo bitmap, scarto pairs non freq\n",
        "\n",
        "freq_singleton = singleton.filter(lambda x: x[1]>=threshold)                           \n",
        "pairs=list(combinations(freq_singleton.map(lambda x: x[0]).toLocalIterator(),2)) #formed from freq singletons\n",
        "\n",
        "#I have the bitmap_1, I have the freq singletons, and the pairs from freq singletons.\n",
        "#I have to check against bitmap_1 the pairs formed from freq singlentons, than hash them again to create bitmap 2 and go to the third stage"
      ],
      "metadata": {
        "id": "4UZ5i-p16nWi"
      },
      "execution_count": 226,
      "outputs": []
    },
    {
      "cell_type": "code",
      "source": [
        "#CONVERT PAIRS INTO RDD\n",
        "pairs_rdd = spark.sparkContext.parallelize(pairs) #formed from freq singletons"
      ],
      "metadata": {
        "id": "aK9KFH1mVT57"
      },
      "execution_count": 227,
      "outputs": []
    },
    {
      "cell_type": "code",
      "source": [
        "#check against bitmap 1\n",
        "pairs_first_check = pairs_rdd.filter(lambda x : bitmap_1[hashing_1(x)] == True) #pairs from freq singletons and resulted freq in bitmap_1\n",
        "#hash them again to hashtable 2\n",
        "\n",
        "pairs_first_check_list = list(pairs_first_check .map(lambda x: x).toLocalIterator())#creating all pairs\n",
        "\n",
        "#2nd scan, usual count (counting candidates in the baskets)\n",
        "hashtable_rdd_2 = basket_file.map(lambda x: [(hashing_2(pair),1) for pair in pairs_first_check_list if set(pair).issubset(set(x))]).flatMap(lambda x: x).cache()\\\n",
        "                           .reduceByKey(lambda a,b: a+b)\n",
        "\n",
        "hashtable_list_2 = list(hashtable_rdd_2.map(lambda x: x).toLocalIterator()) #PROVARE A NON USARE LA CONVERSIONE?\n",
        "\n",
        "for pair in hashtable_list_2:\n",
        "  hash_table_2[pair[0]] = pair[1]\n",
        "\n",
        "len(hashtable_list_2) #should be less than in stage 1"
      ],
      "metadata": {
        "id": "wllkH3j182I7",
        "colab": {
          "base_uri": "https://localhost:8080/"
        },
        "outputId": "672992e9-fd2f-48e3-ff50-1fe57655a151"
      },
      "execution_count": 229,
      "outputs": [
        {
          "output_type": "execute_result",
          "data": {
            "text/plain": [
              "75"
            ]
          },
          "metadata": {},
          "execution_count": 229
        }
      ]
    },
    {
      "cell_type": "markdown",
      "source": [
        "### 3rd Stage"
      ],
      "metadata": {
        "id": "ydUnwwNuXpLc"
      }
    },
    {
      "cell_type": "code",
      "source": [
        "bitmap_2 = [hash_table_2[i]>=threshold for i in range(HASH_TABLE_SIZE)] #creo bitmap, scarto pairs non freq"
      ],
      "metadata": {
        "id": "WsUtwinXG3Oo"
      },
      "execution_count": 230,
      "outputs": []
    },
    {
      "cell_type": "code",
      "source": [
        "#I have now bitmap_1 , bitmap_2 and all the pairs from freq singletons (pairs_rdd)\n",
        "#if pair (from freq singletons) is in bitmap_1 and bitmap_2 it means it's a CANDIDATE pair\n",
        "\n",
        "#candidate pairs = singleton freq and their pair is freq in the hash_table\n",
        "candidate_pairs_1 = pairs_rdd.filter(lambda x : bitmap_1[hashing_1(x)] == True)  #if the pair from freq_singleton is hashed to bitmap_1\n",
        "#if the pair from first check is hashed to bitmap_2 goes to candidate pairs\n",
        "#because it's formed from freq_singletons, they hash to a frequent bucket (candidate_pairs_1) and they also hash to bitmap_2\n",
        "candidate_pairs = candidate_pairs_1.filter(lambda x : bitmap_2[hashing_2(x)] == True) \n",
        "candidate_pairs_list = list(candidate_pairs.map(lambda x: x).toLocalIterator())\n",
        "\n",
        "candidate_pairs_list[:10]"
      ],
      "metadata": {
        "id": "WLwi2myJM8lJ",
        "colab": {
          "base_uri": "https://localhost:8080/"
        },
        "outputId": "3ba17beb-91d6-4f39-bf9e-d098e9d16029"
      },
      "execution_count": 231,
      "outputs": [
        {
          "output_type": "execute_result",
          "data": {
            "text/plain": [
              "[('ukraineunderattaсk', 'protectuаsky'),\n",
              " ('ukraineunderattaсk', 'stoprussia'),\n",
              " ('russianinvasion', 'standwithukraine'),\n",
              " ('russianinvasion', 'ukrainewillwin'),\n",
              " ('russianinvasion', 'stopputin'),\n",
              " ('russianinvasion', 'russianukrainianwar'),\n",
              " ('russianinvasion', 'russiagohome'),\n",
              " ('russianinvasion', 'нетвойне'),\n",
              " ('russianinvasion', 'ukraineunderattack'),\n",
              " ('russianinvasion', 'putinisawarcriminal')]"
            ]
          },
          "metadata": {},
          "execution_count": 231
        }
      ]
    },
    {
      "cell_type": "code",
      "source": [
        "#usual count and check against threshold\n",
        "\n",
        "flatted_couples = basket_file.map(lambda x: [(pair,1) for pair in candidate_pairs_list if set(pair).\\\n",
        "                                             issubset(set(x))]).flatMap(lambda x: x).cache()\n",
        "\n",
        "reduced_elements = flatted_couples.reduceByKey(lambda a, b: a + b)\n",
        "freq_pairs = reduced_elements.filter(lambda x : x[1] >= threshold).cache()\n",
        "result_MULTI_STAGE=list(freq_pairs.map(lambda x: x).toLocalIterator())\n",
        "freq_pairs.collect()"
      ],
      "metadata": {
        "colab": {
          "base_uri": "https://localhost:8080/"
        },
        "id": "gcMrrbqCZyFO",
        "outputId": "f64bbf68-71ca-4a25-ec6e-f6931768fe55"
      },
      "execution_count": 239,
      "outputs": [
        {
          "output_type": "execute_result",
          "data": {
            "text/plain": [
              "[(('protectuаsky', 'stoprussia'), 20),\n",
              " (('russianinvasion', 'standwithukraine'), 20),\n",
              " (('russianinvasion', 'ukrainewillwin'), 20),\n",
              " (('russianinvasion', 'stopputin'), 20),\n",
              " (('russianinvasion', 'russianukrainianwar'), 20),\n",
              " (('russianinvasion', 'russiagohome'), 20),\n",
              " (('russianinvasion', 'нетвойне'), 20),\n",
              " (('standwithukraine', 'ukrainewillwin'), 20),\n",
              " (('standwithukraine', 'stopputin'), 23),\n",
              " (('standwithukraine', 'russianukrainianwar'), 20),\n",
              " (('standwithukraine', 'russiagohome'), 20),\n",
              " (('standwithukraine', 'нетвойне'), 20),\n",
              " (('ukrainewillwin', 'stopputin'), 20),\n",
              " (('ukrainewillwin', 'russianukrainianwar'), 20),\n",
              " (('ukrainewillwin', 'russiagohome'), 20),\n",
              " (('ukrainewillwin', 'нетвойне'), 20),\n",
              " (('stopputin', 'russianukrainianwar'), 20),\n",
              " (('stopputin', 'russiagohome'), 20),\n",
              " (('stopputin', 'нетвойне'), 20),\n",
              " (('russianukrainianwar', 'russiagohome'), 20),\n",
              " (('russianukrainianwar', 'нетвойне'), 20),\n",
              " (('russiagohome', 'нетвойне'), 20),\n",
              " (('ukraineunderattack', 'putinisawarcriminal'), 20),\n",
              " (('ukraineunderattack', 'россиясмотри'), 20),\n",
              " (('putinisawarcriminal', 'россиясмотри'), 20),\n",
              " (('nft', 'mint'), 33),\n",
              " (('russia', 'ukraine'), 29),\n",
              " (('ukraine', 'kyiv'), 22),\n",
              " (('settodraw', 'tanzaniaproject'), 10),\n",
              " (('settodraw', 'africa'), 10),\n",
              " (('settodraw', 'mining'), 10),\n",
              " (('tanzaniaproject', 'africa'), 10),\n",
              " (('tanzaniaproject', 'mining'), 10),\n",
              " (('africa', 'mining'), 10),\n",
              " (('gas', 'energy'), 10),\n",
              " (('gas', 'coal'), 10),\n",
              " (('energy', 'coal'), 10),\n",
              " (('ukraine', 'russian'), 11),\n",
              " (('ukrainian', 'kherson'), 14),\n",
              " (('ukraineunderattaсk', 'protectuаsky'), 20),\n",
              " (('ukraineunderattaсk', 'stoprussia'), 20),\n",
              " (('russianinvasion', 'ukraineunderattack'), 20),\n",
              " (('russianinvasion', 'putinisawarcriminal'), 20),\n",
              " (('russianinvasion', 'россиясмотри'), 20),\n",
              " (('standwithukraine', 'ukraineunderattack'), 20),\n",
              " (('standwithukraine', 'putinisawarcriminal'), 20),\n",
              " (('standwithukraine', 'россиясмотри'), 20),\n",
              " (('ukrainewillwin', 'ukraineunderattack'), 20),\n",
              " (('ukrainewillwin', 'putinisawarcriminal'), 20),\n",
              " (('ukrainewillwin', 'россиясмотри'), 20),\n",
              " (('stopputin', 'ukraineunderattack'), 20),\n",
              " (('stopputin', 'putinisawarcriminal'), 20),\n",
              " (('stopputin', 'россиясмотри'), 20),\n",
              " (('russianukrainianwar', 'ukraineunderattack'), 20),\n",
              " (('russianukrainianwar', 'putinisawarcriminal'), 20),\n",
              " (('russianukrainianwar', 'россиясмотри'), 20),\n",
              " (('russiagohome', 'ukraineunderattack'), 20),\n",
              " (('russiagohome', 'putinisawarcriminal'), 20),\n",
              " (('russiagohome', 'россиясмотри'), 20),\n",
              " (('нетвойне', 'ukraineunderattack'), 20),\n",
              " (('нетвойне', 'putinisawarcriminal'), 20),\n",
              " (('нетвойне', 'россиясмотри'), 20),\n",
              " (('putin', 'ukraine'), 12),\n",
              " (('putin', 'gas'), 11),\n",
              " (('settodraw', 'gas'), 10),\n",
              " (('settodraw', 'energy'), 10),\n",
              " (('settodraw', 'coal'), 10),\n",
              " (('tanzaniaproject', 'gas'), 10),\n",
              " (('tanzaniaproject', 'energy'), 10),\n",
              " (('tanzaniaproject', 'coal'), 10),\n",
              " (('africa', 'gas'), 10),\n",
              " (('africa', 'energy'), 10),\n",
              " (('africa', 'coal'), 10),\n",
              " (('mining', 'gas'), 10),\n",
              " (('mining', 'energy'), 10),\n",
              " (('mining', 'coal'), 10),\n",
              " (('ukrainerussiawar', 'ukraine'), 18)]"
            ]
          },
          "metadata": {},
          "execution_count": 239
        }
      ]
    },
    {
      "cell_type": "markdown",
      "source": [
        "## MULTI-HASH"
      ],
      "metadata": {
        "id": "buxQ2jse9cGF"
      }
    },
    {
      "cell_type": "markdown",
      "source": [
        "1ST STAGE"
      ],
      "metadata": {
        "id": "qCzhfPSzAOs6"
      }
    },
    {
      "cell_type": "code",
      "source": [
        "singleton = basket_file.flatMap(list).map(lambda item: (item,1)).reduceByKey(lambda a,b: a+b)\n",
        "singleton.take(20)"
      ],
      "metadata": {
        "colab": {
          "base_uri": "https://localhost:8080/"
        },
        "id": "LNMo-VwTJx-J",
        "outputId": "6153f341-0c2f-4ae2-81b0-0bbcdc5c0397"
      },
      "execution_count": 214,
      "outputs": [
        {
          "output_type": "execute_result",
          "data": {
            "text/plain": [
              "[('ukraineunderattaсk', 27),\n",
              " ('russianinvasion', 20),\n",
              " ('standwithukraine', 51),\n",
              " ('ukrainewillwin', 22),\n",
              " ('stopputin', 26),\n",
              " ('russianukrainianwar', 29),\n",
              " ('russiagohome', 20),\n",
              " ('нетвойне', 20),\n",
              " ('taiwan', 1),\n",
              " ('anonymous', 11),\n",
              " ('ddosecrets', 2),\n",
              " ('netde', 1),\n",
              " ('delaware', 1),\n",
              " ('usa', 5),\n",
              " ('ukraineinvasion', 2),\n",
              " ('moscow', 4),\n",
              " ('putin', 32),\n",
              " ('medvedev', 1),\n",
              " ('russianarmy', 2),\n",
              " ('soviet', 2)]"
            ]
          },
          "metadata": {},
          "execution_count": 214
        }
      ]
    },
    {
      "cell_type": "code",
      "source": [
        "HASH_TABLE_SIZE = 25000\n",
        "hash_table_1 = np.zeros(HASH_TABLE_SIZE, dtype=int)\n",
        "hash_table_2 = np.zeros(HASH_TABLE_SIZE, dtype=int)\n",
        "\n",
        "def hashing_1(pair_to_hash):\n",
        "  return int(abs(hash(frozenset(pair_to_hash))) % HASH_TABLE_SIZE)\n",
        "\n",
        "\n",
        "def hashing_2(pair_to_hash):\n",
        "  return int((abs(hash(frozenset(pair_to_hash)))*3 /5 +9 *2 )% HASH_TABLE_SIZE)  #just create another hash function\n",
        "\n",
        "hashing_1(('russianarmy', 'chernobyl')), hashing_2(('russianarmy', 'chernobyl'))"
      ],
      "metadata": {
        "colab": {
          "base_uri": "https://localhost:8080/"
        },
        "id": "AX7vf_hlJ3Ua",
        "outputId": "425c0779-be0e-42ae-a65d-4049a14657b9"
      },
      "execution_count": 215,
      "outputs": [
        {
          "output_type": "execute_result",
          "data": {
            "text/plain": [
              "(21569, 7928)"
            ]
          },
          "metadata": {},
          "execution_count": 215
        }
      ]
    },
    {
      "cell_type": "code",
      "source": [
        "#create all possible pairs and hash them\n",
        "from itertools import combinations\n",
        "pairs_first_pass = list(combinations(singleton.map(lambda x: x[0]).toLocalIterator(),2))#creating all pairs with singletons\n",
        "\n",
        "#pairs_first_rdd = spark.sparkContext.parallelize(pairs_first_pass)\n",
        "\n",
        "\n",
        "#per ogni basket, se una pair è presente nel basket, creo (hashing(pair),1)\n",
        "#bisogna contare sul basket file:\n",
        "hashtable_rdd_1 = basket_file.map(lambda x: [(hashing_1(pair),1) for pair in pairs_first_pass if set(pair).issubset(set(x))]).flatMap(lambda x: x).cache()\\\n",
        "                           .reduceByKey(lambda a,b: a+b)\n",
        "\n",
        "hashtable_rdd_2 = basket_file.map(lambda x: [(hashing_2(pair),1) for pair in pairs_first_pass if set(pair).issubset(set(x))]).flatMap(lambda x: x).cache()\\\n",
        "                           .reduceByKey(lambda a,b: a+b)"
      ],
      "metadata": {
        "id": "mEdYeOBtJ8Gf"
      },
      "execution_count": 216,
      "outputs": []
    },
    {
      "cell_type": "code",
      "source": [
        "hashtable_rdd_2.take(50)"
      ],
      "metadata": {
        "colab": {
          "base_uri": "https://localhost:8080/"
        },
        "id": "FVWxpPh1Kz0B",
        "outputId": "36f8329f-ec7d-42e5-db96-b317cd852661"
      },
      "execution_count": 217,
      "outputs": [
        {
          "output_type": "execute_result",
          "data": {
            "text/plain": [
              "[(1872, 20),\n",
              " (8, 21),\n",
              " (8936, 21),\n",
              " (6736, 20),\n",
              " (2520, 20),\n",
              " (9040, 20),\n",
              " (4760, 32),\n",
              " (2864, 20),\n",
              " (20544, 21),\n",
              " (3936, 21),\n",
              " (21928, 20),\n",
              " (16968, 20),\n",
              " (24200, 21),\n",
              " (5952, 23),\n",
              " (288, 20),\n",
              " (14488, 20),\n",
              " (24032, 21),\n",
              " (23200, 21),\n",
              " (19752, 21),\n",
              " (18552, 21),\n",
              " (19336, 21),\n",
              " (12336, 21),\n",
              " (23792, 24),\n",
              " (1736, 20),\n",
              " (18048, 21),\n",
              " (18432, 20),\n",
              " (1328, 22),\n",
              " (11472, 20),\n",
              " (15112, 22),\n",
              " (20064, 20),\n",
              " (11280, 20),\n",
              " (7688, 20),\n",
              " (23720, 22),\n",
              " (19072, 21),\n",
              " (6192, 20),\n",
              " (3816, 20),\n",
              " (15544, 20),\n",
              " (17496, 20),\n",
              " (7208, 22),\n",
              " (21408, 22),\n",
              " (19712, 20),\n",
              " (17256, 23),\n",
              " (6072, 23),\n",
              " (19728, 20),\n",
              " (11312, 22),\n",
              " (7888, 22),\n",
              " (2512, 20),\n",
              " (21888, 20),\n",
              " (18192, 2),\n",
              " (20288, 1)]"
            ]
          },
          "metadata": {},
          "execution_count": 217
        }
      ]
    },
    {
      "cell_type": "code",
      "source": [
        "hashtable_list_1 = list(hashtable_rdd_1.map(lambda x: x).toLocalIterator()) #PROVARE A NON USARE LA CONVERSIONE?\n",
        "\n",
        "for pair in hashtable_list_1:\n",
        "  hash_table_1[pair[0]] = pair[1]\n",
        "\n",
        "bitmap_freq_1 = [hash_table_1[i]>=threshold for i in range(HASH_TABLE_SIZE)] #creo bitmap, scarto pairs non freq\n",
        "\n",
        "\n",
        "hashtable_list_2 = list(hashtable_rdd_2.map(lambda x: x).toLocalIterator()) #PROVARE A NON USARE LA CONVERSIONE?\n",
        "\n",
        "for pair in hashtable_list_2:\n",
        "  hash_table_2[pair[0]] = pair[1]\n",
        "\n",
        "bitmap_freq_2 = [hash_table_2[i]>=threshold for i in range(HASH_TABLE_SIZE)] #creo bitmap, scarto pairs non freq\n"
      ],
      "metadata": {
        "id": "vuWqcGB8K0yl"
      },
      "execution_count": 218,
      "outputs": []
    },
    {
      "cell_type": "markdown",
      "source": [
        "2nd *PASS*"
      ],
      "metadata": {
        "id": "dg5oE6-mLnPP"
      }
    },
    {
      "cell_type": "code",
      "source": [
        "#per ogni freq singleton, devo controllare che la sua coppia sia freq nella hashtable e poi contarlo\n",
        "#dopo averli contati tutti riduco in base alla threshold\n",
        "from itertools import combinations\n",
        "\n",
        "freq_singleton = singleton.filter(lambda x: x[1]>=threshold) \n",
        "                          \n",
        "pairs=list(combinations(freq_singleton.map(lambda x: x[0]).toLocalIterator(),2))"
      ],
      "metadata": {
        "id": "IC5glHW8LEf_"
      },
      "execution_count": 219,
      "outputs": []
    },
    {
      "cell_type": "code",
      "source": [
        "#CONVERT PAIRS INTO RDD\n",
        "pairs_rdd = spark.sparkContext.parallelize(pairs)"
      ],
      "metadata": {
        "id": "OHfdGOUeL4Fn"
      },
      "execution_count": 220,
      "outputs": []
    },
    {
      "cell_type": "code",
      "source": [
        "#candidate pairs = pairs of freq singleton and the pair is freq in both the hash_tables\n",
        "\n",
        "candidate_pairs = pairs_rdd.filter(lambda x : bitmap_freq_1[hashing_1(x)] == True)\n",
        "candidate_pairs_2 = candidate_pairs.filter(lambda x : bitmap_freq_2[hashing_2(x)] == True)\n",
        "\n",
        "candidate_pairs_list = list(candidate_pairs.map(lambda x: x).toLocalIterator()) #prima qua avevo messo pairs_rdd ma è sbagliato, perchè così è uguale ad Apriori\n",
        "candidate_pairs_list[:10]"
      ],
      "metadata": {
        "colab": {
          "base_uri": "https://localhost:8080/"
        },
        "id": "44kU-zvTL6kF",
        "outputId": "a71b7055-f00f-4da5-9109-1881eba8c4a9"
      },
      "execution_count": 221,
      "outputs": [
        {
          "output_type": "execute_result",
          "data": {
            "text/plain": [
              "[('ukraineunderattaсk', 'protectuаsky'),\n",
              " ('ukraineunderattaсk', 'stoprussia'),\n",
              " ('russianinvasion', 'standwithukraine'),\n",
              " ('russianinvasion', 'ukrainewillwin'),\n",
              " ('russianinvasion', 'stopputin'),\n",
              " ('russianinvasion', 'russianukrainianwar'),\n",
              " ('russianinvasion', 'russiagohome'),\n",
              " ('russianinvasion', 'нетвойне'),\n",
              " ('russianinvasion', 'ukrainerussiawar'),\n",
              " ('russianinvasion', 'ukraineunderattack')]"
            ]
          },
          "metadata": {},
          "execution_count": 221
        }
      ]
    },
    {
      "cell_type": "code",
      "source": [
        "#check against threshold\n",
        "flatted_couples = basket_file.map(lambda x: [(pair,1) for pair in candidate_pairs_list if set(pair).\\\n",
        "                                             issubset(set(x))]).flatMap(lambda x: x).cache()\n",
        "\n",
        "reduced_elements = flatted_couples.reduceByKey(lambda a, b: a + b)\n",
        "freq_pairs = reduced_elements.filter(lambda x : x[1] >= threshold).cache()\n",
        "result_MULTI_HASH = list(freq_pairs.map(lambda x: x).toLocalIterator())\n",
        "freq_pairs.collect()"
      ],
      "metadata": {
        "colab": {
          "base_uri": "https://localhost:8080/"
        },
        "id": "zlY2JMzEMag1",
        "outputId": "b11d4428-53dd-451a-995c-836281d1bbfa"
      },
      "execution_count": 222,
      "outputs": [
        {
          "output_type": "execute_result",
          "data": {
            "text/plain": [
              "[(('protectuаsky', 'stoprussia'), 20),\n",
              " (('russianinvasion', 'standwithukraine'), 20),\n",
              " (('russianinvasion', 'ukrainewillwin'), 20),\n",
              " (('russianinvasion', 'stopputin'), 20),\n",
              " (('russianinvasion', 'russianukrainianwar'), 20),\n",
              " (('russianinvasion', 'russiagohome'), 20),\n",
              " (('russianinvasion', 'нетвойне'), 20),\n",
              " (('standwithukraine', 'ukrainewillwin'), 20),\n",
              " (('standwithukraine', 'stopputin'), 23),\n",
              " (('standwithukraine', 'russianukrainianwar'), 20),\n",
              " (('standwithukraine', 'russiagohome'), 20),\n",
              " (('standwithukraine', 'нетвойне'), 20),\n",
              " (('ukrainewillwin', 'stopputin'), 20),\n",
              " (('ukrainewillwin', 'russianukrainianwar'), 20),\n",
              " (('ukrainewillwin', 'russiagohome'), 20),\n",
              " (('ukrainewillwin', 'нетвойне'), 20),\n",
              " (('stopputin', 'russianukrainianwar'), 20),\n",
              " (('stopputin', 'russiagohome'), 20),\n",
              " (('stopputin', 'нетвойне'), 20),\n",
              " (('russianukrainianwar', 'russiagohome'), 20),\n",
              " (('russianukrainianwar', 'нетвойне'), 20),\n",
              " (('russiagohome', 'нетвойне'), 20),\n",
              " (('ukraineunderattack', 'putinisawarcriminal'), 20),\n",
              " (('ukraineunderattack', 'россиясмотри'), 20),\n",
              " (('putinisawarcriminal', 'россиясмотри'), 20),\n",
              " (('nft', 'mint'), 33),\n",
              " (('russia', 'ukraine'), 29),\n",
              " (('ukraine', 'kyiv'), 22),\n",
              " (('settodraw', 'tanzaniaproject'), 10),\n",
              " (('settodraw', 'africa'), 10),\n",
              " (('settodraw', 'mining'), 10),\n",
              " (('tanzaniaproject', 'africa'), 10),\n",
              " (('tanzaniaproject', 'mining'), 10),\n",
              " (('africa', 'mining'), 10),\n",
              " (('gas', 'energy'), 10),\n",
              " (('gas', 'coal'), 10),\n",
              " (('energy', 'coal'), 10),\n",
              " (('ukraine', 'russian'), 11),\n",
              " (('ukrainian', 'kherson'), 14),\n",
              " (('ukraineunderattaсk', 'protectuаsky'), 20),\n",
              " (('ukraineunderattaсk', 'stoprussia'), 20),\n",
              " (('russianinvasion', 'ukraineunderattack'), 20),\n",
              " (('russianinvasion', 'putinisawarcriminal'), 20),\n",
              " (('russianinvasion', 'россиясмотри'), 20),\n",
              " (('standwithukraine', 'ukraineunderattack'), 20),\n",
              " (('standwithukraine', 'putinisawarcriminal'), 20),\n",
              " (('standwithukraine', 'россиясмотри'), 20),\n",
              " (('ukrainewillwin', 'ukraineunderattack'), 20),\n",
              " (('ukrainewillwin', 'putinisawarcriminal'), 20),\n",
              " (('ukrainewillwin', 'россиясмотри'), 20),\n",
              " (('stopputin', 'ukraineunderattack'), 20),\n",
              " (('stopputin', 'putinisawarcriminal'), 20),\n",
              " (('stopputin', 'россиясмотри'), 20),\n",
              " (('russianukrainianwar', 'ukraineunderattack'), 20),\n",
              " (('russianukrainianwar', 'putinisawarcriminal'), 20),\n",
              " (('russianukrainianwar', 'россиясмотри'), 20),\n",
              " (('russiagohome', 'ukraineunderattack'), 20),\n",
              " (('russiagohome', 'putinisawarcriminal'), 20),\n",
              " (('russiagohome', 'россиясмотри'), 20),\n",
              " (('нетвойне', 'ukraineunderattack'), 20),\n",
              " (('нетвойне', 'putinisawarcriminal'), 20),\n",
              " (('нетвойне', 'россиясмотри'), 20),\n",
              " (('putin', 'ukraine'), 12),\n",
              " (('putin', 'gas'), 11),\n",
              " (('settodraw', 'gas'), 10),\n",
              " (('settodraw', 'energy'), 10),\n",
              " (('settodraw', 'coal'), 10),\n",
              " (('tanzaniaproject', 'gas'), 10),\n",
              " (('tanzaniaproject', 'energy'), 10),\n",
              " (('tanzaniaproject', 'coal'), 10),\n",
              " (('africa', 'gas'), 10),\n",
              " (('africa', 'energy'), 10),\n",
              " (('africa', 'coal'), 10),\n",
              " (('mining', 'gas'), 10),\n",
              " (('mining', 'energy'), 10),\n",
              " (('mining', 'coal'), 10),\n",
              " (('ukrainerussiawar', 'ukraine'), 18)]"
            ]
          },
          "metadata": {},
          "execution_count": 222
        }
      ]
    },
    {
      "cell_type": "code",
      "source": [
        "if ((result_MULTI_HASH == result_PCY) and (result_MULTI_HASH == result_MULTI_STAGE)):\n",
        "    print (\"The lists are identical\")\n",
        "else :\n",
        "    print (\"The lists are not identical\")"
      ],
      "metadata": {
        "colab": {
          "base_uri": "https://localhost:8080/"
        },
        "id": "1FZ0qy8VMe-9",
        "outputId": "143e4093-5f52-4cc6-ad8c-d6064311d54e"
      },
      "execution_count": 241,
      "outputs": [
        {
          "output_type": "stream",
          "name": "stdout",
          "text": [
            "The lists are identical\n"
          ]
        }
      ]
    },
    {
      "cell_type": "code",
      "source": [
        ""
      ],
      "metadata": {
        "id": "UEbAJkb1Mnxo"
      },
      "execution_count": null,
      "outputs": []
    }
  ],
  "metadata": {
    "colab": {
      "collapsed_sections": [],
      "name": "PROGETTO_AMD.ipynb",
      "provenance": []
    },
    "kernelspec": {
      "display_name": "Python 3",
      "name": "python3"
    },
    "language_info": {
      "name": "python"
    }
  },
  "nbformat": 4,
  "nbformat_minor": 0
}