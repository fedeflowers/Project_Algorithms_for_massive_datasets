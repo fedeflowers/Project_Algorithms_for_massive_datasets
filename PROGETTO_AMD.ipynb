{
  "cells": [
    {
      "cell_type": "markdown",
      "metadata": {
        "id": "I75tB61RaDHK"
      },
      "source": [
        "## Spark setting"
      ]
    },
    {
      "cell_type": "code",
      "execution_count": 1,
      "metadata": {
        "id": "ocBQFMViafoF"
      },
      "outputs": [],
      "source": [
        "!apt-get install openjdk-8-jdk-headless -qq > /dev/null\n",
        "!wget -q http://www-eu.apache.org/dist/spark/spark-3.0.3/spark-3.0.3-bin-hadoop2.7.tgz\n",
        "!tar xf spark-3.0.3-bin-hadoop2.7.tgz\n",
        "!pip install -q findspark"
      ]
    },
    {
      "cell_type": "code",
      "execution_count": 2,
      "metadata": {
        "id": "wg_tN5RmkCq3"
      },
      "outputs": [],
      "source": [
        "import os\n",
        "os.environ[\"JAVA_HOME\"] = \"/usr/lib/jvm/java-8-openjdk-amd64\"\n",
        "os.environ[\"SPARK_HOME\"] = \"/content/spark-3.0.3-bin-hadoop2.7\""
      ]
    },
    {
      "cell_type": "code",
      "execution_count": 3,
      "metadata": {
        "id": "ehkhKsLqafrV"
      },
      "outputs": [],
      "source": [
        "import findspark\n",
        "findspark.init(\"spark-3.0.3-bin-hadoop2.7\")# SPARK_HOME\n",
        "from pyspark.sql import SparkSession\n",
        "spark = SparkSession.builder.master(\"local[*]\").getOrCreate()"
      ]
    },
    {
      "cell_type": "code",
      "execution_count": 4,
      "metadata": {
        "id": "AMVtczB1kLun",
        "colab": {
          "base_uri": "https://localhost:8080/"
        },
        "outputId": "087fda9a-5399-43cf-b2a6-482181f8b88e"
      },
      "outputs": [
        {
          "output_type": "execute_result",
          "data": {
            "text/plain": [
              "pyspark.sql.session.SparkSession"
            ]
          },
          "metadata": {},
          "execution_count": 4
        }
      ],
      "source": [
        "import pyspark\n",
        "type(spark)"
      ]
    },
    {
      "cell_type": "markdown",
      "metadata": {
        "id": "n8WiLqFNaAbz"
      },
      "source": [
        "## Kaggle APIs"
      ]
    },
    {
      "cell_type": "markdown",
      "metadata": {
        "id": "5DCmGBC2ZoBi"
      },
      "source": [
        "________________________________________________________________________"
      ]
    },
    {
      "cell_type": "code",
      "execution_count": 5,
      "metadata": {
        "id": "wvJrKVr00SxV",
        "colab": {
          "resources": {
            "http://localhost:8080/nbextensions/google.colab/files.js": {
              "data": "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",
              "ok": true,
              "headers": [
                [
                  "content-type",
                  "application/javascript"
                ]
              ],
              "status": 200,
              "status_text": ""
            }
          },
          "base_uri": "https://localhost:8080/",
          "height": 91
        },
        "outputId": "453601ca-a00e-4b07-cd06-491e58e8e6e8"
      },
      "outputs": [
        {
          "output_type": "display_data",
          "data": {
            "text/plain": [
              "<IPython.core.display.HTML object>"
            ],
            "text/html": [
              "\n",
              "     <input type=\"file\" id=\"files-e7a027b4-ace7-4a3c-9879-f23dc634cfc3\" name=\"files[]\" multiple disabled\n",
              "        style=\"border:none\" />\n",
              "     <output id=\"result-e7a027b4-ace7-4a3c-9879-f23dc634cfc3\">\n",
              "      Upload widget is only available when the cell has been executed in the\n",
              "      current browser session. Please rerun this cell to enable.\n",
              "      </output>\n",
              "      <script src=\"/nbextensions/google.colab/files.js\"></script> "
            ]
          },
          "metadata": {}
        },
        {
          "output_type": "stream",
          "name": "stdout",
          "text": [
            "Saving kaggle.json to kaggle.json\n"
          ]
        },
        {
          "output_type": "execute_result",
          "data": {
            "text/plain": [
              "{'kaggle.json': b'{\"username\":\"federicofiorio\",\"key\":\"3c9fda0dd26cc20d5f652a577743142c\"}'}"
            ]
          },
          "metadata": {},
          "execution_count": 5
        }
      ],
      "source": [
        "from google.colab import files\n",
        "files.upload() #upload kaggle.json"
      ]
    },
    {
      "cell_type": "code",
      "execution_count": 6,
      "metadata": {
        "id": "9cD_HErCy5VX",
        "colab": {
          "base_uri": "https://localhost:8080/"
        },
        "outputId": "45b67e7a-d44d-4ea5-97ca-8f3df6160738"
      },
      "outputs": [
        {
          "output_type": "stream",
          "name": "stdout",
          "text": [
            "Requirement already satisfied: kaggle in /usr/local/lib/python3.7/dist-packages (1.5.12)\n",
            "Requirement already satisfied: certifi in /usr/local/lib/python3.7/dist-packages (from kaggle) (2021.10.8)\n",
            "Requirement already satisfied: tqdm in /usr/local/lib/python3.7/dist-packages (from kaggle) (4.64.0)\n",
            "Requirement already satisfied: requests in /usr/local/lib/python3.7/dist-packages (from kaggle) (2.23.0)\n",
            "Requirement already satisfied: python-dateutil in /usr/local/lib/python3.7/dist-packages (from kaggle) (2.8.2)\n",
            "Requirement already satisfied: python-slugify in /usr/local/lib/python3.7/dist-packages (from kaggle) (6.1.2)\n",
            "Requirement already satisfied: urllib3 in /usr/local/lib/python3.7/dist-packages (from kaggle) (1.24.3)\n",
            "Requirement already satisfied: six>=1.10 in /usr/local/lib/python3.7/dist-packages (from kaggle) (1.15.0)\n",
            "Requirement already satisfied: text-unidecode>=1.3 in /usr/local/lib/python3.7/dist-packages (from python-slugify->kaggle) (1.3)\n",
            "Requirement already satisfied: idna<3,>=2.5 in /usr/local/lib/python3.7/dist-packages (from requests->kaggle) (2.10)\n",
            "Requirement already satisfied: chardet<4,>=3.0.2 in /usr/local/lib/python3.7/dist-packages (from requests->kaggle) (3.0.4)\n"
          ]
        }
      ],
      "source": [
        "! pip install kaggle"
      ]
    },
    {
      "cell_type": "code",
      "execution_count": 7,
      "metadata": {
        "id": "BCLkDT1D09a5"
      },
      "outputs": [],
      "source": [
        "! mkdir ~/.kaggle"
      ]
    },
    {
      "cell_type": "code",
      "execution_count": 8,
      "metadata": {
        "id": "hAqh9chf0_0N"
      },
      "outputs": [],
      "source": [
        "!cp kaggle.json ~/.kaggle/"
      ]
    },
    {
      "cell_type": "code",
      "execution_count": 9,
      "metadata": {
        "id": "t6hitlea7e1f",
        "colab": {
          "base_uri": "https://localhost:8080/"
        },
        "outputId": "9b8ac8ad-be0f-4fc9-9929-85631a605e93"
      },
      "outputs": [
        {
          "output_type": "stream",
          "name": "stdout",
          "text": [
            "kaggle.json\n"
          ]
        }
      ],
      "source": [
        "!ls ~/.kaggle"
      ]
    },
    {
      "cell_type": "code",
      "execution_count": 10,
      "metadata": {
        "id": "GSkmf6Zc4dNv"
      },
      "outputs": [],
      "source": [
        "!chmod 600 /root/.kaggle/kaggle.json"
      ]
    },
    {
      "cell_type": "code",
      "execution_count": 11,
      "metadata": {
        "id": "Dv7QkLHU4nI2",
        "colab": {
          "base_uri": "https://localhost:8080/"
        },
        "outputId": "7b4d6eb5-ef1e-422a-a846-388565908a45"
      },
      "outputs": [
        {
          "output_type": "stream",
          "name": "stdout",
          "text": [
            "Downloading ukraine-russian-crisis-twitter-dataset-1-2-m-rows.zip to /content\n",
            "100% 7.30G/7.31G [00:55<00:00, 212MB/s]\n",
            "100% 7.31G/7.31G [00:55<00:00, 142MB/s]\n"
          ]
        }
      ],
      "source": [
        "!kaggle datasets download -d bwandowando/ukraine-russian-crisis-twitter-dataset-1-2-m-rows"
      ]
    },
    {
      "cell_type": "code",
      "execution_count": 12,
      "metadata": {
        "id": "lBspS-4-9Xgp",
        "colab": {
          "base_uri": "https://localhost:8080/"
        },
        "outputId": "e40341fa-e597-41cd-9f01-e1a7c0b16e25"
      },
      "outputs": [
        {
          "output_type": "stream",
          "name": "stdout",
          "text": [
            "kaggle.json\n",
            "sample_data\n",
            "spark-3.0.3-bin-hadoop2.7\n",
            "spark-3.0.3-bin-hadoop2.7.tgz\n",
            "ukraine-russian-crisis-twitter-dataset-1-2-m-rows.zip\n"
          ]
        }
      ],
      "source": [
        "!ls"
      ]
    },
    {
      "cell_type": "code",
      "execution_count": 13,
      "metadata": {
        "id": "JOCKUrFx22Sp",
        "colab": {
          "base_uri": "https://localhost:8080/"
        },
        "outputId": "21c4d3f1-468b-4260-d9f8-e12b63a162ec"
      },
      "outputs": [
        {
          "output_type": "stream",
          "name": "stdout",
          "text": [
            "Archive:  ukraine-russian-crisis-twitter-dataset-1-2-m-rows.zip\n",
            "  inflating: 0401_UkraineCombinedTweetsDeduped.csv.gzip  \n",
            "  inflating: 0402_UkraineCombinedTweetsDeduped.csv.gzip  \n",
            "  inflating: 0403_UkraineCombinedTweetsDeduped.csv.gzip  \n",
            "  inflating: 0404_UkraineCombinedTweetsDeduped.csv.gzip  \n",
            "  inflating: 0405_UkraineCombinedTweetsDeduped.csv.gzip  \n",
            "  inflating: 0406_UkraineCombinedTweetsDeduped.csv.gzip  \n",
            "  inflating: 0407_UkraineCombinedTweetsDeduped.csv.gzip  \n",
            "  inflating: 0408_UkraineCombinedTweetsDeduped.csv.gzip  \n",
            "  inflating: 0409_UkraineCombinedTweetsDeduped.csv.gzip  \n",
            "  inflating: 0410_UkraineCombinedTweetsDeduped.csv.gzip  \n",
            "  inflating: 0411_UkraineCombinedTweetsDeduped.csv.gzip  \n",
            "  inflating: 0412_UkraineCombinedTweetsDeduped.csv.gzip  \n",
            "  inflating: 0413_UkraineCombinedTweetsDeduped.csv.gzip  \n",
            "  inflating: 0414_UkraineCombinedTweetsDeduped.csv.gzip  \n",
            "  inflating: 0415_UkraineCombinedTweetsDeduped.csv.gzip  \n",
            "  inflating: 0416_UkraineCombinedTweetsDeduped.csv.gzip  \n",
            "  inflating: 0417_UkraineCombinedTweetsDeduped.csv.gzip  \n",
            "  inflating: 0418_UkraineCombinedTweetsDeduped.csv.gzip  \n",
            "  inflating: 0419_UkraineCombinedTweetsDeduped.csv.gzip  \n",
            "  inflating: 0420_UkraineCombinedTweetsDeduped.csv.gzip  \n",
            "  inflating: 0421_UkraineCombinedTweetsDeduped.csv.gzip  \n",
            "  inflating: 0422_UkraineCombinedTweetsDeduped.csv.gzip  \n",
            "  inflating: 0423_UkraineCombinedTweetsDeduped.csv.gzip  \n",
            "  inflating: 0424_UkraineCombinedTweetsDeduped.csv.gzip  \n",
            "  inflating: 0425_UkraineCombinedTweetsDeduped.csv.gzip  \n",
            "  inflating: 0426_UkraineCombinedTweetsDeduped.csv.gzip  \n",
            "  inflating: 0427_UkraineCombinedTweetsDeduped.csv.gzip  \n",
            "  inflating: 0428_UkraineCombinedTweetsDeduped.csv.gzip  \n",
            "  inflating: 0429_UkraineCombinedTweetsDeduped.csv.gzip  \n",
            "  inflating: 0430_UkraineCombinedTweetsDeduped.csv.gzip  \n",
            "  inflating: 0501_UkraineCombinedTweetsDeduped.csv.gzip  \n",
            "  inflating: 0502_UkraineCombinedTweetsDeduped.csv.gzip  \n",
            "  inflating: 0503_UkraineCombinedTweetsDeduped.csv.gzip  \n",
            "  inflating: 0504_UkraineCombinedTweetsDeduped.csv.gzip  \n",
            "  inflating: 0505_to_0507_UkraineCombinedTweetsDeduped.csv.gzip  \n",
            "  inflating: 0508_UkraineCombinedTweetsDeduped.csv.gzip  \n",
            "  inflating: 0509_UkraineCombinedTweetsDeduped.csv.gzip  \n",
            "  inflating: 0510_UkraineCombinedTweetsDeduped.csv.gzip  \n",
            "  inflating: 0511_UkraineCombinedTweetsDeduped.csv.gzip  \n",
            "  inflating: 0512_UkraineCombinedTweetsDeduped.csv.gzip  \n",
            "  inflating: 0513_UkraineCombinedTweetsDeduped.csv.gzip  \n",
            "  inflating: 0514_UkraineCombinedTweetsDeduped.csv.gzip  \n",
            "  inflating: 0515_UkraineCombinedTweetsDeduped.csv.gzip  \n",
            "  inflating: 0516_UkraineCombinedTweetsDeduped.csv.gzip  \n",
            "  inflating: 0517_UkraineCombinedTweetsDeduped.csv.gzip  \n",
            "  inflating: 0518_UkraineCombinedTweetsDeduped.csv.gzip  \n",
            "  inflating: UkraineCombinedTweetsDeduped20220227-131611.csv.gzip  \n",
            "  inflating: UkraineCombinedTweetsDeduped_FEB27.csv.gzip  \n",
            "  inflating: UkraineCombinedTweetsDeduped_FEB28_part1.csv.gzip  \n",
            "  inflating: UkraineCombinedTweetsDeduped_FEB28_part2.csv.gzip  \n",
            "  inflating: UkraineCombinedTweetsDeduped_MAR01.csv.gzip  \n",
            "  inflating: UkraineCombinedTweetsDeduped_MAR02.csv.gzip  \n",
            "  inflating: UkraineCombinedTweetsDeduped_MAR03.csv.gzip  \n",
            "  inflating: UkraineCombinedTweetsDeduped_MAR04.csv.gzip  \n",
            "  inflating: UkraineCombinedTweetsDeduped_MAR05.csv.gzip  \n",
            "  inflating: UkraineCombinedTweetsDeduped_MAR06.csv.gzip  \n",
            "  inflating: UkraineCombinedTweetsDeduped_MAR07.csv.gzip  \n",
            "  inflating: UkraineCombinedTweetsDeduped_MAR08.csv.gzip  \n",
            "  inflating: UkraineCombinedTweetsDeduped_MAR09.csv.gzip  \n",
            "  inflating: UkraineCombinedTweetsDeduped_MAR10.csv.gzip  \n",
            "  inflating: UkraineCombinedTweetsDeduped_MAR11.csv.gzip  \n",
            "  inflating: UkraineCombinedTweetsDeduped_MAR12.csv.gzip  \n",
            "  inflating: UkraineCombinedTweetsDeduped_MAR13.csv.gzip  \n",
            "  inflating: UkraineCombinedTweetsDeduped_MAR14.csv.gzip  \n",
            "  inflating: UkraineCombinedTweetsDeduped_MAR15.csv.gzip  \n",
            "  inflating: UkraineCombinedTweetsDeduped_MAR16.csv.gzip  \n",
            "  inflating: UkraineCombinedTweetsDeduped_MAR17.csv.gzip  \n",
            "  inflating: UkraineCombinedTweetsDeduped_MAR18.csv.gzip  \n",
            "  inflating: UkraineCombinedTweetsDeduped_MAR19.csv.gzip  \n",
            "  inflating: UkraineCombinedTweetsDeduped_MAR20.csv.gzip  \n",
            "  inflating: UkraineCombinedTweetsDeduped_MAR21.csv.gzip  \n",
            "  inflating: UkraineCombinedTweetsDeduped_MAR22.csv.gzip  \n",
            "  inflating: UkraineCombinedTweetsDeduped_MAR23.csv.gzip  \n",
            "  inflating: UkraineCombinedTweetsDeduped_MAR24.csv.gzip  \n",
            "  inflating: UkraineCombinedTweetsDeduped_MAR25.csv.gzip  \n",
            "  inflating: UkraineCombinedTweetsDeduped_MAR26.csv.gzip  \n",
            "  inflating: UkraineCombinedTweetsDeduped_MAR27_to_28.csv.gzip  \n",
            "  inflating: UkraineCombinedTweetsDeduped_MAR29.csv.gzip  \n",
            "  inflating: UkraineCombinedTweetsDeduped_MAR30_REAL.csv.gzip  \n",
            "  inflating: UkraineCombinedTweetsDeduped_MAR31.csv.gzip  \n"
          ]
        }
      ],
      "source": [
        "!unzip ukraine-russian-crisis-twitter-dataset-1-2-m-rows.zip"
      ]
    },
    {
      "cell_type": "markdown",
      "metadata": {
        "id": "r9XHPiaqZ0zz"
      },
      "source": [
        "## Use the data"
      ]
    },
    {
      "cell_type": "markdown",
      "metadata": {
        "id": "Q2RBBWPHZx4r"
      },
      "source": [
        "________________________________________________________________________"
      ]
    },
    {
      "cell_type": "code",
      "execution_count": 14,
      "metadata": {
        "id": "bNY3XvoLw3md"
      },
      "outputs": [],
      "source": [
        "import numpy as np\n",
        "import pandas as pd\n",
        "import csv\n",
        "import os\n",
        "import warnings"
      ]
    },
    {
      "cell_type": "code",
      "execution_count": 15,
      "metadata": {
        "id": "Hh2IS9SM9pYh",
        "colab": {
          "base_uri": "https://localhost:8080/"
        },
        "outputId": "324ee359-6752-47da-8c5f-ec88b2fe2244"
      },
      "outputs": [
        {
          "output_type": "stream",
          "name": "stderr",
          "text": [
            "/usr/local/lib/python3.7/dist-packages/IPython/core/interactiveshell.py:2882: DtypeWarning: Columns (15) have mixed types.Specify dtype option on import or set low_memory=False.\n",
            "  exec(code_obj, self.user_global_ns, self.user_ns)\n"
          ]
        }
      ],
      "source": [
        "filename = r\"0401_UkraineCombinedTweetsDeduped.csv.gzip\"\n",
        "df = pd.read_csv(filename, compression='gzip', index_col=0,encoding='utf-8', quoting=csv.QUOTE_ALL)"
      ]
    },
    {
      "cell_type": "code",
      "execution_count": 16,
      "metadata": {
        "id": "JCM3URp35liu",
        "colab": {
          "base_uri": "https://localhost:8080/",
          "height": 582
        },
        "outputId": "26195d03-8c09-4888-d285-3f3a28a7ef0d"
      },
      "outputs": [
        {
          "output_type": "execute_result",
          "data": {
            "text/plain": [
              "                                                                0  \\\n",
              "userid                                                   16882774   \n",
              "username                                                  Yaniela   \n",
              "acctdesc        Animal lover, supports those who fight injusti...   \n",
              "location                                                   Hawaii   \n",
              "following                                                    1158   \n",
              "followers                                                     392   \n",
              "totaltweets                                                 88366   \n",
              "usercreatedts                          2008-10-21 07:34:04.000000   \n",
              "tweetid                                       1509681950042198030   \n",
              "tweetcreatedts                         2022-04-01 00:00:00.000000   \n",
              "retweetcount                                                 3412   \n",
              "text            ⚡The Ukrainian Air Force would like to address...   \n",
              "hashtags                                                       []   \n",
              "language                                                       en   \n",
              "coordinates                                                   NaN   \n",
              "favorite_count                                                  0   \n",
              "extractedts                            2022-04-01 00:44:20.097867   \n",
              "\n",
              "                                                                1  \n",
              "userid                                                 3205296069  \n",
              "username                                                 gregffff  \n",
              "acctdesc                                                      NaN  \n",
              "location                                                      NaN  \n",
              "following                                                     122  \n",
              "followers                                                     881  \n",
              "totaltweets                                                 99853  \n",
              "usercreatedts                          2015-04-25 11:24:34.000000  \n",
              "tweetid                                       1509681950151348229  \n",
              "tweetcreatedts                         2022-04-01 00:00:00.000000  \n",
              "retweetcount                                                  100  \n",
              "text            Chernihiv oblast. Ukrainians welcome their lib...  \n",
              "hashtags        [{'text': 'russianinvasion', 'indices': [77, 9...  \n",
              "language                                                       en  \n",
              "coordinates                                                   NaN  \n",
              "favorite_count                                                  0  \n",
              "extractedts                            2022-04-01 00:09:37.148770  "
            ],
            "text/html": [
              "\n",
              "  <div id=\"df-e43de3dc-1b38-49d9-bc54-c9a7630e26fa\">\n",
              "    <div class=\"colab-df-container\">\n",
              "      <div>\n",
              "<style scoped>\n",
              "    .dataframe tbody tr th:only-of-type {\n",
              "        vertical-align: middle;\n",
              "    }\n",
              "\n",
              "    .dataframe tbody tr th {\n",
              "        vertical-align: top;\n",
              "    }\n",
              "\n",
              "    .dataframe thead th {\n",
              "        text-align: right;\n",
              "    }\n",
              "</style>\n",
              "<table border=\"1\" class=\"dataframe\">\n",
              "  <thead>\n",
              "    <tr style=\"text-align: right;\">\n",
              "      <th></th>\n",
              "      <th>0</th>\n",
              "      <th>1</th>\n",
              "    </tr>\n",
              "  </thead>\n",
              "  <tbody>\n",
              "    <tr>\n",
              "      <th>userid</th>\n",
              "      <td>16882774</td>\n",
              "      <td>3205296069</td>\n",
              "    </tr>\n",
              "    <tr>\n",
              "      <th>username</th>\n",
              "      <td>Yaniela</td>\n",
              "      <td>gregffff</td>\n",
              "    </tr>\n",
              "    <tr>\n",
              "      <th>acctdesc</th>\n",
              "      <td>Animal lover, supports those who fight injusti...</td>\n",
              "      <td>NaN</td>\n",
              "    </tr>\n",
              "    <tr>\n",
              "      <th>location</th>\n",
              "      <td>Hawaii</td>\n",
              "      <td>NaN</td>\n",
              "    </tr>\n",
              "    <tr>\n",
              "      <th>following</th>\n",
              "      <td>1158</td>\n",
              "      <td>122</td>\n",
              "    </tr>\n",
              "    <tr>\n",
              "      <th>followers</th>\n",
              "      <td>392</td>\n",
              "      <td>881</td>\n",
              "    </tr>\n",
              "    <tr>\n",
              "      <th>totaltweets</th>\n",
              "      <td>88366</td>\n",
              "      <td>99853</td>\n",
              "    </tr>\n",
              "    <tr>\n",
              "      <th>usercreatedts</th>\n",
              "      <td>2008-10-21 07:34:04.000000</td>\n",
              "      <td>2015-04-25 11:24:34.000000</td>\n",
              "    </tr>\n",
              "    <tr>\n",
              "      <th>tweetid</th>\n",
              "      <td>1509681950042198030</td>\n",
              "      <td>1509681950151348229</td>\n",
              "    </tr>\n",
              "    <tr>\n",
              "      <th>tweetcreatedts</th>\n",
              "      <td>2022-04-01 00:00:00.000000</td>\n",
              "      <td>2022-04-01 00:00:00.000000</td>\n",
              "    </tr>\n",
              "    <tr>\n",
              "      <th>retweetcount</th>\n",
              "      <td>3412</td>\n",
              "      <td>100</td>\n",
              "    </tr>\n",
              "    <tr>\n",
              "      <th>text</th>\n",
              "      <td>⚡The Ukrainian Air Force would like to address...</td>\n",
              "      <td>Chernihiv oblast. Ukrainians welcome their lib...</td>\n",
              "    </tr>\n",
              "    <tr>\n",
              "      <th>hashtags</th>\n",
              "      <td>[]</td>\n",
              "      <td>[{'text': 'russianinvasion', 'indices': [77, 9...</td>\n",
              "    </tr>\n",
              "    <tr>\n",
              "      <th>language</th>\n",
              "      <td>en</td>\n",
              "      <td>en</td>\n",
              "    </tr>\n",
              "    <tr>\n",
              "      <th>coordinates</th>\n",
              "      <td>NaN</td>\n",
              "      <td>NaN</td>\n",
              "    </tr>\n",
              "    <tr>\n",
              "      <th>favorite_count</th>\n",
              "      <td>0</td>\n",
              "      <td>0</td>\n",
              "    </tr>\n",
              "    <tr>\n",
              "      <th>extractedts</th>\n",
              "      <td>2022-04-01 00:44:20.097867</td>\n",
              "      <td>2022-04-01 00:09:37.148770</td>\n",
              "    </tr>\n",
              "  </tbody>\n",
              "</table>\n",
              "</div>\n",
              "      <button class=\"colab-df-convert\" onclick=\"convertToInteractive('df-e43de3dc-1b38-49d9-bc54-c9a7630e26fa')\"\n",
              "              title=\"Convert this dataframe to an interactive table.\"\n",
              "              style=\"display:none;\">\n",
              "        \n",
              "  <svg xmlns=\"http://www.w3.org/2000/svg\" height=\"24px\"viewBox=\"0 0 24 24\"\n",
              "       width=\"24px\">\n",
              "    <path d=\"M0 0h24v24H0V0z\" fill=\"none\"/>\n",
              "    <path d=\"M18.56 5.44l.94 2.06.94-2.06 2.06-.94-2.06-.94-.94-2.06-.94 2.06-2.06.94zm-11 1L8.5 8.5l.94-2.06 2.06-.94-2.06-.94L8.5 2.5l-.94 2.06-2.06.94zm10 10l.94 2.06.94-2.06 2.06-.94-2.06-.94-.94-2.06-.94 2.06-2.06.94z\"/><path d=\"M17.41 7.96l-1.37-1.37c-.4-.4-.92-.59-1.43-.59-.52 0-1.04.2-1.43.59L10.3 9.45l-7.72 7.72c-.78.78-.78 2.05 0 2.83L4 21.41c.39.39.9.59 1.41.59.51 0 1.02-.2 1.41-.59l7.78-7.78 2.81-2.81c.8-.78.8-2.07 0-2.86zM5.41 20L4 18.59l7.72-7.72 1.47 1.35L5.41 20z\"/>\n",
              "  </svg>\n",
              "      </button>\n",
              "      \n",
              "  <style>\n",
              "    .colab-df-container {\n",
              "      display:flex;\n",
              "      flex-wrap:wrap;\n",
              "      gap: 12px;\n",
              "    }\n",
              "\n",
              "    .colab-df-convert {\n",
              "      background-color: #E8F0FE;\n",
              "      border: none;\n",
              "      border-radius: 50%;\n",
              "      cursor: pointer;\n",
              "      display: none;\n",
              "      fill: #1967D2;\n",
              "      height: 32px;\n",
              "      padding: 0 0 0 0;\n",
              "      width: 32px;\n",
              "    }\n",
              "\n",
              "    .colab-df-convert:hover {\n",
              "      background-color: #E2EBFA;\n",
              "      box-shadow: 0px 1px 2px rgba(60, 64, 67, 0.3), 0px 1px 3px 1px rgba(60, 64, 67, 0.15);\n",
              "      fill: #174EA6;\n",
              "    }\n",
              "\n",
              "    [theme=dark] .colab-df-convert {\n",
              "      background-color: #3B4455;\n",
              "      fill: #D2E3FC;\n",
              "    }\n",
              "\n",
              "    [theme=dark] .colab-df-convert:hover {\n",
              "      background-color: #434B5C;\n",
              "      box-shadow: 0px 1px 3px 1px rgba(0, 0, 0, 0.15);\n",
              "      filter: drop-shadow(0px 1px 2px rgba(0, 0, 0, 0.3));\n",
              "      fill: #FFFFFF;\n",
              "    }\n",
              "  </style>\n",
              "\n",
              "      <script>\n",
              "        const buttonEl =\n",
              "          document.querySelector('#df-e43de3dc-1b38-49d9-bc54-c9a7630e26fa button.colab-df-convert');\n",
              "        buttonEl.style.display =\n",
              "          google.colab.kernel.accessAllowed ? 'block' : 'none';\n",
              "\n",
              "        async function convertToInteractive(key) {\n",
              "          const element = document.querySelector('#df-e43de3dc-1b38-49d9-bc54-c9a7630e26fa');\n",
              "          const dataTable =\n",
              "            await google.colab.kernel.invokeFunction('convertToInteractive',\n",
              "                                                     [key], {});\n",
              "          if (!dataTable) return;\n",
              "\n",
              "          const docLinkHtml = 'Like what you see? Visit the ' +\n",
              "            '<a target=\"_blank\" href=https://colab.research.google.com/notebooks/data_table.ipynb>data table notebook</a>'\n",
              "            + ' to learn more about interactive tables.';\n",
              "          element.innerHTML = '';\n",
              "          dataTable['output_type'] = 'display_data';\n",
              "          await google.colab.output.renderOutput(dataTable, element);\n",
              "          const docLink = document.createElement('div');\n",
              "          docLink.innerHTML = docLinkHtml;\n",
              "          element.appendChild(docLink);\n",
              "        }\n",
              "      </script>\n",
              "    </div>\n",
              "  </div>\n",
              "  "
            ]
          },
          "metadata": {},
          "execution_count": 16
        }
      ],
      "source": [
        "df[0:2].T"
      ]
    },
    {
      "cell_type": "code",
      "execution_count": 17,
      "metadata": {
        "id": "288E8M1aAbqJ",
        "colab": {
          "base_uri": "https://localhost:8080/"
        },
        "outputId": "118f068c-35cf-4eea-a5a4-6bbfc46a33d7"
      },
      "outputs": [
        {
          "output_type": "execute_result",
          "data": {
            "text/plain": [
              "pandas.core.frame.DataFrame"
            ]
          },
          "metadata": {},
          "execution_count": 17
        }
      ],
      "source": [
        "type(df)"
      ]
    },
    {
      "cell_type": "code",
      "source": [
        "df = df[['tweetid', 'text', 'hashtags','language']] #keep only 3 columns\n",
        "df.head()"
      ],
      "metadata": {
        "id": "YBpT85eV1DUc",
        "colab": {
          "base_uri": "https://localhost:8080/",
          "height": 206
        },
        "outputId": "7f7ce29b-87c3-4e45-918c-9113b7df884b"
      },
      "execution_count": 18,
      "outputs": [
        {
          "output_type": "execute_result",
          "data": {
            "text/plain": [
              "               tweetid                                               text  \\\n",
              "0  1509681950042198030  ⚡The Ukrainian Air Force would like to address...   \n",
              "1  1509681950151348229  Chernihiv oblast. Ukrainians welcome their lib...   \n",
              "2  1509681950683926556  America 🇺🇸 is preparing for something worse th...   \n",
              "3  1509681951116046336  JUST IN: #Anonymous has hacked &amp; released ...   \n",
              "4  1509681951304990720  ***PUBLIC MINT NOW LIVE***\\n\\nFor \\n@billionai...   \n",
              "\n",
              "                                            hashtags language  \n",
              "0                                                 []       en  \n",
              "1  [{'text': 'russianinvasion', 'indices': [77, 9...       en  \n",
              "2  [{'text': 'RussianUkrainianWar', 'indices': [7...       en  \n",
              "3       [{'text': 'Anonymous', 'indices': [25, 35]}]       en  \n",
              "4                                                 []       en  "
            ],
            "text/html": [
              "\n",
              "  <div id=\"df-4e90ca84-65dd-4382-b7cf-d0b0e6f5f4d4\">\n",
              "    <div class=\"colab-df-container\">\n",
              "      <div>\n",
              "<style scoped>\n",
              "    .dataframe tbody tr th:only-of-type {\n",
              "        vertical-align: middle;\n",
              "    }\n",
              "\n",
              "    .dataframe tbody tr th {\n",
              "        vertical-align: top;\n",
              "    }\n",
              "\n",
              "    .dataframe thead th {\n",
              "        text-align: right;\n",
              "    }\n",
              "</style>\n",
              "<table border=\"1\" class=\"dataframe\">\n",
              "  <thead>\n",
              "    <tr style=\"text-align: right;\">\n",
              "      <th></th>\n",
              "      <th>tweetid</th>\n",
              "      <th>text</th>\n",
              "      <th>hashtags</th>\n",
              "      <th>language</th>\n",
              "    </tr>\n",
              "  </thead>\n",
              "  <tbody>\n",
              "    <tr>\n",
              "      <th>0</th>\n",
              "      <td>1509681950042198030</td>\n",
              "      <td>⚡The Ukrainian Air Force would like to address...</td>\n",
              "      <td>[]</td>\n",
              "      <td>en</td>\n",
              "    </tr>\n",
              "    <tr>\n",
              "      <th>1</th>\n",
              "      <td>1509681950151348229</td>\n",
              "      <td>Chernihiv oblast. Ukrainians welcome their lib...</td>\n",
              "      <td>[{'text': 'russianinvasion', 'indices': [77, 9...</td>\n",
              "      <td>en</td>\n",
              "    </tr>\n",
              "    <tr>\n",
              "      <th>2</th>\n",
              "      <td>1509681950683926556</td>\n",
              "      <td>America 🇺🇸 is preparing for something worse th...</td>\n",
              "      <td>[{'text': 'RussianUkrainianWar', 'indices': [7...</td>\n",
              "      <td>en</td>\n",
              "    </tr>\n",
              "    <tr>\n",
              "      <th>3</th>\n",
              "      <td>1509681951116046336</td>\n",
              "      <td>JUST IN: #Anonymous has hacked &amp;amp; released ...</td>\n",
              "      <td>[{'text': 'Anonymous', 'indices': [25, 35]}]</td>\n",
              "      <td>en</td>\n",
              "    </tr>\n",
              "    <tr>\n",
              "      <th>4</th>\n",
              "      <td>1509681951304990720</td>\n",
              "      <td>***PUBLIC MINT NOW LIVE***\\n\\nFor \\n@billionai...</td>\n",
              "      <td>[]</td>\n",
              "      <td>en</td>\n",
              "    </tr>\n",
              "  </tbody>\n",
              "</table>\n",
              "</div>\n",
              "      <button class=\"colab-df-convert\" onclick=\"convertToInteractive('df-4e90ca84-65dd-4382-b7cf-d0b0e6f5f4d4')\"\n",
              "              title=\"Convert this dataframe to an interactive table.\"\n",
              "              style=\"display:none;\">\n",
              "        \n",
              "  <svg xmlns=\"http://www.w3.org/2000/svg\" height=\"24px\"viewBox=\"0 0 24 24\"\n",
              "       width=\"24px\">\n",
              "    <path d=\"M0 0h24v24H0V0z\" fill=\"none\"/>\n",
              "    <path d=\"M18.56 5.44l.94 2.06.94-2.06 2.06-.94-2.06-.94-.94-2.06-.94 2.06-2.06.94zm-11 1L8.5 8.5l.94-2.06 2.06-.94-2.06-.94L8.5 2.5l-.94 2.06-2.06.94zm10 10l.94 2.06.94-2.06 2.06-.94-2.06-.94-.94-2.06-.94 2.06-2.06.94z\"/><path d=\"M17.41 7.96l-1.37-1.37c-.4-.4-.92-.59-1.43-.59-.52 0-1.04.2-1.43.59L10.3 9.45l-7.72 7.72c-.78.78-.78 2.05 0 2.83L4 21.41c.39.39.9.59 1.41.59.51 0 1.02-.2 1.41-.59l7.78-7.78 2.81-2.81c.8-.78.8-2.07 0-2.86zM5.41 20L4 18.59l7.72-7.72 1.47 1.35L5.41 20z\"/>\n",
              "  </svg>\n",
              "      </button>\n",
              "      \n",
              "  <style>\n",
              "    .colab-df-container {\n",
              "      display:flex;\n",
              "      flex-wrap:wrap;\n",
              "      gap: 12px;\n",
              "    }\n",
              "\n",
              "    .colab-df-convert {\n",
              "      background-color: #E8F0FE;\n",
              "      border: none;\n",
              "      border-radius: 50%;\n",
              "      cursor: pointer;\n",
              "      display: none;\n",
              "      fill: #1967D2;\n",
              "      height: 32px;\n",
              "      padding: 0 0 0 0;\n",
              "      width: 32px;\n",
              "    }\n",
              "\n",
              "    .colab-df-convert:hover {\n",
              "      background-color: #E2EBFA;\n",
              "      box-shadow: 0px 1px 2px rgba(60, 64, 67, 0.3), 0px 1px 3px 1px rgba(60, 64, 67, 0.15);\n",
              "      fill: #174EA6;\n",
              "    }\n",
              "\n",
              "    [theme=dark] .colab-df-convert {\n",
              "      background-color: #3B4455;\n",
              "      fill: #D2E3FC;\n",
              "    }\n",
              "\n",
              "    [theme=dark] .colab-df-convert:hover {\n",
              "      background-color: #434B5C;\n",
              "      box-shadow: 0px 1px 3px 1px rgba(0, 0, 0, 0.15);\n",
              "      filter: drop-shadow(0px 1px 2px rgba(0, 0, 0, 0.3));\n",
              "      fill: #FFFFFF;\n",
              "    }\n",
              "  </style>\n",
              "\n",
              "      <script>\n",
              "        const buttonEl =\n",
              "          document.querySelector('#df-4e90ca84-65dd-4382-b7cf-d0b0e6f5f4d4 button.colab-df-convert');\n",
              "        buttonEl.style.display =\n",
              "          google.colab.kernel.accessAllowed ? 'block' : 'none';\n",
              "\n",
              "        async function convertToInteractive(key) {\n",
              "          const element = document.querySelector('#df-4e90ca84-65dd-4382-b7cf-d0b0e6f5f4d4');\n",
              "          const dataTable =\n",
              "            await google.colab.kernel.invokeFunction('convertToInteractive',\n",
              "                                                     [key], {});\n",
              "          if (!dataTable) return;\n",
              "\n",
              "          const docLinkHtml = 'Like what you see? Visit the ' +\n",
              "            '<a target=\"_blank\" href=https://colab.research.google.com/notebooks/data_table.ipynb>data table notebook</a>'\n",
              "            + ' to learn more about interactive tables.';\n",
              "          element.innerHTML = '';\n",
              "          dataTable['output_type'] = 'display_data';\n",
              "          await google.colab.output.renderOutput(dataTable, element);\n",
              "          const docLink = document.createElement('div');\n",
              "          docLink.innerHTML = docLinkHtml;\n",
              "          element.appendChild(docLink);\n",
              "        }\n",
              "      </script>\n",
              "    </div>\n",
              "  </div>\n",
              "  "
            ]
          },
          "metadata": {},
          "execution_count": 18
        }
      ]
    },
    {
      "cell_type": "code",
      "source": [
        "pd.options.display.max_colwidth = 1200\n",
        "print(df[df['tweetid']==\t1509681950042198030][\"text\"],df[df['tweetid']==\t1509681950042198030][\"hashtags\"])"
      ],
      "metadata": {
        "id": "g0vF6KiT8YAY",
        "colab": {
          "base_uri": "https://localhost:8080/"
        },
        "outputId": "b6ec0d11-9c25-4baf-b792-fa49d339b1d4"
      },
      "execution_count": 19,
      "outputs": [
        {
          "output_type": "stream",
          "name": "stdout",
          "text": [
            "0    ⚡The Ukrainian Air Force would like to address misinformation published in multiple Western media outlets regarding the situation in the 🇺🇦 sky and support from our @NATO allies. \\nMore in 🧵(1/16)\\n#ProtectUАSky #StopRussia #UkraineUnderAttaсk\n",
            "Name: text, dtype: object 0    []\n",
            "Name: hashtags, dtype: object\n"
          ]
        }
      ]
    },
    {
      "cell_type": "markdown",
      "source": [
        "As we can see in the previous cell, the tweet has the hashtag #StopRussia #UkraineUnderAttaсk BUT the dataframe (1st tuple) sais there are no hashtag in the tweet. We will try to recover form this."
      ],
      "metadata": {
        "id": "HEfNBiN--8NF"
      }
    },
    {
      "cell_type": "code",
      "execution_count": 20,
      "metadata": {
        "id": "N1KxUUGAlv_X"
      },
      "outputs": [],
      "source": [
        "from pyspark.sql.types import *\n",
        "\n",
        "schema = StructType([StructField(\"tweetid\", StringType(), True)\\\n",
        "                   ,StructField(\"text\", StringType(), True)\\\n",
        "                   ,StructField(\"hashtags\", StringType(), True)\\\n",
        "                   ,StructField(\"language\", StringType(), True)])\n",
        "\n",
        "#create spark dataframe using schema\n",
        "df_spark = spark.createDataFrame(df,schema=schema)"
      ]
    },
    {
      "cell_type": "code",
      "execution_count": 21,
      "metadata": {
        "id": "5mt_1Vi9lwB1",
        "colab": {
          "base_uri": "https://localhost:8080/"
        },
        "outputId": "6c921d91-e674-4243-f6ce-36bf1e67d28b"
      },
      "outputs": [
        {
          "output_type": "execute_result",
          "data": {
            "text/plain": [
              "pyspark.sql.dataframe.DataFrame"
            ]
          },
          "metadata": {},
          "execution_count": 21
        }
      ],
      "source": [
        "type(df_spark)"
      ]
    },
    {
      "cell_type": "code",
      "execution_count": 22,
      "metadata": {
        "id": "Tv5GCx1alwD3",
        "colab": {
          "base_uri": "https://localhost:8080/"
        },
        "outputId": "438769f3-1747-4735-c11a-b173d788b842"
      },
      "outputs": [
        {
          "output_type": "stream",
          "name": "stdout",
          "text": [
            "+-------------------+--------------------+--------------------+--------+\n",
            "|            tweetid|                text|            hashtags|language|\n",
            "+-------------------+--------------------+--------------------+--------+\n",
            "|1509681950042198030|⚡The Ukrainian Ai...|                  []|      en|\n",
            "|1509681950151348229|Chernihiv oblast....|[{'text': 'russia...|      en|\n",
            "|1509681950683926556|America 🇺🇸 is p...|[{'text': 'Russia...|      en|\n",
            "|1509681951116046336|JUST IN: #Anonymo...|[{'text': 'Anonym...|      en|\n",
            "|1509681951304990720|***PUBLIC MINT NO...|                  []|      en|\n",
            "|1509681952000937999|The Amazing story...|[{'text': 'Russia...|      en|\n",
            "|1509681952978210849|&amp;quot;How we ...|                  []|      en|\n",
            "|1509681953053843466|India's purchase ...|[{'text': 'Russia...|      en|\n",
            "|1509681953091457035|The most basic te...|[{'text': 'Ukrain...|      en|\n",
            "|1509681953418711050|\"The image that R...|[{'text': 'Putin'...|      en|\n",
            "|1509681953418752008|#Russia’s Preside...|[{'text': 'Russia...|      en|\n",
            "|1509681953636700160|Sad to read of th...|[{'text': 'Russia...|      en|\n",
            "|1509681953947074560|الرئيس الروسي يصع...|[{'text': 'عينك_ع...|      ar|\n",
            "|1509681954488303623|Tank T-34 at the ...|[{'text': 'Soviet...|      en|\n",
            "|1509681954647543824|The #Anonymous co...|[{'text': 'Anonym...|      en|\n",
            "|1509681955519938561|#Internacional 🇷...|[{'text': 'Intern...|      es|\n",
            "|1509681955603845120|***PUBLIC MINT NO...|                  []|      en|\n",
            "|1509681956149104652|#UkraineWar \n",
            "#Rus...|[{'text': 'Ukrain...|      en|\n",
            "|1509681956224602150|#Putin: Rubleyle ...|[{'text': 'Putin'...|      tr|\n",
            "|1509681957524979718|Read: https://t.c...|[{'text': 'Peace'...|      en|\n",
            "+-------------------+--------------------+--------------------+--------+\n",
            "only showing top 20 rows\n",
            "\n"
          ]
        }
      ],
      "source": [
        "df_spark.show()"
      ]
    },
    {
      "cell_type": "markdown",
      "source": [
        "## RDD TEXT SERVE PER PRENDERE GLI HASHTAG DAL TWEET IN QUANTO LA COLONNA HASHTAG DEL DATASET NON è ACCURATA"
      ],
      "metadata": {
        "id": "UABfyrnmWyLr"
      }
    },
    {
      "cell_type": "code",
      "source": [
        "import nltk\n",
        "from nltk import word_tokenize\n",
        "import re\n",
        "nltk.download('punkt') #to make it work\n",
        "\n",
        "rdd = df_spark.rdd #to get the rdd from dataframe\n",
        "\n",
        "rdd.take(10)\n",
        "rdd=rdd.filter(lambda x: x[3] == \"en\") #filter out non english tweets\n",
        "\n",
        "\n",
        "rdd_text = rdd.map(lambda x : (x[0], x[1])).map(lambda x:(x[0], word_tokenize(x[1]))) #id, word_tokenized"
      ],
      "metadata": {
        "id": "-Om2zbCe9yHH",
        "colab": {
          "base_uri": "https://localhost:8080/"
        },
        "outputId": "f03a7b4c-0731-429d-e27b-e670aee50c92"
      },
      "execution_count": 142,
      "outputs": [
        {
          "output_type": "stream",
          "name": "stdout",
          "text": [
            "[nltk_data] Downloading package punkt to /root/nltk_data...\n",
            "[nltk_data]   Package punkt is already up-to-date!\n"
          ]
        }
      ]
    },
    {
      "cell_type": "markdown",
      "source": [
        "## ESTRAGGO SOLO GLI HASHTAGS"
      ],
      "metadata": {
        "id": "gbMQPHYuQ0zM"
      }
    },
    {
      "cell_type": "code",
      "source": [
        "def processHashtags(tweet):\n",
        "  hashtags = []\n",
        "  for i,word in enumerate(tweet):\n",
        "    if word == '#':\n",
        "      try:\n",
        "        hashtags.append(re.sub(r'[^\\w\\s]','',tweet[i+1]).lower()) #remove punctuation with regexp and put them lowercase\n",
        "      except:\n",
        "        pass\n",
        "  return hashtags\n",
        "\n",
        "hashtags_per_tweet = rdd_text.map(lambda x: (x[0], processHashtags(x[1])))\n",
        "hashtags_per_tweet.first()"
      ],
      "metadata": {
        "id": "NdcDV2lJ_p-2",
        "colab": {
          "base_uri": "https://localhost:8080/"
        },
        "outputId": "0daee493-6b71-4d33-d98f-17eed7e690da"
      },
      "execution_count": 143,
      "outputs": [
        {
          "output_type": "execute_result",
          "data": {
            "text/plain": [
              "('1509681950042198030', ['protectuаsky', 'stoprussia', 'ukraineunderattaсk'])"
            ]
          },
          "metadata": {},
          "execution_count": 143
        }
      ]
    },
    {
      "cell_type": "code",
      "source": [
        "#reconvert the rdd to spark dataframe\n",
        "deptColumns = [\"tweet\",\"hashtag\"]\n",
        "new_df_spark = hashtags_per_tweet.toDF(deptColumns)\n",
        "new_df_spark.printSchema()\n",
        "new_df_spark.show(truncate=False)"
      ],
      "metadata": {
        "id": "1iEJQjdwUkE9",
        "colab": {
          "base_uri": "https://localhost:8080/"
        },
        "outputId": "e4a70b19-83a1-4dfe-851b-a21896d8bf52"
      },
      "execution_count": 144,
      "outputs": [
        {
          "output_type": "stream",
          "name": "stdout",
          "text": [
            "root\n",
            " |-- tweet: string (nullable = true)\n",
            " |-- hashtag: array (nullable = true)\n",
            " |    |-- element: string (containsNull = true)\n",
            "\n",
            "+-------------------+--------------------------------------------------------------------------------------------------------------------------------------------------------------------------+\n",
            "|tweet              |hashtag                                                                                                                                                                   |\n",
            "+-------------------+--------------------------------------------------------------------------------------------------------------------------------------------------------------------------+\n",
            "|1509681950042198030|[protectuаsky, stoprussia, ukraineunderattaсk]                                                                                                                            |\n",
            "|1509681950151348229|[russianinvasion, standwithukraine, ukraineunderattack, ukrainewillwin, putinisawarcriminal, stopputin, russianukrainianwar, russiagohome, россиясмотри, нетвойне]        |\n",
            "|1509681950683926556|[russianukrainianwar, china, taiwan]                                                                                                                                      |\n",
            "|1509681951116046336|[anonymous, oprussia, ddosecrets]                                                                                                                                         |\n",
            "|1509681951304990720|[nft, mint]                                                                                                                                                               |\n",
            "|1509681952000937999|[russia, ukraine, motivation, netde, edude, delaware, government, usa]                                                                                                    |\n",
            "|1509681952978210849|[ukraine, ukrainewar, russia, ukraineinvasion]                                                                                                                            |\n",
            "|1509681953053843466|[russian, moscow]                                                                                                                                                         |\n",
            "|1509681953091457035|[ukraine]                                                                                                                                                                 |\n",
            "|1509681953418711050|[putin, medvedev, russia, ukraine]                                                                                                                                        |\n",
            "|1509681953418752008|[russia, putin]                                                                                                                                                           |\n",
            "|1509681953636700160|[russianarmy, chernobyl, russianukrainianwar]                                                                                                                             |\n",
            "|1509681954488303623|[soviet, berlin, ukrainian, russian, kharkiv]                                                                                                                             |\n",
            "|1509681954647543824|[anonymous, ukraine]                                                                                                                                                      |\n",
            "|1509681955603845120|[nft, mint]                                                                                                                                                               |\n",
            "|1509681956149104652|[ukrainewar, russia, ukraine, 30march, russianukrainianwar]                                                                                                               |\n",
            "|1509681957524979718|[peace, ukraine, democracy, war, putin, zelensky, russia, blackmedia, localnews, community, scoop, news, africanamericans, philadelphia, scoopusamedia, philly, subscribe]|\n",
            "|1509681958288338945|[ukraine]                                                                                                                                                                 |\n",
            "|1509681959965966345|[exclusive, itvideo, russiaukrainewar, re]                                                                                                                                |\n",
            "|1509681960066584593|[putin, ruble, currency, sanctions, oil, economy, negotiations, diplomacy, geopolitics, leadership, government, russia, warinukraine, war, russiaukrainewar]              |\n",
            "+-------------------+--------------------------------------------------------------------------------------------------------------------------------------------------------------------------+\n",
            "only showing top 20 rows\n",
            "\n"
          ]
        }
      ]
    },
    {
      "cell_type": "markdown",
      "source": [
        "APRIORI"
      ],
      "metadata": {
        "id": "5UBV7OukQr3h"
      }
    },
    {
      "cell_type": "code",
      "source": [
        "hashtag=new_df_spark.select('hashtag')"
      ],
      "metadata": {
        "id": "LYKRfbHh9ySU"
      },
      "execution_count": 145,
      "outputs": []
    },
    {
      "cell_type": "code",
      "source": [
        "basket_file = hashtag.rdd.flatMap(list)"
      ],
      "metadata": {
        "id": "6xD_xQSeRorv"
      },
      "execution_count": 146,
      "outputs": []
    },
    {
      "cell_type": "code",
      "source": [
        "basket_file.take(10)"
      ],
      "metadata": {
        "id": "Aa2HohPTyv_p",
        "colab": {
          "base_uri": "https://localhost:8080/"
        },
        "outputId": "5711fb93-ac30-4486-bb9e-0c3ab854a659"
      },
      "execution_count": 147,
      "outputs": [
        {
          "output_type": "execute_result",
          "data": {
            "text/plain": [
              "[['protectuаsky', 'stoprussia', 'ukraineunderattaсk'],\n",
              " ['russianinvasion',\n",
              "  'standwithukraine',\n",
              "  'ukraineunderattack',\n",
              "  'ukrainewillwin',\n",
              "  'putinisawarcriminal',\n",
              "  'stopputin',\n",
              "  'russianukrainianwar',\n",
              "  'russiagohome',\n",
              "  'россиясмотри',\n",
              "  'нетвойне'],\n",
              " ['russianukrainianwar', 'china', 'taiwan'],\n",
              " ['anonymous', 'oprussia', 'ddosecrets'],\n",
              " ['nft', 'mint'],\n",
              " ['russia',\n",
              "  'ukraine',\n",
              "  'motivation',\n",
              "  'netde',\n",
              "  'edude',\n",
              "  'delaware',\n",
              "  'government',\n",
              "  'usa'],\n",
              " ['ukraine', 'ukrainewar', 'russia', 'ukraineinvasion'],\n",
              " ['russian', 'moscow'],\n",
              " ['ukraine'],\n",
              " ['putin', 'medvedev', 'russia', 'ukraine']]"
            ]
          },
          "metadata": {},
          "execution_count": 147
        }
      ]
    },
    {
      "cell_type": "markdown",
      "source": [
        "## Riduco dimensioni baskets per essere veloci"
      ],
      "metadata": {
        "id": "CV2FFWqn7fou"
      }
    },
    {
      "cell_type": "code",
      "source": [
        "num_baskets = 500\n",
        "basket_file = basket_file.take(num_baskets) "
      ],
      "metadata": {
        "id": "5wxe9MKB7fQQ"
      },
      "execution_count": 148,
      "outputs": []
    },
    {
      "cell_type": "code",
      "source": [
        "basket_file = spark.sparkContext.parallelize(basket_file)"
      ],
      "metadata": {
        "id": "vUlj9lOI7_1N"
      },
      "execution_count": 149,
      "outputs": []
    },
    {
      "cell_type": "code",
      "source": [
        "type(basket_file)"
      ],
      "metadata": {
        "id": "S9sorRqZ8Ocu",
        "colab": {
          "base_uri": "https://localhost:8080/"
        },
        "outputId": "dd355858-10db-4e50-cd26-3f7a87cc460e"
      },
      "execution_count": 150,
      "outputs": [
        {
          "output_type": "execute_result",
          "data": {
            "text/plain": [
              "pyspark.rdd.RDD"
            ]
          },
          "metadata": {},
          "execution_count": 150
        }
      ]
    },
    {
      "cell_type": "code",
      "source": [
        "basket_file.take(10)"
      ],
      "metadata": {
        "id": "nRkOzoaOAyrP",
        "colab": {
          "base_uri": "https://localhost:8080/"
        },
        "outputId": "25613c2a-9765-47e8-c561-26443b054d74"
      },
      "execution_count": 151,
      "outputs": [
        {
          "output_type": "execute_result",
          "data": {
            "text/plain": [
              "[['protectuаsky', 'stoprussia', 'ukraineunderattaсk'],\n",
              " ['russianinvasion',\n",
              "  'standwithukraine',\n",
              "  'ukraineunderattack',\n",
              "  'ukrainewillwin',\n",
              "  'putinisawarcriminal',\n",
              "  'stopputin',\n",
              "  'russianukrainianwar',\n",
              "  'russiagohome',\n",
              "  'россиясмотри',\n",
              "  'нетвойне'],\n",
              " ['russianukrainianwar', 'china', 'taiwan'],\n",
              " ['anonymous', 'oprussia', 'ddosecrets'],\n",
              " ['nft', 'mint'],\n",
              " ['russia',\n",
              "  'ukraine',\n",
              "  'motivation',\n",
              "  'netde',\n",
              "  'edude',\n",
              "  'delaware',\n",
              "  'government',\n",
              "  'usa'],\n",
              " ['ukraine', 'ukrainewar', 'russia', 'ukraineinvasion'],\n",
              " ['russian', 'moscow'],\n",
              " ['ukraine'],\n",
              " ['putin', 'medvedev', 'russia', 'ukraine']]"
            ]
          },
          "metadata": {},
          "execution_count": 151
        }
      ]
    },
    {
      "cell_type": "markdown",
      "source": [
        "_______________________________________________________________________________"
      ],
      "metadata": {
        "id": "_v6RyYAH8A59"
      }
    },
    {
      "cell_type": "code",
      "source": [
        "#DA RIVEDERE\n",
        "count = 250000 #obtaine doing count=basket_file.count() (too much time to repeat this all the time)\n",
        "threshold = 2\n",
        "print(count, threshold)"
      ],
      "metadata": {
        "id": "4Jx_mBOQBScX",
        "colab": {
          "base_uri": "https://localhost:8080/"
        },
        "outputId": "ee00be50-aa12-481e-f87b-6bbe0997bde1"
      },
      "execution_count": 152,
      "outputs": [
        {
          "output_type": "stream",
          "name": "stdout",
          "text": [
            "250000 2\n"
          ]
        }
      ]
    },
    {
      "cell_type": "markdown",
      "source": [
        "Start apriori"
      ],
      "metadata": {
        "id": "pWvt7ZNkThUI"
      }
    },
    {
      "cell_type": "code",
      "source": [
        "#setp 1 calculate the freq of each item in the basket file\n",
        "singleton=basket_file.flatMap(list).map(lambda item: (item,1)).reduceByKey(lambda a,b: a+b)\n",
        "\n",
        "singleton.take(20)"
      ],
      "metadata": {
        "id": "bfa40RztBSiX",
        "colab": {
          "base_uri": "https://localhost:8080/"
        },
        "outputId": "a88e8b0f-1851-4ec0-9747-104b78916b7b"
      },
      "execution_count": 153,
      "outputs": [
        {
          "output_type": "execute_result",
          "data": {
            "text/plain": [
              "[('ukraineunderattaсk', 27),\n",
              " ('russianinvasion', 20),\n",
              " ('standwithukraine', 51),\n",
              " ('ukrainewillwin', 22),\n",
              " ('stopputin', 26),\n",
              " ('russianukrainianwar', 29),\n",
              " ('russiagohome', 20),\n",
              " ('нетвойне', 20),\n",
              " ('taiwan', 1),\n",
              " ('anonymous', 11),\n",
              " ('ddosecrets', 2),\n",
              " ('netde', 1),\n",
              " ('delaware', 1),\n",
              " ('usa', 5),\n",
              " ('ukraineinvasion', 2),\n",
              " ('moscow', 4),\n",
              " ('putin', 32),\n",
              " ('medvedev', 1),\n",
              " ('russianarmy', 2),\n",
              " ('soviet', 2)]"
            ]
          },
          "metadata": {},
          "execution_count": 153
        }
      ]
    },
    {
      "cell_type": "markdown",
      "source": [
        "## PHASE 2"
      ],
      "metadata": {
        "id": "zTf4gpkfmdsL"
      }
    },
    {
      "cell_type": "code",
      "source": [
        "#step 2: filter out all the non frequent singleton\n",
        "freq_singleton=singleton.filter(lambda x: x[1]>=threshold)\n",
        "\n",
        "freq_singleton.take(20)"
      ],
      "metadata": {
        "id": "7DPrIUNDBSjg",
        "colab": {
          "base_uri": "https://localhost:8080/"
        },
        "outputId": "79c3b236-a887-4d01-9981-cc194b062d7f"
      },
      "execution_count": 154,
      "outputs": [
        {
          "output_type": "execute_result",
          "data": {
            "text/plain": [
              "[('ukraineunderattaсk', 27),\n",
              " ('russianinvasion', 20),\n",
              " ('standwithukraine', 51),\n",
              " ('ukrainewillwin', 22),\n",
              " ('stopputin', 26),\n",
              " ('russianukrainianwar', 29),\n",
              " ('russiagohome', 20),\n",
              " ('нетвойне', 20),\n",
              " ('anonymous', 11),\n",
              " ('ddosecrets', 2),\n",
              " ('usa', 5),\n",
              " ('ukraineinvasion', 2),\n",
              " ('moscow', 4),\n",
              " ('putin', 32),\n",
              " ('russianarmy', 2),\n",
              " ('soviet', 2),\n",
              " ('ukrainian', 31),\n",
              " ('kharkiv', 4),\n",
              " ('peace', 4),\n",
              " ('zelensky', 7)]"
            ]
          },
          "metadata": {},
          "execution_count": 154
        }
      ]
    },
    {
      "cell_type": "code",
      "source": [
        "#step 3: now create all the possible pairs made up by frequen singletons\n",
        "\n",
        "from itertools import combinations\n",
        "pairs=list(combinations(freq_singleton.map(lambda x: x[0]).toLocalIterator(),2)) #without toLocalIterator error (reference https://stackoverflow.com/questions/32771737/convert-an-rdd-to-iterable-pyspark)\n",
        "\n",
        "pairs[:10]"
      ],
      "metadata": {
        "id": "6KAdkZPKXHeI",
        "colab": {
          "base_uri": "https://localhost:8080/"
        },
        "outputId": "6cf927a0-b6cd-488b-d269-f9d1ebbd4823"
      },
      "execution_count": 155,
      "outputs": [
        {
          "output_type": "execute_result",
          "data": {
            "text/plain": [
              "[('ukraineunderattaсk', 'russianinvasion'),\n",
              " ('ukraineunderattaсk', 'standwithukraine'),\n",
              " ('ukraineunderattaсk', 'ukrainewillwin'),\n",
              " ('ukraineunderattaсk', 'stopputin'),\n",
              " ('ukraineunderattaсk', 'russianukrainianwar'),\n",
              " ('ukraineunderattaсk', 'russiagohome'),\n",
              " ('ukraineunderattaсk', 'нетвойне'),\n",
              " ('ukraineunderattaсk', 'anonymous'),\n",
              " ('ukraineunderattaсk', 'ddosecrets'),\n",
              " ('ukraineunderattaсk', 'usa')]"
            ]
          },
          "metadata": {},
          "execution_count": 155
        }
      ]
    },
    {
      "cell_type": "markdown",
      "source": [
        "### prima implementazione apriori phase 2 counting"
      ],
      "metadata": {
        "id": "dQrbd50bVez6"
      }
    },
    {
      "cell_type": "code",
      "source": [
        "#step 4 : filter out the non frequent pairs\n",
        "pairs_freq_sing=basket_file.map(lambda x: list(combinations(x,2)))  #per ogni basket, creo ogni possiblie coppia\n",
        "\n",
        "#flat and count and reduce\n",
        "flat_pairs=singleton=pairs_freq_sing.flatMap(list).map(lambda item: (item,1)).reduceByKey(lambda a,b: a+b)\n",
        "flat_pairs.take(5)"
      ],
      "metadata": {
        "id": "24q2UuXg1NwH",
        "colab": {
          "base_uri": "https://localhost:8080/"
        },
        "outputId": "cc47d8a1-7497-4d44-d36e-1704083f85f7"
      },
      "execution_count": 156,
      "outputs": [
        {
          "output_type": "execute_result",
          "data": {
            "text/plain": [
              "[(('protectuаsky', 'stoprussia'), 20),\n",
              " (('russianinvasion', 'standwithukraine'), 20),\n",
              " (('russianinvasion', 'ukrainewillwin'), 20),\n",
              " (('russianinvasion', 'stopputin'), 20),\n",
              " (('russianinvasion', 'russianukrainianwar'), 20)]"
            ]
          },
          "metadata": {},
          "execution_count": 156
        }
      ]
    },
    {
      "cell_type": "code",
      "source": [
        "#step 5: finally filetr out the pairs < thresold\n",
        "freq_pairs=flat_pairs.filter(lambda x: x[1]>=threshold)\n",
        "\n",
        "freq_pairs.collect()"
      ],
      "metadata": {
        "id": "eTzbS55W3O32",
        "colab": {
          "base_uri": "https://localhost:8080/"
        },
        "outputId": "8fa3789e-da98-4f45-f344-1b132e35da29"
      },
      "execution_count": 157,
      "outputs": [
        {
          "output_type": "execute_result",
          "data": {
            "text/plain": [
              "[(('protectuаsky', 'stoprussia'), 20),\n",
              " (('russianinvasion', 'standwithukraine'), 20),\n",
              " (('russianinvasion', 'ukrainewillwin'), 20),\n",
              " (('russianinvasion', 'stopputin'), 20),\n",
              " (('russianinvasion', 'russianukrainianwar'), 20),\n",
              " (('russianinvasion', 'russiagohome'), 20),\n",
              " (('russianinvasion', 'нетвойне'), 20),\n",
              " (('standwithukraine', 'ukrainewillwin'), 20),\n",
              " (('standwithukraine', 'stopputin'), 22),\n",
              " (('standwithukraine', 'russianukrainianwar'), 20),\n",
              " (('standwithukraine', 'russiagohome'), 20),\n",
              " (('standwithukraine', 'нетвойне'), 20),\n",
              " (('ukraineunderattack', 'putinisawarcriminal'), 20),\n",
              " (('ukraineunderattack', 'россиясмотри'), 20),\n",
              " (('ukrainewillwin', 'stopputin'), 20),\n",
              " (('ukrainewillwin', 'russianukrainianwar'), 20),\n",
              " (('ukrainewillwin', 'russiagohome'), 20),\n",
              " (('ukrainewillwin', 'нетвойне'), 20),\n",
              " (('putinisawarcriminal', 'россиясмотри'), 20),\n",
              " (('stopputin', 'russianukrainianwar'), 20),\n",
              " (('stopputin', 'russiagohome'), 20),\n",
              " (('stopputin', 'нетвойне'), 20),\n",
              " (('russianukrainianwar', 'russiagohome'), 20),\n",
              " (('russianukrainianwar', 'нетвойне'), 20),\n",
              " (('russiagohome', 'нетвойне'), 20),\n",
              " (('anonymous', 'ddosecrets'), 2),\n",
              " (('nft', 'mint'), 32),\n",
              " (('russia', 'ukraine'), 18),\n",
              " (('ukraine', 'ukrainewar'), 7),\n",
              " (('ukraine', 'russia'), 12),\n",
              " (('ukrainewar', 'russia'), 2),\n",
              " (('soviet', 'ukrainian'), 2),\n",
              " (('soviet', 'kharkiv'), 2),\n",
              " (('berlin', 'russian'), 2),\n",
              " (('ukrainian', 'kharkiv'), 2),\n",
              " (('ukraine', 'war'), 5),\n",
              " (('war', 'russia'), 2),\n",
              " (('exclusive', 'russiaukrainewar'), 2),\n",
              " (('itvideo', 're'), 2),\n",
              " (('putin', 'russiaukrainewar'), 2),\n",
              " (('russia', 'war'), 3),\n",
              " (('ukraine', 'kyiv'), 22),\n",
              " (('ukrainewar', 'tigray'), 3),\n",
              " (('ukrainewar', '500daysoftigraygenocide'), 3),\n",
              " (('tigray', '500daysoftigraygenocide'), 3),\n",
              " (('ukraineunderattaсk', 'stopputin'), 2),\n",
              " (('ukraineunderattaсk', 'sendinthetroops'), 2),\n",
              " (('stopputin', 'sendinthetroops'), 2),\n",
              " (('biden', 'trump'), 2),\n",
              " (('freeukraine', 'weareallukrainians'), 2),\n",
              " (('freeukraine', 'standwithukraine'), 4),\n",
              " (('freeukraine', 'stopthewar'), 2),\n",
              " (('freeukraine', 'united'), 2),\n",
              " (('freeukraine', 'stopwar'), 2),\n",
              " (('weareallukrainians', 'standwithukraine'), 2),\n",
              " (('weareallukrainians', 'stopthewar'), 2),\n",
              " (('weareallukrainians', 'united'), 2),\n",
              " (('weareallukrainians', 'stopwar'), 2),\n",
              " (('standwithukraine', 'stopthewar'), 2),\n",
              " (('standwithukraine', 'united'), 2),\n",
              " (('standwithukraine', 'stopwar'), 2),\n",
              " (('stopthewar', 'united'), 2),\n",
              " (('stopthewar', 'stopwar'), 2),\n",
              " (('united', 'stopwar'), 2),\n",
              " (('gas', 'energy'), 10),\n",
              " (('gas', 'coal'), 10),\n",
              " (('settodraw', 'tanzaniaproject'), 10),\n",
              " (('settodraw', 'africa'), 10),\n",
              " (('settodraw', 'mining'), 10),\n",
              " (('tanzaniaproject', 'africa'), 10),\n",
              " (('tanzaniaproject', 'mining'), 10),\n",
              " (('africa', 'mining'), 10),\n",
              " (('energy', 'coal'), 10),\n",
              " (('ukraineian', 'russia'), 2),\n",
              " (('tlav', 'rokfin'), 2),\n",
              " (('johnsonout67', 'putinsbrexit'), 8),\n",
              " (('johnsonout67', 'carolecadwalladrforhouseoflords'), 8),\n",
              " (('johnsonout67', 'slavaukraini'), 8),\n",
              " (('putinsbrexit', 'carolecadwalladrforhouseoflords'), 8),\n",
              " (('putinsbrexit', 'slavaukraini'), 8),\n",
              " (('carolecadwalladrforhouseoflords', 'slavaukraini'), 8),\n",
              " (('russia', 'ukrainewar'), 3),\n",
              " (('nftcommunity', 'nftdrop'), 4),\n",
              " (('nft', 'nftgiveaway'), 4),\n",
              " (('mint', 'nftgiveaway'), 4),\n",
              " (('biden', 'bidenisafailure'), 2),\n",
              " (('russian', 'ukraine'), 8),\n",
              " (('russian', 'biden'), 2),\n",
              " (('ukraine', 'biden'), 2),\n",
              " (('ukraine', 'stoprussia'), 3),\n",
              " (('russia', 'biden'), 2),\n",
              " (('russia', 'kyiv'), 2),\n",
              " (('war', 'ukrainewar'), 2),\n",
              " (('war', 'kyiv'), 2),\n",
              " (('ukrainewar', 'kyiv'), 2),\n",
              " (('nft', 'eth'), 2),\n",
              " (('nft', '0xbaec'), 2),\n",
              " (('nft', 'nftart'), 2),\n",
              " (('nft', 'nftproject'), 3),\n",
              " (('nft', 'nfts'), 2),\n",
              " (('mint', 'eth'), 2),\n",
              " (('mint', '0xbaec'), 2),\n",
              " (('mint', 'nftart'), 2),\n",
              " (('mint', 'nftproject'), 2),\n",
              " (('mint', 'nfts'), 2),\n",
              " (('airdrop', 'nftcommunity'), 2),\n",
              " (('airdrop', 'nftcollectible'), 2),\n",
              " (('airdrop', 'bayc'), 2),\n",
              " (('airdrop', 'nftdrop'), 2),\n",
              " (('eth', '0xbaec'), 2),\n",
              " (('eth', 'nftart'), 2),\n",
              " (('eth', 'nftproject'), 2),\n",
              " (('eth', 'nftgiveaway'), 2),\n",
              " (('eth', 'nfts'), 2),\n",
              " (('nftcommunity', 'nftcollectible'), 2),\n",
              " (('nftcommunity', 'bayc'), 2),\n",
              " (('nftcollectible', 'bayc'), 2),\n",
              " (('nftcollectible', 'nftdrop'), 2),\n",
              " (('bayc', 'nftdrop'), 2),\n",
              " (('0xbaec', 'nftart'), 2),\n",
              " (('0xbaec', 'nftproject'), 2),\n",
              " (('0xbaec', 'nftgiveaway'), 2),\n",
              " (('0xbaec', 'nfts'), 2),\n",
              " (('nftart', 'nftproject'), 2),\n",
              " (('nftart', 'nftgiveaway'), 2),\n",
              " (('nftart', 'nfts'), 2),\n",
              " (('nftproject', 'nftgiveaway'), 2),\n",
              " (('nftproject', 'nfts'), 2),\n",
              " (('nftgiveaway', 'nfts'), 2),\n",
              " (('ukrainian', 'sumy'), 5),\n",
              " (('ukrainian', 'kherson'), 13),\n",
              " (('sumy', 'kherson'), 4),\n",
              " (('voteno', 'tigraycantwait'), 8),\n",
              " (('mariupol', 'savemariupol'), 4),\n",
              " (('joebiden', 'vladimirputin'), 2),\n",
              " (('stoprussia', 'russiakills'), 2),\n",
              " (('standwithukraine', 'stoprussianaggression'), 3),\n",
              " (('stoprussianaggression', 'stopputin'), 2),\n",
              " (('tigray', 'ukraine'), 6),\n",
              " (('tigray', 'supporthr6600'), 6),\n",
              " (('ukraine', 'supporthr6600'), 7),\n",
              " (('china', 'russia'), 2),\n",
              " (('china', 'un'), 2),\n",
              " (('russia', 'un'), 3),\n",
              " (('ukrainerussiawar', 'russianukrainianwar'), 2),\n",
              " (('thereidout', 'ukraine'), 4),\n",
              " (('ukraine', 'russian'), 4),\n",
              " (('ukraine', 'mint'), 5),\n",
              " (('ukraine', 'belarus'), 4),\n",
              " (('mariupol', 'ukrainian'), 2),\n",
              " (('standwithukraine', 'slavaukraine'), 3),\n",
              " (('biden', 'gas'), 6),\n",
              " (('biden', 'ukraine'), 6),\n",
              " (('biden', 'oil'), 6),\n",
              " (('gas', 'ukraine'), 6),\n",
              " (('gas', 'oil'), 6),\n",
              " (('ukraine', 'oil'), 6),\n",
              " (('anonymous', 'freeukraine'), 2),\n",
              " (('anonymous', 'standwithukraine'), 2),\n",
              " (('oprussia', 'ukraine'), 2),\n",
              " (('china', 'covid19'), 2),\n",
              " (('china', 'intellectualproperty'), 2),\n",
              " (('china', 'biden'), 2),\n",
              " (('ccp', 'americans'), 2),\n",
              " (('ccp', 'fentanyl'), 2),\n",
              " (('ccp', 'us'), 2),\n",
              " (('americans', 'fentanyl'), 2),\n",
              " (('americans', 'us'), 2),\n",
              " (('fentanyl', 'us'), 2),\n",
              " (('covid19', 'intellectualproperty'), 2),\n",
              " (('covid19', 'biden'), 2),\n",
              " (('intellectualproperty', 'biden'), 2),\n",
              " (('mariupol', 'warcrimes'), 3),\n",
              " (('warcrimes', 'savemariupol'), 3),\n",
              " (('russia', 'pakistan'), 3),\n",
              " (('war', 'ukraine'), 2),\n",
              " (('putin', 'ww3'), 3),\n",
              " (('warinukraine', 'harkiv'), 2),\n",
              " (('warinukraine', 'russianwarcrimes'), 2),\n",
              " (('harkiv', 'russianwarcrimes'), 2),\n",
              " (('ukraineunderattaсk', 'ukrainewillwin'), 2),\n",
              " (('putinwarcrimes', 'putinwarcriminal'), 5),\n",
              " (('russia', 'libya'), 3),\n",
              " (('chechnya', 'tiktok'), 2),\n",
              " (('kadyrovites', 'ukraine'), 2),\n",
              " (('ukrainian', 'nazis'), 2),\n",
              " (('eu', 'ukraine'), 2),\n",
              " (('putin', 'otancriminal'), 2),\n",
              " (('putin', 'newworldorder'), 2),\n",
              " (('putin', 'iraq'), 2),\n",
              " (('putin', 'yemen'), 2),\n",
              " (('putin', 'afghanistan'), 2),\n",
              " (('otancriminal', 'newworldorder'), 2),\n",
              " (('otancriminal', 'iraq'), 2),\n",
              " (('otancriminal', 'yemen'), 2),\n",
              " (('otancriminal', 'afghanistan'), 2),\n",
              " (('newworldorder', 'iraq'), 2),\n",
              " (('newworldorder', 'yemen'), 2),\n",
              " (('newworldorder', 'afghanistan'), 2),\n",
              " (('russia', 'syria'), 2),\n",
              " (('iraq', 'yemen'), 2),\n",
              " (('iraq', 'afghanistan'), 2),\n",
              " (('syria', 'libya'), 2),\n",
              " (('syria', 'pakistan'), 2),\n",
              " (('libya', 'pakistan'), 2),\n",
              " (('yemen', 'afghanistan'), 2),\n",
              " (('russia', 'tigray'), 2),\n",
              " (('ukraine', 'tigray'), 2),\n",
              " (('ic', 'tigray'), 3),\n",
              " (('gas', 'etc'), 2),\n",
              " (('gas', 'ong'), 2),\n",
              " (('gas', 'omg'), 2),\n",
              " (('gas', 'eos'), 2),\n",
              " (('gas', 'xlm'), 2),\n",
              " (('gas', 'bch'), 2),\n",
              " (('gas', 'ont'), 2),\n",
              " (('music', 'marvingaye'), 3),\n",
              " (('music', 'blues'), 3),\n",
              " (('music', 'standwithukraine'), 3),\n",
              " (('music', 'peace'), 3),\n",
              " (('soul', 'musica'), 3),\n",
              " (('soul', 'musique'), 3),\n",
              " (('marvingaye', 'blues'), 3),\n",
              " (('marvingaye', 'standwithukraine'), 3),\n",
              " (('marvingaye', 'peace'), 3),\n",
              " (('musica', 'musique'), 3),\n",
              " (('blues', 'standwithukraine'), 3),\n",
              " (('blues', 'peace'), 3),\n",
              " (('standwithukraine', 'peace'), 3),\n",
              " (('belarus', 'chernobyl'), 2),\n",
              " (('belarus', 'ukraine'), 2),\n",
              " (('chernobyl', 'ukraine'), 2),\n",
              " (('maps', 'luhansk'), 2),\n",
              " (('protectuаsky', 'ukraineunderattaсk'), 20),\n",
              " (('stoprussia', 'ukraineunderattaсk'), 20),\n",
              " (('russianinvasion', 'ukraineunderattack'), 20),\n",
              " (('russianinvasion', 'putinisawarcriminal'), 20),\n",
              " (('russianinvasion', 'россиясмотри'), 20),\n",
              " (('standwithukraine', 'ukraineunderattack'), 20),\n",
              " (('standwithukraine', 'putinisawarcriminal'), 20),\n",
              " (('standwithukraine', 'россиясмотри'), 20),\n",
              " (('ukraineunderattack', 'ukrainewillwin'), 20),\n",
              " (('ukraineunderattack', 'stopputin'), 20),\n",
              " (('ukraineunderattack', 'russianukrainianwar'), 20),\n",
              " (('ukraineunderattack', 'russiagohome'), 20),\n",
              " (('ukraineunderattack', 'нетвойне'), 20),\n",
              " (('ukrainewillwin', 'putinisawarcriminal'), 20),\n",
              " (('ukrainewillwin', 'россиясмотри'), 20),\n",
              " (('putinisawarcriminal', 'stopputin'), 20),\n",
              " (('putinisawarcriminal', 'russianukrainianwar'), 20),\n",
              " (('putinisawarcriminal', 'russiagohome'), 20),\n",
              " (('putinisawarcriminal', 'нетвойне'), 20),\n",
              " (('stopputin', 'россиясмотри'), 20),\n",
              " (('russianukrainianwar', 'россиясмотри'), 20),\n",
              " (('russiagohome', 'россиясмотри'), 20),\n",
              " (('россиясмотри', 'нетвойне'), 20),\n",
              " (('anonymous', 'oprussia'), 7),\n",
              " (('oprussia', 'ddosecrets'), 2),\n",
              " (('russia', 'usa'), 3),\n",
              " (('ukraine', 'usa'), 4),\n",
              " (('putin', 'russia'), 5),\n",
              " (('putin', 'ukraine'), 9),\n",
              " (('russia', 'putin'), 4),\n",
              " (('soviet', 'berlin'), 2),\n",
              " (('soviet', 'russian'), 2),\n",
              " (('berlin', 'ukrainian'), 2),\n",
              " (('berlin', 'kharkiv'), 2),\n",
              " (('ukrainian', 'russian'), 8),\n",
              " (('russian', 'kharkiv'), 2),\n",
              " (('anonymous', 'ukraine'), 3),\n",
              " (('russia', 'russianukrainianwar'), 2),\n",
              " (('ukraine', 'russianukrainianwar'), 3),\n",
              " (('ukraine', 'putin'), 3),\n",
              " (('ukraine', 'zelensky'), 7),\n",
              " (('ukraine', 'news'), 2),\n",
              " (('war', 'putin'), 2),\n",
              " (('war', 'news'), 2),\n",
              " (('russia', 'news'), 2),\n",
              " (('exclusive', 'itvideo'), 2),\n",
              " (('exclusive', 're'), 2),\n",
              " (('itvideo', 'russiaukrainewar'), 2),\n",
              " (('russiaukrainewar', 're'), 2),\n",
              " (('putin', 'oil'), 7),\n",
              " (('government', 'russiaukrainewar'), 2),\n",
              " (('russia', 'russiaukrainewar'), 3),\n",
              " (('ukraine', 'mariupol'), 2),\n",
              " (('putin', 'gas'), 5),\n",
              " (('ukraine', 'ukrainerussianwar'), 6),\n",
              " (('ukraineunderattaсk', 'ukraine'), 2),\n",
              " (('ukraine', 'stopputin'), 2),\n",
              " (('ukraine', 'sendinthetroops'), 2),\n",
              " (('sjaishankar', 'ukrainerussiawar'), 2),\n",
              " (('freeukraine', 'standtogether'), 2),\n",
              " (('freeukraine', 'ukraine'), 2),\n",
              " (('weareallukrainians', 'standtogether'), 2),\n",
              " (('weareallukrainians', 'ukraine'), 2),\n",
              " (('standwithukraine', 'standtogether'), 2),\n",
              " (('standwithukraine', 'ukraine'), 2),\n",
              " (('stopthewar', 'standtogether'), 2),\n",
              " (('stopthewar', 'ukraine'), 2),\n",
              " (('united', 'standtogether'), 2),\n",
              " (('standtogether', 'stopwar'), 2),\n",
              " (('gas', 'settodraw'), 10),\n",
              " (('gas', 'tanzaniaproject'), 10),\n",
              " (('gas', 'africa'), 10),\n",
              " (('gas', 'mining'), 10),\n",
              " (('settodraw', 'energy'), 10),\n",
              " (('settodraw', 'coal'), 10),\n",
              " (('tanzaniaproject', 'energy'), 10),\n",
              " (('tanzaniaproject', 'coal'), 10),\n",
              " (('africa', 'energy'), 10),\n",
              " (('africa', 'coal'), 10),\n",
              " (('energy', 'mining'), 10),\n",
              " (('coal', 'mining'), 10),\n",
              " (('ukraine', 'tlav'), 4),\n",
              " (('ukraine', 'rokfin'), 2),\n",
              " (('johnsonout67', 'sendkgblordtosiberia'), 8),\n",
              " (('putinsbrexit', 'sendkgblordtosiberia'), 8),\n",
              " (('carolecadwalladrforhouseoflords', 'sendkgblordtosiberia'), 8),\n",
              " (('sendkgblordtosiberia', 'slavaukraini'), 8),\n",
              " (('nftcommunity', 'mint'), 2),\n",
              " (('nftcommunity', 'nftgiveaway'), 4),\n",
              " (('nft', 'nftdrop'), 4),\n",
              " (('mint', 'nftdrop'), 4),\n",
              " (('nftgiveaway', 'nftdrop'), 4),\n",
              " (('stoprussia', 'standwithukraine'), 4),\n",
              " (('biden', 'freeiran2022'), 2),\n",
              " (('freeiran2022', 'bidenisafailure'), 2),\n",
              " (('russian', 'us'), 2),\n",
              " (('us', 'biden'), 3),\n",
              " (('news', 'biden'), 2),\n",
              " (('ukraine', 'ukrainerussiawar'), 16),\n",
              " (('usa', 'war'), 2),\n",
              " (('nft', 'airdrop'), 2),\n",
              " (('nft', 'nftcommunity'), 4),\n",
              " (('nft', 'nftcollectible'), 2),\n",
              " (('nft', 'bayc'), 2),\n",
              " (('mint', 'airdrop'), 2),\n",
              " (('mint', 'nftcommunity'), 2),\n",
              " (('mint', 'nftcollectible'), 2),\n",
              " (('mint', 'bayc'), 2),\n",
              " (('airdrop', 'eth'), 2),\n",
              " (('airdrop', '0xbaec'), 2),\n",
              " (('airdrop', 'nftart'), 2),\n",
              " (('airdrop', 'nftproject'), 2),\n",
              " (('airdrop', 'nftgiveaway'), 2),\n",
              " (('airdrop', 'nfts'), 2),\n",
              " (('eth', 'nftcommunity'), 2),\n",
              " (('eth', 'nftcollectible'), 2),\n",
              " (('eth', 'bayc'), 2),\n",
              " (('eth', 'nftdrop'), 2),\n",
              " (('nftcommunity', '0xbaec'), 2),\n",
              " (('nftcommunity', 'nftart'), 2),\n",
              " (('nftcommunity', 'nftproject'), 2),\n",
              " (('nftcommunity', 'nfts'), 2),\n",
              " (('nftcollectible', '0xbaec'), 2),\n",
              " (('nftcollectible', 'nftart'), 2),\n",
              " (('nftcollectible', 'nftproject'), 2),\n",
              " (('nftcollectible', 'nftgiveaway'), 2),\n",
              " (('nftcollectible', 'nfts'), 2),\n",
              " (('bayc', '0xbaec'), 2),\n",
              " (('bayc', 'nftart'), 2),\n",
              " (('bayc', 'nftproject'), 2),\n",
              " (('bayc', 'nftgiveaway'), 2),\n",
              " (('bayc', 'nfts'), 2),\n",
              " (('0xbaec', 'nftdrop'), 2),\n",
              " (('nftart', 'nftdrop'), 2),\n",
              " (('nftproject', 'nftdrop'), 2),\n",
              " (('nfts', 'nftdrop'), 2),\n",
              " (('ukrainian', 'kyiv'), 6),\n",
              " (('kyiv', 'sumy'), 4),\n",
              " (('kyiv', 'kherson'), 4),\n",
              " (('ukraine', 'voteno'), 8),\n",
              " (('ukraine', 'tigraycantwait'), 8),\n",
              " (('russia', 'ukrainian'), 2),\n",
              " (('ukraine', 'chernihiv'), 7),\n",
              " (('joebiden', 'russia'), 2),\n",
              " (('russia', 'vladimirputin'), 2),\n",
              " (('stoprussia', 'stoprussianaggression'), 3),\n",
              " (('stoprussia', 'stopputin'), 2),\n",
              " (('standwithukraine', 'russiakills'), 2),\n",
              " (('stoprussianaggression', 'russiakills'), 2),\n",
              " (('russiakills', 'stopputin'), 2),\n",
              " (('tigray', 'tigraygenocide'), 6),\n",
              " (('ukraine', 'tigraygenocide'), 7),\n",
              " (('tigraygenocide', 'supporthr6600'), 7),\n",
              " (('ukrainerussiawar', 'ukraine'), 2),\n",
              " (('biden', 'bidencrimefamilly'), 4),\n",
              " (('ukraine', 'ukrainian'), 2),\n",
              " (('ukrainerussiawar', 'mint'), 5),\n",
              " (('biden', 'putin'), 6),\n",
              " (('gas', 'putin'), 6),\n",
              " (('oprussia', 'freeukraine'), 2),\n",
              " (('oprussia', 'standwithukraine'), 2),\n",
              " (('ukraine', 'freeukraine'), 2),\n",
              " (('ukraine', 'standwithukraine'), 5),\n",
              " (('china', 'ccp'), 2),\n",
              " (('china', 'americans'), 2),\n",
              " (('china', 'fentanyl'), 2),\n",
              " (('china', 'us'), 2),\n",
              " (('ccp', 'covid19'), 2),\n",
              " (('ccp', 'intellectualproperty'), 2),\n",
              " (('ccp', 'biden'), 2),\n",
              " (('americans', 'covid19'), 2),\n",
              " (('americans', 'intellectualproperty'), 2),\n",
              " (('americans', 'biden'), 2),\n",
              " (('fentanyl', 'covid19'), 2),\n",
              " (('fentanyl', 'intellectualproperty'), 2),\n",
              " (('fentanyl', 'biden'), 2),\n",
              " (('covid19', 'us'), 2),\n",
              " (('us', 'intellectualproperty'), 2),\n",
              " (('mariupol', 'russian'), 2),\n",
              " (('ukraine', 'zelenskyy'), 2),\n",
              " (('armenia', 'russia'), 2),\n",
              " (('armenia', 'ukraine'), 2),\n",
              " (('ukraine', 'russiaukrainewar'), 4),\n",
              " (('war', 'ukrainerussianwar'), 2),\n",
              " (('kyiv', 'chernihiv'), 3),\n",
              " (('ukraine', 'luhansk'), 3),\n",
              " (('warinukraine', 'ukraineunderattaсk'), 2),\n",
              " (('warinukraine', 'ukrainewillwin'), 2),\n",
              " (('harkiv', 'ukraineunderattaсk'), 2),\n",
              " (('harkiv', 'ukrainewillwin'), 2),\n",
              " (('russianwarcrimes', 'ukraineunderattaсk'), 2),\n",
              " (('russianwarcrimes', 'ukrainewillwin'), 2),\n",
              " (('odessa', 'ukraine'), 2),\n",
              " (('chechnya', 'kadyrovites'), 2),\n",
              " (('chechnya', 'ukraine'), 2),\n",
              " (('kadyrovites', 'tiktok'), 2),\n",
              " (('tiktok', 'ukraine'), 2),\n",
              " (('mariupol', 'ukraine'), 3),\n",
              " (('ukrainian', 'ukraine'), 3),\n",
              " (('nazis', 'russian'), 2),\n",
              " (('russiaukrainewar', 'russiaukraineconflict'), 2),\n",
              " (('putin', 'syria'), 2),\n",
              " (('putin', 'libya'), 2),\n",
              " (('putin', 'pakistan'), 2),\n",
              " (('otancriminal', 'russia'), 2),\n",
              " (('otancriminal', 'syria'), 2),\n",
              " (('otancriminal', 'libya'), 2),\n",
              " (('otancriminal', 'pakistan'), 2),\n",
              " (('newworldorder', 'russia'), 2),\n",
              " (('newworldorder', 'syria'), 2),\n",
              " (('newworldorder', 'libya'), 2),\n",
              " (('newworldorder', 'pakistan'), 2),\n",
              " (('russia', 'iraq'), 2),\n",
              " (('russia', 'yemen'), 2),\n",
              " (('russia', 'afghanistan'), 2),\n",
              " (('iraq', 'syria'), 2),\n",
              " (('iraq', 'libya'), 2),\n",
              " (('iraq', 'pakistan'), 2),\n",
              " (('syria', 'yemen'), 2),\n",
              " (('syria', 'afghanistan'), 2),\n",
              " (('libya', 'yemen'), 2),\n",
              " (('libya', 'afghanistan'), 2),\n",
              " (('yemen', 'pakistan'), 2),\n",
              " (('pakistan', 'afghanistan'), 2),\n",
              " (('tigray', 'endtigraysiege'), 2),\n",
              " (('ukraine', 'poland'), 2),\n",
              " (('gas', 'theta'), 2),\n",
              " (('gas', 'xem'), 2),\n",
              " (('gas', 'mtl'), 2),\n",
              " (('music', 'soul'), 3),\n",
              " (('music', 'musica'), 3),\n",
              " (('music', 'musique'), 3),\n",
              " (('soul', 'marvingaye'), 3),\n",
              " (('soul', 'blues'), 3),\n",
              " (('soul', 'standwithukraine'), 3),\n",
              " (('soul', 'peace'), 3),\n",
              " (('marvingaye', 'musica'), 3),\n",
              " (('marvingaye', 'musique'), 3),\n",
              " (('musica', 'blues'), 3),\n",
              " (('musica', 'standwithukraine'), 3),\n",
              " (('musica', 'peace'), 3),\n",
              " (('musique', 'blues'), 3),\n",
              " (('musique', 'standwithukraine'), 3),\n",
              " (('musique', 'peace'), 3),\n",
              " (('russiaukraineconflict', 'ukrainerussiawar'), 2),\n",
              " (('belarus', 'ukrainian'), 2),\n",
              " (('ukrainian', 'chernobyl'), 2),\n",
              " (('maps', 'russian'), 2),\n",
              " (('maps', 'ukraine'), 2),\n",
              " (('russian', 'luhansk'), 2),\n",
              " (('kyiv', 'ukrainerussiawar'), 2)]"
            ]
          },
          "metadata": {},
          "execution_count": 157
        }
      ]
    },
    {
      "cell_type": "markdown",
      "source": [
        "### altra implementazione apriori secondo pass counting"
      ],
      "metadata": {
        "id": "QCTiCCvHVU6P"
      }
    },
    {
      "cell_type": "code",
      "source": [
        "#flatmap so I get all the prev computed pairs in only 1 list to be able to perform reduceByKey\n",
        "flatted_couples = basket_file.map(lambda x: [(pair,1) for pair in pairs if set(pair).issubset(set(x))]).flatMap(lambda x: x).cache()"
      ],
      "metadata": {
        "id": "6p-YU19T69V4"
      },
      "execution_count": 158,
      "outputs": []
    },
    {
      "cell_type": "code",
      "source": [
        "reduced_elements = flatted_couples.reduceByKey(lambda a, b: a + b)"
      ],
      "metadata": {
        "id": "ch6049fVIQoD"
      },
      "execution_count": 159,
      "outputs": []
    },
    {
      "cell_type": "code",
      "source": [
        "freq_pairs = reduced_elements.filter(lambda x : x[1] >= threshold).cache()"
      ],
      "metadata": {
        "id": "wWse1N1Mr_jd"
      },
      "execution_count": 160,
      "outputs": []
    },
    {
      "cell_type": "code",
      "source": [
        "freq_pairs.collect()"
      ],
      "metadata": {
        "colab": {
          "base_uri": "https://localhost:8080/"
        },
        "id": "yIuSdsWEOhUS",
        "outputId": "4c4a8053-3b42-4287-8448-d914e1f87339"
      },
      "execution_count": 161,
      "outputs": [
        {
          "output_type": "execute_result",
          "data": {
            "text/plain": [
              "[(('protectuаsky', 'stoprussia'), 20),\n",
              " (('russianinvasion', 'standwithukraine'), 20),\n",
              " (('russianinvasion', 'ukrainewillwin'), 20),\n",
              " (('russianinvasion', 'stopputin'), 20),\n",
              " (('russianinvasion', 'russianukrainianwar'), 20),\n",
              " (('russianinvasion', 'russiagohome'), 20),\n",
              " (('russianinvasion', 'нетвойне'), 20),\n",
              " (('standwithukraine', 'ukrainewillwin'), 20),\n",
              " (('standwithukraine', 'stopputin'), 23),\n",
              " (('standwithukraine', 'russianukrainianwar'), 20),\n",
              " (('standwithukraine', 'russiagohome'), 20),\n",
              " (('standwithukraine', 'нетвойне'), 20),\n",
              " (('ukrainewillwin', 'stopputin'), 20),\n",
              " (('ukrainewillwin', 'russianukrainianwar'), 20),\n",
              " (('ukrainewillwin', 'russiagohome'), 20),\n",
              " (('ukrainewillwin', 'нетвойне'), 20),\n",
              " (('stopputin', 'russianukrainianwar'), 20),\n",
              " (('stopputin', 'russiagohome'), 20),\n",
              " (('stopputin', 'нетвойне'), 20),\n",
              " (('russianukrainianwar', 'russiagohome'), 20),\n",
              " (('russianukrainianwar', 'нетвойне'), 20),\n",
              " (('russiagohome', 'нетвойне'), 20),\n",
              " (('ukraineunderattack', 'putinisawarcriminal'), 20),\n",
              " (('ukraineunderattack', 'россиясмотри'), 20),\n",
              " (('putinisawarcriminal', 'россиясмотри'), 20),\n",
              " (('anonymous', 'ddosecrets'), 2),\n",
              " (('nft', 'mint'), 33),\n",
              " (('russia', 'ukraine'), 29),\n",
              " (('russia', 'government'), 2),\n",
              " (('russia', 'ukrainewar'), 5),\n",
              " (('ukraine', 'ukrainewar'), 7),\n",
              " (('soviet', 'ukrainian'), 2),\n",
              " (('soviet', 'kharkiv'), 2),\n",
              " (('ukrainian', 'kharkiv'), 2),\n",
              " (('russian', 'berlin'), 2),\n",
              " (('putin', 'news'), 2),\n",
              " (('russia', 'war'), 5),\n",
              " (('ukraine', 'war'), 7),\n",
              " (('exclusive', 'russiaukrainewar'), 2),\n",
              " (('itvideo', 're'), 2),\n",
              " (('putin', 'russiaukrainewar'), 2),\n",
              " (('ukraine', 'kyiv'), 22),\n",
              " (('ukrainewar', 'tigray'), 3),\n",
              " (('ukrainewar', '500daysoftigraygenocide'), 3),\n",
              " (('tigray', '500daysoftigraygenocide'), 3),\n",
              " (('ukraineunderattaсk', 'stopputin'), 2),\n",
              " (('ukraineunderattaсk', 'sendinthetroops'), 2),\n",
              " (('stopputin', 'sendinthetroops'), 2),\n",
              " (('biden', 'trump'), 3),\n",
              " (('standwithukraine', 'freeukraine'), 4),\n",
              " (('standwithukraine', 'weareallukrainians'), 2),\n",
              " (('standwithukraine', 'stopthewar'), 2),\n",
              " (('standwithukraine', 'united'), 2),\n",
              " (('standwithukraine', 'stopwar'), 2),\n",
              " (('freeukraine', 'weareallukrainians'), 2),\n",
              " (('freeukraine', 'stopthewar'), 2),\n",
              " (('freeukraine', 'united'), 2),\n",
              " (('freeukraine', 'stopwar'), 2),\n",
              " (('weareallukrainians', 'stopthewar'), 2),\n",
              " (('weareallukrainians', 'united'), 2),\n",
              " (('weareallukrainians', 'stopwar'), 2),\n",
              " (('stopthewar', 'united'), 2),\n",
              " (('stopthewar', 'stopwar'), 2),\n",
              " (('united', 'stopwar'), 2),\n",
              " (('ukraine', 'standtogether'), 2),\n",
              " (('settodraw', 'tanzaniaproject'), 10),\n",
              " (('settodraw', 'africa'), 10),\n",
              " (('settodraw', 'mining'), 10),\n",
              " (('tanzaniaproject', 'africa'), 10),\n",
              " (('tanzaniaproject', 'mining'), 10),\n",
              " (('africa', 'mining'), 10),\n",
              " (('gas', 'energy'), 10),\n",
              " (('gas', 'coal'), 10),\n",
              " (('energy', 'coal'), 10),\n",
              " (('russia', 'ukraineian'), 2),\n",
              " (('tlav', 'rokfin'), 2),\n",
              " (('slavaukraini', 'johnsonout67'), 8),\n",
              " (('slavaukraini', 'putinsbrexit'), 8),\n",
              " (('slavaukraini', 'carolecadwalladrforhouseoflords'), 8),\n",
              " (('johnsonout67', 'putinsbrexit'), 8),\n",
              " (('johnsonout67', 'carolecadwalladrforhouseoflords'), 8),\n",
              " (('putinsbrexit', 'carolecadwalladrforhouseoflords'), 8),\n",
              " (('nftcommunity', 'nftdrop'), 4),\n",
              " (('nft', 'nftgiveaway'), 4),\n",
              " (('mint', 'nftgiveaway'), 4),\n",
              " (('biden', 'bidenisafailure'), 2),\n",
              " (('ukraine', 'russian'), 11),\n",
              " (('ukraine', 'biden'), 8),\n",
              " (('russian', 'biden'), 2),\n",
              " (('stoprussia', 'ukraine'), 4),\n",
              " (('putin', 'ukrainerussiawar'), 2),\n",
              " (('russia', 'kyiv'), 2),\n",
              " (('russia', 'biden'), 2),\n",
              " (('ukrainewar', 'war'), 2),\n",
              " (('ukrainewar', 'kyiv'), 3),\n",
              " (('war', 'kyiv'), 2),\n",
              " (('nftcommunity', 'airdrop'), 2),\n",
              " (('nftcommunity', 'nftcollectible'), 2),\n",
              " (('nftcommunity', 'bayc'), 2),\n",
              " (('nftdrop', 'airdrop'), 2),\n",
              " (('nftdrop', 'nftcollectible'), 2),\n",
              " (('nftdrop', 'bayc'), 2),\n",
              " (('airdrop', 'nftcollectible'), 2),\n",
              " (('airdrop', 'bayc'), 2),\n",
              " (('nftcollectible', 'bayc'), 2),\n",
              " (('nft', 'eth'), 3),\n",
              " (('nft', '0xbaec'), 2),\n",
              " (('nft', 'nftart'), 2),\n",
              " (('nft', 'nftproject'), 3),\n",
              " (('nft', 'nfts'), 3),\n",
              " (('mint', 'eth'), 3),\n",
              " (('mint', '0xbaec'), 2),\n",
              " (('mint', 'nftart'), 2),\n",
              " (('mint', 'nftproject'), 3),\n",
              " (('mint', 'nfts'), 2),\n",
              " (('nftgiveaway', 'eth'), 2),\n",
              " (('nftgiveaway', '0xbaec'), 2),\n",
              " (('nftgiveaway', 'nftart'), 2),\n",
              " (('nftgiveaway', 'nftproject'), 2),\n",
              " (('nftgiveaway', 'nfts'), 2),\n",
              " (('eth', '0xbaec'), 2),\n",
              " (('eth', 'nftart'), 2),\n",
              " (('eth', 'nftproject'), 2),\n",
              " (('eth', 'nfts'), 2),\n",
              " (('0xbaec', 'nftart'), 2),\n",
              " (('0xbaec', 'nftproject'), 2),\n",
              " (('0xbaec', 'nfts'), 2),\n",
              " (('nftart', 'nftproject'), 2),\n",
              " (('nftart', 'nfts'), 2),\n",
              " (('nftproject', 'nfts'), 2),\n",
              " (('ukrainian', 'sumy'), 5),\n",
              " (('ukrainian', 'kherson'), 14),\n",
              " (('sumy', 'kherson'), 4),\n",
              " (('voteno', 'tigraycantwait'), 8),\n",
              " (('mariupol', 'savemariupol'), 4),\n",
              " (('vladimirputin', 'joebiden'), 2),\n",
              " (('standwithukraine', 'stoprussianaggression'), 3),\n",
              " (('stopputin', 'stoprussianaggression'), 2),\n",
              " (('stoprussia', 'russiakills'), 2),\n",
              " (('ukraine', 'tigray'), 7),\n",
              " (('ukraine', 'supporthr6600'), 7),\n",
              " (('tigray', 'supporthr6600'), 6),\n",
              " (('russia', 'un'), 3),\n",
              " (('russianukrainianwar', 'ukrainerussiawar'), 2),\n",
              " (('ukraine', 'thereidout'), 4),\n",
              " (('mint', 'ukraine'), 5),\n",
              " (('ukraine', 'belarus'), 6),\n",
              " (('ukrainian', 'mariupol'), 2),\n",
              " (('standwithukraine', 'slavaukraine'), 3),\n",
              " (('ukraine', 'oil'), 6),\n",
              " (('ukraine', 'gas'), 7),\n",
              " (('oil', 'gas'), 7),\n",
              " (('oil', 'biden'), 6),\n",
              " (('gas', 'biden'), 6),\n",
              " (('standwithukraine', 'anonymous'), 2),\n",
              " (('anonymous', 'freeukraine'), 2),\n",
              " (('oprussia', 'ukraine'), 2),\n",
              " (('us', 'ccp'), 2),\n",
              " (('us', 'americans'), 2),\n",
              " (('us', 'fentanyl'), 2),\n",
              " (('ccp', 'americans'), 2),\n",
              " (('ccp', 'fentanyl'), 2),\n",
              " (('americans', 'fentanyl'), 2),\n",
              " (('china', 'biden'), 2),\n",
              " (('china', 'covid19'), 2),\n",
              " (('china', 'intellectualproperty'), 2),\n",
              " (('biden', 'covid19'), 2),\n",
              " (('biden', 'intellectualproperty'), 2),\n",
              " (('covid19', 'intellectualproperty'), 2),\n",
              " (('mariupol', 'warcrimes'), 3),\n",
              " (('savemariupol', 'warcrimes'), 3),\n",
              " (('russia', 'pakistan'), 3),\n",
              " (('putin', 'ww3'), 3),\n",
              " (('russiaukrainewar', 'ukrainerussiawar'), 2),\n",
              " (('ukraineunderattaсk', 'ukrainewillwin'), 2),\n",
              " (('warinukraine', 'russianwarcrimes'), 2),\n",
              " (('warinukraine', 'harkiv'), 2),\n",
              " (('russianwarcrimes', 'harkiv'), 2),\n",
              " (('putinwarcrimes', 'putinwarcriminal'), 5),\n",
              " (('russian', 'kyiv'), 2),\n",
              " (('russia', 'libya'), 3),\n",
              " (('chechnya', 'tiktok'), 2),\n",
              " (('ukraine', 'kadyrovites'), 2),\n",
              " (('ukrainian', 'nazis'), 2),\n",
              " (('ukraine', 'eu'), 2),\n",
              " (('putin', 'otancriminal'), 2),\n",
              " (('putin', 'newworldorder'), 2),\n",
              " (('putin', 'iraq'), 2),\n",
              " (('putin', 'yemen'), 2),\n",
              " (('putin', 'afghanistan'), 2),\n",
              " (('otancriminal', 'newworldorder'), 2),\n",
              " (('otancriminal', 'iraq'), 2),\n",
              " (('otancriminal', 'yemen'), 2),\n",
              " (('otancriminal', 'afghanistan'), 2),\n",
              " (('newworldorder', 'iraq'), 2),\n",
              " (('newworldorder', 'yemen'), 2),\n",
              " (('newworldorder', 'afghanistan'), 2),\n",
              " (('iraq', 'yemen'), 2),\n",
              " (('iraq', 'afghanistan'), 2),\n",
              " (('yemen', 'afghanistan'), 2),\n",
              " (('russia', 'syria'), 2),\n",
              " (('pakistan', 'libya'), 2),\n",
              " (('pakistan', 'syria'), 2),\n",
              " (('libya', 'syria'), 2),\n",
              " (('ukraine', 'germany'), 2),\n",
              " (('resistanceunited', 'wtpblue'), 2),\n",
              " (('tigray', 'ic'), 2),\n",
              " (('russia', 'russian'), 2),\n",
              " (('standwithukraine', 'peace'), 3),\n",
              " (('standwithukraine', 'music'), 3),\n",
              " (('standwithukraine', 'marvingaye'), 3),\n",
              " (('standwithukraine', 'blues'), 3),\n",
              " (('peace', 'music'), 3),\n",
              " (('peace', 'marvingaye'), 3),\n",
              " (('peace', 'blues'), 3),\n",
              " (('music', 'marvingaye'), 3),\n",
              " (('music', 'blues'), 3),\n",
              " (('marvingaye', 'blues'), 3),\n",
              " (('soul', 'musica'), 3),\n",
              " (('soul', 'musique'), 3),\n",
              " (('musica', 'musique'), 3),\n",
              " (('russian', 'russiaukraineconflict'), 2),\n",
              " (('ukraine', 'chernobyl'), 2),\n",
              " (('chernobyl', 'belarus'), 2),\n",
              " (('russia', 'mexico'), 2),\n",
              " (('luhansk', 'maps'), 2),\n",
              " (('ukraineunderattaсk', 'protectuаsky'), 20),\n",
              " (('ukraineunderattaсk', 'stoprussia'), 20),\n",
              " (('russianinvasion', 'ukraineunderattack'), 20),\n",
              " (('russianinvasion', 'putinisawarcriminal'), 20),\n",
              " (('russianinvasion', 'россиясмотри'), 20),\n",
              " (('standwithukraine', 'ukraineunderattack'), 20),\n",
              " (('standwithukraine', 'putinisawarcriminal'), 20),\n",
              " (('standwithukraine', 'россиясмотри'), 20),\n",
              " (('ukrainewillwin', 'ukraineunderattack'), 20),\n",
              " (('ukrainewillwin', 'putinisawarcriminal'), 20),\n",
              " (('ukrainewillwin', 'россиясмотри'), 20),\n",
              " (('stopputin', 'ukraineunderattack'), 20),\n",
              " (('stopputin', 'putinisawarcriminal'), 20),\n",
              " (('stopputin', 'россиясмотри'), 20),\n",
              " (('russianukrainianwar', 'ukraineunderattack'), 20),\n",
              " (('russianukrainianwar', 'putinisawarcriminal'), 20),\n",
              " (('russianukrainianwar', 'россиясмотри'), 20),\n",
              " (('russiagohome', 'ukraineunderattack'), 20),\n",
              " (('russiagohome', 'putinisawarcriminal'), 20),\n",
              " (('russiagohome', 'россиясмотри'), 20),\n",
              " (('нетвойне', 'ukraineunderattack'), 20),\n",
              " (('нетвойне', 'putinisawarcriminal'), 20),\n",
              " (('нетвойне', 'россиясмотри'), 20),\n",
              " (('anonymous', 'oprussia'), 7),\n",
              " (('ddosecrets', 'oprussia'), 2),\n",
              " (('usa', 'russia'), 4),\n",
              " (('usa', 'ukraine'), 5),\n",
              " (('putin', 'russia'), 9),\n",
              " (('putin', 'ukraine'), 12),\n",
              " (('russianarmy', 'chernobyl'), 2),\n",
              " (('soviet', 'russian'), 2),\n",
              " (('soviet', 'berlin'), 2),\n",
              " (('ukrainian', 'russian'), 9),\n",
              " (('ukrainian', 'berlin'), 2),\n",
              " (('kharkiv', 'russian'), 2),\n",
              " (('kharkiv', 'berlin'), 2),\n",
              " (('anonymous', 'ukraine'), 3),\n",
              " (('russianukrainianwar', 'russia'), 2),\n",
              " (('russianukrainianwar', 'ukraine'), 4),\n",
              " (('putin', 'war'), 3),\n",
              " (('zelensky', 'ukraine'), 7),\n",
              " (('news', 'russia'), 2),\n",
              " (('news', 'ukraine'), 2),\n",
              " (('news', 'war'), 2),\n",
              " (('exclusive', 'itvideo'), 2),\n",
              " (('exclusive', 're'), 2),\n",
              " (('russiaukrainewar', 'itvideo'), 2),\n",
              " (('russiaukrainewar', 're'), 2),\n",
              " (('putin', 'oil'), 7),\n",
              " (('russiaukrainewar', 'russia'), 3),\n",
              " (('russiaukrainewar', 'government'), 2),\n",
              " (('mariupol', 'ukraine'), 5),\n",
              " (('putin', 'gas'), 11),\n",
              " (('ukrainerussianwar', 'ukraine'), 6),\n",
              " (('moscow', 'ukraine'), 2),\n",
              " (('ukraineunderattaсk', 'ukraine'), 3),\n",
              " (('stopputin', 'ukraine'), 3),\n",
              " (('sendinthetroops', 'ukraine'), 2),\n",
              " (('ukrainerussiawar', 'sjaishankar'), 2),\n",
              " (('standwithukraine', 'ukraine'), 6),\n",
              " (('standwithukraine', 'standtogether'), 2),\n",
              " (('freeukraine', 'ukraine'), 4),\n",
              " (('freeukraine', 'standtogether'), 2),\n",
              " (('weareallukrainians', 'ukraine'), 2),\n",
              " (('weareallukrainians', 'standtogether'), 2),\n",
              " (('stopthewar', 'ukraine'), 2),\n",
              " (('stopthewar', 'standtogether'), 2),\n",
              " (('united', 'ukraine'), 2),\n",
              " (('united', 'standtogether'), 2),\n",
              " (('stopwar', 'ukraine'), 2),\n",
              " (('stopwar', 'standtogether'), 2),\n",
              " (('settodraw', 'gas'), 10),\n",
              " (('settodraw', 'energy'), 10),\n",
              " (('settodraw', 'coal'), 10),\n",
              " (('tanzaniaproject', 'gas'), 10),\n",
              " (('tanzaniaproject', 'energy'), 10),\n",
              " (('tanzaniaproject', 'coal'), 10),\n",
              " (('africa', 'gas'), 10),\n",
              " (('africa', 'energy'), 10),\n",
              " (('africa', 'coal'), 10),\n",
              " (('mining', 'gas'), 10),\n",
              " (('mining', 'energy'), 10),\n",
              " (('mining', 'coal'), 10),\n",
              " (('tlav', 'ukraine'), 4),\n",
              " (('nato', 'russia'), 2),\n",
              " (('rokfin', 'ukraine'), 2),\n",
              " (('sendkgblordtosiberia', 'slavaukraini'), 8),\n",
              " (('sendkgblordtosiberia', 'johnsonout67'), 8),\n",
              " (('sendkgblordtosiberia', 'putinsbrexit'), 8),\n",
              " (('sendkgblordtosiberia', 'carolecadwalladrforhouseoflords'), 8),\n",
              " (('nftcommunity', 'nft'), 5),\n",
              " (('nftcommunity', 'mint'), 4),\n",
              " (('nftcommunity', 'nftgiveaway'), 4),\n",
              " (('nftdrop', 'nft'), 4),\n",
              " (('nftdrop', 'mint'), 4),\n",
              " (('nftdrop', 'nftgiveaway'), 4),\n",
              " (('standwithukraine', 'stoprussia'), 5),\n",
              " (('freeiran2022', 'biden'), 2),\n",
              " (('freeiran2022', 'bidenisafailure'), 2),\n",
              " (('us', 'ukraine'), 2),\n",
              " (('us', 'russian'), 2),\n",
              " (('us', 'biden'), 3),\n",
              " (('news', 'biden'), 2),\n",
              " (('usa', 'war'), 2),\n",
              " (('putin', 'biden'), 7),\n",
              " (('ukrainerussiawar', 'russia'), 2),\n",
              " (('ukrainerussiawar', 'ukraine'), 18),\n",
              " (('ukrainerussiawar', 'kyiv'), 3),\n",
              " (('nftcommunity', 'eth'), 2),\n",
              " (('nftcommunity', '0xbaec'), 2),\n",
              " (('nftcommunity', 'nftart'), 2),\n",
              " (('nftcommunity', 'nftproject'), 2),\n",
              " (('nftcommunity', 'nfts'), 3),\n",
              " (('nftdrop', 'eth'), 2),\n",
              " (('nftdrop', '0xbaec'), 2),\n",
              " (('nftdrop', 'nftart'), 2),\n",
              " (('nftdrop', 'nftproject'), 2),\n",
              " (('nftdrop', 'nfts'), 2),\n",
              " (('airdrop', 'nft'), 2),\n",
              " (('airdrop', 'mint'), 2),\n",
              " (('airdrop', 'nftgiveaway'), 2),\n",
              " (('airdrop', 'eth'), 2),\n",
              " (('airdrop', '0xbaec'), 2),\n",
              " (('airdrop', 'nftart'), 2),\n",
              " (('airdrop', 'nftproject'), 2),\n",
              " (('airdrop', 'nfts'), 2),\n",
              " (('nftcollectible', 'nft'), 2),\n",
              " (('nftcollectible', 'mint'), 2),\n",
              " (('nftcollectible', 'nftgiveaway'), 2),\n",
              " (('nftcollectible', 'eth'), 2),\n",
              " (('nftcollectible', '0xbaec'), 2),\n",
              " (('nftcollectible', 'nftart'), 2),\n",
              " (('nftcollectible', 'nftproject'), 2),\n",
              " (('nftcollectible', 'nfts'), 2),\n",
              " (('bayc', 'nft'), 2),\n",
              " (('bayc', 'mint'), 2),\n",
              " (('bayc', 'nftgiveaway'), 2),\n",
              " (('bayc', 'eth'), 2),\n",
              " (('bayc', '0xbaec'), 2),\n",
              " (('bayc', 'nftart'), 2),\n",
              " (('bayc', 'nftproject'), 2),\n",
              " (('bayc', 'nfts'), 2),\n",
              " (('ukrainian', 'kyiv'), 6),\n",
              " (('sumy', 'kyiv'), 4),\n",
              " (('kherson', 'kyiv'), 4),\n",
              " (('voteno', 'ukraine'), 8),\n",
              " (('tigraycantwait', 'ukraine'), 8),\n",
              " (('ukrainian', 'russia'), 3),\n",
              " (('chernihiv', 'ukraine'), 7),\n",
              " (('vladimirputin', 'russia'), 2),\n",
              " (('joebiden', 'russia'), 2),\n",
              " (('standwithukraine', 'russiakills'), 2),\n",
              " (('stopputin', 'stoprussia'), 3),\n",
              " (('stopputin', 'russiakills'), 2),\n",
              " (('stoprussianaggression', 'stoprussia'), 3),\n",
              " (('stoprussianaggression', 'russiakills'), 2),\n",
              " (('tigraygenocide', 'ukraine'), 7),\n",
              " (('tigraygenocide', 'tigray'), 6),\n",
              " (('tigraygenocide', 'supporthr6600'), 7),\n",
              " (('bidencrimefamilly', 'biden'), 4),\n",
              " (('ukrainian', 'ukraine'), 5),\n",
              " (('ukrainerussiawar', 'mint'), 5),\n",
              " (('luhansk', 'russian'), 3),\n",
              " (('standwithukraine', 'oprussia'), 2),\n",
              " (('freeukraine', 'oprussia'), 2),\n",
              " (('us', 'china'), 2),\n",
              " (('us', 'covid19'), 2),\n",
              " (('us', 'intellectualproperty'), 2),\n",
              " (('ccp', 'china'), 2),\n",
              " (('ccp', 'biden'), 2),\n",
              " (('ccp', 'covid19'), 2),\n",
              " (('ccp', 'intellectualproperty'), 2),\n",
              " (('americans', 'china'), 2),\n",
              " (('americans', 'biden'), 2),\n",
              " (('americans', 'covid19'), 2),\n",
              " (('americans', 'intellectualproperty'), 2),\n",
              " (('fentanyl', 'china'), 2),\n",
              " (('fentanyl', 'biden'), 2),\n",
              " (('fentanyl', 'covid19'), 2),\n",
              " (('fentanyl', 'intellectualproperty'), 2),\n",
              " (('mariupol', 'russian'), 2),\n",
              " (('moscow', 'russia'), 2),\n",
              " (('zelenskyy', 'ukraine'), 2),\n",
              " (('armenia', 'russia'), 2),\n",
              " (('armenia', 'ukraine'), 2),\n",
              " (('russiaukrainewar', 'ukraine'), 3),\n",
              " (('ukrainerussianwar', 'war'), 2),\n",
              " (('kherson', 'ukraine'), 2),\n",
              " (('chernihiv', 'kyiv'), 3),\n",
              " (('luhansk', 'ukraine'), 3),\n",
              " (('ukraineunderattaсk', 'warinukraine'), 3),\n",
              " (('ukraineunderattaсk', 'russianwarcrimes'), 2),\n",
              " (('ukraineunderattaсk', 'harkiv'), 2),\n",
              " (('ukrainewillwin', 'warinukraine'), 2),\n",
              " (('ukrainewillwin', 'russianwarcrimes'), 2),\n",
              " (('ukrainewillwin', 'harkiv'), 2),\n",
              " (('ukrainerussianwar', 'ukrainewar'), 2),\n",
              " (('ukrainerussianwar', 'kyiv'), 2),\n",
              " (('odessa', 'ukraine'), 2),\n",
              " (('chechnya', 'ukraine'), 2),\n",
              " (('chechnya', 'kadyrovites'), 2),\n",
              " (('tiktok', 'ukraine'), 2),\n",
              " (('tiktok', 'kadyrovites'), 2),\n",
              " (('nazis', 'russian'), 2),\n",
              " (('russiaukrainewar', 'russiaukraineconflict'), 2),\n",
              " (('putin', 'pakistan'), 2),\n",
              " (('putin', 'libya'), 2),\n",
              " (('putin', 'syria'), 2),\n",
              " (('otancriminal', 'russia'), 2),\n",
              " (('otancriminal', 'pakistan'), 2),\n",
              " (('otancriminal', 'libya'), 2),\n",
              " (('otancriminal', 'syria'), 2),\n",
              " (('newworldorder', 'russia'), 2),\n",
              " (('newworldorder', 'pakistan'), 2),\n",
              " (('newworldorder', 'libya'), 2),\n",
              " (('newworldorder', 'syria'), 2),\n",
              " (('iraq', 'russia'), 2),\n",
              " (('iraq', 'pakistan'), 2),\n",
              " (('iraq', 'libya'), 2),\n",
              " (('iraq', 'syria'), 2),\n",
              " (('yemen', 'russia'), 2),\n",
              " (('yemen', 'pakistan'), 2),\n",
              " (('yemen', 'libya'), 2),\n",
              " (('yemen', 'syria'), 2),\n",
              " (('afghanistan', 'russia'), 2),\n",
              " (('afghanistan', 'pakistan'), 2),\n",
              " (('afghanistan', 'libya'), 2),\n",
              " (('afghanistan', 'syria'), 2),\n",
              " (('standwithukraine', 'soul'), 3),\n",
              " (('standwithukraine', 'musica'), 3),\n",
              " (('standwithukraine', 'musique'), 3),\n",
              " (('peace', 'soul'), 3),\n",
              " (('peace', 'musica'), 3),\n",
              " (('peace', 'musique'), 3),\n",
              " (('music', 'soul'), 3),\n",
              " (('music', 'musica'), 3),\n",
              " (('music', 'musique'), 3),\n",
              " (('marvingaye', 'soul'), 3),\n",
              " (('marvingaye', 'musica'), 3),\n",
              " (('marvingaye', 'musique'), 3),\n",
              " (('blues', 'soul'), 3),\n",
              " (('blues', 'musica'), 3),\n",
              " (('blues', 'musique'), 3),\n",
              " (('ukrainerussiawar', 'russiaukraineconflict'), 2),\n",
              " (('ukrainian', 'chernobyl'), 2),\n",
              " (('ukrainian', 'belarus'), 2),\n",
              " (('maps', 'ukraine'), 2),\n",
              " (('maps', 'russian'), 2)]"
            ]
          },
          "metadata": {},
          "execution_count": 161
        }
      ]
    },
    {
      "cell_type": "code",
      "source": [
        ""
      ],
      "metadata": {
        "id": "3bQmjzpPUzv7"
      },
      "execution_count": 161,
      "outputs": []
    },
    {
      "cell_type": "code",
      "source": [
        ""
      ],
      "metadata": {
        "id": "344VVqAhUzyy"
      },
      "execution_count": 161,
      "outputs": []
    },
    {
      "cell_type": "code",
      "source": [
        ""
      ],
      "metadata": {
        "id": "it8AnOieQqyk"
      },
      "execution_count": 161,
      "outputs": []
    },
    {
      "cell_type": "markdown",
      "source": [
        "## PCY "
      ],
      "metadata": {
        "id": "k-Jhu8_0QrJU"
      }
    },
    {
      "cell_type": "code",
      "source": [
        "#first pass is the same of apriori\n",
        "singleton = basket_file.flatMap(list).map(lambda item: (item,1)).reduceByKey(lambda a,b: a+b)\n"
      ],
      "metadata": {
        "id": "OJxDdbFVQunC"
      },
      "execution_count": 214,
      "outputs": []
    },
    {
      "cell_type": "code",
      "source": [
        "from sys import hash_info\n",
        "#different step w.r.t. apriori, creating all the pairs (non from freq singleton) and hashing them\n",
        "#creating hashtable, fixed size:\n",
        "\n",
        "HASH_TABLE_SIZE = 50000\n",
        "hash_table = np.zeros(HASH_TABLE_SIZE, dtype=int)\n",
        "\n",
        "def hashing(pair_to_hash):\n",
        "  return int(abs(hash(frozenset(pair_to_hash))) % HASH_TABLE_SIZE)\n",
        "\n",
        "\n",
        "hashing((\"stoprussia\", \"standwithukraine\")) #it's equal to the reverse because of frozenset"
      ],
      "metadata": {
        "colab": {
          "base_uri": "https://localhost:8080/"
        },
        "id": "DmDpxjxjQuqL",
        "outputId": "4590ec0a-bb0c-4d92-e8ba-b80aea15483c"
      },
      "execution_count": 262,
      "outputs": [
        {
          "output_type": "execute_result",
          "data": {
            "text/plain": [
              "42051"
            ]
          },
          "metadata": {},
          "execution_count": 262
        }
      ]
    },
    {
      "cell_type": "code",
      "source": [
        "#create all possible pairs and hash them\n",
        "from itertools import combinations\n",
        "pairs_first_pass = list(combinations(singleton.map(lambda x: x[0]).toLocalIterator(),2))#creating all pairs\n",
        "\n",
        "#pairs_first_rdd = spark.sparkContext.parallelize(pairs_first_pass)\n",
        "\n",
        "\n",
        "#I dont like the for, use map reduce IF POSSIBLE\n",
        "for element in pairs_first_pass:\n",
        "  hash_table[hashing(element)] +=1\n",
        "\n",
        "bitmap_freq = [hash_table[i]>=threshold for i in range(HASH_TABLE_SIZE)] #creo bitmap, scarto pairs non freq\n",
        "bitmap_freq[:10]"
      ],
      "metadata": {
        "colab": {
          "base_uri": "https://localhost:8080/"
        },
        "id": "wAH7rSbfQutF",
        "outputId": "58f484aa-5863-4e22-f281-8042b7ba7f7b"
      },
      "execution_count": 260,
      "outputs": [
        {
          "output_type": "execute_result",
          "data": {
            "text/plain": [
              "[True, True, True, False, True, True, False, True, False, False]"
            ]
          },
          "metadata": {},
          "execution_count": 260
        }
      ]
    },
    {
      "cell_type": "markdown",
      "source": [
        "## secondo pass PCY"
      ],
      "metadata": {
        "id": "7yPlF5cYhNxv"
      }
    },
    {
      "cell_type": "code",
      "source": [
        "#per ogni freq singleton, devo controllare che la sua coppia sia freq nella hashtable e poi contarlo\n",
        "#dopo averli contati tutti riduco in base alla threshold\n",
        "from itertools import combinations\n",
        "\n",
        "freq_singleton = singleton.filter(lambda x: x[1]>=threshold)                           \n",
        "pairs=list(combinations(freq_singleton.map(lambda x: x[0]).toLocalIterator(),2)) #formed from freq singletons"
      ],
      "metadata": {
        "id": "e5tmelSzhNBc"
      },
      "execution_count": 263,
      "outputs": []
    },
    {
      "cell_type": "code",
      "source": [
        "#CONVERT FREQ SINGELTONS IN LIST\n",
        "freq_singleton_list = list(freq_singleton.map(lambda x: x).toLocalIterator())\n",
        "#CONVERT PAIRS INTO RDD\n",
        "pairs_rdd = spark.sparkContext.parallelize(pairs)"
      ],
      "metadata": {
        "id": "-J2IcsEEthg9"
      },
      "execution_count": 264,
      "outputs": []
    },
    {
      "cell_type": "code",
      "source": [
        "#candidate pairs = singleton freq and their pair is freq in the hash_table\n",
        "candidate_pairs = pairs_rdd.filter(lambda x : bitmap_freq[hashing(x)] == True)\n",
        "candidate_pairs_list = list(pairs_rdd.map(lambda x: x).toLocalIterator())"
      ],
      "metadata": {
        "id": "IBlS8tcIhK1Z"
      },
      "execution_count": 265,
      "outputs": []
    },
    {
      "cell_type": "code",
      "source": [
        "#check against threshold\n",
        "flatted_couples = basket_file.map(lambda x: [(pair,1) for pair in candidate_pairs_list if set(pair).\\\n",
        "                                             issubset(set(x))]).flatMap(lambda x: x).cache()\n",
        "\n",
        "reduced_elements = flatted_couples.reduceByKey(lambda a, b: a + b)\n",
        "freq_pairs = reduced_elements.filter(lambda x : x[1] >= threshold).cache()\n",
        "freq_pairs.collect()"
      ],
      "metadata": {
        "colab": {
          "base_uri": "https://localhost:8080/"
        },
        "id": "iAI9OU4pfsnw",
        "outputId": "1f4a4a46-6e7e-4406-8189-ac2012010cb1"
      },
      "execution_count": 266,
      "outputs": [
        {
          "output_type": "execute_result",
          "data": {
            "text/plain": [
              "[(('protectuаsky', 'stoprussia'), 20),\n",
              " (('russianinvasion', 'standwithukraine'), 20),\n",
              " (('russianinvasion', 'ukrainewillwin'), 20),\n",
              " (('russianinvasion', 'stopputin'), 20),\n",
              " (('russianinvasion', 'russianukrainianwar'), 20),\n",
              " (('russianinvasion', 'russiagohome'), 20),\n",
              " (('russianinvasion', 'нетвойне'), 20),\n",
              " (('standwithukraine', 'ukrainewillwin'), 20),\n",
              " (('standwithukraine', 'stopputin'), 23),\n",
              " (('standwithukraine', 'russianukrainianwar'), 20),\n",
              " (('standwithukraine', 'russiagohome'), 20),\n",
              " (('standwithukraine', 'нетвойне'), 20),\n",
              " (('ukrainewillwin', 'stopputin'), 20),\n",
              " (('ukrainewillwin', 'russianukrainianwar'), 20),\n",
              " (('ukrainewillwin', 'russiagohome'), 20),\n",
              " (('ukrainewillwin', 'нетвойне'), 20),\n",
              " (('stopputin', 'russianukrainianwar'), 20),\n",
              " (('stopputin', 'russiagohome'), 20),\n",
              " (('stopputin', 'нетвойне'), 20),\n",
              " (('russianukrainianwar', 'russiagohome'), 20),\n",
              " (('russianukrainianwar', 'нетвойне'), 20),\n",
              " (('russiagohome', 'нетвойне'), 20),\n",
              " (('ukraineunderattack', 'putinisawarcriminal'), 20),\n",
              " (('ukraineunderattack', 'россиясмотри'), 20),\n",
              " (('putinisawarcriminal', 'россиясмотри'), 20),\n",
              " (('anonymous', 'ddosecrets'), 2),\n",
              " (('nft', 'mint'), 33),\n",
              " (('russia', 'ukraine'), 29),\n",
              " (('russia', 'government'), 2),\n",
              " (('russia', 'ukrainewar'), 5),\n",
              " (('ukraine', 'ukrainewar'), 7),\n",
              " (('soviet', 'ukrainian'), 2),\n",
              " (('soviet', 'kharkiv'), 2),\n",
              " (('ukrainian', 'kharkiv'), 2),\n",
              " (('russian', 'berlin'), 2),\n",
              " (('putin', 'news'), 2),\n",
              " (('russia', 'war'), 5),\n",
              " (('ukraine', 'war'), 7),\n",
              " (('exclusive', 'russiaukrainewar'), 2),\n",
              " (('itvideo', 're'), 2),\n",
              " (('putin', 'russiaukrainewar'), 2),\n",
              " (('ukraine', 'kyiv'), 22),\n",
              " (('ukrainewar', 'tigray'), 3),\n",
              " (('ukrainewar', '500daysoftigraygenocide'), 3),\n",
              " (('tigray', '500daysoftigraygenocide'), 3),\n",
              " (('ukraineunderattaсk', 'stopputin'), 2),\n",
              " (('ukraineunderattaсk', 'sendinthetroops'), 2),\n",
              " (('stopputin', 'sendinthetroops'), 2),\n",
              " (('biden', 'trump'), 3),\n",
              " (('standwithukraine', 'freeukraine'), 4),\n",
              " (('standwithukraine', 'weareallukrainians'), 2),\n",
              " (('standwithukraine', 'stopthewar'), 2),\n",
              " (('standwithukraine', 'united'), 2),\n",
              " (('standwithukraine', 'stopwar'), 2),\n",
              " (('freeukraine', 'weareallukrainians'), 2),\n",
              " (('freeukraine', 'stopthewar'), 2),\n",
              " (('freeukraine', 'united'), 2),\n",
              " (('freeukraine', 'stopwar'), 2),\n",
              " (('weareallukrainians', 'stopthewar'), 2),\n",
              " (('weareallukrainians', 'united'), 2),\n",
              " (('weareallukrainians', 'stopwar'), 2),\n",
              " (('stopthewar', 'united'), 2),\n",
              " (('stopthewar', 'stopwar'), 2),\n",
              " (('united', 'stopwar'), 2),\n",
              " (('ukraine', 'standtogether'), 2),\n",
              " (('settodraw', 'tanzaniaproject'), 10),\n",
              " (('settodraw', 'africa'), 10),\n",
              " (('settodraw', 'mining'), 10),\n",
              " (('tanzaniaproject', 'africa'), 10),\n",
              " (('tanzaniaproject', 'mining'), 10),\n",
              " (('africa', 'mining'), 10),\n",
              " (('gas', 'energy'), 10),\n",
              " (('gas', 'coal'), 10),\n",
              " (('energy', 'coal'), 10),\n",
              " (('russia', 'ukraineian'), 2),\n",
              " (('tlav', 'rokfin'), 2),\n",
              " (('slavaukraini', 'johnsonout67'), 8),\n",
              " (('slavaukraini', 'putinsbrexit'), 8),\n",
              " (('slavaukraini', 'carolecadwalladrforhouseoflords'), 8),\n",
              " (('johnsonout67', 'putinsbrexit'), 8),\n",
              " (('johnsonout67', 'carolecadwalladrforhouseoflords'), 8),\n",
              " (('putinsbrexit', 'carolecadwalladrforhouseoflords'), 8),\n",
              " (('nftcommunity', 'nftdrop'), 4),\n",
              " (('nft', 'nftgiveaway'), 4),\n",
              " (('mint', 'nftgiveaway'), 4),\n",
              " (('biden', 'bidenisafailure'), 2),\n",
              " (('ukraine', 'russian'), 11),\n",
              " (('ukraine', 'biden'), 8),\n",
              " (('russian', 'biden'), 2),\n",
              " (('stoprussia', 'ukraine'), 4),\n",
              " (('putin', 'ukrainerussiawar'), 2),\n",
              " (('russia', 'kyiv'), 2),\n",
              " (('russia', 'biden'), 2),\n",
              " (('ukrainewar', 'war'), 2),\n",
              " (('ukrainewar', 'kyiv'), 3),\n",
              " (('war', 'kyiv'), 2),\n",
              " (('nftcommunity', 'airdrop'), 2),\n",
              " (('nftcommunity', 'nftcollectible'), 2),\n",
              " (('nftcommunity', 'bayc'), 2),\n",
              " (('nftdrop', 'airdrop'), 2),\n",
              " (('nftdrop', 'nftcollectible'), 2),\n",
              " (('nftdrop', 'bayc'), 2),\n",
              " (('airdrop', 'nftcollectible'), 2),\n",
              " (('airdrop', 'bayc'), 2),\n",
              " (('nftcollectible', 'bayc'), 2),\n",
              " (('nft', 'eth'), 3),\n",
              " (('nft', '0xbaec'), 2),\n",
              " (('nft', 'nftart'), 2),\n",
              " (('nft', 'nftproject'), 3),\n",
              " (('nft', 'nfts'), 3),\n",
              " (('mint', 'eth'), 3),\n",
              " (('mint', '0xbaec'), 2),\n",
              " (('mint', 'nftart'), 2),\n",
              " (('mint', 'nftproject'), 3),\n",
              " (('mint', 'nfts'), 2),\n",
              " (('nftgiveaway', 'eth'), 2),\n",
              " (('nftgiveaway', '0xbaec'), 2),\n",
              " (('nftgiveaway', 'nftart'), 2),\n",
              " (('nftgiveaway', 'nftproject'), 2),\n",
              " (('nftgiveaway', 'nfts'), 2),\n",
              " (('eth', '0xbaec'), 2),\n",
              " (('eth', 'nftart'), 2),\n",
              " (('eth', 'nftproject'), 2),\n",
              " (('eth', 'nfts'), 2),\n",
              " (('0xbaec', 'nftart'), 2),\n",
              " (('0xbaec', 'nftproject'), 2),\n",
              " (('0xbaec', 'nfts'), 2),\n",
              " (('nftart', 'nftproject'), 2),\n",
              " (('nftart', 'nfts'), 2),\n",
              " (('nftproject', 'nfts'), 2),\n",
              " (('ukrainian', 'sumy'), 5),\n",
              " (('ukrainian', 'kherson'), 14),\n",
              " (('sumy', 'kherson'), 4),\n",
              " (('voteno', 'tigraycantwait'), 8),\n",
              " (('mariupol', 'savemariupol'), 4),\n",
              " (('vladimirputin', 'joebiden'), 2),\n",
              " (('standwithukraine', 'stoprussianaggression'), 3),\n",
              " (('stopputin', 'stoprussianaggression'), 2),\n",
              " (('stoprussia', 'russiakills'), 2),\n",
              " (('ukraine', 'tigray'), 7),\n",
              " (('ukraine', 'supporthr6600'), 7),\n",
              " (('tigray', 'supporthr6600'), 6),\n",
              " (('russia', 'un'), 3),\n",
              " (('russianukrainianwar', 'ukrainerussiawar'), 2),\n",
              " (('ukraine', 'thereidout'), 4),\n",
              " (('mint', 'ukraine'), 5),\n",
              " (('ukraine', 'belarus'), 6),\n",
              " (('ukrainian', 'mariupol'), 2),\n",
              " (('standwithukraine', 'slavaukraine'), 3),\n",
              " (('ukraine', 'oil'), 6),\n",
              " (('ukraine', 'gas'), 7),\n",
              " (('oil', 'gas'), 7),\n",
              " (('oil', 'biden'), 6),\n",
              " (('gas', 'biden'), 6),\n",
              " (('standwithukraine', 'anonymous'), 2),\n",
              " (('anonymous', 'freeukraine'), 2),\n",
              " (('oprussia', 'ukraine'), 2),\n",
              " (('us', 'ccp'), 2),\n",
              " (('us', 'americans'), 2),\n",
              " (('us', 'fentanyl'), 2),\n",
              " (('ccp', 'americans'), 2),\n",
              " (('ccp', 'fentanyl'), 2),\n",
              " (('americans', 'fentanyl'), 2),\n",
              " (('china', 'biden'), 2),\n",
              " (('china', 'covid19'), 2),\n",
              " (('china', 'intellectualproperty'), 2),\n",
              " (('biden', 'covid19'), 2),\n",
              " (('biden', 'intellectualproperty'), 2),\n",
              " (('covid19', 'intellectualproperty'), 2),\n",
              " (('mariupol', 'warcrimes'), 3),\n",
              " (('savemariupol', 'warcrimes'), 3),\n",
              " (('russia', 'pakistan'), 3),\n",
              " (('putin', 'ww3'), 3),\n",
              " (('russiaukrainewar', 'ukrainerussiawar'), 2),\n",
              " (('ukraineunderattaсk', 'ukrainewillwin'), 2),\n",
              " (('warinukraine', 'russianwarcrimes'), 2),\n",
              " (('warinukraine', 'harkiv'), 2),\n",
              " (('russianwarcrimes', 'harkiv'), 2),\n",
              " (('putinwarcrimes', 'putinwarcriminal'), 5),\n",
              " (('russian', 'kyiv'), 2),\n",
              " (('russia', 'libya'), 3),\n",
              " (('chechnya', 'tiktok'), 2),\n",
              " (('ukraine', 'kadyrovites'), 2),\n",
              " (('ukrainian', 'nazis'), 2),\n",
              " (('ukraine', 'eu'), 2),\n",
              " (('putin', 'otancriminal'), 2),\n",
              " (('putin', 'newworldorder'), 2),\n",
              " (('putin', 'iraq'), 2),\n",
              " (('putin', 'yemen'), 2),\n",
              " (('putin', 'afghanistan'), 2),\n",
              " (('otancriminal', 'newworldorder'), 2),\n",
              " (('otancriminal', 'iraq'), 2),\n",
              " (('otancriminal', 'yemen'), 2),\n",
              " (('otancriminal', 'afghanistan'), 2),\n",
              " (('newworldorder', 'iraq'), 2),\n",
              " (('newworldorder', 'yemen'), 2),\n",
              " (('newworldorder', 'afghanistan'), 2),\n",
              " (('iraq', 'yemen'), 2),\n",
              " (('iraq', 'afghanistan'), 2),\n",
              " (('yemen', 'afghanistan'), 2),\n",
              " (('russia', 'syria'), 2),\n",
              " (('pakistan', 'libya'), 2),\n",
              " (('pakistan', 'syria'), 2),\n",
              " (('libya', 'syria'), 2),\n",
              " (('ukraine', 'germany'), 2),\n",
              " (('resistanceunited', 'wtpblue'), 2),\n",
              " (('tigray', 'ic'), 2),\n",
              " (('russia', 'russian'), 2),\n",
              " (('standwithukraine', 'peace'), 3),\n",
              " (('standwithukraine', 'music'), 3),\n",
              " (('standwithukraine', 'marvingaye'), 3),\n",
              " (('standwithukraine', 'blues'), 3),\n",
              " (('peace', 'music'), 3),\n",
              " (('peace', 'marvingaye'), 3),\n",
              " (('peace', 'blues'), 3),\n",
              " (('music', 'marvingaye'), 3),\n",
              " (('music', 'blues'), 3),\n",
              " (('marvingaye', 'blues'), 3),\n",
              " (('soul', 'musica'), 3),\n",
              " (('soul', 'musique'), 3),\n",
              " (('musica', 'musique'), 3),\n",
              " (('russian', 'russiaukraineconflict'), 2),\n",
              " (('ukraine', 'chernobyl'), 2),\n",
              " (('chernobyl', 'belarus'), 2),\n",
              " (('russia', 'mexico'), 2),\n",
              " (('luhansk', 'maps'), 2),\n",
              " (('ukraineunderattaсk', 'protectuаsky'), 20),\n",
              " (('ukraineunderattaсk', 'stoprussia'), 20),\n",
              " (('russianinvasion', 'ukraineunderattack'), 20),\n",
              " (('russianinvasion', 'putinisawarcriminal'), 20),\n",
              " (('russianinvasion', 'россиясмотри'), 20),\n",
              " (('standwithukraine', 'ukraineunderattack'), 20),\n",
              " (('standwithukraine', 'putinisawarcriminal'), 20),\n",
              " (('standwithukraine', 'россиясмотри'), 20),\n",
              " (('ukrainewillwin', 'ukraineunderattack'), 20),\n",
              " (('ukrainewillwin', 'putinisawarcriminal'), 20),\n",
              " (('ukrainewillwin', 'россиясмотри'), 20),\n",
              " (('stopputin', 'ukraineunderattack'), 20),\n",
              " (('stopputin', 'putinisawarcriminal'), 20),\n",
              " (('stopputin', 'россиясмотри'), 20),\n",
              " (('russianukrainianwar', 'ukraineunderattack'), 20),\n",
              " (('russianukrainianwar', 'putinisawarcriminal'), 20),\n",
              " (('russianukrainianwar', 'россиясмотри'), 20),\n",
              " (('russiagohome', 'ukraineunderattack'), 20),\n",
              " (('russiagohome', 'putinisawarcriminal'), 20),\n",
              " (('russiagohome', 'россиясмотри'), 20),\n",
              " (('нетвойне', 'ukraineunderattack'), 20),\n",
              " (('нетвойне', 'putinisawarcriminal'), 20),\n",
              " (('нетвойне', 'россиясмотри'), 20),\n",
              " (('anonymous', 'oprussia'), 7),\n",
              " (('ddosecrets', 'oprussia'), 2),\n",
              " (('usa', 'russia'), 4),\n",
              " (('usa', 'ukraine'), 5),\n",
              " (('putin', 'russia'), 9),\n",
              " (('putin', 'ukraine'), 12),\n",
              " (('russianarmy', 'chernobyl'), 2),\n",
              " (('soviet', 'russian'), 2),\n",
              " (('soviet', 'berlin'), 2),\n",
              " (('ukrainian', 'russian'), 9),\n",
              " (('ukrainian', 'berlin'), 2),\n",
              " (('kharkiv', 'russian'), 2),\n",
              " (('kharkiv', 'berlin'), 2),\n",
              " (('anonymous', 'ukraine'), 3),\n",
              " (('russianukrainianwar', 'russia'), 2),\n",
              " (('russianukrainianwar', 'ukraine'), 4),\n",
              " (('putin', 'war'), 3),\n",
              " (('zelensky', 'ukraine'), 7),\n",
              " (('news', 'russia'), 2),\n",
              " (('news', 'ukraine'), 2),\n",
              " (('news', 'war'), 2),\n",
              " (('exclusive', 'itvideo'), 2),\n",
              " (('exclusive', 're'), 2),\n",
              " (('russiaukrainewar', 'itvideo'), 2),\n",
              " (('russiaukrainewar', 're'), 2),\n",
              " (('putin', 'oil'), 7),\n",
              " (('russiaukrainewar', 'russia'), 3),\n",
              " (('russiaukrainewar', 'government'), 2),\n",
              " (('mariupol', 'ukraine'), 5),\n",
              " (('putin', 'gas'), 11),\n",
              " (('ukrainerussianwar', 'ukraine'), 6),\n",
              " (('moscow', 'ukraine'), 2),\n",
              " (('ukraineunderattaсk', 'ukraine'), 3),\n",
              " (('stopputin', 'ukraine'), 3),\n",
              " (('sendinthetroops', 'ukraine'), 2),\n",
              " (('ukrainerussiawar', 'sjaishankar'), 2),\n",
              " (('standwithukraine', 'ukraine'), 6),\n",
              " (('standwithukraine', 'standtogether'), 2),\n",
              " (('freeukraine', 'ukraine'), 4),\n",
              " (('freeukraine', 'standtogether'), 2),\n",
              " (('weareallukrainians', 'ukraine'), 2),\n",
              " (('weareallukrainians', 'standtogether'), 2),\n",
              " (('stopthewar', 'ukraine'), 2),\n",
              " (('stopthewar', 'standtogether'), 2),\n",
              " (('united', 'ukraine'), 2),\n",
              " (('united', 'standtogether'), 2),\n",
              " (('stopwar', 'ukraine'), 2),\n",
              " (('stopwar', 'standtogether'), 2),\n",
              " (('settodraw', 'gas'), 10),\n",
              " (('settodraw', 'energy'), 10),\n",
              " (('settodraw', 'coal'), 10),\n",
              " (('tanzaniaproject', 'gas'), 10),\n",
              " (('tanzaniaproject', 'energy'), 10),\n",
              " (('tanzaniaproject', 'coal'), 10),\n",
              " (('africa', 'gas'), 10),\n",
              " (('africa', 'energy'), 10),\n",
              " (('africa', 'coal'), 10),\n",
              " (('mining', 'gas'), 10),\n",
              " (('mining', 'energy'), 10),\n",
              " (('mining', 'coal'), 10),\n",
              " (('tlav', 'ukraine'), 4),\n",
              " (('nato', 'russia'), 2),\n",
              " (('rokfin', 'ukraine'), 2),\n",
              " (('sendkgblordtosiberia', 'slavaukraini'), 8),\n",
              " (('sendkgblordtosiberia', 'johnsonout67'), 8),\n",
              " (('sendkgblordtosiberia', 'putinsbrexit'), 8),\n",
              " (('sendkgblordtosiberia', 'carolecadwalladrforhouseoflords'), 8),\n",
              " (('nftcommunity', 'nft'), 5),\n",
              " (('nftcommunity', 'mint'), 4),\n",
              " (('nftcommunity', 'nftgiveaway'), 4),\n",
              " (('nftdrop', 'nft'), 4),\n",
              " (('nftdrop', 'mint'), 4),\n",
              " (('nftdrop', 'nftgiveaway'), 4),\n",
              " (('standwithukraine', 'stoprussia'), 5),\n",
              " (('freeiran2022', 'biden'), 2),\n",
              " (('freeiran2022', 'bidenisafailure'), 2),\n",
              " (('us', 'ukraine'), 2),\n",
              " (('us', 'russian'), 2),\n",
              " (('us', 'biden'), 3),\n",
              " (('news', 'biden'), 2),\n",
              " (('usa', 'war'), 2),\n",
              " (('putin', 'biden'), 7),\n",
              " (('ukrainerussiawar', 'russia'), 2),\n",
              " (('ukrainerussiawar', 'ukraine'), 18),\n",
              " (('ukrainerussiawar', 'kyiv'), 3),\n",
              " (('nftcommunity', 'eth'), 2),\n",
              " (('nftcommunity', '0xbaec'), 2),\n",
              " (('nftcommunity', 'nftart'), 2),\n",
              " (('nftcommunity', 'nftproject'), 2),\n",
              " (('nftcommunity', 'nfts'), 3),\n",
              " (('nftdrop', 'eth'), 2),\n",
              " (('nftdrop', '0xbaec'), 2),\n",
              " (('nftdrop', 'nftart'), 2),\n",
              " (('nftdrop', 'nftproject'), 2),\n",
              " (('nftdrop', 'nfts'), 2),\n",
              " (('airdrop', 'nft'), 2),\n",
              " (('airdrop', 'mint'), 2),\n",
              " (('airdrop', 'nftgiveaway'), 2),\n",
              " (('airdrop', 'eth'), 2),\n",
              " (('airdrop', '0xbaec'), 2),\n",
              " (('airdrop', 'nftart'), 2),\n",
              " (('airdrop', 'nftproject'), 2),\n",
              " (('airdrop', 'nfts'), 2),\n",
              " (('nftcollectible', 'nft'), 2),\n",
              " (('nftcollectible', 'mint'), 2),\n",
              " (('nftcollectible', 'nftgiveaway'), 2),\n",
              " (('nftcollectible', 'eth'), 2),\n",
              " (('nftcollectible', '0xbaec'), 2),\n",
              " (('nftcollectible', 'nftart'), 2),\n",
              " (('nftcollectible', 'nftproject'), 2),\n",
              " (('nftcollectible', 'nfts'), 2),\n",
              " (('bayc', 'nft'), 2),\n",
              " (('bayc', 'mint'), 2),\n",
              " (('bayc', 'nftgiveaway'), 2),\n",
              " (('bayc', 'eth'), 2),\n",
              " (('bayc', '0xbaec'), 2),\n",
              " (('bayc', 'nftart'), 2),\n",
              " (('bayc', 'nftproject'), 2),\n",
              " (('bayc', 'nfts'), 2),\n",
              " (('ukrainian', 'kyiv'), 6),\n",
              " (('sumy', 'kyiv'), 4),\n",
              " (('kherson', 'kyiv'), 4),\n",
              " (('voteno', 'ukraine'), 8),\n",
              " (('tigraycantwait', 'ukraine'), 8),\n",
              " (('ukrainian', 'russia'), 3),\n",
              " (('chernihiv', 'ukraine'), 7),\n",
              " (('vladimirputin', 'russia'), 2),\n",
              " (('joebiden', 'russia'), 2),\n",
              " (('standwithukraine', 'russiakills'), 2),\n",
              " (('stopputin', 'stoprussia'), 3),\n",
              " (('stopputin', 'russiakills'), 2),\n",
              " (('stoprussianaggression', 'stoprussia'), 3),\n",
              " (('stoprussianaggression', 'russiakills'), 2),\n",
              " (('tigraygenocide', 'ukraine'), 7),\n",
              " (('tigraygenocide', 'tigray'), 6),\n",
              " (('tigraygenocide', 'supporthr6600'), 7),\n",
              " (('bidencrimefamilly', 'biden'), 4),\n",
              " (('ukrainian', 'ukraine'), 5),\n",
              " (('ukrainerussiawar', 'mint'), 5),\n",
              " (('luhansk', 'russian'), 3),\n",
              " (('standwithukraine', 'oprussia'), 2),\n",
              " (('freeukraine', 'oprussia'), 2),\n",
              " (('us', 'china'), 2),\n",
              " (('us', 'covid19'), 2),\n",
              " (('us', 'intellectualproperty'), 2),\n",
              " (('ccp', 'china'), 2),\n",
              " (('ccp', 'biden'), 2),\n",
              " (('ccp', 'covid19'), 2),\n",
              " (('ccp', 'intellectualproperty'), 2),\n",
              " (('americans', 'china'), 2),\n",
              " (('americans', 'biden'), 2),\n",
              " (('americans', 'covid19'), 2),\n",
              " (('americans', 'intellectualproperty'), 2),\n",
              " (('fentanyl', 'china'), 2),\n",
              " (('fentanyl', 'biden'), 2),\n",
              " (('fentanyl', 'covid19'), 2),\n",
              " (('fentanyl', 'intellectualproperty'), 2),\n",
              " (('mariupol', 'russian'), 2),\n",
              " (('moscow', 'russia'), 2),\n",
              " (('zelenskyy', 'ukraine'), 2),\n",
              " (('armenia', 'russia'), 2),\n",
              " (('armenia', 'ukraine'), 2),\n",
              " (('russiaukrainewar', 'ukraine'), 3),\n",
              " (('ukrainerussianwar', 'war'), 2),\n",
              " (('kherson', 'ukraine'), 2),\n",
              " (('chernihiv', 'kyiv'), 3),\n",
              " (('luhansk', 'ukraine'), 3),\n",
              " (('ukraineunderattaсk', 'warinukraine'), 3),\n",
              " (('ukraineunderattaсk', 'russianwarcrimes'), 2),\n",
              " (('ukraineunderattaсk', 'harkiv'), 2),\n",
              " (('ukrainewillwin', 'warinukraine'), 2),\n",
              " (('ukrainewillwin', 'russianwarcrimes'), 2),\n",
              " (('ukrainewillwin', 'harkiv'), 2),\n",
              " (('ukrainerussianwar', 'ukrainewar'), 2),\n",
              " (('ukrainerussianwar', 'kyiv'), 2),\n",
              " (('odessa', 'ukraine'), 2),\n",
              " (('chechnya', 'ukraine'), 2),\n",
              " (('chechnya', 'kadyrovites'), 2),\n",
              " (('tiktok', 'ukraine'), 2),\n",
              " (('tiktok', 'kadyrovites'), 2),\n",
              " (('nazis', 'russian'), 2),\n",
              " (('russiaukrainewar', 'russiaukraineconflict'), 2),\n",
              " (('putin', 'pakistan'), 2),\n",
              " (('putin', 'libya'), 2),\n",
              " (('putin', 'syria'), 2),\n",
              " (('otancriminal', 'russia'), 2),\n",
              " (('otancriminal', 'pakistan'), 2),\n",
              " (('otancriminal', 'libya'), 2),\n",
              " (('otancriminal', 'syria'), 2),\n",
              " (('newworldorder', 'russia'), 2),\n",
              " (('newworldorder', 'pakistan'), 2),\n",
              " (('newworldorder', 'libya'), 2),\n",
              " (('newworldorder', 'syria'), 2),\n",
              " (('iraq', 'russia'), 2),\n",
              " (('iraq', 'pakistan'), 2),\n",
              " (('iraq', 'libya'), 2),\n",
              " (('iraq', 'syria'), 2),\n",
              " (('yemen', 'russia'), 2),\n",
              " (('yemen', 'pakistan'), 2),\n",
              " (('yemen', 'libya'), 2),\n",
              " (('yemen', 'syria'), 2),\n",
              " (('afghanistan', 'russia'), 2),\n",
              " (('afghanistan', 'pakistan'), 2),\n",
              " (('afghanistan', 'libya'), 2),\n",
              " (('afghanistan', 'syria'), 2),\n",
              " (('standwithukraine', 'soul'), 3),\n",
              " (('standwithukraine', 'musica'), 3),\n",
              " (('standwithukraine', 'musique'), 3),\n",
              " (('peace', 'soul'), 3),\n",
              " (('peace', 'musica'), 3),\n",
              " (('peace', 'musique'), 3),\n",
              " (('music', 'soul'), 3),\n",
              " (('music', 'musica'), 3),\n",
              " (('music', 'musique'), 3),\n",
              " (('marvingaye', 'soul'), 3),\n",
              " (('marvingaye', 'musica'), 3),\n",
              " (('marvingaye', 'musique'), 3),\n",
              " (('blues', 'soul'), 3),\n",
              " (('blues', 'musica'), 3),\n",
              " (('blues', 'musique'), 3),\n",
              " (('ukrainerussiawar', 'russiaukraineconflict'), 2),\n",
              " (('ukrainian', 'chernobyl'), 2),\n",
              " (('ukrainian', 'belarus'), 2),\n",
              " (('maps', 'ukraine'), 2),\n",
              " (('maps', 'russian'), 2)]"
            ]
          },
          "metadata": {},
          "execution_count": 266
        }
      ]
    },
    {
      "cell_type": "code",
      "source": [
        ""
      ],
      "metadata": {
        "id": "6lrE59UBfsqe"
      },
      "execution_count": 168,
      "outputs": []
    },
    {
      "cell_type": "code",
      "source": [
        "mylist = ['apple', 'banana', 'cherry']\n",
        "x = frozenset(mylist)\n",
        "print(x)\n",
        "y = set([\"apple\"])\n",
        "print(y)\n",
        "y.issubset(x)\n",
        "\n",
        "hashing(x)"
      ],
      "metadata": {
        "colab": {
          "base_uri": "https://localhost:8080/"
        },
        "id": "U2VYH68Afss8",
        "outputId": "b3eaaee7-fcb7-4a3a-b086-6f864d3d2fea"
      },
      "execution_count": 256,
      "outputs": [
        {
          "output_type": "stream",
          "name": "stdout",
          "text": [
            "frozenset({'banana', 'apple', 'cherry'})\n",
            "{'apple'}\n"
          ]
        },
        {
          "output_type": "execute_result",
          "data": {
            "text/plain": [
              "29245"
            ]
          },
          "metadata": {},
          "execution_count": 256
        }
      ]
    },
    {
      "cell_type": "code",
      "source": [
        "while True:\n",
        "  pass"
      ],
      "metadata": {
        "id": "fhrFCh626nUv",
        "colab": {
          "base_uri": "https://localhost:8080/",
          "height": 182
        },
        "outputId": "e91c3724-cd2f-4376-d25d-ec002a278003"
      },
      "execution_count": 244,
      "outputs": [
        {
          "output_type": "error",
          "ename": "KeyboardInterrupt",
          "evalue": "ignored",
          "traceback": [
            "\u001b[0;31m---------------------------------------------------------------------------\u001b[0m",
            "\u001b[0;31mKeyboardInterrupt\u001b[0m                         Traceback (most recent call last)",
            "\u001b[0;32m<ipython-input-244-648a2bab0435>\u001b[0m in \u001b[0;36m<module>\u001b[0;34m()\u001b[0m\n\u001b[1;32m      1\u001b[0m \u001b[0;32mwhile\u001b[0m \u001b[0;32mTrue\u001b[0m\u001b[0;34m:\u001b[0m\u001b[0;34m\u001b[0m\u001b[0;34m\u001b[0m\u001b[0m\n\u001b[0;32m----> 2\u001b[0;31m   \u001b[0;32mpass\u001b[0m\u001b[0;34m\u001b[0m\u001b[0;34m\u001b[0m\u001b[0m\n\u001b[0m",
            "\u001b[0;31mKeyboardInterrupt\u001b[0m: "
          ]
        }
      ]
    },
    {
      "cell_type": "code",
      "source": [
        ""
      ],
      "metadata": {
        "id": "4UZ5i-p16nWi"
      },
      "execution_count": null,
      "outputs": []
    },
    {
      "cell_type": "code",
      "source": [
        ""
      ],
      "metadata": {
        "id": "wllkH3j182I7"
      },
      "execution_count": null,
      "outputs": []
    },
    {
      "cell_type": "code",
      "source": [
        ""
      ],
      "metadata": {
        "id": "WsUtwinXG3Oo"
      },
      "execution_count": null,
      "outputs": []
    },
    {
      "cell_type": "code",
      "source": [
        ""
      ],
      "metadata": {
        "id": "WLwi2myJM8lJ"
      },
      "execution_count": null,
      "outputs": []
    }
  ],
  "metadata": {
    "colab": {
      "collapsed_sections": [],
      "name": "AMD_FILE_FEDE.ipynb",
      "provenance": []
    },
    "kernelspec": {
      "display_name": "Python 3",
      "name": "python3"
    },
    "language_info": {
      "name": "python"
    }
  },
  "nbformat": 4,
  "nbformat_minor": 0
}