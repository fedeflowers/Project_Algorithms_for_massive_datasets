{
  "cells": [
    {
      "cell_type": "markdown",
      "metadata": {
        "id": "I75tB61RaDHK"
      },
      "source": [
        "## Spark setting"
      ]
    },
    {
      "cell_type": "code",
      "execution_count": null,
      "metadata": {
        "id": "ocBQFMViafoF"
      },
      "outputs": [],
      "source": [
        "!apt-get install openjdk-8-jdk-headless -qq > /dev/null\n",
        "!wget -q http://www-eu.apache.org/dist/spark/spark-3.0.3/spark-3.0.3-bin-hadoop2.7.tgz\n",
        "!tar xf spark-3.0.3-bin-hadoop2.7.tgz\n",
        "!pip install -q findspark"
      ]
    },
    {
      "cell_type": "code",
      "execution_count": null,
      "metadata": {
        "id": "wg_tN5RmkCq3"
      },
      "outputs": [],
      "source": [
        "import os\n",
        "os.environ[\"JAVA_HOME\"] = \"/usr/lib/jvm/java-8-openjdk-amd64\"\n",
        "os.environ[\"SPARK_HOME\"] = \"/content/spark-3.0.3-bin-hadoop2.7\""
      ]
    },
    {
      "cell_type": "code",
      "execution_count": null,
      "metadata": {
        "id": "ehkhKsLqafrV"
      },
      "outputs": [],
      "source": [
        "import findspark\n",
        "findspark.init(\"spark-3.0.3-bin-hadoop2.7\")# SPARK_HOME\n",
        "from pyspark.sql import SparkSession\n",
        "spark = SparkSession.builder.master(\"local[*]\").getOrCreate()"
      ]
    },
    {
      "cell_type": "code",
      "execution_count": null,
      "metadata": {
        "colab": {
          "base_uri": "https://localhost:8080/"
        },
        "id": "AMVtczB1kLun",
        "outputId": "86622a38-4d01-4d92-d069-5331ab3ad5db"
      },
      "outputs": [
        {
          "output_type": "execute_result",
          "data": {
            "text/plain": [
              "pyspark.sql.session.SparkSession"
            ]
          },
          "metadata": {},
          "execution_count": 4
        }
      ],
      "source": [
        "import pyspark\n",
        "type(spark)"
      ]
    },
    {
      "cell_type": "markdown",
      "metadata": {
        "id": "n8WiLqFNaAbz"
      },
      "source": [
        "## Kaggle APIs"
      ]
    },
    {
      "cell_type": "markdown",
      "metadata": {
        "id": "5DCmGBC2ZoBi"
      },
      "source": [
        "________________________________________________________________________"
      ]
    },
    {
      "cell_type": "code",
      "execution_count": null,
      "metadata": {
        "colab": {
          "base_uri": "https://localhost:8080/",
          "height": 92,
          "resources": {
            "http://localhost:8080/nbextensions/google.colab/files.js": {
              "data": "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",
              "headers": [
                [
                  "content-type",
                  "application/javascript"
                ]
              ],
              "ok": true,
              "status": 200,
              "status_text": ""
            }
          }
        },
        "id": "wvJrKVr00SxV",
        "outputId": "ec390949-83bb-492e-de57-b2868bf673df"
      },
      "outputs": [
        {
          "output_type": "display_data",
          "data": {
            "text/plain": [
              "<IPython.core.display.HTML object>"
            ],
            "text/html": [
              "\n",
              "     <input type=\"file\" id=\"files-ff8ba853-6414-4d92-b4ed-f2225f699801\" name=\"files[]\" multiple disabled\n",
              "        style=\"border:none\" />\n",
              "     <output id=\"result-ff8ba853-6414-4d92-b4ed-f2225f699801\">\n",
              "      Upload widget is only available when the cell has been executed in the\n",
              "      current browser session. Please rerun this cell to enable.\n",
              "      </output>\n",
              "      <script src=\"/nbextensions/google.colab/files.js\"></script> "
            ]
          },
          "metadata": {}
        },
        {
          "output_type": "stream",
          "name": "stdout",
          "text": [
            "Saving kaggle.json to kaggle.json\n"
          ]
        },
        {
          "output_type": "execute_result",
          "data": {
            "text/plain": [
              "{'kaggle.json': b'{\"username\":\"federicofiorio\",\"key\":\"3c9fda0dd26cc20d5f652a577743142c\"} \\r\\n'}"
            ]
          },
          "metadata": {},
          "execution_count": 5
        }
      ],
      "source": [
        "from google.colab import files\n",
        "files.upload() #upload kaggle.json"
      ]
    },
    {
      "cell_type": "code",
      "execution_count": null,
      "metadata": {
        "colab": {
          "base_uri": "https://localhost:8080/"
        },
        "id": "9cD_HErCy5VX",
        "outputId": "25bb46ba-795c-437e-fd1b-c7360e683676"
      },
      "outputs": [
        {
          "output_type": "stream",
          "name": "stdout",
          "text": [
            "Looking in indexes: https://pypi.org/simple, https://us-python.pkg.dev/colab-wheels/public/simple/\n",
            "Requirement already satisfied: kaggle in /usr/local/lib/python3.7/dist-packages (1.5.12)\n",
            "Requirement already satisfied: python-slugify in /usr/local/lib/python3.7/dist-packages (from kaggle) (6.1.2)\n",
            "Requirement already satisfied: requests in /usr/local/lib/python3.7/dist-packages (from kaggle) (2.23.0)\n",
            "Requirement already satisfied: python-dateutil in /usr/local/lib/python3.7/dist-packages (from kaggle) (2.8.2)\n",
            "Requirement already satisfied: tqdm in /usr/local/lib/python3.7/dist-packages (from kaggle) (4.64.0)\n",
            "Requirement already satisfied: urllib3 in /usr/local/lib/python3.7/dist-packages (from kaggle) (1.24.3)\n",
            "Requirement already satisfied: certifi in /usr/local/lib/python3.7/dist-packages (from kaggle) (2022.5.18.1)\n",
            "Requirement already satisfied: six>=1.10 in /usr/local/lib/python3.7/dist-packages (from kaggle) (1.15.0)\n",
            "Requirement already satisfied: text-unidecode>=1.3 in /usr/local/lib/python3.7/dist-packages (from python-slugify->kaggle) (1.3)\n",
            "Requirement already satisfied: idna<3,>=2.5 in /usr/local/lib/python3.7/dist-packages (from requests->kaggle) (2.10)\n",
            "Requirement already satisfied: chardet<4,>=3.0.2 in /usr/local/lib/python3.7/dist-packages (from requests->kaggle) (3.0.4)\n"
          ]
        }
      ],
      "source": [
        "! pip install kaggle"
      ]
    },
    {
      "cell_type": "code",
      "execution_count": null,
      "metadata": {
        "id": "BCLkDT1D09a5"
      },
      "outputs": [],
      "source": [
        "! mkdir ~/.kaggle"
      ]
    },
    {
      "cell_type": "code",
      "execution_count": null,
      "metadata": {
        "id": "hAqh9chf0_0N"
      },
      "outputs": [],
      "source": [
        "!cp kaggle.json ~/.kaggle/"
      ]
    },
    {
      "cell_type": "code",
      "execution_count": null,
      "metadata": {
        "colab": {
          "base_uri": "https://localhost:8080/"
        },
        "id": "t6hitlea7e1f",
        "outputId": "173d07e0-41e5-49ef-bb23-6086a2712711"
      },
      "outputs": [
        {
          "output_type": "stream",
          "name": "stdout",
          "text": [
            "kaggle.json\n"
          ]
        }
      ],
      "source": [
        "!ls ~/.kaggle"
      ]
    },
    {
      "cell_type": "code",
      "execution_count": null,
      "metadata": {
        "id": "GSkmf6Zc4dNv"
      },
      "outputs": [],
      "source": [
        "!chmod 600 /root/.kaggle/kaggle.json"
      ]
    },
    {
      "cell_type": "code",
      "execution_count": null,
      "metadata": {
        "colab": {
          "base_uri": "https://localhost:8080/"
        },
        "id": "Dv7QkLHU4nI2",
        "outputId": "59b25895-cd6e-45f1-e36c-35d9a91bb762"
      },
      "outputs": [
        {
          "output_type": "stream",
          "name": "stdout",
          "text": [
            "Downloading ukraine-russian-crisis-twitter-dataset-1-2-m-rows.zip to /content\n",
            "100% 8.22G/8.23G [00:51<00:00, 244MB/s]\n",
            "100% 8.23G/8.23G [00:51<00:00, 171MB/s]\n"
          ]
        }
      ],
      "source": [
        "!kaggle datasets download -d bwandowando/ukraine-russian-crisis-twitter-dataset-1-2-m-rows"
      ]
    },
    {
      "cell_type": "code",
      "execution_count": null,
      "metadata": {
        "colab": {
          "base_uri": "https://localhost:8080/"
        },
        "id": "lBspS-4-9Xgp",
        "outputId": "ec57f093-ca01-40bd-8509-21eca7d0e5ab"
      },
      "outputs": [
        {
          "output_type": "stream",
          "name": "stdout",
          "text": [
            "kaggle.json\n",
            "sample_data\n",
            "spark-3.0.3-bin-hadoop2.7\n",
            "spark-3.0.3-bin-hadoop2.7.tgz\n",
            "ukraine-russian-crisis-twitter-dataset-1-2-m-rows.zip\n"
          ]
        }
      ],
      "source": [
        "!ls"
      ]
    },
    {
      "cell_type": "code",
      "execution_count": null,
      "metadata": {
        "colab": {
          "base_uri": "https://localhost:8080/"
        },
        "id": "JOCKUrFx22Sp",
        "outputId": "18c57907-be1d-4ae3-c52b-241793d696a1"
      },
      "outputs": [
        {
          "output_type": "stream",
          "name": "stdout",
          "text": [
            "Archive:  ukraine-russian-crisis-twitter-dataset-1-2-m-rows.zip\n",
            "  inflating: 0401_UkraineCombinedTweetsDeduped.csv.gzip  \n",
            "  inflating: 0402_UkraineCombinedTweetsDeduped.csv.gzip  \n",
            "  inflating: 0403_UkraineCombinedTweetsDeduped.csv.gzip  \n",
            "  inflating: 0404_UkraineCombinedTweetsDeduped.csv.gzip  \n",
            "  inflating: 0405_UkraineCombinedTweetsDeduped.csv.gzip  \n",
            "  inflating: 0406_UkraineCombinedTweetsDeduped.csv.gzip  \n",
            "  inflating: 0407_UkraineCombinedTweetsDeduped.csv.gzip  \n",
            "  inflating: 0408_UkraineCombinedTweetsDeduped.csv.gzip  \n",
            "  inflating: 0409_UkraineCombinedTweetsDeduped.csv.gzip  \n",
            "  inflating: 0410_UkraineCombinedTweetsDeduped.csv.gzip  \n",
            "  inflating: 0411_UkraineCombinedTweetsDeduped.csv.gzip  \n",
            "  inflating: 0412_UkraineCombinedTweetsDeduped.csv.gzip  \n",
            "  inflating: 0413_UkraineCombinedTweetsDeduped.csv.gzip  \n",
            "  inflating: 0414_UkraineCombinedTweetsDeduped.csv.gzip  \n",
            "  inflating: 0415_UkraineCombinedTweetsDeduped.csv.gzip  \n",
            "  inflating: 0416_UkraineCombinedTweetsDeduped.csv.gzip  \n",
            "  inflating: 0417_UkraineCombinedTweetsDeduped.csv.gzip  \n",
            "  inflating: 0418_UkraineCombinedTweetsDeduped.csv.gzip  \n",
            "  inflating: 0419_UkraineCombinedTweetsDeduped.csv.gzip  \n",
            "  inflating: 0420_UkraineCombinedTweetsDeduped.csv.gzip  \n",
            "  inflating: 0421_UkraineCombinedTweetsDeduped.csv.gzip  \n",
            "  inflating: 0422_UkraineCombinedTweetsDeduped.csv.gzip  \n",
            "  inflating: 0423_UkraineCombinedTweetsDeduped.csv.gzip  \n",
            "  inflating: 0424_UkraineCombinedTweetsDeduped.csv.gzip  \n",
            "  inflating: 0425_UkraineCombinedTweetsDeduped.csv.gzip  \n",
            "  inflating: 0426_UkraineCombinedTweetsDeduped.csv.gzip  \n",
            "  inflating: 0427_UkraineCombinedTweetsDeduped.csv.gzip  \n",
            "  inflating: 0428_UkraineCombinedTweetsDeduped.csv.gzip  \n",
            "  inflating: 0429_UkraineCombinedTweetsDeduped.csv.gzip  \n",
            "  inflating: 0430_UkraineCombinedTweetsDeduped.csv.gzip  \n",
            "  inflating: 0501_UkraineCombinedTweetsDeduped.csv.gzip  \n",
            "  inflating: 0502_UkraineCombinedTweetsDeduped.csv.gzip  \n",
            "  inflating: 0503_UkraineCombinedTweetsDeduped.csv.gzip  \n",
            "  inflating: 0504_UkraineCombinedTweetsDeduped.csv.gzip  \n",
            "  inflating: 0505_to_0507_UkraineCombinedTweetsDeduped.csv.gzip  \n",
            "  inflating: 0508_UkraineCombinedTweetsDeduped.csv.gzip  \n",
            "  inflating: 0509_UkraineCombinedTweetsDeduped.csv.gzip  \n",
            "  inflating: 0510_UkraineCombinedTweetsDeduped.csv.gzip  \n",
            "  inflating: 0511_UkraineCombinedTweetsDeduped.csv.gzip  \n",
            "  inflating: 0512_UkraineCombinedTweetsDeduped.csv.gzip  \n",
            "  inflating: 0513_UkraineCombinedTweetsDeduped.csv.gzip  \n",
            "  inflating: 0514_UkraineCombinedTweetsDeduped.csv.gzip  \n",
            "  inflating: 0515_UkraineCombinedTweetsDeduped.csv.gzip  \n",
            "  inflating: 0516_UkraineCombinedTweetsDeduped.csv.gzip  \n",
            "  inflating: 0517_UkraineCombinedTweetsDeduped.csv.gzip  \n",
            "  inflating: 0518_UkraineCombinedTweetsDeduped.csv.gzip  \n",
            "  inflating: 0519_UkraineCombinedTweetsDeduped.csv.gzip  \n",
            "  inflating: 0520_UkraineCombinedTweetsDeduped.csv.gzip  \n",
            "  inflating: 0521_UkraineCombinedTweetsDeduped.csv.gzip  \n",
            "  inflating: 0522_UkraineCombinedTweetsDeduped.csv.gzip  \n",
            "  inflating: 0523_UkraineCombinedTweetsDeduped.csv.gzip  \n",
            "  inflating: 0524_UkraineCombinedTweetsDeduped.csv.gzip  \n",
            "  inflating: 0525_UkraineCombinedTweetsDeduped.csv.gzip  \n",
            "  inflating: 0526_UkraineCombinedTweetsDeduped.csv.gzip  \n",
            "  inflating: 0527_UkraineCombinedTweetsDeduped.csv.gzip  \n",
            "  inflating: 0528_UkraineCombinedTweetsDeduped.csv.gzip  \n",
            "  inflating: 0529_UkraineCombinedTweetsDeduped.csv.gzip  \n",
            "  inflating: 0530_UkraineCombinedTweetsDeduped.csv.gzip  \n",
            "  inflating: 0531_UkraineCombinedTweetsDeduped.csv.gzip  \n",
            "  inflating: 0601_UkraineCombinedTweetsDeduped.csv.gzip  \n",
            "  inflating: 0602_UkraineCombinedTweetsDeduped.csv.gzip  \n",
            "  inflating: 0603_UkraineCombinedTweetsDeduped.csv.gzip  \n",
            "  inflating: UkraineCombinedTweetsDeduped20220227-131611.csv.gzip  \n",
            "  inflating: UkraineCombinedTweetsDeduped_FEB27.csv.gzip  \n",
            "  inflating: UkraineCombinedTweetsDeduped_FEB28_part1.csv.gzip  \n",
            "  inflating: UkraineCombinedTweetsDeduped_FEB28_part2.csv.gzip  \n",
            "  inflating: UkraineCombinedTweetsDeduped_MAR01.csv.gzip  \n",
            "  inflating: UkraineCombinedTweetsDeduped_MAR02.csv.gzip  \n",
            "  inflating: UkraineCombinedTweetsDeduped_MAR03.csv.gzip  \n",
            "  inflating: UkraineCombinedTweetsDeduped_MAR04.csv.gzip  \n",
            "  inflating: UkraineCombinedTweetsDeduped_MAR05.csv.gzip  \n",
            "  inflating: UkraineCombinedTweetsDeduped_MAR06.csv.gzip  \n",
            "  inflating: UkraineCombinedTweetsDeduped_MAR07.csv.gzip  \n",
            "  inflating: UkraineCombinedTweetsDeduped_MAR08.csv.gzip  \n",
            "  inflating: UkraineCombinedTweetsDeduped_MAR09.csv.gzip  \n",
            "  inflating: UkraineCombinedTweetsDeduped_MAR10.csv.gzip  \n",
            "  inflating: UkraineCombinedTweetsDeduped_MAR11.csv.gzip  \n",
            "  inflating: UkraineCombinedTweetsDeduped_MAR12.csv.gzip  \n",
            "  inflating: UkraineCombinedTweetsDeduped_MAR13.csv.gzip  \n",
            "  inflating: UkraineCombinedTweetsDeduped_MAR14.csv.gzip  \n",
            "  inflating: UkraineCombinedTweetsDeduped_MAR15.csv.gzip  \n",
            "  inflating: UkraineCombinedTweetsDeduped_MAR16.csv.gzip  \n",
            "  inflating: UkraineCombinedTweetsDeduped_MAR17.csv.gzip  \n",
            "  inflating: UkraineCombinedTweetsDeduped_MAR18.csv.gzip  \n",
            "  inflating: UkraineCombinedTweetsDeduped_MAR19.csv.gzip  \n",
            "  inflating: UkraineCombinedTweetsDeduped_MAR20.csv.gzip  \n",
            "  inflating: UkraineCombinedTweetsDeduped_MAR21.csv.gzip  \n",
            "  inflating: UkraineCombinedTweetsDeduped_MAR22.csv.gzip  \n",
            "  inflating: UkraineCombinedTweetsDeduped_MAR23.csv.gzip  \n",
            "  inflating: UkraineCombinedTweetsDeduped_MAR24.csv.gzip  \n",
            "  inflating: UkraineCombinedTweetsDeduped_MAR25.csv.gzip  \n",
            "  inflating: UkraineCombinedTweetsDeduped_MAR26.csv.gzip  \n",
            "  inflating: UkraineCombinedTweetsDeduped_MAR27_to_28.csv.gzip  \n",
            "  inflating: UkraineCombinedTweetsDeduped_MAR29.csv.gzip  \n",
            "  inflating: UkraineCombinedTweetsDeduped_MAR30_REAL.csv.gzip  \n",
            "  inflating: UkraineCombinedTweetsDeduped_MAR31.csv.gzip  \n"
          ]
        }
      ],
      "source": [
        "!unzip ukraine-russian-crisis-twitter-dataset-1-2-m-rows.zip"
      ]
    },
    {
      "cell_type": "markdown",
      "metadata": {
        "id": "r9XHPiaqZ0zz"
      },
      "source": [
        "## Use the data"
      ]
    },
    {
      "cell_type": "markdown",
      "metadata": {
        "id": "Q2RBBWPHZx4r"
      },
      "source": [
        "________________________________________________________________________"
      ]
    },
    {
      "cell_type": "code",
      "execution_count": null,
      "metadata": {
        "id": "bNY3XvoLw3md"
      },
      "outputs": [],
      "source": [
        "import numpy as np\n",
        "import pandas as pd\n",
        "import csv\n",
        "import os\n",
        "import warnings"
      ]
    },
    {
      "cell_type": "code",
      "execution_count": null,
      "metadata": {
        "colab": {
          "base_uri": "https://localhost:8080/"
        },
        "id": "Hh2IS9SM9pYh",
        "outputId": "599253ac-2c57-4180-ec80-117ef0eade3b"
      },
      "outputs": [
        {
          "output_type": "stream",
          "name": "stderr",
          "text": [
            "/usr/local/lib/python3.7/dist-packages/IPython/core/interactiveshell.py:2882: DtypeWarning: Columns (15) have mixed types.Specify dtype option on import or set low_memory=False.\n",
            "  exec(code_obj, self.user_global_ns, self.user_ns)\n"
          ]
        }
      ],
      "source": [
        "filename = r\"0401_UkraineCombinedTweetsDeduped.csv.gzip\"\n",
        "df = pd.read_csv(filename, compression='gzip', index_col=0,encoding='utf-8', quoting=csv.QUOTE_ALL)"
      ]
    },
    {
      "cell_type": "code",
      "execution_count": null,
      "metadata": {
        "colab": {
          "base_uri": "https://localhost:8080/",
          "height": 582
        },
        "id": "JCM3URp35liu",
        "outputId": "18c1a068-75eb-403b-8edd-3464ea4648a7"
      },
      "outputs": [
        {
          "output_type": "execute_result",
          "data": {
            "text/plain": [
              "                                                                0  \\\n",
              "userid                                                   16882774   \n",
              "username                                                  Yaniela   \n",
              "acctdesc        Animal lover, supports those who fight injusti...   \n",
              "location                                                   Hawaii   \n",
              "following                                                    1158   \n",
              "followers                                                     392   \n",
              "totaltweets                                                 88366   \n",
              "usercreatedts                          2008-10-21 07:34:04.000000   \n",
              "tweetid                                       1509681950042198030   \n",
              "tweetcreatedts                         2022-04-01 00:00:00.000000   \n",
              "retweetcount                                                 3412   \n",
              "text            ⚡The Ukrainian Air Force would like to address...   \n",
              "hashtags                                                       []   \n",
              "language                                                       en   \n",
              "coordinates                                                   NaN   \n",
              "favorite_count                                                  0   \n",
              "extractedts                            2022-04-01 00:44:20.097867   \n",
              "\n",
              "                                                                1  \n",
              "userid                                                 3205296069  \n",
              "username                                                 gregffff  \n",
              "acctdesc                                                      NaN  \n",
              "location                                                      NaN  \n",
              "following                                                     122  \n",
              "followers                                                     881  \n",
              "totaltweets                                                 99853  \n",
              "usercreatedts                          2015-04-25 11:24:34.000000  \n",
              "tweetid                                       1509681950151348229  \n",
              "tweetcreatedts                         2022-04-01 00:00:00.000000  \n",
              "retweetcount                                                  100  \n",
              "text            Chernihiv oblast. Ukrainians welcome their lib...  \n",
              "hashtags        [{'text': 'russianinvasion', 'indices': [77, 9...  \n",
              "language                                                       en  \n",
              "coordinates                                                   NaN  \n",
              "favorite_count                                                  0  \n",
              "extractedts                            2022-04-01 00:09:37.148770  "
            ],
            "text/html": [
              "\n",
              "  <div id=\"df-3ce592f7-341f-4f9a-91dd-ba5114580b25\">\n",
              "    <div class=\"colab-df-container\">\n",
              "      <div>\n",
              "<style scoped>\n",
              "    .dataframe tbody tr th:only-of-type {\n",
              "        vertical-align: middle;\n",
              "    }\n",
              "\n",
              "    .dataframe tbody tr th {\n",
              "        vertical-align: top;\n",
              "    }\n",
              "\n",
              "    .dataframe thead th {\n",
              "        text-align: right;\n",
              "    }\n",
              "</style>\n",
              "<table border=\"1\" class=\"dataframe\">\n",
              "  <thead>\n",
              "    <tr style=\"text-align: right;\">\n",
              "      <th></th>\n",
              "      <th>0</th>\n",
              "      <th>1</th>\n",
              "    </tr>\n",
              "  </thead>\n",
              "  <tbody>\n",
              "    <tr>\n",
              "      <th>userid</th>\n",
              "      <td>16882774</td>\n",
              "      <td>3205296069</td>\n",
              "    </tr>\n",
              "    <tr>\n",
              "      <th>username</th>\n",
              "      <td>Yaniela</td>\n",
              "      <td>gregffff</td>\n",
              "    </tr>\n",
              "    <tr>\n",
              "      <th>acctdesc</th>\n",
              "      <td>Animal lover, supports those who fight injusti...</td>\n",
              "      <td>NaN</td>\n",
              "    </tr>\n",
              "    <tr>\n",
              "      <th>location</th>\n",
              "      <td>Hawaii</td>\n",
              "      <td>NaN</td>\n",
              "    </tr>\n",
              "    <tr>\n",
              "      <th>following</th>\n",
              "      <td>1158</td>\n",
              "      <td>122</td>\n",
              "    </tr>\n",
              "    <tr>\n",
              "      <th>followers</th>\n",
              "      <td>392</td>\n",
              "      <td>881</td>\n",
              "    </tr>\n",
              "    <tr>\n",
              "      <th>totaltweets</th>\n",
              "      <td>88366</td>\n",
              "      <td>99853</td>\n",
              "    </tr>\n",
              "    <tr>\n",
              "      <th>usercreatedts</th>\n",
              "      <td>2008-10-21 07:34:04.000000</td>\n",
              "      <td>2015-04-25 11:24:34.000000</td>\n",
              "    </tr>\n",
              "    <tr>\n",
              "      <th>tweetid</th>\n",
              "      <td>1509681950042198030</td>\n",
              "      <td>1509681950151348229</td>\n",
              "    </tr>\n",
              "    <tr>\n",
              "      <th>tweetcreatedts</th>\n",
              "      <td>2022-04-01 00:00:00.000000</td>\n",
              "      <td>2022-04-01 00:00:00.000000</td>\n",
              "    </tr>\n",
              "    <tr>\n",
              "      <th>retweetcount</th>\n",
              "      <td>3412</td>\n",
              "      <td>100</td>\n",
              "    </tr>\n",
              "    <tr>\n",
              "      <th>text</th>\n",
              "      <td>⚡The Ukrainian Air Force would like to address...</td>\n",
              "      <td>Chernihiv oblast. Ukrainians welcome their lib...</td>\n",
              "    </tr>\n",
              "    <tr>\n",
              "      <th>hashtags</th>\n",
              "      <td>[]</td>\n",
              "      <td>[{'text': 'russianinvasion', 'indices': [77, 9...</td>\n",
              "    </tr>\n",
              "    <tr>\n",
              "      <th>language</th>\n",
              "      <td>en</td>\n",
              "      <td>en</td>\n",
              "    </tr>\n",
              "    <tr>\n",
              "      <th>coordinates</th>\n",
              "      <td>NaN</td>\n",
              "      <td>NaN</td>\n",
              "    </tr>\n",
              "    <tr>\n",
              "      <th>favorite_count</th>\n",
              "      <td>0</td>\n",
              "      <td>0</td>\n",
              "    </tr>\n",
              "    <tr>\n",
              "      <th>extractedts</th>\n",
              "      <td>2022-04-01 00:44:20.097867</td>\n",
              "      <td>2022-04-01 00:09:37.148770</td>\n",
              "    </tr>\n",
              "  </tbody>\n",
              "</table>\n",
              "</div>\n",
              "      <button class=\"colab-df-convert\" onclick=\"convertToInteractive('df-3ce592f7-341f-4f9a-91dd-ba5114580b25')\"\n",
              "              title=\"Convert this dataframe to an interactive table.\"\n",
              "              style=\"display:none;\">\n",
              "        \n",
              "  <svg xmlns=\"http://www.w3.org/2000/svg\" height=\"24px\"viewBox=\"0 0 24 24\"\n",
              "       width=\"24px\">\n",
              "    <path d=\"M0 0h24v24H0V0z\" fill=\"none\"/>\n",
              "    <path d=\"M18.56 5.44l.94 2.06.94-2.06 2.06-.94-2.06-.94-.94-2.06-.94 2.06-2.06.94zm-11 1L8.5 8.5l.94-2.06 2.06-.94-2.06-.94L8.5 2.5l-.94 2.06-2.06.94zm10 10l.94 2.06.94-2.06 2.06-.94-2.06-.94-.94-2.06-.94 2.06-2.06.94z\"/><path d=\"M17.41 7.96l-1.37-1.37c-.4-.4-.92-.59-1.43-.59-.52 0-1.04.2-1.43.59L10.3 9.45l-7.72 7.72c-.78.78-.78 2.05 0 2.83L4 21.41c.39.39.9.59 1.41.59.51 0 1.02-.2 1.41-.59l7.78-7.78 2.81-2.81c.8-.78.8-2.07 0-2.86zM5.41 20L4 18.59l7.72-7.72 1.47 1.35L5.41 20z\"/>\n",
              "  </svg>\n",
              "      </button>\n",
              "      \n",
              "  <style>\n",
              "    .colab-df-container {\n",
              "      display:flex;\n",
              "      flex-wrap:wrap;\n",
              "      gap: 12px;\n",
              "    }\n",
              "\n",
              "    .colab-df-convert {\n",
              "      background-color: #E8F0FE;\n",
              "      border: none;\n",
              "      border-radius: 50%;\n",
              "      cursor: pointer;\n",
              "      display: none;\n",
              "      fill: #1967D2;\n",
              "      height: 32px;\n",
              "      padding: 0 0 0 0;\n",
              "      width: 32px;\n",
              "    }\n",
              "\n",
              "    .colab-df-convert:hover {\n",
              "      background-color: #E2EBFA;\n",
              "      box-shadow: 0px 1px 2px rgba(60, 64, 67, 0.3), 0px 1px 3px 1px rgba(60, 64, 67, 0.15);\n",
              "      fill: #174EA6;\n",
              "    }\n",
              "\n",
              "    [theme=dark] .colab-df-convert {\n",
              "      background-color: #3B4455;\n",
              "      fill: #D2E3FC;\n",
              "    }\n",
              "\n",
              "    [theme=dark] .colab-df-convert:hover {\n",
              "      background-color: #434B5C;\n",
              "      box-shadow: 0px 1px 3px 1px rgba(0, 0, 0, 0.15);\n",
              "      filter: drop-shadow(0px 1px 2px rgba(0, 0, 0, 0.3));\n",
              "      fill: #FFFFFF;\n",
              "    }\n",
              "  </style>\n",
              "\n",
              "      <script>\n",
              "        const buttonEl =\n",
              "          document.querySelector('#df-3ce592f7-341f-4f9a-91dd-ba5114580b25 button.colab-df-convert');\n",
              "        buttonEl.style.display =\n",
              "          google.colab.kernel.accessAllowed ? 'block' : 'none';\n",
              "\n",
              "        async function convertToInteractive(key) {\n",
              "          const element = document.querySelector('#df-3ce592f7-341f-4f9a-91dd-ba5114580b25');\n",
              "          const dataTable =\n",
              "            await google.colab.kernel.invokeFunction('convertToInteractive',\n",
              "                                                     [key], {});\n",
              "          if (!dataTable) return;\n",
              "\n",
              "          const docLinkHtml = 'Like what you see? Visit the ' +\n",
              "            '<a target=\"_blank\" href=https://colab.research.google.com/notebooks/data_table.ipynb>data table notebook</a>'\n",
              "            + ' to learn more about interactive tables.';\n",
              "          element.innerHTML = '';\n",
              "          dataTable['output_type'] = 'display_data';\n",
              "          await google.colab.output.renderOutput(dataTable, element);\n",
              "          const docLink = document.createElement('div');\n",
              "          docLink.innerHTML = docLinkHtml;\n",
              "          element.appendChild(docLink);\n",
              "        }\n",
              "      </script>\n",
              "    </div>\n",
              "  </div>\n",
              "  "
            ]
          },
          "metadata": {},
          "execution_count": 16
        }
      ],
      "source": [
        "df[0:2].T"
      ]
    },
    {
      "cell_type": "code",
      "execution_count": null,
      "metadata": {
        "colab": {
          "base_uri": "https://localhost:8080/",
          "height": 206
        },
        "id": "YBpT85eV1DUc",
        "outputId": "f9ccc947-939e-4c55-c79c-beb58548c77c"
      },
      "outputs": [
        {
          "output_type": "execute_result",
          "data": {
            "text/plain": [
              "               tweetid                                               text  \\\n",
              "0  1509681950042198030  ⚡The Ukrainian Air Force would like to address...   \n",
              "1  1509681950151348229  Chernihiv oblast. Ukrainians welcome their lib...   \n",
              "2  1509681950683926556  America 🇺🇸 is preparing for something worse th...   \n",
              "3  1509681951116046336  JUST IN: #Anonymous has hacked &amp; released ...   \n",
              "4  1509681951304990720  ***PUBLIC MINT NOW LIVE***\\n\\nFor \\n@billionai...   \n",
              "\n",
              "                                            hashtags language  \n",
              "0                                                 []       en  \n",
              "1  [{'text': 'russianinvasion', 'indices': [77, 9...       en  \n",
              "2  [{'text': 'RussianUkrainianWar', 'indices': [7...       en  \n",
              "3       [{'text': 'Anonymous', 'indices': [25, 35]}]       en  \n",
              "4                                                 []       en  "
            ],
            "text/html": [
              "\n",
              "  <div id=\"df-df55dd1a-34b2-4c33-9e44-1418c38d534d\">\n",
              "    <div class=\"colab-df-container\">\n",
              "      <div>\n",
              "<style scoped>\n",
              "    .dataframe tbody tr th:only-of-type {\n",
              "        vertical-align: middle;\n",
              "    }\n",
              "\n",
              "    .dataframe tbody tr th {\n",
              "        vertical-align: top;\n",
              "    }\n",
              "\n",
              "    .dataframe thead th {\n",
              "        text-align: right;\n",
              "    }\n",
              "</style>\n",
              "<table border=\"1\" class=\"dataframe\">\n",
              "  <thead>\n",
              "    <tr style=\"text-align: right;\">\n",
              "      <th></th>\n",
              "      <th>tweetid</th>\n",
              "      <th>text</th>\n",
              "      <th>hashtags</th>\n",
              "      <th>language</th>\n",
              "    </tr>\n",
              "  </thead>\n",
              "  <tbody>\n",
              "    <tr>\n",
              "      <th>0</th>\n",
              "      <td>1509681950042198030</td>\n",
              "      <td>⚡The Ukrainian Air Force would like to address...</td>\n",
              "      <td>[]</td>\n",
              "      <td>en</td>\n",
              "    </tr>\n",
              "    <tr>\n",
              "      <th>1</th>\n",
              "      <td>1509681950151348229</td>\n",
              "      <td>Chernihiv oblast. Ukrainians welcome their lib...</td>\n",
              "      <td>[{'text': 'russianinvasion', 'indices': [77, 9...</td>\n",
              "      <td>en</td>\n",
              "    </tr>\n",
              "    <tr>\n",
              "      <th>2</th>\n",
              "      <td>1509681950683926556</td>\n",
              "      <td>America 🇺🇸 is preparing for something worse th...</td>\n",
              "      <td>[{'text': 'RussianUkrainianWar', 'indices': [7...</td>\n",
              "      <td>en</td>\n",
              "    </tr>\n",
              "    <tr>\n",
              "      <th>3</th>\n",
              "      <td>1509681951116046336</td>\n",
              "      <td>JUST IN: #Anonymous has hacked &amp;amp; released ...</td>\n",
              "      <td>[{'text': 'Anonymous', 'indices': [25, 35]}]</td>\n",
              "      <td>en</td>\n",
              "    </tr>\n",
              "    <tr>\n",
              "      <th>4</th>\n",
              "      <td>1509681951304990720</td>\n",
              "      <td>***PUBLIC MINT NOW LIVE***\\n\\nFor \\n@billionai...</td>\n",
              "      <td>[]</td>\n",
              "      <td>en</td>\n",
              "    </tr>\n",
              "  </tbody>\n",
              "</table>\n",
              "</div>\n",
              "      <button class=\"colab-df-convert\" onclick=\"convertToInteractive('df-df55dd1a-34b2-4c33-9e44-1418c38d534d')\"\n",
              "              title=\"Convert this dataframe to an interactive table.\"\n",
              "              style=\"display:none;\">\n",
              "        \n",
              "  <svg xmlns=\"http://www.w3.org/2000/svg\" height=\"24px\"viewBox=\"0 0 24 24\"\n",
              "       width=\"24px\">\n",
              "    <path d=\"M0 0h24v24H0V0z\" fill=\"none\"/>\n",
              "    <path d=\"M18.56 5.44l.94 2.06.94-2.06 2.06-.94-2.06-.94-.94-2.06-.94 2.06-2.06.94zm-11 1L8.5 8.5l.94-2.06 2.06-.94-2.06-.94L8.5 2.5l-.94 2.06-2.06.94zm10 10l.94 2.06.94-2.06 2.06-.94-2.06-.94-.94-2.06-.94 2.06-2.06.94z\"/><path d=\"M17.41 7.96l-1.37-1.37c-.4-.4-.92-.59-1.43-.59-.52 0-1.04.2-1.43.59L10.3 9.45l-7.72 7.72c-.78.78-.78 2.05 0 2.83L4 21.41c.39.39.9.59 1.41.59.51 0 1.02-.2 1.41-.59l7.78-7.78 2.81-2.81c.8-.78.8-2.07 0-2.86zM5.41 20L4 18.59l7.72-7.72 1.47 1.35L5.41 20z\"/>\n",
              "  </svg>\n",
              "      </button>\n",
              "      \n",
              "  <style>\n",
              "    .colab-df-container {\n",
              "      display:flex;\n",
              "      flex-wrap:wrap;\n",
              "      gap: 12px;\n",
              "    }\n",
              "\n",
              "    .colab-df-convert {\n",
              "      background-color: #E8F0FE;\n",
              "      border: none;\n",
              "      border-radius: 50%;\n",
              "      cursor: pointer;\n",
              "      display: none;\n",
              "      fill: #1967D2;\n",
              "      height: 32px;\n",
              "      padding: 0 0 0 0;\n",
              "      width: 32px;\n",
              "    }\n",
              "\n",
              "    .colab-df-convert:hover {\n",
              "      background-color: #E2EBFA;\n",
              "      box-shadow: 0px 1px 2px rgba(60, 64, 67, 0.3), 0px 1px 3px 1px rgba(60, 64, 67, 0.15);\n",
              "      fill: #174EA6;\n",
              "    }\n",
              "\n",
              "    [theme=dark] .colab-df-convert {\n",
              "      background-color: #3B4455;\n",
              "      fill: #D2E3FC;\n",
              "    }\n",
              "\n",
              "    [theme=dark] .colab-df-convert:hover {\n",
              "      background-color: #434B5C;\n",
              "      box-shadow: 0px 1px 3px 1px rgba(0, 0, 0, 0.15);\n",
              "      filter: drop-shadow(0px 1px 2px rgba(0, 0, 0, 0.3));\n",
              "      fill: #FFFFFF;\n",
              "    }\n",
              "  </style>\n",
              "\n",
              "      <script>\n",
              "        const buttonEl =\n",
              "          document.querySelector('#df-df55dd1a-34b2-4c33-9e44-1418c38d534d button.colab-df-convert');\n",
              "        buttonEl.style.display =\n",
              "          google.colab.kernel.accessAllowed ? 'block' : 'none';\n",
              "\n",
              "        async function convertToInteractive(key) {\n",
              "          const element = document.querySelector('#df-df55dd1a-34b2-4c33-9e44-1418c38d534d');\n",
              "          const dataTable =\n",
              "            await google.colab.kernel.invokeFunction('convertToInteractive',\n",
              "                                                     [key], {});\n",
              "          if (!dataTable) return;\n",
              "\n",
              "          const docLinkHtml = 'Like what you see? Visit the ' +\n",
              "            '<a target=\"_blank\" href=https://colab.research.google.com/notebooks/data_table.ipynb>data table notebook</a>'\n",
              "            + ' to learn more about interactive tables.';\n",
              "          element.innerHTML = '';\n",
              "          dataTable['output_type'] = 'display_data';\n",
              "          await google.colab.output.renderOutput(dataTable, element);\n",
              "          const docLink = document.createElement('div');\n",
              "          docLink.innerHTML = docLinkHtml;\n",
              "          element.appendChild(docLink);\n",
              "        }\n",
              "      </script>\n",
              "    </div>\n",
              "  </div>\n",
              "  "
            ]
          },
          "metadata": {},
          "execution_count": 17
        }
      ],
      "source": [
        "df = df[['tweetid', 'text', 'hashtags','language']]\n",
        "df.head()"
      ]
    },
    {
      "cell_type": "code",
      "execution_count": null,
      "metadata": {
        "colab": {
          "base_uri": "https://localhost:8080/"
        },
        "id": "g0vF6KiT8YAY",
        "outputId": "044d26a5-67ea-4a03-c5cf-4a9c6a945057"
      },
      "outputs": [
        {
          "output_type": "stream",
          "name": "stdout",
          "text": [
            "0    ⚡The Ukrainian Air Force would like to address misinformation published in multiple Western media outlets regarding the situation in the 🇺🇦 sky and support from our @NATO allies. \\nMore in 🧵(1/16)\\n#ProtectUАSky #StopRussia #UkraineUnderAttaсk\n",
            "Name: text, dtype: object 0    []\n",
            "Name: hashtags, dtype: object\n"
          ]
        }
      ],
      "source": [
        "pd.options.display.max_colwidth = 1200\n",
        "print(df[df['tweetid']==\t1509681950042198030][\"text\"],df[df['tweetid']==\t1509681950042198030][\"hashtags\"])"
      ]
    },
    {
      "cell_type": "markdown",
      "metadata": {
        "id": "HEfNBiN--8NF"
      },
      "source": [
        "As we can see in the previous cell, the tweet has the hashtag #StopRussia #UkraineUnderAttaсk BUT the dataframe (1st tuple) sais there are no hashtag in the tweet. We will recover form this situation by extractin the hashatgs directly from the filed \"text\" and not considering the (wrong) attribute \"hashtags\"."
      ]
    },
    {
      "cell_type": "code",
      "execution_count": null,
      "metadata": {
        "id": "N1KxUUGAlv_X"
      },
      "outputs": [],
      "source": [
        "from pyspark.sql.types import *\n",
        "\n",
        "df = df[['tweetid', 'text','language']] #Taking out the field hashtags\n",
        "\n",
        "schema = StructType([StructField(\"tweetid\", StringType(), True)\\\n",
        "                   ,StructField(\"text\", StringType(), True)\\\n",
        "                   ,StructField(\"language\", StringType(), True)])  #We will use this field to filter out non english tweets\n",
        "\n",
        "#create spark dataframe using schema\n",
        "df_spark = spark.createDataFrame(df,schema=schema)"
      ]
    },
    {
      "cell_type": "code",
      "execution_count": null,
      "metadata": {
        "colab": {
          "base_uri": "https://localhost:8080/"
        },
        "id": "Tv5GCx1alwD3",
        "outputId": "b67426c4-ee1c-48b5-e53e-e66b5678bbb0"
      },
      "outputs": [
        {
          "output_type": "stream",
          "name": "stdout",
          "text": [
            "+-------------------+--------------------+--------+\n",
            "|            tweetid|                text|language|\n",
            "+-------------------+--------------------+--------+\n",
            "|1509681950042198030|⚡The Ukrainian Ai...|      en|\n",
            "|1509681950151348229|Chernihiv oblast....|      en|\n",
            "|1509681950683926556|America 🇺🇸 is p...|      en|\n",
            "|1509681951116046336|JUST IN: #Anonymo...|      en|\n",
            "|1509681951304990720|***PUBLIC MINT NO...|      en|\n",
            "|1509681952000937999|The Amazing story...|      en|\n",
            "|1509681952978210849|&amp;quot;How we ...|      en|\n",
            "|1509681953053843466|India's purchase ...|      en|\n",
            "|1509681953091457035|The most basic te...|      en|\n",
            "|1509681953418711050|\"The image that R...|      en|\n",
            "|1509681953418752008|#Russia’s Preside...|      en|\n",
            "|1509681953636700160|Sad to read of th...|      en|\n",
            "|1509681953947074560|الرئيس الروسي يصع...|      ar|\n",
            "|1509681954488303623|Tank T-34 at the ...|      en|\n",
            "|1509681954647543824|The #Anonymous co...|      en|\n",
            "|1509681955519938561|#Internacional 🇷...|      es|\n",
            "|1509681955603845120|***PUBLIC MINT NO...|      en|\n",
            "|1509681956149104652|#UkraineWar \n",
            "#Rus...|      en|\n",
            "|1509681956224602150|#Putin: Rubleyle ...|      tr|\n",
            "|1509681957524979718|Read: https://t.c...|      en|\n",
            "+-------------------+--------------------+--------+\n",
            "only showing top 20 rows\n",
            "\n"
          ]
        }
      ],
      "source": [
        "df_spark.show()"
      ]
    },
    {
      "cell_type": "markdown",
      "metadata": {
        "id": "UABfyrnmWyLr"
      },
      "source": [
        "## RDD TEXT SERVE PER PRENDERE GLI HASHTAG DAL TWEET IN QUANTO LA COLONNA HASHTAG DEL DATASET NON è ACCURATA"
      ]
    },
    {
      "cell_type": "markdown",
      "metadata": {
        "id": "f6n2gKfOGjGT"
      },
      "source": [
        "We will now use a variable \"rdd_text\" to extract hashtags from the tweets texts"
      ]
    },
    {
      "cell_type": "code",
      "execution_count": null,
      "metadata": {
        "colab": {
          "base_uri": "https://localhost:8080/"
        },
        "id": "-Om2zbCe9yHH",
        "outputId": "7884ee5b-95cd-4f40-f534-d0dc875b90b5"
      },
      "outputs": [
        {
          "output_type": "stream",
          "name": "stdout",
          "text": [
            "[nltk_data] Downloading package punkt to /root/nltk_data...\n",
            "[nltk_data]   Unzipping tokenizers/punkt.zip.\n"
          ]
        },
        {
          "output_type": "execute_result",
          "data": {
            "text/plain": [
              "('1509681950042198030',\n",
              " ['⚡The',\n",
              "  'Ukrainian',\n",
              "  'Air',\n",
              "  'Force',\n",
              "  'would',\n",
              "  'like',\n",
              "  'to',\n",
              "  'address',\n",
              "  'misinformation',\n",
              "  'published',\n",
              "  'in',\n",
              "  'multiple',\n",
              "  'Western',\n",
              "  'media',\n",
              "  'outlets',\n",
              "  'regarding',\n",
              "  'the',\n",
              "  'situation',\n",
              "  'in',\n",
              "  'the',\n",
              "  '🇺🇦',\n",
              "  'sky',\n",
              "  'and',\n",
              "  'support',\n",
              "  'from',\n",
              "  'our',\n",
              "  '@',\n",
              "  'NATO',\n",
              "  'allies',\n",
              "  '.',\n",
              "  'More',\n",
              "  'in',\n",
              "  '🧵',\n",
              "  '(',\n",
              "  '1/16',\n",
              "  ')',\n",
              "  '#',\n",
              "  'ProtectUАSky',\n",
              "  '#',\n",
              "  'StopRussia',\n",
              "  '#',\n",
              "  'UkraineUnderAttaсk'])"
            ]
          },
          "metadata": {},
          "execution_count": 21
        }
      ],
      "source": [
        "import nltk\n",
        "from nltk import word_tokenize\n",
        "import re\n",
        "nltk.download('punkt')\n",
        "\n",
        "rdd = df_spark.rdd #to get the rdd from dataframe\n",
        "\n",
        "rdd.take(10)\n",
        "rdd=rdd.filter(lambda x: x[2] == \"en\") #filter out non english tweets\n",
        "\n",
        "\n",
        "rdd_text = rdd.map(lambda x : (x[0], x[1])).map(lambda x:(x[0], word_tokenize(x[1]))) #id, word_tokenized\n",
        "rdd_text.first()"
      ]
    },
    {
      "cell_type": "markdown",
      "metadata": {
        "id": "9XrEDUBJHdrX"
      },
      "source": [
        "rdd_text.first() contains a key value pair where the key is the tweetid and the value is the text of the tweet tokenized. Now from rdd_text I wil extract only the hashtags."
      ]
    },
    {
      "cell_type": "code",
      "execution_count": null,
      "metadata": {
        "colab": {
          "base_uri": "https://localhost:8080/"
        },
        "id": "NdcDV2lJ_p-2",
        "outputId": "0d3c6ce3-6e6c-4327-bbe7-85cf3c9fdaa6"
      },
      "outputs": [
        {
          "output_type": "execute_result",
          "data": {
            "text/plain": [
              "('1509681950042198030', ['protectuаsky', 'stoprussia', 'ukraineunderattaсk'])"
            ]
          },
          "metadata": {},
          "execution_count": 22
        }
      ],
      "source": [
        "def processHashtags(tweet):\n",
        "  hashtags = []\n",
        "  for i,word in enumerate(tweet):\n",
        "    if word == '#':\n",
        "      try:\n",
        "        hashtags.append(re.sub(r'[^\\w\\s]','',tweet[i+1]).lower()) #remove punctuation with regexp and put them lowercase\n",
        "      except:\n",
        "        pass\n",
        "  return hashtags\n",
        "\n",
        "hashtags_per_tweet = rdd_text.map(lambda x: (x[0], processHashtags(x[1])))\n",
        "hashtags_per_tweet.first()"
      ]
    },
    {
      "cell_type": "markdown",
      "metadata": {
        "id": "B3O-OkGUH2z4"
      },
      "source": [
        "hashtags_per_tweet.first() contains all the hashtags of the first tweet. As We saw earlier, The field \"hashtags\" of the first tweet in the original dataset was a empty list, which is wrong."
      ]
    },
    {
      "cell_type": "code",
      "execution_count": null,
      "metadata": {
        "colab": {
          "base_uri": "https://localhost:8080/"
        },
        "id": "1iEJQjdwUkE9",
        "outputId": "c43c1c9c-99fa-4888-aec3-df26af3bccda"
      },
      "outputs": [
        {
          "output_type": "stream",
          "name": "stdout",
          "text": [
            "root\n",
            " |-- tweet: string (nullable = true)\n",
            " |-- hashtag: array (nullable = true)\n",
            " |    |-- element: string (containsNull = true)\n",
            "\n",
            "+-------------------+--------------------------------------------------------------------------------------------------------------------------------------------------------------------------+\n",
            "|tweet              |hashtag                                                                                                                                                                   |\n",
            "+-------------------+--------------------------------------------------------------------------------------------------------------------------------------------------------------------------+\n",
            "|1509681950042198030|[protectuаsky, stoprussia, ukraineunderattaсk]                                                                                                                            |\n",
            "|1509681950151348229|[russianinvasion, standwithukraine, ukraineunderattack, ukrainewillwin, putinisawarcriminal, stopputin, russianukrainianwar, russiagohome, россиясмотри, нетвойне]        |\n",
            "|1509681950683926556|[russianukrainianwar, china, taiwan]                                                                                                                                      |\n",
            "|1509681951116046336|[anonymous, oprussia, ddosecrets]                                                                                                                                         |\n",
            "|1509681951304990720|[nft, mint]                                                                                                                                                               |\n",
            "|1509681952000937999|[russia, ukraine, motivation, netde, edude, delaware, government, usa]                                                                                                    |\n",
            "|1509681952978210849|[ukraine, ukrainewar, russia, ukraineinvasion]                                                                                                                            |\n",
            "|1509681953053843466|[russian, moscow]                                                                                                                                                         |\n",
            "|1509681953091457035|[ukraine]                                                                                                                                                                 |\n",
            "|1509681953418711050|[putin, medvedev, russia, ukraine]                                                                                                                                        |\n",
            "|1509681953418752008|[russia, putin]                                                                                                                                                           |\n",
            "|1509681953636700160|[russianarmy, chernobyl, russianukrainianwar]                                                                                                                             |\n",
            "|1509681954488303623|[soviet, berlin, ukrainian, russian, kharkiv]                                                                                                                             |\n",
            "|1509681954647543824|[anonymous, ukraine]                                                                                                                                                      |\n",
            "|1509681955603845120|[nft, mint]                                                                                                                                                               |\n",
            "|1509681956149104652|[ukrainewar, russia, ukraine, 30march, russianukrainianwar]                                                                                                               |\n",
            "|1509681957524979718|[peace, ukraine, democracy, war, putin, zelensky, russia, blackmedia, localnews, community, scoop, news, africanamericans, philadelphia, scoopusamedia, philly, subscribe]|\n",
            "|1509681958288338945|[ukraine]                                                                                                                                                                 |\n",
            "|1509681959965966345|[exclusive, itvideo, russiaukrainewar, re]                                                                                                                                |\n",
            "|1509681960066584593|[putin, ruble, currency, sanctions, oil, economy, negotiations, diplomacy, geopolitics, leadership, government, russia, warinukraine, war, russiaukrainewar]              |\n",
            "+-------------------+--------------------------------------------------------------------------------------------------------------------------------------------------------------------------+\n",
            "only showing top 20 rows\n",
            "\n"
          ]
        }
      ],
      "source": [
        "#reconvert the rdd to spark dataframe (just fro visulaziation)\n",
        "deptColumns = [\"tweet\",\"hashtag\"]\n",
        "new_df_spark = hashtags_per_tweet.toDF(deptColumns)\n",
        "new_df_spark.printSchema()\n",
        "new_df_spark.show(truncate=False)"
      ]
    },
    {
      "cell_type": "code",
      "execution_count": null,
      "metadata": {
        "id": "LYKRfbHh9ySU"
      },
      "outputs": [],
      "source": [
        "hashtag=new_df_spark.select('hashtag')"
      ]
    },
    {
      "cell_type": "code",
      "execution_count": null,
      "metadata": {
        "id": "6xD_xQSeRorv"
      },
      "outputs": [],
      "source": [
        "basket_file = hashtag.rdd.flatMap(list)"
      ]
    },
    {
      "cell_type": "markdown",
      "metadata": {
        "id": "gS4j3v8JIUEq"
      },
      "source": [
        "For sake of simplicity, We used a really small part of our dataset: just 500 baskets. Having said this, the following code should be able to scale up with the size of the dataset but given the already mentioned HW limitation, We decided to just use a \"toy dataset\"."
      ]
    },
    {
      "cell_type": "code",
      "execution_count": null,
      "metadata": {
        "id": "5wxe9MKB7fQQ"
      },
      "outputs": [],
      "source": [
        "num_baskets = 500\n",
        "basket_file = basket_file.take(num_baskets) "
      ]
    },
    {
      "cell_type": "code",
      "execution_count": null,
      "metadata": {
        "id": "vUlj9lOI7_1N"
      },
      "outputs": [],
      "source": [
        "basket_file = spark.sparkContext.parallelize(basket_file)"
      ]
    },
    {
      "cell_type": "code",
      "execution_count": null,
      "metadata": {
        "colab": {
          "base_uri": "https://localhost:8080/"
        },
        "id": "S9sorRqZ8Ocu",
        "outputId": "4c1b86ba-142b-4c08-fbb6-95c11400d773"
      },
      "outputs": [
        {
          "output_type": "execute_result",
          "data": {
            "text/plain": [
              "pyspark.rdd.RDD"
            ]
          },
          "metadata": {},
          "execution_count": 28
        }
      ],
      "source": [
        "type(basket_file)"
      ]
    },
    {
      "cell_type": "code",
      "execution_count": null,
      "metadata": {
        "colab": {
          "base_uri": "https://localhost:8080/"
        },
        "id": "nRkOzoaOAyrP",
        "outputId": "d2beeaf5-1b62-45fd-c7d1-b5d08f520749"
      },
      "outputs": [
        {
          "output_type": "execute_result",
          "data": {
            "text/plain": [
              "[['protectuаsky', 'stoprussia', 'ukraineunderattaсk'],\n",
              " ['russianinvasion',\n",
              "  'standwithukraine',\n",
              "  'ukraineunderattack',\n",
              "  'ukrainewillwin',\n",
              "  'putinisawarcriminal',\n",
              "  'stopputin',\n",
              "  'russianukrainianwar',\n",
              "  'russiagohome',\n",
              "  'россиясмотри',\n",
              "  'нетвойне'],\n",
              " ['russianukrainianwar', 'china', 'taiwan'],\n",
              " ['anonymous', 'oprussia', 'ddosecrets'],\n",
              " ['nft', 'mint'],\n",
              " ['russia',\n",
              "  'ukraine',\n",
              "  'motivation',\n",
              "  'netde',\n",
              "  'edude',\n",
              "  'delaware',\n",
              "  'government',\n",
              "  'usa'],\n",
              " ['ukraine', 'ukrainewar', 'russia', 'ukraineinvasion'],\n",
              " ['russian', 'moscow'],\n",
              " ['ukraine'],\n",
              " ['putin', 'medvedev', 'russia', 'ukraine']]"
            ]
          },
          "metadata": {},
          "execution_count": 29
        }
      ],
      "source": [
        "basket_file.take(10) #first 10 baskets/tweets"
      ]
    },
    {
      "cell_type": "code",
      "execution_count": null,
      "metadata": {
        "id": "4Jx_mBOQBScX"
      },
      "outputs": [],
      "source": [
        "threshold = 10  #threshold fixed empirically\n",
        "#print(threshold,basket_file.count())"
      ]
    },
    {
      "cell_type": "markdown",
      "metadata": {
        "id": "5UBV7OukQr3h"
      },
      "source": [
        "###APRIORI ALGORITHM"
      ]
    },
    {
      "cell_type": "markdown",
      "metadata": {
        "id": "_v6RyYAH8A59"
      },
      "source": [
        "_______________________________________________________________________________"
      ]
    },
    {
      "cell_type": "markdown",
      "metadata": {
        "id": "pWvt7ZNkThUI"
      },
      "source": [
        "## Start apriori: PHASE 1"
      ]
    },
    {
      "cell_type": "code",
      "execution_count": null,
      "metadata": {
        "id": "bfa40RztBSiX"
      },
      "outputs": [],
      "source": [
        "#phase 1 calculate the freq of each item in the basket file\n",
        "singleton=basket_file.flatMap(list).map(lambda item: (item,1)).reduceByKey(lambda a,b: a+b)"
      ]
    },
    {
      "cell_type": "markdown",
      "metadata": {
        "id": "V2aJ5qaed9tD"
      },
      "source": [
        "##BETWEEN THE TWO PHASES"
      ]
    },
    {
      "cell_type": "code",
      "execution_count": null,
      "metadata": {
        "id": "7DPrIUNDBSjg"
      },
      "outputs": [],
      "source": [
        "#between the two phases: filter out all the non frequent singleton\n",
        "freq_singleton=singleton.filter(lambda x: x[1]>=threshold)"
      ]
    },
    {
      "cell_type": "markdown",
      "metadata": {
        "id": "zTf4gpkfmdsL"
      },
      "source": [
        "## PHASE 2"
      ]
    },
    {
      "cell_type": "code",
      "execution_count": null,
      "metadata": {
        "colab": {
          "base_uri": "https://localhost:8080/"
        },
        "id": "6KAdkZPKXHeI",
        "outputId": "4f39aa0e-e43b-4f1c-dc80-6664a58dd079"
      },
      "outputs": [
        {
          "output_type": "execute_result",
          "data": {
            "text/plain": [
              "[('ukraineunderattaсk', 'russianinvasion'),\n",
              " ('ukraineunderattaсk', 'standwithukraine'),\n",
              " ('ukraineunderattaсk', 'ukrainewillwin'),\n",
              " ('ukraineunderattaсk', 'stopputin'),\n",
              " ('ukraineunderattaсk', 'russianukrainianwar'),\n",
              " ('ukraineunderattaсk', 'russiagohome'),\n",
              " ('ukraineunderattaсk', 'нетвойне'),\n",
              " ('ukraineunderattaсk', 'anonymous'),\n",
              " ('ukraineunderattaсk', 'putin'),\n",
              " ('ukraineunderattaсk', 'ukrainian'),\n",
              " ('ukraineunderattaсk', 'russiaukrainewar'),\n",
              " ('ukraineunderattaсk', 'mariupol'),\n",
              " ('ukraineunderattaсk', 'ukrainerussianwar'),\n",
              " ('ukraineunderattaсk', 'ukrainerussiawar'),\n",
              " ('ukraineunderattaсk', 'settodraw'),\n",
              " ('ukraineunderattaсk', 'tanzaniaproject'),\n",
              " ('ukraineunderattaсk', 'africa'),\n",
              " ('ukraineunderattaсk', 'mining'),\n",
              " ('ukraineunderattaсk', 'kherson'),\n",
              " ('ukraineunderattaсk', 'protectuаsky'),\n",
              " ('ukraineunderattaсk', 'stoprussia'),\n",
              " ('ukraineunderattaсk', 'ukraineunderattack'),\n",
              " ('ukraineunderattaсk', 'putinisawarcriminal'),\n",
              " ('ukraineunderattaсk', 'россиясмотри'),\n",
              " ('ukraineunderattaсk', 'nft'),\n",
              " ('ukraineunderattaсk', 'mint'),\n",
              " ('ukraineunderattaсk', 'russia'),\n",
              " ('ukraineunderattaсk', 'ukraine'),\n",
              " ('ukraineunderattaсk', 'ukrainewar'),\n",
              " ('ukraineunderattaсk', 'russian'),\n",
              " ('ukraineunderattaсk', 'kyiv'),\n",
              " ('ukraineunderattaсk', 'gas'),\n",
              " ('ukraineunderattaсk', 'biden'),\n",
              " ('ukraineunderattaсk', 'tigray'),\n",
              " ('ukraineunderattaсk', 'slavaukraini'),\n",
              " ('ukraineunderattaсk', 'energy'),\n",
              " ('ukraineunderattaсk', 'coal'),\n",
              " ('russianinvasion', 'standwithukraine'),\n",
              " ('russianinvasion', 'ukrainewillwin'),\n",
              " ('russianinvasion', 'stopputin'),\n",
              " ('russianinvasion', 'russianukrainianwar'),\n",
              " ('russianinvasion', 'russiagohome'),\n",
              " ('russianinvasion', 'нетвойне'),\n",
              " ('russianinvasion', 'anonymous'),\n",
              " ('russianinvasion', 'putin'),\n",
              " ('russianinvasion', 'ukrainian'),\n",
              " ('russianinvasion', 'russiaukrainewar'),\n",
              " ('russianinvasion', 'mariupol'),\n",
              " ('russianinvasion', 'ukrainerussianwar'),\n",
              " ('russianinvasion', 'ukrainerussiawar'),\n",
              " ('russianinvasion', 'settodraw'),\n",
              " ('russianinvasion', 'tanzaniaproject'),\n",
              " ('russianinvasion', 'africa'),\n",
              " ('russianinvasion', 'mining'),\n",
              " ('russianinvasion', 'kherson'),\n",
              " ('russianinvasion', 'protectuаsky'),\n",
              " ('russianinvasion', 'stoprussia'),\n",
              " ('russianinvasion', 'ukraineunderattack'),\n",
              " ('russianinvasion', 'putinisawarcriminal'),\n",
              " ('russianinvasion', 'россиясмотри'),\n",
              " ('russianinvasion', 'nft'),\n",
              " ('russianinvasion', 'mint'),\n",
              " ('russianinvasion', 'russia'),\n",
              " ('russianinvasion', 'ukraine'),\n",
              " ('russianinvasion', 'ukrainewar'),\n",
              " ('russianinvasion', 'russian'),\n",
              " ('russianinvasion', 'kyiv'),\n",
              " ('russianinvasion', 'gas'),\n",
              " ('russianinvasion', 'biden'),\n",
              " ('russianinvasion', 'tigray'),\n",
              " ('russianinvasion', 'slavaukraini'),\n",
              " ('russianinvasion', 'energy'),\n",
              " ('russianinvasion', 'coal'),\n",
              " ('standwithukraine', 'ukrainewillwin'),\n",
              " ('standwithukraine', 'stopputin'),\n",
              " ('standwithukraine', 'russianukrainianwar'),\n",
              " ('standwithukraine', 'russiagohome'),\n",
              " ('standwithukraine', 'нетвойне'),\n",
              " ('standwithukraine', 'anonymous'),\n",
              " ('standwithukraine', 'putin'),\n",
              " ('standwithukraine', 'ukrainian'),\n",
              " ('standwithukraine', 'russiaukrainewar'),\n",
              " ('standwithukraine', 'mariupol'),\n",
              " ('standwithukraine', 'ukrainerussianwar'),\n",
              " ('standwithukraine', 'ukrainerussiawar'),\n",
              " ('standwithukraine', 'settodraw'),\n",
              " ('standwithukraine', 'tanzaniaproject'),\n",
              " ('standwithukraine', 'africa'),\n",
              " ('standwithukraine', 'mining'),\n",
              " ('standwithukraine', 'kherson'),\n",
              " ('standwithukraine', 'protectuаsky'),\n",
              " ('standwithukraine', 'stoprussia'),\n",
              " ('standwithukraine', 'ukraineunderattack'),\n",
              " ('standwithukraine', 'putinisawarcriminal'),\n",
              " ('standwithukraine', 'россиясмотри'),\n",
              " ('standwithukraine', 'nft'),\n",
              " ('standwithukraine', 'mint'),\n",
              " ('standwithukraine', 'russia'),\n",
              " ('standwithukraine', 'ukraine'),\n",
              " ('standwithukraine', 'ukrainewar')]"
            ]
          },
          "metadata": {},
          "execution_count": 33
        }
      ],
      "source": [
        "#phase 2.1: now create all the possible pairs made up by frequen singletons\n",
        "\n",
        "from itertools import combinations\n",
        "pairs=list(combinations(freq_singleton.map(lambda x: x[0]).toLocalIterator(),2)) #without toLocalIterator error (reference https://stackoverflow.com/questions/32771737/convert-an-rdd-to-iterable-pyspark)\n",
        "\n",
        "pairs[:100]"
      ]
    },
    {
      "cell_type": "markdown",
      "metadata": {
        "id": "331d35Q0N_ri"
      },
      "source": [
        "Now for each basket, if one of the prevously generated pairs (made of freq singletons) is inside a basket, We generate a tuple (pair,1). Then We flat the results."
      ]
    },
    {
      "cell_type": "code",
      "execution_count": null,
      "metadata": {
        "id": "6p-YU19T69V4"
      },
      "outputs": [],
      "source": [
        "flatted_couples = basket_file.map(lambda x: [(pair,1) for pair in pairs if set(pair).issubset(set(x))]).flatMap(lambda x: x).cache()"
      ]
    },
    {
      "cell_type": "code",
      "execution_count": null,
      "metadata": {
        "id": "ch6049fVIQoD"
      },
      "outputs": [],
      "source": [
        "reduced_elements = flatted_couples.reduceByKey(lambda a, b: a + b)"
      ]
    },
    {
      "cell_type": "code",
      "execution_count": null,
      "metadata": {
        "id": "wWse1N1Mr_jd"
      },
      "outputs": [],
      "source": [
        "freq_pairs = reduced_elements.filter(lambda x : x[1] >= threshold).cache()\n",
        "result_APRIORI = list(freq_pairs.map(lambda x: x).toLocalIterator())"
      ]
    },
    {
      "cell_type": "code",
      "execution_count": null,
      "metadata": {
        "colab": {
          "base_uri": "https://localhost:8080/"
        },
        "id": "yIuSdsWEOhUS",
        "outputId": "fd082eb5-105b-4815-a03e-5832111f197f"
      },
      "outputs": [
        {
          "output_type": "stream",
          "name": "stdout",
          "text": [
            "5.078315734863281e-05\n"
          ]
        },
        {
          "output_type": "execute_result",
          "data": {
            "text/plain": [
              "[(('protectuаsky', 'stoprussia'), 20),\n",
              " (('russianinvasion', 'standwithukraine'), 20),\n",
              " (('russianinvasion', 'ukrainewillwin'), 20),\n",
              " (('russianinvasion', 'stopputin'), 20),\n",
              " (('russianinvasion', 'russianukrainianwar'), 20),\n",
              " (('russianinvasion', 'russiagohome'), 20),\n",
              " (('russianinvasion', 'нетвойне'), 20),\n",
              " (('standwithukraine', 'ukrainewillwin'), 20),\n",
              " (('standwithukraine', 'stopputin'), 23),\n",
              " (('standwithukraine', 'russianukrainianwar'), 20),\n",
              " (('standwithukraine', 'russiagohome'), 20),\n",
              " (('standwithukraine', 'нетвойне'), 20),\n",
              " (('ukrainewillwin', 'stopputin'), 20),\n",
              " (('ukrainewillwin', 'russianukrainianwar'), 20),\n",
              " (('ukrainewillwin', 'russiagohome'), 20),\n",
              " (('ukrainewillwin', 'нетвойне'), 20),\n",
              " (('stopputin', 'russianukrainianwar'), 20),\n",
              " (('stopputin', 'russiagohome'), 20),\n",
              " (('stopputin', 'нетвойне'), 20),\n",
              " (('russianukrainianwar', 'russiagohome'), 20),\n",
              " (('russianukrainianwar', 'нетвойне'), 20),\n",
              " (('russiagohome', 'нетвойне'), 20),\n",
              " (('ukraineunderattack', 'putinisawarcriminal'), 20),\n",
              " (('ukraineunderattack', 'россиясмотри'), 20),\n",
              " (('putinisawarcriminal', 'россиясмотри'), 20),\n",
              " (('nft', 'mint'), 33),\n",
              " (('russia', 'ukraine'), 29),\n",
              " (('ukraine', 'kyiv'), 22),\n",
              " (('settodraw', 'tanzaniaproject'), 10),\n",
              " (('settodraw', 'africa'), 10),\n",
              " (('settodraw', 'mining'), 10),\n",
              " (('tanzaniaproject', 'africa'), 10),\n",
              " (('tanzaniaproject', 'mining'), 10),\n",
              " (('africa', 'mining'), 10),\n",
              " (('gas', 'energy'), 10),\n",
              " (('gas', 'coal'), 10),\n",
              " (('energy', 'coal'), 10),\n",
              " (('ukraine', 'russian'), 11),\n",
              " (('ukrainian', 'kherson'), 14),\n",
              " (('ukraineunderattaсk', 'protectuаsky'), 20),\n",
              " (('ukraineunderattaсk', 'stoprussia'), 20),\n",
              " (('russianinvasion', 'ukraineunderattack'), 20),\n",
              " (('russianinvasion', 'putinisawarcriminal'), 20),\n",
              " (('russianinvasion', 'россиясмотри'), 20),\n",
              " (('standwithukraine', 'ukraineunderattack'), 20),\n",
              " (('standwithukraine', 'putinisawarcriminal'), 20),\n",
              " (('standwithukraine', 'россиясмотри'), 20),\n",
              " (('ukrainewillwin', 'ukraineunderattack'), 20),\n",
              " (('ukrainewillwin', 'putinisawarcriminal'), 20),\n",
              " (('ukrainewillwin', 'россиясмотри'), 20),\n",
              " (('stopputin', 'ukraineunderattack'), 20),\n",
              " (('stopputin', 'putinisawarcriminal'), 20),\n",
              " (('stopputin', 'россиясмотри'), 20),\n",
              " (('russianukrainianwar', 'ukraineunderattack'), 20),\n",
              " (('russianukrainianwar', 'putinisawarcriminal'), 20),\n",
              " (('russianukrainianwar', 'россиясмотри'), 20),\n",
              " (('russiagohome', 'ukraineunderattack'), 20),\n",
              " (('russiagohome', 'putinisawarcriminal'), 20),\n",
              " (('russiagohome', 'россиясмотри'), 20),\n",
              " (('нетвойне', 'ukraineunderattack'), 20),\n",
              " (('нетвойне', 'putinisawarcriminal'), 20),\n",
              " (('нетвойне', 'россиясмотри'), 20),\n",
              " (('putin', 'ukraine'), 12),\n",
              " (('putin', 'gas'), 11),\n",
              " (('settodraw', 'gas'), 10),\n",
              " (('settodraw', 'energy'), 10),\n",
              " (('settodraw', 'coal'), 10),\n",
              " (('tanzaniaproject', 'gas'), 10),\n",
              " (('tanzaniaproject', 'energy'), 10),\n",
              " (('tanzaniaproject', 'coal'), 10),\n",
              " (('africa', 'gas'), 10),\n",
              " (('africa', 'energy'), 10),\n",
              " (('africa', 'coal'), 10),\n",
              " (('mining', 'gas'), 10),\n",
              " (('mining', 'energy'), 10),\n",
              " (('mining', 'coal'), 10),\n",
              " (('ukrainerussiawar', 'ukraine'), 18)]"
            ]
          },
          "metadata": {},
          "execution_count": 37
        }
      ],
      "source": [
        "import time\n",
        "startTime = time.time()\n",
        "print(time.time()-startTime)\n",
        "freq_pairs.collect()"
      ]
    },
    {
      "cell_type": "markdown",
      "metadata": {
        "id": "k-Jhu8_0QrJU"
      },
      "source": [
        "## PCY ALGORITHM "
      ]
    },
    {
      "cell_type": "markdown",
      "metadata": {
        "id": "Ow9ifvKQOV4o"
      },
      "source": [
        "#First Pass"
      ]
    },
    {
      "cell_type": "code",
      "execution_count": null,
      "metadata": {
        "id": "OJxDdbFVQunC"
      },
      "outputs": [],
      "source": [
        "singleton = basket_file.flatMap(list).map(lambda item: (item,1)).reduceByKey(lambda a,b: a+b)"
      ]
    },
    {
      "cell_type": "code",
      "execution_count": null,
      "metadata": {
        "id": "DmDpxjxjQuqL"
      },
      "outputs": [],
      "source": [
        "from sys import hash_info\n",
        "\n",
        "HASH_TABLE_SIZE = 50000 \n",
        "hash_table = np.zeros(HASH_TABLE_SIZE, dtype=int)\n",
        "\n",
        "def hashing(pair_to_hash):\n",
        "  return int(abs(hash(frozenset(pair_to_hash))) % HASH_TABLE_SIZE)"
      ]
    },
    {
      "cell_type": "code",
      "execution_count": null,
      "metadata": {
        "id": "tzRZtZ26-3fr"
      },
      "outputs": [],
      "source": [
        "hashtable_rdd = basket_file.map(lambda basket: [(hashing(pair), 1) for pair in list(combinations(basket, 2))]).flatMap(lambda x: x).cache()\\\n",
        "                           .reduceByKey(lambda a,b: a+b)"
      ]
    },
    {
      "cell_type": "markdown",
      "metadata": {
        "id": "_V9e0eyqPTIn"
      },
      "source": [
        "In the previous line of code, for each basket, all the pairs in it will be hashed. In hashtable_rdd  will be stored a list of key value pairs where the key is the bucket in which a pair was hashed and the value is the number of pairs hashed in that bucket."
      ]
    },
    {
      "cell_type": "markdown",
      "metadata": {
        "id": "dAjGlsQYRRlv"
      },
      "source": [
        "#SECOND PASS"
      ]
    },
    {
      "cell_type": "code",
      "execution_count": null,
      "metadata": {
        "id": "CqrRZbUg08QJ"
      },
      "outputs": [],
      "source": [
        "hashtable_list = list(hashtable_rdd.map(lambda x: x).toLocalIterator())\n",
        "\n",
        "for pair in hashtable_list:\n",
        "  hash_table[pair[0]] = pair[1]\n",
        "\n",
        "bitmap_freq = [hash_table[i]>=threshold for i in range(HASH_TABLE_SIZE)] #bitmap_freq[i]==False if hash_table[i]<threshold, True otherwise\n"
      ]
    },
    {
      "cell_type": "code",
      "execution_count": null,
      "metadata": {
        "id": "e5tmelSzhNBc"
      },
      "outputs": [],
      "source": [
        "from itertools import combinations\n",
        "\n",
        "freq_singleton = singleton.filter(lambda x: x[1]>=threshold)  \n",
        "freq_singleton_list = list(freq_singleton.map(lambda x: x).toLocalIterator())                         \n",
        "pairs=list(combinations(freq_singleton.map(lambda x: x[0]).toLocalIterator(),2)) #formed from freq singletons"
      ]
    },
    {
      "cell_type": "code",
      "execution_count": null,
      "metadata": {
        "id": "-J2IcsEEthg9"
      },
      "outputs": [],
      "source": [
        "#CONVERT PAIRS INTO RDD\n",
        "pairs_rdd = spark.sparkContext.parallelize(pairs)"
      ]
    },
    {
      "cell_type": "code",
      "execution_count": null,
      "metadata": {
        "colab": {
          "base_uri": "https://localhost:8080/"
        },
        "id": "IBlS8tcIhK1Z",
        "outputId": "5d2507b2-37e7-4236-a6a9-60f435c1145e"
      },
      "outputs": [
        {
          "output_type": "execute_result",
          "data": {
            "text/plain": [
              "[('ukraineunderattaсk', 'protectuаsky'),\n",
              " ('ukraineunderattaсk', 'stoprussia'),\n",
              " ('russianinvasion', 'standwithukraine'),\n",
              " ('russianinvasion', 'ukrainewillwin'),\n",
              " ('russianinvasion', 'stopputin'),\n",
              " ('russianinvasion', 'russianukrainianwar'),\n",
              " ('russianinvasion', 'russiagohome'),\n",
              " ('russianinvasion', 'нетвойне'),\n",
              " ('russianinvasion', 'ukrainerussiawar'),\n",
              " ('russianinvasion', 'ukraineunderattack'),\n",
              " ('russianinvasion', 'putinisawarcriminal'),\n",
              " ('russianinvasion', 'россиясмотри'),\n",
              " ('standwithukraine', 'ukrainewillwin'),\n",
              " ('standwithukraine', 'stopputin'),\n",
              " ('standwithukraine', 'russianukrainianwar'),\n",
              " ('standwithukraine', 'russiagohome'),\n",
              " ('standwithukraine', 'нетвойне'),\n",
              " ('standwithukraine', 'ukraineunderattack'),\n",
              " ('standwithukraine', 'putinisawarcriminal'),\n",
              " ('standwithukraine', 'россиясмотри'),\n",
              " ('ukrainewillwin', 'stopputin'),\n",
              " ('ukrainewillwin', 'russianukrainianwar'),\n",
              " ('ukrainewillwin', 'russiagohome'),\n",
              " ('ukrainewillwin', 'нетвойне'),\n",
              " ('ukrainewillwin', 'ukraineunderattack'),\n",
              " ('ukrainewillwin', 'putinisawarcriminal'),\n",
              " ('ukrainewillwin', 'россиясмотри'),\n",
              " ('stopputin', 'russianukrainianwar'),\n",
              " ('stopputin', 'russiagohome'),\n",
              " ('stopputin', 'нетвойне'),\n",
              " ('stopputin', 'ukraineunderattack'),\n",
              " ('stopputin', 'putinisawarcriminal'),\n",
              " ('stopputin', 'россиясмотри'),\n",
              " ('russianukrainianwar', 'russiagohome'),\n",
              " ('russianukrainianwar', 'нетвойне'),\n",
              " ('russianukrainianwar', 'ukraineunderattack'),\n",
              " ('russianukrainianwar', 'putinisawarcriminal'),\n",
              " ('russianukrainianwar', 'россиясмотри'),\n",
              " ('russiagohome', 'нетвойне'),\n",
              " ('russiagohome', 'ukraineunderattack'),\n",
              " ('russiagohome', 'putinisawarcriminal'),\n",
              " ('russiagohome', 'россиясмотри'),\n",
              " ('нетвойне', 'ukraineunderattack'),\n",
              " ('нетвойне', 'putinisawarcriminal'),\n",
              " ('нетвойне', 'россиясмотри'),\n",
              " ('putin', 'nft'),\n",
              " ('putin', 'ukraine'),\n",
              " ('putin', 'gas'),\n",
              " ('ukrainian', 'kherson'),\n",
              " ('ukrainerussiawar', 'mining'),\n",
              " ('ukrainerussiawar', 'ukraine'),\n",
              " ('settodraw', 'tanzaniaproject'),\n",
              " ('settodraw', 'africa'),\n",
              " ('settodraw', 'mining'),\n",
              " ('settodraw', 'gas'),\n",
              " ('settodraw', 'energy'),\n",
              " ('settodraw', 'coal'),\n",
              " ('tanzaniaproject', 'africa'),\n",
              " ('tanzaniaproject', 'mining'),\n",
              " ('tanzaniaproject', 'gas'),\n",
              " ('tanzaniaproject', 'energy'),\n",
              " ('tanzaniaproject', 'coal'),\n",
              " ('africa', 'mining'),\n",
              " ('africa', 'gas'),\n",
              " ('africa', 'energy'),\n",
              " ('africa', 'coal'),\n",
              " ('mining', 'gas'),\n",
              " ('mining', 'energy'),\n",
              " ('mining', 'coal'),\n",
              " ('protectuаsky', 'stoprussia'),\n",
              " ('stoprussia', 'russia'),\n",
              " ('ukraineunderattack', 'putinisawarcriminal'),\n",
              " ('ukraineunderattack', 'россиясмотри'),\n",
              " ('putinisawarcriminal', 'россиясмотри'),\n",
              " ('nft', 'mint'),\n",
              " ('russia', 'ukraine'),\n",
              " ('ukraine', 'russian'),\n",
              " ('ukraine', 'kyiv'),\n",
              " ('gas', 'energy'),\n",
              " ('gas', 'coal'),\n",
              " ('energy', 'coal')]"
            ]
          },
          "metadata": {},
          "execution_count": 44
        }
      ],
      "source": [
        "#candidate pairs = pairs of freq singleton and the pair is freq in the hash_table\n",
        "candidate_pairs = pairs_rdd.filter(lambda x : bitmap_freq[hashing(x)] == True)\n",
        "candidate_pairs_list = list(candidate_pairs.map(lambda x: x).toLocalIterator()) #prima qua avevo messo pairs_rdd ma è sbagliato, perchè così è uguale ad Apriori\n",
        "candidate_pairs_list"
      ]
    },
    {
      "cell_type": "code",
      "execution_count": null,
      "metadata": {
        "colab": {
          "base_uri": "https://localhost:8080/"
        },
        "id": "iAI9OU4pfsnw",
        "outputId": "5f1f7095-3b57-4095-cfe3-b4296b637f0e"
      },
      "outputs": [
        {
          "output_type": "execute_result",
          "data": {
            "text/plain": [
              "[(('protectuаsky', 'stoprussia'), 20),\n",
              " (('russianinvasion', 'standwithukraine'), 20),\n",
              " (('russianinvasion', 'ukrainewillwin'), 20),\n",
              " (('russianinvasion', 'stopputin'), 20),\n",
              " (('russianinvasion', 'russianukrainianwar'), 20),\n",
              " (('russianinvasion', 'russiagohome'), 20),\n",
              " (('russianinvasion', 'нетвойне'), 20),\n",
              " (('standwithukraine', 'ukrainewillwin'), 20),\n",
              " (('standwithukraine', 'stopputin'), 23),\n",
              " (('standwithukraine', 'russianukrainianwar'), 20),\n",
              " (('standwithukraine', 'russiagohome'), 20),\n",
              " (('standwithukraine', 'нетвойне'), 20),\n",
              " (('ukrainewillwin', 'stopputin'), 20),\n",
              " (('ukrainewillwin', 'russianukrainianwar'), 20),\n",
              " (('ukrainewillwin', 'russiagohome'), 20),\n",
              " (('ukrainewillwin', 'нетвойне'), 20),\n",
              " (('stopputin', 'russianukrainianwar'), 20),\n",
              " (('stopputin', 'russiagohome'), 20),\n",
              " (('stopputin', 'нетвойне'), 20),\n",
              " (('russianukrainianwar', 'russiagohome'), 20),\n",
              " (('russianukrainianwar', 'нетвойне'), 20),\n",
              " (('russiagohome', 'нетвойне'), 20),\n",
              " (('ukraineunderattack', 'putinisawarcriminal'), 20),\n",
              " (('ukraineunderattack', 'россиясмотри'), 20),\n",
              " (('putinisawarcriminal', 'россиясмотри'), 20),\n",
              " (('nft', 'mint'), 33),\n",
              " (('russia', 'ukraine'), 29),\n",
              " (('ukraine', 'kyiv'), 22),\n",
              " (('settodraw', 'tanzaniaproject'), 10),\n",
              " (('settodraw', 'africa'), 10),\n",
              " (('settodraw', 'mining'), 10),\n",
              " (('tanzaniaproject', 'africa'), 10),\n",
              " (('tanzaniaproject', 'mining'), 10),\n",
              " (('africa', 'mining'), 10),\n",
              " (('gas', 'energy'), 10),\n",
              " (('gas', 'coal'), 10),\n",
              " (('energy', 'coal'), 10),\n",
              " (('ukraine', 'russian'), 11),\n",
              " (('ukrainian', 'kherson'), 14),\n",
              " (('ukraineunderattaсk', 'protectuаsky'), 20),\n",
              " (('ukraineunderattaсk', 'stoprussia'), 20),\n",
              " (('russianinvasion', 'ukraineunderattack'), 20),\n",
              " (('russianinvasion', 'putinisawarcriminal'), 20),\n",
              " (('russianinvasion', 'россиясмотри'), 20),\n",
              " (('standwithukraine', 'ukraineunderattack'), 20),\n",
              " (('standwithukraine', 'putinisawarcriminal'), 20),\n",
              " (('standwithukraine', 'россиясмотри'), 20),\n",
              " (('ukrainewillwin', 'ukraineunderattack'), 20),\n",
              " (('ukrainewillwin', 'putinisawarcriminal'), 20),\n",
              " (('ukrainewillwin', 'россиясмотри'), 20),\n",
              " (('stopputin', 'ukraineunderattack'), 20),\n",
              " (('stopputin', 'putinisawarcriminal'), 20),\n",
              " (('stopputin', 'россиясмотри'), 20),\n",
              " (('russianukrainianwar', 'ukraineunderattack'), 20),\n",
              " (('russianukrainianwar', 'putinisawarcriminal'), 20),\n",
              " (('russianukrainianwar', 'россиясмотри'), 20),\n",
              " (('russiagohome', 'ukraineunderattack'), 20),\n",
              " (('russiagohome', 'putinisawarcriminal'), 20),\n",
              " (('russiagohome', 'россиясмотри'), 20),\n",
              " (('нетвойне', 'ukraineunderattack'), 20),\n",
              " (('нетвойне', 'putinisawarcriminal'), 20),\n",
              " (('нетвойне', 'россиясмотри'), 20),\n",
              " (('putin', 'ukraine'), 12),\n",
              " (('putin', 'gas'), 11),\n",
              " (('settodraw', 'gas'), 10),\n",
              " (('settodraw', 'energy'), 10),\n",
              " (('settodraw', 'coal'), 10),\n",
              " (('tanzaniaproject', 'gas'), 10),\n",
              " (('tanzaniaproject', 'energy'), 10),\n",
              " (('tanzaniaproject', 'coal'), 10),\n",
              " (('africa', 'gas'), 10),\n",
              " (('africa', 'energy'), 10),\n",
              " (('africa', 'coal'), 10),\n",
              " (('mining', 'gas'), 10),\n",
              " (('mining', 'energy'), 10),\n",
              " (('mining', 'coal'), 10),\n",
              " (('ukrainerussiawar', 'ukraine'), 18)]"
            ]
          },
          "metadata": {},
          "execution_count": 45
        }
      ],
      "source": [
        "#check against threshold\n",
        "flatted_couples = basket_file.map(lambda x: [(pair,1) for pair in candidate_pairs_list if set(pair).\\\n",
        "                                             issubset(set(x))]).flatMap(lambda x: x).cache()\n",
        "\n",
        "reduced_elements = flatted_couples.reduceByKey(lambda a, b: a + b)\n",
        "freq_pairs = reduced_elements.filter(lambda x : x[1] >= threshold).cache()\n",
        "result_PCY = list(freq_pairs.map(lambda x: x).toLocalIterator())\n",
        "freq_pairs.collect()"
      ]
    },
    {
      "cell_type": "code",
      "execution_count": null,
      "metadata": {
        "colab": {
          "base_uri": "https://localhost:8080/"
        },
        "id": "CY4wLg3dK9xy",
        "outputId": "58063da7-6efc-4813-80e1-be4f9c73f02c"
      },
      "outputs": [
        {
          "output_type": "execute_result",
          "data": {
            "text/plain": [
              "True"
            ]
          },
          "metadata": {},
          "execution_count": 46
        }
      ],
      "source": [
        "set(result_PCY) == set(result_APRIORI)"
      ]
    },
    {
      "cell_type": "markdown",
      "metadata": {
        "id": "5t8hb9_AOok2"
      },
      "source": [
        "### MULTISTAGE"
      ]
    },
    {
      "cell_type": "code",
      "execution_count": null,
      "metadata": {
        "colab": {
          "base_uri": "https://localhost:8080/"
        },
        "id": "U2VYH68Afss8",
        "outputId": "9bd3344f-5887-4f8c-f055-af4c01fb15b2"
      },
      "outputs": [
        {
          "output_type": "execute_result",
          "data": {
            "text/plain": [
              "(24961, 44640)"
            ]
          },
          "metadata": {},
          "execution_count": 47
        }
      ],
      "source": [
        "HASH_TABLE_SIZE = 50000\n",
        "hash_table_1 = np.zeros(HASH_TABLE_SIZE, dtype=int)\n",
        "hash_table_2 = np.zeros(HASH_TABLE_SIZE, dtype=int)\n",
        "\n",
        "def hashing_1(pair_to_hash):\n",
        "  return int(abs(hash(frozenset(pair_to_hash))) % HASH_TABLE_SIZE)\n",
        "\n",
        "\n",
        "def hashing_2(pair_to_hash):\n",
        "  return int((abs(hash(frozenset(pair_to_hash)))*3 /5 +9 *2 )% HASH_TABLE_SIZE)  #just create another hash function\n",
        "\n",
        "hashing_1(('russianarmy', 'chernobyl')), hashing_2(('russianarmy', 'chernobyl'))"
      ]
    },
    {
      "cell_type": "code",
      "execution_count": null,
      "metadata": {
        "id": "fhrFCh626nUv"
      },
      "outputs": [],
      "source": [
        "#1st pass multistage = PCY\n",
        "\n",
        "singleton = basket_file.flatMap(list).map(lambda item: (item,1)).reduceByKey(lambda a,b: a+b)\n",
        "\n",
        "from itertools import combinations\n",
        "hashtable_rdd = basket_file.map(lambda basket: [(hashing(pair), 1) for pair in list(combinations(basket, 2))]).flatMap(lambda x: x).cache()\\\n",
        "                           .reduceByKey(lambda a,b: a+b)\n",
        "\n",
        "hashtable_list = list(hashtable_rdd.map(lambda x: x).toLocalIterator())\n",
        "\n",
        "for pair in hashtable_list:\n",
        "  hash_table_1[pair[0]] = pair[1]\n"
      ]
    },
    {
      "cell_type": "markdown",
      "metadata": {
        "id": "i-LnrYOARbmC"
      },
      "source": [
        "### 2nd Stage"
      ]
    },
    {
      "cell_type": "code",
      "execution_count": null,
      "metadata": {
        "id": "4UZ5i-p16nWi"
      },
      "outputs": [],
      "source": [
        "from itertools import combinations\n",
        "bitmap_1 = [hash_table_1[i]>=threshold for i in range(HASH_TABLE_SIZE)]\n",
        "\n",
        "freq_singleton = singleton.filter(lambda x: x[1]>=threshold)                           \n",
        "pairs=list(combinations(freq_singleton.map(lambda x: x[0]).toLocalIterator(),2)) #All pairs formed by freqent singletons"
      ]
    },
    {
      "cell_type": "markdown",
      "metadata": {
        "id": "4Mzhmys_R1ha"
      },
      "source": [
        "I have bitmap_1, I have the freq singletons, and the pairs from freq singletons. Now I need to check against bitmap_1 the pairs formed from freq singlentons, than the pairs hashed in frequent bucket from bitmap_1 will be hashed again to create bitmap 2."
      ]
    },
    {
      "cell_type": "code",
      "execution_count": null,
      "metadata": {
        "id": "aK9KFH1mVT57"
      },
      "outputs": [],
      "source": [
        "#CONVERT PAIRS INTO RDD\n",
        "pairs_rdd = spark.sparkContext.parallelize(pairs) #Formed from freq singletons"
      ]
    },
    {
      "cell_type": "code",
      "execution_count": null,
      "metadata": {
        "id": "wllkH3j182I7"
      },
      "outputs": [],
      "source": [
        "#check against bitmap 1\n",
        "pairs_first_check = pairs_rdd.filter(lambda x : bitmap_1[hashing_1(x)] == True) #pairs from freq singletons and resulted freq in bitmap_1\n",
        "#hash them again to hashtable 2\n",
        "\n",
        "pairs_first_check_list = list(pairs_first_check .map(lambda x: x).toLocalIterator())#creating all pairs\n",
        "\n",
        "#2nd scan: I hash the pairs that are formed by frequent singleton and hased in a freqient bcket from bitmap_1\n",
        "hashtable_rdd_2 = basket_file.map(lambda x: [(hashing_2(pair),1) for pair in pairs_first_check_list if set(pair).issubset(set(x))])\\\n",
        "                            .flatMap(lambda x: x).cache().reduceByKey(lambda a,b: a+b)\n",
        "\n",
        "hashtable_list_2 = list(hashtable_rdd_2.map(lambda x: x).toLocalIterator()) \n",
        "\n",
        "for pair in hashtable_list_2:\n",
        "  hash_table_2[pair[0]] = pair[1]\n"
      ]
    },
    {
      "cell_type": "markdown",
      "metadata": {
        "id": "ydUnwwNuXpLc"
      },
      "source": [
        "### 3rd Stage"
      ]
    },
    {
      "cell_type": "code",
      "execution_count": null,
      "metadata": {
        "id": "WsUtwinXG3Oo"
      },
      "outputs": [],
      "source": [
        "bitmap_2 = [hash_table_2[i]>=threshold for i in range(HASH_TABLE_SIZE)]"
      ]
    },
    {
      "cell_type": "markdown",
      "metadata": {
        "id": "ns0EOklnS_3D"
      },
      "source": [
        "I have now bitmap_1 , bitmap_2 and all the pairs from freq singletons (pairs_rdd): if pair (made of freq singletons) is in bitmap_1 and bitmap_2 it means it's a CANDIDATE pair"
      ]
    },
    {
      "cell_type": "code",
      "execution_count": null,
      "metadata": {
        "id": "WLwi2myJM8lJ"
      },
      "outputs": [],
      "source": [
        "candidate_pairs_1 = pairs_rdd.filter(lambda x : bitmap_1[hashing_1(x)] == True)\n",
        "candidate_pairs = candidate_pairs_1.filter(lambda x : bitmap_2[hashing_2(x)] == True) \n",
        "candidate_pairs_list = list(candidate_pairs.map(lambda x: x).toLocalIterator())"
      ]
    },
    {
      "cell_type": "code",
      "execution_count": null,
      "metadata": {
        "colab": {
          "base_uri": "https://localhost:8080/"
        },
        "id": "gcMrrbqCZyFO",
        "outputId": "a602e839-cfa4-4897-9589-add138de9c30"
      },
      "outputs": [
        {
          "output_type": "execute_result",
          "data": {
            "text/plain": [
              "[(('protectuаsky', 'stoprussia'), 20),\n",
              " (('russianinvasion', 'standwithukraine'), 20),\n",
              " (('russianinvasion', 'ukrainewillwin'), 20),\n",
              " (('russianinvasion', 'stopputin'), 20),\n",
              " (('russianinvasion', 'russianukrainianwar'), 20),\n",
              " (('russianinvasion', 'russiagohome'), 20),\n",
              " (('russianinvasion', 'нетвойне'), 20),\n",
              " (('standwithukraine', 'ukrainewillwin'), 20),\n",
              " (('standwithukraine', 'stopputin'), 23),\n",
              " (('standwithukraine', 'russianukrainianwar'), 20),\n",
              " (('standwithukraine', 'russiagohome'), 20),\n",
              " (('standwithukraine', 'нетвойне'), 20),\n",
              " (('ukrainewillwin', 'stopputin'), 20),\n",
              " (('ukrainewillwin', 'russianukrainianwar'), 20),\n",
              " (('ukrainewillwin', 'russiagohome'), 20),\n",
              " (('ukrainewillwin', 'нетвойне'), 20),\n",
              " (('stopputin', 'russianukrainianwar'), 20),\n",
              " (('stopputin', 'russiagohome'), 20),\n",
              " (('stopputin', 'нетвойне'), 20),\n",
              " (('russianukrainianwar', 'russiagohome'), 20),\n",
              " (('russianukrainianwar', 'нетвойне'), 20),\n",
              " (('russiagohome', 'нетвойне'), 20),\n",
              " (('ukraineunderattack', 'putinisawarcriminal'), 20),\n",
              " (('ukraineunderattack', 'россиясмотри'), 20),\n",
              " (('putinisawarcriminal', 'россиясмотри'), 20),\n",
              " (('nft', 'mint'), 33),\n",
              " (('russia', 'ukraine'), 29),\n",
              " (('ukraine', 'kyiv'), 22),\n",
              " (('settodraw', 'tanzaniaproject'), 10),\n",
              " (('settodraw', 'africa'), 10),\n",
              " (('settodraw', 'mining'), 10),\n",
              " (('tanzaniaproject', 'africa'), 10),\n",
              " (('tanzaniaproject', 'mining'), 10),\n",
              " (('africa', 'mining'), 10),\n",
              " (('gas', 'energy'), 10),\n",
              " (('gas', 'coal'), 10),\n",
              " (('energy', 'coal'), 10),\n",
              " (('ukraine', 'russian'), 11),\n",
              " (('ukrainian', 'kherson'), 14),\n",
              " (('ukraineunderattaсk', 'protectuаsky'), 20),\n",
              " (('ukraineunderattaсk', 'stoprussia'), 20),\n",
              " (('russianinvasion', 'ukraineunderattack'), 20),\n",
              " (('russianinvasion', 'putinisawarcriminal'), 20),\n",
              " (('russianinvasion', 'россиясмотри'), 20),\n",
              " (('standwithukraine', 'ukraineunderattack'), 20),\n",
              " (('standwithukraine', 'putinisawarcriminal'), 20),\n",
              " (('standwithukraine', 'россиясмотри'), 20),\n",
              " (('ukrainewillwin', 'ukraineunderattack'), 20),\n",
              " (('ukrainewillwin', 'putinisawarcriminal'), 20),\n",
              " (('ukrainewillwin', 'россиясмотри'), 20),\n",
              " (('stopputin', 'ukraineunderattack'), 20),\n",
              " (('stopputin', 'putinisawarcriminal'), 20),\n",
              " (('stopputin', 'россиясмотри'), 20),\n",
              " (('russianukrainianwar', 'ukraineunderattack'), 20),\n",
              " (('russianukrainianwar', 'putinisawarcriminal'), 20),\n",
              " (('russianukrainianwar', 'россиясмотри'), 20),\n",
              " (('russiagohome', 'ukraineunderattack'), 20),\n",
              " (('russiagohome', 'putinisawarcriminal'), 20),\n",
              " (('russiagohome', 'россиясмотри'), 20),\n",
              " (('нетвойне', 'ukraineunderattack'), 20),\n",
              " (('нетвойне', 'putinisawarcriminal'), 20),\n",
              " (('нетвойне', 'россиясмотри'), 20),\n",
              " (('putin', 'ukraine'), 12),\n",
              " (('putin', 'gas'), 11),\n",
              " (('settodraw', 'gas'), 10),\n",
              " (('settodraw', 'energy'), 10),\n",
              " (('settodraw', 'coal'), 10),\n",
              " (('tanzaniaproject', 'gas'), 10),\n",
              " (('tanzaniaproject', 'energy'), 10),\n",
              " (('tanzaniaproject', 'coal'), 10),\n",
              " (('africa', 'gas'), 10),\n",
              " (('africa', 'energy'), 10),\n",
              " (('africa', 'coal'), 10),\n",
              " (('mining', 'gas'), 10),\n",
              " (('mining', 'energy'), 10),\n",
              " (('mining', 'coal'), 10),\n",
              " (('ukrainerussiawar', 'ukraine'), 18)]"
            ]
          },
          "metadata": {},
          "execution_count": 54
        }
      ],
      "source": [
        "flatted_couples = basket_file.map(lambda x: [(pair,1) for pair in candidate_pairs_list if set(pair).\\\n",
        "                                             issubset(set(x))]).flatMap(lambda x: x).cache()\n",
        "\n",
        "reduced_elements = flatted_couples.reduceByKey(lambda a, b: a + b)\n",
        "freq_pairs = reduced_elements.filter(lambda x : x[1] >= threshold).cache()\n",
        "result_MULTI_STAGE=list(freq_pairs.map(lambda x: x).toLocalIterator())\n",
        "freq_pairs.collect()"
      ]
    },
    {
      "cell_type": "code",
      "execution_count": null,
      "metadata": {
        "colab": {
          "base_uri": "https://localhost:8080/"
        },
        "id": "f9psvTXbNR75",
        "outputId": "247a07c7-ca04-4aac-b19e-6911e6820c24"
      },
      "outputs": [
        {
          "output_type": "execute_result",
          "data": {
            "text/plain": [
              "True"
            ]
          },
          "metadata": {},
          "execution_count": 55
        }
      ],
      "source": [
        "set(result_MULTI_STAGE) == set(result_PCY)"
      ]
    },
    {
      "cell_type": "markdown",
      "metadata": {
        "id": "buxQ2jse9cGF"
      },
      "source": [
        "## MULTI-HASH"
      ]
    },
    {
      "cell_type": "markdown",
      "metadata": {
        "id": "qCzhfPSzAOs6"
      },
      "source": [
        "1ST STAGE"
      ]
    },
    {
      "cell_type": "code",
      "execution_count": null,
      "metadata": {
        "id": "LNMo-VwTJx-J"
      },
      "outputs": [],
      "source": [
        "singleton = basket_file.flatMap(list).map(lambda item: (item,1)).reduceByKey(lambda a,b: a+b)"
      ]
    },
    {
      "cell_type": "code",
      "execution_count": null,
      "metadata": {
        "colab": {
          "base_uri": "https://localhost:8080/"
        },
        "id": "AX7vf_hlJ3Ua",
        "outputId": "2ff1020b-7b79-4827-9dc1-b6cd0e6676e0"
      },
      "outputs": [
        {
          "output_type": "execute_result",
          "data": {
            "text/plain": [
              "(24961, 19640)"
            ]
          },
          "metadata": {},
          "execution_count": 57
        }
      ],
      "source": [
        "HASH_TABLE_SIZE = 25000\n",
        "hash_table_1 = np.zeros(HASH_TABLE_SIZE, dtype=int)\n",
        "hash_table_2 = np.zeros(HASH_TABLE_SIZE, dtype=int)\n",
        "\n",
        "def hashing_1(pair_to_hash):\n",
        "  return int(abs(hash(frozenset(pair_to_hash))) % HASH_TABLE_SIZE)\n",
        "\n",
        "\n",
        "def hashing_2(pair_to_hash):\n",
        "  return int((abs(hash(frozenset(pair_to_hash)))*3 /5 +9 *2 )% HASH_TABLE_SIZE)  #just create another hash function\n",
        "\n",
        "hashing_1(('russianarmy', 'chernobyl')), hashing_2(('russianarmy', 'chernobyl'))"
      ]
    },
    {
      "cell_type": "code",
      "execution_count": null,
      "metadata": {
        "id": "mEdYeOBtJ8Gf"
      },
      "outputs": [],
      "source": [
        "#hashing all the pairs of the basket fle with the two hashing functions\n",
        "\n",
        "hashtable_rdd_1 = basket_file.map(lambda basket: [(hashing_1(pair), 1) for pair in list(combinations(basket, 2))]).flatMap(lambda x: x).cache()\\\n",
        "                           .reduceByKey(lambda a,b: a+b)\n",
        "\n",
        "hashtable_rdd_2 = basket_file.map(lambda basket: [(hashing_2(pair), 1) for pair in list(combinations(basket, 2))]).flatMap(lambda x: x).cache()\\\n",
        "                           .reduceByKey(lambda a,b: a+b)\n",
        "\n"
      ]
    },
    {
      "cell_type": "markdown",
      "metadata": {
        "id": "5tVHw8szULyO"
      },
      "source": [
        "#2ND PASS"
      ]
    },
    {
      "cell_type": "code",
      "execution_count": null,
      "metadata": {
        "id": "vuWqcGB8K0yl"
      },
      "outputs": [],
      "source": [
        "hashtable_list_1 = list(hashtable_rdd_1.map(lambda x: x).toLocalIterator())\n",
        "\n",
        "for pair in hashtable_list_1:\n",
        "  hash_table_1[pair[0]] = pair[1]\n",
        "\n",
        "bitmap_freq_1 = [hash_table_1[i]>=threshold for i in range(HASH_TABLE_SIZE)] #bitmap_freq_1 from hash_table_1 (obtained from hashtable_rdd_1)\n",
        "\n",
        "\n",
        "hashtable_list_2 = list(hashtable_rdd_2.map(lambda x: x).toLocalIterator())\n",
        "\n",
        "for pair in hashtable_list_2:\n",
        "  hash_table_2[pair[0]] = pair[1]\n",
        "\n",
        "bitmap_freq_2 = [hash_table_2[i]>=threshold for i in range(HASH_TABLE_SIZE)] #bitmap_freq_2 from hash_table_2 (obtained from hashtable_rdd_2)\n",
        "\n"
      ]
    },
    {
      "cell_type": "code",
      "execution_count": null,
      "metadata": {
        "id": "IC5glHW8LEf_"
      },
      "outputs": [],
      "source": [
        "freq_singleton = singleton.filter(lambda x: x[1]>=threshold) \n",
        "                          \n",
        "pairs=list(combinations(freq_singleton.map(lambda x: x[0]).toLocalIterator(),2)) #pairs of freq singletons"
      ]
    },
    {
      "cell_type": "code",
      "execution_count": null,
      "metadata": {
        "id": "OHfdGOUeL4Fn"
      },
      "outputs": [],
      "source": [
        "#CONVERT PAIRS INTO RDD\n",
        "pairs_rdd = spark.sparkContext.parallelize(pairs)"
      ]
    },
    {
      "cell_type": "code",
      "execution_count": null,
      "metadata": {
        "colab": {
          "base_uri": "https://localhost:8080/"
        },
        "id": "44kU-zvTL6kF",
        "outputId": "db3662ad-aecd-417f-ad18-e3105e3672a3"
      },
      "outputs": [
        {
          "output_type": "execute_result",
          "data": {
            "text/plain": [
              "[('ukraineunderattaсk', 'protectuаsky'),\n",
              " ('ukraineunderattaсk', 'stoprussia'),\n",
              " ('russianinvasion', 'standwithukraine'),\n",
              " ('russianinvasion', 'ukrainewillwin'),\n",
              " ('russianinvasion', 'stopputin'),\n",
              " ('russianinvasion', 'russianukrainianwar'),\n",
              " ('russianinvasion', 'russiagohome'),\n",
              " ('russianinvasion', 'нетвойне'),\n",
              " ('russianinvasion', 'ukraineunderattack'),\n",
              " ('russianinvasion', 'putinisawarcriminal')]"
            ]
          },
          "metadata": {},
          "execution_count": 62
        }
      ],
      "source": [
        "#candidate pairs = pairs of freq singleton and the pair is freq in both the hash_tables\n",
        "\n",
        "candidate_pairs = pairs_rdd.filter(lambda x : bitmap_freq_1[hashing_1(x)] == True)\n",
        "candidate_pairs_2 = candidate_pairs.filter(lambda x : bitmap_freq_2[hashing_2(x)] == True)\n",
        "\n",
        "candidate_pairs_list = list(candidate_pairs_2.map(lambda x: x).toLocalIterator()) #prima qua avevo messo pairs_rdd ma è sbagliato, perchè così è uguale ad Apriori\n",
        "candidate_pairs_list[:10]"
      ]
    },
    {
      "cell_type": "code",
      "execution_count": null,
      "metadata": {
        "colab": {
          "base_uri": "https://localhost:8080/"
        },
        "id": "zlY2JMzEMag1",
        "outputId": "9f6642e0-a84d-4b99-feea-d49ed332290a"
      },
      "outputs": [
        {
          "output_type": "execute_result",
          "data": {
            "text/plain": [
              "[(('protectuаsky', 'stoprussia'), 20),\n",
              " (('russianinvasion', 'standwithukraine'), 20),\n",
              " (('russianinvasion', 'ukrainewillwin'), 20),\n",
              " (('russianinvasion', 'stopputin'), 20),\n",
              " (('russianinvasion', 'russianukrainianwar'), 20),\n",
              " (('russianinvasion', 'russiagohome'), 20),\n",
              " (('russianinvasion', 'нетвойне'), 20),\n",
              " (('standwithukraine', 'ukrainewillwin'), 20),\n",
              " (('standwithukraine', 'stopputin'), 23),\n",
              " (('standwithukraine', 'russianukrainianwar'), 20),\n",
              " (('standwithukraine', 'russiagohome'), 20),\n",
              " (('standwithukraine', 'нетвойне'), 20),\n",
              " (('ukrainewillwin', 'stopputin'), 20),\n",
              " (('ukrainewillwin', 'russianukrainianwar'), 20),\n",
              " (('ukrainewillwin', 'russiagohome'), 20),\n",
              " (('ukrainewillwin', 'нетвойне'), 20),\n",
              " (('stopputin', 'russianukrainianwar'), 20),\n",
              " (('stopputin', 'russiagohome'), 20),\n",
              " (('stopputin', 'нетвойне'), 20),\n",
              " (('russianukrainianwar', 'russiagohome'), 20),\n",
              " (('russianukrainianwar', 'нетвойне'), 20),\n",
              " (('russiagohome', 'нетвойне'), 20),\n",
              " (('ukraineunderattack', 'putinisawarcriminal'), 20),\n",
              " (('ukraineunderattack', 'россиясмотри'), 20),\n",
              " (('putinisawarcriminal', 'россиясмотри'), 20),\n",
              " (('nft', 'mint'), 33),\n",
              " (('russia', 'ukraine'), 29),\n",
              " (('ukraine', 'kyiv'), 22),\n",
              " (('settodraw', 'tanzaniaproject'), 10),\n",
              " (('settodraw', 'africa'), 10),\n",
              " (('settodraw', 'mining'), 10),\n",
              " (('tanzaniaproject', 'africa'), 10),\n",
              " (('tanzaniaproject', 'mining'), 10),\n",
              " (('africa', 'mining'), 10),\n",
              " (('gas', 'energy'), 10),\n",
              " (('gas', 'coal'), 10),\n",
              " (('energy', 'coal'), 10),\n",
              " (('ukraine', 'russian'), 11),\n",
              " (('ukrainian', 'kherson'), 14),\n",
              " (('ukraineunderattaсk', 'protectuаsky'), 20),\n",
              " (('ukraineunderattaсk', 'stoprussia'), 20),\n",
              " (('russianinvasion', 'ukraineunderattack'), 20),\n",
              " (('russianinvasion', 'putinisawarcriminal'), 20),\n",
              " (('russianinvasion', 'россиясмотри'), 20),\n",
              " (('standwithukraine', 'ukraineunderattack'), 20),\n",
              " (('standwithukraine', 'putinisawarcriminal'), 20),\n",
              " (('standwithukraine', 'россиясмотри'), 20),\n",
              " (('ukrainewillwin', 'ukraineunderattack'), 20),\n",
              " (('ukrainewillwin', 'putinisawarcriminal'), 20),\n",
              " (('ukrainewillwin', 'россиясмотри'), 20),\n",
              " (('stopputin', 'ukraineunderattack'), 20),\n",
              " (('stopputin', 'putinisawarcriminal'), 20),\n",
              " (('stopputin', 'россиясмотри'), 20),\n",
              " (('russianukrainianwar', 'ukraineunderattack'), 20),\n",
              " (('russianukrainianwar', 'putinisawarcriminal'), 20),\n",
              " (('russianukrainianwar', 'россиясмотри'), 20),\n",
              " (('russiagohome', 'ukraineunderattack'), 20),\n",
              " (('russiagohome', 'putinisawarcriminal'), 20),\n",
              " (('russiagohome', 'россиясмотри'), 20),\n",
              " (('нетвойне', 'ukraineunderattack'), 20),\n",
              " (('нетвойне', 'putinisawarcriminal'), 20),\n",
              " (('нетвойне', 'россиясмотри'), 20),\n",
              " (('putin', 'ukraine'), 12),\n",
              " (('putin', 'gas'), 11),\n",
              " (('settodraw', 'gas'), 10),\n",
              " (('settodraw', 'energy'), 10),\n",
              " (('settodraw', 'coal'), 10),\n",
              " (('tanzaniaproject', 'gas'), 10),\n",
              " (('tanzaniaproject', 'energy'), 10),\n",
              " (('tanzaniaproject', 'coal'), 10),\n",
              " (('africa', 'gas'), 10),\n",
              " (('africa', 'energy'), 10),\n",
              " (('africa', 'coal'), 10),\n",
              " (('mining', 'gas'), 10),\n",
              " (('mining', 'energy'), 10),\n",
              " (('mining', 'coal'), 10),\n",
              " (('ukrainerussiawar', 'ukraine'), 18)]"
            ]
          },
          "metadata": {},
          "execution_count": 63
        }
      ],
      "source": [
        "flatted_couples = basket_file.map(lambda x: [(pair,1) for pair in candidate_pairs_list if set(pair).\\\n",
        "                                             issubset(set(x))]).flatMap(lambda x: x).cache()\n",
        "\n",
        "reduced_elements = flatted_couples.reduceByKey(lambda a, b: a + b)\n",
        "freq_pairs = reduced_elements.filter(lambda x : x[1] >= threshold).cache()\n",
        "result_MULTI_HASH = list(freq_pairs.map(lambda x: x).toLocalIterator())\n",
        "result_MULTI_HASH_sorted = list(freq_pairs.sortBy(lambda x: x[1]).toLocalIterator())\n",
        "\n",
        "freq_pairs.collect()"
      ]
    },
    {
      "cell_type": "code",
      "execution_count": null,
      "metadata": {
        "colab": {
          "base_uri": "https://localhost:8080/"
        },
        "id": "c_DEZGN7OWpI",
        "outputId": "dc52b34f-6d31-4536-abca-3a9778cde03c"
      },
      "outputs": [
        {
          "output_type": "execute_result",
          "data": {
            "text/plain": [
              "True"
            ]
          },
          "metadata": {},
          "execution_count": 64
        }
      ],
      "source": [
        "set(result_MULTI_HASH) == set(result_MULTI_STAGE)"
      ]
    },
    {
      "cell_type": "markdown",
      "metadata": {
        "id": "KT9sC0_rC6LK"
      },
      "source": [
        "## SON"
      ]
    },
    {
      "cell_type": "code",
      "execution_count": null,
      "metadata": {
        "id": "8F2EUwXdC3xb"
      },
      "outputs": [],
      "source": [
        "# define Apriori function (same lines of code previously seen) to use in SON\n",
        "from itertools import combinations\n",
        "def Apriori(basket_file, threshold):\n",
        "  singleton=basket_file.flatMap(list).map(lambda item: (item,1)).reduceByKey(lambda a,b: a+b) #1st phase\n",
        "  freq_singleton=singleton.filter(lambda x: x[1]>=threshold)#between 1st and 2nd phase\n",
        "  pairs=list(combinations(freq_singleton.map(lambda x: x[0]).toLocalIterator(),2)) #start of the 2nd phase\n",
        "  flatted_couples = basket_file.map(lambda x: [(pair,1) for pair in pairs if set(pair).issubset(set(x))]).flatMap(lambda x: x).cache()\n",
        "  reduced_elements = flatted_couples.reduceByKey(lambda a, b: a + b)\n",
        "  freq_pairs = reduced_elements.filter(lambda x : x[1] >= threshold).cache()\n",
        "  return freq_pairs"
      ]
    },
    {
      "cell_type": "code",
      "execution_count": null,
      "metadata": {
        "colab": {
          "base_uri": "https://localhost:8080/"
        },
        "id": "aFwR42VWC304",
        "outputId": "f8cf8cbe-c500-4e3a-c244-b4d0684a094c"
      },
      "outputs": [
        {
          "output_type": "stream",
          "name": "stdout",
          "text": [
            "250.0\n"
          ]
        }
      ],
      "source": [
        "#We need to define the size of the chunk for dividing the basket file\n",
        "NUMBER_OF_CHUNKS = 2 \n",
        "num_baskets = basket_file.count()\n",
        "\n",
        "chunks = basket_file.repartition(NUMBER_OF_CHUNKS).glom().collect() \n",
        "\n",
        "SIZE_CHUNK = num_baskets/NUMBER_OF_CHUNKS\n",
        "print(SIZE_CHUNK)"
      ]
    },
    {
      "cell_type": "code",
      "execution_count": null,
      "metadata": {
        "id": "p6haB63IC330"
      },
      "outputs": [],
      "source": [
        "all_pairs = spark.sparkContext.parallelize([]) #empty RDD\n",
        "scaled_threshold = 0.9 * (SIZE_CHUNK/num_baskets) * threshold\n",
        "\n",
        "for chunk in chunks:\n",
        "  rdd_chunk = spark.sparkContext.parallelize(chunk) #rdd_chun contain thecurrent chunk\n",
        "  freq_pairs = Apriori(rdd_chunk, threshold=scaled_threshold)\n",
        "  all_pairs = all_pairs.union(freq_pairs) \n",
        "  \n",
        "#all pairs at the end of the for will contain the results of Apriori run on the two chunks\n",
        "\n",
        "all_pairs = all_pairs.map(lambda x : x[0]).distinct()  #elimination of duplicates (from (a,b),(a,b) to (a,b))\n",
        "candidate_pairs_list = list(all_pairs.map(lambda x: x).toLocalIterator()) #convert to list\n",
        "\n",
        "\n",
        "# It is possible that Apriori output from a chunk a frequent pair (\"Hello\",\"Computer) and Apriori output (\"Hello\",\"Computer) for another chunk.\n",
        "#We need to delete also the duplicates of this from.\n",
        "\n",
        "candidate_pairs = candidate_pairs_list\n",
        "\n",
        "for i, pair_1 in enumerate(candidate_pairs_list):\n",
        "  for j, pair_2 in enumerate(candidate_pairs_list):\n",
        "    if (i!= j and frozenset(pair_1) == frozenset(pair_2)): # I got something like (a,b) (b,a) but I'm intrested only in one of them.\n",
        "      candidate_pairs.remove(pair_2) #remove pair_2 from list\n"
      ]
    },
    {
      "cell_type": "markdown",
      "metadata": {
        "id": "c6Qd5jQaMTNH"
      },
      "source": [
        "## 2nd map reduce"
      ]
    },
    {
      "cell_type": "code",
      "execution_count": null,
      "metadata": {
        "colab": {
          "base_uri": "https://localhost:8080/"
        },
        "id": "pwb7jYmVC36D",
        "outputId": "a4bbc02e-42e7-4be6-bdc9-7737183b394f"
      },
      "outputs": [
        {
          "output_type": "execute_result",
          "data": {
            "text/plain": [
              "[(('protectuаsky', 'stoprussia'), 20),\n",
              " (('russianinvasion', 'standwithukraine'), 20),\n",
              " (('ukrainewillwin', 'stopputin'), 20),\n",
              " (('ukrainewillwin', 'russiagohome'), 20),\n",
              " (('ukrainewillwin', 'нетвойне'), 20),\n",
              " (('russiagohome', 'нетвойне'), 20),\n",
              " (('ukraineunderattack', 'putinisawarcriminal'), 20),\n",
              " (('ukraineunderattack', 'россиясмотри'), 20),\n",
              " (('stopputin', 'standwithukraine'), 23),\n",
              " (('russianukrainianwar', 'standwithukraine'), 20),\n",
              " (('russianukrainianwar', 'russianinvasion'), 20),\n",
              " (('russianukrainianwar', 'ukrainewillwin'), 20),\n",
              " (('nft', 'mint'), 33),\n",
              " (('russia', 'ukraine'), 29),\n",
              " (('ukraine', 'kyiv'), 22),\n",
              " (('settodraw', 'tanzaniaproject'), 10),\n",
              " (('settodraw', 'africa'), 10),\n",
              " (('tanzaniaproject', 'mining'), 10),\n",
              " (('russianinvasion', 'ukraineunderattack'), 20),\n",
              " (('russianinvasion', 'putinisawarcriminal'), 20),\n",
              " (('russianinvasion', 'россиясмотри'), 20),\n",
              " (('standwithukraine', 'ukraineunderattack'), 20),\n",
              " (('russianukrainianwar', 'ukraineunderattack'), 20),\n",
              " (('russianukrainianwar', 'putinisawarcriminal'), 20),\n",
              " (('нетвойне', 'putinisawarcriminal'), 20),\n",
              " (('putin', 'gas'), 11),\n",
              " (('africa', 'energy'), 10),\n",
              " (('mining', 'energy'), 10),\n",
              " (('russianinvasion', 'russiagohome'), 20),\n",
              " (('russianinvasion', 'нетвойне'), 20),\n",
              " (('standwithukraine', 'ukrainewillwin'), 20),\n",
              " (('stopputin', 'нетвойне'), 20),\n",
              " (('russianukrainianwar', 'russiagohome'), 20),\n",
              " (('settodraw', 'mining'), 10),\n",
              " (('gas', 'coal'), 10),\n",
              " (('energy', 'coal'), 10),\n",
              " (('ukrainian', 'kherson'), 14),\n",
              " (('ukraineunderattaсk', 'protectuаsky'), 20),\n",
              " (('ukraineunderattaсk', 'stoprussia'), 20),\n",
              " (('standwithukraine', 'putinisawarcriminal'), 20),\n",
              " (('ukrainewillwin', 'ukraineunderattack'), 20),\n",
              " (('ukrainewillwin', 'putinisawarcriminal'), 20),\n",
              " (('ukrainewillwin', 'россиясмотри'), 20),\n",
              " (('stopputin', 'ukraineunderattack'), 20),\n",
              " (('stopputin', 'россиясмотри'), 20),\n",
              " (('russianukrainianwar', 'россиясмотри'), 20),\n",
              " (('russiagohome', 'ukraineunderattack'), 20),\n",
              " (('нетвойне', 'ukraineunderattack'), 20),\n",
              " (('settodraw', 'gas'), 10),\n",
              " (('settodraw', 'energy'), 10),\n",
              " (('settodraw', 'coal'), 10),\n",
              " (('tanzaniaproject', 'energy'), 10),\n",
              " (('africa', 'coal'), 10),\n",
              " (('mining', 'gas'), 10),\n",
              " (('mining', 'coal'), 10),\n",
              " (('ukrainerussiawar', 'ukraine'), 18),\n",
              " (('russianinvasion', 'ukrainewillwin'), 20),\n",
              " (('russianinvasion', 'stopputin'), 20),\n",
              " (('standwithukraine', 'russiagohome'), 20),\n",
              " (('standwithukraine', 'нетвойне'), 20),\n",
              " (('stopputin', 'russianukrainianwar'), 20),\n",
              " (('stopputin', 'russiagohome'), 20),\n",
              " (('russianukrainianwar', 'нетвойне'), 20),\n",
              " (('putinisawarcriminal', 'россиясмотри'), 20),\n",
              " (('russian', 'ukraine'), 11),\n",
              " (('tanzaniaproject', 'africa'), 10),\n",
              " (('africa', 'mining'), 10),\n",
              " (('gas', 'energy'), 10),\n",
              " (('standwithukraine', 'россиясмотри'), 20),\n",
              " (('stopputin', 'putinisawarcriminal'), 20),\n",
              " (('russiagohome', 'putinisawarcriminal'), 20),\n",
              " (('russiagohome', 'россиясмотри'), 20),\n",
              " (('нетвойне', 'россиясмотри'), 20),\n",
              " (('putin', 'ukraine'), 12),\n",
              " (('tanzaniaproject', 'gas'), 10),\n",
              " (('tanzaniaproject', 'coal'), 10),\n",
              " (('africa', 'gas'), 10)]"
            ]
          },
          "metadata": {},
          "execution_count": 68
        }
      ],
      "source": [
        "#CHECK AGAINST FP\n",
        "\n",
        "final_rdd = spark.sparkContext.parallelize([]) #empty RDD\n",
        "\n",
        "for chunk in chunks:\n",
        "  rdd_chunk = spark.sparkContext.parallelize(chunk)\n",
        "  flatted_couples_chunk = rdd_chunk.map(lambda x: [(pair,1) for pair in candidate_pairs if set(pair).\\\n",
        "                                             issubset(set(x))]).flatMap(lambda x: x).cache()\n",
        "  final_rdd = final_rdd.union(flatted_couples_chunk)\n",
        "\n",
        "\n",
        "reduced_elements = final_rdd.reduceByKey(lambda a, b: a + b)\n",
        "freq_pairs = reduced_elements.filter(lambda x : x[1] >= threshold).cache() \n",
        "result_SON = list(freq_pairs.map(lambda x: x).toLocalIterator())\n",
        "freq_pairs.collect()"
      ]
    },
    {
      "cell_type": "code",
      "execution_count": null,
      "metadata": {
        "colab": {
          "base_uri": "https://localhost:8080/"
        },
        "id": "SVlA_-_mbe29",
        "outputId": "1e327674-c6be-40ac-c554-74804fabedd9"
      },
      "outputs": [
        {
          "output_type": "execute_result",
          "data": {
            "text/plain": [
              "False"
            ]
          },
          "metadata": {},
          "execution_count": 69
        }
      ],
      "source": [
        "set(result_SON) == set(result_MULTI_HASH)"
      ]
    },
    {
      "cell_type": "markdown",
      "metadata": {
        "id": "vHxiC71ayOy_"
      },
      "source": [
        "# TESTING ON THE WHOLE DATASET"
      ]
    },
    {
      "cell_type": "code",
      "execution_count": null,
      "metadata": {
        "colab": {
          "base_uri": "https://localhost:8080/"
        },
        "id": "WmgA22Le2-AW",
        "outputId": "25563493-80fd-4be6-a6b7-f5af3eb7efaf"
      },
      "outputs": [
        {
          "output_type": "execute_result",
          "data": {
            "text/plain": [
              "254626"
            ]
          },
          "metadata": {},
          "execution_count": 26
        }
      ],
      "source": [
        "hashtag=new_df_spark.select('hashtag')\n",
        "threshold = 7000  #threshold fixed empirically\n",
        "basket_file = hashtag.rdd.flatMap(list)\n",
        "basket_file.count()"
      ]
    },
    {
      "cell_type": "code",
      "source": [
        "import time\n",
        "def analysis(algorithm,basket_file):\n",
        "  num_pairs=[]\n",
        "  times=[]\n",
        "  pairs=[]\n",
        "\n",
        "  for t in [1000,3000,5000,7000]:\n",
        "    startTime = time.time()\n",
        "    if algorithm ==\"Apriori\":\n",
        "      freq_pairs = Apriori(basket_file, threshold=t)\n",
        "    elif algorithm ==\"PCY\":\n",
        "      freq_pairs = PCY(basket_file, threshold=t, HASH_TABLE_SIZE=50000) #HASHTABLE SIZE\n",
        "    elif algorithm ==\"Multistage\":\n",
        "      freq_pairs = Multistage(basket_file, threshold=t, HASH_TABLE_SIZE=25000)  #HASHTABLE SIZE\n",
        "    elif algorithm ==\"MULTI_HASH\":\n",
        "      freq_pairs = MULTI_HASH(basket_file, threshold=t, HASH_TABLE_SIZEs=25000) #HASHTABLE SIZE\n",
        "    elif algorithm ==\"SON\":\n",
        "      freq_pairs = SON(basket_file, threshold=t)    #NUMBER OF CHUNKS\n",
        "    f=freq_pairs.collect()\n",
        "    c=freq_pairs.count()\n",
        "    t=time.time()-startTime\n",
        "\n",
        "    num_pairs.append(c)\n",
        "    pairs.append(f)\n",
        "    times.append(t)\n",
        "\n",
        "    print(\"*\")\n",
        "  return num_pairs,pairs,times"
      ],
      "metadata": {
        "id": "BmlwWYb4v6Uq"
      },
      "execution_count": 73,
      "outputs": []
    },
    {
      "cell_type": "markdown",
      "source": [
        " # APRIORI ANALYSIS"
      ],
      "metadata": {
        "id": "VqcNV-P9ymK5"
      }
    },
    {
      "cell_type": "code",
      "source": [
        "num_pairs_A, pairs_A, times_A=analysis(\"Apriori\",basket_file)"
      ],
      "metadata": {
        "colab": {
          "base_uri": "https://localhost:8080/"
        },
        "id": "eW0DvIMByr_8",
        "outputId": "64852275-149d-4bdd-bf8b-35de546b2459"
      },
      "execution_count": null,
      "outputs": [
        {
          "output_type": "stream",
          "name": "stdout",
          "text": [
            "*\n",
            "*\n",
            "*\n",
            "*\n"
          ]
        }
      ]
    },
    {
      "cell_type": "markdown",
      "source": [
        "##TIME VS THRESHOLD"
      ],
      "metadata": {
        "id": "JlHevhD2uNV9"
      }
    },
    {
      "cell_type": "code",
      "source": [
        "import altair as alt\n",
        "x = [1000,3000,5000,7000]\n",
        "y = times_A\n",
        "source = pd.DataFrame({\n",
        "  'threshold values': x,\n",
        "  'times to compute Apriori': y\n",
        "})\n",
        "\n",
        "alt.Chart(source).mark_line().encode(\n",
        "    x='threshold values',\n",
        "    y='times to compute Apriori'\n",
        ")"
      ],
      "metadata": {
        "colab": {
          "base_uri": "https://localhost:8080/",
          "height": 368
        },
        "id": "yZXhxJLLuGfE",
        "outputId": "20e75cd7-ec36-4893-dfea-f6d6da7b0a7a"
      },
      "execution_count": null,
      "outputs": [
        {
          "output_type": "execute_result",
          "data": {
            "text/html": [
              "\n",
              "<div id=\"altair-viz-e774d463b83d4200a6ef3d821d769bf1\"></div>\n",
              "<script type=\"text/javascript\">\n",
              "  var VEGA_DEBUG = (typeof VEGA_DEBUG == \"undefined\") ? {} : VEGA_DEBUG;\n",
              "  (function(spec, embedOpt){\n",
              "    let outputDiv = document.currentScript.previousElementSibling;\n",
              "    if (outputDiv.id !== \"altair-viz-e774d463b83d4200a6ef3d821d769bf1\") {\n",
              "      outputDiv = document.getElementById(\"altair-viz-e774d463b83d4200a6ef3d821d769bf1\");\n",
              "    }\n",
              "    const paths = {\n",
              "      \"vega\": \"https://cdn.jsdelivr.net/npm//vega@5?noext\",\n",
              "      \"vega-lib\": \"https://cdn.jsdelivr.net/npm//vega-lib?noext\",\n",
              "      \"vega-lite\": \"https://cdn.jsdelivr.net/npm//vega-lite@4.17.0?noext\",\n",
              "      \"vega-embed\": \"https://cdn.jsdelivr.net/npm//vega-embed@6?noext\",\n",
              "    };\n",
              "\n",
              "    function maybeLoadScript(lib, version) {\n",
              "      var key = `${lib.replace(\"-\", \"\")}_version`;\n",
              "      return (VEGA_DEBUG[key] == version) ?\n",
              "        Promise.resolve(paths[lib]) :\n",
              "        new Promise(function(resolve, reject) {\n",
              "          var s = document.createElement('script');\n",
              "          document.getElementsByTagName(\"head\")[0].appendChild(s);\n",
              "          s.async = true;\n",
              "          s.onload = () => {\n",
              "            VEGA_DEBUG[key] = version;\n",
              "            return resolve(paths[lib]);\n",
              "          };\n",
              "          s.onerror = () => reject(`Error loading script: ${paths[lib]}`);\n",
              "          s.src = paths[lib];\n",
              "        });\n",
              "    }\n",
              "\n",
              "    function showError(err) {\n",
              "      outputDiv.innerHTML = `<div class=\"error\" style=\"color:red;\">${err}</div>`;\n",
              "      throw err;\n",
              "    }\n",
              "\n",
              "    function displayChart(vegaEmbed) {\n",
              "      vegaEmbed(outputDiv, spec, embedOpt)\n",
              "        .catch(err => showError(`Javascript Error: ${err.message}<br>This usually means there's a typo in your chart specification. See the javascript console for the full traceback.`));\n",
              "    }\n",
              "\n",
              "    if(typeof define === \"function\" && define.amd) {\n",
              "      requirejs.config({paths});\n",
              "      require([\"vega-embed\"], displayChart, err => showError(`Error loading script: ${err.message}`));\n",
              "    } else {\n",
              "      maybeLoadScript(\"vega\", \"5\")\n",
              "        .then(() => maybeLoadScript(\"vega-lite\", \"4.17.0\"))\n",
              "        .then(() => maybeLoadScript(\"vega-embed\", \"6\"))\n",
              "        .catch(showError)\n",
              "        .then(() => displayChart(vegaEmbed));\n",
              "    }\n",
              "  })({\"config\": {\"view\": {\"continuousWidth\": 400, \"continuousHeight\": 300}}, \"data\": {\"name\": \"data-7e7ca1eced111b70ef5375978fe34c7a\"}, \"mark\": \"line\", \"encoding\": {\"x\": {\"field\": \"threshold values\", \"type\": \"quantitative\"}, \"y\": {\"field\": \"times to compute Apriori\", \"type\": \"quantitative\"}}, \"$schema\": \"https://vega.github.io/schema/vega-lite/v4.17.0.json\", \"datasets\": {\"data-7e7ca1eced111b70ef5375978fe34c7a\": [{\"threshold values\": 1000, \"times to compute Apriori\": 685.1098549365997}, {\"threshold values\": 3000, \"times to compute Apriori\": 254.4700162410736}, {\"threshold values\": 5000, \"times to compute Apriori\": 218.16904616355896}, {\"threshold values\": 7000, \"times to compute Apriori\": 206.31521677970886}]}}, {\"mode\": \"vega-lite\"});\n",
              "</script>"
            ],
            "text/plain": [
              "alt.Chart(...)"
            ]
          },
          "metadata": {},
          "execution_count": 45
        }
      ]
    },
    {
      "cell_type": "markdown",
      "source": [
        "## NUM OF PAIRS VS THRESHOLD"
      ],
      "metadata": {
        "id": "oDv_rJH6u7I4"
      }
    },
    {
      "cell_type": "code",
      "source": [
        "x = [1000,3000,5000,7000]\n",
        "y = num_pairs_A\n",
        "source = pd.DataFrame({\n",
        "  'threshold values': x,\n",
        "  'num of pairs': y\n",
        "})\n",
        "\n",
        "alt.Chart(source).mark_line().encode(\n",
        "    x='threshold values',\n",
        "    y='num of pairs'\n",
        ")"
      ],
      "metadata": {
        "colab": {
          "base_uri": "https://localhost:8080/",
          "height": 368
        },
        "id": "x0r736ajvB_j",
        "outputId": "f0a8942c-4388-4df9-9b18-503baa61c7fe"
      },
      "execution_count": null,
      "outputs": [
        {
          "output_type": "execute_result",
          "data": {
            "text/html": [
              "\n",
              "<div id=\"altair-viz-d3e05aa45aa54a26bf51eb429849b80d\"></div>\n",
              "<script type=\"text/javascript\">\n",
              "  var VEGA_DEBUG = (typeof VEGA_DEBUG == \"undefined\") ? {} : VEGA_DEBUG;\n",
              "  (function(spec, embedOpt){\n",
              "    let outputDiv = document.currentScript.previousElementSibling;\n",
              "    if (outputDiv.id !== \"altair-viz-d3e05aa45aa54a26bf51eb429849b80d\") {\n",
              "      outputDiv = document.getElementById(\"altair-viz-d3e05aa45aa54a26bf51eb429849b80d\");\n",
              "    }\n",
              "    const paths = {\n",
              "      \"vega\": \"https://cdn.jsdelivr.net/npm//vega@5?noext\",\n",
              "      \"vega-lib\": \"https://cdn.jsdelivr.net/npm//vega-lib?noext\",\n",
              "      \"vega-lite\": \"https://cdn.jsdelivr.net/npm//vega-lite@4.17.0?noext\",\n",
              "      \"vega-embed\": \"https://cdn.jsdelivr.net/npm//vega-embed@6?noext\",\n",
              "    };\n",
              "\n",
              "    function maybeLoadScript(lib, version) {\n",
              "      var key = `${lib.replace(\"-\", \"\")}_version`;\n",
              "      return (VEGA_DEBUG[key] == version) ?\n",
              "        Promise.resolve(paths[lib]) :\n",
              "        new Promise(function(resolve, reject) {\n",
              "          var s = document.createElement('script');\n",
              "          document.getElementsByTagName(\"head\")[0].appendChild(s);\n",
              "          s.async = true;\n",
              "          s.onload = () => {\n",
              "            VEGA_DEBUG[key] = version;\n",
              "            return resolve(paths[lib]);\n",
              "          };\n",
              "          s.onerror = () => reject(`Error loading script: ${paths[lib]}`);\n",
              "          s.src = paths[lib];\n",
              "        });\n",
              "    }\n",
              "\n",
              "    function showError(err) {\n",
              "      outputDiv.innerHTML = `<div class=\"error\" style=\"color:red;\">${err}</div>`;\n",
              "      throw err;\n",
              "    }\n",
              "\n",
              "    function displayChart(vegaEmbed) {\n",
              "      vegaEmbed(outputDiv, spec, embedOpt)\n",
              "        .catch(err => showError(`Javascript Error: ${err.message}<br>This usually means there's a typo in your chart specification. See the javascript console for the full traceback.`));\n",
              "    }\n",
              "\n",
              "    if(typeof define === \"function\" && define.amd) {\n",
              "      requirejs.config({paths});\n",
              "      require([\"vega-embed\"], displayChart, err => showError(`Error loading script: ${err.message}`));\n",
              "    } else {\n",
              "      maybeLoadScript(\"vega\", \"5\")\n",
              "        .then(() => maybeLoadScript(\"vega-lite\", \"4.17.0\"))\n",
              "        .then(() => maybeLoadScript(\"vega-embed\", \"6\"))\n",
              "        .catch(showError)\n",
              "        .then(() => displayChart(vegaEmbed));\n",
              "    }\n",
              "  })({\"config\": {\"view\": {\"continuousWidth\": 400, \"continuousHeight\": 300}}, \"data\": {\"name\": \"data-c0c69cc62d2446efb22f793f293df0a0\"}, \"mark\": \"line\", \"encoding\": {\"x\": {\"field\": \"threshold values\", \"type\": \"quantitative\"}, \"y\": {\"field\": \"num of pairs\", \"type\": \"quantitative\"}}, \"$schema\": \"https://vega.github.io/schema/vega-lite/v4.17.0.json\", \"datasets\": {\"data-c0c69cc62d2446efb22f793f293df0a0\": [{\"threshold values\": 1000, \"num of pairs\": 148}, {\"threshold values\": 3000, \"num of pairs\": 22}, {\"threshold values\": 5000, \"num of pairs\": 11}, {\"threshold values\": 7000, \"num of pairs\": 8}]}}, {\"mode\": \"vega-lite\"});\n",
              "</script>"
            ],
            "text/plain": [
              "alt.Chart(...)"
            ]
          },
          "metadata": {},
          "execution_count": 46
        }
      ]
    },
    {
      "cell_type": "markdown",
      "source": [
        "#PCY ANALYSIS"
      ],
      "metadata": {
        "id": "LIaYglUTviHR"
      }
    },
    {
      "cell_type": "code",
      "execution_count": null,
      "metadata": {
        "id": "k-gry8Q5xEjI"
      },
      "outputs": [],
      "source": [
        "from sys import hash_info\n",
        "from itertools import combinations\n",
        "\n",
        "def hashing(pair_to_hash):\n",
        "  return int(abs(hash(frozenset(pair_to_hash))) % HASH_TABLE_SIZE)\n",
        "\n",
        "def PCY(basket_file, threshold, HASH_TABLE_SIZE):\n",
        "  def hashing(pair_to_hash):\n",
        "    return int(abs(hash(frozenset(pair_to_hash))) % HASH_TABLE_SIZE)\n",
        "  #1st pass:\n",
        "  singleton = basket_file.flatMap(list).map(lambda item: (item,1)).reduceByKey(lambda a,b: a+b)\n",
        "  HASH_TABLE_SIZE = 50000 \n",
        "  hash_table = np.zeros(HASH_TABLE_SIZE, dtype=int)\n",
        "\n",
        "  hashtable_rdd = basket_file.map(lambda basket: [(hashing(pair), 1) for pair in list(combinations(basket, 2))]).flatMap(lambda x: x).cache()\\\n",
        "                           .reduceByKey(lambda a,b: a+b)\n",
        "\n",
        "  #2st pass:\n",
        "  hashtable_list = list(hashtable_rdd.map(lambda x: x).toLocalIterator())\n",
        "\n",
        "  for pair in hashtable_list:\n",
        "    hash_table[pair[0]] = pair[1]\n",
        "\n",
        "  bitmap_freq = [hash_table[i]>=threshold for i in range(HASH_TABLE_SIZE)]\n",
        "\n",
        "  freq_singleton = singleton.filter(lambda x: x[1]>=threshold)  \n",
        "  freq_singleton_list = list(freq_singleton.map(lambda x: x).toLocalIterator())                         \n",
        "  pairs=list(combinations(freq_singleton.map(lambda x: x[0]).toLocalIterator(),2)) #formed from freq singletons\n",
        "  #CONVERT PAIRS INTO RDD\n",
        "  pairs_rdd = spark.sparkContext.parallelize(pairs)\n",
        "  candidate_pairs = pairs_rdd.filter(lambda x : bitmap_freq[hashing(x)] == True)\n",
        "  candidate_pairs_list = list(candidate_pairs.map(lambda x: x).toLocalIterator()) #prima qua avevo messo pairs_rdd ma è sbagliato, perchè così è uguale ad Apriori\n",
        "\n",
        "  #check against threshold\n",
        "  flatted_couples = basket_file.map(lambda x: [(pair,1) for pair in candidate_pairs_list if set(pair).\\\n",
        "                                             issubset(set(x))]).flatMap(lambda x: x).cache()\n",
        "\n",
        "  reduced_elements = flatted_couples.reduceByKey(lambda a, b: a + b)\n",
        "  freq_pairs = reduced_elements.filter(lambda x : x[1] >= threshold).cache()\n",
        "  return freq_pairs\n",
        "\n",
        "#PCY(basket_file, threshold, 50000).collect()"
      ]
    },
    {
      "cell_type": "code",
      "source": [
        "num_pairs_P, pairs_P, times_P=analysis(\"PCY\",basket_file)"
      ],
      "metadata": {
        "colab": {
          "base_uri": "https://localhost:8080/"
        },
        "id": "6lPY1EPHvgN8",
        "outputId": "fc7ff8b1-5023-4bbb-9c87-24e812489b4a"
      },
      "execution_count": null,
      "outputs": [
        {
          "output_type": "stream",
          "name": "stdout",
          "text": [
            "*\n",
            "*\n",
            "*\n",
            "*\n"
          ]
        }
      ]
    },
    {
      "cell_type": "markdown",
      "source": [
        "## TIMES VS THRESHOLD"
      ],
      "metadata": {
        "id": "In_wgkeT44wW"
      }
    },
    {
      "cell_type": "code",
      "source": [
        "x = [1000,3000,5000,7000]\n",
        "y = times_P\n",
        "source = pd.DataFrame({\n",
        "  'threshold values': x,\n",
        "  'times to compute PCY': y\n",
        "})\n",
        "\n",
        "alt.Chart(source).mark_line().encode(\n",
        "    x='threshold values',\n",
        "    y='times to compute PCY'\n",
        ")"
      ],
      "metadata": {
        "colab": {
          "base_uri": "https://localhost:8080/",
          "height": 368
        },
        "id": "TB4CxS6B40Ug",
        "outputId": "44823d61-5be5-432e-abef-ccc68242c428"
      },
      "execution_count": null,
      "outputs": [
        {
          "output_type": "execute_result",
          "data": {
            "text/html": [
              "\n",
              "<div id=\"altair-viz-2a564ce851274ad38e005b31479a519c\"></div>\n",
              "<script type=\"text/javascript\">\n",
              "  var VEGA_DEBUG = (typeof VEGA_DEBUG == \"undefined\") ? {} : VEGA_DEBUG;\n",
              "  (function(spec, embedOpt){\n",
              "    let outputDiv = document.currentScript.previousElementSibling;\n",
              "    if (outputDiv.id !== \"altair-viz-2a564ce851274ad38e005b31479a519c\") {\n",
              "      outputDiv = document.getElementById(\"altair-viz-2a564ce851274ad38e005b31479a519c\");\n",
              "    }\n",
              "    const paths = {\n",
              "      \"vega\": \"https://cdn.jsdelivr.net/npm//vega@5?noext\",\n",
              "      \"vega-lib\": \"https://cdn.jsdelivr.net/npm//vega-lib?noext\",\n",
              "      \"vega-lite\": \"https://cdn.jsdelivr.net/npm//vega-lite@4.17.0?noext\",\n",
              "      \"vega-embed\": \"https://cdn.jsdelivr.net/npm//vega-embed@6?noext\",\n",
              "    };\n",
              "\n",
              "    function maybeLoadScript(lib, version) {\n",
              "      var key = `${lib.replace(\"-\", \"\")}_version`;\n",
              "      return (VEGA_DEBUG[key] == version) ?\n",
              "        Promise.resolve(paths[lib]) :\n",
              "        new Promise(function(resolve, reject) {\n",
              "          var s = document.createElement('script');\n",
              "          document.getElementsByTagName(\"head\")[0].appendChild(s);\n",
              "          s.async = true;\n",
              "          s.onload = () => {\n",
              "            VEGA_DEBUG[key] = version;\n",
              "            return resolve(paths[lib]);\n",
              "          };\n",
              "          s.onerror = () => reject(`Error loading script: ${paths[lib]}`);\n",
              "          s.src = paths[lib];\n",
              "        });\n",
              "    }\n",
              "\n",
              "    function showError(err) {\n",
              "      outputDiv.innerHTML = `<div class=\"error\" style=\"color:red;\">${err}</div>`;\n",
              "      throw err;\n",
              "    }\n",
              "\n",
              "    function displayChart(vegaEmbed) {\n",
              "      vegaEmbed(outputDiv, spec, embedOpt)\n",
              "        .catch(err => showError(`Javascript Error: ${err.message}<br>This usually means there's a typo in your chart specification. See the javascript console for the full traceback.`));\n",
              "    }\n",
              "\n",
              "    if(typeof define === \"function\" && define.amd) {\n",
              "      requirejs.config({paths});\n",
              "      require([\"vega-embed\"], displayChart, err => showError(`Error loading script: ${err.message}`));\n",
              "    } else {\n",
              "      maybeLoadScript(\"vega\", \"5\")\n",
              "        .then(() => maybeLoadScript(\"vega-lite\", \"4.17.0\"))\n",
              "        .then(() => maybeLoadScript(\"vega-embed\", \"6\"))\n",
              "        .catch(showError)\n",
              "        .then(() => displayChart(vegaEmbed));\n",
              "    }\n",
              "  })({\"config\": {\"view\": {\"continuousWidth\": 400, \"continuousHeight\": 300}}, \"data\": {\"name\": \"data-336efbf90a8c595c89568fd6e1ef7ec9\"}, \"mark\": \"line\", \"encoding\": {\"x\": {\"field\": \"threshold values\", \"type\": \"quantitative\"}, \"y\": {\"field\": \"times to compute PCY\", \"type\": \"quantitative\"}}, \"$schema\": \"https://vega.github.io/schema/vega-lite/v4.17.0.json\", \"datasets\": {\"data-336efbf90a8c595c89568fd6e1ef7ec9\": [{\"threshold values\": 1000, \"times to compute PCY\": 312.207750082016}, {\"threshold values\": 3000, \"times to compute PCY\": 294.46576833724976}, {\"threshold values\": 5000, \"times to compute PCY\": 292.13799500465393}, {\"threshold values\": 7000, \"times to compute PCY\": 291.2764399051666}]}}, {\"mode\": \"vega-lite\"});\n",
              "</script>"
            ],
            "text/plain": [
              "alt.Chart(...)"
            ]
          },
          "metadata": {},
          "execution_count": 49
        }
      ]
    },
    {
      "cell_type": "markdown",
      "source": [
        "## NUM OF PAIRS VS THRESHOLD (OBVIOUSLY THE SAME OF BEFORE)"
      ],
      "metadata": {
        "id": "bybaQZ905GS3"
      }
    },
    {
      "cell_type": "code",
      "source": [
        "x = [1000,3000,5000,7000]\n",
        "y = num_pairs_P\n",
        "source = pd.DataFrame({\n",
        "  'threshold values': x,\n",
        "  'num of pairs': y\n",
        "})\n",
        "\n",
        "alt.Chart(source).mark_line().encode(\n",
        "    x='threshold values',\n",
        "    y='num of pairs'\n",
        ")"
      ],
      "metadata": {
        "colab": {
          "base_uri": "https://localhost:8080/",
          "height": 368
        },
        "id": "SFKdyfPA40X_",
        "outputId": "04479739-b183-4919-e121-fcea7575c4b8"
      },
      "execution_count": null,
      "outputs": [
        {
          "output_type": "execute_result",
          "data": {
            "text/html": [
              "\n",
              "<div id=\"altair-viz-a8d16700044c4fc7a6fb925d0a677a52\"></div>\n",
              "<script type=\"text/javascript\">\n",
              "  var VEGA_DEBUG = (typeof VEGA_DEBUG == \"undefined\") ? {} : VEGA_DEBUG;\n",
              "  (function(spec, embedOpt){\n",
              "    let outputDiv = document.currentScript.previousElementSibling;\n",
              "    if (outputDiv.id !== \"altair-viz-a8d16700044c4fc7a6fb925d0a677a52\") {\n",
              "      outputDiv = document.getElementById(\"altair-viz-a8d16700044c4fc7a6fb925d0a677a52\");\n",
              "    }\n",
              "    const paths = {\n",
              "      \"vega\": \"https://cdn.jsdelivr.net/npm//vega@5?noext\",\n",
              "      \"vega-lib\": \"https://cdn.jsdelivr.net/npm//vega-lib?noext\",\n",
              "      \"vega-lite\": \"https://cdn.jsdelivr.net/npm//vega-lite@4.17.0?noext\",\n",
              "      \"vega-embed\": \"https://cdn.jsdelivr.net/npm//vega-embed@6?noext\",\n",
              "    };\n",
              "\n",
              "    function maybeLoadScript(lib, version) {\n",
              "      var key = `${lib.replace(\"-\", \"\")}_version`;\n",
              "      return (VEGA_DEBUG[key] == version) ?\n",
              "        Promise.resolve(paths[lib]) :\n",
              "        new Promise(function(resolve, reject) {\n",
              "          var s = document.createElement('script');\n",
              "          document.getElementsByTagName(\"head\")[0].appendChild(s);\n",
              "          s.async = true;\n",
              "          s.onload = () => {\n",
              "            VEGA_DEBUG[key] = version;\n",
              "            return resolve(paths[lib]);\n",
              "          };\n",
              "          s.onerror = () => reject(`Error loading script: ${paths[lib]}`);\n",
              "          s.src = paths[lib];\n",
              "        });\n",
              "    }\n",
              "\n",
              "    function showError(err) {\n",
              "      outputDiv.innerHTML = `<div class=\"error\" style=\"color:red;\">${err}</div>`;\n",
              "      throw err;\n",
              "    }\n",
              "\n",
              "    function displayChart(vegaEmbed) {\n",
              "      vegaEmbed(outputDiv, spec, embedOpt)\n",
              "        .catch(err => showError(`Javascript Error: ${err.message}<br>This usually means there's a typo in your chart specification. See the javascript console for the full traceback.`));\n",
              "    }\n",
              "\n",
              "    if(typeof define === \"function\" && define.amd) {\n",
              "      requirejs.config({paths});\n",
              "      require([\"vega-embed\"], displayChart, err => showError(`Error loading script: ${err.message}`));\n",
              "    } else {\n",
              "      maybeLoadScript(\"vega\", \"5\")\n",
              "        .then(() => maybeLoadScript(\"vega-lite\", \"4.17.0\"))\n",
              "        .then(() => maybeLoadScript(\"vega-embed\", \"6\"))\n",
              "        .catch(showError)\n",
              "        .then(() => displayChart(vegaEmbed));\n",
              "    }\n",
              "  })({\"config\": {\"view\": {\"continuousWidth\": 400, \"continuousHeight\": 300}}, \"data\": {\"name\": \"data-c0c69cc62d2446efb22f793f293df0a0\"}, \"mark\": \"line\", \"encoding\": {\"x\": {\"field\": \"threshold values\", \"type\": \"quantitative\"}, \"y\": {\"field\": \"num of pairs\", \"type\": \"quantitative\"}}, \"$schema\": \"https://vega.github.io/schema/vega-lite/v4.17.0.json\", \"datasets\": {\"data-c0c69cc62d2446efb22f793f293df0a0\": [{\"threshold values\": 1000, \"num of pairs\": 148}, {\"threshold values\": 3000, \"num of pairs\": 22}, {\"threshold values\": 5000, \"num of pairs\": 11}, {\"threshold values\": 7000, \"num of pairs\": 8}]}}, {\"mode\": \"vega-lite\"});\n",
              "</script>"
            ],
            "text/plain": [
              "alt.Chart(...)"
            ]
          },
          "metadata": {},
          "execution_count": 50
        }
      ]
    },
    {
      "cell_type": "markdown",
      "source": [
        "# MULTISTAGE ANALYSIS"
      ],
      "metadata": {
        "id": "XOPCTl8E5NAb"
      }
    },
    {
      "cell_type": "code",
      "execution_count": null,
      "metadata": {
        "id": "Z-mMqb4RyXl_"
      },
      "outputs": [],
      "source": [
        "from itertools import combinations\n",
        "\n",
        "\n",
        "\n",
        "def Multistage(basket_file, threshold, HASH_TABLE_SIZE):\n",
        "  hash_table_1 = np.zeros(HASH_TABLE_SIZE, dtype=int)\n",
        "  hash_table_2 = np.zeros(HASH_TABLE_SIZE, dtype=int)\n",
        "\n",
        "  def hashing_1(pair_to_hash):\n",
        "    return int(abs(hash(frozenset(pair_to_hash))) % HASH_TABLE_SIZE)\n",
        "\n",
        "  def hashing_2(pair_to_hash):\n",
        "    return int((abs(hash(frozenset(pair_to_hash)))*3 /5 +9 *2 )% HASH_TABLE_SIZE)  #just create another hash function\n",
        "  \n",
        "  #1st stage\n",
        "  singleton = basket_file.flatMap(list).map(lambda item: (item,1)).reduceByKey(lambda a,b: a+b)\n",
        "\n",
        "  \n",
        "  hashtable_rdd = basket_file.map(lambda basket: [(hashing_1(pair), 1) for pair in list(combinations(basket, 2))]).flatMap(lambda x: x).cache()\\\n",
        "                           .reduceByKey(lambda a,b: a+b)\n",
        "\n",
        "  hashtable_list = list(hashtable_rdd.map(lambda x: x).toLocalIterator())\n",
        "\n",
        "  for pair in hashtable_list:\n",
        "    hash_table_1[pair[0]] = pair[1]\n",
        "\n",
        "  #2nd stage\n",
        "  bitmap_1 = [hash_table_1[i]>=threshold for i in range(HASH_TABLE_SIZE)]\n",
        "\n",
        "  freq_singleton = singleton.filter(lambda x: x[1]>=threshold)                           \n",
        "  pairs=list(combinations(freq_singleton.map(lambda x: x[0]).toLocalIterator(),2)) #All pairs formed by freqent singletons\n",
        "\n",
        "  #CONVERT PAIRS INTO RDD\n",
        "  pairs_rdd = spark.sparkContext.parallelize(pairs) #Formed from freq singletons\n",
        "\n",
        "  #check against bitmap 1\n",
        "  pairs_first_check = pairs_rdd.filter(lambda x : bitmap_1[hashing_1(x)] == True) #pairs from freq singletons and resulted freq in bitmap_1\n",
        "  #hash them again to hashtable 2\n",
        "\n",
        "  pairs_first_check_list = list(pairs_first_check .map(lambda x: x).toLocalIterator())#creating all pairs\n",
        "\n",
        "  #2nd scan: I hash the pairs that are formed by frequent singleton and hased in a freqient bcket from bitmap_1\n",
        "  hashtable_rdd_2 = basket_file.map(lambda x: [(hashing_2(pair),1) for pair in pairs_first_check_list if set(pair).issubset(set(x))])\\\n",
        "                              .flatMap(lambda x: x).cache().reduceByKey(lambda a,b: a+b)\n",
        "\n",
        "  hashtable_list_2 = list(hashtable_rdd_2.map(lambda x: x).toLocalIterator()) \n",
        "\n",
        "  for pair in hashtable_list_2:\n",
        "    hash_table_2[pair[0]] = pair[1]\n",
        "    \n",
        "  #3rd stage\n",
        "  bitmap_2 = [hash_table_2[i]>=threshold for i in range(HASH_TABLE_SIZE)]\n",
        "  candidate_pairs_1 = pairs_rdd.filter(lambda x : bitmap_1[hashing_1(x)] == True)\n",
        "  candidate_pairs = candidate_pairs_1.filter(lambda x : bitmap_2[hashing_2(x)] == True) \n",
        "  candidate_pairs_list = list(candidate_pairs.map(lambda x: x).toLocalIterator())\n",
        "\n",
        "  flatted_couples = basket_file.map(lambda x: [(pair,1) for pair in candidate_pairs_list if set(pair).\\\n",
        "                                             issubset(set(x))]).flatMap(lambda x: x).cache()\n",
        "\n",
        "  reduced_elements = flatted_couples.reduceByKey(lambda a, b: a + b)\n",
        "  freq_pairs = reduced_elements.filter(lambda x : x[1] >= threshold).cache()\n",
        "  return freq_pairs\n",
        "\n",
        "#Multistage(basket_file, threshold, 25000).collect()"
      ]
    },
    {
      "cell_type": "code",
      "source": [
        "num_pairs_MS, pairs_MS, times_MS=analysis(\"Multistage\",basket_file)"
      ],
      "metadata": {
        "colab": {
          "base_uri": "https://localhost:8080/"
        },
        "id": "kUvkiIKj-5yQ",
        "outputId": "d6321756-4f60-4d16-a5e6-a4136d5885d7"
      },
      "execution_count": null,
      "outputs": [
        {
          "output_type": "stream",
          "name": "stdout",
          "text": [
            "*\n",
            "*\n",
            "*\n",
            "*\n"
          ]
        }
      ]
    },
    {
      "cell_type": "markdown",
      "source": [
        "## TIME VS THRESHOLD"
      ],
      "metadata": {
        "id": "idmj3LVi_JIb"
      }
    },
    {
      "cell_type": "code",
      "source": [
        "import altair as alt\n",
        "x = [1000,3000,5000,7000]\n",
        "y = times_MS\n",
        "source = pd.DataFrame({\n",
        "  'threshold values': x,\n",
        "  'times to compute Multistage': y\n",
        "})\n",
        "\n",
        "alt.Chart(source).mark_line().encode(\n",
        "    x='threshold values',\n",
        "    y='times to compute Multistage'\n",
        ")"
      ],
      "metadata": {
        "colab": {
          "base_uri": "https://localhost:8080/",
          "height": 368
        },
        "id": "sdn-bx7J_Lqe",
        "outputId": "ed68e278-9766-4f0e-faee-7ae53250bd19"
      },
      "execution_count": null,
      "outputs": [
        {
          "output_type": "execute_result",
          "data": {
            "text/html": [
              "\n",
              "<div id=\"altair-viz-94624a58da424dd2b47e1e97ddfe6528\"></div>\n",
              "<script type=\"text/javascript\">\n",
              "  var VEGA_DEBUG = (typeof VEGA_DEBUG == \"undefined\") ? {} : VEGA_DEBUG;\n",
              "  (function(spec, embedOpt){\n",
              "    let outputDiv = document.currentScript.previousElementSibling;\n",
              "    if (outputDiv.id !== \"altair-viz-94624a58da424dd2b47e1e97ddfe6528\") {\n",
              "      outputDiv = document.getElementById(\"altair-viz-94624a58da424dd2b47e1e97ddfe6528\");\n",
              "    }\n",
              "    const paths = {\n",
              "      \"vega\": \"https://cdn.jsdelivr.net/npm//vega@5?noext\",\n",
              "      \"vega-lib\": \"https://cdn.jsdelivr.net/npm//vega-lib?noext\",\n",
              "      \"vega-lite\": \"https://cdn.jsdelivr.net/npm//vega-lite@4.17.0?noext\",\n",
              "      \"vega-embed\": \"https://cdn.jsdelivr.net/npm//vega-embed@6?noext\",\n",
              "    };\n",
              "\n",
              "    function maybeLoadScript(lib, version) {\n",
              "      var key = `${lib.replace(\"-\", \"\")}_version`;\n",
              "      return (VEGA_DEBUG[key] == version) ?\n",
              "        Promise.resolve(paths[lib]) :\n",
              "        new Promise(function(resolve, reject) {\n",
              "          var s = document.createElement('script');\n",
              "          document.getElementsByTagName(\"head\")[0].appendChild(s);\n",
              "          s.async = true;\n",
              "          s.onload = () => {\n",
              "            VEGA_DEBUG[key] = version;\n",
              "            return resolve(paths[lib]);\n",
              "          };\n",
              "          s.onerror = () => reject(`Error loading script: ${paths[lib]}`);\n",
              "          s.src = paths[lib];\n",
              "        });\n",
              "    }\n",
              "\n",
              "    function showError(err) {\n",
              "      outputDiv.innerHTML = `<div class=\"error\" style=\"color:red;\">${err}</div>`;\n",
              "      throw err;\n",
              "    }\n",
              "\n",
              "    function displayChart(vegaEmbed) {\n",
              "      vegaEmbed(outputDiv, spec, embedOpt)\n",
              "        .catch(err => showError(`Javascript Error: ${err.message}<br>This usually means there's a typo in your chart specification. See the javascript console for the full traceback.`));\n",
              "    }\n",
              "\n",
              "    if(typeof define === \"function\" && define.amd) {\n",
              "      requirejs.config({paths});\n",
              "      require([\"vega-embed\"], displayChart, err => showError(`Error loading script: ${err.message}`));\n",
              "    } else {\n",
              "      maybeLoadScript(\"vega\", \"5\")\n",
              "        .then(() => maybeLoadScript(\"vega-lite\", \"4.17.0\"))\n",
              "        .then(() => maybeLoadScript(\"vega-embed\", \"6\"))\n",
              "        .catch(showError)\n",
              "        .then(() => displayChart(vegaEmbed));\n",
              "    }\n",
              "  })({\"config\": {\"view\": {\"continuousWidth\": 400, \"continuousHeight\": 300}}, \"data\": {\"name\": \"data-f24871b7da3d5d9f7a72641ea2336b20\"}, \"mark\": \"line\", \"encoding\": {\"x\": {\"field\": \"threshold values\", \"type\": \"quantitative\"}, \"y\": {\"field\": \"times to compute Multistage\", \"type\": \"quantitative\"}}, \"$schema\": \"https://vega.github.io/schema/vega-lite/v4.17.0.json\", \"datasets\": {\"data-f24871b7da3d5d9f7a72641ea2336b20\": [{\"threshold values\": 1000, \"times to compute Multistage\": 438.3035171031952}, {\"threshold values\": 3000, \"times to compute Multistage\": 393.1008069515228}, {\"threshold values\": 5000, \"times to compute Multistage\": 392.860511302948}, {\"threshold values\": 7000, \"times to compute Multistage\": 389.99437046051025}]}}, {\"mode\": \"vega-lite\"});\n",
              "</script>"
            ],
            "text/plain": [
              "alt.Chart(...)"
            ]
          },
          "metadata": {},
          "execution_count": 33
        }
      ]
    },
    {
      "cell_type": "markdown",
      "source": [
        "# MULTIHASH ANALYSIS"
      ],
      "metadata": {
        "id": "il4nByJC-0p1"
      }
    },
    {
      "cell_type": "code",
      "execution_count": null,
      "metadata": {
        "id": "i20PtT1E0HMZ"
      },
      "outputs": [],
      "source": [
        "def MULTI_HASH(basket_file, threshold, HASH_TABLE_SIZEs):\n",
        "  singleton = basket_file.flatMap(list).map(lambda item: (item,1)).reduceByKey(lambda a,b: a+b)\n",
        "  hash_table_1 = np.zeros(HASH_TABLE_SIZEs, dtype=int)\n",
        "  hash_table_2 = np.zeros(HASH_TABLE_SIZEs, dtype=int)\n",
        "\n",
        "  def hashing_1(pair_to_hash):\n",
        "    return int(abs(hash(frozenset(pair_to_hash))) % HASH_TABLE_SIZEs)\n",
        "\n",
        "  def hashing_2(pair_to_hash):\n",
        "    return int((abs(hash(frozenset(pair_to_hash)))*3 /5 +9 *2 )% HASH_TABLE_SIZEs)  #just create another hash function\n",
        "\n",
        "  hashtable_rdd_1 = basket_file.map(lambda basket: [(hashing_1(pair), 1) for pair in list(combinations(basket, 2))]).flatMap(lambda x: x).cache()\\\n",
        "                            .reduceByKey(lambda a,b: a+b)\n",
        "\n",
        "  hashtable_rdd_2 = basket_file.map(lambda basket: [(hashing_2(pair), 1) for pair in list(combinations(basket, 2))]).flatMap(lambda x: x).cache()\\\n",
        "                            .reduceByKey(lambda a,b: a+b)\n",
        "\n",
        "  hashtable_list_1 = list(hashtable_rdd_1.map(lambda x: x).toLocalIterator())\n",
        "\n",
        "  for pair in hashtable_list_1:\n",
        "    hash_table_1[pair[0]] = pair[1]\n",
        "\n",
        "  bitmap_freq_1 = [hash_table_1[i]>=threshold for i in range(HASH_TABLE_SIZEs)] #bitmap_freq_1 from hash_table_1 (obtained from hashtable_rdd_1)\n",
        "\n",
        "\n",
        "  hashtable_list_2 = list(hashtable_rdd_2.map(lambda x: x).toLocalIterator())\n",
        "\n",
        "  for pair in hashtable_list_2:\n",
        "    hash_table_2[pair[0]] = pair[1]\n",
        "\n",
        "  bitmap_freq_2 = [hash_table_2[i]>=threshold for i in range(HASH_TABLE_SIZEs)] #bitmap_freq_2 from hash_table_2 (obtained from hashtable_rdd_2)\n",
        "\n",
        "  freq_singleton = singleton.filter(lambda x: x[1]>=threshold) \n",
        "  pairs=list(combinations(freq_singleton.map(lambda x: x[0]).toLocalIterator(),2)) #pairs of freq singletons\n",
        "  #CONVERT PAIRS INTO RDD\n",
        "  pairs_rdd = spark.sparkContext.parallelize(pairs)\n",
        "  #candidate pairs = pairs of freq singleton and the pair is freq in both the hash_tables\n",
        "\n",
        "  candidate_pairs = pairs_rdd.filter(lambda x : bitmap_freq_1[hashing_1(x)] == True)\n",
        "  candidate_pairs_2 = candidate_pairs.filter(lambda x : bitmap_freq_2[hashing_2(x)] == True)\n",
        "\n",
        "  candidate_pairs_list = list(candidate_pairs_2.map(lambda x: x).toLocalIterator()) #prima qua avevo messo pairs_rdd ma è sbagliato, perchè così è uguale ad Apriori\n",
        "  flatted_couples = basket_file.map(lambda x: [(pair,1) for pair in candidate_pairs_list if set(pair).\\\n",
        "                                             issubset(set(x))]).flatMap(lambda x: x).cache()\n",
        "\n",
        "  reduced_elements = flatted_couples.reduceByKey(lambda a, b: a + b)\n",
        "  freq_pairs = reduced_elements.filter(lambda x : x[1] >= threshold).cache()\n",
        "\n",
        "  return freq_pairs\n",
        "\n",
        "#MULTI_HASH(basket_file, threshold, 25000).collect()"
      ]
    },
    {
      "cell_type": "code",
      "source": [
        "num_pairs_MH, pairs_MH, times_MH=analysis(\"MULTI_HASH\",basket_file)"
      ],
      "metadata": {
        "colab": {
          "base_uri": "https://localhost:8080/"
        },
        "id": "WoGOlI0k_VGk",
        "outputId": "456ac985-cd68-4fe1-ead9-25e41fb4e4af"
      },
      "execution_count": null,
      "outputs": [
        {
          "output_type": "stream",
          "name": "stdout",
          "text": [
            "*\n",
            "*\n",
            "*\n",
            "*\n"
          ]
        }
      ]
    },
    {
      "cell_type": "markdown",
      "source": [
        "## TIME VS THRESHOLD"
      ],
      "metadata": {
        "id": "FSpO_AKN_czg"
      }
    },
    {
      "cell_type": "code",
      "source": [
        "x = [1000,3000,5000,7000]\n",
        "y = times_MH\n",
        "source = pd.DataFrame({\n",
        "  'threshold values': x,\n",
        "  'times to compute Multihash': y\n",
        "})\n",
        "\n",
        "alt.Chart(source).mark_line().encode(\n",
        "    x='threshold values',\n",
        "    y='times to compute Multihash'\n",
        ")"
      ],
      "metadata": {
        "colab": {
          "base_uri": "https://localhost:8080/",
          "height": 368
        },
        "id": "4Yn0PvGv_hbV",
        "outputId": "71c08108-47ab-4697-d770-cce9469f96d2"
      },
      "execution_count": null,
      "outputs": [
        {
          "output_type": "execute_result",
          "data": {
            "text/html": [
              "\n",
              "<div id=\"altair-viz-aa992b732e1845e88f13df4540a9e198\"></div>\n",
              "<script type=\"text/javascript\">\n",
              "  var VEGA_DEBUG = (typeof VEGA_DEBUG == \"undefined\") ? {} : VEGA_DEBUG;\n",
              "  (function(spec, embedOpt){\n",
              "    let outputDiv = document.currentScript.previousElementSibling;\n",
              "    if (outputDiv.id !== \"altair-viz-aa992b732e1845e88f13df4540a9e198\") {\n",
              "      outputDiv = document.getElementById(\"altair-viz-aa992b732e1845e88f13df4540a9e198\");\n",
              "    }\n",
              "    const paths = {\n",
              "      \"vega\": \"https://cdn.jsdelivr.net/npm//vega@5?noext\",\n",
              "      \"vega-lib\": \"https://cdn.jsdelivr.net/npm//vega-lib?noext\",\n",
              "      \"vega-lite\": \"https://cdn.jsdelivr.net/npm//vega-lite@4.17.0?noext\",\n",
              "      \"vega-embed\": \"https://cdn.jsdelivr.net/npm//vega-embed@6?noext\",\n",
              "    };\n",
              "\n",
              "    function maybeLoadScript(lib, version) {\n",
              "      var key = `${lib.replace(\"-\", \"\")}_version`;\n",
              "      return (VEGA_DEBUG[key] == version) ?\n",
              "        Promise.resolve(paths[lib]) :\n",
              "        new Promise(function(resolve, reject) {\n",
              "          var s = document.createElement('script');\n",
              "          document.getElementsByTagName(\"head\")[0].appendChild(s);\n",
              "          s.async = true;\n",
              "          s.onload = () => {\n",
              "            VEGA_DEBUG[key] = version;\n",
              "            return resolve(paths[lib]);\n",
              "          };\n",
              "          s.onerror = () => reject(`Error loading script: ${paths[lib]}`);\n",
              "          s.src = paths[lib];\n",
              "        });\n",
              "    }\n",
              "\n",
              "    function showError(err) {\n",
              "      outputDiv.innerHTML = `<div class=\"error\" style=\"color:red;\">${err}</div>`;\n",
              "      throw err;\n",
              "    }\n",
              "\n",
              "    function displayChart(vegaEmbed) {\n",
              "      vegaEmbed(outputDiv, spec, embedOpt)\n",
              "        .catch(err => showError(`Javascript Error: ${err.message}<br>This usually means there's a typo in your chart specification. See the javascript console for the full traceback.`));\n",
              "    }\n",
              "\n",
              "    if(typeof define === \"function\" && define.amd) {\n",
              "      requirejs.config({paths});\n",
              "      require([\"vega-embed\"], displayChart, err => showError(`Error loading script: ${err.message}`));\n",
              "    } else {\n",
              "      maybeLoadScript(\"vega\", \"5\")\n",
              "        .then(() => maybeLoadScript(\"vega-lite\", \"4.17.0\"))\n",
              "        .then(() => maybeLoadScript(\"vega-embed\", \"6\"))\n",
              "        .catch(showError)\n",
              "        .then(() => displayChart(vegaEmbed));\n",
              "    }\n",
              "  })({\"config\": {\"view\": {\"continuousWidth\": 400, \"continuousHeight\": 300}}, \"data\": {\"name\": \"data-34cc6bfae549f18aacd9968e77d2009c\"}, \"mark\": \"line\", \"encoding\": {\"x\": {\"field\": \"threshold values\", \"type\": \"quantitative\"}, \"y\": {\"field\": \"times to compute Multihash\", \"type\": \"quantitative\"}}, \"$schema\": \"https://vega.github.io/schema/vega-lite/v4.17.0.json\", \"datasets\": {\"data-34cc6bfae549f18aacd9968e77d2009c\": [{\"threshold values\": 1000, \"times to compute Multihash\": 413.8691210746765}, {\"threshold values\": 3000, \"times to compute Multihash\": 393.5276188850403}, {\"threshold values\": 5000, \"times to compute Multihash\": 389.5672194957733}, {\"threshold values\": 7000, \"times to compute Multihash\": 391.2301666736603}]}}, {\"mode\": \"vega-lite\"});\n",
              "</script>"
            ],
            "text/plain": [
              "alt.Chart(...)"
            ]
          },
          "metadata": {},
          "execution_count": 37
        }
      ]
    },
    {
      "cell_type": "markdown",
      "source": [
        "## SON ANALYSIS"
      ],
      "metadata": {
        "id": "2m0RbMG__SlT"
      }
    },
    {
      "cell_type": "code",
      "execution_count": null,
      "metadata": {
        "id": "0JGWxLIp09Ve"
      },
      "outputs": [],
      "source": [
        "def SON(basket_file, threshold, NUMBER_OF_CHUNKS=2):\n",
        "  num_baskets = basket_file.count()\n",
        "  chunks = basket_file.repartition(NUMBER_OF_CHUNKS).glom().collect() \n",
        "  SIZE_CHUNK = num_baskets/NUMBER_OF_CHUNKS\n",
        "  all_pairs = spark.sparkContext.parallelize([]) #empty RDD\n",
        "  scaled_threshold = 0.9 * (SIZE_CHUNK/num_baskets) * threshold\n",
        "\n",
        "  for chunk in chunks:\n",
        "    rdd_chunk = spark.sparkContext.parallelize(chunk) #rdd_chun contain thecurrent chunk\n",
        "    freq_pairs = Apriori(rdd_chunk, threshold=scaled_threshold)\n",
        "    all_pairs = all_pairs.union(freq_pairs) \n",
        "    \n",
        "  #all pairs at the end of the for will contain the results of Apriori run on the two chunks\n",
        "\n",
        "  all_pairs = all_pairs.map(lambda x : x[0]).distinct()  #elimination of duplicates (from (a,b),(a,b) to (a,b))\n",
        "  candidate_pairs_list = list(all_pairs.map(lambda x: x).toLocalIterator()) #convert to list\n",
        "\n",
        "\n",
        "  # It is possible that Apriori output from a chunk a frequent pair (\"Hello\",\"Computer) and Apriori output (\"Hello\",\"Computer) for another chunk.\n",
        "  #We need to delete also the duplicates of this from.\n",
        "\n",
        "  candidate_pairs = candidate_pairs_list\n",
        "\n",
        "  for i, pair_1 in enumerate(candidate_pairs_list):\n",
        "    for j, pair_2 in enumerate(candidate_pairs_list):\n",
        "      if (i!= j and frozenset(pair_1) == frozenset(pair_2)): # I got something like (a,b) (b,a) but I'm intrested only in one of them.\n",
        "        candidate_pairs.remove(pair_2) #remove pair_2 from list\n",
        "\n",
        "  final_rdd = spark.sparkContext.parallelize([]) #empty RDD\n",
        "\n",
        "  for chunk in chunks:\n",
        "    rdd_chunk = spark.sparkContext.parallelize(chunk)\n",
        "    flatted_couples_chunk = rdd_chunk.map(lambda x: [(pair,1) for pair in candidate_pairs if set(pair).\\\n",
        "                                              issubset(set(x))]).flatMap(lambda x: x).cache()\n",
        "    final_rdd = final_rdd.union(flatted_couples_chunk)\n",
        "\n",
        "\n",
        "  reduced_elements = final_rdd.reduceByKey(lambda a, b: a + b)\n",
        "  freq_pairs = reduced_elements.filter(lambda x : x[1] >= threshold).cache() \n",
        "  return freq_pairs\n",
        "\n",
        "\n",
        "#SON(basket_file, threshold, 2).collect()"
      ]
    },
    {
      "cell_type": "code",
      "source": [
        "num_pairs_S, pairs_S, times_S=analysis(\"SON\",basket_file)"
      ],
      "metadata": {
        "colab": {
          "base_uri": "https://localhost:8080/"
        },
        "id": "WYdg4n02_qBm",
        "outputId": "3884143d-78d8-4c71-9993-2303cade2721"
      },
      "execution_count": null,
      "outputs": [
        {
          "output_type": "stream",
          "name": "stdout",
          "text": [
            "*\n",
            "*\n",
            "*\n",
            "*\n"
          ]
        }
      ]
    },
    {
      "cell_type": "markdown",
      "source": [
        "## TIME VS THRESHOLD"
      ],
      "metadata": {
        "id": "qNAZ0ohu_xl0"
      }
    },
    {
      "cell_type": "code",
      "source": [
        "x = [1000,3000,5000,7000]\n",
        "y = times_S\n",
        "source = pd.DataFrame({\n",
        "  'threshold values': x,\n",
        "  'times to compute SON': y\n",
        "})\n",
        "\n",
        "alt.Chart(source).mark_line().encode(\n",
        "    x='threshold values',\n",
        "    y='times to compute SON'\n",
        ")"
      ],
      "metadata": {
        "colab": {
          "base_uri": "https://localhost:8080/",
          "height": 368
        },
        "id": "k3a340Mv_0dl",
        "outputId": "b6184504-3ad2-490f-b602-6ebc6c74f0d8"
      },
      "execution_count": null,
      "outputs": [
        {
          "output_type": "execute_result",
          "data": {
            "text/html": [
              "\n",
              "<div id=\"altair-viz-4c0cbaa31f914c4f8199eab9de55dd71\"></div>\n",
              "<script type=\"text/javascript\">\n",
              "  var VEGA_DEBUG = (typeof VEGA_DEBUG == \"undefined\") ? {} : VEGA_DEBUG;\n",
              "  (function(spec, embedOpt){\n",
              "    let outputDiv = document.currentScript.previousElementSibling;\n",
              "    if (outputDiv.id !== \"altair-viz-4c0cbaa31f914c4f8199eab9de55dd71\") {\n",
              "      outputDiv = document.getElementById(\"altair-viz-4c0cbaa31f914c4f8199eab9de55dd71\");\n",
              "    }\n",
              "    const paths = {\n",
              "      \"vega\": \"https://cdn.jsdelivr.net/npm//vega@5?noext\",\n",
              "      \"vega-lib\": \"https://cdn.jsdelivr.net/npm//vega-lib?noext\",\n",
              "      \"vega-lite\": \"https://cdn.jsdelivr.net/npm//vega-lite@4.17.0?noext\",\n",
              "      \"vega-embed\": \"https://cdn.jsdelivr.net/npm//vega-embed@6?noext\",\n",
              "    };\n",
              "\n",
              "    function maybeLoadScript(lib, version) {\n",
              "      var key = `${lib.replace(\"-\", \"\")}_version`;\n",
              "      return (VEGA_DEBUG[key] == version) ?\n",
              "        Promise.resolve(paths[lib]) :\n",
              "        new Promise(function(resolve, reject) {\n",
              "          var s = document.createElement('script');\n",
              "          document.getElementsByTagName(\"head\")[0].appendChild(s);\n",
              "          s.async = true;\n",
              "          s.onload = () => {\n",
              "            VEGA_DEBUG[key] = version;\n",
              "            return resolve(paths[lib]);\n",
              "          };\n",
              "          s.onerror = () => reject(`Error loading script: ${paths[lib]}`);\n",
              "          s.src = paths[lib];\n",
              "        });\n",
              "    }\n",
              "\n",
              "    function showError(err) {\n",
              "      outputDiv.innerHTML = `<div class=\"error\" style=\"color:red;\">${err}</div>`;\n",
              "      throw err;\n",
              "    }\n",
              "\n",
              "    function displayChart(vegaEmbed) {\n",
              "      vegaEmbed(outputDiv, spec, embedOpt)\n",
              "        .catch(err => showError(`Javascript Error: ${err.message}<br>This usually means there's a typo in your chart specification. See the javascript console for the full traceback.`));\n",
              "    }\n",
              "\n",
              "    if(typeof define === \"function\" && define.amd) {\n",
              "      requirejs.config({paths});\n",
              "      require([\"vega-embed\"], displayChart, err => showError(`Error loading script: ${err.message}`));\n",
              "    } else {\n",
              "      maybeLoadScript(\"vega\", \"5\")\n",
              "        .then(() => maybeLoadScript(\"vega-lite\", \"4.17.0\"))\n",
              "        .then(() => maybeLoadScript(\"vega-embed\", \"6\"))\n",
              "        .catch(showError)\n",
              "        .then(() => displayChart(vegaEmbed));\n",
              "    }\n",
              "  })({\"config\": {\"view\": {\"continuousWidth\": 400, \"continuousHeight\": 300}}, \"data\": {\"name\": \"data-e1f7ed57dfb724d0d219ab8ce80f35bd\"}, \"mark\": \"line\", \"encoding\": {\"x\": {\"field\": \"threshold values\", \"type\": \"quantitative\"}, \"y\": {\"field\": \"times to compute SON\", \"type\": \"quantitative\"}}, \"$schema\": \"https://vega.github.io/schema/vega-lite/v4.17.0.json\", \"datasets\": {\"data-e1f7ed57dfb724d0d219ab8ce80f35bd\": [{\"threshold values\": 1000, \"times to compute SON\": 774.8917570114136}, {\"threshold values\": 3000, \"times to compute SON\": 287.79633927345276}, {\"threshold values\": 5000, \"times to compute SON\": 223.35284042358398}, {\"threshold values\": 7000, \"times to compute SON\": 212.3157660961151}]}}, {\"mode\": \"vega-lite\"});\n",
              "</script>"
            ],
            "text/plain": [
              "alt.Chart(...)"
            ]
          },
          "metadata": {},
          "execution_count": 42
        }
      ]
    },
    {
      "cell_type": "code",
      "source": [
        "times_list=[]\n",
        "for j in range(5):\n",
        "  print(j)\n",
        "  if j==0:\n",
        "    alg_list=times_A\n",
        "    algorithm=\"Apriori\"\n",
        "  if j==1:\n",
        "    alg_list=times_P\n",
        "    algorithm=\"PCY\"\n",
        "  if j==2:\n",
        "    alg_list=times_MS\n",
        "    algorithm=\"Multistage\"\n",
        "  if j==3:\n",
        "    alg_list=times_MH\n",
        "    algorithm=\"Multihash\"\n",
        "  if j==4:\n",
        "    alg_list=times_S\n",
        "    algorithm=\"SON\"\n",
        "  for i in range(4):\n",
        "    if i==0:\n",
        "      times_list.append([alg_list[i],algorithm,1000])\n",
        "    if i==1:\n",
        "      times_list.append([alg_list[i],algorithm,3000])\n",
        "    if i==2:\n",
        "      times_list.append([alg_list[i],algorithm,5000])\n",
        "    if i==3:\n",
        "      times_list.append([alg_list[i],algorithm,7000])\n",
        "\n",
        "\n",
        "times_df = pd.DataFrame(times_list, columns =['Time',\"Algorithm\", \"Threshold\"])\n",
        "times_df"
      ],
      "metadata": {
        "colab": {
          "base_uri": "https://localhost:8080/",
          "height": 767
        },
        "id": "53OzJcOyE2BS",
        "outputId": "3db6bb26-7cc4-4718-8b1a-00f21d20c526"
      },
      "execution_count": null,
      "outputs": [
        {
          "output_type": "stream",
          "name": "stdout",
          "text": [
            "0\n",
            "1\n",
            "2\n",
            "3\n",
            "4\n"
          ]
        },
        {
          "output_type": "execute_result",
          "data": {
            "text/plain": [
              "          Time   Algorithm  Threshold\n",
              "0   685.109855     Apriori       1000\n",
              "1   254.470016     Apriori       3000\n",
              "2   218.169046     Apriori       5000\n",
              "3   206.315217     Apriori       7000\n",
              "4   312.207750         PCY       1000\n",
              "5   294.465768         PCY       3000\n",
              "6   292.137995         PCY       5000\n",
              "7   291.276440         PCY       7000\n",
              "8   438.303517  Multistage       1000\n",
              "9   393.100807  Multistage       3000\n",
              "10  392.860511  Multistage       5000\n",
              "11  389.994370  Multistage       7000\n",
              "12  413.869121   Multihash       1000\n",
              "13  393.527619   Multihash       3000\n",
              "14  389.567219   Multihash       5000\n",
              "15  391.230167   Multihash       7000\n",
              "16  774.891757         SON       1000\n",
              "17  287.796339         SON       3000\n",
              "18  223.352840         SON       5000\n",
              "19  212.315766         SON       7000"
            ],
            "text/html": [
              "\n",
              "  <div id=\"df-88879c82-89f5-454b-8f23-cd9cd7f9aa50\">\n",
              "    <div class=\"colab-df-container\">\n",
              "      <div>\n",
              "<style scoped>\n",
              "    .dataframe tbody tr th:only-of-type {\n",
              "        vertical-align: middle;\n",
              "    }\n",
              "\n",
              "    .dataframe tbody tr th {\n",
              "        vertical-align: top;\n",
              "    }\n",
              "\n",
              "    .dataframe thead th {\n",
              "        text-align: right;\n",
              "    }\n",
              "</style>\n",
              "<table border=\"1\" class=\"dataframe\">\n",
              "  <thead>\n",
              "    <tr style=\"text-align: right;\">\n",
              "      <th></th>\n",
              "      <th>Time</th>\n",
              "      <th>Algorithm</th>\n",
              "      <th>Threshold</th>\n",
              "    </tr>\n",
              "  </thead>\n",
              "  <tbody>\n",
              "    <tr>\n",
              "      <th>0</th>\n",
              "      <td>685.109855</td>\n",
              "      <td>Apriori</td>\n",
              "      <td>1000</td>\n",
              "    </tr>\n",
              "    <tr>\n",
              "      <th>1</th>\n",
              "      <td>254.470016</td>\n",
              "      <td>Apriori</td>\n",
              "      <td>3000</td>\n",
              "    </tr>\n",
              "    <tr>\n",
              "      <th>2</th>\n",
              "      <td>218.169046</td>\n",
              "      <td>Apriori</td>\n",
              "      <td>5000</td>\n",
              "    </tr>\n",
              "    <tr>\n",
              "      <th>3</th>\n",
              "      <td>206.315217</td>\n",
              "      <td>Apriori</td>\n",
              "      <td>7000</td>\n",
              "    </tr>\n",
              "    <tr>\n",
              "      <th>4</th>\n",
              "      <td>312.207750</td>\n",
              "      <td>PCY</td>\n",
              "      <td>1000</td>\n",
              "    </tr>\n",
              "    <tr>\n",
              "      <th>5</th>\n",
              "      <td>294.465768</td>\n",
              "      <td>PCY</td>\n",
              "      <td>3000</td>\n",
              "    </tr>\n",
              "    <tr>\n",
              "      <th>6</th>\n",
              "      <td>292.137995</td>\n",
              "      <td>PCY</td>\n",
              "      <td>5000</td>\n",
              "    </tr>\n",
              "    <tr>\n",
              "      <th>7</th>\n",
              "      <td>291.276440</td>\n",
              "      <td>PCY</td>\n",
              "      <td>7000</td>\n",
              "    </tr>\n",
              "    <tr>\n",
              "      <th>8</th>\n",
              "      <td>438.303517</td>\n",
              "      <td>Multistage</td>\n",
              "      <td>1000</td>\n",
              "    </tr>\n",
              "    <tr>\n",
              "      <th>9</th>\n",
              "      <td>393.100807</td>\n",
              "      <td>Multistage</td>\n",
              "      <td>3000</td>\n",
              "    </tr>\n",
              "    <tr>\n",
              "      <th>10</th>\n",
              "      <td>392.860511</td>\n",
              "      <td>Multistage</td>\n",
              "      <td>5000</td>\n",
              "    </tr>\n",
              "    <tr>\n",
              "      <th>11</th>\n",
              "      <td>389.994370</td>\n",
              "      <td>Multistage</td>\n",
              "      <td>7000</td>\n",
              "    </tr>\n",
              "    <tr>\n",
              "      <th>12</th>\n",
              "      <td>413.869121</td>\n",
              "      <td>Multihash</td>\n",
              "      <td>1000</td>\n",
              "    </tr>\n",
              "    <tr>\n",
              "      <th>13</th>\n",
              "      <td>393.527619</td>\n",
              "      <td>Multihash</td>\n",
              "      <td>3000</td>\n",
              "    </tr>\n",
              "    <tr>\n",
              "      <th>14</th>\n",
              "      <td>389.567219</td>\n",
              "      <td>Multihash</td>\n",
              "      <td>5000</td>\n",
              "    </tr>\n",
              "    <tr>\n",
              "      <th>15</th>\n",
              "      <td>391.230167</td>\n",
              "      <td>Multihash</td>\n",
              "      <td>7000</td>\n",
              "    </tr>\n",
              "    <tr>\n",
              "      <th>16</th>\n",
              "      <td>774.891757</td>\n",
              "      <td>SON</td>\n",
              "      <td>1000</td>\n",
              "    </tr>\n",
              "    <tr>\n",
              "      <th>17</th>\n",
              "      <td>287.796339</td>\n",
              "      <td>SON</td>\n",
              "      <td>3000</td>\n",
              "    </tr>\n",
              "    <tr>\n",
              "      <th>18</th>\n",
              "      <td>223.352840</td>\n",
              "      <td>SON</td>\n",
              "      <td>5000</td>\n",
              "    </tr>\n",
              "    <tr>\n",
              "      <th>19</th>\n",
              "      <td>212.315766</td>\n",
              "      <td>SON</td>\n",
              "      <td>7000</td>\n",
              "    </tr>\n",
              "  </tbody>\n",
              "</table>\n",
              "</div>\n",
              "      <button class=\"colab-df-convert\" onclick=\"convertToInteractive('df-88879c82-89f5-454b-8f23-cd9cd7f9aa50')\"\n",
              "              title=\"Convert this dataframe to an interactive table.\"\n",
              "              style=\"display:none;\">\n",
              "        \n",
              "  <svg xmlns=\"http://www.w3.org/2000/svg\" height=\"24px\"viewBox=\"0 0 24 24\"\n",
              "       width=\"24px\">\n",
              "    <path d=\"M0 0h24v24H0V0z\" fill=\"none\"/>\n",
              "    <path d=\"M18.56 5.44l.94 2.06.94-2.06 2.06-.94-2.06-.94-.94-2.06-.94 2.06-2.06.94zm-11 1L8.5 8.5l.94-2.06 2.06-.94-2.06-.94L8.5 2.5l-.94 2.06-2.06.94zm10 10l.94 2.06.94-2.06 2.06-.94-2.06-.94-.94-2.06-.94 2.06-2.06.94z\"/><path d=\"M17.41 7.96l-1.37-1.37c-.4-.4-.92-.59-1.43-.59-.52 0-1.04.2-1.43.59L10.3 9.45l-7.72 7.72c-.78.78-.78 2.05 0 2.83L4 21.41c.39.39.9.59 1.41.59.51 0 1.02-.2 1.41-.59l7.78-7.78 2.81-2.81c.8-.78.8-2.07 0-2.86zM5.41 20L4 18.59l7.72-7.72 1.47 1.35L5.41 20z\"/>\n",
              "  </svg>\n",
              "      </button>\n",
              "      \n",
              "  <style>\n",
              "    .colab-df-container {\n",
              "      display:flex;\n",
              "      flex-wrap:wrap;\n",
              "      gap: 12px;\n",
              "    }\n",
              "\n",
              "    .colab-df-convert {\n",
              "      background-color: #E8F0FE;\n",
              "      border: none;\n",
              "      border-radius: 50%;\n",
              "      cursor: pointer;\n",
              "      display: none;\n",
              "      fill: #1967D2;\n",
              "      height: 32px;\n",
              "      padding: 0 0 0 0;\n",
              "      width: 32px;\n",
              "    }\n",
              "\n",
              "    .colab-df-convert:hover {\n",
              "      background-color: #E2EBFA;\n",
              "      box-shadow: 0px 1px 2px rgba(60, 64, 67, 0.3), 0px 1px 3px 1px rgba(60, 64, 67, 0.15);\n",
              "      fill: #174EA6;\n",
              "    }\n",
              "\n",
              "    [theme=dark] .colab-df-convert {\n",
              "      background-color: #3B4455;\n",
              "      fill: #D2E3FC;\n",
              "    }\n",
              "\n",
              "    [theme=dark] .colab-df-convert:hover {\n",
              "      background-color: #434B5C;\n",
              "      box-shadow: 0px 1px 3px 1px rgba(0, 0, 0, 0.15);\n",
              "      filter: drop-shadow(0px 1px 2px rgba(0, 0, 0, 0.3));\n",
              "      fill: #FFFFFF;\n",
              "    }\n",
              "  </style>\n",
              "\n",
              "      <script>\n",
              "        const buttonEl =\n",
              "          document.querySelector('#df-88879c82-89f5-454b-8f23-cd9cd7f9aa50 button.colab-df-convert');\n",
              "        buttonEl.style.display =\n",
              "          google.colab.kernel.accessAllowed ? 'block' : 'none';\n",
              "\n",
              "        async function convertToInteractive(key) {\n",
              "          const element = document.querySelector('#df-88879c82-89f5-454b-8f23-cd9cd7f9aa50');\n",
              "          const dataTable =\n",
              "            await google.colab.kernel.invokeFunction('convertToInteractive',\n",
              "                                                     [key], {});\n",
              "          if (!dataTable) return;\n",
              "\n",
              "          const docLinkHtml = 'Like what you see? Visit the ' +\n",
              "            '<a target=\"_blank\" href=https://colab.research.google.com/notebooks/data_table.ipynb>data table notebook</a>'\n",
              "            + ' to learn more about interactive tables.';\n",
              "          element.innerHTML = '';\n",
              "          dataTable['output_type'] = 'display_data';\n",
              "          await google.colab.output.renderOutput(dataTable, element);\n",
              "          const docLink = document.createElement('div');\n",
              "          docLink.innerHTML = docLinkHtml;\n",
              "          element.appendChild(docLink);\n",
              "        }\n",
              "      </script>\n",
              "    </div>\n",
              "  </div>\n",
              "  "
            ]
          },
          "metadata": {},
          "execution_count": 59
        }
      ]
    },
    {
      "cell_type": "code",
      "source": [
        "chart1 = alt.Chart(times_df).mark_line().encode(\n",
        "    x='Threshold:Q',\n",
        "    y='Time:Q',\n",
        "    color='Algorithm:N'\n",
        ").properties(\n",
        "    height=300,\n",
        "    width=500\n",
        ")"
      ],
      "metadata": {
        "id": "GkRNpF_4IArR"
      },
      "execution_count": 68,
      "outputs": []
    },
    {
      "cell_type": "code",
      "source": [
        "chart1"
      ],
      "metadata": {
        "colab": {
          "base_uri": "https://localhost:8080/",
          "height": 368
        },
        "id": "RFazrsBKArTp",
        "outputId": "862e0883-174a-4d05-d24a-a57eb15fbfc4"
      },
      "execution_count": 69,
      "outputs": [
        {
          "output_type": "execute_result",
          "data": {
            "text/html": [
              "\n",
              "<div id=\"altair-viz-2c0a1b7b0bb544b3a739abe1eba8c0ea\"></div>\n",
              "<script type=\"text/javascript\">\n",
              "  var VEGA_DEBUG = (typeof VEGA_DEBUG == \"undefined\") ? {} : VEGA_DEBUG;\n",
              "  (function(spec, embedOpt){\n",
              "    let outputDiv = document.currentScript.previousElementSibling;\n",
              "    if (outputDiv.id !== \"altair-viz-2c0a1b7b0bb544b3a739abe1eba8c0ea\") {\n",
              "      outputDiv = document.getElementById(\"altair-viz-2c0a1b7b0bb544b3a739abe1eba8c0ea\");\n",
              "    }\n",
              "    const paths = {\n",
              "      \"vega\": \"https://cdn.jsdelivr.net/npm//vega@5?noext\",\n",
              "      \"vega-lib\": \"https://cdn.jsdelivr.net/npm//vega-lib?noext\",\n",
              "      \"vega-lite\": \"https://cdn.jsdelivr.net/npm//vega-lite@4.17.0?noext\",\n",
              "      \"vega-embed\": \"https://cdn.jsdelivr.net/npm//vega-embed@6?noext\",\n",
              "    };\n",
              "\n",
              "    function maybeLoadScript(lib, version) {\n",
              "      var key = `${lib.replace(\"-\", \"\")}_version`;\n",
              "      return (VEGA_DEBUG[key] == version) ?\n",
              "        Promise.resolve(paths[lib]) :\n",
              "        new Promise(function(resolve, reject) {\n",
              "          var s = document.createElement('script');\n",
              "          document.getElementsByTagName(\"head\")[0].appendChild(s);\n",
              "          s.async = true;\n",
              "          s.onload = () => {\n",
              "            VEGA_DEBUG[key] = version;\n",
              "            return resolve(paths[lib]);\n",
              "          };\n",
              "          s.onerror = () => reject(`Error loading script: ${paths[lib]}`);\n",
              "          s.src = paths[lib];\n",
              "        });\n",
              "    }\n",
              "\n",
              "    function showError(err) {\n",
              "      outputDiv.innerHTML = `<div class=\"error\" style=\"color:red;\">${err}</div>`;\n",
              "      throw err;\n",
              "    }\n",
              "\n",
              "    function displayChart(vegaEmbed) {\n",
              "      vegaEmbed(outputDiv, spec, embedOpt)\n",
              "        .catch(err => showError(`Javascript Error: ${err.message}<br>This usually means there's a typo in your chart specification. See the javascript console for the full traceback.`));\n",
              "    }\n",
              "\n",
              "    if(typeof define === \"function\" && define.amd) {\n",
              "      requirejs.config({paths});\n",
              "      require([\"vega-embed\"], displayChart, err => showError(`Error loading script: ${err.message}`));\n",
              "    } else {\n",
              "      maybeLoadScript(\"vega\", \"5\")\n",
              "        .then(() => maybeLoadScript(\"vega-lite\", \"4.17.0\"))\n",
              "        .then(() => maybeLoadScript(\"vega-embed\", \"6\"))\n",
              "        .catch(showError)\n",
              "        .then(() => displayChart(vegaEmbed));\n",
              "    }\n",
              "  })({\"config\": {\"view\": {\"continuousWidth\": 400, \"continuousHeight\": 300}}, \"data\": {\"name\": \"data-8e9f7e6c8b0ec650863c798f6f73bd3c\"}, \"mark\": \"line\", \"encoding\": {\"color\": {\"field\": \"Algorithm\", \"type\": \"nominal\"}, \"x\": {\"field\": \"Threshold\", \"type\": \"quantitative\"}, \"y\": {\"field\": \"Time\", \"type\": \"quantitative\"}}, \"height\": 300, \"width\": 500, \"$schema\": \"https://vega.github.io/schema/vega-lite/v4.17.0.json\", \"datasets\": {\"data-8e9f7e6c8b0ec650863c798f6f73bd3c\": [{\"Time\": 685.1098549365997, \"Algorithm\": \"Apriori\", \"Threshold\": 1000}, {\"Time\": 254.4700162410736, \"Algorithm\": \"Apriori\", \"Threshold\": 3000}, {\"Time\": 218.16904616355896, \"Algorithm\": \"Apriori\", \"Threshold\": 5000}, {\"Time\": 206.31521677970886, \"Algorithm\": \"Apriori\", \"Threshold\": 7000}, {\"Time\": 312.207750082016, \"Algorithm\": \"PCY\", \"Threshold\": 1000}, {\"Time\": 294.46576833724976, \"Algorithm\": \"PCY\", \"Threshold\": 3000}, {\"Time\": 292.13799500465393, \"Algorithm\": \"PCY\", \"Threshold\": 5000}, {\"Time\": 291.2764399051666, \"Algorithm\": \"PCY\", \"Threshold\": 7000}, {\"Time\": 438.3035171031952, \"Algorithm\": \"Multistage\", \"Threshold\": 1000}, {\"Time\": 393.1008069515228, \"Algorithm\": \"Multistage\", \"Threshold\": 3000}, {\"Time\": 392.860511302948, \"Algorithm\": \"Multistage\", \"Threshold\": 5000}, {\"Time\": 389.99437046051025, \"Algorithm\": \"Multistage\", \"Threshold\": 7000}, {\"Time\": 413.8691210746765, \"Algorithm\": \"Multihash\", \"Threshold\": 1000}, {\"Time\": 393.5276188850403, \"Algorithm\": \"Multihash\", \"Threshold\": 3000}, {\"Time\": 389.5672194957733, \"Algorithm\": \"Multihash\", \"Threshold\": 5000}, {\"Time\": 391.2301666736603, \"Algorithm\": \"Multihash\", \"Threshold\": 7000}, {\"Time\": 774.8917570114136, \"Algorithm\": \"SON\", \"Threshold\": 1000}, {\"Time\": 287.79633927345276, \"Algorithm\": \"SON\", \"Threshold\": 3000}, {\"Time\": 223.35284042358398, \"Algorithm\": \"SON\", \"Threshold\": 5000}, {\"Time\": 212.3157660961151, \"Algorithm\": \"SON\", \"Threshold\": 7000}]}}, {\"mode\": \"vega-lite\"});\n",
              "</script>"
            ],
            "text/plain": [
              "alt.Chart(...)"
            ]
          },
          "metadata": {},
          "execution_count": 69
        }
      ]
    },
    {
      "cell_type": "markdown",
      "source": [
        "## ALGORITHMS BEHAVIOUR WITH DIFFERENT BASKET FILE SIZE AND DIFFERENT THRESHOLD"
      ],
      "metadata": {
        "id": "Yx2EKmMaYJTK"
      }
    },
    {
      "cell_type": "code",
      "source": [
        "times_Apriori=[]\n",
        "times_PCY=[]\n",
        "times_Multistage=[]\n",
        "times_Multihash=[]\n",
        "times_SON=[]\n",
        "\n",
        "for size in [63656,127300,190850,254626]: #approx 1/4, 1/2, 3/4 and 4/4 of the basket file\n",
        "  b_file= basket_file.take(size)\n",
        "  b_file= spark.sparkContext.parallelize(b_file)\n",
        "  _,_, time_Apriori=analysis(\"Apriori\",b_file)\n",
        "  _,_, time_PCY=analysis(\"PCY\",b_file)\n",
        "  _,_, time_Multistage=analysis(\"Multistage\",b_file)\n",
        "  _,_, time_Multihash=analysis(\"MULTI_HASH\",b_file)\n",
        "  _,_, time_SON=analysis(\"SON\",b_file)\n",
        "\n",
        "  times_Apriori.append([time_Apriori,\"APRIORI\",size])\n",
        "  times_PCY.append([time_PCY,\"PCY\",size])\n",
        "  times_Multistage.append([time_Multistage,\"Multistage\",size])\n",
        "  times_Multihash.append([time_Multihash,\"Multihash\",size])\n",
        "  times_SON.append([time_SON,\"SON\",size])\n"
      ],
      "metadata": {
        "colab": {
          "base_uri": "https://localhost:8080/"
        },
        "id": "0jqfA8SbIGnB",
        "outputId": "e38e91c6-7474-420c-fdff-e2afb0349f12"
      },
      "execution_count": 76,
      "outputs": [
        {
          "output_type": "stream",
          "name": "stdout",
          "text": [
            "*\n",
            "*\n",
            "*\n",
            "*\n",
            "*\n",
            "*\n",
            "*\n",
            "*\n",
            "*\n",
            "*\n",
            "*\n",
            "*\n",
            "*\n",
            "*\n",
            "*\n",
            "*\n",
            "*\n",
            "*\n",
            "*\n",
            "*\n",
            "*\n",
            "*\n",
            "*\n",
            "*\n",
            "*\n",
            "*\n",
            "*\n",
            "*\n",
            "*\n",
            "*\n",
            "*\n",
            "*\n",
            "*\n",
            "*\n",
            "*\n",
            "*\n",
            "*\n",
            "*\n",
            "*\n",
            "*\n",
            "*\n",
            "*\n",
            "*\n",
            "*\n",
            "*\n",
            "*\n",
            "*\n",
            "*\n",
            "*\n",
            "*\n",
            "*\n",
            "*\n",
            "*\n",
            "*\n",
            "*\n",
            "*\n",
            "*\n",
            "*\n",
            "*\n",
            "*\n",
            "*\n",
            "*\n",
            "*\n",
            "*\n",
            "*\n",
            "*\n",
            "*\n",
            "*\n",
            "*\n",
            "*\n",
            "*\n",
            "*\n",
            "*\n",
            "*\n",
            "*\n",
            "*\n",
            "*\n",
            "*\n",
            "*\n",
            "*\n"
          ]
        }
      ]
    },
    {
      "cell_type": "code",
      "source": [
        "times_Apriori[0] #basket file==63656"
      ],
      "metadata": {
        "colab": {
          "base_uri": "https://localhost:8080/"
        },
        "id": "TQ5vdg2dguwS",
        "outputId": "5f4b0e99-a281-41cd-ab48-072c103c80b8"
      },
      "execution_count": 95,
      "outputs": [
        {
          "output_type": "execute_result",
          "data": {
            "text/plain": [
              "[[17.4455406665802,\n",
              "  1.8744535446166992,\n",
              "  1.1922032833099365,\n",
              "  0.7046113014221191],\n",
              " 'APRIORI',\n",
              " 63656]"
            ]
          },
          "metadata": {},
          "execution_count": 95
        }
      ]
    },
    {
      "cell_type": "code",
      "source": [
        "def linearize_result (times_list_new,times_algorithm):\n",
        "  i=0\n",
        "  for x in times_algorithm: #cycle on the different basket sizes\n",
        "    i=0\n",
        "    for t in x[0]: #cycle on the different threshold\n",
        "      if i==0:\n",
        "        times_list_new.append([t,x[1],x[2],1000])   #[1000,3000,5000,7000]\n",
        "      if i==1:\n",
        "        times_list_new.append([t,x[1],x[2],3000])\n",
        "      if i==2:\n",
        "        times_list_new.append([t,x[1],x[2],5000])\n",
        "      if i==3:\n",
        "        times_list_new.append([t,x[1],x[2],7000])\n",
        "      i=i+1\n",
        "\n",
        "  return times_list_new"
      ],
      "metadata": {
        "id": "m4u5cPjUiQdp"
      },
      "execution_count": 93,
      "outputs": []
    },
    {
      "cell_type": "code",
      "source": [
        "times_list_new=[]\n",
        "times_list_new=linearize_result(times_list_new,times_Apriori)\n",
        "times_list_new=linearize_result(times_list_new,times_PCY)\n",
        "times_list_new=linearize_result(times_list_new,times_Multistage)\n",
        "times_list_new=linearize_result(times_list_new,times_Multihash)\n",
        "times_list_new=linearize_result(times_list_new,times_SON)\n",
        "final_df = pd.DataFrame(times_list_new, columns =['Time',\"Algorithm\", \"Basket_File_size\",\"Threshold\"])\n",
        "final_df[final_df[\"Basket_File_size\"]==254626\t]"
      ],
      "metadata": {
        "colab": {
          "base_uri": "https://localhost:8080/",
          "height": 676
        },
        "id": "F157VfEPilN5",
        "outputId": "790662ec-ba7a-472c-8632-279f035db95f"
      },
      "execution_count": 116,
      "outputs": [
        {
          "output_type": "execute_result",
          "data": {
            "text/plain": [
              "          Time   Algorithm  Basket_File_size  Threshold\n",
              "12  475.354250     APRIORI            254626       1000\n",
              "13   59.810960     APRIORI            254626       3000\n",
              "14   23.723752     APRIORI            254626       5000\n",
              "15   12.930308     APRIORI            254626       7000\n",
              "28   24.603335         PCY            254626       1000\n",
              "29    8.928853         PCY            254626       3000\n",
              "30    7.716676         PCY            254626       5000\n",
              "31    7.421139         PCY            254626       7000\n",
              "44   42.984615  Multistage            254626       1000\n",
              "45   12.283837  Multistage            254626       3000\n",
              "46    9.565623  Multistage            254626       5000\n",
              "47    8.840383  Multistage            254626       7000\n",
              "60   28.419622   Multihash            254626       1000\n",
              "61   13.807629   Multihash            254626       3000\n",
              "62   12.100408   Multihash            254626       5000\n",
              "63   11.856892   Multihash            254626       7000\n",
              "76  582.394125         SON            254626       1000\n",
              "77   93.054790         SON            254626       3000\n",
              "78   31.062628         SON            254626       5000\n",
              "79   20.923756         SON            254626       7000"
            ],
            "text/html": [
              "\n",
              "  <div id=\"df-edbc1d3b-776d-4e21-8c5e-a1290f7005c6\">\n",
              "    <div class=\"colab-df-container\">\n",
              "      <div>\n",
              "<style scoped>\n",
              "    .dataframe tbody tr th:only-of-type {\n",
              "        vertical-align: middle;\n",
              "    }\n",
              "\n",
              "    .dataframe tbody tr th {\n",
              "        vertical-align: top;\n",
              "    }\n",
              "\n",
              "    .dataframe thead th {\n",
              "        text-align: right;\n",
              "    }\n",
              "</style>\n",
              "<table border=\"1\" class=\"dataframe\">\n",
              "  <thead>\n",
              "    <tr style=\"text-align: right;\">\n",
              "      <th></th>\n",
              "      <th>Time</th>\n",
              "      <th>Algorithm</th>\n",
              "      <th>Basket_File_size</th>\n",
              "      <th>Threshold</th>\n",
              "    </tr>\n",
              "  </thead>\n",
              "  <tbody>\n",
              "    <tr>\n",
              "      <th>12</th>\n",
              "      <td>475.354250</td>\n",
              "      <td>APRIORI</td>\n",
              "      <td>254626</td>\n",
              "      <td>1000</td>\n",
              "    </tr>\n",
              "    <tr>\n",
              "      <th>13</th>\n",
              "      <td>59.810960</td>\n",
              "      <td>APRIORI</td>\n",
              "      <td>254626</td>\n",
              "      <td>3000</td>\n",
              "    </tr>\n",
              "    <tr>\n",
              "      <th>14</th>\n",
              "      <td>23.723752</td>\n",
              "      <td>APRIORI</td>\n",
              "      <td>254626</td>\n",
              "      <td>5000</td>\n",
              "    </tr>\n",
              "    <tr>\n",
              "      <th>15</th>\n",
              "      <td>12.930308</td>\n",
              "      <td>APRIORI</td>\n",
              "      <td>254626</td>\n",
              "      <td>7000</td>\n",
              "    </tr>\n",
              "    <tr>\n",
              "      <th>28</th>\n",
              "      <td>24.603335</td>\n",
              "      <td>PCY</td>\n",
              "      <td>254626</td>\n",
              "      <td>1000</td>\n",
              "    </tr>\n",
              "    <tr>\n",
              "      <th>29</th>\n",
              "      <td>8.928853</td>\n",
              "      <td>PCY</td>\n",
              "      <td>254626</td>\n",
              "      <td>3000</td>\n",
              "    </tr>\n",
              "    <tr>\n",
              "      <th>30</th>\n",
              "      <td>7.716676</td>\n",
              "      <td>PCY</td>\n",
              "      <td>254626</td>\n",
              "      <td>5000</td>\n",
              "    </tr>\n",
              "    <tr>\n",
              "      <th>31</th>\n",
              "      <td>7.421139</td>\n",
              "      <td>PCY</td>\n",
              "      <td>254626</td>\n",
              "      <td>7000</td>\n",
              "    </tr>\n",
              "    <tr>\n",
              "      <th>44</th>\n",
              "      <td>42.984615</td>\n",
              "      <td>Multistage</td>\n",
              "      <td>254626</td>\n",
              "      <td>1000</td>\n",
              "    </tr>\n",
              "    <tr>\n",
              "      <th>45</th>\n",
              "      <td>12.283837</td>\n",
              "      <td>Multistage</td>\n",
              "      <td>254626</td>\n",
              "      <td>3000</td>\n",
              "    </tr>\n",
              "    <tr>\n",
              "      <th>46</th>\n",
              "      <td>9.565623</td>\n",
              "      <td>Multistage</td>\n",
              "      <td>254626</td>\n",
              "      <td>5000</td>\n",
              "    </tr>\n",
              "    <tr>\n",
              "      <th>47</th>\n",
              "      <td>8.840383</td>\n",
              "      <td>Multistage</td>\n",
              "      <td>254626</td>\n",
              "      <td>7000</td>\n",
              "    </tr>\n",
              "    <tr>\n",
              "      <th>60</th>\n",
              "      <td>28.419622</td>\n",
              "      <td>Multihash</td>\n",
              "      <td>254626</td>\n",
              "      <td>1000</td>\n",
              "    </tr>\n",
              "    <tr>\n",
              "      <th>61</th>\n",
              "      <td>13.807629</td>\n",
              "      <td>Multihash</td>\n",
              "      <td>254626</td>\n",
              "      <td>3000</td>\n",
              "    </tr>\n",
              "    <tr>\n",
              "      <th>62</th>\n",
              "      <td>12.100408</td>\n",
              "      <td>Multihash</td>\n",
              "      <td>254626</td>\n",
              "      <td>5000</td>\n",
              "    </tr>\n",
              "    <tr>\n",
              "      <th>63</th>\n",
              "      <td>11.856892</td>\n",
              "      <td>Multihash</td>\n",
              "      <td>254626</td>\n",
              "      <td>7000</td>\n",
              "    </tr>\n",
              "    <tr>\n",
              "      <th>76</th>\n",
              "      <td>582.394125</td>\n",
              "      <td>SON</td>\n",
              "      <td>254626</td>\n",
              "      <td>1000</td>\n",
              "    </tr>\n",
              "    <tr>\n",
              "      <th>77</th>\n",
              "      <td>93.054790</td>\n",
              "      <td>SON</td>\n",
              "      <td>254626</td>\n",
              "      <td>3000</td>\n",
              "    </tr>\n",
              "    <tr>\n",
              "      <th>78</th>\n",
              "      <td>31.062628</td>\n",
              "      <td>SON</td>\n",
              "      <td>254626</td>\n",
              "      <td>5000</td>\n",
              "    </tr>\n",
              "    <tr>\n",
              "      <th>79</th>\n",
              "      <td>20.923756</td>\n",
              "      <td>SON</td>\n",
              "      <td>254626</td>\n",
              "      <td>7000</td>\n",
              "    </tr>\n",
              "  </tbody>\n",
              "</table>\n",
              "</div>\n",
              "      <button class=\"colab-df-convert\" onclick=\"convertToInteractive('df-edbc1d3b-776d-4e21-8c5e-a1290f7005c6')\"\n",
              "              title=\"Convert this dataframe to an interactive table.\"\n",
              "              style=\"display:none;\">\n",
              "        \n",
              "  <svg xmlns=\"http://www.w3.org/2000/svg\" height=\"24px\"viewBox=\"0 0 24 24\"\n",
              "       width=\"24px\">\n",
              "    <path d=\"M0 0h24v24H0V0z\" fill=\"none\"/>\n",
              "    <path d=\"M18.56 5.44l.94 2.06.94-2.06 2.06-.94-2.06-.94-.94-2.06-.94 2.06-2.06.94zm-11 1L8.5 8.5l.94-2.06 2.06-.94-2.06-.94L8.5 2.5l-.94 2.06-2.06.94zm10 10l.94 2.06.94-2.06 2.06-.94-2.06-.94-.94-2.06-.94 2.06-2.06.94z\"/><path d=\"M17.41 7.96l-1.37-1.37c-.4-.4-.92-.59-1.43-.59-.52 0-1.04.2-1.43.59L10.3 9.45l-7.72 7.72c-.78.78-.78 2.05 0 2.83L4 21.41c.39.39.9.59 1.41.59.51 0 1.02-.2 1.41-.59l7.78-7.78 2.81-2.81c.8-.78.8-2.07 0-2.86zM5.41 20L4 18.59l7.72-7.72 1.47 1.35L5.41 20z\"/>\n",
              "  </svg>\n",
              "      </button>\n",
              "      \n",
              "  <style>\n",
              "    .colab-df-container {\n",
              "      display:flex;\n",
              "      flex-wrap:wrap;\n",
              "      gap: 12px;\n",
              "    }\n",
              "\n",
              "    .colab-df-convert {\n",
              "      background-color: #E8F0FE;\n",
              "      border: none;\n",
              "      border-radius: 50%;\n",
              "      cursor: pointer;\n",
              "      display: none;\n",
              "      fill: #1967D2;\n",
              "      height: 32px;\n",
              "      padding: 0 0 0 0;\n",
              "      width: 32px;\n",
              "    }\n",
              "\n",
              "    .colab-df-convert:hover {\n",
              "      background-color: #E2EBFA;\n",
              "      box-shadow: 0px 1px 2px rgba(60, 64, 67, 0.3), 0px 1px 3px 1px rgba(60, 64, 67, 0.15);\n",
              "      fill: #174EA6;\n",
              "    }\n",
              "\n",
              "    [theme=dark] .colab-df-convert {\n",
              "      background-color: #3B4455;\n",
              "      fill: #D2E3FC;\n",
              "    }\n",
              "\n",
              "    [theme=dark] .colab-df-convert:hover {\n",
              "      background-color: #434B5C;\n",
              "      box-shadow: 0px 1px 3px 1px rgba(0, 0, 0, 0.15);\n",
              "      filter: drop-shadow(0px 1px 2px rgba(0, 0, 0, 0.3));\n",
              "      fill: #FFFFFF;\n",
              "    }\n",
              "  </style>\n",
              "\n",
              "      <script>\n",
              "        const buttonEl =\n",
              "          document.querySelector('#df-edbc1d3b-776d-4e21-8c5e-a1290f7005c6 button.colab-df-convert');\n",
              "        buttonEl.style.display =\n",
              "          google.colab.kernel.accessAllowed ? 'block' : 'none';\n",
              "\n",
              "        async function convertToInteractive(key) {\n",
              "          const element = document.querySelector('#df-edbc1d3b-776d-4e21-8c5e-a1290f7005c6');\n",
              "          const dataTable =\n",
              "            await google.colab.kernel.invokeFunction('convertToInteractive',\n",
              "                                                     [key], {});\n",
              "          if (!dataTable) return;\n",
              "\n",
              "          const docLinkHtml = 'Like what you see? Visit the ' +\n",
              "            '<a target=\"_blank\" href=https://colab.research.google.com/notebooks/data_table.ipynb>data table notebook</a>'\n",
              "            + ' to learn more about interactive tables.';\n",
              "          element.innerHTML = '';\n",
              "          dataTable['output_type'] = 'display_data';\n",
              "          await google.colab.output.renderOutput(dataTable, element);\n",
              "          const docLink = document.createElement('div');\n",
              "          docLink.innerHTML = docLinkHtml;\n",
              "          element.appendChild(docLink);\n",
              "        }\n",
              "      </script>\n",
              "    </div>\n",
              "  </div>\n",
              "  "
            ]
          },
          "metadata": {},
          "execution_count": 116
        }
      ]
    },
    {
      "cell_type": "markdown",
      "source": [
        "## HOW THE TIME INCREAS WITH THE BASKET FILE SIZE"
      ],
      "metadata": {
        "id": "Jjatz-pIlT7X"
      }
    },
    {
      "cell_type": "code",
      "source": [
        "charts = []\n",
        "for t in [1000,3000,5000,7000]:\n",
        "  charts.append(alt.Chart(final_df[final_df[\"Threshold\"]==t]).mark_line().encode(\n",
        "      x='Basket_File_size:Q',\n",
        "      y='Time:Q',\n",
        "      color='Algorithm:N'\n",
        "  ).properties(\n",
        "      height=300,\n",
        "      width=500,\n",
        "      title=\"Threshold fixed to \"+str(t)\n",
        "  ))\n",
        "\n",
        "alt.vconcat(*charts)"
      ],
      "metadata": {
        "colab": {
          "base_uri": "https://localhost:8080/",
          "height": 1000
        },
        "id": "ZkPoYh_rl-bB",
        "outputId": "54fba752-6af7-4376-eafa-6294dd844f7f"
      },
      "execution_count": 115,
      "outputs": [
        {
          "output_type": "execute_result",
          "data": {
            "text/html": [
              "\n",
              "<div id=\"altair-viz-c9ac6d47917a425db5ee80936dc17630\"></div>\n",
              "<script type=\"text/javascript\">\n",
              "  var VEGA_DEBUG = (typeof VEGA_DEBUG == \"undefined\") ? {} : VEGA_DEBUG;\n",
              "  (function(spec, embedOpt){\n",
              "    let outputDiv = document.currentScript.previousElementSibling;\n",
              "    if (outputDiv.id !== \"altair-viz-c9ac6d47917a425db5ee80936dc17630\") {\n",
              "      outputDiv = document.getElementById(\"altair-viz-c9ac6d47917a425db5ee80936dc17630\");\n",
              "    }\n",
              "    const paths = {\n",
              "      \"vega\": \"https://cdn.jsdelivr.net/npm//vega@5?noext\",\n",
              "      \"vega-lib\": \"https://cdn.jsdelivr.net/npm//vega-lib?noext\",\n",
              "      \"vega-lite\": \"https://cdn.jsdelivr.net/npm//vega-lite@4.17.0?noext\",\n",
              "      \"vega-embed\": \"https://cdn.jsdelivr.net/npm//vega-embed@6?noext\",\n",
              "    };\n",
              "\n",
              "    function maybeLoadScript(lib, version) {\n",
              "      var key = `${lib.replace(\"-\", \"\")}_version`;\n",
              "      return (VEGA_DEBUG[key] == version) ?\n",
              "        Promise.resolve(paths[lib]) :\n",
              "        new Promise(function(resolve, reject) {\n",
              "          var s = document.createElement('script');\n",
              "          document.getElementsByTagName(\"head\")[0].appendChild(s);\n",
              "          s.async = true;\n",
              "          s.onload = () => {\n",
              "            VEGA_DEBUG[key] = version;\n",
              "            return resolve(paths[lib]);\n",
              "          };\n",
              "          s.onerror = () => reject(`Error loading script: ${paths[lib]}`);\n",
              "          s.src = paths[lib];\n",
              "        });\n",
              "    }\n",
              "\n",
              "    function showError(err) {\n",
              "      outputDiv.innerHTML = `<div class=\"error\" style=\"color:red;\">${err}</div>`;\n",
              "      throw err;\n",
              "    }\n",
              "\n",
              "    function displayChart(vegaEmbed) {\n",
              "      vegaEmbed(outputDiv, spec, embedOpt)\n",
              "        .catch(err => showError(`Javascript Error: ${err.message}<br>This usually means there's a typo in your chart specification. See the javascript console for the full traceback.`));\n",
              "    }\n",
              "\n",
              "    if(typeof define === \"function\" && define.amd) {\n",
              "      requirejs.config({paths});\n",
              "      require([\"vega-embed\"], displayChart, err => showError(`Error loading script: ${err.message}`));\n",
              "    } else {\n",
              "      maybeLoadScript(\"vega\", \"5\")\n",
              "        .then(() => maybeLoadScript(\"vega-lite\", \"4.17.0\"))\n",
              "        .then(() => maybeLoadScript(\"vega-embed\", \"6\"))\n",
              "        .catch(showError)\n",
              "        .then(() => displayChart(vegaEmbed));\n",
              "    }\n",
              "  })({\"config\": {\"view\": {\"continuousWidth\": 400, \"continuousHeight\": 300}}, \"vconcat\": [{\"data\": {\"name\": \"data-35abdf6069c150ccca9a70a803908dd8\"}, \"mark\": \"line\", \"encoding\": {\"color\": {\"field\": \"Algorithm\", \"type\": \"nominal\"}, \"x\": {\"field\": \"Basket_File_size\", \"type\": \"quantitative\"}, \"y\": {\"field\": \"Time\", \"type\": \"quantitative\"}}, \"height\": 300, \"title\": \"Threshold fixed to 1000\", \"width\": 500}, {\"data\": {\"name\": \"data-78784ab83e552f86178601e1d7e6db6d\"}, \"mark\": \"line\", \"encoding\": {\"color\": {\"field\": \"Algorithm\", \"type\": \"nominal\"}, \"x\": {\"field\": \"Basket_File_size\", \"type\": \"quantitative\"}, \"y\": {\"field\": \"Time\", \"type\": \"quantitative\"}}, \"height\": 300, \"title\": \"Threshold fixed to 3000\", \"width\": 500}, {\"data\": {\"name\": \"data-cbd5f1767348215dce110175f6b884ee\"}, \"mark\": \"line\", \"encoding\": {\"color\": {\"field\": \"Algorithm\", \"type\": \"nominal\"}, \"x\": {\"field\": \"Basket_File_size\", \"type\": \"quantitative\"}, \"y\": {\"field\": \"Time\", \"type\": \"quantitative\"}}, \"height\": 300, \"title\": \"Threshold fixed to 5000\", \"width\": 500}, {\"data\": {\"name\": \"data-e8efa1acc8ea26d61cf7617c331c1780\"}, \"mark\": \"line\", \"encoding\": {\"color\": {\"field\": \"Algorithm\", \"type\": \"nominal\"}, \"x\": {\"field\": \"Basket_File_size\", \"type\": \"quantitative\"}, \"y\": {\"field\": \"Time\", \"type\": \"quantitative\"}}, \"height\": 300, \"title\": \"Threshold fixed to 7000\", \"width\": 500}], \"$schema\": \"https://vega.github.io/schema/vega-lite/v4.17.0.json\", \"datasets\": {\"data-35abdf6069c150ccca9a70a803908dd8\": [{\"Time\": 17.4455406665802, \"Algorithm\": \"APRIORI\", \"Basket_File_size\": 63656, \"Threshold\": 1000}, {\"Time\": 84.73862552642822, \"Algorithm\": \"APRIORI\", \"Basket_File_size\": 127300, \"Threshold\": 1000}, {\"Time\": 216.32146048545837, \"Algorithm\": \"APRIORI\", \"Basket_File_size\": 190850, \"Threshold\": 1000}, {\"Time\": 475.3542504310608, \"Algorithm\": \"APRIORI\", \"Basket_File_size\": 254626, \"Threshold\": 1000}, {\"Time\": 3.0702767372131348, \"Algorithm\": \"PCY\", \"Basket_File_size\": 63656, \"Threshold\": 1000}, {\"Time\": 8.054848432540894, \"Algorithm\": \"PCY\", \"Basket_File_size\": 127300, \"Threshold\": 1000}, {\"Time\": 15.185492038726807, \"Algorithm\": \"PCY\", \"Basket_File_size\": 190850, \"Threshold\": 1000}, {\"Time\": 24.6033353805542, \"Algorithm\": \"PCY\", \"Basket_File_size\": 254626, \"Threshold\": 1000}, {\"Time\": 4.0986738204956055, \"Algorithm\": \"Multistage\", \"Basket_File_size\": 63656, \"Threshold\": 1000}, {\"Time\": 12.905784606933594, \"Algorithm\": \"Multistage\", \"Basket_File_size\": 127300, \"Threshold\": 1000}, {\"Time\": 25.552120208740234, \"Algorithm\": \"Multistage\", \"Basket_File_size\": 190850, \"Threshold\": 1000}, {\"Time\": 42.984614849090576, \"Algorithm\": \"Multistage\", \"Basket_File_size\": 254626, \"Threshold\": 1000}, {\"Time\": 4.357228517532349, \"Algorithm\": \"Multihash\", \"Basket_File_size\": 63656, \"Threshold\": 1000}, {\"Time\": 10.285927057266235, \"Algorithm\": \"Multihash\", \"Basket_File_size\": 127300, \"Threshold\": 1000}, {\"Time\": 18.115367650985718, \"Algorithm\": \"Multihash\", \"Basket_File_size\": 190850, \"Threshold\": 1000}, {\"Time\": 28.41962218284607, \"Algorithm\": \"Multihash\", \"Basket_File_size\": 254626, \"Threshold\": 1000}, {\"Time\": 20.637521505355835, \"Algorithm\": \"SON\", \"Basket_File_size\": 63656, \"Threshold\": 1000}, {\"Time\": 106.52221655845642, \"Algorithm\": \"SON\", \"Basket_File_size\": 127300, \"Threshold\": 1000}, {\"Time\": 265.24138855934143, \"Algorithm\": \"SON\", \"Basket_File_size\": 190850, \"Threshold\": 1000}, {\"Time\": 582.3941254615784, \"Algorithm\": \"SON\", \"Basket_File_size\": 254626, \"Threshold\": 1000}], \"data-78784ab83e552f86178601e1d7e6db6d\": [{\"Time\": 1.8744535446166992, \"Algorithm\": \"APRIORI\", \"Basket_File_size\": 63656, \"Threshold\": 3000}, {\"Time\": 9.081396341323853, \"Algorithm\": \"APRIORI\", \"Basket_File_size\": 127300, \"Threshold\": 3000}, {\"Time\": 30.860692024230957, \"Algorithm\": \"APRIORI\", \"Basket_File_size\": 190850, \"Threshold\": 3000}, {\"Time\": 59.81096029281616, \"Algorithm\": \"APRIORI\", \"Basket_File_size\": 254626, \"Threshold\": 3000}, {\"Time\": 2.4368085861206055, \"Algorithm\": \"PCY\", \"Basket_File_size\": 63656, \"Threshold\": 3000}, {\"Time\": 4.070155143737793, \"Algorithm\": \"PCY\", \"Basket_File_size\": 127300, \"Threshold\": 3000}, {\"Time\": 5.9959001541137695, \"Algorithm\": \"PCY\", \"Basket_File_size\": 190850, \"Threshold\": 3000}, {\"Time\": 8.928852796554565, \"Algorithm\": \"PCY\", \"Basket_File_size\": 254626, \"Threshold\": 3000}, {\"Time\": 2.934650421142578, \"Algorithm\": \"Multistage\", \"Basket_File_size\": 63656, \"Threshold\": 3000}, {\"Time\": 4.868029594421387, \"Algorithm\": \"Multistage\", \"Basket_File_size\": 127300, \"Threshold\": 3000}, {\"Time\": 8.645841836929321, \"Algorithm\": \"Multistage\", \"Basket_File_size\": 190850, \"Threshold\": 3000}, {\"Time\": 12.283836841583252, \"Algorithm\": \"Multistage\", \"Basket_File_size\": 254626, \"Threshold\": 3000}, {\"Time\": 3.4341444969177246, \"Algorithm\": \"Multihash\", \"Basket_File_size\": 63656, \"Threshold\": 3000}, {\"Time\": 6.4731059074401855, \"Algorithm\": \"Multihash\", \"Basket_File_size\": 127300, \"Threshold\": 3000}, {\"Time\": 9.40037751197815, \"Algorithm\": \"Multihash\", \"Basket_File_size\": 190850, \"Threshold\": 3000}, {\"Time\": 13.807629346847534, \"Algorithm\": \"Multihash\", \"Basket_File_size\": 254626, \"Threshold\": 3000}, {\"Time\": 4.515831232070923, \"Algorithm\": \"SON\", \"Basket_File_size\": 63656, \"Threshold\": 3000}, {\"Time\": 14.638222694396973, \"Algorithm\": \"SON\", \"Basket_File_size\": 127300, \"Threshold\": 3000}, {\"Time\": 42.31226062774658, \"Algorithm\": \"SON\", \"Basket_File_size\": 190850, \"Threshold\": 3000}, {\"Time\": 93.05479025840759, \"Algorithm\": \"SON\", \"Basket_File_size\": 254626, \"Threshold\": 3000}], \"data-cbd5f1767348215dce110175f6b884ee\": [{\"Time\": 1.1922032833099365, \"Algorithm\": \"APRIORI\", \"Basket_File_size\": 63656, \"Threshold\": 5000}, {\"Time\": 3.9413769245147705, \"Algorithm\": \"APRIORI\", \"Basket_File_size\": 127300, \"Threshold\": 5000}, {\"Time\": 12.503959655761719, \"Algorithm\": \"APRIORI\", \"Basket_File_size\": 190850, \"Threshold\": 5000}, {\"Time\": 23.72375178337097, \"Algorithm\": \"APRIORI\", \"Basket_File_size\": 254626, \"Threshold\": 5000}, {\"Time\": 2.485276460647583, \"Algorithm\": \"PCY\", \"Basket_File_size\": 63656, \"Threshold\": 5000}, {\"Time\": 4.176224708557129, \"Algorithm\": \"PCY\", \"Basket_File_size\": 127300, \"Threshold\": 5000}, {\"Time\": 5.673451662063599, \"Algorithm\": \"PCY\", \"Basket_File_size\": 190850, \"Threshold\": 5000}, {\"Time\": 7.7166759967803955, \"Algorithm\": \"PCY\", \"Basket_File_size\": 254626, \"Threshold\": 5000}, {\"Time\": 2.6030092239379883, \"Algorithm\": \"Multistage\", \"Basket_File_size\": 63656, \"Threshold\": 5000}, {\"Time\": 4.8571343421936035, \"Algorithm\": \"Multistage\", \"Basket_File_size\": 127300, \"Threshold\": 5000}, {\"Time\": 6.630772113800049, \"Algorithm\": \"Multistage\", \"Basket_File_size\": 190850, \"Threshold\": 5000}, {\"Time\": 9.565623044967651, \"Algorithm\": \"Multistage\", \"Basket_File_size\": 254626, \"Threshold\": 5000}, {\"Time\": 3.393031597137451, \"Algorithm\": \"Multihash\", \"Basket_File_size\": 63656, \"Threshold\": 5000}, {\"Time\": 6.442741394042969, \"Algorithm\": \"Multihash\", \"Basket_File_size\": 127300, \"Threshold\": 5000}, {\"Time\": 8.874793291091919, \"Algorithm\": \"Multihash\", \"Basket_File_size\": 190850, \"Threshold\": 5000}, {\"Time\": 12.100407600402832, \"Algorithm\": \"Multihash\", \"Basket_File_size\": 254626, \"Threshold\": 5000}, {\"Time\": 2.4658520221710205, \"Algorithm\": \"SON\", \"Basket_File_size\": 63656, \"Threshold\": 5000}, {\"Time\": 9.381756067276001, \"Algorithm\": \"SON\", \"Basket_File_size\": 127300, \"Threshold\": 5000}, {\"Time\": 17.11528468132019, \"Algorithm\": \"SON\", \"Basket_File_size\": 190850, \"Threshold\": 5000}, {\"Time\": 31.062628269195557, \"Algorithm\": \"SON\", \"Basket_File_size\": 254626, \"Threshold\": 5000}], \"data-e8efa1acc8ea26d61cf7617c331c1780\": [{\"Time\": 0.7046113014221191, \"Algorithm\": \"APRIORI\", \"Basket_File_size\": 63656, \"Threshold\": 7000}, {\"Time\": 2.899259090423584, \"Algorithm\": \"APRIORI\", \"Basket_File_size\": 127300, \"Threshold\": 7000}, {\"Time\": 7.722350597381592, \"Algorithm\": \"APRIORI\", \"Basket_File_size\": 190850, \"Threshold\": 7000}, {\"Time\": 12.930307865142822, \"Algorithm\": \"APRIORI\", \"Basket_File_size\": 254626, \"Threshold\": 7000}, {\"Time\": 2.454826593399048, \"Algorithm\": \"PCY\", \"Basket_File_size\": 63656, \"Threshold\": 7000}, {\"Time\": 3.891864061355591, \"Algorithm\": \"PCY\", \"Basket_File_size\": 127300, \"Threshold\": 7000}, {\"Time\": 5.274978399276733, \"Algorithm\": \"PCY\", \"Basket_File_size\": 190850, \"Threshold\": 7000}, {\"Time\": 7.421138525009155, \"Algorithm\": \"PCY\", \"Basket_File_size\": 254626, \"Threshold\": 7000}, {\"Time\": 2.4088006019592285, \"Algorithm\": \"Multistage\", \"Basket_File_size\": 63656, \"Threshold\": 7000}, {\"Time\": 4.020596981048584, \"Algorithm\": \"Multistage\", \"Basket_File_size\": 127300, \"Threshold\": 7000}, {\"Time\": 5.944777727127075, \"Algorithm\": \"Multistage\", \"Basket_File_size\": 190850, \"Threshold\": 7000}, {\"Time\": 8.840383291244507, \"Algorithm\": \"Multistage\", \"Basket_File_size\": 254626, \"Threshold\": 7000}, {\"Time\": 3.516371965408325, \"Algorithm\": \"Multihash\", \"Basket_File_size\": 63656, \"Threshold\": 7000}, {\"Time\": 6.225409746170044, \"Algorithm\": \"Multihash\", \"Basket_File_size\": 127300, \"Threshold\": 7000}, {\"Time\": 8.691078662872314, \"Algorithm\": \"Multihash\", \"Basket_File_size\": 190850, \"Threshold\": 7000}, {\"Time\": 11.856892347335815, \"Algorithm\": \"Multihash\", \"Basket_File_size\": 254626, \"Threshold\": 7000}, {\"Time\": 2.5743184089660645, \"Algorithm\": \"SON\", \"Basket_File_size\": 63656, \"Threshold\": 7000}, {\"Time\": 5.677516222000122, \"Algorithm\": \"SON\", \"Basket_File_size\": 127300, \"Threshold\": 7000}, {\"Time\": 12.369615077972412, \"Algorithm\": \"SON\", \"Basket_File_size\": 190850, \"Threshold\": 7000}, {\"Time\": 20.92375636100769, \"Algorithm\": \"SON\", \"Basket_File_size\": 254626, \"Threshold\": 7000}]}}, {\"mode\": \"vega-lite\"});\n",
              "</script>"
            ],
            "text/plain": [
              "alt.VConcatChart(...)"
            ]
          },
          "metadata": {},
          "execution_count": 115
        }
      ]
    },
    {
      "cell_type": "markdown",
      "metadata": {
        "id": "axANLofBLJHi"
      },
      "source": [
        "#BRIEF ANALYS ON ASSOCIATION RULES\n",
        "\n",
        "---\n",
        "\n"
      ]
    },
    {
      "cell_type": "code",
      "execution_count": null,
      "metadata": {
        "id": "-tWGjDrCMv8h"
      },
      "outputs": [],
      "source": [
        "def retrive_freq(singleton):\n",
        "  for sing in freq_singleton_list:\n",
        "    if sing[0]==singleton:\n",
        "      return sing[1]"
      ]
    },
    {
      "cell_type": "code",
      "execution_count": null,
      "metadata": {
        "colab": {
          "base_uri": "https://localhost:8080/"
        },
        "id": "9QKm00_JNVZV",
        "outputId": "950d7011-e154-4c80-94dc-21993d98807d"
      },
      "outputs": [
        {
          "output_type": "execute_result",
          "data": {
            "text/plain": [
              "('ukraineunderattaсk', 27)"
            ]
          },
          "metadata": {},
          "execution_count": 113
        }
      ],
      "source": [
        "freq_singleton_list[0]"
      ]
    },
    {
      "cell_type": "code",
      "execution_count": null,
      "metadata": {
        "colab": {
          "base_uri": "https://localhost:8080/"
        },
        "id": "pHbrTTMiNVdQ",
        "outputId": "b2c1592d-7e21-47ba-ba46-afe28433aba8"
      },
      "outputs": [
        {
          "output_type": "execute_result",
          "data": {
            "text/plain": [
              "27"
            ]
          },
          "metadata": {},
          "execution_count": 114
        }
      ],
      "source": [
        "retrive_freq('ukraineunderattaсk')"
      ]
    },
    {
      "cell_type": "code",
      "execution_count": null,
      "metadata": {
        "id": "7yv9q1taLREJ"
      },
      "outputs": [],
      "source": [
        "analisys=[]\n",
        "for elem in result_PCY:\n",
        "  an_row=[]\n",
        "  \n",
        "  support=elem[1]/500   #elem[1]=support of the pair elem[0], 500=# of baskets analyzed while perofrming PCY\n",
        "  confidence_0=elem[1]/retrive_freq(elem[0][0]) #confidence of the rule A-->B\n",
        "  confidence_1=elem[1]/retrive_freq(elem[0][1]) #confidence of the rule B-->A\n",
        "  lift=support/( (retrive_freq(elem[0][0])/500) * (retrive_freq(elem[0][1])/500) )\n",
        "  interest_0=confidence_0-(retrive_freq(elem[0][1])/500)\n",
        "  interest_1=confidence_1-(retrive_freq(elem[0][0])/500)\n",
        "\n",
        "  rule_0=elem[0][0]+\"-->\"+elem[0][1]\n",
        "  rule_1=elem[0][1]+\"-->\"+elem[0][0]\n",
        "\n",
        "  an_row.append(rule_0)\n",
        "  an_row.append(support)\n",
        "  an_row.append(confidence_0)\n",
        "  an_row.append(lift)\n",
        "  an_row.append(interest_0)\n",
        "  analisys.append(an_row)\n",
        "\n",
        "  an_row=[]\n",
        "  an_row.append(rule_1)\n",
        "  an_row.append(support)\n",
        "  an_row.append(confidence_1)\n",
        "  an_row.append(lift)\n",
        "  an_row.append(interest_1)\n",
        "  analisys.append(an_row)"
      ]
    },
    {
      "cell_type": "code",
      "execution_count": null,
      "metadata": {
        "id": "egN5gzNeS0bU"
      },
      "outputs": [],
      "source": [
        "df = pd.DataFrame(analisys, columns = ['Rule','Support','Confidence','Lift','Interest'])\n",
        "df=df.round(3)"
      ]
    },
    {
      "cell_type": "code",
      "execution_count": null,
      "metadata": {
        "colab": {
          "base_uri": "https://localhost:8080/",
          "height": 424
        },
        "id": "_oqYvFjgTaAi",
        "outputId": "f806f99c-4b0a-4def-af89-577d821db922"
      },
      "outputs": [
        {
          "output_type": "execute_result",
          "data": {
            "text/plain": [
              "                                   Rule  Support  Confidence    Lift  Interest\n",
              "0             protectuаsky-->stoprussia    0.040       1.000  15.625     0.936\n",
              "1             stoprussia-->protectuаsky    0.040       0.625  15.625     0.585\n",
              "2    russianinvasion-->standwithukraine    0.040       1.000   9.804     0.898\n",
              "3    standwithukraine-->russianinvasion    0.040       0.392   9.804     0.352\n",
              "4      russianinvasion-->ukrainewillwin    0.040       1.000  22.727     0.956\n",
              "..                                  ...      ...         ...     ...       ...\n",
              "149                     energy-->mining    0.020       1.000  50.000     0.980\n",
              "150                       mining-->coal    0.020       1.000  50.000     0.980\n",
              "151                       coal-->mining    0.020       1.000  50.000     0.980\n",
              "152          ukrainerussiawar-->ukraine    0.036       0.545   1.274     0.117\n",
              "153          ukraine-->ukrainerussiawar    0.036       0.084   1.274     0.018\n",
              "\n",
              "[154 rows x 5 columns]"
            ],
            "text/html": [
              "\n",
              "  <div id=\"df-ea5cda67-c1c7-41c5-a934-0c51912f4aa2\">\n",
              "    <div class=\"colab-df-container\">\n",
              "      <div>\n",
              "<style scoped>\n",
              "    .dataframe tbody tr th:only-of-type {\n",
              "        vertical-align: middle;\n",
              "    }\n",
              "\n",
              "    .dataframe tbody tr th {\n",
              "        vertical-align: top;\n",
              "    }\n",
              "\n",
              "    .dataframe thead th {\n",
              "        text-align: right;\n",
              "    }\n",
              "</style>\n",
              "<table border=\"1\" class=\"dataframe\">\n",
              "  <thead>\n",
              "    <tr style=\"text-align: right;\">\n",
              "      <th></th>\n",
              "      <th>Rule</th>\n",
              "      <th>Support</th>\n",
              "      <th>Confidence</th>\n",
              "      <th>Lift</th>\n",
              "      <th>Interest</th>\n",
              "    </tr>\n",
              "  </thead>\n",
              "  <tbody>\n",
              "    <tr>\n",
              "      <th>0</th>\n",
              "      <td>protectuаsky--&gt;stoprussia</td>\n",
              "      <td>0.040</td>\n",
              "      <td>1.000</td>\n",
              "      <td>15.625</td>\n",
              "      <td>0.936</td>\n",
              "    </tr>\n",
              "    <tr>\n",
              "      <th>1</th>\n",
              "      <td>stoprussia--&gt;protectuаsky</td>\n",
              "      <td>0.040</td>\n",
              "      <td>0.625</td>\n",
              "      <td>15.625</td>\n",
              "      <td>0.585</td>\n",
              "    </tr>\n",
              "    <tr>\n",
              "      <th>2</th>\n",
              "      <td>russianinvasion--&gt;standwithukraine</td>\n",
              "      <td>0.040</td>\n",
              "      <td>1.000</td>\n",
              "      <td>9.804</td>\n",
              "      <td>0.898</td>\n",
              "    </tr>\n",
              "    <tr>\n",
              "      <th>3</th>\n",
              "      <td>standwithukraine--&gt;russianinvasion</td>\n",
              "      <td>0.040</td>\n",
              "      <td>0.392</td>\n",
              "      <td>9.804</td>\n",
              "      <td>0.352</td>\n",
              "    </tr>\n",
              "    <tr>\n",
              "      <th>4</th>\n",
              "      <td>russianinvasion--&gt;ukrainewillwin</td>\n",
              "      <td>0.040</td>\n",
              "      <td>1.000</td>\n",
              "      <td>22.727</td>\n",
              "      <td>0.956</td>\n",
              "    </tr>\n",
              "    <tr>\n",
              "      <th>...</th>\n",
              "      <td>...</td>\n",
              "      <td>...</td>\n",
              "      <td>...</td>\n",
              "      <td>...</td>\n",
              "      <td>...</td>\n",
              "    </tr>\n",
              "    <tr>\n",
              "      <th>149</th>\n",
              "      <td>energy--&gt;mining</td>\n",
              "      <td>0.020</td>\n",
              "      <td>1.000</td>\n",
              "      <td>50.000</td>\n",
              "      <td>0.980</td>\n",
              "    </tr>\n",
              "    <tr>\n",
              "      <th>150</th>\n",
              "      <td>mining--&gt;coal</td>\n",
              "      <td>0.020</td>\n",
              "      <td>1.000</td>\n",
              "      <td>50.000</td>\n",
              "      <td>0.980</td>\n",
              "    </tr>\n",
              "    <tr>\n",
              "      <th>151</th>\n",
              "      <td>coal--&gt;mining</td>\n",
              "      <td>0.020</td>\n",
              "      <td>1.000</td>\n",
              "      <td>50.000</td>\n",
              "      <td>0.980</td>\n",
              "    </tr>\n",
              "    <tr>\n",
              "      <th>152</th>\n",
              "      <td>ukrainerussiawar--&gt;ukraine</td>\n",
              "      <td>0.036</td>\n",
              "      <td>0.545</td>\n",
              "      <td>1.274</td>\n",
              "      <td>0.117</td>\n",
              "    </tr>\n",
              "    <tr>\n",
              "      <th>153</th>\n",
              "      <td>ukraine--&gt;ukrainerussiawar</td>\n",
              "      <td>0.036</td>\n",
              "      <td>0.084</td>\n",
              "      <td>1.274</td>\n",
              "      <td>0.018</td>\n",
              "    </tr>\n",
              "  </tbody>\n",
              "</table>\n",
              "<p>154 rows × 5 columns</p>\n",
              "</div>\n",
              "      <button class=\"colab-df-convert\" onclick=\"convertToInteractive('df-ea5cda67-c1c7-41c5-a934-0c51912f4aa2')\"\n",
              "              title=\"Convert this dataframe to an interactive table.\"\n",
              "              style=\"display:none;\">\n",
              "        \n",
              "  <svg xmlns=\"http://www.w3.org/2000/svg\" height=\"24px\"viewBox=\"0 0 24 24\"\n",
              "       width=\"24px\">\n",
              "    <path d=\"M0 0h24v24H0V0z\" fill=\"none\"/>\n",
              "    <path d=\"M18.56 5.44l.94 2.06.94-2.06 2.06-.94-2.06-.94-.94-2.06-.94 2.06-2.06.94zm-11 1L8.5 8.5l.94-2.06 2.06-.94-2.06-.94L8.5 2.5l-.94 2.06-2.06.94zm10 10l.94 2.06.94-2.06 2.06-.94-2.06-.94-.94-2.06-.94 2.06-2.06.94z\"/><path d=\"M17.41 7.96l-1.37-1.37c-.4-.4-.92-.59-1.43-.59-.52 0-1.04.2-1.43.59L10.3 9.45l-7.72 7.72c-.78.78-.78 2.05 0 2.83L4 21.41c.39.39.9.59 1.41.59.51 0 1.02-.2 1.41-.59l7.78-7.78 2.81-2.81c.8-.78.8-2.07 0-2.86zM5.41 20L4 18.59l7.72-7.72 1.47 1.35L5.41 20z\"/>\n",
              "  </svg>\n",
              "      </button>\n",
              "      \n",
              "  <style>\n",
              "    .colab-df-container {\n",
              "      display:flex;\n",
              "      flex-wrap:wrap;\n",
              "      gap: 12px;\n",
              "    }\n",
              "\n",
              "    .colab-df-convert {\n",
              "      background-color: #E8F0FE;\n",
              "      border: none;\n",
              "      border-radius: 50%;\n",
              "      cursor: pointer;\n",
              "      display: none;\n",
              "      fill: #1967D2;\n",
              "      height: 32px;\n",
              "      padding: 0 0 0 0;\n",
              "      width: 32px;\n",
              "    }\n",
              "\n",
              "    .colab-df-convert:hover {\n",
              "      background-color: #E2EBFA;\n",
              "      box-shadow: 0px 1px 2px rgba(60, 64, 67, 0.3), 0px 1px 3px 1px rgba(60, 64, 67, 0.15);\n",
              "      fill: #174EA6;\n",
              "    }\n",
              "\n",
              "    [theme=dark] .colab-df-convert {\n",
              "      background-color: #3B4455;\n",
              "      fill: #D2E3FC;\n",
              "    }\n",
              "\n",
              "    [theme=dark] .colab-df-convert:hover {\n",
              "      background-color: #434B5C;\n",
              "      box-shadow: 0px 1px 3px 1px rgba(0, 0, 0, 0.15);\n",
              "      filter: drop-shadow(0px 1px 2px rgba(0, 0, 0, 0.3));\n",
              "      fill: #FFFFFF;\n",
              "    }\n",
              "  </style>\n",
              "\n",
              "      <script>\n",
              "        const buttonEl =\n",
              "          document.querySelector('#df-ea5cda67-c1c7-41c5-a934-0c51912f4aa2 button.colab-df-convert');\n",
              "        buttonEl.style.display =\n",
              "          google.colab.kernel.accessAllowed ? 'block' : 'none';\n",
              "\n",
              "        async function convertToInteractive(key) {\n",
              "          const element = document.querySelector('#df-ea5cda67-c1c7-41c5-a934-0c51912f4aa2');\n",
              "          const dataTable =\n",
              "            await google.colab.kernel.invokeFunction('convertToInteractive',\n",
              "                                                     [key], {});\n",
              "          if (!dataTable) return;\n",
              "\n",
              "          const docLinkHtml = 'Like what you see? Visit the ' +\n",
              "            '<a target=\"_blank\" href=https://colab.research.google.com/notebooks/data_table.ipynb>data table notebook</a>'\n",
              "            + ' to learn more about interactive tables.';\n",
              "          element.innerHTML = '';\n",
              "          dataTable['output_type'] = 'display_data';\n",
              "          await google.colab.output.renderOutput(dataTable, element);\n",
              "          const docLink = document.createElement('div');\n",
              "          docLink.innerHTML = docLinkHtml;\n",
              "          element.appendChild(docLink);\n",
              "        }\n",
              "      </script>\n",
              "    </div>\n",
              "  </div>\n",
              "  "
            ]
          },
          "metadata": {},
          "execution_count": 117
        }
      ],
      "source": [
        "df"
      ]
    },
    {
      "cell_type": "markdown",
      "metadata": {
        "id": "H77SmnunUHdH"
      },
      "source": [
        "A lift of more than 1 suggests that the presence of \"protectuаsky\" increases the probability that \"stoprussia\" will also occur in the transaction."
      ]
    },
    {
      "cell_type": "code",
      "source": [
        ""
      ],
      "metadata": {
        "id": "aTx9snSSMRpp"
      },
      "execution_count": null,
      "outputs": []
    },
    {
      "cell_type": "code",
      "source": [
        ""
      ],
      "metadata": {
        "id": "VZN8e7M8xynJ"
      },
      "execution_count": null,
      "outputs": []
    }
  ],
  "metadata": {
    "colab": {
      "collapsed_sections": [],
      "name": "final.ipynb",
      "provenance": []
    },
    "kernelspec": {
      "display_name": "Python 3 (ipykernel)",
      "language": "python",
      "name": "python3"
    },
    "language_info": {
      "codemirror_mode": {
        "name": "ipython",
        "version": 3
      },
      "file_extension": ".py",
      "mimetype": "text/x-python",
      "name": "python",
      "nbconvert_exporter": "python",
      "pygments_lexer": "ipython3",
      "version": "3.7.3"
    }
  },
  "nbformat": 4,
  "nbformat_minor": 0
}