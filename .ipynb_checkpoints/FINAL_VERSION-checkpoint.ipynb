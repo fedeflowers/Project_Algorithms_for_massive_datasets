{
 "cells": [
  {
   "cell_type": "markdown",
   "metadata": {
    "id": "I75tB61RaDHK"
   },
   "source": [
    "## Spark setting"
   ]
  },
  {
   "cell_type": "code",
   "execution_count": 1,
   "metadata": {
    "id": "ocBQFMViafoF"
   },
   "outputs": [],
   "source": [
    "!apt-get install openjdk-8-jdk-headless -qq > /dev/null\n",
    "!wget -q http://www-eu.apache.org/dist/spark/spark-3.0.3/spark-3.0.3-bin-hadoop2.7.tgz\n",
    "!tar xf spark-3.0.3-bin-hadoop2.7.tgz\n",
    "!pip install -q findspark"
   ]
  },
  {
   "cell_type": "code",
   "execution_count": 2,
   "metadata": {
    "id": "wg_tN5RmkCq3"
   },
   "outputs": [],
   "source": [
    "import os\n",
    "os.environ[\"JAVA_HOME\"] = \"/usr/lib/jvm/java-8-openjdk-amd64\"\n",
    "os.environ[\"SPARK_HOME\"] = \"/content/spark-3.0.3-bin-hadoop2.7\""
   ]
  },
  {
   "cell_type": "code",
   "execution_count": 3,
   "metadata": {
    "id": "ehkhKsLqafrV"
   },
   "outputs": [],
   "source": [
    "import findspark\n",
    "findspark.init(\"spark-3.0.3-bin-hadoop2.7\")# SPARK_HOME\n",
    "from pyspark.sql import SparkSession\n",
    "spark = SparkSession.builder.master(\"local[*]\").getOrCreate()"
   ]
  },
  {
   "cell_type": "code",
   "execution_count": 4,
   "metadata": {
    "colab": {
     "base_uri": "https://localhost:8080/"
    },
    "id": "AMVtczB1kLun",
    "outputId": "df93b8b8-b784-44b1-ad60-c94685f6f88d"
   },
   "outputs": [
    {
     "data": {
      "text/plain": [
       "pyspark.sql.session.SparkSession"
      ]
     },
     "execution_count": 4,
     "metadata": {},
     "output_type": "execute_result"
    }
   ],
   "source": [
    "import pyspark\n",
    "type(spark)"
   ]
  },
  {
   "cell_type": "markdown",
   "metadata": {
    "id": "n8WiLqFNaAbz"
   },
   "source": [
    "## Kaggle APIs"
   ]
  },
  {
   "cell_type": "markdown",
   "metadata": {
    "id": "5DCmGBC2ZoBi"
   },
   "source": [
    "________________________________________________________________________"
   ]
  },
  {
   "cell_type": "code",
   "execution_count": 5,
   "metadata": {
    "colab": {
     "base_uri": "https://localhost:8080/",
     "height": 90,
     "resources": {
      "http://localhost:8080/nbextensions/google.colab/files.js": {
       "data": "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",
       "headers": [
        [
         "content-type",
         "application/javascript"
        ]
       ],
       "ok": true,
       "status": 200,
       "status_text": ""
      }
     }
    },
    "id": "wvJrKVr00SxV",
    "outputId": "3d210d10-2ba4-45aa-84c2-9111b275920b"
   },
   "outputs": [
    {
     "data": {
      "text/html": [
       "\n",
       "     <input type=\"file\" id=\"files-adc46411-46af-413d-aee5-bf3676dc4d47\" name=\"files[]\" multiple disabled\n",
       "        style=\"border:none\" />\n",
       "     <output id=\"result-adc46411-46af-413d-aee5-bf3676dc4d47\">\n",
       "      Upload widget is only available when the cell has been executed in the\n",
       "      current browser session. Please rerun this cell to enable.\n",
       "      </output>\n",
       "      <script src=\"/nbextensions/google.colab/files.js\"></script> "
      ],
      "text/plain": [
       "<IPython.core.display.HTML object>"
      ]
     },
     "metadata": {},
     "output_type": "display_data"
    },
    {
     "name": "stdout",
     "output_type": "stream",
     "text": [
      "Saving kaggle.json to kaggle.json\n"
     ]
    },
    {
     "data": {
      "text/plain": [
       "{'kaggle.json': b'{\"username\":\"federicofiorio\",\"key\":\"3c9fda0dd26cc20d5f652a577743142c\"} \\r\\n'}"
      ]
     },
     "execution_count": 5,
     "metadata": {},
     "output_type": "execute_result"
    }
   ],
   "source": [
    "from google.colab import files\n",
    "files.upload() #upload kaggle.json"
   ]
  },
  {
   "cell_type": "code",
   "execution_count": 6,
   "metadata": {
    "colab": {
     "base_uri": "https://localhost:8080/"
    },
    "id": "9cD_HErCy5VX",
    "outputId": "ee0c49fa-f5d9-47be-c0de-15a051e2e7e4"
   },
   "outputs": [
    {
     "name": "stdout",
     "output_type": "stream",
     "text": [
      "Looking in indexes: https://pypi.org/simple, https://us-python.pkg.dev/colab-wheels/public/simple/\n",
      "Requirement already satisfied: kaggle in /usr/local/lib/python3.7/dist-packages (1.5.12)\n",
      "Requirement already satisfied: python-slugify in /usr/local/lib/python3.7/dist-packages (from kaggle) (6.1.2)\n",
      "Requirement already satisfied: tqdm in /usr/local/lib/python3.7/dist-packages (from kaggle) (4.64.0)\n",
      "Requirement already satisfied: six>=1.10 in /usr/local/lib/python3.7/dist-packages (from kaggle) (1.15.0)\n",
      "Requirement already satisfied: python-dateutil in /usr/local/lib/python3.7/dist-packages (from kaggle) (2.8.2)\n",
      "Requirement already satisfied: urllib3 in /usr/local/lib/python3.7/dist-packages (from kaggle) (1.24.3)\n",
      "Requirement already satisfied: requests in /usr/local/lib/python3.7/dist-packages (from kaggle) (2.23.0)\n",
      "Requirement already satisfied: certifi in /usr/local/lib/python3.7/dist-packages (from kaggle) (2022.5.18.1)\n",
      "Requirement already satisfied: text-unidecode>=1.3 in /usr/local/lib/python3.7/dist-packages (from python-slugify->kaggle) (1.3)\n",
      "Requirement already satisfied: chardet<4,>=3.0.2 in /usr/local/lib/python3.7/dist-packages (from requests->kaggle) (3.0.4)\n",
      "Requirement already satisfied: idna<3,>=2.5 in /usr/local/lib/python3.7/dist-packages (from requests->kaggle) (2.10)\n"
     ]
    }
   ],
   "source": [
    "! pip install kaggle"
   ]
  },
  {
   "cell_type": "code",
   "execution_count": 7,
   "metadata": {
    "id": "BCLkDT1D09a5"
   },
   "outputs": [],
   "source": [
    "! mkdir ~/.kaggle"
   ]
  },
  {
   "cell_type": "code",
   "execution_count": 8,
   "metadata": {
    "id": "hAqh9chf0_0N"
   },
   "outputs": [],
   "source": [
    "!cp kaggle.json ~/.kaggle/"
   ]
  },
  {
   "cell_type": "code",
   "execution_count": 9,
   "metadata": {
    "colab": {
     "base_uri": "https://localhost:8080/"
    },
    "id": "t6hitlea7e1f",
    "outputId": "6b80c8c7-c5ff-486c-c48f-7ece5ce0689a"
   },
   "outputs": [
    {
     "name": "stdout",
     "output_type": "stream",
     "text": [
      "kaggle.json\n"
     ]
    }
   ],
   "source": [
    "!ls ~/.kaggle"
   ]
  },
  {
   "cell_type": "code",
   "execution_count": 10,
   "metadata": {
    "id": "GSkmf6Zc4dNv"
   },
   "outputs": [],
   "source": [
    "!chmod 600 /root/.kaggle/kaggle.json"
   ]
  },
  {
   "cell_type": "code",
   "execution_count": 11,
   "metadata": {
    "colab": {
     "base_uri": "https://localhost:8080/"
    },
    "id": "Dv7QkLHU4nI2",
    "outputId": "b00c04a5-17a5-4a0e-e2d6-41fbed00ee0c"
   },
   "outputs": [
    {
     "name": "stdout",
     "output_type": "stream",
     "text": [
      "Downloading ukraine-russian-crisis-twitter-dataset-1-2-m-rows.zip to /content\n",
      "100% 7.93G/7.95G [03:04<00:00, 58.9MB/s]\n",
      "100% 7.95G/7.95G [03:04<00:00, 46.3MB/s]\n"
     ]
    }
   ],
   "source": [
    "!kaggle datasets download -d bwandowando/ukraine-russian-crisis-twitter-dataset-1-2-m-rows"
   ]
  },
  {
   "cell_type": "code",
   "execution_count": 12,
   "metadata": {
    "colab": {
     "base_uri": "https://localhost:8080/"
    },
    "id": "lBspS-4-9Xgp",
    "outputId": "c57be154-c7eb-4d49-bf73-dc933d50f1a8"
   },
   "outputs": [
    {
     "name": "stdout",
     "output_type": "stream",
     "text": [
      "kaggle.json\n",
      "sample_data\n",
      "spark-3.0.3-bin-hadoop2.7\n",
      "spark-3.0.3-bin-hadoop2.7.tgz\n",
      "ukraine-russian-crisis-twitter-dataset-1-2-m-rows.zip\n"
     ]
    }
   ],
   "source": [
    "!ls"
   ]
  },
  {
   "cell_type": "code",
   "execution_count": 13,
   "metadata": {
    "colab": {
     "base_uri": "https://localhost:8080/"
    },
    "id": "JOCKUrFx22Sp",
    "outputId": "27dc17a4-62cd-47a6-c833-de229972119b"
   },
   "outputs": [
    {
     "name": "stdout",
     "output_type": "stream",
     "text": [
      "Archive:  ukraine-russian-crisis-twitter-dataset-1-2-m-rows.zip\n",
      "  inflating: 0401_UkraineCombinedTweetsDeduped.csv.gzip  \n",
      "  inflating: 0402_UkraineCombinedTweetsDeduped.csv.gzip  \n",
      "  inflating: 0403_UkraineCombinedTweetsDeduped.csv.gzip  \n",
      "  inflating: 0404_UkraineCombinedTweetsDeduped.csv.gzip  \n",
      "  inflating: 0405_UkraineCombinedTweetsDeduped.csv.gzip  \n",
      "  inflating: 0406_UkraineCombinedTweetsDeduped.csv.gzip  \n",
      "  inflating: 0407_UkraineCombinedTweetsDeduped.csv.gzip  \n",
      "  inflating: 0408_UkraineCombinedTweetsDeduped.csv.gzip  \n",
      "  inflating: 0409_UkraineCombinedTweetsDeduped.csv.gzip  \n",
      "  inflating: 0410_UkraineCombinedTweetsDeduped.csv.gzip  \n",
      "  inflating: 0411_UkraineCombinedTweetsDeduped.csv.gzip  \n",
      "  inflating: 0412_UkraineCombinedTweetsDeduped.csv.gzip  \n",
      "  inflating: 0413_UkraineCombinedTweetsDeduped.csv.gzip  \n",
      "  inflating: 0414_UkraineCombinedTweetsDeduped.csv.gzip  \n",
      "  inflating: 0415_UkraineCombinedTweetsDeduped.csv.gzip  \n",
      "  inflating: 0416_UkraineCombinedTweetsDeduped.csv.gzip  \n",
      "  inflating: 0417_UkraineCombinedTweetsDeduped.csv.gzip  \n",
      "  inflating: 0418_UkraineCombinedTweetsDeduped.csv.gzip  \n",
      "  inflating: 0419_UkraineCombinedTweetsDeduped.csv.gzip  \n",
      "  inflating: 0420_UkraineCombinedTweetsDeduped.csv.gzip  \n",
      "  inflating: 0421_UkraineCombinedTweetsDeduped.csv.gzip  \n",
      "  inflating: 0422_UkraineCombinedTweetsDeduped.csv.gzip  \n",
      "  inflating: 0423_UkraineCombinedTweetsDeduped.csv.gzip  \n",
      "  inflating: 0424_UkraineCombinedTweetsDeduped.csv.gzip  \n",
      "  inflating: 0425_UkraineCombinedTweetsDeduped.csv.gzip  \n",
      "  inflating: 0426_UkraineCombinedTweetsDeduped.csv.gzip  \n",
      "  inflating: 0427_UkraineCombinedTweetsDeduped.csv.gzip  \n",
      "  inflating: 0428_UkraineCombinedTweetsDeduped.csv.gzip  \n",
      "  inflating: 0429_UkraineCombinedTweetsDeduped.csv.gzip  \n",
      "  inflating: 0430_UkraineCombinedTweetsDeduped.csv.gzip  \n",
      "  inflating: 0501_UkraineCombinedTweetsDeduped.csv.gzip  \n",
      "  inflating: 0502_UkraineCombinedTweetsDeduped.csv.gzip  \n",
      "  inflating: 0503_UkraineCombinedTweetsDeduped.csv.gzip  \n",
      "  inflating: 0504_UkraineCombinedTweetsDeduped.csv.gzip  \n",
      "  inflating: 0505_to_0507_UkraineCombinedTweetsDeduped.csv.gzip  \n",
      "  inflating: 0508_UkraineCombinedTweetsDeduped.csv.gzip  \n",
      "  inflating: 0509_UkraineCombinedTweetsDeduped.csv.gzip  \n",
      "  inflating: 0510_UkraineCombinedTweetsDeduped.csv.gzip  \n",
      "  inflating: 0511_UkraineCombinedTweetsDeduped.csv.gzip  \n",
      "  inflating: 0512_UkraineCombinedTweetsDeduped.csv.gzip  \n",
      "  inflating: 0513_UkraineCombinedTweetsDeduped.csv.gzip  \n",
      "  inflating: 0514_UkraineCombinedTweetsDeduped.csv.gzip  \n",
      "  inflating: 0515_UkraineCombinedTweetsDeduped.csv.gzip  \n",
      "  inflating: 0516_UkraineCombinedTweetsDeduped.csv.gzip  \n",
      "  inflating: 0517_UkraineCombinedTweetsDeduped.csv.gzip  \n",
      "  inflating: 0518_UkraineCombinedTweetsDeduped.csv.gzip  \n",
      "  inflating: 0519_UkraineCombinedTweetsDeduped.csv.gzip  \n",
      "  inflating: 0520_UkraineCombinedTweetsDeduped.csv.gzip  \n",
      "  inflating: 0521_UkraineCombinedTweetsDeduped.csv.gzip  \n",
      "  inflating: 0522_UkraineCombinedTweetsDeduped.csv.gzip  \n",
      "  inflating: 0523_UkraineCombinedTweetsDeduped.csv.gzip  \n",
      "  inflating: 0524_UkraineCombinedTweetsDeduped.csv.gzip  \n",
      "  inflating: 0525_UkraineCombinedTweetsDeduped.csv.gzip  \n",
      "  inflating: 0526_UkraineCombinedTweetsDeduped.csv.gzip  \n",
      "  inflating: 0527_UkraineCombinedTweetsDeduped.csv.gzip  \n",
      "  inflating: 0528_UkraineCombinedTweetsDeduped.csv.gzip  \n",
      "  inflating: 0529_UkraineCombinedTweetsDeduped.csv.gzip  \n",
      "  inflating: UkraineCombinedTweetsDeduped20220227-131611.csv.gzip  \n",
      "  inflating: UkraineCombinedTweetsDeduped_FEB27.csv.gzip  \n",
      "  inflating: UkraineCombinedTweetsDeduped_FEB28_part1.csv.gzip  \n",
      "  inflating: UkraineCombinedTweetsDeduped_FEB28_part2.csv.gzip  \n",
      "  inflating: UkraineCombinedTweetsDeduped_MAR01.csv.gzip  \n",
      "  inflating: UkraineCombinedTweetsDeduped_MAR02.csv.gzip  \n",
      "  inflating: UkraineCombinedTweetsDeduped_MAR03.csv.gzip  \n",
      "  inflating: UkraineCombinedTweetsDeduped_MAR04.csv.gzip  \n",
      "  inflating: UkraineCombinedTweetsDeduped_MAR05.csv.gzip  \n",
      "  inflating: UkraineCombinedTweetsDeduped_MAR06.csv.gzip  \n",
      "  inflating: UkraineCombinedTweetsDeduped_MAR07.csv.gzip  \n",
      "  inflating: UkraineCombinedTweetsDeduped_MAR08.csv.gzip  \n",
      "  inflating: UkraineCombinedTweetsDeduped_MAR09.csv.gzip  \n",
      "  inflating: UkraineCombinedTweetsDeduped_MAR10.csv.gzip  \n",
      "  inflating: UkraineCombinedTweetsDeduped_MAR11.csv.gzip  \n",
      "  inflating: UkraineCombinedTweetsDeduped_MAR12.csv.gzip  \n",
      "  inflating: UkraineCombinedTweetsDeduped_MAR13.csv.gzip  \n",
      "  inflating: UkraineCombinedTweetsDeduped_MAR14.csv.gzip  \n",
      "  inflating: UkraineCombinedTweetsDeduped_MAR15.csv.gzip  \n",
      "  inflating: UkraineCombinedTweetsDeduped_MAR16.csv.gzip  \n",
      "  inflating: UkraineCombinedTweetsDeduped_MAR17.csv.gzip  \n",
      "  inflating: UkraineCombinedTweetsDeduped_MAR18.csv.gzip  \n",
      "  inflating: UkraineCombinedTweetsDeduped_MAR19.csv.gzip  \n",
      "  inflating: UkraineCombinedTweetsDeduped_MAR20.csv.gzip  \n",
      "  inflating: UkraineCombinedTweetsDeduped_MAR21.csv.gzip  \n",
      "  inflating: UkraineCombinedTweetsDeduped_MAR22.csv.gzip  \n",
      "  inflating: UkraineCombinedTweetsDeduped_MAR23.csv.gzip  \n",
      "  inflating: UkraineCombinedTweetsDeduped_MAR24.csv.gzip  \n",
      "  inflating: UkraineCombinedTweetsDeduped_MAR25.csv.gzip  \n",
      "  inflating: UkraineCombinedTweetsDeduped_MAR26.csv.gzip  \n",
      "  inflating: UkraineCombinedTweetsDeduped_MAR27_to_28.csv.gzip  \n",
      "  inflating: UkraineCombinedTweetsDeduped_MAR29.csv.gzip  \n",
      "  inflating: UkraineCombinedTweetsDeduped_MAR30_REAL.csv.gzip  \n",
      "  inflating: UkraineCombinedTweetsDeduped_MAR31.csv.gzip  \n"
     ]
    }
   ],
   "source": [
    "!unzip ukraine-russian-crisis-twitter-dataset-1-2-m-rows.zip"
   ]
  },
  {
   "cell_type": "markdown",
   "metadata": {
    "id": "r9XHPiaqZ0zz"
   },
   "source": [
    "## Use the data"
   ]
  },
  {
   "cell_type": "markdown",
   "metadata": {
    "id": "Q2RBBWPHZx4r"
   },
   "source": [
    "________________________________________________________________________"
   ]
  },
  {
   "cell_type": "code",
   "execution_count": 14,
   "metadata": {
    "id": "bNY3XvoLw3md"
   },
   "outputs": [],
   "source": [
    "import numpy as np\n",
    "import pandas as pd\n",
    "import csv\n",
    "import os\n",
    "import warnings"
   ]
  },
  {
   "cell_type": "code",
   "execution_count": 15,
   "metadata": {
    "colab": {
     "base_uri": "https://localhost:8080/"
    },
    "id": "Hh2IS9SM9pYh",
    "outputId": "f7994265-212e-4098-ff58-f1467f73377a"
   },
   "outputs": [
    {
     "name": "stderr",
     "output_type": "stream",
     "text": [
      "/usr/local/lib/python3.7/dist-packages/IPython/core/interactiveshell.py:2882: DtypeWarning: Columns (15) have mixed types.Specify dtype option on import or set low_memory=False.\n",
      "  exec(code_obj, self.user_global_ns, self.user_ns)\n"
     ]
    }
   ],
   "source": [
    "filename = r\"0401_UkraineCombinedTweetsDeduped.csv.gzip\"\n",
    "df = pd.read_csv(filename, compression='gzip', index_col=0,encoding='utf-8', quoting=csv.QUOTE_ALL)"
   ]
  },
  {
   "cell_type": "code",
   "execution_count": 16,
   "metadata": {
    "colab": {
     "base_uri": "https://localhost:8080/",
     "height": 582
    },
    "id": "JCM3URp35liu",
    "outputId": "c0b340af-c8c4-482b-9957-67291e4617ca"
   },
   "outputs": [
    {
     "data": {
      "text/html": [
       "\n",
       "  <div id=\"df-30b5006c-433f-42f2-9b41-e258d1b47f98\">\n",
       "    <div class=\"colab-df-container\">\n",
       "      <div>\n",
       "<style scoped>\n",
       "    .dataframe tbody tr th:only-of-type {\n",
       "        vertical-align: middle;\n",
       "    }\n",
       "\n",
       "    .dataframe tbody tr th {\n",
       "        vertical-align: top;\n",
       "    }\n",
       "\n",
       "    .dataframe thead th {\n",
       "        text-align: right;\n",
       "    }\n",
       "</style>\n",
       "<table border=\"1\" class=\"dataframe\">\n",
       "  <thead>\n",
       "    <tr style=\"text-align: right;\">\n",
       "      <th></th>\n",
       "      <th>0</th>\n",
       "      <th>1</th>\n",
       "    </tr>\n",
       "  </thead>\n",
       "  <tbody>\n",
       "    <tr>\n",
       "      <th>userid</th>\n",
       "      <td>16882774</td>\n",
       "      <td>3205296069</td>\n",
       "    </tr>\n",
       "    <tr>\n",
       "      <th>username</th>\n",
       "      <td>Yaniela</td>\n",
       "      <td>gregffff</td>\n",
       "    </tr>\n",
       "    <tr>\n",
       "      <th>acctdesc</th>\n",
       "      <td>Animal lover, supports those who fight injusti...</td>\n",
       "      <td>NaN</td>\n",
       "    </tr>\n",
       "    <tr>\n",
       "      <th>location</th>\n",
       "      <td>Hawaii</td>\n",
       "      <td>NaN</td>\n",
       "    </tr>\n",
       "    <tr>\n",
       "      <th>following</th>\n",
       "      <td>1158</td>\n",
       "      <td>122</td>\n",
       "    </tr>\n",
       "    <tr>\n",
       "      <th>followers</th>\n",
       "      <td>392</td>\n",
       "      <td>881</td>\n",
       "    </tr>\n",
       "    <tr>\n",
       "      <th>totaltweets</th>\n",
       "      <td>88366</td>\n",
       "      <td>99853</td>\n",
       "    </tr>\n",
       "    <tr>\n",
       "      <th>usercreatedts</th>\n",
       "      <td>2008-10-21 07:34:04.000000</td>\n",
       "      <td>2015-04-25 11:24:34.000000</td>\n",
       "    </tr>\n",
       "    <tr>\n",
       "      <th>tweetid</th>\n",
       "      <td>1509681950042198030</td>\n",
       "      <td>1509681950151348229</td>\n",
       "    </tr>\n",
       "    <tr>\n",
       "      <th>tweetcreatedts</th>\n",
       "      <td>2022-04-01 00:00:00.000000</td>\n",
       "      <td>2022-04-01 00:00:00.000000</td>\n",
       "    </tr>\n",
       "    <tr>\n",
       "      <th>retweetcount</th>\n",
       "      <td>3412</td>\n",
       "      <td>100</td>\n",
       "    </tr>\n",
       "    <tr>\n",
       "      <th>text</th>\n",
       "      <td>⚡The Ukrainian Air Force would like to address...</td>\n",
       "      <td>Chernihiv oblast. Ukrainians welcome their lib...</td>\n",
       "    </tr>\n",
       "    <tr>\n",
       "      <th>hashtags</th>\n",
       "      <td>[]</td>\n",
       "      <td>[{'text': 'russianinvasion', 'indices': [77, 9...</td>\n",
       "    </tr>\n",
       "    <tr>\n",
       "      <th>language</th>\n",
       "      <td>en</td>\n",
       "      <td>en</td>\n",
       "    </tr>\n",
       "    <tr>\n",
       "      <th>coordinates</th>\n",
       "      <td>NaN</td>\n",
       "      <td>NaN</td>\n",
       "    </tr>\n",
       "    <tr>\n",
       "      <th>favorite_count</th>\n",
       "      <td>0</td>\n",
       "      <td>0</td>\n",
       "    </tr>\n",
       "    <tr>\n",
       "      <th>extractedts</th>\n",
       "      <td>2022-04-01 00:44:20.097867</td>\n",
       "      <td>2022-04-01 00:09:37.148770</td>\n",
       "    </tr>\n",
       "  </tbody>\n",
       "</table>\n",
       "</div>\n",
       "      <button class=\"colab-df-convert\" onclick=\"convertToInteractive('df-30b5006c-433f-42f2-9b41-e258d1b47f98')\"\n",
       "              title=\"Convert this dataframe to an interactive table.\"\n",
       "              style=\"display:none;\">\n",
       "        \n",
       "  <svg xmlns=\"http://www.w3.org/2000/svg\" height=\"24px\"viewBox=\"0 0 24 24\"\n",
       "       width=\"24px\">\n",
       "    <path d=\"M0 0h24v24H0V0z\" fill=\"none\"/>\n",
       "    <path d=\"M18.56 5.44l.94 2.06.94-2.06 2.06-.94-2.06-.94-.94-2.06-.94 2.06-2.06.94zm-11 1L8.5 8.5l.94-2.06 2.06-.94-2.06-.94L8.5 2.5l-.94 2.06-2.06.94zm10 10l.94 2.06.94-2.06 2.06-.94-2.06-.94-.94-2.06-.94 2.06-2.06.94z\"/><path d=\"M17.41 7.96l-1.37-1.37c-.4-.4-.92-.59-1.43-.59-.52 0-1.04.2-1.43.59L10.3 9.45l-7.72 7.72c-.78.78-.78 2.05 0 2.83L4 21.41c.39.39.9.59 1.41.59.51 0 1.02-.2 1.41-.59l7.78-7.78 2.81-2.81c.8-.78.8-2.07 0-2.86zM5.41 20L4 18.59l7.72-7.72 1.47 1.35L5.41 20z\"/>\n",
       "  </svg>\n",
       "      </button>\n",
       "      \n",
       "  <style>\n",
       "    .colab-df-container {\n",
       "      display:flex;\n",
       "      flex-wrap:wrap;\n",
       "      gap: 12px;\n",
       "    }\n",
       "\n",
       "    .colab-df-convert {\n",
       "      background-color: #E8F0FE;\n",
       "      border: none;\n",
       "      border-radius: 50%;\n",
       "      cursor: pointer;\n",
       "      display: none;\n",
       "      fill: #1967D2;\n",
       "      height: 32px;\n",
       "      padding: 0 0 0 0;\n",
       "      width: 32px;\n",
       "    }\n",
       "\n",
       "    .colab-df-convert:hover {\n",
       "      background-color: #E2EBFA;\n",
       "      box-shadow: 0px 1px 2px rgba(60, 64, 67, 0.3), 0px 1px 3px 1px rgba(60, 64, 67, 0.15);\n",
       "      fill: #174EA6;\n",
       "    }\n",
       "\n",
       "    [theme=dark] .colab-df-convert {\n",
       "      background-color: #3B4455;\n",
       "      fill: #D2E3FC;\n",
       "    }\n",
       "\n",
       "    [theme=dark] .colab-df-convert:hover {\n",
       "      background-color: #434B5C;\n",
       "      box-shadow: 0px 1px 3px 1px rgba(0, 0, 0, 0.15);\n",
       "      filter: drop-shadow(0px 1px 2px rgba(0, 0, 0, 0.3));\n",
       "      fill: #FFFFFF;\n",
       "    }\n",
       "  </style>\n",
       "\n",
       "      <script>\n",
       "        const buttonEl =\n",
       "          document.querySelector('#df-30b5006c-433f-42f2-9b41-e258d1b47f98 button.colab-df-convert');\n",
       "        buttonEl.style.display =\n",
       "          google.colab.kernel.accessAllowed ? 'block' : 'none';\n",
       "\n",
       "        async function convertToInteractive(key) {\n",
       "          const element = document.querySelector('#df-30b5006c-433f-42f2-9b41-e258d1b47f98');\n",
       "          const dataTable =\n",
       "            await google.colab.kernel.invokeFunction('convertToInteractive',\n",
       "                                                     [key], {});\n",
       "          if (!dataTable) return;\n",
       "\n",
       "          const docLinkHtml = 'Like what you see? Visit the ' +\n",
       "            '<a target=\"_blank\" href=https://colab.research.google.com/notebooks/data_table.ipynb>data table notebook</a>'\n",
       "            + ' to learn more about interactive tables.';\n",
       "          element.innerHTML = '';\n",
       "          dataTable['output_type'] = 'display_data';\n",
       "          await google.colab.output.renderOutput(dataTable, element);\n",
       "          const docLink = document.createElement('div');\n",
       "          docLink.innerHTML = docLinkHtml;\n",
       "          element.appendChild(docLink);\n",
       "        }\n",
       "      </script>\n",
       "    </div>\n",
       "  </div>\n",
       "  "
      ],
      "text/plain": [
       "                                                                0  \\\n",
       "userid                                                   16882774   \n",
       "username                                                  Yaniela   \n",
       "acctdesc        Animal lover, supports those who fight injusti...   \n",
       "location                                                   Hawaii   \n",
       "following                                                    1158   \n",
       "followers                                                     392   \n",
       "totaltweets                                                 88366   \n",
       "usercreatedts                          2008-10-21 07:34:04.000000   \n",
       "tweetid                                       1509681950042198030   \n",
       "tweetcreatedts                         2022-04-01 00:00:00.000000   \n",
       "retweetcount                                                 3412   \n",
       "text            ⚡The Ukrainian Air Force would like to address...   \n",
       "hashtags                                                       []   \n",
       "language                                                       en   \n",
       "coordinates                                                   NaN   \n",
       "favorite_count                                                  0   \n",
       "extractedts                            2022-04-01 00:44:20.097867   \n",
       "\n",
       "                                                                1  \n",
       "userid                                                 3205296069  \n",
       "username                                                 gregffff  \n",
       "acctdesc                                                      NaN  \n",
       "location                                                      NaN  \n",
       "following                                                     122  \n",
       "followers                                                     881  \n",
       "totaltweets                                                 99853  \n",
       "usercreatedts                          2015-04-25 11:24:34.000000  \n",
       "tweetid                                       1509681950151348229  \n",
       "tweetcreatedts                         2022-04-01 00:00:00.000000  \n",
       "retweetcount                                                  100  \n",
       "text            Chernihiv oblast. Ukrainians welcome their lib...  \n",
       "hashtags        [{'text': 'russianinvasion', 'indices': [77, 9...  \n",
       "language                                                       en  \n",
       "coordinates                                                   NaN  \n",
       "favorite_count                                                  0  \n",
       "extractedts                            2022-04-01 00:09:37.148770  "
      ]
     },
     "execution_count": 16,
     "metadata": {},
     "output_type": "execute_result"
    }
   ],
   "source": [
    "df[0:2].T"
   ]
  },
  {
   "cell_type": "code",
   "execution_count": 17,
   "metadata": {
    "colab": {
     "base_uri": "https://localhost:8080/",
     "height": 206
    },
    "id": "YBpT85eV1DUc",
    "outputId": "a7dd26fb-be72-4cb7-e304-2960ed3c59fa"
   },
   "outputs": [
    {
     "data": {
      "text/html": [
       "\n",
       "  <div id=\"df-475d4ae5-591f-4547-a1b1-2de0914a8d24\">\n",
       "    <div class=\"colab-df-container\">\n",
       "      <div>\n",
       "<style scoped>\n",
       "    .dataframe tbody tr th:only-of-type {\n",
       "        vertical-align: middle;\n",
       "    }\n",
       "\n",
       "    .dataframe tbody tr th {\n",
       "        vertical-align: top;\n",
       "    }\n",
       "\n",
       "    .dataframe thead th {\n",
       "        text-align: right;\n",
       "    }\n",
       "</style>\n",
       "<table border=\"1\" class=\"dataframe\">\n",
       "  <thead>\n",
       "    <tr style=\"text-align: right;\">\n",
       "      <th></th>\n",
       "      <th>tweetid</th>\n",
       "      <th>text</th>\n",
       "      <th>hashtags</th>\n",
       "      <th>language</th>\n",
       "    </tr>\n",
       "  </thead>\n",
       "  <tbody>\n",
       "    <tr>\n",
       "      <th>0</th>\n",
       "      <td>1509681950042198030</td>\n",
       "      <td>⚡The Ukrainian Air Force would like to address...</td>\n",
       "      <td>[]</td>\n",
       "      <td>en</td>\n",
       "    </tr>\n",
       "    <tr>\n",
       "      <th>1</th>\n",
       "      <td>1509681950151348229</td>\n",
       "      <td>Chernihiv oblast. Ukrainians welcome their lib...</td>\n",
       "      <td>[{'text': 'russianinvasion', 'indices': [77, 9...</td>\n",
       "      <td>en</td>\n",
       "    </tr>\n",
       "    <tr>\n",
       "      <th>2</th>\n",
       "      <td>1509681950683926556</td>\n",
       "      <td>America 🇺🇸 is preparing for something worse th...</td>\n",
       "      <td>[{'text': 'RussianUkrainianWar', 'indices': [7...</td>\n",
       "      <td>en</td>\n",
       "    </tr>\n",
       "    <tr>\n",
       "      <th>3</th>\n",
       "      <td>1509681951116046336</td>\n",
       "      <td>JUST IN: #Anonymous has hacked &amp;amp; released ...</td>\n",
       "      <td>[{'text': 'Anonymous', 'indices': [25, 35]}]</td>\n",
       "      <td>en</td>\n",
       "    </tr>\n",
       "    <tr>\n",
       "      <th>4</th>\n",
       "      <td>1509681951304990720</td>\n",
       "      <td>***PUBLIC MINT NOW LIVE***\\n\\nFor \\n@billionai...</td>\n",
       "      <td>[]</td>\n",
       "      <td>en</td>\n",
       "    </tr>\n",
       "  </tbody>\n",
       "</table>\n",
       "</div>\n",
       "      <button class=\"colab-df-convert\" onclick=\"convertToInteractive('df-475d4ae5-591f-4547-a1b1-2de0914a8d24')\"\n",
       "              title=\"Convert this dataframe to an interactive table.\"\n",
       "              style=\"display:none;\">\n",
       "        \n",
       "  <svg xmlns=\"http://www.w3.org/2000/svg\" height=\"24px\"viewBox=\"0 0 24 24\"\n",
       "       width=\"24px\">\n",
       "    <path d=\"M0 0h24v24H0V0z\" fill=\"none\"/>\n",
       "    <path d=\"M18.56 5.44l.94 2.06.94-2.06 2.06-.94-2.06-.94-.94-2.06-.94 2.06-2.06.94zm-11 1L8.5 8.5l.94-2.06 2.06-.94-2.06-.94L8.5 2.5l-.94 2.06-2.06.94zm10 10l.94 2.06.94-2.06 2.06-.94-2.06-.94-.94-2.06-.94 2.06-2.06.94z\"/><path d=\"M17.41 7.96l-1.37-1.37c-.4-.4-.92-.59-1.43-.59-.52 0-1.04.2-1.43.59L10.3 9.45l-7.72 7.72c-.78.78-.78 2.05 0 2.83L4 21.41c.39.39.9.59 1.41.59.51 0 1.02-.2 1.41-.59l7.78-7.78 2.81-2.81c.8-.78.8-2.07 0-2.86zM5.41 20L4 18.59l7.72-7.72 1.47 1.35L5.41 20z\"/>\n",
       "  </svg>\n",
       "      </button>\n",
       "      \n",
       "  <style>\n",
       "    .colab-df-container {\n",
       "      display:flex;\n",
       "      flex-wrap:wrap;\n",
       "      gap: 12px;\n",
       "    }\n",
       "\n",
       "    .colab-df-convert {\n",
       "      background-color: #E8F0FE;\n",
       "      border: none;\n",
       "      border-radius: 50%;\n",
       "      cursor: pointer;\n",
       "      display: none;\n",
       "      fill: #1967D2;\n",
       "      height: 32px;\n",
       "      padding: 0 0 0 0;\n",
       "      width: 32px;\n",
       "    }\n",
       "\n",
       "    .colab-df-convert:hover {\n",
       "      background-color: #E2EBFA;\n",
       "      box-shadow: 0px 1px 2px rgba(60, 64, 67, 0.3), 0px 1px 3px 1px rgba(60, 64, 67, 0.15);\n",
       "      fill: #174EA6;\n",
       "    }\n",
       "\n",
       "    [theme=dark] .colab-df-convert {\n",
       "      background-color: #3B4455;\n",
       "      fill: #D2E3FC;\n",
       "    }\n",
       "\n",
       "    [theme=dark] .colab-df-convert:hover {\n",
       "      background-color: #434B5C;\n",
       "      box-shadow: 0px 1px 3px 1px rgba(0, 0, 0, 0.15);\n",
       "      filter: drop-shadow(0px 1px 2px rgba(0, 0, 0, 0.3));\n",
       "      fill: #FFFFFF;\n",
       "    }\n",
       "  </style>\n",
       "\n",
       "      <script>\n",
       "        const buttonEl =\n",
       "          document.querySelector('#df-475d4ae5-591f-4547-a1b1-2de0914a8d24 button.colab-df-convert');\n",
       "        buttonEl.style.display =\n",
       "          google.colab.kernel.accessAllowed ? 'block' : 'none';\n",
       "\n",
       "        async function convertToInteractive(key) {\n",
       "          const element = document.querySelector('#df-475d4ae5-591f-4547-a1b1-2de0914a8d24');\n",
       "          const dataTable =\n",
       "            await google.colab.kernel.invokeFunction('convertToInteractive',\n",
       "                                                     [key], {});\n",
       "          if (!dataTable) return;\n",
       "\n",
       "          const docLinkHtml = 'Like what you see? Visit the ' +\n",
       "            '<a target=\"_blank\" href=https://colab.research.google.com/notebooks/data_table.ipynb>data table notebook</a>'\n",
       "            + ' to learn more about interactive tables.';\n",
       "          element.innerHTML = '';\n",
       "          dataTable['output_type'] = 'display_data';\n",
       "          await google.colab.output.renderOutput(dataTable, element);\n",
       "          const docLink = document.createElement('div');\n",
       "          docLink.innerHTML = docLinkHtml;\n",
       "          element.appendChild(docLink);\n",
       "        }\n",
       "      </script>\n",
       "    </div>\n",
       "  </div>\n",
       "  "
      ],
      "text/plain": [
       "               tweetid                                               text  \\\n",
       "0  1509681950042198030  ⚡The Ukrainian Air Force would like to address...   \n",
       "1  1509681950151348229  Chernihiv oblast. Ukrainians welcome their lib...   \n",
       "2  1509681950683926556  America 🇺🇸 is preparing for something worse th...   \n",
       "3  1509681951116046336  JUST IN: #Anonymous has hacked &amp; released ...   \n",
       "4  1509681951304990720  ***PUBLIC MINT NOW LIVE***\\n\\nFor \\n@billionai...   \n",
       "\n",
       "                                            hashtags language  \n",
       "0                                                 []       en  \n",
       "1  [{'text': 'russianinvasion', 'indices': [77, 9...       en  \n",
       "2  [{'text': 'RussianUkrainianWar', 'indices': [7...       en  \n",
       "3       [{'text': 'Anonymous', 'indices': [25, 35]}]       en  \n",
       "4                                                 []       en  "
      ]
     },
     "execution_count": 17,
     "metadata": {},
     "output_type": "execute_result"
    }
   ],
   "source": [
    "df = df[['tweetid', 'text', 'hashtags','language']]\n",
    "df.head()"
   ]
  },
  {
   "cell_type": "code",
   "execution_count": 18,
   "metadata": {
    "colab": {
     "base_uri": "https://localhost:8080/"
    },
    "id": "g0vF6KiT8YAY",
    "outputId": "230bf665-2f23-4991-971f-98295f4b8733"
   },
   "outputs": [
    {
     "name": "stdout",
     "output_type": "stream",
     "text": [
      "0    ⚡The Ukrainian Air Force would like to address misinformation published in multiple Western media outlets regarding the situation in the 🇺🇦 sky and support from our @NATO allies. \\nMore in 🧵(1/16)\\n#ProtectUАSky #StopRussia #UkraineUnderAttaсk\n",
      "Name: text, dtype: object 0    []\n",
      "Name: hashtags, dtype: object\n"
     ]
    }
   ],
   "source": [
    "pd.options.display.max_colwidth = 1200\n",
    "print(df[df['tweetid']==\t1509681950042198030][\"text\"],df[df['tweetid']==\t1509681950042198030][\"hashtags\"])"
   ]
  },
  {
   "cell_type": "markdown",
   "metadata": {
    "id": "HEfNBiN--8NF"
   },
   "source": [
    "As we can see in the previous cell, the tweet has the hashtag #StopRussia #UkraineUnderAttaсk BUT the dataframe (1st tuple) sais there are no hashtag in the tweet. We will recover form this situation by extractin the hashatgs directly from the filed \"text\" and not considering the (wrong) attribute \"hashtags\"."
   ]
  },
  {
   "cell_type": "code",
   "execution_count": 21,
   "metadata": {
    "id": "N1KxUUGAlv_X"
   },
   "outputs": [],
   "source": [
    "from pyspark.sql.types import *\n",
    "\n",
    "df = df[['tweetid', 'text','language']] #Taking out the field hashtags\n",
    "\n",
    "schema = StructType([StructField(\"tweetid\", StringType(), True)\\\n",
    "                   ,StructField(\"text\", StringType(), True)\\\n",
    "                   ,StructField(\"language\", StringType(), True)])  #We will use this field to filter out non english tweets\n",
    "\n",
    "#create spark dataframe using schema\n",
    "df_spark = spark.createDataFrame(df,schema=schema)"
   ]
  },
  {
   "cell_type": "code",
   "execution_count": 22,
   "metadata": {
    "colab": {
     "base_uri": "https://localhost:8080/"
    },
    "id": "Tv5GCx1alwD3",
    "outputId": "aeee10fa-3ae1-4c0e-e169-f13bb1d91f02"
   },
   "outputs": [
    {
     "name": "stdout",
     "output_type": "stream",
     "text": [
      "+-------------------+--------------------+--------+\n",
      "|            tweetid|                text|language|\n",
      "+-------------------+--------------------+--------+\n",
      "|1509681950042198030|⚡The Ukrainian Ai...|      en|\n",
      "|1509681950151348229|Chernihiv oblast....|      en|\n",
      "|1509681950683926556|America 🇺🇸 is p...|      en|\n",
      "|1509681951116046336|JUST IN: #Anonymo...|      en|\n",
      "|1509681951304990720|***PUBLIC MINT NO...|      en|\n",
      "|1509681952000937999|The Amazing story...|      en|\n",
      "|1509681952978210849|&amp;quot;How we ...|      en|\n",
      "|1509681953053843466|India's purchase ...|      en|\n",
      "|1509681953091457035|The most basic te...|      en|\n",
      "|1509681953418711050|\"The image that R...|      en|\n",
      "|1509681953418752008|#Russia’s Preside...|      en|\n",
      "|1509681953636700160|Sad to read of th...|      en|\n",
      "|1509681953947074560|الرئيس الروسي يصع...|      ar|\n",
      "|1509681954488303623|Tank T-34 at the ...|      en|\n",
      "|1509681954647543824|The #Anonymous co...|      en|\n",
      "|1509681955519938561|#Internacional 🇷...|      es|\n",
      "|1509681955603845120|***PUBLIC MINT NO...|      en|\n",
      "|1509681956149104652|#UkraineWar \n",
      "#Rus...|      en|\n",
      "|1509681956224602150|#Putin: Rubleyle ...|      tr|\n",
      "|1509681957524979718|Read: https://t.c...|      en|\n",
      "+-------------------+--------------------+--------+\n",
      "only showing top 20 rows\n",
      "\n"
     ]
    }
   ],
   "source": [
    "df_spark.show()"
   ]
  },
  {
   "cell_type": "markdown",
   "metadata": {
    "id": "UABfyrnmWyLr"
   },
   "source": [
    "## RDD TEXT SERVE PER PRENDERE GLI HASHTAG DAL TWEET IN QUANTO LA COLONNA HASHTAG DEL DATASET NON è ACCURATA"
   ]
  },
  {
   "cell_type": "markdown",
   "metadata": {
    "id": "f6n2gKfOGjGT"
   },
   "source": [
    "We will now use a variable \"rdd_text\" to extract hashtags from the tweets texts"
   ]
  },
  {
   "cell_type": "code",
   "execution_count": 31,
   "metadata": {
    "colab": {
     "base_uri": "https://localhost:8080/"
    },
    "id": "-Om2zbCe9yHH",
    "outputId": "b04e5327-a050-42ca-a32d-3e484a985c7a"
   },
   "outputs": [
    {
     "name": "stdout",
     "output_type": "stream",
     "text": [
      "[nltk_data] Downloading package punkt to /root/nltk_data...\n",
      "[nltk_data]   Package punkt is already up-to-date!\n"
     ]
    },
    {
     "data": {
      "text/plain": [
       "('1509681950042198030',\n",
       " ['⚡The',\n",
       "  'Ukrainian',\n",
       "  'Air',\n",
       "  'Force',\n",
       "  'would',\n",
       "  'like',\n",
       "  'to',\n",
       "  'address',\n",
       "  'misinformation',\n",
       "  'published',\n",
       "  'in',\n",
       "  'multiple',\n",
       "  'Western',\n",
       "  'media',\n",
       "  'outlets',\n",
       "  'regarding',\n",
       "  'the',\n",
       "  'situation',\n",
       "  'in',\n",
       "  'the',\n",
       "  '🇺🇦',\n",
       "  'sky',\n",
       "  'and',\n",
       "  'support',\n",
       "  'from',\n",
       "  'our',\n",
       "  '@',\n",
       "  'NATO',\n",
       "  'allies',\n",
       "  '.',\n",
       "  'More',\n",
       "  'in',\n",
       "  '🧵',\n",
       "  '(',\n",
       "  '1/16',\n",
       "  ')',\n",
       "  '#',\n",
       "  'ProtectUАSky',\n",
       "  '#',\n",
       "  'StopRussia',\n",
       "  '#',\n",
       "  'UkraineUnderAttaсk'])"
      ]
     },
     "execution_count": 31,
     "metadata": {},
     "output_type": "execute_result"
    }
   ],
   "source": [
    "import nltk\n",
    "from nltk import word_tokenize\n",
    "import re\n",
    "nltk.download('punkt')\n",
    "\n",
    "rdd = df_spark.rdd #to get the rdd from dataframe\n",
    "\n",
    "rdd.take(10)\n",
    "rdd=rdd.filter(lambda x: x[2] == \"en\") #filter out non english tweets\n",
    "\n",
    "\n",
    "rdd_text = rdd.map(lambda x : (x[0], x[1])).map(lambda x:(x[0], word_tokenize(x[1]))) #id, word_tokenized\n",
    "rdd_text.first()"
   ]
  },
  {
   "cell_type": "markdown",
   "metadata": {
    "id": "9XrEDUBJHdrX"
   },
   "source": [
    "rdd_text.first() contains a key value pair where the key is the tweetid and the value is the text of the tweet tokenized. Now from rdd_text I wil extract only the hashtags."
   ]
  },
  {
   "cell_type": "code",
   "execution_count": 32,
   "metadata": {
    "colab": {
     "base_uri": "https://localhost:8080/"
    },
    "id": "NdcDV2lJ_p-2",
    "outputId": "b67f166d-b126-45b9-9c0e-21b0f93600db"
   },
   "outputs": [
    {
     "data": {
      "text/plain": [
       "('1509681950042198030', ['protectuаsky', 'stoprussia', 'ukraineunderattaсk'])"
      ]
     },
     "execution_count": 32,
     "metadata": {},
     "output_type": "execute_result"
    }
   ],
   "source": [
    "def processHashtags(tweet):\n",
    "  hashtags = []\n",
    "  for i,word in enumerate(tweet):\n",
    "    if word == '#':\n",
    "      try:\n",
    "        hashtags.append(re.sub(r'[^\\w\\s]','',tweet[i+1]).lower()) #remove punctuation with regexp and put them lowercase\n",
    "      except:\n",
    "        pass\n",
    "  return hashtags\n",
    "\n",
    "hashtags_per_tweet = rdd_text.map(lambda x: (x[0], processHashtags(x[1])))\n",
    "hashtags_per_tweet.first()"
   ]
  },
  {
   "cell_type": "markdown",
   "metadata": {
    "id": "B3O-OkGUH2z4"
   },
   "source": [
    "hashtags_per_tweet.first() contains all the hashtags of the first tweet. As We saw earlier, The field \"hashtags\" of the first tweet in the original dataset was a empty list, which is wrong."
   ]
  },
  {
   "cell_type": "code",
   "execution_count": 33,
   "metadata": {
    "colab": {
     "base_uri": "https://localhost:8080/"
    },
    "id": "1iEJQjdwUkE9",
    "outputId": "c9b15ec3-a3b5-42b8-8b20-59488ad9db0d"
   },
   "outputs": [
    {
     "name": "stdout",
     "output_type": "stream",
     "text": [
      "root\n",
      " |-- tweet: string (nullable = true)\n",
      " |-- hashtag: array (nullable = true)\n",
      " |    |-- element: string (containsNull = true)\n",
      "\n",
      "+-------------------+--------------------------------------------------------------------------------------------------------------------------------------------------------------------------+\n",
      "|tweet              |hashtag                                                                                                                                                                   |\n",
      "+-------------------+--------------------------------------------------------------------------------------------------------------------------------------------------------------------------+\n",
      "|1509681950042198030|[protectuаsky, stoprussia, ukraineunderattaсk]                                                                                                                            |\n",
      "|1509681950151348229|[russianinvasion, standwithukraine, ukraineunderattack, ukrainewillwin, putinisawarcriminal, stopputin, russianukrainianwar, russiagohome, россиясмотри, нетвойне]        |\n",
      "|1509681950683926556|[russianukrainianwar, china, taiwan]                                                                                                                                      |\n",
      "|1509681951116046336|[anonymous, oprussia, ddosecrets]                                                                                                                                         |\n",
      "|1509681951304990720|[nft, mint]                                                                                                                                                               |\n",
      "|1509681952000937999|[russia, ukraine, motivation, netde, edude, delaware, government, usa]                                                                                                    |\n",
      "|1509681952978210849|[ukraine, ukrainewar, russia, ukraineinvasion]                                                                                                                            |\n",
      "|1509681953053843466|[russian, moscow]                                                                                                                                                         |\n",
      "|1509681953091457035|[ukraine]                                                                                                                                                                 |\n",
      "|1509681953418711050|[putin, medvedev, russia, ukraine]                                                                                                                                        |\n",
      "|1509681953418752008|[russia, putin]                                                                                                                                                           |\n",
      "|1509681953636700160|[russianarmy, chernobyl, russianukrainianwar]                                                                                                                             |\n",
      "|1509681954488303623|[soviet, berlin, ukrainian, russian, kharkiv]                                                                                                                             |\n",
      "|1509681954647543824|[anonymous, ukraine]                                                                                                                                                      |\n",
      "|1509681955603845120|[nft, mint]                                                                                                                                                               |\n",
      "|1509681956149104652|[ukrainewar, russia, ukraine, 30march, russianukrainianwar]                                                                                                               |\n",
      "|1509681957524979718|[peace, ukraine, democracy, war, putin, zelensky, russia, blackmedia, localnews, community, scoop, news, africanamericans, philadelphia, scoopusamedia, philly, subscribe]|\n",
      "|1509681958288338945|[ukraine]                                                                                                                                                                 |\n",
      "|1509681959965966345|[exclusive, itvideo, russiaukrainewar, re]                                                                                                                                |\n",
      "|1509681960066584593|[putin, ruble, currency, sanctions, oil, economy, negotiations, diplomacy, geopolitics, leadership, government, russia, warinukraine, war, russiaukrainewar]              |\n",
      "+-------------------+--------------------------------------------------------------------------------------------------------------------------------------------------------------------------+\n",
      "only showing top 20 rows\n",
      "\n"
     ]
    }
   ],
   "source": [
    "#reconvert the rdd to spark dataframe (just fro visulaziation)\n",
    "deptColumns = [\"tweet\",\"hashtag\"]\n",
    "new_df_spark = hashtags_per_tweet.toDF(deptColumns)\n",
    "new_df_spark.printSchema()\n",
    "new_df_spark.show(truncate=False)"
   ]
  },
  {
   "cell_type": "markdown",
   "metadata": {
    "id": "5UBV7OukQr3h"
   },
   "source": [
    "###APRIORI ALGORITHM"
   ]
  },
  {
   "cell_type": "code",
   "execution_count": 114,
   "metadata": {
    "id": "LYKRfbHh9ySU"
   },
   "outputs": [],
   "source": [
    "hashtag=new_df_spark.select('hashtag')"
   ]
  },
  {
   "cell_type": "code",
   "execution_count": 115,
   "metadata": {
    "id": "6xD_xQSeRorv"
   },
   "outputs": [],
   "source": [
    "basket_file = hashtag.rdd.flatMap(list)"
   ]
  },
  {
   "cell_type": "markdown",
   "metadata": {
    "id": "gS4j3v8JIUEq"
   },
   "source": [
    "For sake of simplicity, We used a really small part of our dataset: just 500 baskets. Having said this, the following code should be able to scale up with the size of the dataset but given the already mentioned HW limitation, We decided to just use a \"toy dataset\"."
   ]
  },
  {
   "cell_type": "code",
   "execution_count": 116,
   "metadata": {
    "id": "5wxe9MKB7fQQ"
   },
   "outputs": [],
   "source": [
    "num_baskets = 500\n",
    "basket_file = basket_file.take(num_baskets) "
   ]
  },
  {
   "cell_type": "code",
   "execution_count": 117,
   "metadata": {
    "id": "vUlj9lOI7_1N"
   },
   "outputs": [],
   "source": [
    "basket_file = spark.sparkContext.parallelize(basket_file)"
   ]
  },
  {
   "cell_type": "code",
   "execution_count": 118,
   "metadata": {
    "colab": {
     "base_uri": "https://localhost:8080/"
    },
    "id": "S9sorRqZ8Ocu",
    "outputId": "75576f69-fd5f-4e26-85d3-82ce51ce5a1b"
   },
   "outputs": [
    {
     "data": {
      "text/plain": [
       "pyspark.rdd.RDD"
      ]
     },
     "execution_count": 118,
     "metadata": {},
     "output_type": "execute_result"
    }
   ],
   "source": [
    "type(basket_file)"
   ]
  },
  {
   "cell_type": "code",
   "execution_count": 119,
   "metadata": {
    "colab": {
     "base_uri": "https://localhost:8080/"
    },
    "id": "nRkOzoaOAyrP",
    "outputId": "87ee53a3-03a4-412c-ad29-0833ad5ea42c"
   },
   "outputs": [
    {
     "data": {
      "text/plain": [
       "[['protectuаsky', 'stoprussia', 'ukraineunderattaсk'],\n",
       " ['russianinvasion',\n",
       "  'standwithukraine',\n",
       "  'ukraineunderattack',\n",
       "  'ukrainewillwin',\n",
       "  'putinisawarcriminal',\n",
       "  'stopputin',\n",
       "  'russianukrainianwar',\n",
       "  'russiagohome',\n",
       "  'россиясмотри',\n",
       "  'нетвойне'],\n",
       " ['russianukrainianwar', 'china', 'taiwan'],\n",
       " ['anonymous', 'oprussia', 'ddosecrets'],\n",
       " ['nft', 'mint'],\n",
       " ['russia',\n",
       "  'ukraine',\n",
       "  'motivation',\n",
       "  'netde',\n",
       "  'edude',\n",
       "  'delaware',\n",
       "  'government',\n",
       "  'usa'],\n",
       " ['ukraine', 'ukrainewar', 'russia', 'ukraineinvasion'],\n",
       " ['russian', 'moscow'],\n",
       " ['ukraine'],\n",
       " ['putin', 'medvedev', 'russia', 'ukraine']]"
      ]
     },
     "execution_count": 119,
     "metadata": {},
     "output_type": "execute_result"
    }
   ],
   "source": [
    "basket_file.take(10) #first 10 baskets/tweets"
   ]
  },
  {
   "cell_type": "markdown",
   "metadata": {
    "id": "_v6RyYAH8A59"
   },
   "source": [
    "_______________________________________________________________________________"
   ]
  },
  {
   "cell_type": "code",
   "execution_count": 120,
   "metadata": {
    "colab": {
     "base_uri": "https://localhost:8080/"
    },
    "id": "4Jx_mBOQBScX",
    "outputId": "fb6d1dbb-a1ee-41f7-ea5c-339afc17c4e8"
   },
   "outputs": [
    {
     "name": "stdout",
     "output_type": "stream",
     "text": [
      "10 500\n"
     ]
    }
   ],
   "source": [
    "threshold = 10  #threshold fixed empirically\n",
    "print(threshold,basket_file.count())"
   ]
  },
  {
   "cell_type": "markdown",
   "metadata": {
    "id": "pWvt7ZNkThUI"
   },
   "source": [
    "## Start apriori: PHASE 1"
   ]
  },
  {
   "cell_type": "code",
   "execution_count": 121,
   "metadata": {
    "colab": {
     "base_uri": "https://localhost:8080/"
    },
    "id": "bfa40RztBSiX",
    "outputId": "dd6cd9a9-aa67-4b74-fc49-084089348461"
   },
   "outputs": [
    {
     "data": {
      "text/plain": [
       "[('ukraineunderattaсk', 27),\n",
       " ('russianinvasion', 20),\n",
       " ('standwithukraine', 51),\n",
       " ('ukrainewillwin', 22),\n",
       " ('stopputin', 26),\n",
       " ('russianukrainianwar', 29),\n",
       " ('russiagohome', 20),\n",
       " ('нетвойне', 20),\n",
       " ('taiwan', 1),\n",
       " ('anonymous', 11),\n",
       " ('ddosecrets', 2),\n",
       " ('netde', 1),\n",
       " ('delaware', 1),\n",
       " ('usa', 5),\n",
       " ('ukraineinvasion', 2),\n",
       " ('moscow', 4),\n",
       " ('putin', 32),\n",
       " ('medvedev', 1),\n",
       " ('russianarmy', 2),\n",
       " ('soviet', 2)]"
      ]
     },
     "execution_count": 121,
     "metadata": {},
     "output_type": "execute_result"
    }
   ],
   "source": [
    "#phase 1 calculate the freq of each item in the basket file\n",
    "singleton=basket_file.flatMap(list).map(lambda item: (item,1)).reduceByKey(lambda a,b: a+b)\n",
    "\n",
    "singleton.take(20)"
   ]
  },
  {
   "cell_type": "markdown",
   "metadata": {
    "id": "V2aJ5qaed9tD"
   },
   "source": [
    "##BETWEEN THE TWO PHASES"
   ]
  },
  {
   "cell_type": "code",
   "execution_count": 122,
   "metadata": {
    "colab": {
     "base_uri": "https://localhost:8080/"
    },
    "id": "7DPrIUNDBSjg",
    "outputId": "8ee62132-2cc3-4fbf-efb9-52ef70faa3ca"
   },
   "outputs": [
    {
     "data": {
      "text/plain": [
       "[('ukraineunderattaсk', 27),\n",
       " ('russianinvasion', 20),\n",
       " ('standwithukraine', 51),\n",
       " ('ukrainewillwin', 22),\n",
       " ('stopputin', 26),\n",
       " ('russianukrainianwar', 29),\n",
       " ('russiagohome', 20),\n",
       " ('нетвойне', 20),\n",
       " ('anonymous', 11),\n",
       " ('putin', 32),\n",
       " ('ukrainian', 31),\n",
       " ('russiaukrainewar', 13),\n",
       " ('mariupol', 20),\n",
       " ('ukrainerussianwar', 10),\n",
       " ('ukrainerussiawar', 33),\n",
       " ('settodraw', 10),\n",
       " ('tanzaniaproject', 10),\n",
       " ('africa', 10),\n",
       " ('mining', 10),\n",
       " ('kherson', 16)]"
      ]
     },
     "execution_count": 122,
     "metadata": {},
     "output_type": "execute_result"
    }
   ],
   "source": [
    "#between the two phases: filter out all the non frequent singleton\n",
    "freq_singleton=singleton.filter(lambda x: x[1]>=threshold)\n",
    "\n",
    "freq_singleton.take(20)"
   ]
  },
  {
   "cell_type": "markdown",
   "metadata": {
    "id": "zTf4gpkfmdsL"
   },
   "source": [
    "## PHASE 2"
   ]
  },
  {
   "cell_type": "code",
   "execution_count": 123,
   "metadata": {
    "colab": {
     "base_uri": "https://localhost:8080/"
    },
    "id": "6KAdkZPKXHeI",
    "outputId": "2073b77c-f7c8-4e7d-94f4-f4ac8b693728"
   },
   "outputs": [
    {
     "data": {
      "text/plain": [
       "[('ukraineunderattaсk', 'russianinvasion'),\n",
       " ('ukraineunderattaсk', 'standwithukraine'),\n",
       " ('ukraineunderattaсk', 'ukrainewillwin'),\n",
       " ('ukraineunderattaсk', 'stopputin'),\n",
       " ('ukraineunderattaсk', 'russianukrainianwar'),\n",
       " ('ukraineunderattaсk', 'russiagohome'),\n",
       " ('ukraineunderattaсk', 'нетвойне'),\n",
       " ('ukraineunderattaсk', 'anonymous'),\n",
       " ('ukraineunderattaсk', 'putin'),\n",
       " ('ukraineunderattaсk', 'ukrainian'),\n",
       " ('ukraineunderattaсk', 'russiaukrainewar'),\n",
       " ('ukraineunderattaсk', 'mariupol'),\n",
       " ('ukraineunderattaсk', 'ukrainerussianwar'),\n",
       " ('ukraineunderattaсk', 'ukrainerussiawar'),\n",
       " ('ukraineunderattaсk', 'settodraw'),\n",
       " ('ukraineunderattaсk', 'tanzaniaproject'),\n",
       " ('ukraineunderattaсk', 'africa'),\n",
       " ('ukraineunderattaсk', 'mining'),\n",
       " ('ukraineunderattaсk', 'kherson'),\n",
       " ('ukraineunderattaсk', 'protectuаsky'),\n",
       " ('ukraineunderattaсk', 'stoprussia'),\n",
       " ('ukraineunderattaсk', 'ukraineunderattack'),\n",
       " ('ukraineunderattaсk', 'putinisawarcriminal'),\n",
       " ('ukraineunderattaсk', 'россиясмотри'),\n",
       " ('ukraineunderattaсk', 'nft'),\n",
       " ('ukraineunderattaсk', 'mint'),\n",
       " ('ukraineunderattaсk', 'russia'),\n",
       " ('ukraineunderattaсk', 'ukraine'),\n",
       " ('ukraineunderattaсk', 'ukrainewar'),\n",
       " ('ukraineunderattaсk', 'russian'),\n",
       " ('ukraineunderattaсk', 'kyiv'),\n",
       " ('ukraineunderattaсk', 'gas'),\n",
       " ('ukraineunderattaсk', 'biden'),\n",
       " ('ukraineunderattaсk', 'tigray'),\n",
       " ('ukraineunderattaсk', 'slavaukraini'),\n",
       " ('ukraineunderattaсk', 'energy'),\n",
       " ('ukraineunderattaсk', 'coal'),\n",
       " ('russianinvasion', 'standwithukraine'),\n",
       " ('russianinvasion', 'ukrainewillwin'),\n",
       " ('russianinvasion', 'stopputin'),\n",
       " ('russianinvasion', 'russianukrainianwar'),\n",
       " ('russianinvasion', 'russiagohome'),\n",
       " ('russianinvasion', 'нетвойне'),\n",
       " ('russianinvasion', 'anonymous'),\n",
       " ('russianinvasion', 'putin'),\n",
       " ('russianinvasion', 'ukrainian'),\n",
       " ('russianinvasion', 'russiaukrainewar'),\n",
       " ('russianinvasion', 'mariupol'),\n",
       " ('russianinvasion', 'ukrainerussianwar'),\n",
       " ('russianinvasion', 'ukrainerussiawar'),\n",
       " ('russianinvasion', 'settodraw'),\n",
       " ('russianinvasion', 'tanzaniaproject'),\n",
       " ('russianinvasion', 'africa'),\n",
       " ('russianinvasion', 'mining'),\n",
       " ('russianinvasion', 'kherson'),\n",
       " ('russianinvasion', 'protectuаsky'),\n",
       " ('russianinvasion', 'stoprussia'),\n",
       " ('russianinvasion', 'ukraineunderattack'),\n",
       " ('russianinvasion', 'putinisawarcriminal'),\n",
       " ('russianinvasion', 'россиясмотри'),\n",
       " ('russianinvasion', 'nft'),\n",
       " ('russianinvasion', 'mint'),\n",
       " ('russianinvasion', 'russia'),\n",
       " ('russianinvasion', 'ukraine'),\n",
       " ('russianinvasion', 'ukrainewar'),\n",
       " ('russianinvasion', 'russian'),\n",
       " ('russianinvasion', 'kyiv'),\n",
       " ('russianinvasion', 'gas'),\n",
       " ('russianinvasion', 'biden'),\n",
       " ('russianinvasion', 'tigray'),\n",
       " ('russianinvasion', 'slavaukraini'),\n",
       " ('russianinvasion', 'energy'),\n",
       " ('russianinvasion', 'coal'),\n",
       " ('standwithukraine', 'ukrainewillwin'),\n",
       " ('standwithukraine', 'stopputin'),\n",
       " ('standwithukraine', 'russianukrainianwar'),\n",
       " ('standwithukraine', 'russiagohome'),\n",
       " ('standwithukraine', 'нетвойне'),\n",
       " ('standwithukraine', 'anonymous'),\n",
       " ('standwithukraine', 'putin'),\n",
       " ('standwithukraine', 'ukrainian'),\n",
       " ('standwithukraine', 'russiaukrainewar'),\n",
       " ('standwithukraine', 'mariupol'),\n",
       " ('standwithukraine', 'ukrainerussianwar'),\n",
       " ('standwithukraine', 'ukrainerussiawar'),\n",
       " ('standwithukraine', 'settodraw'),\n",
       " ('standwithukraine', 'tanzaniaproject'),\n",
       " ('standwithukraine', 'africa'),\n",
       " ('standwithukraine', 'mining'),\n",
       " ('standwithukraine', 'kherson'),\n",
       " ('standwithukraine', 'protectuаsky'),\n",
       " ('standwithukraine', 'stoprussia'),\n",
       " ('standwithukraine', 'ukraineunderattack'),\n",
       " ('standwithukraine', 'putinisawarcriminal'),\n",
       " ('standwithukraine', 'россиясмотри'),\n",
       " ('standwithukraine', 'nft'),\n",
       " ('standwithukraine', 'mint'),\n",
       " ('standwithukraine', 'russia'),\n",
       " ('standwithukraine', 'ukraine'),\n",
       " ('standwithukraine', 'ukrainewar')]"
      ]
     },
     "execution_count": 123,
     "metadata": {},
     "output_type": "execute_result"
    }
   ],
   "source": [
    "#phase 2.1: now create all the possible pairs made up by frequen singletons\n",
    "\n",
    "from itertools import combinations\n",
    "pairs=list(combinations(freq_singleton.map(lambda x: x[0]).toLocalIterator(),2)) #without toLocalIterator error (reference https://stackoverflow.com/questions/32771737/convert-an-rdd-to-iterable-pyspark)\n",
    "\n",
    "pairs[:100]"
   ]
  },
  {
   "cell_type": "markdown",
   "metadata": {
    "id": "331d35Q0N_ri"
   },
   "source": [
    "Now for each basket, if one of the prevously generated pairs (made of freq singletons) is inside a basket, We generate a tuple (pair,1). Then We flat the results."
   ]
  },
  {
   "cell_type": "code",
   "execution_count": 68,
   "metadata": {
    "id": "6p-YU19T69V4"
   },
   "outputs": [],
   "source": [
    "flatted_couples = basket_file.map(lambda x: [(pair,1) for pair in pairs if set(pair).issubset(set(x))]).flatMap(lambda x: x).cache()"
   ]
  },
  {
   "cell_type": "code",
   "execution_count": 69,
   "metadata": {
    "id": "ch6049fVIQoD"
   },
   "outputs": [],
   "source": [
    "reduced_elements = flatted_couples.reduceByKey(lambda a, b: a + b)"
   ]
  },
  {
   "cell_type": "code",
   "execution_count": 70,
   "metadata": {
    "id": "wWse1N1Mr_jd"
   },
   "outputs": [],
   "source": [
    "freq_pairs = reduced_elements.filter(lambda x : x[1] >= threshold).cache()\n",
    "result_APRIORI = list(freq_pairs.map(lambda x: x).toLocalIterator())"
   ]
  },
  {
   "cell_type": "code",
   "execution_count": 71,
   "metadata": {
    "colab": {
     "base_uri": "https://localhost:8080/"
    },
    "id": "yIuSdsWEOhUS",
    "outputId": "acb2a3b3-a766-4498-c4da-24d990643649"
   },
   "outputs": [
    {
     "name": "stdout",
     "output_type": "stream",
     "text": [
      "0.05702638626098633\n"
     ]
    }
   ],
   "source": [
    "import time\n",
    "startTime = time.time()\n",
    "freq_pairs.collect()\n",
    "print(time.time()-startTime)"
   ]
  },
  {
   "cell_type": "markdown",
   "metadata": {
    "id": "k-Jhu8_0QrJU"
   },
   "source": [
    "## PCY ALGORITHM "
   ]
  },
  {
   "cell_type": "markdown",
   "metadata": {
    "id": "Ow9ifvKQOV4o"
   },
   "source": [
    "#First Pass"
   ]
  },
  {
   "cell_type": "code",
   "execution_count": 72,
   "metadata": {
    "colab": {
     "base_uri": "https://localhost:8080/"
    },
    "id": "OJxDdbFVQunC",
    "outputId": "7cb0c031-921a-430f-c4b4-547b122e06e1"
   },
   "outputs": [
    {
     "data": {
      "text/plain": [
       "[('ukraineunderattaсk', 27),\n",
       " ('russianinvasion', 20),\n",
       " ('standwithukraine', 51),\n",
       " ('ukrainewillwin', 22),\n",
       " ('stopputin', 26),\n",
       " ('russianukrainianwar', 29),\n",
       " ('russiagohome', 20),\n",
       " ('нетвойне', 20),\n",
       " ('taiwan', 1),\n",
       " ('anonymous', 11),\n",
       " ('ddosecrets', 2),\n",
       " ('netde', 1),\n",
       " ('delaware', 1),\n",
       " ('usa', 5),\n",
       " ('ukraineinvasion', 2),\n",
       " ('moscow', 4),\n",
       " ('putin', 32),\n",
       " ('medvedev', 1),\n",
       " ('russianarmy', 2),\n",
       " ('soviet', 2)]"
      ]
     },
     "execution_count": 72,
     "metadata": {},
     "output_type": "execute_result"
    }
   ],
   "source": [
    "singleton = basket_file.flatMap(list).map(lambda item: (item,1)).reduceByKey(lambda a,b: a+b)\n",
    "singleton.take(20)"
   ]
  },
  {
   "cell_type": "code",
   "execution_count": 74,
   "metadata": {
    "id": "DmDpxjxjQuqL"
   },
   "outputs": [],
   "source": [
    "from sys import hash_info\n",
    "\n",
    "HASH_TABLE_SIZE = 50000 \n",
    "hash_table = np.zeros(HASH_TABLE_SIZE, dtype=int)\n",
    "\n",
    "def hashing(pair_to_hash):\n",
    "  return int(abs(hash(frozenset(pair_to_hash))) % HASH_TABLE_SIZE)"
   ]
  },
  {
   "cell_type": "code",
   "execution_count": 76,
   "metadata": {
    "id": "wAH7rSbfQutF"
   },
   "outputs": [],
   "source": [
    "#different step w.r.t. apriori, creating all the pairs (also made up of non frequent singletons) and hashing them\n",
    "\n",
    "pairs_first_pass = list(combinations(singleton.map(lambda x: x[0]).toLocalIterator(),2))#creating all pairs with singletons\n",
    "\n",
    "\n",
    "\n",
    "hashtable_rdd = basket_file.map(lambda x: [(hashing(pair),1) for pair in pairs_first_pass if set(pair).issubset(set(x))]).flatMap(lambda x: x).cache()\\\n",
    "                           .reduceByKey(lambda a,b: a+b)"
   ]
  },
  {
   "cell_type": "markdown",
   "metadata": {
    "id": "_V9e0eyqPTIn"
   },
   "source": [
    "In the previous line of code, for each basket, all the pairs in it will be hashed. In hashtable_rdd  will be stored a list of key value pairs where the key is the bucket in which a pair was hashed and the value is the number of pairs hashed in that bucket."
   ]
  },
  {
   "cell_type": "code",
   "execution_count": 78,
   "metadata": {
    "colab": {
     "base_uri": "https://localhost:8080/"
    },
    "id": "kK73VbCY1Swl",
    "outputId": "f63415b6-9f1a-4833-9078-7dd3d5bdf7c2"
   },
   "outputs": [
    {
     "data": {
      "text/plain": [
       "[(3810, 20), (8470, 20), (45826, 20), (48060, 20), (32986, 20)]"
      ]
     },
     "execution_count": 78,
     "metadata": {},
     "output_type": "execute_result"
    }
   ],
   "source": [
    "#meaning of the output: the pair/s hashed to the bucket 3810 are 20\n",
    "hashtable_rdd.take(5)"
   ]
  },
  {
   "cell_type": "code",
   "execution_count": 83,
   "metadata": {
    "colab": {
     "base_uri": "https://localhost:8080/"
    },
    "id": "CqrRZbUg08QJ",
    "outputId": "fdd01ccf-b034-481f-bdf4-49fbe532752f"
   },
   "outputs": [
    {
     "data": {
      "text/plain": [
       "2319"
      ]
     },
     "execution_count": 83,
     "metadata": {},
     "output_type": "execute_result"
    }
   ],
   "source": [
    "hashtable_list = list(hashtable_rdd.map(lambda x: x).toLocalIterator())\n",
    "\n",
    "for pair in hashtable_list:\n",
    "  hash_table[pair[0]] = pair[1]\n",
    "\n",
    "bitmap_freq = [hash_table[i]>=threshold for i in range(HASH_TABLE_SIZE)] #bitmap_freq[i]==False if hash_table[i]<threshold, True otherwise\n",
    "\n",
    " #len(hashtable_list) "
   ]
  },
  {
   "cell_type": "code",
   "execution_count": 84,
   "metadata": {
    "id": "e5tmelSzhNBc"
   },
   "outputs": [],
   "source": [
    "from itertools import combinations\n",
    "\n",
    "freq_singleton = singleton.filter(lambda x: x[1]>=threshold)  \n",
    "freq_singleton_list = list(freq_singleton.map(lambda x: x).toLocalIterator())                         \n",
    "pairs=list(combinations(freq_singleton.map(lambda x: x[0]).toLocalIterator(),2)) #formed from freq singletons"
   ]
  },
  {
   "cell_type": "code",
   "execution_count": 85,
   "metadata": {
    "id": "-J2IcsEEthg9"
   },
   "outputs": [],
   "source": [
    "#CONVERT PAIRS INTO RDD\n",
    "pairs_rdd = spark.sparkContext.parallelize(pairs)"
   ]
  },
  {
   "cell_type": "code",
   "execution_count": 86,
   "metadata": {
    "colab": {
     "base_uri": "https://localhost:8080/"
    },
    "id": "IBlS8tcIhK1Z",
    "outputId": "ce611133-500a-4fd0-a1a6-4e392e3f9cb2"
   },
   "outputs": [
    {
     "data": {
      "text/plain": [
       "[('ukraineunderattaсk', 'protectuаsky'),\n",
       " ('ukraineunderattaсk', 'stoprussia'),\n",
       " ('russianinvasion', 'standwithukraine'),\n",
       " ('russianinvasion', 'ukrainewillwin'),\n",
       " ('russianinvasion', 'stopputin'),\n",
       " ('russianinvasion', 'russianukrainianwar'),\n",
       " ('russianinvasion', 'russiagohome'),\n",
       " ('russianinvasion', 'нетвойне'),\n",
       " ('russianinvasion', 'ukrainerussiawar'),\n",
       " ('russianinvasion', 'ukraineunderattack')]"
      ]
     },
     "execution_count": 86,
     "metadata": {},
     "output_type": "execute_result"
    }
   ],
   "source": [
    "#candidate pairs = pairs of freq singleton and the pair is freq in the hash_table\n",
    "candidate_pairs = pairs_rdd.filter(lambda x : bitmap_freq[hashing(x)] == True)\n",
    "candidate_pairs_list = list(candidate_pairs.map(lambda x: x).toLocalIterator()) #prima qua avevo messo pairs_rdd ma è sbagliato, perchè così è uguale ad Apriori\n",
    "candidate_pairs_list[:10]"
   ]
  },
  {
   "cell_type": "markdown",
   "metadata": {
    "id": "dAjGlsQYRRlv"
   },
   "source": [
    "#SECOND PASS"
   ]
  },
  {
   "cell_type": "code",
   "execution_count": 87,
   "metadata": {
    "colab": {
     "base_uri": "https://localhost:8080/"
    },
    "id": "iAI9OU4pfsnw",
    "outputId": "29f014a9-eb28-4c0a-fec9-11a290a6afb6"
   },
   "outputs": [
    {
     "data": {
      "text/plain": [
       "[(('protectuаsky', 'stoprussia'), 20),\n",
       " (('russianinvasion', 'standwithukraine'), 20),\n",
       " (('russianinvasion', 'ukrainewillwin'), 20),\n",
       " (('russianinvasion', 'stopputin'), 20),\n",
       " (('russianinvasion', 'russianukrainianwar'), 20),\n",
       " (('russianinvasion', 'russiagohome'), 20),\n",
       " (('russianinvasion', 'нетвойне'), 20),\n",
       " (('standwithukraine', 'ukrainewillwin'), 20),\n",
       " (('standwithukraine', 'stopputin'), 23),\n",
       " (('standwithukraine', 'russianukrainianwar'), 20),\n",
       " (('standwithukraine', 'russiagohome'), 20),\n",
       " (('standwithukraine', 'нетвойне'), 20),\n",
       " (('ukrainewillwin', 'stopputin'), 20),\n",
       " (('ukrainewillwin', 'russianukrainianwar'), 20),\n",
       " (('ukrainewillwin', 'russiagohome'), 20),\n",
       " (('ukrainewillwin', 'нетвойне'), 20),\n",
       " (('stopputin', 'russianukrainianwar'), 20),\n",
       " (('stopputin', 'russiagohome'), 20),\n",
       " (('stopputin', 'нетвойне'), 20),\n",
       " (('russianukrainianwar', 'russiagohome'), 20),\n",
       " (('russianukrainianwar', 'нетвойне'), 20),\n",
       " (('russiagohome', 'нетвойне'), 20),\n",
       " (('ukraineunderattack', 'putinisawarcriminal'), 20),\n",
       " (('ukraineunderattack', 'россиясмотри'), 20),\n",
       " (('putinisawarcriminal', 'россиясмотри'), 20),\n",
       " (('nft', 'mint'), 33),\n",
       " (('russia', 'ukraine'), 29),\n",
       " (('ukraine', 'kyiv'), 22),\n",
       " (('settodraw', 'tanzaniaproject'), 10),\n",
       " (('settodraw', 'africa'), 10),\n",
       " (('settodraw', 'mining'), 10),\n",
       " (('tanzaniaproject', 'africa'), 10),\n",
       " (('tanzaniaproject', 'mining'), 10),\n",
       " (('africa', 'mining'), 10),\n",
       " (('gas', 'energy'), 10),\n",
       " (('gas', 'coal'), 10),\n",
       " (('energy', 'coal'), 10),\n",
       " (('ukraine', 'russian'), 11),\n",
       " (('ukrainian', 'kherson'), 14),\n",
       " (('ukraineunderattaсk', 'protectuаsky'), 20),\n",
       " (('ukraineunderattaсk', 'stoprussia'), 20),\n",
       " (('russianinvasion', 'ukraineunderattack'), 20),\n",
       " (('russianinvasion', 'putinisawarcriminal'), 20),\n",
       " (('russianinvasion', 'россиясмотри'), 20),\n",
       " (('standwithukraine', 'ukraineunderattack'), 20),\n",
       " (('standwithukraine', 'putinisawarcriminal'), 20),\n",
       " (('standwithukraine', 'россиясмотри'), 20),\n",
       " (('ukrainewillwin', 'ukraineunderattack'), 20),\n",
       " (('ukrainewillwin', 'putinisawarcriminal'), 20),\n",
       " (('ukrainewillwin', 'россиясмотри'), 20),\n",
       " (('stopputin', 'ukraineunderattack'), 20),\n",
       " (('stopputin', 'putinisawarcriminal'), 20),\n",
       " (('stopputin', 'россиясмотри'), 20),\n",
       " (('russianukrainianwar', 'ukraineunderattack'), 20),\n",
       " (('russianukrainianwar', 'putinisawarcriminal'), 20),\n",
       " (('russianukrainianwar', 'россиясмотри'), 20),\n",
       " (('russiagohome', 'ukraineunderattack'), 20),\n",
       " (('russiagohome', 'putinisawarcriminal'), 20),\n",
       " (('russiagohome', 'россиясмотри'), 20),\n",
       " (('нетвойне', 'ukraineunderattack'), 20),\n",
       " (('нетвойне', 'putinisawarcriminal'), 20),\n",
       " (('нетвойне', 'россиясмотри'), 20),\n",
       " (('putin', 'ukraine'), 12),\n",
       " (('putin', 'gas'), 11),\n",
       " (('settodraw', 'gas'), 10),\n",
       " (('settodraw', 'energy'), 10),\n",
       " (('settodraw', 'coal'), 10),\n",
       " (('tanzaniaproject', 'gas'), 10),\n",
       " (('tanzaniaproject', 'energy'), 10),\n",
       " (('tanzaniaproject', 'coal'), 10),\n",
       " (('africa', 'gas'), 10),\n",
       " (('africa', 'energy'), 10),\n",
       " (('africa', 'coal'), 10),\n",
       " (('mining', 'gas'), 10),\n",
       " (('mining', 'energy'), 10),\n",
       " (('mining', 'coal'), 10),\n",
       " (('ukrainerussiawar', 'ukraine'), 18)]"
      ]
     },
     "execution_count": 87,
     "metadata": {},
     "output_type": "execute_result"
    }
   ],
   "source": [
    "#check against threshold\n",
    "flatted_couples = basket_file.map(lambda x: [(pair,1) for pair in candidate_pairs_list if set(pair).\\\n",
    "                                             issubset(set(x))]).flatMap(lambda x: x).cache()\n",
    "\n",
    "reduced_elements = flatted_couples.reduceByKey(lambda a, b: a + b)\n",
    "freq_pairs = reduced_elements.filter(lambda x : x[1] >= threshold).cache()\n",
    "result_PCY = list(freq_pairs.map(lambda x: x).toLocalIterator())\n",
    "freq_pairs.collect()"
   ]
  },
  {
   "cell_type": "markdown",
   "metadata": {
    "id": "5t8hb9_AOok2"
   },
   "source": [
    "### MULTISTAGE"
   ]
  },
  {
   "cell_type": "code",
   "execution_count": 93,
   "metadata": {
    "colab": {
     "base_uri": "https://localhost:8080/"
    },
    "id": "U2VYH68Afss8",
    "outputId": "99f7ac49-c2cd-4d7c-cde9-73682a8470a6"
   },
   "outputs": [
    {
     "data": {
      "text/plain": [
       "(15573, 29408)"
      ]
     },
     "execution_count": 93,
     "metadata": {},
     "output_type": "execute_result"
    }
   ],
   "source": [
    "HASH_TABLE_SIZE = 50000\n",
    "hash_table_1 = np.zeros(HASH_TABLE_SIZE, dtype=int)\n",
    "hash_table_2 = np.zeros(HASH_TABLE_SIZE, dtype=int)\n",
    "\n",
    "def hashing_1(pair_to_hash):\n",
    "  return int(abs(hash(frozenset(pair_to_hash))) % HASH_TABLE_SIZE)\n",
    "\n",
    "\n",
    "def hashing_2(pair_to_hash):\n",
    "  return int((abs(hash(frozenset(pair_to_hash)))*3 /5 +9 *2 )% HASH_TABLE_SIZE)  #just create another hash function\n",
    "\n",
    "hashing_1(('russianarmy', 'chernobyl')), hashing_2(('russianarmy', 'chernobyl'))"
   ]
  },
  {
   "cell_type": "code",
   "execution_count": 94,
   "metadata": {
    "id": "fhrFCh626nUv"
   },
   "outputs": [],
   "source": [
    "#1st pass multistage = PCY\n",
    "\n",
    "singleton = basket_file.flatMap(list).map(lambda item: (item,1)).reduceByKey(lambda a,b: a+b)\n",
    "\n",
    "from itertools import combinations\n",
    "pairs_first_pass = list(combinations(singleton.map(lambda x: x[0]).toLocalIterator(),2))#All possible pairs in the basket file\n",
    "\n",
    "hashtable_rdd = basket_file.map(lambda x: [(hashing_1(pair),1) for pair in pairs_first_pass if set(pair).issubset(set(x))]).flatMap(lambda x: x).cache()\\\n",
    "                           .reduceByKey(lambda a,b: a+b)\n",
    "\n",
    "hashtable_list = list(hashtable_rdd.map(lambda x: x).toLocalIterator())\n",
    "\n",
    "for pair in hashtable_list:\n",
    "  hash_table_1[pair[0]] = pair[1]\n"
   ]
  },
  {
   "cell_type": "markdown",
   "metadata": {
    "id": "i-LnrYOARbmC"
   },
   "source": [
    "### 2nd Stage"
   ]
  },
  {
   "cell_type": "code",
   "execution_count": 95,
   "metadata": {
    "id": "4UZ5i-p16nWi"
   },
   "outputs": [],
   "source": [
    "from itertools import combinations\n",
    "bitmap_1 = [hash_table_1[i]>=threshold for i in range(HASH_TABLE_SIZE)]\n",
    "\n",
    "freq_singleton = singleton.filter(lambda x: x[1]>=threshold)                           \n",
    "pairs=list(combinations(freq_singleton.map(lambda x: x[0]).toLocalIterator(),2)) #All pairs formed by freqent singletons"
   ]
  },
  {
   "cell_type": "markdown",
   "metadata": {
    "id": "4Mzhmys_R1ha"
   },
   "source": [
    "I have bitmap_1, I have the freq singletons, and the pairs from freq singletons. Now I need to check against bitmap_1 the pairs formed from freq singlentons, than the pairs hashed in frequent bucket from bitmap_1 will be hashed again to create bitmap 2."
   ]
  },
  {
   "cell_type": "code",
   "execution_count": 96,
   "metadata": {
    "id": "aK9KFH1mVT57"
   },
   "outputs": [],
   "source": [
    "#CONVERT PAIRS INTO RDD\n",
    "pairs_rdd = spark.sparkContext.parallelize(pairs) #Formed from freq singletons"
   ]
  },
  {
   "cell_type": "code",
   "execution_count": 97,
   "metadata": {
    "id": "wllkH3j182I7"
   },
   "outputs": [],
   "source": [
    "#check against bitmap 1\n",
    "pairs_first_check = pairs_rdd.filter(lambda x : bitmap_1[hashing_1(x)] == True) #pairs from freq singletons and resulted freq in bitmap_1\n",
    "#hash them again to hashtable 2\n",
    "\n",
    "pairs_first_check_list = list(pairs_first_check .map(lambda x: x).toLocalIterator())#creating all pairs\n",
    "\n",
    "#2nd scan: I hash the pairs that are formed by frequent singleton and hased in a freqient bcket from bitmap_1\n",
    "hashtable_rdd_2 = basket_file.map(lambda x: [(hashing_2(pair),1) for pair in pairs_first_check_list if set(pair).issubset(set(x))])\\\n",
    "                            .flatMap(lambda x: x).cache().reduceByKey(lambda a,b: a+b)\n",
    "\n",
    "hashtable_list_2 = list(hashtable_rdd_2.map(lambda x: x).toLocalIterator()) \n",
    "\n",
    "for pair in hashtable_list_2:\n",
    "  hash_table_2[pair[0]] = pair[1]\n"
   ]
  },
  {
   "cell_type": "markdown",
   "metadata": {
    "id": "ydUnwwNuXpLc"
   },
   "source": [
    "### 3rd Stage"
   ]
  },
  {
   "cell_type": "code",
   "execution_count": 98,
   "metadata": {
    "id": "WsUtwinXG3Oo"
   },
   "outputs": [],
   "source": [
    "bitmap_2 = [hash_table_2[i]>=threshold for i in range(HASH_TABLE_SIZE)]"
   ]
  },
  {
   "cell_type": "markdown",
   "metadata": {
    "id": "ns0EOklnS_3D"
   },
   "source": [
    "I have now bitmap_1 , bitmap_2 and all the pairs from freq singletons (pairs_rdd): if pair (made of freq singletons) is in bitmap_1 and bitmap_2 it means it's a CANDIDATE pair"
   ]
  },
  {
   "cell_type": "code",
   "execution_count": 99,
   "metadata": {
    "id": "WLwi2myJM8lJ"
   },
   "outputs": [],
   "source": [
    "candidate_pairs_1 = pairs_rdd.filter(lambda x : bitmap_1[hashing_1(x)] == True)\n",
    "candidate_pairs = candidate_pairs_1.filter(lambda x : bitmap_2[hashing_2(x)] == True) \n",
    "candidate_pairs_list = list(candidate_pairs.map(lambda x: x).toLocalIterator())"
   ]
  },
  {
   "cell_type": "code",
   "execution_count": 102,
   "metadata": {
    "colab": {
     "base_uri": "https://localhost:8080/"
    },
    "id": "gcMrrbqCZyFO",
    "outputId": "bae118fb-eab2-445f-abce-972dfc67e045"
   },
   "outputs": [
    {
     "data": {
      "text/plain": [
       "[(('protectuаsky', 'stoprussia'), 20),\n",
       " (('russianinvasion', 'standwithukraine'), 20),\n",
       " (('russianinvasion', 'ukrainewillwin'), 20),\n",
       " (('russianinvasion', 'stopputin'), 20),\n",
       " (('russianinvasion', 'russianukrainianwar'), 20),\n",
       " (('russianinvasion', 'russiagohome'), 20),\n",
       " (('russianinvasion', 'нетвойне'), 20),\n",
       " (('standwithukraine', 'ukrainewillwin'), 20),\n",
       " (('standwithukraine', 'stopputin'), 23),\n",
       " (('standwithukraine', 'russianukrainianwar'), 20),\n",
       " (('standwithukraine', 'russiagohome'), 20),\n",
       " (('standwithukraine', 'нетвойне'), 20),\n",
       " (('ukrainewillwin', 'stopputin'), 20),\n",
       " (('ukrainewillwin', 'russianukrainianwar'), 20),\n",
       " (('ukrainewillwin', 'russiagohome'), 20),\n",
       " (('ukrainewillwin', 'нетвойне'), 20),\n",
       " (('stopputin', 'russianukrainianwar'), 20),\n",
       " (('stopputin', 'russiagohome'), 20),\n",
       " (('stopputin', 'нетвойне'), 20),\n",
       " (('russianukrainianwar', 'russiagohome'), 20),\n",
       " (('russianukrainianwar', 'нетвойне'), 20),\n",
       " (('russiagohome', 'нетвойне'), 20),\n",
       " (('ukraineunderattack', 'putinisawarcriminal'), 20),\n",
       " (('ukraineunderattack', 'россиясмотри'), 20),\n",
       " (('putinisawarcriminal', 'россиясмотри'), 20),\n",
       " (('nft', 'mint'), 33),\n",
       " (('russia', 'ukraine'), 29),\n",
       " (('ukraine', 'kyiv'), 22),\n",
       " (('settodraw', 'tanzaniaproject'), 10),\n",
       " (('settodraw', 'africa'), 10),\n",
       " (('settodraw', 'mining'), 10),\n",
       " (('tanzaniaproject', 'africa'), 10),\n",
       " (('tanzaniaproject', 'mining'), 10),\n",
       " (('africa', 'mining'), 10),\n",
       " (('gas', 'energy'), 10),\n",
       " (('gas', 'coal'), 10),\n",
       " (('energy', 'coal'), 10),\n",
       " (('ukraine', 'russian'), 11),\n",
       " (('ukrainian', 'kherson'), 14),\n",
       " (('ukraineunderattaсk', 'protectuаsky'), 20),\n",
       " (('ukraineunderattaсk', 'stoprussia'), 20),\n",
       " (('russianinvasion', 'ukraineunderattack'), 20),\n",
       " (('russianinvasion', 'putinisawarcriminal'), 20),\n",
       " (('russianinvasion', 'россиясмотри'), 20),\n",
       " (('standwithukraine', 'ukraineunderattack'), 20),\n",
       " (('standwithukraine', 'putinisawarcriminal'), 20),\n",
       " (('standwithukraine', 'россиясмотри'), 20),\n",
       " (('ukrainewillwin', 'ukraineunderattack'), 20),\n",
       " (('ukrainewillwin', 'putinisawarcriminal'), 20),\n",
       " (('ukrainewillwin', 'россиясмотри'), 20),\n",
       " (('stopputin', 'ukraineunderattack'), 20),\n",
       " (('stopputin', 'putinisawarcriminal'), 20),\n",
       " (('stopputin', 'россиясмотри'), 20),\n",
       " (('russianukrainianwar', 'ukraineunderattack'), 20),\n",
       " (('russianukrainianwar', 'putinisawarcriminal'), 20),\n",
       " (('russianukrainianwar', 'россиясмотри'), 20),\n",
       " (('russiagohome', 'ukraineunderattack'), 20),\n",
       " (('russiagohome', 'putinisawarcriminal'), 20),\n",
       " (('russiagohome', 'россиясмотри'), 20),\n",
       " (('нетвойне', 'ukraineunderattack'), 20),\n",
       " (('нетвойне', 'putinisawarcriminal'), 20),\n",
       " (('нетвойне', 'россиясмотри'), 20),\n",
       " (('putin', 'ukraine'), 12),\n",
       " (('putin', 'gas'), 11),\n",
       " (('settodraw', 'gas'), 10),\n",
       " (('settodraw', 'energy'), 10),\n",
       " (('settodraw', 'coal'), 10),\n",
       " (('tanzaniaproject', 'gas'), 10),\n",
       " (('tanzaniaproject', 'energy'), 10),\n",
       " (('tanzaniaproject', 'coal'), 10),\n",
       " (('africa', 'gas'), 10),\n",
       " (('africa', 'energy'), 10),\n",
       " (('africa', 'coal'), 10),\n",
       " (('mining', 'gas'), 10),\n",
       " (('mining', 'energy'), 10),\n",
       " (('mining', 'coal'), 10),\n",
       " (('ukrainerussiawar', 'ukraine'), 18)]"
      ]
     },
     "execution_count": 102,
     "metadata": {},
     "output_type": "execute_result"
    }
   ],
   "source": [
    "flatted_couples = basket_file.map(lambda x: [(pair,1) for pair in candidate_pairs_list if set(pair).\\\n",
    "                                             issubset(set(x))]).flatMap(lambda x: x).cache()\n",
    "\n",
    "reduced_elements = flatted_couples.reduceByKey(lambda a, b: a + b)\n",
    "freq_pairs = reduced_elements.filter(lambda x : x[1] >= threshold).cache()\n",
    "result_MULTI_STAGE=list(freq_pairs.map(lambda x: x).toLocalIterator())\n",
    "freq_pairs.collect()"
   ]
  },
  {
   "cell_type": "markdown",
   "metadata": {
    "id": "buxQ2jse9cGF"
   },
   "source": [
    "## MULTI-HASH"
   ]
  },
  {
   "cell_type": "markdown",
   "metadata": {
    "id": "qCzhfPSzAOs6"
   },
   "source": [
    "1ST STAGE"
   ]
  },
  {
   "cell_type": "code",
   "execution_count": 103,
   "metadata": {
    "colab": {
     "base_uri": "https://localhost:8080/"
    },
    "id": "LNMo-VwTJx-J",
    "outputId": "6d08abfe-5b50-40b8-e67c-02fd6de4adf7"
   },
   "outputs": [
    {
     "data": {
      "text/plain": [
       "[('ukraineunderattaсk', 27),\n",
       " ('russianinvasion', 20),\n",
       " ('standwithukraine', 51),\n",
       " ('ukrainewillwin', 22),\n",
       " ('stopputin', 26),\n",
       " ('russianukrainianwar', 29),\n",
       " ('russiagohome', 20),\n",
       " ('нетвойне', 20),\n",
       " ('taiwan', 1),\n",
       " ('anonymous', 11),\n",
       " ('ddosecrets', 2),\n",
       " ('netde', 1),\n",
       " ('delaware', 1),\n",
       " ('usa', 5),\n",
       " ('ukraineinvasion', 2),\n",
       " ('moscow', 4),\n",
       " ('putin', 32),\n",
       " ('medvedev', 1),\n",
       " ('russianarmy', 2),\n",
       " ('soviet', 2)]"
      ]
     },
     "execution_count": 103,
     "metadata": {},
     "output_type": "execute_result"
    }
   ],
   "source": [
    "singleton = basket_file.flatMap(list).map(lambda item: (item,1)).reduceByKey(lambda a,b: a+b)\n",
    "singleton.take(20)"
   ]
  },
  {
   "cell_type": "code",
   "execution_count": 104,
   "metadata": {
    "colab": {
     "base_uri": "https://localhost:8080/"
    },
    "id": "AX7vf_hlJ3Ua",
    "outputId": "79f368a0-9ac6-4c42-e1cc-a65b16c12737"
   },
   "outputs": [
    {
     "data": {
      "text/plain": [
       "(15573, 4408)"
      ]
     },
     "execution_count": 104,
     "metadata": {},
     "output_type": "execute_result"
    }
   ],
   "source": [
    "HASH_TABLE_SIZE = 25000\n",
    "hash_table_1 = np.zeros(HASH_TABLE_SIZE, dtype=int)\n",
    "hash_table_2 = np.zeros(HASH_TABLE_SIZE, dtype=int)\n",
    "\n",
    "def hashing_1(pair_to_hash):\n",
    "  return int(abs(hash(frozenset(pair_to_hash))) % HASH_TABLE_SIZE)\n",
    "\n",
    "\n",
    "def hashing_2(pair_to_hash):\n",
    "  return int((abs(hash(frozenset(pair_to_hash)))*3 /5 +9 *2 )% HASH_TABLE_SIZE)  #just create another hash function\n",
    "\n",
    "hashing_1(('russianarmy', 'chernobyl')), hashing_2(('russianarmy', 'chernobyl'))"
   ]
  },
  {
   "cell_type": "code",
   "execution_count": 106,
   "metadata": {
    "id": "mEdYeOBtJ8Gf"
   },
   "outputs": [],
   "source": [
    "pairs_first_pass = list(combinations(singleton.map(lambda x: x[0]).toLocalIterator(),2))#creating all pairs with singletons\n",
    "\n",
    "#hashing all the pairs of the basket fle with the two hashing functions\n",
    "hashtable_rdd_1 = basket_file.map(lambda x: [(hashing_1(pair),1) for pair in pairs_first_pass if set(pair).issubset(set(x))]).flatMap(lambda x: x).cache()\\\n",
    "                           .reduceByKey(lambda a,b: a+b)\n",
    "\n",
    "hashtable_rdd_2 = basket_file.map(lambda x: [(hashing_2(pair),1) for pair in pairs_first_pass if set(pair).issubset(set(x))]).flatMap(lambda x: x).cache()\\\n",
    "                           .reduceByKey(lambda a,b: a+b)"
   ]
  },
  {
   "cell_type": "markdown",
   "metadata": {
    "id": "5tVHw8szULyO"
   },
   "source": [
    "#2ND PASS"
   ]
  },
  {
   "cell_type": "code",
   "execution_count": 108,
   "metadata": {
    "id": "vuWqcGB8K0yl"
   },
   "outputs": [],
   "source": [
    "hashtable_list_1 = list(hashtable_rdd_1.map(lambda x: x).toLocalIterator())\n",
    "\n",
    "for pair in hashtable_list_1:\n",
    "  hash_table_1[pair[0]] = pair[1]\n",
    "\n",
    "bitmap_freq_1 = [hash_table_1[i]>=threshold for i in range(HASH_TABLE_SIZE)] #bitmap_freq_1 from hash_table_1 (obtained from hashtable_rdd_1)\n",
    "\n",
    "\n",
    "hashtable_list_2 = list(hashtable_rdd_2.map(lambda x: x).toLocalIterator())\n",
    "\n",
    "for pair in hashtable_list_2:\n",
    "  hash_table_2[pair[0]] = pair[1]\n",
    "\n",
    "bitmap_freq_2 = [hash_table_2[i]>=threshold for i in range(HASH_TABLE_SIZE)] #bitmap_freq_2 from hash_table_2 (obtained from hashtable_rdd_2)\n",
    "\n"
   ]
  },
  {
   "cell_type": "code",
   "execution_count": 110,
   "metadata": {
    "id": "IC5glHW8LEf_"
   },
   "outputs": [],
   "source": [
    "freq_singleton = singleton.filter(lambda x: x[1]>=threshold) \n",
    "                          \n",
    "pairs=list(combinations(freq_singleton.map(lambda x: x[0]).toLocalIterator(),2)) #pairs of freq singletons"
   ]
  },
  {
   "cell_type": "code",
   "execution_count": 111,
   "metadata": {
    "id": "OHfdGOUeL4Fn"
   },
   "outputs": [],
   "source": [
    "#CONVERT PAIRS INTO RDD\n",
    "pairs_rdd = spark.sparkContext.parallelize(pairs)"
   ]
  },
  {
   "cell_type": "code",
   "execution_count": 112,
   "metadata": {
    "colab": {
     "base_uri": "https://localhost:8080/"
    },
    "id": "44kU-zvTL6kF",
    "outputId": "15f82047-6708-4122-d805-e6316be79d7f"
   },
   "outputs": [
    {
     "data": {
      "text/plain": [
       "[('ukraineunderattaсk', 'protectuаsky'),\n",
       " ('ukraineunderattaсk', 'stoprussia'),\n",
       " ('russianinvasion', 'standwithukraine'),\n",
       " ('russianinvasion', 'ukrainewillwin'),\n",
       " ('russianinvasion', 'stopputin'),\n",
       " ('russianinvasion', 'russianukrainianwar'),\n",
       " ('russianinvasion', 'russiagohome'),\n",
       " ('russianinvasion', 'нетвойне'),\n",
       " ('russianinvasion', 'ukraineunderattack'),\n",
       " ('russianinvasion', 'putinisawarcriminal')]"
      ]
     },
     "execution_count": 112,
     "metadata": {},
     "output_type": "execute_result"
    }
   ],
   "source": [
    "#candidate pairs = pairs of freq singleton and the pair is freq in both the hash_tables\n",
    "\n",
    "candidate_pairs = pairs_rdd.filter(lambda x : bitmap_freq_1[hashing_1(x)] == True)\n",
    "candidate_pairs_2 = candidate_pairs.filter(lambda x : bitmap_freq_2[hashing_2(x)] == True)\n",
    "\n",
    "candidate_pairs_list = list(candidate_pairs_2.map(lambda x: x).toLocalIterator()) #prima qua avevo messo pairs_rdd ma è sbagliato, perchè così è uguale ad Apriori\n",
    "candidate_pairs_list[:10]"
   ]
  },
  {
   "cell_type": "code",
   "execution_count": 113,
   "metadata": {
    "colab": {
     "base_uri": "https://localhost:8080/"
    },
    "id": "zlY2JMzEMag1",
    "outputId": "490fb401-f0a6-4738-ea38-10feb33d634d"
   },
   "outputs": [
    {
     "data": {
      "text/plain": [
       "[(('protectuаsky', 'stoprussia'), 20),\n",
       " (('russianinvasion', 'standwithukraine'), 20),\n",
       " (('russianinvasion', 'ukrainewillwin'), 20),\n",
       " (('russianinvasion', 'stopputin'), 20),\n",
       " (('russianinvasion', 'russianukrainianwar'), 20),\n",
       " (('russianinvasion', 'russiagohome'), 20),\n",
       " (('russianinvasion', 'нетвойне'), 20),\n",
       " (('standwithukraine', 'ukrainewillwin'), 20),\n",
       " (('standwithukraine', 'stopputin'), 23),\n",
       " (('standwithukraine', 'russianukrainianwar'), 20),\n",
       " (('standwithukraine', 'russiagohome'), 20),\n",
       " (('standwithukraine', 'нетвойне'), 20),\n",
       " (('ukrainewillwin', 'stopputin'), 20),\n",
       " (('ukrainewillwin', 'russianukrainianwar'), 20),\n",
       " (('ukrainewillwin', 'russiagohome'), 20),\n",
       " (('ukrainewillwin', 'нетвойне'), 20),\n",
       " (('stopputin', 'russianukrainianwar'), 20),\n",
       " (('stopputin', 'russiagohome'), 20),\n",
       " (('stopputin', 'нетвойне'), 20),\n",
       " (('russianukrainianwar', 'russiagohome'), 20),\n",
       " (('russianukrainianwar', 'нетвойне'), 20),\n",
       " (('russiagohome', 'нетвойне'), 20),\n",
       " (('ukraineunderattack', 'putinisawarcriminal'), 20),\n",
       " (('ukraineunderattack', 'россиясмотри'), 20),\n",
       " (('putinisawarcriminal', 'россиясмотри'), 20),\n",
       " (('nft', 'mint'), 33),\n",
       " (('russia', 'ukraine'), 29),\n",
       " (('ukraine', 'kyiv'), 22),\n",
       " (('settodraw', 'tanzaniaproject'), 10),\n",
       " (('settodraw', 'africa'), 10),\n",
       " (('settodraw', 'mining'), 10),\n",
       " (('tanzaniaproject', 'africa'), 10),\n",
       " (('tanzaniaproject', 'mining'), 10),\n",
       " (('africa', 'mining'), 10),\n",
       " (('gas', 'energy'), 10),\n",
       " (('gas', 'coal'), 10),\n",
       " (('energy', 'coal'), 10),\n",
       " (('ukraine', 'russian'), 11),\n",
       " (('ukrainian', 'kherson'), 14),\n",
       " (('ukraineunderattaсk', 'protectuаsky'), 20),\n",
       " (('ukraineunderattaсk', 'stoprussia'), 20),\n",
       " (('russianinvasion', 'ukraineunderattack'), 20),\n",
       " (('russianinvasion', 'putinisawarcriminal'), 20),\n",
       " (('russianinvasion', 'россиясмотри'), 20),\n",
       " (('standwithukraine', 'ukraineunderattack'), 20),\n",
       " (('standwithukraine', 'putinisawarcriminal'), 20),\n",
       " (('standwithukraine', 'россиясмотри'), 20),\n",
       " (('ukrainewillwin', 'ukraineunderattack'), 20),\n",
       " (('ukrainewillwin', 'putinisawarcriminal'), 20),\n",
       " (('ukrainewillwin', 'россиясмотри'), 20),\n",
       " (('stopputin', 'ukraineunderattack'), 20),\n",
       " (('stopputin', 'putinisawarcriminal'), 20),\n",
       " (('stopputin', 'россиясмотри'), 20),\n",
       " (('russianukrainianwar', 'ukraineunderattack'), 20),\n",
       " (('russianukrainianwar', 'putinisawarcriminal'), 20),\n",
       " (('russianukrainianwar', 'россиясмотри'), 20),\n",
       " (('russiagohome', 'ukraineunderattack'), 20),\n",
       " (('russiagohome', 'putinisawarcriminal'), 20),\n",
       " (('russiagohome', 'россиясмотри'), 20),\n",
       " (('нетвойне', 'ukraineunderattack'), 20),\n",
       " (('нетвойне', 'putinisawarcriminal'), 20),\n",
       " (('нетвойне', 'россиясмотри'), 20),\n",
       " (('putin', 'ukraine'), 12),\n",
       " (('putin', 'gas'), 11),\n",
       " (('settodraw', 'gas'), 10),\n",
       " (('settodraw', 'energy'), 10),\n",
       " (('settodraw', 'coal'), 10),\n",
       " (('tanzaniaproject', 'gas'), 10),\n",
       " (('tanzaniaproject', 'energy'), 10),\n",
       " (('tanzaniaproject', 'coal'), 10),\n",
       " (('africa', 'gas'), 10),\n",
       " (('africa', 'energy'), 10),\n",
       " (('africa', 'coal'), 10),\n",
       " (('mining', 'gas'), 10),\n",
       " (('mining', 'energy'), 10),\n",
       " (('mining', 'coal'), 10),\n",
       " (('ukrainerussiawar', 'ukraine'), 18)]"
      ]
     },
     "execution_count": 113,
     "metadata": {},
     "output_type": "execute_result"
    }
   ],
   "source": [
    "flatted_couples = basket_file.map(lambda x: [(pair,1) for pair in candidate_pairs_list if set(pair).\\\n",
    "                                             issubset(set(x))]).flatMap(lambda x: x).cache()\n",
    "\n",
    "reduced_elements = flatted_couples.reduceByKey(lambda a, b: a + b)\n",
    "freq_pairs = reduced_elements.filter(lambda x : x[1] >= threshold).cache()\n",
    "result_MULTI_HASH = list(freq_pairs.map(lambda x: x).toLocalIterator())\n",
    "result_MULTI_HASH_sorted = list(freq_pairs.sortBy(lambda x: x[1]).toLocalIterator())\n",
    "\n",
    "freq_pairs.collect()"
   ]
  },
  {
   "cell_type": "markdown",
   "metadata": {
    "id": "KT9sC0_rC6LK"
   },
   "source": [
    "## SON"
   ]
  },
  {
   "cell_type": "code",
   "execution_count": 125,
   "metadata": {
    "id": "8F2EUwXdC3xb"
   },
   "outputs": [],
   "source": [
    "# define Apriori function (same lines of code previously seen) to use in SON\n",
    "from itertools import combinations\n",
    "def Apriori(basket_file, threshold):\n",
    "  singleton=basket_file.flatMap(list).map(lambda item: (item,1)).reduceByKey(lambda a,b: a+b) #1st phase\n",
    "  freq_singleton=singleton.filter(lambda x: x[1]>=threshold)#between 1st and 2nd phase\n",
    "  pairs=list(combinations(freq_singleton.map(lambda x: x[0]).toLocalIterator(),2)) #start of the 2nd phase\n",
    "  flatted_couples = basket_file.map(lambda x: [(pair,1) for pair in pairs if set(pair).issubset(set(x))]).flatMap(lambda x: x).cache()\n",
    "  reduced_elements = flatted_couples.reduceByKey(lambda a, b: a + b)\n",
    "  freq_pairs = reduced_elements.filter(lambda x : x[1] >= threshold).cache()\n",
    "  return freq_pairs"
   ]
  },
  {
   "cell_type": "code",
   "execution_count": 126,
   "metadata": {
    "colab": {
     "base_uri": "https://localhost:8080/"
    },
    "id": "aFwR42VWC304",
    "outputId": "433cae1f-6f1e-4de6-d9e0-6d16203d7d10"
   },
   "outputs": [
    {
     "name": "stdout",
     "output_type": "stream",
     "text": [
      "250.0\n"
     ]
    }
   ],
   "source": [
    "#We need to define the size of the chunk for dividing the basket file\n",
    "NUMBER_OF_CHUNKS = 2 \n",
    "\n",
    "chunks = basket_file.repartition(NUMBER_OF_CHUNKS).glom().collect() \n",
    "\n",
    "SIZE_CHUNK = num_baskets/NUMBER_OF_CHUNKS\n",
    "print(SIZE_CHUNK)"
   ]
  },
  {
   "cell_type": "code",
   "execution_count": 128,
   "metadata": {
    "id": "p6haB63IC330"
   },
   "outputs": [],
   "source": [
    "all_pairs = spark.sparkContext.parallelize([]) #empty RDD\n",
    "scaled_threshold = 0.9 * (SIZE_CHUNK/num_baskets) * threshold\n",
    "\n",
    "for chunk in chunks:\n",
    "  rdd_chunk = spark.sparkContext.parallelize(chunk) #rdd_chun contain thecurrent chunk\n",
    "  freq_pairs = Apriori(rdd_chunk, threshold=scaled_threshold)\n",
    "  all_pairs = all_pairs.union(freq_pairs) \n",
    "  \n",
    "#all pairs at the end of the for will contain the results of Apriori run on the two chunks\n",
    "\n",
    "all_pairs = all_pairs.map(lambda x : x[0]).distinct()  #elimination of duplicates (from (a,b),(a,b) to (a,b))\n",
    "candidate_pairs_list = list(all_pairs.map(lambda x: x).toLocalIterator()) #convert to list\n",
    "\n",
    "\n",
    "# It is possible that Apriori output from a chunk a frequent pair (\"Hello\",\"Computer) and Apriori output (\"Hello\",\"Computer) for another chunk.\n",
    "#We need to delete also the duplicates of this from.\n",
    "\n",
    "candidate_pairs = candidate_pairs_list\n",
    "\n",
    "for i, pair_1 in enumerate(candidate_pairs_list):\n",
    "  for j, pair_2 in enumerate(candidate_pairs_list):\n",
    "    if (i!= j and frozenset(pair_1) == frozenset(pair_2)): # I got something like (a,b) (b,a) but I'm intrested only in one of them.\n",
    "      candidate_pairs.remove(pair_2) #remove pair_2 from list\n"
   ]
  },
  {
   "cell_type": "markdown",
   "metadata": {
    "id": "c6Qd5jQaMTNH"
   },
   "source": [
    "## 2nd map reduce"
   ]
  },
  {
   "cell_type": "code",
   "execution_count": 132,
   "metadata": {
    "colab": {
     "base_uri": "https://localhost:8080/"
    },
    "id": "pwb7jYmVC36D",
    "outputId": "28194e85-b657-4020-b211-21400162d740"
   },
   "outputs": [
    {
     "data": {
      "text/plain": [
       "[(('protectuаsky', 'stoprussia'), 20),\n",
       " (('russianinvasion', 'standwithukraine'), 20),\n",
       " (('ukrainewillwin', 'stopputin'), 20),\n",
       " (('ukrainewillwin', 'russiagohome'), 20),\n",
       " (('ukrainewillwin', 'нетвойне'), 20),\n",
       " (('russiagohome', 'нетвойне'), 20),\n",
       " (('ukraineunderattack', 'putinisawarcriminal'), 20),\n",
       " (('ukraineunderattack', 'россиясмотри'), 20),\n",
       " (('stopputin', 'standwithukraine'), 23),\n",
       " (('russianukrainianwar', 'standwithukraine'), 20),\n",
       " (('russianukrainianwar', 'russianinvasion'), 20),\n",
       " (('russianukrainianwar', 'ukrainewillwin'), 20),\n",
       " (('nft', 'mint'), 33),\n",
       " (('russia', 'ukraine'), 29),\n",
       " (('ukraine', 'kyiv'), 22),\n",
       " (('settodraw', 'tanzaniaproject'), 10),\n",
       " (('settodraw', 'africa'), 10),\n",
       " (('tanzaniaproject', 'mining'), 10),\n",
       " (('russianinvasion', 'ukraineunderattack'), 20),\n",
       " (('russianinvasion', 'putinisawarcriminal'), 20),\n",
       " (('russianinvasion', 'россиясмотри'), 20),\n",
       " (('standwithukraine', 'ukraineunderattack'), 20),\n",
       " (('russianukrainianwar', 'ukraineunderattack'), 20),\n",
       " (('russianukrainianwar', 'putinisawarcriminal'), 20),\n",
       " (('нетвойне', 'putinisawarcriminal'), 20),\n",
       " (('putin', 'gas'), 11),\n",
       " (('africa', 'energy'), 10),\n",
       " (('mining', 'energy'), 10),\n",
       " (('russianinvasion', 'russiagohome'), 20),\n",
       " (('russianinvasion', 'нетвойне'), 20),\n",
       " (('standwithukraine', 'ukrainewillwin'), 20),\n",
       " (('stopputin', 'нетвойне'), 20),\n",
       " (('russianukrainianwar', 'russiagohome'), 20),\n",
       " (('settodraw', 'mining'), 10),\n",
       " (('gas', 'coal'), 10),\n",
       " (('energy', 'coal'), 10),\n",
       " (('ukrainian', 'kherson'), 14),\n",
       " (('ukraineunderattaсk', 'protectuаsky'), 20),\n",
       " (('ukraineunderattaсk', 'stoprussia'), 20),\n",
       " (('standwithukraine', 'putinisawarcriminal'), 20),\n",
       " (('ukrainewillwin', 'ukraineunderattack'), 20),\n",
       " (('ukrainewillwin', 'putinisawarcriminal'), 20),\n",
       " (('ukrainewillwin', 'россиясмотри'), 20),\n",
       " (('stopputin', 'ukraineunderattack'), 20),\n",
       " (('stopputin', 'россиясмотри'), 20),\n",
       " (('russianukrainianwar', 'россиясмотри'), 20),\n",
       " (('russiagohome', 'ukraineunderattack'), 20),\n",
       " (('нетвойне', 'ukraineunderattack'), 20),\n",
       " (('settodraw', 'gas'), 10),\n",
       " (('settodraw', 'energy'), 10),\n",
       " (('settodraw', 'coal'), 10),\n",
       " (('tanzaniaproject', 'energy'), 10),\n",
       " (('africa', 'coal'), 10),\n",
       " (('mining', 'gas'), 10),\n",
       " (('mining', 'coal'), 10),\n",
       " (('ukrainerussiawar', 'ukraine'), 18),\n",
       " (('russianinvasion', 'ukrainewillwin'), 20),\n",
       " (('russianinvasion', 'stopputin'), 20),\n",
       " (('standwithukraine', 'russiagohome'), 20),\n",
       " (('standwithukraine', 'нетвойне'), 20),\n",
       " (('stopputin', 'russianukrainianwar'), 20),\n",
       " (('stopputin', 'russiagohome'), 20),\n",
       " (('russianukrainianwar', 'нетвойне'), 20),\n",
       " (('putinisawarcriminal', 'россиясмотри'), 20),\n",
       " (('russian', 'ukraine'), 11),\n",
       " (('tanzaniaproject', 'africa'), 10),\n",
       " (('africa', 'mining'), 10),\n",
       " (('gas', 'energy'), 10),\n",
       " (('standwithukraine', 'россиясмотри'), 20),\n",
       " (('stopputin', 'putinisawarcriminal'), 20),\n",
       " (('russiagohome', 'putinisawarcriminal'), 20),\n",
       " (('russiagohome', 'россиясмотри'), 20),\n",
       " (('нетвойне', 'россиясмотри'), 20),\n",
       " (('putin', 'ukraine'), 12),\n",
       " (('tanzaniaproject', 'gas'), 10),\n",
       " (('tanzaniaproject', 'coal'), 10),\n",
       " (('africa', 'gas'), 10)]"
      ]
     },
     "execution_count": 132,
     "metadata": {},
     "output_type": "execute_result"
    }
   ],
   "source": [
    "#CHECK AGAINST FP\n",
    "\n",
    "final_rdd = spark.sparkContext.parallelize([]) #empty RDD\n",
    "\n",
    "for chunk in chunks:\n",
    "  rdd_chunk = spark.sparkContext.parallelize(chunk)\n",
    "  flatted_couples_chunk = rdd_chunk.map(lambda x: [(pair,1) for pair in candidate_pairs if set(pair).\\\n",
    "                                             issubset(set(x))]).flatMap(lambda x: x).cache()\n",
    "  final_rdd = final_rdd.union(flatted_couples_chunk)\n",
    "\n",
    "\n",
    "reduced_elements = final_rdd.reduceByKey(lambda a, b: a + b)\n",
    "freq_pairs = reduced_elements.filter(lambda x : x[1] >= threshold).cache() \n",
    "result_SON = list(freq_pairs.map(lambda x: x).toLocalIterator())\n",
    "freq_pairs.collect()"
   ]
  },
  {
   "cell_type": "code",
   "execution_count": 133,
   "metadata": {
    "colab": {
     "base_uri": "https://localhost:8080/"
    },
    "id": "SVlA_-_mbe29",
    "outputId": "173f64e7-742e-4dbb-935a-255d6d1ad884"
   },
   "outputs": [
    {
     "data": {
      "text/plain": [
       "77"
      ]
     },
     "execution_count": 133,
     "metadata": {},
     "output_type": "execute_result"
    }
   ],
   "source": [
    "freq_pairs.count()"
   ]
  },
  {
   "cell_type": "markdown",
   "metadata": {
    "id": "axANLofBLJHi"
   },
   "source": [
    "#BRIEF ANALYS ON ASSOCIATION RULES\n",
    "\n",
    "---\n",
    "\n"
   ]
  },
  {
   "cell_type": "code",
   "execution_count": 134,
   "metadata": {
    "id": "-tWGjDrCMv8h"
   },
   "outputs": [],
   "source": [
    "def retrive_freq(singleton):\n",
    "  for sing in freq_singleton_list:\n",
    "    if sing[0]==singleton:\n",
    "      return sing[1]"
   ]
  },
  {
   "cell_type": "code",
   "execution_count": 135,
   "metadata": {
    "colab": {
     "base_uri": "https://localhost:8080/"
    },
    "id": "9QKm00_JNVZV",
    "outputId": "194de73e-5019-4441-a5dd-8f79afca1acc"
   },
   "outputs": [
    {
     "data": {
      "text/plain": [
       "('ukraineunderattaсk', 27)"
      ]
     },
     "execution_count": 135,
     "metadata": {},
     "output_type": "execute_result"
    }
   ],
   "source": [
    "freq_singleton_list[0]"
   ]
  },
  {
   "cell_type": "code",
   "execution_count": 136,
   "metadata": {
    "colab": {
     "base_uri": "https://localhost:8080/"
    },
    "id": "pHbrTTMiNVdQ",
    "outputId": "d48e5381-4612-45e8-f90d-e7c836c4f3dd"
   },
   "outputs": [
    {
     "data": {
      "text/plain": [
       "27"
      ]
     },
     "execution_count": 136,
     "metadata": {},
     "output_type": "execute_result"
    }
   ],
   "source": [
    "retrive_freq('ukraineunderattaсk')"
   ]
  },
  {
   "cell_type": "code",
   "execution_count": 137,
   "metadata": {
    "id": "7yv9q1taLREJ"
   },
   "outputs": [],
   "source": [
    "analisys=[]\n",
    "for elem in result_PCY:\n",
    "  an_row=[]\n",
    "  \n",
    "  support=elem[1]/500   #elem[1]=support of the pair elem[0], 500=# of baskets analyzed while perofrming PCY\n",
    "  confidence_0=elem[1]/retrive_freq(elem[0][0]) #confidence of the rule A-->B\n",
    "  confidence_1=elem[1]/retrive_freq(elem[0][1]) #confidence of the rule B-->A\n",
    "  lift=support/( (retrive_freq(elem[0][0])/500) * (retrive_freq(elem[0][1])/500) )\n",
    "  interest_0=confidence_0-(retrive_freq(elem[0][1])/500)\n",
    "  interest_1=confidence_1-(retrive_freq(elem[0][0])/500)\n",
    "\n",
    "  rule_0=elem[0][0]+\"-->\"+elem[0][1]\n",
    "  rule_1=elem[0][1]+\"-->\"+elem[0][0]\n",
    "\n",
    "  an_row.append(rule_0)\n",
    "  an_row.append(support)\n",
    "  an_row.append(confidence_0)\n",
    "  an_row.append(lift)\n",
    "  an_row.append(interest_0)\n",
    "  analisys.append(an_row)\n",
    "\n",
    "  an_row=[]\n",
    "  an_row.append(rule_1)\n",
    "  an_row.append(support)\n",
    "  an_row.append(confidence_1)\n",
    "  an_row.append(lift)\n",
    "  an_row.append(interest_1)\n",
    "  analisys.append(an_row)"
   ]
  },
  {
   "cell_type": "code",
   "execution_count": 138,
   "metadata": {
    "id": "egN5gzNeS0bU"
   },
   "outputs": [],
   "source": [
    "df = pd.DataFrame(analisys, columns = ['Rule','Support','Confidence','Lift','Interest'])\n",
    "df=df.round(3)"
   ]
  },
  {
   "cell_type": "code",
   "execution_count": 139,
   "metadata": {
    "colab": {
     "base_uri": "https://localhost:8080/",
     "height": 424
    },
    "id": "_oqYvFjgTaAi",
    "outputId": "3bd9bea6-afc2-4e87-a038-6b68516ced06"
   },
   "outputs": [
    {
     "data": {
      "text/html": [
       "\n",
       "  <div id=\"df-77003ec1-f8fa-407c-a3e3-d06ae9e8d1ef\">\n",
       "    <div class=\"colab-df-container\">\n",
       "      <div>\n",
       "<style scoped>\n",
       "    .dataframe tbody tr th:only-of-type {\n",
       "        vertical-align: middle;\n",
       "    }\n",
       "\n",
       "    .dataframe tbody tr th {\n",
       "        vertical-align: top;\n",
       "    }\n",
       "\n",
       "    .dataframe thead th {\n",
       "        text-align: right;\n",
       "    }\n",
       "</style>\n",
       "<table border=\"1\" class=\"dataframe\">\n",
       "  <thead>\n",
       "    <tr style=\"text-align: right;\">\n",
       "      <th></th>\n",
       "      <th>Rule</th>\n",
       "      <th>Support</th>\n",
       "      <th>Confidence</th>\n",
       "      <th>Lift</th>\n",
       "      <th>Interest</th>\n",
       "    </tr>\n",
       "  </thead>\n",
       "  <tbody>\n",
       "    <tr>\n",
       "      <th>0</th>\n",
       "      <td>protectuаsky--&gt;stoprussia</td>\n",
       "      <td>0.040</td>\n",
       "      <td>1.000</td>\n",
       "      <td>15.625</td>\n",
       "      <td>0.936</td>\n",
       "    </tr>\n",
       "    <tr>\n",
       "      <th>1</th>\n",
       "      <td>stoprussia--&gt;protectuаsky</td>\n",
       "      <td>0.040</td>\n",
       "      <td>0.625</td>\n",
       "      <td>15.625</td>\n",
       "      <td>0.585</td>\n",
       "    </tr>\n",
       "    <tr>\n",
       "      <th>2</th>\n",
       "      <td>russianinvasion--&gt;standwithukraine</td>\n",
       "      <td>0.040</td>\n",
       "      <td>1.000</td>\n",
       "      <td>9.804</td>\n",
       "      <td>0.898</td>\n",
       "    </tr>\n",
       "    <tr>\n",
       "      <th>3</th>\n",
       "      <td>standwithukraine--&gt;russianinvasion</td>\n",
       "      <td>0.040</td>\n",
       "      <td>0.392</td>\n",
       "      <td>9.804</td>\n",
       "      <td>0.352</td>\n",
       "    </tr>\n",
       "    <tr>\n",
       "      <th>4</th>\n",
       "      <td>russianinvasion--&gt;ukrainewillwin</td>\n",
       "      <td>0.040</td>\n",
       "      <td>1.000</td>\n",
       "      <td>22.727</td>\n",
       "      <td>0.956</td>\n",
       "    </tr>\n",
       "    <tr>\n",
       "      <th>...</th>\n",
       "      <td>...</td>\n",
       "      <td>...</td>\n",
       "      <td>...</td>\n",
       "      <td>...</td>\n",
       "      <td>...</td>\n",
       "    </tr>\n",
       "    <tr>\n",
       "      <th>149</th>\n",
       "      <td>energy--&gt;mining</td>\n",
       "      <td>0.020</td>\n",
       "      <td>1.000</td>\n",
       "      <td>50.000</td>\n",
       "      <td>0.980</td>\n",
       "    </tr>\n",
       "    <tr>\n",
       "      <th>150</th>\n",
       "      <td>mining--&gt;coal</td>\n",
       "      <td>0.020</td>\n",
       "      <td>1.000</td>\n",
       "      <td>50.000</td>\n",
       "      <td>0.980</td>\n",
       "    </tr>\n",
       "    <tr>\n",
       "      <th>151</th>\n",
       "      <td>coal--&gt;mining</td>\n",
       "      <td>0.020</td>\n",
       "      <td>1.000</td>\n",
       "      <td>50.000</td>\n",
       "      <td>0.980</td>\n",
       "    </tr>\n",
       "    <tr>\n",
       "      <th>152</th>\n",
       "      <td>ukrainerussiawar--&gt;ukraine</td>\n",
       "      <td>0.036</td>\n",
       "      <td>0.545</td>\n",
       "      <td>1.274</td>\n",
       "      <td>0.117</td>\n",
       "    </tr>\n",
       "    <tr>\n",
       "      <th>153</th>\n",
       "      <td>ukraine--&gt;ukrainerussiawar</td>\n",
       "      <td>0.036</td>\n",
       "      <td>0.084</td>\n",
       "      <td>1.274</td>\n",
       "      <td>0.018</td>\n",
       "    </tr>\n",
       "  </tbody>\n",
       "</table>\n",
       "<p>154 rows × 5 columns</p>\n",
       "</div>\n",
       "      <button class=\"colab-df-convert\" onclick=\"convertToInteractive('df-77003ec1-f8fa-407c-a3e3-d06ae9e8d1ef')\"\n",
       "              title=\"Convert this dataframe to an interactive table.\"\n",
       "              style=\"display:none;\">\n",
       "        \n",
       "  <svg xmlns=\"http://www.w3.org/2000/svg\" height=\"24px\"viewBox=\"0 0 24 24\"\n",
       "       width=\"24px\">\n",
       "    <path d=\"M0 0h24v24H0V0z\" fill=\"none\"/>\n",
       "    <path d=\"M18.56 5.44l.94 2.06.94-2.06 2.06-.94-2.06-.94-.94-2.06-.94 2.06-2.06.94zm-11 1L8.5 8.5l.94-2.06 2.06-.94-2.06-.94L8.5 2.5l-.94 2.06-2.06.94zm10 10l.94 2.06.94-2.06 2.06-.94-2.06-.94-.94-2.06-.94 2.06-2.06.94z\"/><path d=\"M17.41 7.96l-1.37-1.37c-.4-.4-.92-.59-1.43-.59-.52 0-1.04.2-1.43.59L10.3 9.45l-7.72 7.72c-.78.78-.78 2.05 0 2.83L4 21.41c.39.39.9.59 1.41.59.51 0 1.02-.2 1.41-.59l7.78-7.78 2.81-2.81c.8-.78.8-2.07 0-2.86zM5.41 20L4 18.59l7.72-7.72 1.47 1.35L5.41 20z\"/>\n",
       "  </svg>\n",
       "      </button>\n",
       "      \n",
       "  <style>\n",
       "    .colab-df-container {\n",
       "      display:flex;\n",
       "      flex-wrap:wrap;\n",
       "      gap: 12px;\n",
       "    }\n",
       "\n",
       "    .colab-df-convert {\n",
       "      background-color: #E8F0FE;\n",
       "      border: none;\n",
       "      border-radius: 50%;\n",
       "      cursor: pointer;\n",
       "      display: none;\n",
       "      fill: #1967D2;\n",
       "      height: 32px;\n",
       "      padding: 0 0 0 0;\n",
       "      width: 32px;\n",
       "    }\n",
       "\n",
       "    .colab-df-convert:hover {\n",
       "      background-color: #E2EBFA;\n",
       "      box-shadow: 0px 1px 2px rgba(60, 64, 67, 0.3), 0px 1px 3px 1px rgba(60, 64, 67, 0.15);\n",
       "      fill: #174EA6;\n",
       "    }\n",
       "\n",
       "    [theme=dark] .colab-df-convert {\n",
       "      background-color: #3B4455;\n",
       "      fill: #D2E3FC;\n",
       "    }\n",
       "\n",
       "    [theme=dark] .colab-df-convert:hover {\n",
       "      background-color: #434B5C;\n",
       "      box-shadow: 0px 1px 3px 1px rgba(0, 0, 0, 0.15);\n",
       "      filter: drop-shadow(0px 1px 2px rgba(0, 0, 0, 0.3));\n",
       "      fill: #FFFFFF;\n",
       "    }\n",
       "  </style>\n",
       "\n",
       "      <script>\n",
       "        const buttonEl =\n",
       "          document.querySelector('#df-77003ec1-f8fa-407c-a3e3-d06ae9e8d1ef button.colab-df-convert');\n",
       "        buttonEl.style.display =\n",
       "          google.colab.kernel.accessAllowed ? 'block' : 'none';\n",
       "\n",
       "        async function convertToInteractive(key) {\n",
       "          const element = document.querySelector('#df-77003ec1-f8fa-407c-a3e3-d06ae9e8d1ef');\n",
       "          const dataTable =\n",
       "            await google.colab.kernel.invokeFunction('convertToInteractive',\n",
       "                                                     [key], {});\n",
       "          if (!dataTable) return;\n",
       "\n",
       "          const docLinkHtml = 'Like what you see? Visit the ' +\n",
       "            '<a target=\"_blank\" href=https://colab.research.google.com/notebooks/data_table.ipynb>data table notebook</a>'\n",
       "            + ' to learn more about interactive tables.';\n",
       "          element.innerHTML = '';\n",
       "          dataTable['output_type'] = 'display_data';\n",
       "          await google.colab.output.renderOutput(dataTable, element);\n",
       "          const docLink = document.createElement('div');\n",
       "          docLink.innerHTML = docLinkHtml;\n",
       "          element.appendChild(docLink);\n",
       "        }\n",
       "      </script>\n",
       "    </div>\n",
       "  </div>\n",
       "  "
      ],
      "text/plain": [
       "                                   Rule  Support  Confidence    Lift  Interest\n",
       "0             protectuаsky-->stoprussia    0.040       1.000  15.625     0.936\n",
       "1             stoprussia-->protectuаsky    0.040       0.625  15.625     0.585\n",
       "2    russianinvasion-->standwithukraine    0.040       1.000   9.804     0.898\n",
       "3    standwithukraine-->russianinvasion    0.040       0.392   9.804     0.352\n",
       "4      russianinvasion-->ukrainewillwin    0.040       1.000  22.727     0.956\n",
       "..                                  ...      ...         ...     ...       ...\n",
       "149                     energy-->mining    0.020       1.000  50.000     0.980\n",
       "150                       mining-->coal    0.020       1.000  50.000     0.980\n",
       "151                       coal-->mining    0.020       1.000  50.000     0.980\n",
       "152          ukrainerussiawar-->ukraine    0.036       0.545   1.274     0.117\n",
       "153          ukraine-->ukrainerussiawar    0.036       0.084   1.274     0.018\n",
       "\n",
       "[154 rows x 5 columns]"
      ]
     },
     "execution_count": 139,
     "metadata": {},
     "output_type": "execute_result"
    }
   ],
   "source": [
    "df"
   ]
  },
  {
   "cell_type": "markdown",
   "metadata": {
    "id": "H77SmnunUHdH"
   },
   "source": [
    "A lift of more than 1 suggests that the presence of \"protectuаsky\" increases the probability that \"stoprussia\" will also occur in the transaction."
   ]
  }
 ],
 "metadata": {
  "colab": {
   "collapsed_sections": [],
   "name": "lift.ipynb",
   "provenance": []
  },
  "kernelspec": {
   "display_name": "Python 3 (ipykernel)",
   "language": "python",
   "name": "python3"
  },
  "language_info": {
   "codemirror_mode": {
    "name": "ipython",
    "version": 3
   },
   "file_extension": ".py",
   "mimetype": "text/x-python",
   "name": "python",
   "nbconvert_exporter": "python",
   "pygments_lexer": "ipython3",
   "version": "3.7.3"
  }
 },
 "nbformat": 4,
 "nbformat_minor": 1
}
