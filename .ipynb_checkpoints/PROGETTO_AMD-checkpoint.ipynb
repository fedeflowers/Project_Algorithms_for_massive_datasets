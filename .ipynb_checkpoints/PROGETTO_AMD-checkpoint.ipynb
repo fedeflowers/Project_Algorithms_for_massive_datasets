{
 "cells": [
  {
   "cell_type": "markdown",
   "metadata": {
    "id": "I75tB61RaDHK"
   },
   "source": [
    "## Spark setting"
   ]
  },
  {
   "cell_type": "code",
   "execution_count": null,
   "metadata": {
    "id": "ocBQFMViafoF"
   },
   "outputs": [],
   "source": [
    "!apt-get install openjdk-8-jdk-headless -qq > /dev/null\n",
    "!wget -q https://downloads.apache.org/spark/spark-3.0.3/spark-3.0.3-bin-hadoop2.7.tgz \n",
    "!tar xf spark-3.0.3-bin-hadoop2.7.tgz\n",
    "!pip install -q findspark"
   ]
  },
  {
   "cell_type": "code",
   "execution_count": 191,
   "metadata": {
    "colab": {
     "base_uri": "https://localhost:8080/"
    },
    "id": "8MUUEgJVnM5Y",
    "outputId": "3c3fef11-4104-4fa6-de02-70288ad1649d"
   },
   "outputs": [
    {
     "name": "stdout",
     "output_type": "stream",
     "text": [
      "Requirement already satisfied: pyspark in /usr/local/lib/python3.7/dist-packages (3.2.1)\n",
      "Requirement already satisfied: py4j==0.10.9.3 in /usr/local/lib/python3.7/dist-packages (from pyspark) (0.10.9.3)\n"
     ]
    }
   ],
   "source": [
    "!pip install pyspark"
   ]
  },
  {
   "cell_type": "code",
   "execution_count": null,
   "metadata": {
    "id": "wg_tN5RmkCq3"
   },
   "outputs": [],
   "source": [
    "import os\n",
    "os.environ[\"JAVA_HOME\"] = \"/usr/lib/jvm/java-8-openjdk-amd64\"\n",
    "os.environ[\"SPARK_HOME\"] = \"/content/spark-3.0.3-bin-hadoop2.7\""
   ]
  },
  {
   "cell_type": "code",
   "execution_count": null,
   "metadata": {
    "id": "ehkhKsLqafrV"
   },
   "outputs": [],
   "source": [
    "import findspark\n",
    "findspark.init()\n",
    "from pyspark.sql import SparkSession\n",
    "spark = SparkSession.builder.master(\"local[*]\").getOrCreate()"
   ]
  },
  {
   "cell_type": "code",
   "execution_count": 193,
   "metadata": {
    "colab": {
     "base_uri": "https://localhost:8080/",
     "height": 219
    },
    "id": "AMVtczB1kLun",
    "outputId": "b100f9a8-ebbf-41d1-fd4f-9d5cb3a155ca"
   },
   "outputs": [
    {
     "data": {
      "text/html": [
       "\n",
       "            <div>\n",
       "                <p><b>SparkSession - in-memory</b></p>\n",
       "                \n",
       "        <div>\n",
       "            <p><b>SparkContext</b></p>\n",
       "\n",
       "            <p><a href=\"http://f5ccd69a4ddd:4040\">Spark UI</a></p>\n",
       "\n",
       "            <dl>\n",
       "              <dt>Version</dt>\n",
       "                <dd><code>v3.0.3</code></dd>\n",
       "              <dt>Master</dt>\n",
       "                <dd><code>local[*]</code></dd>\n",
       "              <dt>AppName</dt>\n",
       "                <dd><code>pyspark-shell</code></dd>\n",
       "            </dl>\n",
       "        </div>\n",
       "        \n",
       "            </div>\n",
       "        "
      ],
      "text/plain": [
       "<pyspark.sql.session.SparkSession at 0x7f3e66fc3a10>"
      ]
     },
     "execution_count": 193,
     "metadata": {},
     "output_type": "execute_result"
    }
   ],
   "source": [
    "spark"
   ]
  },
  {
   "cell_type": "markdown",
   "metadata": {
    "id": "n8WiLqFNaAbz"
   },
   "source": [
    "## Kaggle APIs"
   ]
  },
  {
   "cell_type": "markdown",
   "metadata": {
    "id": "5DCmGBC2ZoBi"
   },
   "source": [
    "________________________________________________________________________"
   ]
  },
  {
   "cell_type": "code",
   "execution_count": null,
   "metadata": {
    "colab": {
     "base_uri": "https://localhost:8080/",
     "height": 91,
     "resources": {
      "http://localhost:8080/nbextensions/google.colab/files.js": {
       "data": "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",
       "headers": [
        [
         "content-type",
         "application/javascript"
        ]
       ],
       "ok": true,
       "status": 200,
       "status_text": ""
      }
     }
    },
    "id": "wvJrKVr00SxV",
    "outputId": "85a5138d-9aab-4ecd-9d98-47775b45625a"
   },
   "outputs": [
    {
     "data": {
      "text/html": [
       "\n",
       "     <input type=\"file\" id=\"files-e1cf37eb-e07f-49a3-8e3e-a4c1ce226fed\" name=\"files[]\" multiple disabled\n",
       "        style=\"border:none\" />\n",
       "     <output id=\"result-e1cf37eb-e07f-49a3-8e3e-a4c1ce226fed\">\n",
       "      Upload widget is only available when the cell has been executed in the\n",
       "      current browser session. Please rerun this cell to enable.\n",
       "      </output>\n",
       "      <script src=\"/nbextensions/google.colab/files.js\"></script> "
      ],
      "text/plain": [
       "<IPython.core.display.HTML object>"
      ]
     },
     "metadata": {},
     "output_type": "display_data"
    },
    {
     "name": "stdout",
     "output_type": "stream",
     "text": [
      "Saving kaggle.json to kaggle.json\n"
     ]
    },
    {
     "data": {
      "text/plain": [
       "{'kaggle.json': b'{\"username\":\"federicofiorio\",\"key\":\"3c9fda0dd26cc20d5f652a577743142c\"}'}"
      ]
     },
     "execution_count": 6,
     "metadata": {},
     "output_type": "execute_result"
    }
   ],
   "source": [
    "from google.colab import files\n",
    "files.upload() #upload kaggle.json"
   ]
  },
  {
   "cell_type": "code",
   "execution_count": null,
   "metadata": {
    "colab": {
     "base_uri": "https://localhost:8080/"
    },
    "id": "9cD_HErCy5VX",
    "outputId": "b7a3d3e1-c6ff-4ef8-f4fe-96b0609abdc3"
   },
   "outputs": [
    {
     "name": "stdout",
     "output_type": "stream",
     "text": [
      "Requirement already satisfied: kaggle in /usr/local/lib/python3.7/dist-packages (1.5.12)\n",
      "Requirement already satisfied: urllib3 in /usr/local/lib/python3.7/dist-packages (from kaggle) (1.24.3)\n",
      "Requirement already satisfied: tqdm in /usr/local/lib/python3.7/dist-packages (from kaggle) (4.64.0)\n",
      "Requirement already satisfied: requests in /usr/local/lib/python3.7/dist-packages (from kaggle) (2.23.0)\n",
      "Requirement already satisfied: six>=1.10 in /usr/local/lib/python3.7/dist-packages (from kaggle) (1.15.0)\n",
      "Requirement already satisfied: python-slugify in /usr/local/lib/python3.7/dist-packages (from kaggle) (6.1.2)\n",
      "Requirement already satisfied: certifi in /usr/local/lib/python3.7/dist-packages (from kaggle) (2021.10.8)\n",
      "Requirement already satisfied: python-dateutil in /usr/local/lib/python3.7/dist-packages (from kaggle) (2.8.2)\n",
      "Requirement already satisfied: text-unidecode>=1.3 in /usr/local/lib/python3.7/dist-packages (from python-slugify->kaggle) (1.3)\n",
      "Requirement already satisfied: idna<3,>=2.5 in /usr/local/lib/python3.7/dist-packages (from requests->kaggle) (2.10)\n",
      "Requirement already satisfied: chardet<4,>=3.0.2 in /usr/local/lib/python3.7/dist-packages (from requests->kaggle) (3.0.4)\n"
     ]
    }
   ],
   "source": [
    "! pip install kaggle"
   ]
  },
  {
   "cell_type": "code",
   "execution_count": null,
   "metadata": {
    "id": "BCLkDT1D09a5"
   },
   "outputs": [],
   "source": [
    "! mkdir ~/.kaggle"
   ]
  },
  {
   "cell_type": "code",
   "execution_count": null,
   "metadata": {
    "id": "hAqh9chf0_0N"
   },
   "outputs": [],
   "source": [
    "!cp kaggle.json ~/.kaggle/"
   ]
  },
  {
   "cell_type": "code",
   "execution_count": null,
   "metadata": {
    "colab": {
     "base_uri": "https://localhost:8080/"
    },
    "id": "t6hitlea7e1f",
    "outputId": "8c3cc7ca-bd01-4562-9a44-d84bcbc776c5"
   },
   "outputs": [
    {
     "name": "stdout",
     "output_type": "stream",
     "text": [
      "kaggle.json\n"
     ]
    }
   ],
   "source": [
    "!ls ~/.kaggle"
   ]
  },
  {
   "cell_type": "code",
   "execution_count": null,
   "metadata": {
    "id": "GSkmf6Zc4dNv"
   },
   "outputs": [],
   "source": [
    "!chmod 600 /root/.kaggle/kaggle.json"
   ]
  },
  {
   "cell_type": "code",
   "execution_count": null,
   "metadata": {
    "colab": {
     "base_uri": "https://localhost:8080/"
    },
    "id": "Dv7QkLHU4nI2",
    "outputId": "c428e8dd-fb89-49d3-a189-2c8fb7fb207c"
   },
   "outputs": [
    {
     "name": "stdout",
     "output_type": "stream",
     "text": [
      "Downloading ukraine-russian-crisis-twitter-dataset-1-2-m-rows.zip to /content\n",
      "100% 7.05G/7.06G [00:51<00:00, 121MB/s]\n",
      "100% 7.06G/7.06G [00:51<00:00, 148MB/s]\n"
     ]
    }
   ],
   "source": [
    "!kaggle datasets download -d bwandowando/ukraine-russian-crisis-twitter-dataset-1-2-m-rows"
   ]
  },
  {
   "cell_type": "code",
   "execution_count": null,
   "metadata": {
    "colab": {
     "base_uri": "https://localhost:8080/"
    },
    "id": "lBspS-4-9Xgp",
    "outputId": "b24af4e7-0959-4054-e31a-0652b1884590"
   },
   "outputs": [
    {
     "name": "stdout",
     "output_type": "stream",
     "text": [
      "kaggle.json\n",
      "sample_data\n",
      "spark-3.0.3-bin-hadoop2.7\n",
      "spark-3.0.3-bin-hadoop2.7.tgz\n",
      "ukraine-russian-crisis-twitter-dataset-1-2-m-rows.zip\n"
     ]
    }
   ],
   "source": [
    "!ls"
   ]
  },
  {
   "cell_type": "code",
   "execution_count": null,
   "metadata": {
    "colab": {
     "base_uri": "https://localhost:8080/"
    },
    "id": "JOCKUrFx22Sp",
    "outputId": "d518bb25-a459-49a8-9f3c-bfdc591b53bd"
   },
   "outputs": [
    {
     "name": "stdout",
     "output_type": "stream",
     "text": [
      "Archive:  ukraine-russian-crisis-twitter-dataset-1-2-m-rows.zip\n",
      "  inflating: 0401_UkraineCombinedTweetsDeduped.csv.gzip  \n",
      "  inflating: 0402_UkraineCombinedTweetsDeduped.csv.gzip  \n",
      "  inflating: 0403_UkraineCombinedTweetsDeduped.csv.gzip  \n",
      "  inflating: 0404_UkraineCombinedTweetsDeduped.csv.gzip  \n",
      "  inflating: 0405_UkraineCombinedTweetsDeduped.csv.gzip  \n",
      "  inflating: 0406_UkraineCombinedTweetsDeduped.csv.gzip  \n",
      "  inflating: 0407_UkraineCombinedTweetsDeduped.csv.gzip  \n",
      "  inflating: 0408_UkraineCombinedTweetsDeduped.csv.gzip  \n",
      "  inflating: 0409_UkraineCombinedTweetsDeduped.csv.gzip  \n",
      "  inflating: 0410_UkraineCombinedTweetsDeduped.csv.gzip  \n",
      "  inflating: 0411_UkraineCombinedTweetsDeduped.csv.gzip  \n",
      "  inflating: 0412_UkraineCombinedTweetsDeduped.csv.gzip  \n",
      "  inflating: 0413_UkraineCombinedTweetsDeduped.csv.gzip  \n",
      "  inflating: 0414_UkraineCombinedTweetsDeduped.csv.gzip  \n",
      "  inflating: 0415_UkraineCombinedTweetsDeduped.csv.gzip  \n",
      "  inflating: 0416_UkraineCombinedTweetsDeduped.csv.gzip  \n",
      "  inflating: 0417_UkraineCombinedTweetsDeduped.csv.gzip  \n",
      "  inflating: 0418_UkraineCombinedTweetsDeduped.csv.gzip  \n",
      "  inflating: 0419_UkraineCombinedTweetsDeduped.csv.gzip  \n",
      "  inflating: 0420_UkraineCombinedTweetsDeduped.csv.gzip  \n",
      "  inflating: 0421_UkraineCombinedTweetsDeduped.csv.gzip  \n",
      "  inflating: 0422_UkraineCombinedTweetsDeduped.csv.gzip  \n",
      "  inflating: 0423_UkraineCombinedTweetsDeduped.csv.gzip  \n",
      "  inflating: 0424_UkraineCombinedTweetsDeduped.csv.gzip  \n",
      "  inflating: 0425_UkraineCombinedTweetsDeduped.csv.gzip  \n",
      "  inflating: 0426_UkraineCombinedTweetsDeduped.csv.gzip  \n",
      "  inflating: 0427_UkraineCombinedTweetsDeduped.csv.gzip  \n",
      "  inflating: 0428_UkraineCombinedTweetsDeduped.csv.gzip  \n",
      "  inflating: 0429_UkraineCombinedTweetsDeduped.csv.gzip  \n",
      "  inflating: 0430_UkraineCombinedTweetsDeduped.csv.gzip  \n",
      "  inflating: 0501_UkraineCombinedTweetsDeduped.csv.gzip  \n",
      "  inflating: 0502_UkraineCombinedTweetsDeduped.csv.gzip  \n",
      "  inflating: 0503_UkraineCombinedTweetsDeduped.csv.gzip  \n",
      "  inflating: 0504_UkraineCombinedTweetsDeduped.csv.gzip  \n",
      "  inflating: 0505_to_0507_UkraineCombinedTweetsDeduped.csv.gzip  \n",
      "  inflating: 0508_UkraineCombinedTweetsDeduped.csv.gzip  \n",
      "  inflating: 0509_UkraineCombinedTweetsDeduped.csv.gzip  \n",
      "  inflating: 0510_UkraineCombinedTweetsDeduped.csv.gzip  \n",
      "  inflating: 0511_UkraineCombinedTweetsDeduped.csv.gzip  \n",
      "  inflating: 0512_UkraineCombinedTweetsDeduped.csv.gzip  \n",
      "  inflating: 0513_UkraineCombinedTweetsDeduped.csv.gzip  \n",
      "  inflating: 0514_UkraineCombinedTweetsDeduped.csv.gzip  \n",
      "  inflating: 0515_UkraineCombinedTweetsDeduped.csv.gzip  \n",
      "  inflating: UkraineCombinedTweetsDeduped20220227-131611.csv.gzip  \n",
      "  inflating: UkraineCombinedTweetsDeduped_FEB27.csv.gzip  \n",
      "  inflating: UkraineCombinedTweetsDeduped_FEB28_part1.csv.gzip  \n",
      "  inflating: UkraineCombinedTweetsDeduped_FEB28_part2.csv.gzip  \n",
      "  inflating: UkraineCombinedTweetsDeduped_MAR01.csv.gzip  \n",
      "  inflating: UkraineCombinedTweetsDeduped_MAR02.csv.gzip  \n",
      "  inflating: UkraineCombinedTweetsDeduped_MAR03.csv.gzip  \n",
      "  inflating: UkraineCombinedTweetsDeduped_MAR04.csv.gzip  \n",
      "  inflating: UkraineCombinedTweetsDeduped_MAR05.csv.gzip  \n",
      "  inflating: UkraineCombinedTweetsDeduped_MAR06.csv.gzip  \n",
      "  inflating: UkraineCombinedTweetsDeduped_MAR07.csv.gzip  \n",
      "  inflating: UkraineCombinedTweetsDeduped_MAR08.csv.gzip  \n",
      "  inflating: UkraineCombinedTweetsDeduped_MAR09.csv.gzip  \n",
      "  inflating: UkraineCombinedTweetsDeduped_MAR10.csv.gzip  \n",
      "  inflating: UkraineCombinedTweetsDeduped_MAR11.csv.gzip  \n",
      "  inflating: UkraineCombinedTweetsDeduped_MAR12.csv.gzip  \n",
      "  inflating: UkraineCombinedTweetsDeduped_MAR13.csv.gzip  \n",
      "  inflating: UkraineCombinedTweetsDeduped_MAR14.csv.gzip  \n",
      "  inflating: UkraineCombinedTweetsDeduped_MAR15.csv.gzip  \n",
      "  inflating: UkraineCombinedTweetsDeduped_MAR16.csv.gzip  \n",
      "  inflating: UkraineCombinedTweetsDeduped_MAR17.csv.gzip  \n",
      "  inflating: UkraineCombinedTweetsDeduped_MAR18.csv.gzip  \n",
      "  inflating: UkraineCombinedTweetsDeduped_MAR19.csv.gzip  \n",
      "  inflating: UkraineCombinedTweetsDeduped_MAR20.csv.gzip  \n",
      "  inflating: UkraineCombinedTweetsDeduped_MAR21.csv.gzip  \n",
      "  inflating: UkraineCombinedTweetsDeduped_MAR22.csv.gzip  \n",
      "  inflating: UkraineCombinedTweetsDeduped_MAR23.csv.gzip  \n",
      "  inflating: UkraineCombinedTweetsDeduped_MAR24.csv.gzip  \n",
      "  inflating: UkraineCombinedTweetsDeduped_MAR25.csv.gzip  \n",
      "  inflating: UkraineCombinedTweetsDeduped_MAR26.csv.gzip  \n",
      "  inflating: UkraineCombinedTweetsDeduped_MAR27_to_28.csv.gzip  \n",
      "  inflating: UkraineCombinedTweetsDeduped_MAR29.csv.gzip  \n",
      "  inflating: UkraineCombinedTweetsDeduped_MAR30_REAL.csv.gzip  \n",
      "  inflating: UkraineCombinedTweetsDeduped_MAR31.csv.gzip  \n"
     ]
    }
   ],
   "source": [
    "!unzip ukraine-russian-crisis-twitter-dataset-1-2-m-rows.zip"
   ]
  },
  {
   "cell_type": "markdown",
   "metadata": {
    "id": "r9XHPiaqZ0zz"
   },
   "source": [
    "## Use the data"
   ]
  },
  {
   "cell_type": "markdown",
   "metadata": {
    "id": "Q2RBBWPHZx4r"
   },
   "source": [
    "________________________________________________________________________"
   ]
  },
  {
   "cell_type": "code",
   "execution_count": null,
   "metadata": {
    "id": "bNY3XvoLw3md"
   },
   "outputs": [],
   "source": [
    "import numpy as np\n",
    "import pandas as pd\n",
    "import csv\n",
    "import os\n",
    "import warnings"
   ]
  },
  {
   "cell_type": "code",
   "execution_count": null,
   "metadata": {
    "colab": {
     "base_uri": "https://localhost:8080/"
    },
    "id": "Hh2IS9SM9pYh",
    "outputId": "c160b28f-e52c-4629-d7b7-7d8ea2bfcde4"
   },
   "outputs": [
    {
     "name": "stderr",
     "output_type": "stream",
     "text": [
      "/usr/local/lib/python3.7/dist-packages/IPython/core/interactiveshell.py:2882: DtypeWarning: Columns (15) have mixed types.Specify dtype option on import or set low_memory=False.\n",
      "  exec(code_obj, self.user_global_ns, self.user_ns)\n"
     ]
    }
   ],
   "source": [
    "filename = r\"0401_UkraineCombinedTweetsDeduped.csv.gzip\"\n",
    "df = pd.read_csv(filename, compression='gzip', index_col=0,encoding='utf-8', quoting=csv.QUOTE_ALL)"
   ]
  },
  {
   "cell_type": "code",
   "execution_count": null,
   "metadata": {
    "colab": {
     "base_uri": "https://localhost:8080/",
     "height": 582
    },
    "id": "JCM3URp35liu",
    "outputId": "faf3fe00-e6f9-41a9-b7e2-4dd1fc08353b"
   },
   "outputs": [
    {
     "data": {
      "text/html": [
       "\n",
       "  <div id=\"df-d92d708e-b0e6-40cb-aae8-5a8f55198923\">\n",
       "    <div class=\"colab-df-container\">\n",
       "      <div>\n",
       "<style scoped>\n",
       "    .dataframe tbody tr th:only-of-type {\n",
       "        vertical-align: middle;\n",
       "    }\n",
       "\n",
       "    .dataframe tbody tr th {\n",
       "        vertical-align: top;\n",
       "    }\n",
       "\n",
       "    .dataframe thead th {\n",
       "        text-align: right;\n",
       "    }\n",
       "</style>\n",
       "<table border=\"1\" class=\"dataframe\">\n",
       "  <thead>\n",
       "    <tr style=\"text-align: right;\">\n",
       "      <th></th>\n",
       "      <th>0</th>\n",
       "      <th>1</th>\n",
       "    </tr>\n",
       "  </thead>\n",
       "  <tbody>\n",
       "    <tr>\n",
       "      <th>userid</th>\n",
       "      <td>16882774</td>\n",
       "      <td>3205296069</td>\n",
       "    </tr>\n",
       "    <tr>\n",
       "      <th>username</th>\n",
       "      <td>Yaniela</td>\n",
       "      <td>gregffff</td>\n",
       "    </tr>\n",
       "    <tr>\n",
       "      <th>acctdesc</th>\n",
       "      <td>Animal lover, supports those who fight injusti...</td>\n",
       "      <td>NaN</td>\n",
       "    </tr>\n",
       "    <tr>\n",
       "      <th>location</th>\n",
       "      <td>Hawaii</td>\n",
       "      <td>NaN</td>\n",
       "    </tr>\n",
       "    <tr>\n",
       "      <th>following</th>\n",
       "      <td>1158</td>\n",
       "      <td>122</td>\n",
       "    </tr>\n",
       "    <tr>\n",
       "      <th>followers</th>\n",
       "      <td>392</td>\n",
       "      <td>881</td>\n",
       "    </tr>\n",
       "    <tr>\n",
       "      <th>totaltweets</th>\n",
       "      <td>88366</td>\n",
       "      <td>99853</td>\n",
       "    </tr>\n",
       "    <tr>\n",
       "      <th>usercreatedts</th>\n",
       "      <td>2008-10-21 07:34:04.000000</td>\n",
       "      <td>2015-04-25 11:24:34.000000</td>\n",
       "    </tr>\n",
       "    <tr>\n",
       "      <th>tweetid</th>\n",
       "      <td>1509681950042198030</td>\n",
       "      <td>1509681950151348229</td>\n",
       "    </tr>\n",
       "    <tr>\n",
       "      <th>tweetcreatedts</th>\n",
       "      <td>2022-04-01 00:00:00.000000</td>\n",
       "      <td>2022-04-01 00:00:00.000000</td>\n",
       "    </tr>\n",
       "    <tr>\n",
       "      <th>retweetcount</th>\n",
       "      <td>3412</td>\n",
       "      <td>100</td>\n",
       "    </tr>\n",
       "    <tr>\n",
       "      <th>text</th>\n",
       "      <td>⚡The Ukrainian Air Force would like to address...</td>\n",
       "      <td>Chernihiv oblast. Ukrainians welcome their lib...</td>\n",
       "    </tr>\n",
       "    <tr>\n",
       "      <th>hashtags</th>\n",
       "      <td>[]</td>\n",
       "      <td>[{'text': 'russianinvasion', 'indices': [77, 9...</td>\n",
       "    </tr>\n",
       "    <tr>\n",
       "      <th>language</th>\n",
       "      <td>en</td>\n",
       "      <td>en</td>\n",
       "    </tr>\n",
       "    <tr>\n",
       "      <th>coordinates</th>\n",
       "      <td>NaN</td>\n",
       "      <td>NaN</td>\n",
       "    </tr>\n",
       "    <tr>\n",
       "      <th>favorite_count</th>\n",
       "      <td>0</td>\n",
       "      <td>0</td>\n",
       "    </tr>\n",
       "    <tr>\n",
       "      <th>extractedts</th>\n",
       "      <td>2022-04-01 00:44:20.097867</td>\n",
       "      <td>2022-04-01 00:09:37.148770</td>\n",
       "    </tr>\n",
       "  </tbody>\n",
       "</table>\n",
       "</div>\n",
       "      <button class=\"colab-df-convert\" onclick=\"convertToInteractive('df-d92d708e-b0e6-40cb-aae8-5a8f55198923')\"\n",
       "              title=\"Convert this dataframe to an interactive table.\"\n",
       "              style=\"display:none;\">\n",
       "        \n",
       "  <svg xmlns=\"http://www.w3.org/2000/svg\" height=\"24px\"viewBox=\"0 0 24 24\"\n",
       "       width=\"24px\">\n",
       "    <path d=\"M0 0h24v24H0V0z\" fill=\"none\"/>\n",
       "    <path d=\"M18.56 5.44l.94 2.06.94-2.06 2.06-.94-2.06-.94-.94-2.06-.94 2.06-2.06.94zm-11 1L8.5 8.5l.94-2.06 2.06-.94-2.06-.94L8.5 2.5l-.94 2.06-2.06.94zm10 10l.94 2.06.94-2.06 2.06-.94-2.06-.94-.94-2.06-.94 2.06-2.06.94z\"/><path d=\"M17.41 7.96l-1.37-1.37c-.4-.4-.92-.59-1.43-.59-.52 0-1.04.2-1.43.59L10.3 9.45l-7.72 7.72c-.78.78-.78 2.05 0 2.83L4 21.41c.39.39.9.59 1.41.59.51 0 1.02-.2 1.41-.59l7.78-7.78 2.81-2.81c.8-.78.8-2.07 0-2.86zM5.41 20L4 18.59l7.72-7.72 1.47 1.35L5.41 20z\"/>\n",
       "  </svg>\n",
       "      </button>\n",
       "      \n",
       "  <style>\n",
       "    .colab-df-container {\n",
       "      display:flex;\n",
       "      flex-wrap:wrap;\n",
       "      gap: 12px;\n",
       "    }\n",
       "\n",
       "    .colab-df-convert {\n",
       "      background-color: #E8F0FE;\n",
       "      border: none;\n",
       "      border-radius: 50%;\n",
       "      cursor: pointer;\n",
       "      display: none;\n",
       "      fill: #1967D2;\n",
       "      height: 32px;\n",
       "      padding: 0 0 0 0;\n",
       "      width: 32px;\n",
       "    }\n",
       "\n",
       "    .colab-df-convert:hover {\n",
       "      background-color: #E2EBFA;\n",
       "      box-shadow: 0px 1px 2px rgba(60, 64, 67, 0.3), 0px 1px 3px 1px rgba(60, 64, 67, 0.15);\n",
       "      fill: #174EA6;\n",
       "    }\n",
       "\n",
       "    [theme=dark] .colab-df-convert {\n",
       "      background-color: #3B4455;\n",
       "      fill: #D2E3FC;\n",
       "    }\n",
       "\n",
       "    [theme=dark] .colab-df-convert:hover {\n",
       "      background-color: #434B5C;\n",
       "      box-shadow: 0px 1px 3px 1px rgba(0, 0, 0, 0.15);\n",
       "      filter: drop-shadow(0px 1px 2px rgba(0, 0, 0, 0.3));\n",
       "      fill: #FFFFFF;\n",
       "    }\n",
       "  </style>\n",
       "\n",
       "      <script>\n",
       "        const buttonEl =\n",
       "          document.querySelector('#df-d92d708e-b0e6-40cb-aae8-5a8f55198923 button.colab-df-convert');\n",
       "        buttonEl.style.display =\n",
       "          google.colab.kernel.accessAllowed ? 'block' : 'none';\n",
       "\n",
       "        async function convertToInteractive(key) {\n",
       "          const element = document.querySelector('#df-d92d708e-b0e6-40cb-aae8-5a8f55198923');\n",
       "          const dataTable =\n",
       "            await google.colab.kernel.invokeFunction('convertToInteractive',\n",
       "                                                     [key], {});\n",
       "          if (!dataTable) return;\n",
       "\n",
       "          const docLinkHtml = 'Like what you see? Visit the ' +\n",
       "            '<a target=\"_blank\" href=https://colab.research.google.com/notebooks/data_table.ipynb>data table notebook</a>'\n",
       "            + ' to learn more about interactive tables.';\n",
       "          element.innerHTML = '';\n",
       "          dataTable['output_type'] = 'display_data';\n",
       "          await google.colab.output.renderOutput(dataTable, element);\n",
       "          const docLink = document.createElement('div');\n",
       "          docLink.innerHTML = docLinkHtml;\n",
       "          element.appendChild(docLink);\n",
       "        }\n",
       "      </script>\n",
       "    </div>\n",
       "  </div>\n",
       "  "
      ],
      "text/plain": [
       "                                                                0  \\\n",
       "userid                                                   16882774   \n",
       "username                                                  Yaniela   \n",
       "acctdesc        Animal lover, supports those who fight injusti...   \n",
       "location                                                   Hawaii   \n",
       "following                                                    1158   \n",
       "followers                                                     392   \n",
       "totaltweets                                                 88366   \n",
       "usercreatedts                          2008-10-21 07:34:04.000000   \n",
       "tweetid                                       1509681950042198030   \n",
       "tweetcreatedts                         2022-04-01 00:00:00.000000   \n",
       "retweetcount                                                 3412   \n",
       "text            ⚡The Ukrainian Air Force would like to address...   \n",
       "hashtags                                                       []   \n",
       "language                                                       en   \n",
       "coordinates                                                   NaN   \n",
       "favorite_count                                                  0   \n",
       "extractedts                            2022-04-01 00:44:20.097867   \n",
       "\n",
       "                                                                1  \n",
       "userid                                                 3205296069  \n",
       "username                                                 gregffff  \n",
       "acctdesc                                                      NaN  \n",
       "location                                                      NaN  \n",
       "following                                                     122  \n",
       "followers                                                     881  \n",
       "totaltweets                                                 99853  \n",
       "usercreatedts                          2015-04-25 11:24:34.000000  \n",
       "tweetid                                       1509681950151348229  \n",
       "tweetcreatedts                         2022-04-01 00:00:00.000000  \n",
       "retweetcount                                                  100  \n",
       "text            Chernihiv oblast. Ukrainians welcome their lib...  \n",
       "hashtags        [{'text': 'russianinvasion', 'indices': [77, 9...  \n",
       "language                                                       en  \n",
       "coordinates                                                   NaN  \n",
       "favorite_count                                                  0  \n",
       "extractedts                            2022-04-01 00:09:37.148770  "
      ]
     },
     "execution_count": 153,
     "metadata": {},
     "output_type": "execute_result"
    }
   ],
   "source": [
    "df[0:2].T"
   ]
  },
  {
   "cell_type": "code",
   "execution_count": null,
   "metadata": {
    "colab": {
     "base_uri": "https://localhost:8080/"
    },
    "id": "288E8M1aAbqJ",
    "outputId": "6f0eec70-2d1c-4f33-9b61-66608e981186"
   },
   "outputs": [
    {
     "data": {
      "text/plain": [
       "pandas.core.frame.DataFrame"
      ]
     },
     "execution_count": 154,
     "metadata": {},
     "output_type": "execute_result"
    }
   ],
   "source": [
    "type(df)"
   ]
  },
  {
   "cell_type": "code",
   "execution_count": null,
   "metadata": {
    "id": "YBpT85eV1DUc"
   },
   "outputs": [],
   "source": [
    "df = df[['tweetid', 'text', 'hashtags']] #keep only 3 columns"
   ]
  },
  {
   "cell_type": "code",
   "execution_count": null,
   "metadata": {
    "id": "N1KxUUGAlv_X"
   },
   "outputs": [],
   "source": [
    "from pyspark.sql.types import *\n",
    "\n",
    "schema = StructType([StructField(\"tweetid\", StringType(), True)\\\n",
    "                   ,StructField(\"text\", StringType(), True)\\\n",
    "                   ,StructField(\"hashtags\", StringType(), True)])\n",
    "\n",
    "#create spark dataframe using schema\n",
    "df_spark = spark.createDataFrame(df,schema=schema)"
   ]
  },
  {
   "cell_type": "code",
   "execution_count": null,
   "metadata": {
    "colab": {
     "base_uri": "https://localhost:8080/"
    },
    "id": "5mt_1Vi9lwB1",
    "outputId": "82679d8c-0a7d-464c-d6f3-52bbd73e4459"
   },
   "outputs": [
    {
     "data": {
      "text/plain": [
       "pyspark.sql.dataframe.DataFrame"
      ]
     },
     "execution_count": 157,
     "metadata": {},
     "output_type": "execute_result"
    }
   ],
   "source": [
    "type(df_spark)"
   ]
  },
  {
   "cell_type": "code",
   "execution_count": null,
   "metadata": {
    "colab": {
     "base_uri": "https://localhost:8080/"
    },
    "id": "Tv5GCx1alwD3",
    "outputId": "95aa79dc-e00a-41f4-a0dd-f6a97891d603"
   },
   "outputs": [
    {
     "name": "stdout",
     "output_type": "stream",
     "text": [
      "+-------------------+--------------------+--------------------+\n",
      "|            tweetid|                text|            hashtags|\n",
      "+-------------------+--------------------+--------------------+\n",
      "|1509681950042198030|⚡The Ukrainian Ai...|                  []|\n",
      "|1509681950151348229|Chernihiv oblast....|[{'text': 'russia...|\n",
      "|1509681950683926556|America 🇺🇸 is p...|[{'text': 'Russia...|\n",
      "|1509681951116046336|JUST IN: #Anonymo...|[{'text': 'Anonym...|\n",
      "|1509681951304990720|***PUBLIC MINT NO...|                  []|\n",
      "|1509681952000937999|The Amazing story...|[{'text': 'Russia...|\n",
      "|1509681952978210849|&amp;quot;How we ...|                  []|\n",
      "|1509681953053843466|India's purchase ...|[{'text': 'Russia...|\n",
      "|1509681953091457035|The most basic te...|[{'text': 'Ukrain...|\n",
      "|1509681953418711050|\"The image that R...|[{'text': 'Putin'...|\n",
      "|1509681953418752008|#Russia’s Preside...|[{'text': 'Russia...|\n",
      "|1509681953636700160|Sad to read of th...|[{'text': 'Russia...|\n",
      "|1509681953947074560|الرئيس الروسي يصع...|[{'text': 'عينك_ع...|\n",
      "|1509681954488303623|Tank T-34 at the ...|[{'text': 'Soviet...|\n",
      "|1509681954647543824|The #Anonymous co...|[{'text': 'Anonym...|\n",
      "|1509681955519938561|#Internacional 🇷...|[{'text': 'Intern...|\n",
      "|1509681955603845120|***PUBLIC MINT NO...|                  []|\n",
      "|1509681956149104652|#UkraineWar \n",
      "#Rus...|[{'text': 'Ukrain...|\n",
      "|1509681956224602150|#Putin: Rubleyle ...|[{'text': 'Putin'...|\n",
      "|1509681957524979718|Read: https://t.c...|[{'text': 'Peace'...|\n",
      "+-------------------+--------------------+--------------------+\n",
      "only showing top 20 rows\n",
      "\n"
     ]
    }
   ],
   "source": [
    "df_spark.show()"
   ]
  },
  {
   "cell_type": "code",
   "execution_count": null,
   "metadata": {
    "colab": {
     "base_uri": "https://localhost:8080/"
    },
    "id": "-Om2zbCe9yHH",
    "outputId": "ca3927c4-0c07-4cdb-f71d-356d03c10f7d"
   },
   "outputs": [
    {
     "data": {
      "text/plain": [
       "[('1509681950042198030', '[]'),\n",
       " ('1509681950151348229',\n",
       "  \"[{'text': 'russianinvasion', 'indices': [77, 93]}, {'text': 'StandWithUkraine️', 'indices': [97, 115]}, {'text': 'UkraineUnderAttack', 'indices': [116, 135]}]\"),\n",
       " ('1509681950683926556',\n",
       "  \"[{'text': 'RussianUkrainianWar', 'indices': [74, 94]}]\"),\n",
       " ('1509681951116046336', \"[{'text': 'Anonymous', 'indices': [25, 35]}]\"),\n",
       " ('1509681951304990720', '[]'),\n",
       " ('1509681952000937999',\n",
       "  \"[{'text': 'Russia', 'indices': [208, 215]}, {'text': 'Ukraine', 'indices': [216, 224]}, {'text': 'motivation', 'indices': [225, 236]}, {'text': 'netDE', 'indices': [237, 243]}, {'text': 'eduDE', 'indices': [244, 250]}, {'text': 'Delaware', 'indices': [251, 260]}, {'text': 'government', 'indices': [261, 272]}, {'text': 'USA', 'indices': [273, 277]}]\"),\n",
       " ('1509681952978210849', '[]'),\n",
       " ('1509681953053843466',\n",
       "  \"[{'text': 'Russian', 'indices': [31, 39]}, {'text': 'Moscow', 'indices': [161, 168]}]\"),\n",
       " ('1509681953091457035', \"[{'text': 'Ukraine', 'indices': [209, 217]}]\"),\n",
       " ('1509681953418711050',\n",
       "  \"[{'text': 'Putin', 'indices': [69, 75]}, {'text': 'Medvedev', 'indices': [76, 85]}, {'text': 'Russia', 'indices': [194, 201]}, {'text': 'Ukraine', 'indices': [216, 224]}]\")]"
      ]
     },
     "execution_count": 159,
     "metadata": {},
     "output_type": "execute_result"
    }
   ],
   "source": [
    "rdd = df_spark.rdd #to get the rdd from dataframe\n",
    "rdd.take(10)\n",
    "\n",
    "rdd_hashtags = rdd.map(lambda x : (x[0], x[2]))\n",
    "#if we want to have tweet and hashtags it's already done, if we want to have tweetid and words it needs to be processed\n",
    "#also some words in the text field are hashtags that twitter didn't process right, we should preprocess these data too\n",
    "\n",
    "rdd_hashtags.take(10)"
   ]
  },
  {
   "cell_type": "code",
   "execution_count": null,
   "metadata": {
    "colab": {
     "base_uri": "https://localhost:8080/"
    },
    "id": "tZeOuY3R9yKz",
    "outputId": "80d9c41e-c2a1-4285-ff15-3d1d7413ce67"
   },
   "outputs": [
    {
     "data": {
      "text/plain": [
       "[('1509681950042198030',\n",
       "  '⚡The Ukrainian Air Force would like to address misinformation published in multiple Western media outlets regarding the situation in the 🇺🇦 sky and support from our @NATO allies. \\nMore in 🧵(1/16)\\n#ProtectUАSky #StopRussia #UkraineUnderAttaсk'),\n",
       " ('1509681950151348229',\n",
       "  'Chernihiv oblast. Ukrainians welcome their liberators from #russianinvasion. \\n\\n#StandWithUkraine️ #UkraineUnderAttack #UkraineWillWin #PutinIsaWarCriminal #StopPutin #RussianUkrainianWar #RussiaGoHome #РоссияСмотри #нетвойне https://t.co/86ixYuEtNb'),\n",
       " ('1509681950683926556',\n",
       "  \"America 🇺🇸 is preparing for something worse than the #RussianUkrainianWar...Taiwan 🇹🇼 Last month we entered into a new cold war with Russia 🇷🇺 what's the best policy for the future of 🇺🇸🇨🇳 relations over Taiwan? \\n\\nFull Video👇\\nhttps://t.co/W58KdpqSly\\n\\n#China #Taiwan\"),\n",
       " ('1509681951116046336',\n",
       "  'JUST IN: #Anonymous has hacked &amp; released 62,000 emails from the Marathon Group, a Russian investment firm owned by oligarch Alexander Vinokurov, currently under EU sanctions. Vinokurov is also the son-in-law of Russian Foreign Minister Lavrov. #OpRussia \\n#DDoSecrets https://t.co/kATuo2CxC1'),\n",
       " ('1509681951304990720',\n",
       "  '***PUBLIC MINT NOW LIVE***\\n\\nFor \\n@billionaire_Wmn\\n\\nWin $100,000 during public sale mint. \\n\\nVisit https://t.co/qev7nrD3my to Mint and for further information! Good Luck!\\n#nft #mint https://t.co/54daHYVlAP'),\n",
       " ('1509681952000937999',\n",
       "  'The Amazing story of Former Sussex County Delaware Councilman Vance Phillips in his extremely difficult but successful enterprise in getting his Ukrainian wife into the United States! https://t.co/ZXw3S7p8cX #Russia #Ukraine #motivation #netDE #eduDE #Delaware #government #USA 🇺🇸'),\n",
       " ('1509681952978210849',\n",
       "  '&amp;quot;How we were waiting for you!&amp;quot;: In the Chernihiv region, local residents meet Ukrainian defenders. Residents of the village of Novaya Basan in the Chernihiv region rejoice at the appearance of the Armed Forces of Ukraine. #Ukraine #UkraineWar #Russia #UkraineInvasion https://t.co/95u1mB28OK'),\n",
       " ('1509681953053843466',\n",
       "  \"India's purchase of discounted #Russian crude oil and putting in place a rupee-ruble payment system for bilateral trade in view of the Western sanctions against #Moscow, reports said\\n\\nhttps://t.co/bAg3BhxuNw\"),\n",
       " ('1509681953091457035',\n",
       "  'The most basic tenet of what stability exists in the world is that borders may not be changed by the threat or use of force. The future of the international order hinges on whether Russia gets away with it in #Ukraine, says @RichardHaass of @CFR_org. https://t.co/3ym6d4hqKA'),\n",
       " ('1509681953418711050',\n",
       "  '\"The image that Russia acquired over the past two decades during the #Putin-#Medvedev alternating rule of a \\'recovering, rising global power\\' has been seriously damaged,\" Abdülmelik Ş. Bekir on #Russia\\'s invasion of #Ukraine.\\n\\nhttps://t.co/HXOwHe0Eyd https://t.co/OaVeRFngb0')]"
      ]
     },
     "execution_count": 160,
     "metadata": {},
     "output_type": "execute_result"
    }
   ],
   "source": [
    "#take only english texts\n",
    "rdd_text =  rdd.map(lambda x : (x[0], x[1]))\n",
    "rdd_text.take(10)"
   ]
  },
  {
   "cell_type": "code",
   "execution_count": 186,
   "metadata": {
    "colab": {
     "base_uri": "https://localhost:8080/"
    },
    "id": "b4l8FlfX9yNG",
    "outputId": "b49ea592-d85d-49f4-c16c-fe14792af1fb"
   },
   "outputs": [
    {
     "name": "stdout",
     "output_type": "stream",
     "text": [
      "[nltk_data] Downloading package punkt to /root/nltk_data...\n",
      "[nltk_data]   Package punkt is already up-to-date!\n"
     ]
    },
    {
     "data": {
      "text/plain": [
       "True"
      ]
     },
     "execution_count": 186,
     "metadata": {},
     "output_type": "execute_result"
    }
   ],
   "source": [
    "import nltk\n",
    "from nltk import word_tokenize\n",
    "nltk.download('punkt') #to make it work\n",
    "\n",
    "#ok l'idea è prendere gli hashtag e la parola subito dopo e transportarli nel l'elenco degli hashtags in modo da avere dei dati corretti\n",
    "#dopo aver preso gli hashtags levo la punteggiatura con string.punctuation che tanto non è rilevante per i baskets"
   ]
  },
  {
   "cell_type": "code",
   "execution_count": null,
   "metadata": {
    "colab": {
     "base_uri": "https://localhost:8080/"
    },
    "id": "6lVY4vVuK4db",
    "outputId": "8770268e-79a2-4f3e-89d5-d3215282baac"
   },
   "outputs": [
    {
     "data": {
      "text/plain": [
       "('1509681950042198030',\n",
       " ['⚡The',\n",
       "  'Ukrainian',\n",
       "  'Air',\n",
       "  'Force',\n",
       "  'would',\n",
       "  'like',\n",
       "  'to',\n",
       "  'address',\n",
       "  'misinformation',\n",
       "  'published',\n",
       "  'in',\n",
       "  'multiple',\n",
       "  'Western',\n",
       "  'media',\n",
       "  'outlets',\n",
       "  'regarding',\n",
       "  'the',\n",
       "  'situation',\n",
       "  'in',\n",
       "  'the',\n",
       "  '🇺🇦',\n",
       "  'sky',\n",
       "  'and',\n",
       "  'support',\n",
       "  'from',\n",
       "  'our',\n",
       "  '@',\n",
       "  'NATO',\n",
       "  'allies',\n",
       "  '.',\n",
       "  'More',\n",
       "  'in',\n",
       "  '🧵',\n",
       "  '(',\n",
       "  '1/16',\n",
       "  ')',\n",
       "  '#',\n",
       "  'ProtectUАSky',\n",
       "  '#',\n",
       "  'StopRussia',\n",
       "  '#',\n",
       "  'UkraineUnderAttaсk'])"
      ]
     },
     "execution_count": 162,
     "metadata": {},
     "output_type": "execute_result"
    }
   ],
   "source": [
    "rdd_text = rdd_text.map(lambda x:(x[0], word_tokenize(x[1]))) #id, word_tokenized\n",
    "rdd_text.first()"
   ]
  },
  {
   "cell_type": "markdown",
   "metadata": {
    "id": "gbMQPHYuQ0zM"
   },
   "source": [
    "## Come si può vedere dai prossimi blocchi questo metodo funziona meglio di quello categorizzato da twitter quindi sostituisco gli \\# nel dataset con quelli che ho computati io nel rdd"
   ]
  },
  {
   "cell_type": "code",
   "execution_count": 195,
   "metadata": {
    "colab": {
     "base_uri": "https://localhost:8080/",
     "height": 1000
    },
    "id": "q1sTW2MJK4gS",
    "outputId": "fc6f4605-8127-4d62-c8d9-2fa13187ef48"
   },
   "outputs": [
    {
     "ename": "Py4JJavaError",
     "evalue": "ignored",
     "output_type": "error",
     "traceback": [
      "\u001b[0;31m---------------------------------------------------------------------------\u001b[0m",
      "\u001b[0;31mPy4JJavaError\u001b[0m                             Traceback (most recent call last)",
      "\u001b[0;32m<ipython-input-195-86f4d2028ca9>\u001b[0m in \u001b[0;36m<module>\u001b[0;34m()\u001b[0m\n\u001b[1;32m      7\u001b[0m \u001b[0;31m#se aggiungo reducebykey mi si bugga e mi da errore\u001b[0m\u001b[0;34m\u001b[0m\u001b[0;34m\u001b[0m\u001b[0;34m\u001b[0m\u001b[0m\n\u001b[1;32m      8\u001b[0m \u001b[0;31m#hashtags_per_tweet.take(10)\u001b[0m\u001b[0;34m\u001b[0m\u001b[0;34m\u001b[0m\u001b[0;34m\u001b[0m\u001b[0m\n\u001b[0;32m----> 9\u001b[0;31m \u001b[0mrdd_hashtags\u001b[0m\u001b[0;34m.\u001b[0m\u001b[0mtake\u001b[0m\u001b[0;34m(\u001b[0m\u001b[0;36m10\u001b[0m\u001b[0;34m)\u001b[0m\u001b[0;34m\u001b[0m\u001b[0;34m\u001b[0m\u001b[0m\n\u001b[0m",
      "\u001b[0;32m/content/spark-3.0.3-bin-hadoop2.7/python/pyspark/rdd.py\u001b[0m in \u001b[0;36mtake\u001b[0;34m(self, num)\u001b[0m\n\u001b[1;32m   1444\u001b[0m \u001b[0;34m\u001b[0m\u001b[0m\n\u001b[1;32m   1445\u001b[0m             \u001b[0mp\u001b[0m \u001b[0;34m=\u001b[0m \u001b[0mrange\u001b[0m\u001b[0;34m(\u001b[0m\u001b[0mpartsScanned\u001b[0m\u001b[0;34m,\u001b[0m \u001b[0mmin\u001b[0m\u001b[0;34m(\u001b[0m\u001b[0mpartsScanned\u001b[0m \u001b[0;34m+\u001b[0m \u001b[0mnumPartsToTry\u001b[0m\u001b[0;34m,\u001b[0m \u001b[0mtotalParts\u001b[0m\u001b[0;34m)\u001b[0m\u001b[0;34m)\u001b[0m\u001b[0;34m\u001b[0m\u001b[0;34m\u001b[0m\u001b[0m\n\u001b[0;32m-> 1446\u001b[0;31m             \u001b[0mres\u001b[0m \u001b[0;34m=\u001b[0m \u001b[0mself\u001b[0m\u001b[0;34m.\u001b[0m\u001b[0mcontext\u001b[0m\u001b[0;34m.\u001b[0m\u001b[0mrunJob\u001b[0m\u001b[0;34m(\u001b[0m\u001b[0mself\u001b[0m\u001b[0;34m,\u001b[0m \u001b[0mtakeUpToNumLeft\u001b[0m\u001b[0;34m,\u001b[0m \u001b[0mp\u001b[0m\u001b[0;34m)\u001b[0m\u001b[0;34m\u001b[0m\u001b[0;34m\u001b[0m\u001b[0m\n\u001b[0m\u001b[1;32m   1447\u001b[0m \u001b[0;34m\u001b[0m\u001b[0m\n\u001b[1;32m   1448\u001b[0m             \u001b[0mitems\u001b[0m \u001b[0;34m+=\u001b[0m \u001b[0mres\u001b[0m\u001b[0;34m\u001b[0m\u001b[0;34m\u001b[0m\u001b[0m\n",
      "\u001b[0;32m/content/spark-3.0.3-bin-hadoop2.7/python/pyspark/context.py\u001b[0m in \u001b[0;36mrunJob\u001b[0;34m(self, rdd, partitionFunc, partitions, allowLocal)\u001b[0m\n\u001b[1;32m   1118\u001b[0m         \u001b[0;31m# SparkContext#runJob.\u001b[0m\u001b[0;34m\u001b[0m\u001b[0;34m\u001b[0m\u001b[0;34m\u001b[0m\u001b[0m\n\u001b[1;32m   1119\u001b[0m         \u001b[0mmappedRDD\u001b[0m \u001b[0;34m=\u001b[0m \u001b[0mrdd\u001b[0m\u001b[0;34m.\u001b[0m\u001b[0mmapPartitions\u001b[0m\u001b[0;34m(\u001b[0m\u001b[0mpartitionFunc\u001b[0m\u001b[0;34m)\u001b[0m\u001b[0;34m\u001b[0m\u001b[0;34m\u001b[0m\u001b[0m\n\u001b[0;32m-> 1120\u001b[0;31m         \u001b[0msock_info\u001b[0m \u001b[0;34m=\u001b[0m \u001b[0mself\u001b[0m\u001b[0;34m.\u001b[0m\u001b[0m_jvm\u001b[0m\u001b[0;34m.\u001b[0m\u001b[0mPythonRDD\u001b[0m\u001b[0;34m.\u001b[0m\u001b[0mrunJob\u001b[0m\u001b[0;34m(\u001b[0m\u001b[0mself\u001b[0m\u001b[0;34m.\u001b[0m\u001b[0m_jsc\u001b[0m\u001b[0;34m.\u001b[0m\u001b[0msc\u001b[0m\u001b[0;34m(\u001b[0m\u001b[0;34m)\u001b[0m\u001b[0;34m,\u001b[0m \u001b[0mmappedRDD\u001b[0m\u001b[0;34m.\u001b[0m\u001b[0m_jrdd\u001b[0m\u001b[0;34m,\u001b[0m \u001b[0mpartitions\u001b[0m\u001b[0;34m)\u001b[0m\u001b[0;34m\u001b[0m\u001b[0;34m\u001b[0m\u001b[0m\n\u001b[0m\u001b[1;32m   1121\u001b[0m         \u001b[0;32mreturn\u001b[0m \u001b[0mlist\u001b[0m\u001b[0;34m(\u001b[0m\u001b[0m_load_from_socket\u001b[0m\u001b[0;34m(\u001b[0m\u001b[0msock_info\u001b[0m\u001b[0;34m,\u001b[0m \u001b[0mmappedRDD\u001b[0m\u001b[0;34m.\u001b[0m\u001b[0m_jrdd_deserializer\u001b[0m\u001b[0;34m)\u001b[0m\u001b[0;34m)\u001b[0m\u001b[0;34m\u001b[0m\u001b[0;34m\u001b[0m\u001b[0m\n\u001b[1;32m   1122\u001b[0m \u001b[0;34m\u001b[0m\u001b[0m\n",
      "\u001b[0;32m/content/spark-3.0.3-bin-hadoop2.7/python/lib/py4j-0.10.9-src.zip/py4j/java_gateway.py\u001b[0m in \u001b[0;36m__call__\u001b[0;34m(self, *args)\u001b[0m\n\u001b[1;32m   1303\u001b[0m         \u001b[0manswer\u001b[0m \u001b[0;34m=\u001b[0m \u001b[0mself\u001b[0m\u001b[0;34m.\u001b[0m\u001b[0mgateway_client\u001b[0m\u001b[0;34m.\u001b[0m\u001b[0msend_command\u001b[0m\u001b[0;34m(\u001b[0m\u001b[0mcommand\u001b[0m\u001b[0;34m)\u001b[0m\u001b[0;34m\u001b[0m\u001b[0;34m\u001b[0m\u001b[0m\n\u001b[1;32m   1304\u001b[0m         return_value = get_return_value(\n\u001b[0;32m-> 1305\u001b[0;31m             answer, self.gateway_client, self.target_id, self.name)\n\u001b[0m\u001b[1;32m   1306\u001b[0m \u001b[0;34m\u001b[0m\u001b[0m\n\u001b[1;32m   1307\u001b[0m         \u001b[0;32mfor\u001b[0m \u001b[0mtemp_arg\u001b[0m \u001b[0;32min\u001b[0m \u001b[0mtemp_args\u001b[0m\u001b[0;34m:\u001b[0m\u001b[0;34m\u001b[0m\u001b[0;34m\u001b[0m\u001b[0m\n",
      "\u001b[0;32m/content/spark-3.0.3-bin-hadoop2.7/python/pyspark/sql/utils.py\u001b[0m in \u001b[0;36mdeco\u001b[0;34m(*a, **kw)\u001b[0m\n\u001b[1;32m    126\u001b[0m     \u001b[0;32mdef\u001b[0m \u001b[0mdeco\u001b[0m\u001b[0;34m(\u001b[0m\u001b[0;34m*\u001b[0m\u001b[0ma\u001b[0m\u001b[0;34m,\u001b[0m \u001b[0;34m**\u001b[0m\u001b[0mkw\u001b[0m\u001b[0;34m)\u001b[0m\u001b[0;34m:\u001b[0m\u001b[0;34m\u001b[0m\u001b[0;34m\u001b[0m\u001b[0m\n\u001b[1;32m    127\u001b[0m         \u001b[0;32mtry\u001b[0m\u001b[0;34m:\u001b[0m\u001b[0;34m\u001b[0m\u001b[0;34m\u001b[0m\u001b[0m\n\u001b[0;32m--> 128\u001b[0;31m             \u001b[0;32mreturn\u001b[0m \u001b[0mf\u001b[0m\u001b[0;34m(\u001b[0m\u001b[0;34m*\u001b[0m\u001b[0ma\u001b[0m\u001b[0;34m,\u001b[0m \u001b[0;34m**\u001b[0m\u001b[0mkw\u001b[0m\u001b[0;34m)\u001b[0m\u001b[0;34m\u001b[0m\u001b[0;34m\u001b[0m\u001b[0m\n\u001b[0m\u001b[1;32m    129\u001b[0m         \u001b[0;32mexcept\u001b[0m \u001b[0mpy4j\u001b[0m\u001b[0;34m.\u001b[0m\u001b[0mprotocol\u001b[0m\u001b[0;34m.\u001b[0m\u001b[0mPy4JJavaError\u001b[0m \u001b[0;32mas\u001b[0m \u001b[0me\u001b[0m\u001b[0;34m:\u001b[0m\u001b[0;34m\u001b[0m\u001b[0;34m\u001b[0m\u001b[0m\n\u001b[1;32m    130\u001b[0m             \u001b[0mconverted\u001b[0m \u001b[0;34m=\u001b[0m \u001b[0mconvert_exception\u001b[0m\u001b[0;34m(\u001b[0m\u001b[0me\u001b[0m\u001b[0;34m.\u001b[0m\u001b[0mjava_exception\u001b[0m\u001b[0;34m)\u001b[0m\u001b[0;34m\u001b[0m\u001b[0;34m\u001b[0m\u001b[0m\n",
      "\u001b[0;32m/content/spark-3.0.3-bin-hadoop2.7/python/lib/py4j-0.10.9-src.zip/py4j/protocol.py\u001b[0m in \u001b[0;36mget_return_value\u001b[0;34m(answer, gateway_client, target_id, name)\u001b[0m\n\u001b[1;32m    326\u001b[0m                 raise Py4JJavaError(\n\u001b[1;32m    327\u001b[0m                     \u001b[0;34m\"An error occurred while calling {0}{1}{2}.\\n\"\u001b[0m\u001b[0;34m.\u001b[0m\u001b[0;34m\u001b[0m\u001b[0;34m\u001b[0m\u001b[0m\n\u001b[0;32m--> 328\u001b[0;31m                     format(target_id, \".\", name), value)\n\u001b[0m\u001b[1;32m    329\u001b[0m             \u001b[0;32melse\u001b[0m\u001b[0;34m:\u001b[0m\u001b[0;34m\u001b[0m\u001b[0;34m\u001b[0m\u001b[0m\n\u001b[1;32m    330\u001b[0m                 raise Py4JError(\n",
      "\u001b[0;31mPy4JJavaError\u001b[0m: An error occurred while calling z:org.apache.spark.api.python.PythonRDD.runJob.\n: org.apache.spark.SparkException: Job aborted due to stage failure: Task 0 in stage 106.0 failed 1 times, most recent failure: Lost task 0.0 in stage 106.0 (TID 106, f5ccd69a4ddd, executor driver): org.apache.spark.api.python.PythonException: Traceback (most recent call last):\n  File \"/content/spark-3.0.3-bin-hadoop2.7/python/lib/pyspark.zip/pyspark/worker.py\", line 605, in main\n    process()\n  File \"/content/spark-3.0.3-bin-hadoop2.7/python/lib/pyspark.zip/pyspark/worker.py\", line 595, in process\n    out_iter = func(split_index, iterator)\n  File \"/content/spark-3.0.3-bin-hadoop2.7/python/pyspark/rdd.py\", line 2596, in pipeline_func\n    return func(split, prev_func(split, iterator))\n  File \"/content/spark-3.0.3-bin-hadoop2.7/python/pyspark/rdd.py\", line 2596, in pipeline_func\n    return func(split, prev_func(split, iterator))\n  File \"/content/spark-3.0.3-bin-hadoop2.7/python/pyspark/rdd.py\", line 425, in func\n    return f(iterator)\n  File \"/content/spark-3.0.3-bin-hadoop2.7/python/pyspark/rdd.py\", line 2030, in combine\n    merger.mergeValues(iterator)\n  File \"/content/spark-3.0.3-bin-hadoop2.7/python/lib/pyspark.zip/pyspark/shuffle.py\", line 238, in mergeValues\n    for k, v in iterator:\nValueError: too many values to unpack (expected 2)\n\n\tat org.apache.spark.api.python.BasePythonRunner$ReaderIterator.handlePythonException(PythonRunner.scala:503)\n\tat org.apache.spark.api.python.PythonRunner$$anon$3.read(PythonRunner.scala:638)\n\tat org.apache.spark.api.python.PythonRunner$$anon$3.read(PythonRunner.scala:621)\n\tat org.apache.spark.api.python.BasePythonRunner$ReaderIterator.hasNext(PythonRunner.scala:456)\n\tat org.apache.spark.InterruptibleIterator.hasNext(InterruptibleIterator.scala:37)\n\tat scala.collection.Iterator$GroupedIterator.fill(Iterator.scala:1209)\n\tat scala.collection.Iterator$GroupedIterator.hasNext(Iterator.scala:1215)\n\tat scala.collection.Iterator$$anon$10.hasNext(Iterator.scala:458)\n\tat org.apache.spark.shuffle.sort.BypassMergeSortShuffleWriter.write(BypassMergeSortShuffleWriter.java:132)\n\tat org.apache.spark.shuffle.ShuffleWriteProcessor.write(ShuffleWriteProcessor.scala:59)\n\tat org.apache.spark.scheduler.ShuffleMapTask.runTask(ShuffleMapTask.scala:99)\n\tat org.apache.spark.scheduler.ShuffleMapTask.runTask(ShuffleMapTask.scala:52)\n\tat org.apache.spark.scheduler.Task.run(Task.scala:127)\n\tat org.apache.spark.executor.Executor$TaskRunner.$anonfun$run$3(Executor.scala:463)\n\tat org.apache.spark.util.Utils$.tryWithSafeFinally(Utils.scala:1377)\n\tat org.apache.spark.executor.Executor$TaskRunner.run(Executor.scala:466)\n\tat java.util.concurrent.ThreadPoolExecutor.runWorker(ThreadPoolExecutor.java:1149)\n\tat java.util.concurrent.ThreadPoolExecutor$Worker.run(ThreadPoolExecutor.java:624)\n\tat java.lang.Thread.run(Thread.java:748)\n\nDriver stacktrace:\n\tat org.apache.spark.scheduler.DAGScheduler.failJobAndIndependentStages(DAGScheduler.scala:2059)\n\tat org.apache.spark.scheduler.DAGScheduler.$anonfun$abortStage$2(DAGScheduler.scala:2008)\n\tat org.apache.spark.scheduler.DAGScheduler.$anonfun$abortStage$2$adapted(DAGScheduler.scala:2007)\n\tat scala.collection.mutable.ResizableArray.foreach(ResizableArray.scala:62)\n\tat scala.collection.mutable.ResizableArray.foreach$(ResizableArray.scala:55)\n\tat scala.collection.mutable.ArrayBuffer.foreach(ArrayBuffer.scala:49)\n\tat org.apache.spark.scheduler.DAGScheduler.abortStage(DAGScheduler.scala:2007)\n\tat org.apache.spark.scheduler.DAGScheduler.$anonfun$handleTaskSetFailed$1(DAGScheduler.scala:973)\n\tat org.apache.spark.scheduler.DAGScheduler.$anonfun$handleTaskSetFailed$1$adapted(DAGScheduler.scala:973)\n\tat scala.Option.foreach(Option.scala:407)\n\tat org.apache.spark.scheduler.DAGScheduler.handleTaskSetFailed(DAGScheduler.scala:973)\n\tat org.apache.spark.scheduler.DAGSchedulerEventProcessLoop.doOnReceive(DAGScheduler.scala:2239)\n\tat org.apache.spark.scheduler.DAGSchedulerEventProcessLoop.onReceive(DAGScheduler.scala:2188)\n\tat org.apache.spark.scheduler.DAGSchedulerEventProcessLoop.onReceive(DAGScheduler.scala:2177)\n\tat org.apache.spark.util.EventLoop$$anon$1.run(EventLoop.scala:49)\n\tat org.apache.spark.scheduler.DAGScheduler.runJob(DAGScheduler.scala:775)\n\tat org.apache.spark.SparkContext.runJob(SparkContext.scala:2114)\n\tat org.apache.spark.SparkContext.runJob(SparkContext.scala:2135)\n\tat org.apache.spark.SparkContext.runJob(SparkContext.scala:2154)\n\tat org.apache.spark.api.python.PythonRDD$.runJob(PythonRDD.scala:154)\n\tat org.apache.spark.api.python.PythonRDD.runJob(PythonRDD.scala)\n\tat sun.reflect.GeneratedMethodAccessor66.invoke(Unknown Source)\n\tat sun.reflect.DelegatingMethodAccessorImpl.invoke(DelegatingMethodAccessorImpl.java:43)\n\tat java.lang.reflect.Method.invoke(Method.java:498)\n\tat py4j.reflection.MethodInvoker.invoke(MethodInvoker.java:244)\n\tat py4j.reflection.ReflectionEngine.invoke(ReflectionEngine.java:357)\n\tat py4j.Gateway.invoke(Gateway.java:282)\n\tat py4j.commands.AbstractCommand.invokeMethod(AbstractCommand.java:132)\n\tat py4j.commands.CallCommand.execute(CallCommand.java:79)\n\tat py4j.GatewayConnection.run(GatewayConnection.java:238)\n\tat java.lang.Thread.run(Thread.java:748)\nCaused by: org.apache.spark.api.python.PythonException: Traceback (most recent call last):\n  File \"/content/spark-3.0.3-bin-hadoop2.7/python/lib/pyspark.zip/pyspark/worker.py\", line 605, in main\n    process()\n  File \"/content/spark-3.0.3-bin-hadoop2.7/python/lib/pyspark.zip/pyspark/worker.py\", line 595, in process\n    out_iter = func(split_index, iterator)\n  File \"/content/spark-3.0.3-bin-hadoop2.7/python/pyspark/rdd.py\", line 2596, in pipeline_func\n    return func(split, prev_func(split, iterator))\n  File \"/content/spark-3.0.3-bin-hadoop2.7/python/pyspark/rdd.py\", line 2596, in pipeline_func\n    return func(split, prev_func(split, iterator))\n  File \"/content/spark-3.0.3-bin-hadoop2.7/python/pyspark/rdd.py\", line 425, in func\n    return f(iterator)\n  File \"/content/spark-3.0.3-bin-hadoop2.7/python/pyspark/rdd.py\", line 2030, in combine\n    merger.mergeValues(iterator)\n  File \"/content/spark-3.0.3-bin-hadoop2.7/python/lib/pyspark.zip/pyspark/shuffle.py\", line 238, in mergeValues\n    for k, v in iterator:\nValueError: too many values to unpack (expected 2)\n\n\tat org.apache.spark.api.python.BasePythonRunner$ReaderIterator.handlePythonException(PythonRunner.scala:503)\n\tat org.apache.spark.api.python.PythonRunner$$anon$3.read(PythonRunner.scala:638)\n\tat org.apache.spark.api.python.PythonRunner$$anon$3.read(PythonRunner.scala:621)\n\tat org.apache.spark.api.python.BasePythonRunner$ReaderIterator.hasNext(PythonRunner.scala:456)\n\tat org.apache.spark.InterruptibleIterator.hasNext(InterruptibleIterator.scala:37)\n\tat scala.collection.Iterator$GroupedIterator.fill(Iterator.scala:1209)\n\tat scala.collection.Iterator$GroupedIterator.hasNext(Iterator.scala:1215)\n\tat scala.collection.Iterator$$anon$10.hasNext(Iterator.scala:458)\n\tat org.apache.spark.shuffle.sort.BypassMergeSortShuffleWriter.write(BypassMergeSortShuffleWriter.java:132)\n\tat org.apache.spark.shuffle.ShuffleWriteProcessor.write(ShuffleWriteProcessor.scala:59)\n\tat org.apache.spark.scheduler.ShuffleMapTask.runTask(ShuffleMapTask.scala:99)\n\tat org.apache.spark.scheduler.ShuffleMapTask.runTask(ShuffleMapTask.scala:52)\n\tat org.apache.spark.scheduler.Task.run(Task.scala:127)\n\tat org.apache.spark.executor.Executor$TaskRunner.$anonfun$run$3(Executor.scala:463)\n\tat org.apache.spark.util.Utils$.tryWithSafeFinally(Utils.scala:1377)\n\tat org.apache.spark.executor.Executor$TaskRunner.run(Executor.scala:466)\n\tat java.util.concurrent.ThreadPoolExecutor.runWorker(ThreadPoolExecutor.java:1149)\n\tat java.util.concurrent.ThreadPoolExecutor$Worker.run(ThreadPoolExecutor.java:624)\n\t... 1 more\n"
     ]
    }
   ],
   "source": [
    "hashtags_per_tweet = rdd_text.map(lambda x: [(x[0], x[1][i+1]) for i,word in enumerate(x[1]) if word =='#' ])   #.reduceByKey(lambda x : x) #oppure groupByKey()\n",
    "#x[1] is the list of words, when I get and # I get back the next word, if a tweet ends with # we have a problem, but that would be a bad created tweet\n",
    "\n",
    "#creo l'RDD degli hashtags correttamente: STESSA COSA CHE HO FATTO SOPRA MA NON RIESCO A PRINTARLO MI SI BUGGA BOH !!!\n",
    "rdd_hashtags = hashtags_per_tweet.reduceByKey(lambda x : x)\n",
    "\n",
    "#se aggiungo reducebykey mi si bugga e mi da errore\n",
    "#hashtags_per_tweet.take(10)\n",
    "rdd_hashtags.take(10) "
   ]
  },
  {
   "cell_type": "code",
   "execution_count": null,
   "metadata": {
    "colab": {
     "base_uri": "https://localhost:8080/",
     "height": 53
    },
    "id": "nUv1PP9lK4r6",
    "outputId": "659afdad-7bf5-4a26-d33a-2a7c40810655"
   },
   "outputs": [
    {
     "data": {
      "application/vnd.google.colaboratory.intrinsic+json": {
       "type": "string"
      },
      "text/plain": [
       "\"[{'text': 'russianinvasion', 'indices': [77, 93]}, {'text': 'StandWithUkraine️', 'indices': [97, 115]}, {'text': 'UkraineUnderAttack', 'indices': [116, 135]}]\""
      ]
     },
     "execution_count": 170,
     "metadata": {},
     "output_type": "execute_result"
    }
   ],
   "source": [
    "df.iloc[1,2] #hashtags di twitter"
   ]
  },
  {
   "cell_type": "code",
   "execution_count": null,
   "metadata": {
    "colab": {
     "base_uri": "https://localhost:8080/",
     "height": 53
    },
    "id": "iSrxIAZzK4u6",
    "outputId": "bd4cb157-3170-4b4e-b998-12a5460017e1"
   },
   "outputs": [
    {
     "data": {
      "application/vnd.google.colaboratory.intrinsic+json": {
       "type": "string"
      },
      "text/plain": [
       "'Chernihiv oblast. Ukrainians welcome their liberators from #russianinvasion. \\n\\n#StandWithUkraine️ #UkraineUnderAttack #UkraineWillWin #PutinIsaWarCriminal #StopPutin #RussianUkrainianWar #RussiaGoHome #РоссияСмотри #нетвойне https://t.co/86ixYuEtNb'"
      ]
     },
     "execution_count": 171,
     "metadata": {},
     "output_type": "execute_result"
    }
   ],
   "source": [
    "df.iloc[1,1] #testo del tweet, come si può vedere mancano degli hashtags in quelli di twitter"
   ]
  },
  {
   "cell_type": "code",
   "execution_count": null,
   "metadata": {
    "id": "hSalmVF4KOul"
   },
   "outputs": [],
   "source": [
    "#devo togliere le parole degli hashtags dal testo,\n",
    "#a questo punto: l'rdd degli hashtags dovrebbe essere corretto, l'rdd col testo va ancora processato"
   ]
  },
  {
   "cell_type": "code",
   "execution_count": null,
   "metadata": {
    "id": "VN2-wQANUj_2"
   },
   "outputs": [],
   "source": [
    "#per togliere le parole dal testo devo unire i due rdd hashtags e testo in modo da avere una lista di parole che so che dovrò togliere"
   ]
  },
  {
   "cell_type": "code",
   "execution_count": null,
   "metadata": {
    "colab": {
     "base_uri": "https://localhost:8080/",
     "height": 36
    },
    "id": "ltGKUSbdKOr8",
    "outputId": "67118d57-8a79-4947-9f10-3a23504f5672"
   },
   "outputs": [
    {
     "data": {
      "application/vnd.google.colaboratory.intrinsic+json": {
       "type": "string"
      },
      "text/plain": [
       "'!\"#$%&\\'()*+,-./:;<=>?@[\\\\]^_`{|}~'"
      ]
     },
     "execution_count": 173,
     "metadata": {},
     "output_type": "execute_result"
    }
   ],
   "source": [
    "#servirà dopo in caso facessimo anche rdd_testo\n",
    "import string     \n",
    "puncts = string.punctuation \n",
    "puncts"
   ]
  },
  {
   "cell_type": "code",
   "execution_count": 186,
   "metadata": {
    "id": "rcRbKr_7UkCg"
   },
   "outputs": [],
   "source": []
  },
  {
   "cell_type": "code",
   "execution_count": null,
   "metadata": {
    "id": "1iEJQjdwUkE9"
   },
   "outputs": [],
   "source": []
  },
  {
   "cell_type": "markdown",
   "metadata": {
    "id": "anKAjxupb-To"
   },
   "source": [
    "### rdd_hashtags è l'rdd da usare per apriori, prima però andrebbe risolto il problema del reducebykey "
   ]
  },
  {
   "cell_type": "code",
   "execution_count": null,
   "metadata": {
    "id": "k4-nbB-rUkHg"
   },
   "outputs": [],
   "source": []
  },
  {
   "cell_type": "code",
   "execution_count": null,
   "metadata": {
    "id": "nYlbL0FOUkJ1"
   },
   "outputs": [],
   "source": []
  },
  {
   "cell_type": "code",
   "execution_count": null,
   "metadata": {
    "id": "IzptTlQyUkTs"
   },
   "outputs": [],
   "source": []
  },
  {
   "cell_type": "code",
   "execution_count": null,
   "metadata": {
    "id": "PTyOmPnl9yPX"
   },
   "outputs": [],
   "source": []
  },
  {
   "cell_type": "code",
   "execution_count": null,
   "metadata": {
    "id": "6zsKaqzUKNOH"
   },
   "outputs": [],
   "source": []
  },
  {
   "cell_type": "code",
   "execution_count": null,
   "metadata": {
    "id": "sSg8r0A3Thqn"
   },
   "outputs": [],
   "source": []
  },
  {
   "cell_type": "code",
   "execution_count": null,
   "metadata": {
    "id": "UYeURZ1wThtP"
   },
   "outputs": [],
   "source": []
  },
  {
   "cell_type": "code",
   "execution_count": null,
   "metadata": {
    "id": "yFjEIqx_Thv1"
   },
   "outputs": [],
   "source": []
  },
  {
   "cell_type": "code",
   "execution_count": null,
   "metadata": {
    "id": "LYKRfbHh9ySU"
   },
   "outputs": [],
   "source": []
  },
  {
   "cell_type": "code",
   "execution_count": null,
   "metadata": {
    "id": "g_YOJpdu9zEg"
   },
   "outputs": [],
   "source": []
  },
  {
   "cell_type": "markdown",
   "metadata": {
    "id": "BsIRBQZv90U3"
   },
   "source": [
    "## in caso servano\n",
    "__________________________________________________________________"
   ]
  },
  {
   "cell_type": "code",
   "execution_count": null,
   "metadata": {
    "id": "pwX5pxf8Abxw"
   },
   "outputs": [],
   "source": [
    "#possibile farlo con spark credo per parallelizzare\n",
    "rows_eng = df.language == 'en'\n",
    "rows_selected = []\n",
    "\n",
    "for i,r in enumerate(rows_eng):\n",
    "  if r == True:\n",
    "    rows_selected.append(df.iloc[i])\n",
    "\n",
    "eng_df = pd.DataFrame(rows_selected)"
   ]
  },
  {
   "cell_type": "code",
   "execution_count": null,
   "metadata": {
    "id": "kmwnMCoW_Ou7"
   },
   "outputs": [],
   "source": [
    "#Creating dictionary for words and dictionary for hashtags\n",
    "from collections import defaultdict\n",
    "\n",
    "hashtags = defaultdict(lambda : [])\n",
    "texts = defaultdict(lambda : [])"
   ]
  },
  {
   "cell_type": "code",
   "execution_count": null,
   "metadata": {
    "id": "LTnfoqzkAb7o"
   },
   "outputs": [],
   "source": [
    "for index, row in eng_df.iterrows():\n",
    "  texts[row.userid].append(row.text)\n",
    "  hashtags[row.userid].append(row.hashtags)"
   ]
  },
  {
   "cell_type": "code",
   "execution_count": null,
   "metadata": {
    "colab": {
     "base_uri": "https://localhost:8080/"
    },
    "id": "_HvPzxU6HyVm",
    "outputId": "cbae2fcf-96a1-4094-ae70-6ed865968680"
   },
   "outputs": [
    {
     "name": "stdout",
     "output_type": "stream",
     "text": [
      "['“From where Winston stood it was just possible to read, picked out on it’s white face in elegant lettering, the three slogans of the Party: \\nWAR IS PEACE\\nFREEDOM IS SLAVERY\\nIGNORANCE IS STRENGTH.”\\n\\n@POTUS @WhiteHouse \\n#Ukraine']\n",
      "_________________________________________________\n",
      "[\"[{'text': 'Ukraine', 'indices': [218, 226]}]\"]\n"
     ]
    }
   ],
   "source": [
    "print(texts[1054170412194553857])\n",
    "print(\"_________________________________________________\")\n",
    "print(hashtags[1054170412194553857])"
   ]
  },
  {
   "cell_type": "code",
   "execution_count": null,
   "metadata": {
    "colab": {
     "base_uri": "https://localhost:8080/",
     "height": 182
    },
    "id": "tpsIxNuL2B-L",
    "outputId": "ba04a028-2d26-4dcd-c437-d268c16b6db4"
   },
   "outputs": [
    {
     "ename": "KeyboardInterrupt",
     "evalue": "ignored",
     "output_type": "error",
     "traceback": [
      "\u001b[0;31m---------------------------------------------------------------------------\u001b[0m",
      "\u001b[0;31mKeyboardInterrupt\u001b[0m                         Traceback (most recent call last)",
      "\u001b[0;32m<ipython-input-31-648a2bab0435>\u001b[0m in \u001b[0;36m<module>\u001b[0;34m()\u001b[0m\n\u001b[1;32m      1\u001b[0m \u001b[0;32mwhile\u001b[0m \u001b[0;32mTrue\u001b[0m\u001b[0;34m:\u001b[0m\u001b[0;34m\u001b[0m\u001b[0;34m\u001b[0m\u001b[0m\n\u001b[0;32m----> 2\u001b[0;31m   \u001b[0;32mpass\u001b[0m\u001b[0;34m\u001b[0m\u001b[0;34m\u001b[0m\u001b[0m\n\u001b[0m",
      "\u001b[0;31mKeyboardInterrupt\u001b[0m: "
     ]
    }
   ],
   "source": [
    "while True:\n",
    "  pass"
   ]
  },
  {
   "cell_type": "code",
   "execution_count": null,
   "metadata": {
    "id": "45b-RVkl2D7f"
   },
   "outputs": [],
   "source": []
  }
 ],
 "metadata": {
  "colab": {
   "collapsed_sections": [],
   "name": "PROGETTO_AMD.ipynb",
   "provenance": []
  },
  "kernelspec": {
   "display_name": "Python 3 (ipykernel)",
   "language": "python",
   "name": "python3"
  },
  "language_info": {
   "codemirror_mode": {
    "name": "ipython",
    "version": 3
   },
   "file_extension": ".py",
   "mimetype": "text/x-python",
   "name": "python",
   "nbconvert_exporter": "python",
   "pygments_lexer": "ipython3",
   "version": "3.7.3"
  }
 },
 "nbformat": 4,
 "nbformat_minor": 1
}
